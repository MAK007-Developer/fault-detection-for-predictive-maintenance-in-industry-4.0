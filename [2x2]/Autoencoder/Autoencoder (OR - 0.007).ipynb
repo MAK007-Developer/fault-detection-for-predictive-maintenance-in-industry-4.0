{
 "cells": [
  {
   "cell_type": "code",
   "execution_count": 1,
   "metadata": {},
   "outputs": [],
   "source": [
    "#importing packages\n",
    "import pandas as pd\n",
    "import numpy as np"
   ]
  },
  {
   "cell_type": "code",
   "execution_count": 2,
   "metadata": {},
   "outputs": [],
   "source": [
    "Dtrain = pd.read_csv(\"TrainingSet (OR - 7).csv\")\n",
    "#Dtrain = Dtrain.iloc[:,0:4].values\n",
    "Dtest = pd.read_csv(\"TestingSet (OR - 7).csv\")"
   ]
  },
  {
   "cell_type": "code",
   "execution_count": 3,
   "metadata": {},
   "outputs": [
    {
     "data": {
      "text/plain": [
       "Normal                 96896\n",
       "Outer Race (0.007\")    96896\n",
       "Name: Bearing, dtype: int64"
      ]
     },
     "execution_count": 3,
     "metadata": {},
     "output_type": "execute_result"
    }
   ],
   "source": [
    "Dtrain[\"Bearing\"].value_counts()"
   ]
  },
  {
   "cell_type": "code",
   "execution_count": 4,
   "metadata": {},
   "outputs": [
    {
     "data": {
      "text/plain": [
       "Normal                 50.0\n",
       "Outer Race (0.007\")    50.0\n",
       "Name: Bearing, dtype: float64"
      ]
     },
     "execution_count": 4,
     "metadata": {},
     "output_type": "execute_result"
    }
   ],
   "source": [
    "Dtrain[\"Bearing\"].value_counts(normalize=True)*100"
   ]
  },
  {
   "cell_type": "code",
   "execution_count": 5,
   "metadata": {},
   "outputs": [
    {
     "data": {
      "text/plain": [
       "Index(['Bearing', 'Fault Diameter', 'DE', 'FE'], dtype='object')"
      ]
     },
     "execution_count": 5,
     "metadata": {},
     "output_type": "execute_result"
    }
   ],
   "source": [
    "Dtest.columns"
   ]
  },
  {
   "cell_type": "code",
   "execution_count": 6,
   "metadata": {},
   "outputs": [],
   "source": [
    "from sklearn.preprocessing import LabelEncoder, OneHotEncoder\n",
    "from sklearn.compose import ColumnTransformer\n",
    "labelencoder_train = LabelEncoder()\n",
    "Dtrain[\"Bearing\"] = labelencoder_train.fit_transform(Dtrain[\"Bearing\"])\n",
    "ct = ColumnTransformer([(\"Bearing\", OneHotEncoder(), [0])],    remainder = 'passthrough')\n",
    "Dtrain = ct.fit_transform(Dtrain)"
   ]
  },
  {
   "cell_type": "code",
   "execution_count": 7,
   "metadata": {},
   "outputs": [],
   "source": [
    "from sklearn.preprocessing import LabelEncoder, OneHotEncoder\n",
    "from sklearn.compose import ColumnTransformer\n",
    "labelencoder_train = LabelEncoder()\n",
    "Dtest[\"Bearing\"] = labelencoder_train.fit_transform(Dtest[\"Bearing\"])\n",
    "ct = ColumnTransformer([(\"Bearing\", OneHotEncoder(), [0])],    remainder = 'passthrough')\n",
    "Dtest = ct.fit_transform(Dtest)"
   ]
  },
  {
   "cell_type": "code",
   "execution_count": 8,
   "metadata": {},
   "outputs": [],
   "source": [
    "from sklearn.preprocessing import MinMaxScaler\n",
    "scaler = MinMaxScaler()\n",
    "X_train = pd.DataFrame(scaler.fit_transform(Dtrain))\n",
    "# Random shuffle training data\n",
    "X_train.sample(frac=1)\n",
    "\n",
    "X_test = pd.DataFrame(scaler.transform(Dtest))\n",
    "\n"
   ]
  },
  {
   "cell_type": "code",
   "execution_count": 9,
   "metadata": {},
   "outputs": [
    {
     "name": "stderr",
     "output_type": "stream",
     "text": [
      "Using TensorFlow backend.\n"
     ]
    }
   ],
   "source": [
    "from keras.layers import Input, Dropout\n",
    "from keras.layers.core import Dense \n",
    "from keras.models import Model, Sequential, load_model\n",
    "from keras import regularizers"
   ]
  },
  {
   "cell_type": "code",
   "execution_count": 10,
   "metadata": {},
   "outputs": [],
   "source": [
    "import tensorflow as tf\n",
    "from numpy.random import seed\n",
    "seed(10)\n",
    "tf.random.set_seed(10)\n",
    "act_func = 'elu'"
   ]
  },
  {
   "cell_type": "code",
   "execution_count": 11,
   "metadata": {},
   "outputs": [],
   "source": [
    "# Input layer:\n",
    "model=Sequential()\n",
    "# First hidden layer, connected to input vector X. \n",
    "model.add(Dense(6,activation=act_func,\n",
    "                kernel_initializer='glorot_uniform',\n",
    "                kernel_regularizer=regularizers.l2(0.0),\n",
    "                input_shape=(X_train.shape[1],)\n",
    "               )\n",
    "         )\n",
    "\n",
    "model.add(Dense(2,activation=act_func,\n",
    "                kernel_initializer='glorot_uniform'))\n",
    "\n",
    "model.add(Dense(6,activation=act_func,\n",
    "                kernel_initializer='glorot_uniform'))\n",
    "\n",
    "model.add(Dense(X_train.shape[1],\n",
    "                kernel_initializer='glorot_uniform'))\n",
    "\n",
    "model.compile(loss='mse',optimizer='adam', metrics=['accuracy'] )\n",
    "\n",
    "# Train model for 100 epochs, batch size of 10: \n",
    "NUM_EPOCHS=100\n",
    "BATCH_SIZE=100"
   ]
  },
  {
   "cell_type": "code",
   "execution_count": 12,
   "metadata": {},
   "outputs": [
    {
     "name": "stdout",
     "output_type": "stream",
     "text": [
      "Train on 184102 samples, validate on 9690 samples\n",
      "Epoch 1/100\n",
      "184102/184102 [==============================] - 8s 44us/step - loss: 0.0483 - accuracy: 0.7042 - val_loss: 0.0043 - val_accuracy: 0.5140\n",
      "Epoch 2/100\n",
      "184102/184102 [==============================] - 7s 37us/step - loss: 0.0020 - accuracy: 0.7688 - val_loss: 0.0038 - val_accuracy: 0.5473\n",
      "Epoch 3/100\n",
      "184102/184102 [==============================] - 7s 37us/step - loss: 0.0016 - accuracy: 0.7938 - val_loss: 0.0023 - val_accuracy: 0.5777\n",
      "Epoch 4/100\n",
      "184102/184102 [==============================] - 7s 37us/step - loss: 6.5034e-04 - accuracy: 0.8451 - val_loss: 3.7281e-04 - val_accuracy: 0.6220\n",
      "Epoch 5/100\n",
      "184102/184102 [==============================] - 7s 37us/step - loss: 1.5664e-04 - accuracy: 0.7933 - val_loss: 6.1849e-05 - val_accuracy: 0.5528\n",
      "Epoch 6/100\n",
      "184102/184102 [==============================] - 7s 38us/step - loss: 8.4415e-05 - accuracy: 0.8034 - val_loss: 3.5404e-05 - val_accuracy: 0.4356\n",
      "Epoch 7/100\n",
      "184102/184102 [==============================] - 6s 34us/step - loss: 5.8247e-05 - accuracy: 0.7590 - val_loss: 2.7270e-05 - val_accuracy: 0.5803\n",
      "Epoch 8/100\n",
      "184102/184102 [==============================] - 7s 37us/step - loss: 4.4393e-05 - accuracy: 0.7023 - val_loss: 2.6620e-05 - val_accuracy: 0.3149\n",
      "Epoch 9/100\n",
      "184102/184102 [==============================] - 7s 36us/step - loss: 3.8092e-05 - accuracy: 0.7553 - val_loss: 2.1397e-05 - val_accuracy: 0.2034\n",
      "Epoch 10/100\n",
      "184102/184102 [==============================] - 6s 35us/step - loss: 3.3895e-05 - accuracy: 0.7801 - val_loss: 1.6073e-05 - val_accuracy: 0.6215\n",
      "Epoch 11/100\n",
      "184102/184102 [==============================] - 6s 35us/step - loss: 3.0396e-05 - accuracy: 0.7937 - val_loss: 1.3531e-04 - val_accuracy: 0.1660\n",
      "Epoch 12/100\n",
      "184102/184102 [==============================] - 7s 36us/step - loss: 2.7836e-05 - accuracy: 0.8003 - val_loss: 1.1714e-05 - val_accuracy: 0.2520\n",
      "Epoch 13/100\n",
      "184102/184102 [==============================] - 7s 36us/step - loss: 2.5121e-05 - accuracy: 0.8060 - val_loss: 1.1945e-05 - val_accuracy: 0.8265\n",
      "Epoch 14/100\n",
      "184102/184102 [==============================] - 7s 37us/step - loss: 2.3012e-05 - accuracy: 0.8089 - val_loss: 6.0362e-06 - val_accuracy: 0.5058\n",
      "Epoch 15/100\n",
      "184102/184102 [==============================] - 7s 36us/step - loss: 2.1059e-05 - accuracy: 0.8157 - val_loss: 7.0408e-06 - val_accuracy: 0.5135\n",
      "Epoch 16/100\n",
      "184102/184102 [==============================] - 7s 37us/step - loss: 1.9623e-05 - accuracy: 0.8154 - val_loss: 4.4201e-06 - val_accuracy: 0.3317\n",
      "Epoch 17/100\n",
      "184102/184102 [==============================] - 6s 35us/step - loss: 1.8338e-05 - accuracy: 0.8184 - val_loss: 1.2018e-05 - val_accuracy: 0.2701\n",
      "Epoch 18/100\n",
      "184102/184102 [==============================] - 7s 35us/step - loss: 1.7264e-05 - accuracy: 0.8229 - val_loss: 2.9230e-06 - val_accuracy: 0.2097\n",
      "Epoch 19/100\n",
      "184102/184102 [==============================] - 7s 36us/step - loss: 1.6372e-05 - accuracy: 0.8190 - val_loss: 3.7374e-06 - val_accuracy: 0.7669\n",
      "Epoch 20/100\n",
      "184102/184102 [==============================] - 6s 35us/step - loss: 1.5680e-05 - accuracy: 0.8149 - val_loss: 5.7431e-06 - val_accuracy: 0.7293\n",
      "Epoch 21/100\n",
      "184102/184102 [==============================] - 7s 36us/step - loss: 1.4857e-05 - accuracy: 0.8157 - val_loss: 3.5079e-06 - val_accuracy: 0.1510\n",
      "Epoch 22/100\n",
      "184102/184102 [==============================] - 7s 36us/step - loss: 1.4255e-05 - accuracy: 0.8075 - val_loss: 2.3129e-06 - val_accuracy: 0.1317\n",
      "Epoch 23/100\n",
      "184102/184102 [==============================] - 7s 35us/step - loss: 1.3716e-05 - accuracy: 0.8064 - val_loss: 3.7053e-06 - val_accuracy: 0.1360\n",
      "Epoch 24/100\n",
      "184102/184102 [==============================] - 7s 36us/step - loss: 1.3406e-05 - accuracy: 0.7992 - val_loss: 2.5052e-05 - val_accuracy: 0.1033\n",
      "Epoch 25/100\n",
      "184102/184102 [==============================] - 7s 36us/step - loss: 1.2916e-05 - accuracy: 0.7992 - val_loss: 5.1880e-06 - val_accuracy: 0.1100\n",
      "Epoch 26/100\n",
      "184102/184102 [==============================] - 7s 36us/step - loss: 1.2568e-05 - accuracy: 0.7930 - val_loss: 1.0703e-05 - val_accuracy: 0.2439\n",
      "Epoch 27/100\n",
      "184102/184102 [==============================] - 7s 36us/step - loss: 1.2132e-05 - accuracy: 0.7913 - val_loss: 3.3991e-06 - val_accuracy: 0.0835\n",
      "Epoch 28/100\n",
      "184102/184102 [==============================] - 7s 35us/step - loss: 1.1988e-05 - accuracy: 0.7912 - val_loss: 5.7466e-06 - val_accuracy: 0.9246\n",
      "Epoch 29/100\n",
      "184102/184102 [==============================] - 7s 36us/step - loss: 1.1740e-05 - accuracy: 0.7904 - val_loss: 1.0893e-05 - val_accuracy: 0.9153\n",
      "Epoch 30/100\n",
      "184102/184102 [==============================] - 6s 35us/step - loss: 1.1432e-05 - accuracy: 0.7920 - val_loss: 2.9435e-06 - val_accuracy: 0.7445\n",
      "Epoch 31/100\n",
      "184102/184102 [==============================] - 6s 35us/step - loss: 1.1004e-05 - accuracy: 0.7912 - val_loss: 4.1211e-05 - val_accuracy: 0.7109\n",
      "Epoch 32/100\n",
      "184102/184102 [==============================] - 7s 36us/step - loss: 1.0845e-05 - accuracy: 0.7961 - val_loss: 4.6561e-06 - val_accuracy: 0.8502\n",
      "Epoch 33/100\n",
      "184102/184102 [==============================] - 7s 35us/step - loss: 1.0509e-05 - accuracy: 0.7985 - val_loss: 1.5204e-05 - val_accuracy: 0.1485\n",
      "Epoch 34/100\n",
      "184102/184102 [==============================] - 7s 37us/step - loss: 1.0314e-05 - accuracy: 0.8017 - val_loss: 3.3053e-06 - val_accuracy: 0.1430\n",
      "Epoch 35/100\n",
      "184102/184102 [==============================] - 7s 37us/step - loss: 1.0104e-05 - accuracy: 0.8024 - val_loss: 5.0255e-06 - val_accuracy: 0.8221\n",
      "Epoch 36/100\n",
      "184102/184102 [==============================] - 7s 37us/step - loss: 9.8354e-06 - accuracy: 0.8071 - val_loss: 3.8631e-05 - val_accuracy: 0.7723\n",
      "Epoch 37/100\n",
      "184102/184102 [==============================] - 7s 36us/step - loss: 9.7833e-06 - accuracy: 0.8106 - val_loss: 1.0833e-05 - val_accuracy: 0.8406\n",
      "Epoch 38/100\n",
      "184102/184102 [==============================] - 7s 38us/step - loss: 9.4318e-06 - accuracy: 0.8084 - val_loss: 3.0395e-06 - val_accuracy: 0.7812\n",
      "Epoch 39/100\n",
      "184102/184102 [==============================] - 7s 38us/step - loss: 9.2110e-06 - accuracy: 0.8090 - val_loss: 2.3415e-06 - val_accuracy: 0.1562\n",
      "Epoch 40/100\n",
      "184102/184102 [==============================] - 7s 36us/step - loss: 8.9091e-06 - accuracy: 0.8107 - val_loss: 3.6276e-06 - val_accuracy: 0.4229\n",
      "Epoch 41/100\n",
      "184102/184102 [==============================] - 7s 37us/step - loss: 8.8244e-06 - accuracy: 0.8126 - val_loss: 4.9641e-05 - val_accuracy: 0.6445\n",
      "Epoch 42/100\n",
      "184102/184102 [==============================] - 7s 36us/step - loss: 8.5845e-06 - accuracy: 0.8101 - val_loss: 3.0478e-06 - val_accuracy: 0.2370\n",
      "Epoch 43/100\n",
      "184102/184102 [==============================] - 7s 36us/step - loss: 8.4320e-06 - accuracy: 0.8086 - val_loss: 1.8070e-05 - val_accuracy: 0.8521\n",
      "Epoch 44/100\n",
      "184102/184102 [==============================] - 7s 36us/step - loss: 8.2078e-06 - accuracy: 0.8107 - val_loss: 2.6269e-06 - val_accuracy: 0.3973\n",
      "Epoch 45/100\n",
      "184102/184102 [==============================] - 6s 35us/step - loss: 7.9862e-06 - accuracy: 0.8118 - val_loss: 8.4596e-06 - val_accuracy: 0.1864\n",
      "Epoch 46/100\n",
      "184102/184102 [==============================] - 7s 36us/step - loss: 7.9231e-06 - accuracy: 0.8110 - val_loss: 3.3055e-06 - val_accuracy: 0.5935\n",
      "Epoch 47/100\n",
      "184102/184102 [==============================] - 7s 37us/step - loss: 7.5992e-06 - accuracy: 0.8127 - val_loss: 2.2698e-06 - val_accuracy: 0.5608\n",
      "Epoch 48/100\n",
      "184102/184102 [==============================] - 7s 37us/step - loss: 7.5473e-06 - accuracy: 0.8129 - val_loss: 1.4957e-05 - val_accuracy: 0.5581\n",
      "Epoch 49/100\n",
      "184102/184102 [==============================] - 7s 37us/step - loss: 7.3811e-06 - accuracy: 0.8132 - val_loss: 4.1596e-05 - val_accuracy: 0.5716\n",
      "Epoch 50/100\n",
      "184102/184102 [==============================] - 7s 38us/step - loss: 7.2062e-06 - accuracy: 0.8141 - val_loss: 3.7153e-06 - val_accuracy: 0.5856\n",
      "Epoch 51/100\n",
      "184102/184102 [==============================] - 7s 37us/step - loss: 7.0262e-06 - accuracy: 0.8124 - val_loss: 4.8697e-06 - val_accuracy: 0.6406\n",
      "Epoch 52/100\n"
     ]
    },
    {
     "name": "stdout",
     "output_type": "stream",
     "text": [
      "184102/184102 [==============================] - 7s 36us/step - loss: 6.9085e-06 - accuracy: 0.8143 - val_loss: 1.9780e-06 - val_accuracy: 0.8386\n",
      "Epoch 53/100\n",
      "184102/184102 [==============================] - 7s 37us/step - loss: 6.8290e-06 - accuracy: 0.8165 - val_loss: 2.1612e-06 - val_accuracy: 0.6154\n",
      "Epoch 54/100\n",
      "184102/184102 [==============================] - 7s 36us/step - loss: 6.6983e-06 - accuracy: 0.8165 - val_loss: 9.9823e-06 - val_accuracy: 0.7084\n",
      "Epoch 55/100\n",
      "184102/184102 [==============================] - 7s 36us/step - loss: 6.4817e-06 - accuracy: 0.8180 - val_loss: 1.7248e-06 - val_accuracy: 0.3916\n",
      "Epoch 56/100\n",
      "184102/184102 [==============================] - 7s 37us/step - loss: 6.4052e-06 - accuracy: 0.8198 - val_loss: 3.2168e-06 - val_accuracy: 0.7963\n",
      "Epoch 57/100\n",
      "184102/184102 [==============================] - 7s 37us/step - loss: 6.2670e-06 - accuracy: 0.8216 - val_loss: 3.2176e-06 - val_accuracy: 0.7183\n",
      "Epoch 58/100\n",
      "184102/184102 [==============================] - 8s 41us/step - loss: 6.1483e-06 - accuracy: 0.8231 - val_loss: 4.6869e-06 - val_accuracy: 0.5392\n",
      "Epoch 59/100\n",
      "184102/184102 [==============================] - 7s 38us/step - loss: 6.0496e-06 - accuracy: 0.8256 - val_loss: 1.6223e-05 - val_accuracy: 0.7715\n",
      "Epoch 60/100\n",
      "184102/184102 [==============================] - 7s 38us/step - loss: 5.9906e-06 - accuracy: 0.8248 - val_loss: 1.6426e-06 - val_accuracy: 0.7361\n",
      "Epoch 61/100\n",
      "184102/184102 [==============================] - 7s 37us/step - loss: 5.9397e-06 - accuracy: 0.8253 - val_loss: 1.7998e-06 - val_accuracy: 0.5143\n",
      "Epoch 62/100\n",
      "184102/184102 [==============================] - 7s 37us/step - loss: 5.8421e-06 - accuracy: 0.8258 - val_loss: 2.0304e-06 - val_accuracy: 0.5284\n",
      "Epoch 63/100\n",
      "184102/184102 [==============================] - 6s 35us/step - loss: 5.7060e-06 - accuracy: 0.8288 - val_loss: 3.9614e-06 - val_accuracy: 0.7153\n",
      "Epoch 64/100\n",
      "184102/184102 [==============================] - 6s 35us/step - loss: 5.5843e-06 - accuracy: 0.8280 - val_loss: 9.3586e-06 - val_accuracy: 0.8414\n",
      "Epoch 65/100\n",
      "184102/184102 [==============================] - 7s 37us/step - loss: 5.5777e-06 - accuracy: 0.8306 - val_loss: 2.0287e-06 - val_accuracy: 0.5140\n",
      "Epoch 66/100\n",
      "184102/184102 [==============================] - 7s 38us/step - loss: 5.4283e-06 - accuracy: 0.8314 - val_loss: 2.6995e-06 - val_accuracy: 0.5003\n",
      "Epoch 67/100\n",
      "184102/184102 [==============================] - 7s 36us/step - loss: 5.3536e-06 - accuracy: 0.8319 - val_loss: 2.1591e-06 - val_accuracy: 0.5563\n",
      "Epoch 68/100\n",
      "184102/184102 [==============================] - 7s 37us/step - loss: 5.2976e-06 - accuracy: 0.8323 - val_loss: 1.7888e-06 - val_accuracy: 0.5056\n",
      "Epoch 69/100\n",
      "184102/184102 [==============================] - 6s 35us/step - loss: 5.3172e-06 - accuracy: 0.8327 - val_loss: 1.1375e-05 - val_accuracy: 0.7766\n",
      "Epoch 70/100\n",
      "184102/184102 [==============================] - 7s 37us/step - loss: 5.1918e-06 - accuracy: 0.8324 - val_loss: 1.7058e-05 - val_accuracy: 0.7717\n",
      "Epoch 71/100\n",
      "184102/184102 [==============================] - 7s 36us/step - loss: 5.0697e-06 - accuracy: 0.8337 - val_loss: 2.3526e-06 - val_accuracy: 0.6654\n",
      "Epoch 72/100\n",
      "184102/184102 [==============================] - 7s 37us/step - loss: 5.0689e-06 - accuracy: 0.8337 - val_loss: 1.4426e-06 - val_accuracy: 0.7570\n",
      "Epoch 73/100\n",
      "184102/184102 [==============================] - 7s 37us/step - loss: 5.0914e-06 - accuracy: 0.8344 - val_loss: 2.2255e-05 - val_accuracy: 0.7596\n",
      "Epoch 74/100\n",
      "184102/184102 [==============================] - 7s 37us/step - loss: 4.8767e-06 - accuracy: 0.8348 - val_loss: 1.4656e-06 - val_accuracy: 0.3792\n",
      "Epoch 75/100\n",
      "184102/184102 [==============================] - 6s 35us/step - loss: 4.9356e-06 - accuracy: 0.8339 - val_loss: 1.9119e-06 - val_accuracy: 0.5805\n",
      "Epoch 76/100\n",
      "184102/184102 [==============================] - 7s 37us/step - loss: 4.7765e-06 - accuracy: 0.8375 - val_loss: 9.4299e-05 - val_accuracy: 0.7073\n",
      "Epoch 77/100\n",
      "184102/184102 [==============================] - 7s 37us/step - loss: 4.9515e-06 - accuracy: 0.8364 - val_loss: 1.5964e-06 - val_accuracy: 0.6648\n",
      "Epoch 78/100\n",
      "184102/184102 [==============================] - 7s 37us/step - loss: 4.7052e-06 - accuracy: 0.8371 - val_loss: 6.2341e-06 - val_accuracy: 0.6862\n",
      "Epoch 79/100\n",
      "184102/184102 [==============================] - 6s 35us/step - loss: 4.7225e-06 - accuracy: 0.8383 - val_loss: 1.2024e-05 - val_accuracy: 0.4119\n",
      "Epoch 80/100\n",
      "184102/184102 [==============================] - 7s 37us/step - loss: 4.5944e-06 - accuracy: 0.8369 - val_loss: 1.5303e-06 - val_accuracy: 0.5502\n",
      "Epoch 81/100\n",
      "184102/184102 [==============================] - 7s 36us/step - loss: 4.5775e-06 - accuracy: 0.8381 - val_loss: 2.5474e-06 - val_accuracy: 0.7518\n",
      "Epoch 82/100\n",
      "184102/184102 [==============================] - 7s 36us/step - loss: 4.5666e-06 - accuracy: 0.8385 - val_loss: 6.5076e-06 - val_accuracy: 0.3781\n",
      "Epoch 83/100\n",
      "184102/184102 [==============================] - 7s 39us/step - loss: 4.3588e-06 - accuracy: 0.8397 - val_loss: 2.3093e-05 - val_accuracy: 0.2825\n",
      "Epoch 84/100\n",
      "184102/184102 [==============================] - 7s 41us/step - loss: 4.4825e-06 - accuracy: 0.8400 - val_loss: 1.1864e-06 - val_accuracy: 0.6029\n",
      "Epoch 85/100\n",
      "184102/184102 [==============================] - 7s 36us/step - loss: 4.2951e-06 - accuracy: 0.8398 - val_loss: 1.6292e-06 - val_accuracy: 0.5282\n",
      "Epoch 86/100\n",
      "184102/184102 [==============================] - 7s 37us/step - loss: 4.4302e-06 - accuracy: 0.8391 - val_loss: 2.7206e-06 - val_accuracy: 0.6635\n",
      "Epoch 87/100\n",
      "184102/184102 [==============================] - 7s 38us/step - loss: 4.2792e-06 - accuracy: 0.8396 - val_loss: 1.3609e-06 - val_accuracy: 0.5854\n",
      "Epoch 88/100\n",
      "184102/184102 [==============================] - 7s 38us/step - loss: 4.1513e-06 - accuracy: 0.8401 - val_loss: 1.1583e-06 - val_accuracy: 0.5474\n",
      "Epoch 89/100\n",
      "184102/184102 [==============================] - 7s 37us/step - loss: 4.1601e-06 - accuracy: 0.8409 - val_loss: 1.3446e-06 - val_accuracy: 0.7418\n",
      "Epoch 90/100\n",
      "184102/184102 [==============================] - 7s 37us/step - loss: 4.1050e-06 - accuracy: 0.8415 - val_loss: 1.0356e-06 - val_accuracy: 0.6619\n",
      "Epoch 91/100\n",
      "184102/184102 [==============================] - 7s 37us/step - loss: 4.0946e-06 - accuracy: 0.8417 - val_loss: 1.0643e-05 - val_accuracy: 0.6771\n",
      "Epoch 92/100\n",
      "184102/184102 [==============================] - 7s 37us/step - loss: 4.0625e-06 - accuracy: 0.8405 - val_loss: 3.9923e-05 - val_accuracy: 0.6632\n",
      "Epoch 93/100\n",
      "184102/184102 [==============================] - 7s 37us/step - loss: 4.0510e-06 - accuracy: 0.8417 - val_loss: 3.1156e-06 - val_accuracy: 0.5894\n",
      "Epoch 94/100\n",
      "184102/184102 [==============================] - 7s 36us/step - loss: 3.9228e-06 - accuracy: 0.8427 - val_loss: 3.8527e-06 - val_accuracy: 0.7062\n",
      "Epoch 95/100\n",
      "184102/184102 [==============================] - 6s 35us/step - loss: 4.0010e-06 - accuracy: 0.8429 - val_loss: 2.4752e-06 - val_accuracy: 0.5245\n",
      "Epoch 96/100\n",
      "184102/184102 [==============================] - 7s 36us/step - loss: 3.9653e-06 - accuracy: 0.8429 - val_loss: 1.9798e-06 - val_accuracy: 0.6828\n",
      "Epoch 97/100\n",
      "184102/184102 [==============================] - 7s 37us/step - loss: 3.8110e-06 - accuracy: 0.8428 - val_loss: 9.5479e-06 - val_accuracy: 0.5387\n",
      "Epoch 98/100\n",
      "184102/184102 [==============================] - 7s 36us/step - loss: 3.8981e-06 - accuracy: 0.8433 - val_loss: 3.0146e-06 - val_accuracy: 0.5762\n",
      "Epoch 99/100\n",
      "184102/184102 [==============================] - 6s 33us/step - loss: 3.7746e-06 - accuracy: 0.8410 - val_loss: 2.6945e-05 - val_accuracy: 0.6784\n",
      "Epoch 100/100\n",
      "184102/184102 [==============================] - 5s 25us/step - loss: 3.7614e-06 - accuracy: 0.8432 - val_loss: 1.7784e-06 - val_accuracy: 0.6958\n"
     ]
    }
   ],
   "source": [
    "history=model.fit(np.array(X_train),np.array(X_train),\n",
    "                  batch_size=BATCH_SIZE, \n",
    "                  epochs=NUM_EPOCHS,\n",
    "                  validation_split=0.05,\n",
    "                  verbose = 1)"
   ]
  },
  {
   "cell_type": "code",
   "execution_count": 13,
   "metadata": {},
   "outputs": [
    {
     "data": {
      "image/png": "[encoded data removed]",
      "text/plain": [
       "<Figure size 432x288 with 1 Axes>"
      ]
     },
     "metadata": {
      "needs_background": "light"
     },
     "output_type": "display_data"
    }
   ],
   "source": [
    "import matplotlib.pyplot as plt\n",
    "\n",
    "plt.plot(history.history['loss'], 'b', label='Training loss')\n",
    "plt.plot(history.history['val_loss'], 'r', label='Validation loss')\n",
    "plt.legend(loc='upper right')\n",
    "plt.xlabel('Epochs')\n",
    "plt.ylabel('Loss, [mse]')\n",
    "plt.ylim([0,.05])\n",
    "plt.show()"
   ]
  },
  {
   "cell_type": "code",
   "execution_count": 14,
   "metadata": {},
   "outputs": [
    {
     "data": {
      "image/png": "[encoded data removed]",
      "text/plain": [
       "<Figure size 432x288 with 1 Axes>"
      ]
     },
     "metadata": {
      "needs_background": "light"
     },
     "output_type": "display_data"
    }
   ],
   "source": [
    "X_pred = model.predict(np.array(X_train))\n",
    "\n",
    "import seaborn as sns\n",
    "\n",
    "scored = np.mean(np.abs(X_pred-X_train), axis = 1)\n",
    "plt.figure()\n",
    "sns.distplot(scored, bins = 10, kde= True, color = 'blue');\n",
    "plt.xlim([0.0,.02])\n",
    "plt.show()"
   ]
  },
  {
   "cell_type": "code",
   "execution_count": 15,
   "metadata": {},
   "outputs": [
    {
     "data": {
      "text/html": [
       "<div>\n",
       "<style scoped>\n",
       "    .dataframe tbody tr th:only-of-type {\n",
       "        vertical-align: middle;\n",
       "    }\n",
       "\n",
       "    .dataframe tbody tr th {\n",
       "        vertical-align: top;\n",
       "    }\n",
       "\n",
       "    .dataframe thead th {\n",
       "        text-align: right;\n",
       "    }\n",
       "</style>\n",
       "<table border=\"1\" class=\"dataframe\">\n",
       "  <thead>\n",
       "    <tr style=\"text-align: right;\">\n",
       "      <th></th>\n",
       "      <th>Loss_mae</th>\n",
       "      <th>Threshold</th>\n",
       "      <th>Anomaly</th>\n",
       "    </tr>\n",
       "  </thead>\n",
       "  <tbody>\n",
       "    <tr>\n",
       "      <th>13002</th>\n",
       "      <td>0.000702</td>\n",
       "      <td>0.0075</td>\n",
       "      <td>False</td>\n",
       "    </tr>\n",
       "    <tr>\n",
       "      <th>22845</th>\n",
       "      <td>0.002828</td>\n",
       "      <td>0.0075</td>\n",
       "      <td>False</td>\n",
       "    </tr>\n",
       "    <tr>\n",
       "      <th>10961</th>\n",
       "      <td>0.001027</td>\n",
       "      <td>0.0075</td>\n",
       "      <td>False</td>\n",
       "    </tr>\n",
       "    <tr>\n",
       "      <th>15502</th>\n",
       "      <td>0.002620</td>\n",
       "      <td>0.0075</td>\n",
       "      <td>False</td>\n",
       "    </tr>\n",
       "    <tr>\n",
       "      <th>40374</th>\n",
       "      <td>0.000881</td>\n",
       "      <td>0.0075</td>\n",
       "      <td>False</td>\n",
       "    </tr>\n",
       "    <tr>\n",
       "      <th>...</th>\n",
       "      <td>...</td>\n",
       "      <td>...</td>\n",
       "      <td>...</td>\n",
       "    </tr>\n",
       "    <tr>\n",
       "      <th>41453</th>\n",
       "      <td>0.000838</td>\n",
       "      <td>0.0075</td>\n",
       "      <td>False</td>\n",
       "    </tr>\n",
       "    <tr>\n",
       "      <th>13961</th>\n",
       "      <td>0.002547</td>\n",
       "      <td>0.0075</td>\n",
       "      <td>False</td>\n",
       "    </tr>\n",
       "    <tr>\n",
       "      <th>23069</th>\n",
       "      <td>0.001197</td>\n",
       "      <td>0.0075</td>\n",
       "      <td>False</td>\n",
       "    </tr>\n",
       "    <tr>\n",
       "      <th>40604</th>\n",
       "      <td>0.000962</td>\n",
       "      <td>0.0075</td>\n",
       "      <td>False</td>\n",
       "    </tr>\n",
       "    <tr>\n",
       "      <th>44594</th>\n",
       "      <td>0.000743</td>\n",
       "      <td>0.0075</td>\n",
       "      <td>False</td>\n",
       "    </tr>\n",
       "  </tbody>\n",
       "</table>\n",
       "<p>100 rows × 3 columns</p>\n",
       "</div>"
      ],
      "text/plain": [
       "       Loss_mae  Threshold  Anomaly\n",
       "13002  0.000702     0.0075    False\n",
       "22845  0.002828     0.0075    False\n",
       "10961  0.001027     0.0075    False\n",
       "15502  0.002620     0.0075    False\n",
       "40374  0.000881     0.0075    False\n",
       "...         ...        ...      ...\n",
       "41453  0.000838     0.0075    False\n",
       "13961  0.002547     0.0075    False\n",
       "23069  0.001197     0.0075    False\n",
       "40604  0.000962     0.0075    False\n",
       "44594  0.000743     0.0075    False\n",
       "\n",
       "[100 rows x 3 columns]"
      ]
     },
     "execution_count": 15,
     "metadata": {},
     "output_type": "execute_result"
    }
   ],
   "source": [
    "X_pred = model.predict(np.array(X_test))\n",
    "\n",
    "scored = pd.DataFrame()\n",
    "scored['Loss_mae'] = np.mean(np.abs(X_pred-X_test), axis = 1)\n",
    "scored['Threshold'] = 0.0075\n",
    "scored['Anomaly'] = scored['Loss_mae'] > scored['Threshold']\n",
    "scored.sample(100)"
   ]
  },
  {
   "cell_type": "code",
   "execution_count": 16,
   "metadata": {},
   "outputs": [],
   "source": [
    "X_pred_train = model.predict(np.array(X_train))\n",
    "X_pred_train = pd.DataFrame(X_pred_train)\n",
    "\n",
    "scored_train = pd.DataFrame()\n",
    "scored_train['Loss_mae'] = np.mean(np.abs(X_pred_train-X_train), axis = 1)\n",
    "scored_train['Threshold'] = 0.0075\n",
    "scored_train['Anomaly'] = scored_train['Loss_mae'] > scored_train['Threshold']\n",
    "scored = pd.concat([scored_train, scored])"
   ]
  },
  {
   "cell_type": "code",
   "execution_count": 17,
   "metadata": {},
   "outputs": [
    {
     "data": {
      "text/plain": [
       "<matplotlib.axes._subplots.AxesSubplot at 0x2ddfc762988>"
      ]
     },
     "execution_count": 17,
     "metadata": {},
     "output_type": "execute_result"
    },
    {
     "data": {
      "image/png": "[encoded data removed]",
      "text/plain": [
       "<Figure size 720x432 with 1 Axes>"
      ]
     },
     "metadata": {
      "needs_background": "light"
     },
     "output_type": "display_data"
    }
   ],
   "source": [
    "scored.plot(logy=True,  figsize = (10,6), xlim =[0,1000], ylim = [1e-4,1e-1], color = ['blue','red'])"
   ]
  },
  {
   "cell_type": "code",
   "execution_count": 18,
   "metadata": {},
   "outputs": [
    {
     "data": {
      "text/plain": [
       "0.0016400653409950666"
      ]
     },
     "execution_count": 18,
     "metadata": {},
     "output_type": "execute_result"
    }
   ],
   "source": [
    "scored_train['Loss_mae'].mean()"
   ]
  },
  {
   "cell_type": "code",
   "execution_count": 19,
   "metadata": {},
   "outputs": [
    {
     "data": {
      "text/html": [
       "<div>\n",
       "<style scoped>\n",
       "    .dataframe tbody tr th:only-of-type {\n",
       "        vertical-align: middle;\n",
       "    }\n",
       "\n",
       "    .dataframe tbody tr th {\n",
       "        vertical-align: top;\n",
       "    }\n",
       "\n",
       "    .dataframe thead th {\n",
       "        text-align: right;\n",
       "    }\n",
       "</style>\n",
       "<table border=\"1\" class=\"dataframe\">\n",
       "  <thead>\n",
       "    <tr style=\"text-align: right;\">\n",
       "      <th></th>\n",
       "      <th>Loss_mae</th>\n",
       "      <th>Threshold</th>\n",
       "      <th>Anomaly</th>\n",
       "    </tr>\n",
       "  </thead>\n",
       "  <tbody>\n",
       "    <tr>\n",
       "      <th>0</th>\n",
       "      <td>0.000439</td>\n",
       "      <td>0.0075</td>\n",
       "      <td>False</td>\n",
       "    </tr>\n",
       "    <tr>\n",
       "      <th>1</th>\n",
       "      <td>0.000358</td>\n",
       "      <td>0.0075</td>\n",
       "      <td>False</td>\n",
       "    </tr>\n",
       "    <tr>\n",
       "      <th>2</th>\n",
       "      <td>0.001786</td>\n",
       "      <td>0.0075</td>\n",
       "      <td>False</td>\n",
       "    </tr>\n",
       "    <tr>\n",
       "      <th>3</th>\n",
       "      <td>0.002613</td>\n",
       "      <td>0.0075</td>\n",
       "      <td>False</td>\n",
       "    </tr>\n",
       "    <tr>\n",
       "      <th>4</th>\n",
       "      <td>0.002574</td>\n",
       "      <td>0.0075</td>\n",
       "      <td>False</td>\n",
       "    </tr>\n",
       "    <tr>\n",
       "      <th>...</th>\n",
       "      <td>...</td>\n",
       "      <td>...</td>\n",
       "      <td>...</td>\n",
       "    </tr>\n",
       "    <tr>\n",
       "      <th>193787</th>\n",
       "      <td>0.000709</td>\n",
       "      <td>0.0075</td>\n",
       "      <td>False</td>\n",
       "    </tr>\n",
       "    <tr>\n",
       "      <th>193788</th>\n",
       "      <td>0.000812</td>\n",
       "      <td>0.0075</td>\n",
       "      <td>False</td>\n",
       "    </tr>\n",
       "    <tr>\n",
       "      <th>193789</th>\n",
       "      <td>0.000875</td>\n",
       "      <td>0.0075</td>\n",
       "      <td>False</td>\n",
       "    </tr>\n",
       "    <tr>\n",
       "      <th>193790</th>\n",
       "      <td>0.000767</td>\n",
       "      <td>0.0075</td>\n",
       "      <td>False</td>\n",
       "    </tr>\n",
       "    <tr>\n",
       "      <th>193791</th>\n",
       "      <td>0.000660</td>\n",
       "      <td>0.0075</td>\n",
       "      <td>False</td>\n",
       "    </tr>\n",
       "  </tbody>\n",
       "</table>\n",
       "<p>193792 rows × 3 columns</p>\n",
       "</div>"
      ],
      "text/plain": [
       "        Loss_mae  Threshold  Anomaly\n",
       "0       0.000439     0.0075    False\n",
       "1       0.000358     0.0075    False\n",
       "2       0.001786     0.0075    False\n",
       "3       0.002613     0.0075    False\n",
       "4       0.002574     0.0075    False\n",
       "...          ...        ...      ...\n",
       "193787  0.000709     0.0075    False\n",
       "193788  0.000812     0.0075    False\n",
       "193789  0.000875     0.0075    False\n",
       "193790  0.000767     0.0075    False\n",
       "193791  0.000660     0.0075    False\n",
       "\n",
       "[193792 rows x 3 columns]"
      ]
     },
     "execution_count": 19,
     "metadata": {},
     "output_type": "execute_result"
    }
   ],
   "source": [
    "scored_train"
   ]
  },
  {
   "cell_type": "code",
   "execution_count": 20,
   "metadata": {},
   "outputs": [
    {
     "data": {
      "text/html": [
       "<div>\n",
       "<style scoped>\n",
       "    .dataframe tbody tr th:only-of-type {\n",
       "        vertical-align: middle;\n",
       "    }\n",
       "\n",
       "    .dataframe tbody tr th {\n",
       "        vertical-align: top;\n",
       "    }\n",
       "\n",
       "    .dataframe thead th {\n",
       "        text-align: right;\n",
       "    }\n",
       "</style>\n",
       "<table border=\"1\" class=\"dataframe\">\n",
       "  <thead>\n",
       "    <tr style=\"text-align: right;\">\n",
       "      <th></th>\n",
       "      <th>Loss_mae</th>\n",
       "      <th>Threshold</th>\n",
       "      <th>Anomaly</th>\n",
       "    </tr>\n",
       "  </thead>\n",
       "  <tbody>\n",
       "    <tr>\n",
       "      <th>2234</th>\n",
       "      <td>0.008382</td>\n",
       "      <td>0.0075</td>\n",
       "      <td>True</td>\n",
       "    </tr>\n",
       "    <tr>\n",
       "      <th>2235</th>\n",
       "      <td>0.008715</td>\n",
       "      <td>0.0075</td>\n",
       "      <td>True</td>\n",
       "    </tr>\n",
       "    <tr>\n",
       "      <th>2236</th>\n",
       "      <td>0.007596</td>\n",
       "      <td>0.0075</td>\n",
       "      <td>True</td>\n",
       "    </tr>\n",
       "    <tr>\n",
       "      <th>3023</th>\n",
       "      <td>0.008223</td>\n",
       "      <td>0.0075</td>\n",
       "      <td>True</td>\n",
       "    </tr>\n",
       "    <tr>\n",
       "      <th>3024</th>\n",
       "      <td>0.007716</td>\n",
       "      <td>0.0075</td>\n",
       "      <td>True</td>\n",
       "    </tr>\n",
       "    <tr>\n",
       "      <th>...</th>\n",
       "      <td>...</td>\n",
       "      <td>...</td>\n",
       "      <td>...</td>\n",
       "    </tr>\n",
       "    <tr>\n",
       "      <th>95152</th>\n",
       "      <td>0.007579</td>\n",
       "      <td>0.0075</td>\n",
       "      <td>True</td>\n",
       "    </tr>\n",
       "    <tr>\n",
       "      <th>95294</th>\n",
       "      <td>0.008113</td>\n",
       "      <td>0.0075</td>\n",
       "      <td>True</td>\n",
       "    </tr>\n",
       "    <tr>\n",
       "      <th>95295</th>\n",
       "      <td>0.008474</td>\n",
       "      <td>0.0075</td>\n",
       "      <td>True</td>\n",
       "    </tr>\n",
       "    <tr>\n",
       "      <th>96117</th>\n",
       "      <td>0.008274</td>\n",
       "      <td>0.0075</td>\n",
       "      <td>True</td>\n",
       "    </tr>\n",
       "    <tr>\n",
       "      <th>96893</th>\n",
       "      <td>0.007808</td>\n",
       "      <td>0.0075</td>\n",
       "      <td>True</td>\n",
       "    </tr>\n",
       "  </tbody>\n",
       "</table>\n",
       "<p>116 rows × 3 columns</p>\n",
       "</div>"
      ],
      "text/plain": [
       "       Loss_mae  Threshold  Anomaly\n",
       "2234   0.008382     0.0075     True\n",
       "2235   0.008715     0.0075     True\n",
       "2236   0.007596     0.0075     True\n",
       "3023   0.008223     0.0075     True\n",
       "3024   0.007716     0.0075     True\n",
       "...         ...        ...      ...\n",
       "95152  0.007579     0.0075     True\n",
       "95294  0.008113     0.0075     True\n",
       "95295  0.008474     0.0075     True\n",
       "96117  0.008274     0.0075     True\n",
       "96893  0.007808     0.0075     True\n",
       "\n",
       "[116 rows x 3 columns]"
      ]
     },
     "execution_count": 20,
     "metadata": {},
     "output_type": "execute_result"
    }
   ],
   "source": [
    "scored_train[scored_train['Anomaly'] == True]"
   ]
  }
 ],
 "metadata": {
  "kernelspec": {
   "display_name": "Python 3",
   "language": "python",
   "name": "python3"
  },
  "language_info": {
   "codemirror_mode": {
    "name": "ipython",
    "version": 3
   },
   "file_extension": ".py",
   "mimetype": "text/x-python",
   "name": "python",
   "nbconvert_exporter": "python",
   "pygments_lexer": "ipython3",
   "version": "3.7.4"
  }
 },
 "nbformat": 4,
 "nbformat_minor": 4
}
