{
 "cells": [
  {
   "cell_type": "code",
   "execution_count": 1,
   "metadata": {},
   "outputs": [],
   "source": [
    "#importing packages\n",
    "import pandas as pd\n",
    "import numpy as np"
   ]
  },
  {
   "cell_type": "code",
   "execution_count": 2,
   "metadata": {},
   "outputs": [],
   "source": [
    "Dtrain = pd.read_csv(\"TrainingSet (OR - 7).csv\")\n",
    "#Dtrain = Dtrain.iloc[:,0:4].values\n",
    "Dtest = pd.read_csv(\"TestingSet (OR - 7).csv\")"
   ]
  },
  {
   "cell_type": "code",
   "execution_count": 3,
   "metadata": {},
   "outputs": [
    {
     "data": {
      "text/plain": [
       "Normal                 96896\n",
       "Outer Race (0.007\")    96896\n",
       "Name: Bearing, dtype: int64"
      ]
     },
     "execution_count": 3,
     "metadata": {},
     "output_type": "execute_result"
    }
   ],
   "source": [
    "Dtrain[\"Bearing\"].value_counts()"
   ]
  },
  {
   "cell_type": "code",
   "execution_count": 4,
   "metadata": {},
   "outputs": [
    {
     "data": {
      "text/plain": [
       "Normal                 50.0\n",
       "Outer Race (0.007\")    50.0\n",
       "Name: Bearing, dtype: float64"
      ]
     },
     "execution_count": 4,
     "metadata": {},
     "output_type": "execute_result"
    }
   ],
   "source": [
    "Dtrain[\"Bearing\"].value_counts(normalize=True)*100"
   ]
  },
  {
   "cell_type": "code",
   "execution_count": 5,
   "metadata": {},
   "outputs": [
    {
     "data": {
      "text/plain": [
       "Index(['Bearing', 'Fault Diameter', 'DE', 'FE'], dtype='object')"
      ]
     },
     "execution_count": 5,
     "metadata": {},
     "output_type": "execute_result"
    }
   ],
   "source": [
    "Dtest.columns"
   ]
  },
  {
   "cell_type": "code",
   "execution_count": 6,
   "metadata": {},
   "outputs": [],
   "source": [
    "from sklearn.preprocessing import LabelEncoder, OneHotEncoder\n",
    "from sklearn.compose import ColumnTransformer\n",
    "labelencoder_train = LabelEncoder()\n",
    "Dtrain[\"Bearing\"] = labelencoder_train.fit_transform(Dtrain[\"Bearing\"])\n",
    "ct = ColumnTransformer([(\"Bearing\", OneHotEncoder(), [0])],    remainder = 'passthrough')\n",
    "Dtrain = ct.fit_transform(Dtrain)"
   ]
  },
  {
   "cell_type": "code",
   "execution_count": 7,
   "metadata": {},
   "outputs": [],
   "source": [
    "from sklearn.preprocessing import LabelEncoder, OneHotEncoder\n",
    "from sklearn.compose import ColumnTransformer\n",
    "labelencoder_train = LabelEncoder()\n",
    "Dtest[\"Bearing\"] = labelencoder_train.fit_transform(Dtest[\"Bearing\"])\n",
    "ct = ColumnTransformer([(\"Bearing\", OneHotEncoder(), [0])],    remainder = 'passthrough')\n",
    "Dtest = ct.fit_transform(Dtest)"
   ]
  },
  {
   "cell_type": "code",
   "execution_count": 8,
   "metadata": {},
   "outputs": [],
   "source": [
    "from sklearn.preprocessing import MinMaxScaler\n",
    "scaler = MinMaxScaler()\n",
    "X_train = pd.DataFrame(scaler.fit_transform(Dtrain))\n",
    "# Random shuffle training data\n",
    "X_train.sample(frac=1)\n",
    "\n",
    "X_test = pd.DataFrame(scaler.transform(Dtest))\n",
    "\n"
   ]
  },
  {
   "cell_type": "code",
   "execution_count": 9,
   "metadata": {},
   "outputs": [
    {
     "name": "stderr",
     "output_type": "stream",
     "text": [
      "Using TensorFlow backend.\n"
     ]
    }
   ],
   "source": [
    "from keras.layers import Input, Dropout\n",
    "from keras.layers.core import Dense \n",
    "from keras.models import Model, Sequential, load_model\n",
    "from keras import regularizers"
   ]
  },
  {
   "cell_type": "code",
   "execution_count": 10,
   "metadata": {},
   "outputs": [],
   "source": [
    "import tensorflow as tf\n",
    "from numpy.random import seed\n",
    "seed(10)\n",
    "tf.random.set_seed(10)\n",
    "act_func = 'elu'"
   ]
  },
  {
   "cell_type": "code",
   "execution_count": 11,
   "metadata": {},
   "outputs": [],
   "source": [
    "# Input layer:\n",
    "model=Sequential()\n",
    "# First hidden layer, connected to input vector X. \n",
    "model.add(Dense(6,activation=act_func,\n",
    "                kernel_initializer='glorot_uniform',\n",
    "                kernel_regularizer=regularizers.l2(0.0),\n",
    "                input_shape=(X_train.shape[1],)\n",
    "               )\n",
    "         )\n",
    "\n",
    "model.add(Dense(2,activation=act_func,\n",
    "                kernel_initializer='glorot_uniform'))\n",
    "\n",
    "model.add(Dense(6,activation=act_func,\n",
    "                kernel_initializer='glorot_uniform'))\n",
    "\n",
    "model.add(Dense(X_train.shape[1],\n",
    "                kernel_initializer='glorot_uniform'))\n",
    "\n",
    "model.compile(loss='mse',optimizer='adam', metrics=['accuracy'] )\n",
    "\n",
    "# Train model for 100 epochs, batch size of 10: \n",
    "NUM_EPOCHS=100\n",
    "BATCH_SIZE=100"
   ]
  },
  {
   "cell_type": "code",
   "execution_count": 12,
   "metadata": {},
   "outputs": [
    {
     "name": "stdout",
     "output_type": "stream",
     "text": [
      "Train on 184102 samples, validate on 9690 samples\n",
      "Epoch 1/100\n",
      "184102/184102 [==============================] - 3s 17us/step - loss: 0.0483 - accuracy: 0.7042 - val_loss: 0.0043 - val_accuracy: 0.5140\n",
      "Epoch 2/100\n",
      "184102/184102 [==============================] - 3s 16us/step - loss: 0.0020 - accuracy: 0.7688 - val_loss: 0.0038 - val_accuracy: 0.5473\n",
      "Epoch 3/100\n",
      "184102/184102 [==============================] - 3s 15us/step - loss: 0.0016 - accuracy: 0.7939 - val_loss: 0.0023 - val_accuracy: 0.5778\n",
      "Epoch 4/100\n",
      "184102/184102 [==============================] - 3s 14us/step - loss: 6.5017e-04 - accuracy: 0.8451 - val_loss: 3.7262e-04 - val_accuracy: 0.6221\n",
      "Epoch 5/100\n",
      "184102/184102 [==============================] - 3s 14us/step - loss: 1.5660e-04 - accuracy: 0.7933 - val_loss: 6.1835e-05 - val_accuracy: 0.5528\n",
      "Epoch 6/100\n",
      "184102/184102 [==============================] - 3s 14us/step - loss: 8.4412e-05 - accuracy: 0.8033 - val_loss: 3.5402e-05 - val_accuracy: 0.4356\n",
      "Epoch 7/100\n",
      "184102/184102 [==============================] - 3s 14us/step - loss: 5.8248e-05 - accuracy: 0.7590 - val_loss: 2.7270e-05 - val_accuracy: 0.5806\n",
      "Epoch 8/100\n",
      "184102/184102 [==============================] - 3s 14us/step - loss: 4.4393e-05 - accuracy: 0.7023 - val_loss: 2.6622e-05 - val_accuracy: 0.3149\n",
      "Epoch 9/100\n",
      "184102/184102 [==============================] - 3s 14us/step - loss: 3.8092e-05 - accuracy: 0.7553 - val_loss: 2.1398e-05 - val_accuracy: 0.2032\n",
      "Epoch 10/100\n",
      "184102/184102 [==============================] - 3s 14us/step - loss: 3.3896e-05 - accuracy: 0.7801 - val_loss: 1.6074e-05 - val_accuracy: 0.6216\n",
      "Epoch 11/100\n",
      "184102/184102 [==============================] - 3s 14us/step - loss: 3.0396e-05 - accuracy: 0.7937 - val_loss: 1.3530e-04 - val_accuracy: 0.1658\n",
      "Epoch 12/100\n",
      "184102/184102 [==============================] - 3s 14us/step - loss: 2.7836e-05 - accuracy: 0.8003 - val_loss: 1.1715e-05 - val_accuracy: 0.2518\n",
      "Epoch 13/100\n",
      "184102/184102 [==============================] - 3s 14us/step - loss: 2.5122e-05 - accuracy: 0.8060 - val_loss: 1.1946e-05 - val_accuracy: 0.8265\n",
      "Epoch 14/100\n",
      "184102/184102 [==============================] - 3s 14us/step - loss: 2.3012e-05 - accuracy: 0.8089 - val_loss: 6.0368e-06 - val_accuracy: 0.5058\n",
      "Epoch 15/100\n",
      "184102/184102 [==============================] - 3s 14us/step - loss: 2.1059e-05 - accuracy: 0.8156 - val_loss: 7.0419e-06 - val_accuracy: 0.5136\n",
      "Epoch 16/100\n",
      "184102/184102 [==============================] - 3s 14us/step - loss: 1.9623e-05 - accuracy: 0.8154 - val_loss: 4.4192e-06 - val_accuracy: 0.3310\n",
      "Epoch 17/100\n",
      "184102/184102 [==============================] - 3s 14us/step - loss: 1.8338e-05 - accuracy: 0.8184 - val_loss: 1.2013e-05 - val_accuracy: 0.2702\n",
      "Epoch 18/100\n",
      "184102/184102 [==============================] - 3s 14us/step - loss: 1.7264e-05 - accuracy: 0.8229 - val_loss: 2.9223e-06 - val_accuracy: 0.2096\n",
      "Epoch 19/100\n",
      "184102/184102 [==============================] - 2s 14us/step - loss: 1.6371e-05 - accuracy: 0.8190 - val_loss: 3.7381e-06 - val_accuracy: 0.7669\n",
      "Epoch 20/100\n",
      "184102/184102 [==============================] - 2s 13us/step - loss: 1.5680e-05 - accuracy: 0.8149 - val_loss: 5.7393e-06 - val_accuracy: 0.7294\n",
      "Epoch 21/100\n",
      "184102/184102 [==============================] - 2s 14us/step - loss: 1.4857e-05 - accuracy: 0.8157 - val_loss: 3.5079e-06 - val_accuracy: 0.1512\n",
      "Epoch 22/100\n",
      "184102/184102 [==============================] - 2s 13us/step - loss: 1.4254e-05 - accuracy: 0.8075 - val_loss: 2.3146e-06 - val_accuracy: 0.1320\n",
      "Epoch 23/100\n",
      "184102/184102 [==============================] - 2s 13us/step - loss: 1.3716e-05 - accuracy: 0.8064 - val_loss: 3.7038e-06 - val_accuracy: 0.1360\n",
      "Epoch 24/100\n",
      "184102/184102 [==============================] - 2s 13us/step - loss: 1.3405e-05 - accuracy: 0.7992 - val_loss: 2.5061e-05 - val_accuracy: 0.1033\n",
      "Epoch 25/100\n",
      "184102/184102 [==============================] - 2s 13us/step - loss: 1.2915e-05 - accuracy: 0.7992 - val_loss: 5.2011e-06 - val_accuracy: 0.1100\n",
      "Epoch 26/100\n",
      "184102/184102 [==============================] - 2s 13us/step - loss: 1.2567e-05 - accuracy: 0.7930 - val_loss: 1.0710e-05 - val_accuracy: 0.2436\n",
      "Epoch 27/100\n",
      "184102/184102 [==============================] - 3s 15us/step - loss: 1.2132e-05 - accuracy: 0.7913 - val_loss: 3.3994e-06 - val_accuracy: 0.0835\n",
      "Epoch 28/100\n",
      "184102/184102 [==============================] - 3s 14us/step - loss: 1.1988e-05 - accuracy: 0.7911 - val_loss: 5.7485e-06 - val_accuracy: 0.9246\n",
      "Epoch 29/100\n",
      "184102/184102 [==============================] - 3s 14us/step - loss: 1.1740e-05 - accuracy: 0.7904 - val_loss: 1.0886e-05 - val_accuracy: 0.9153\n",
      "Epoch 30/100\n",
      "184102/184102 [==============================] - 2s 13us/step - loss: 1.1431e-05 - accuracy: 0.7920 - val_loss: 2.9440e-06 - val_accuracy: 0.7445\n",
      "Epoch 31/100\n",
      "184102/184102 [==============================] - 2s 14us/step - loss: 1.1004e-05 - accuracy: 0.7912 - val_loss: 4.1169e-05 - val_accuracy: 0.7110\n",
      "Epoch 32/100\n",
      "184102/184102 [==============================] - 2s 14us/step - loss: 1.0845e-05 - accuracy: 0.7961 - val_loss: 4.6573e-06 - val_accuracy: 0.8501\n",
      "Epoch 33/100\n",
      "184102/184102 [==============================] - 2s 13us/step - loss: 1.0509e-05 - accuracy: 0.7985 - val_loss: 1.5190e-05 - val_accuracy: 0.1486\n",
      "Epoch 34/100\n",
      "184102/184102 [==============================] - 2s 13us/step - loss: 1.0314e-05 - accuracy: 0.8016 - val_loss: 3.3089e-06 - val_accuracy: 0.1431\n",
      "Epoch 35/100\n",
      "184102/184102 [==============================] - 2s 13us/step - loss: 1.0103e-05 - accuracy: 0.8024 - val_loss: 5.0246e-06 - val_accuracy: 0.8221\n",
      "Epoch 36/100\n",
      "184102/184102 [==============================] - 2s 13us/step - loss: 9.8350e-06 - accuracy: 0.8071 - val_loss: 3.8589e-05 - val_accuracy: 0.7722\n",
      "Epoch 37/100\n",
      "184102/184102 [==============================] - 2s 13us/step - loss: 9.7827e-06 - accuracy: 0.8106 - val_loss: 1.0820e-05 - val_accuracy: 0.8406\n",
      "Epoch 38/100\n",
      "184102/184102 [==============================] - 3s 14us/step - loss: 9.4313e-06 - accuracy: 0.8084 - val_loss: 3.0389e-06 - val_accuracy: 0.7813\n",
      "Epoch 39/100\n",
      "184102/184102 [==============================] - 2s 13us/step - loss: 9.2106e-06 - accuracy: 0.8090 - val_loss: 2.3416e-06 - val_accuracy: 0.1561\n",
      "Epoch 40/100\n",
      "184102/184102 [==============================] - 2s 13us/step - loss: 8.9086e-06 - accuracy: 0.8107 - val_loss: 3.6116e-06 - val_accuracy: 0.4225\n",
      "Epoch 41/100\n",
      "184102/184102 [==============================] - 3s 14us/step - loss: 8.8241e-06 - accuracy: 0.8126 - val_loss: 4.9616e-05 - val_accuracy: 0.6444\n",
      "Epoch 42/100\n",
      "184102/184102 [==============================] - 3s 15us/step - loss: 8.5840e-06 - accuracy: 0.8101 - val_loss: 3.0505e-06 - val_accuracy: 0.2372\n",
      "Epoch 43/100\n",
      "184102/184102 [==============================] - 3s 15us/step - loss: 8.4316e-06 - accuracy: 0.8086 - val_loss: 1.8063e-05 - val_accuracy: 0.8521\n",
      "Epoch 44/100\n",
      "184102/184102 [==============================] - 3s 15us/step - loss: 8.2074e-06 - accuracy: 0.8106 - val_loss: 2.6260e-06 - val_accuracy: 0.3972\n",
      "Epoch 45/100\n",
      "184102/184102 [==============================] - 3s 14us/step - loss: 7.9857e-06 - accuracy: 0.8118 - val_loss: 8.4455e-06 - val_accuracy: 0.1864\n",
      "Epoch 46/100\n",
      "184102/184102 [==============================] - 3s 14us/step - loss: 7.9227e-06 - accuracy: 0.8110 - val_loss: 3.3080e-06 - val_accuracy: 0.5936\n",
      "Epoch 47/100\n",
      "184102/184102 [==============================] - 2s 13us/step - loss: 7.5988e-06 - accuracy: 0.8127 - val_loss: 2.2696e-06 - val_accuracy: 0.5607\n",
      "Epoch 48/100\n",
      "184102/184102 [==============================] - ETA: 0s - loss: 7.5485e-06 - accuracy: 0.81 - 3s 14us/step - loss: 7.5468e-06 - accuracy: 0.8129 - val_loss: 1.4822e-05 - val_accuracy: 0.5577\n",
      "Epoch 49/100\n",
      "184102/184102 [==============================] - 2s 12us/step - loss: 7.3805e-06 - accuracy: 0.8132 - val_loss: 4.1717e-05 - val_accuracy: 0.5715\n",
      "Epoch 50/100\n",
      "184102/184102 [==============================] - 3s 15us/step - loss: 7.2059e-06 - accuracy: 0.8141 - val_loss: 3.7146e-06 - val_accuracy: 0.5856\n",
      "Epoch 51/100\n",
      "184102/184102 [==============================] - 3s 16us/step - loss: 7.0258e-06 - accuracy: 0.8124 - val_loss: 4.8654e-06 - val_accuracy: 0.6406\n",
      "Epoch 52/100\n",
      "184102/184102 [==============================] - 3s 15us/step - loss: 6.9082e-06 - accuracy: 0.8143 - val_loss: 1.9779e-06 - val_accuracy: 0.8385\n",
      "Epoch 53/100\n",
      "184102/184102 [==============================] - 2s 13us/step - loss: 6.8287e-06 - accuracy: 0.8165 - val_loss: 2.1625e-06 - val_accuracy: 0.6152\n",
      "Epoch 54/100\n",
      "184102/184102 [==============================] - 2s 13us/step - loss: 6.6979e-06 - accuracy: 0.8165 - val_loss: 9.9918e-06 - val_accuracy: 0.7084\n",
      "Epoch 55/100\n",
      "184102/184102 [==============================] - 2s 13us/step - loss: 6.4815e-06 - accuracy: 0.8180 - val_loss: 1.7247e-06 - val_accuracy: 0.3915\n",
      "Epoch 56/100\n",
      "184102/184102 [==============================] - 2s 12us/step - loss: 6.4049e-06 - accuracy: 0.8198 - val_loss: 3.2153e-06 - val_accuracy: 0.7963\n",
      "Epoch 57/100\n",
      "184102/184102 [==============================] - 2s 10us/step - loss: 6.2667e-06 - accuracy: 0.8216 - val_loss: 3.2166e-06 - val_accuracy: 0.7184\n",
      "Epoch 58/100\n",
      "184102/184102 [==============================] - 2s 9us/step - loss: 6.1481e-06 - accuracy: 0.8231 - val_loss: 4.6867e-06 - val_accuracy: 0.5392\n",
      "Epoch 59/100\n",
      "184102/184102 [==============================] - 2s 9us/step - loss: 6.0494e-06 - accuracy: 0.8256 - val_loss: 1.6231e-05 - val_accuracy: 0.7715\n",
      "Epoch 60/100\n",
      "184102/184102 [==============================] - 2s 9us/step - loss: 5.9903e-06 - accuracy: 0.8248 - val_loss: 1.6439e-06 - val_accuracy: 0.7361\n",
      "Epoch 61/100\n",
      "184102/184102 [==============================] - 2s 10us/step - loss: 5.9395e-06 - accuracy: 0.8253 - val_loss: 1.8014e-06 - val_accuracy: 0.5144\n",
      "Epoch 62/100\n",
      "184102/184102 [==============================] - 2s 11us/step - loss: 5.8411e-06 - accuracy: 0.8258 - val_loss: 2.0541e-06 - val_accuracy: 0.5283\n",
      "Epoch 63/100\n",
      "184102/184102 [==============================] - 2s 10us/step - loss: 5.7061e-06 - accuracy: 0.8288 - val_loss: 3.9664e-06 - val_accuracy: 0.7154\n",
      "Epoch 64/100\n",
      "184102/184102 [==============================] - 2s 10us/step - loss: 5.5837e-06 - accuracy: 0.8280 - val_loss: 8.9788e-06 - val_accuracy: 0.8413\n",
      "Epoch 65/100\n",
      "184102/184102 [==============================] - 2s 11us/step - loss: 5.5777e-06 - accuracy: 0.8306 - val_loss: 2.0137e-06 - val_accuracy: 0.5140\n",
      "Epoch 66/100\n",
      "184102/184102 [==============================] - 2s 11us/step - loss: 5.4281e-06 - accuracy: 0.8314 - val_loss: 2.6977e-06 - val_accuracy: 0.5005\n",
      "Epoch 67/100\n",
      "184102/184102 [==============================] - 2s 11us/step - loss: 5.3533e-06 - accuracy: 0.8319 - val_loss: 2.1565e-06 - val_accuracy: 0.5564\n",
      "Epoch 68/100\n",
      "184102/184102 [==============================] - 2s 9us/step - loss: 5.2975e-06 - accuracy: 0.8324 - val_loss: 1.7863e-06 - val_accuracy: 0.5055\n",
      "Epoch 69/100\n",
      "184102/184102 [==============================] - 2s 12us/step - loss: 5.3170e-06 - accuracy: 0.8327 - val_loss: 1.1374e-05 - val_accuracy: 0.7766\n",
      "Epoch 70/100\n",
      "184102/184102 [==============================] - 2s 10us/step - loss: 5.1916e-06 - accuracy: 0.8324 - val_loss: 1.7057e-05 - val_accuracy: 0.7717\n",
      "Epoch 71/100\n",
      "184102/184102 [==============================] - 2s 10us/step - loss: 5.0695e-06 - accuracy: 0.8337 - val_loss: 2.3101e-06 - val_accuracy: 0.6657\n",
      "Epoch 72/100\n",
      "184102/184102 [==============================] - 2s 9us/step - loss: 5.0710e-06 - accuracy: 0.8337 - val_loss: 1.4406e-06 - val_accuracy: 0.7566\n",
      "Epoch 73/100\n",
      "184102/184102 [==============================] - 2s 9us/step - loss: 5.0911e-06 - accuracy: 0.8344 - val_loss: 2.2343e-05 - val_accuracy: 0.7596\n",
      "Epoch 74/100\n",
      "184102/184102 [==============================] - 2s 9us/step - loss: 4.8770e-06 - accuracy: 0.8348 - val_loss: 1.4648e-06 - val_accuracy: 0.3792\n",
      "Epoch 75/100\n",
      "184102/184102 [==============================] - 2s 9us/step - loss: 4.9355e-06 - accuracy: 0.8339 - val_loss: 1.9146e-06 - val_accuracy: 0.5805\n",
      "Epoch 76/100\n",
      "184102/184102 [==============================] - 2s 10us/step - loss: 4.7763e-06 - accuracy: 0.8375 - val_loss: 9.4462e-05 - val_accuracy: 0.7073\n",
      "Epoch 77/100\n",
      "184102/184102 [==============================] - 2s 9us/step - loss: 4.9517e-06 - accuracy: 0.8364 - val_loss: 1.5936e-06 - val_accuracy: 0.6648\n",
      "Epoch 78/100\n",
      "184102/184102 [==============================] - 2s 10us/step - loss: 4.7056e-06 - accuracy: 0.8371 - val_loss: 6.3294e-06 - val_accuracy: 0.6866\n",
      "Epoch 79/100\n",
      "184102/184102 [==============================] - 2s 9us/step - loss: 4.7247e-06 - accuracy: 0.8383 - val_loss: 1.3609e-05 - val_accuracy: 0.4212\n",
      "Epoch 80/100\n",
      "184102/184102 [==============================] - 2s 10us/step - loss: 4.5902e-06 - accuracy: 0.8368 - val_loss: 1.5437e-06 - val_accuracy: 0.5502\n",
      "Epoch 81/100\n",
      "184102/184102 [==============================] - 3s 14us/step - loss: 4.5884e-06 - accuracy: 0.8382 - val_loss: 2.3243e-06 - val_accuracy: 0.7499\n",
      "Epoch 82/100\n",
      "184102/184102 [==============================] - 2s 10us/step - loss: 4.5612e-06 - accuracy: 0.8385 - val_loss: 6.5810e-06 - val_accuracy: 0.3774\n",
      "Epoch 83/100\n",
      "184102/184102 [==============================] - 2s 9us/step - loss: 4.3597e-06 - accuracy: 0.8397 - val_loss: 2.3363e-05 - val_accuracy: 0.2819\n",
      "Epoch 84/100\n",
      "184102/184102 [==============================] - 2s 9us/step - loss: 4.4740e-06 - accuracy: 0.8401 - val_loss: 1.3236e-06 - val_accuracy: 0.6001\n",
      "Epoch 85/100\n",
      "184102/184102 [==============================] - 2s 9us/step - loss: 4.2988e-06 - accuracy: 0.8399 - val_loss: 1.6457e-06 - val_accuracy: 0.5284\n",
      "Epoch 86/100\n",
      "184102/184102 [==============================] - 2s 9us/step - loss: 4.4294e-06 - accuracy: 0.8391 - val_loss: 2.7782e-06 - val_accuracy: 0.6622\n",
      "Epoch 87/100\n",
      "184102/184102 [==============================] - 2s 9us/step - loss: 4.2824e-06 - accuracy: 0.8395 - val_loss: 1.6822e-06 - val_accuracy: 0.5861\n",
      "Epoch 88/100\n",
      "184102/184102 [==============================] - 2s 9us/step - loss: 4.1498e-06 - accuracy: 0.8401 - val_loss: 1.1552e-06 - val_accuracy: 0.5473\n",
      "Epoch 89/100\n",
      "184102/184102 [==============================] - 2s 9us/step - loss: 4.1584e-06 - accuracy: 0.8409 - val_loss: 1.5850e-06 - val_accuracy: 0.7414\n",
      "Epoch 90/100\n",
      "184102/184102 [==============================] - 2s 9us/step - loss: 4.1085e-06 - accuracy: 0.8414 - val_loss: 1.0836e-06 - val_accuracy: 0.6619\n",
      "Epoch 91/100\n",
      "184102/184102 [==============================] - 2s 9us/step - loss: 4.0960e-06 - accuracy: 0.8416 - val_loss: 1.0709e-05 - val_accuracy: 0.6762\n",
      "Epoch 92/100\n",
      "184102/184102 [==============================] - 2s 9us/step - loss: 4.0624e-06 - accuracy: 0.8404 - val_loss: 3.6457e-05 - val_accuracy: 0.6636\n",
      "Epoch 93/100\n",
      "184102/184102 [==============================] - ETA: 0s - loss: 4.0612e-06 - accuracy: 0.84 - 2s 9us/step - loss: 4.0561e-06 - accuracy: 0.8416 - val_loss: 3.9158e-06 - val_accuracy: 0.5902\n",
      "Epoch 94/100\n",
      "184102/184102 [==============================] - 2s 9us/step - loss: 3.9284e-06 - accuracy: 0.8427 - val_loss: 3.9213e-06 - val_accuracy: 0.7065\n",
      "Epoch 95/100\n",
      "184102/184102 [==============================] - 2s 10us/step - loss: 4.0018e-06 - accuracy: 0.8429 - val_loss: 2.4714e-06 - val_accuracy: 0.5247\n",
      "Epoch 96/100\n",
      "184102/184102 [==============================] - 2s 9us/step - loss: 3.9627e-06 - accuracy: 0.8428 - val_loss: 1.9865e-06 - val_accuracy: 0.6829\n",
      "Epoch 97/100\n",
      "184102/184102 [==============================] - 2s 9us/step - loss: 3.8152e-06 - accuracy: 0.8429 - val_loss: 8.1651e-06 - val_accuracy: 0.5376\n",
      "Epoch 98/100\n",
      "184102/184102 [==============================] - 2s 9us/step - loss: 3.8871e-06 - accuracy: 0.8433 - val_loss: 2.5343e-06 - val_accuracy: 0.5733\n",
      "Epoch 99/100\n",
      "184102/184102 [==============================] - 2s 9us/step - loss: 3.7671e-06 - accuracy: 0.8408 - val_loss: 3.9196e-06 - val_accuracy: 0.6846\n",
      "Epoch 100/100\n",
      "184102/184102 [==============================] - 2s 9us/step - loss: 3.7888e-06 - accuracy: 0.8432 - val_loss: 1.7831e-06 - val_accuracy: 0.6962\n"
     ]
    }
   ],
   "source": [
    "history=model.fit(np.array(X_train),np.array(X_train),\n",
    "                  batch_size=BATCH_SIZE, \n",
    "                  epochs=NUM_EPOCHS,\n",
    "                  validation_split=0.05,\n",
    "                  verbose = 1)"
   ]
  },
  {
   "cell_type": "code",
   "execution_count": 13,
   "metadata": {},
   "outputs": [
    {
     "data": {
      "image/png": "[encoded data removed]",
      "text/plain": [
       "<Figure size 432x288 with 1 Axes>"
      ]
     },
     "metadata": {
      "needs_background": "light"
     },
     "output_type": "display_data"
    }
   ],
   "source": [
    "import matplotlib.pyplot as plt\n",
    "\n",
    "plt.plot(history.history['loss'], 'b', label='Training loss')\n",
    "plt.plot(history.history['val_loss'], 'r', label='Validation loss')\n",
    "plt.legend(loc='upper right')\n",
    "plt.xlabel('Epochs')\n",
    "plt.ylabel('Loss, [mse]')\n",
    "plt.ylim([0,.05])\n",
    "plt.show()"
   ]
  },
  {
   "cell_type": "code",
   "execution_count": 14,
   "metadata": {},
   "outputs": [
    {
     "data": {
      "image/png": "[encoded data removed]",
      "text/plain": [
       "<Figure size 432x288 with 1 Axes>"
      ]
     },
     "metadata": {
      "needs_background": "light"
     },
     "output_type": "display_data"
    }
   ],
   "source": [
    "X_pred = model.predict(np.array(X_train))\n",
    "\n",
    "import seaborn as sns\n",
    "\n",
    "scored = np.mean(np.abs(X_pred-X_train), axis = 1)\n",
    "plt.figure()\n",
    "sns.distplot(scored, bins = 10, kde= True, color = 'blue');\n",
    "plt.xlim([0.0,.02])\n",
    "plt.show()"
   ]
  },
  {
   "cell_type": "code",
   "execution_count": 15,
   "metadata": {},
   "outputs": [
    {
     "data": {
      "text/html": [
       "<div>\n",
       "<style scoped>\n",
       "    .dataframe tbody tr th:only-of-type {\n",
       "        vertical-align: middle;\n",
       "    }\n",
       "\n",
       "    .dataframe tbody tr th {\n",
       "        vertical-align: top;\n",
       "    }\n",
       "\n",
       "    .dataframe thead th {\n",
       "        text-align: right;\n",
       "    }\n",
       "</style>\n",
       "<table border=\"1\" class=\"dataframe\">\n",
       "  <thead>\n",
       "    <tr style=\"text-align: right;\">\n",
       "      <th></th>\n",
       "      <th>Loss_mae</th>\n",
       "      <th>Threshold</th>\n",
       "      <th>Anomaly</th>\n",
       "    </tr>\n",
       "  </thead>\n",
       "  <tbody>\n",
       "    <tr>\n",
       "      <th>13002</th>\n",
       "      <td>0.000699</td>\n",
       "      <td>0.0075</td>\n",
       "      <td>False</td>\n",
       "    </tr>\n",
       "    <tr>\n",
       "      <th>22845</th>\n",
       "      <td>0.002827</td>\n",
       "      <td>0.0075</td>\n",
       "      <td>False</td>\n",
       "    </tr>\n",
       "    <tr>\n",
       "      <th>10961</th>\n",
       "      <td>0.001026</td>\n",
       "      <td>0.0075</td>\n",
       "      <td>False</td>\n",
       "    </tr>\n",
       "    <tr>\n",
       "      <th>15502</th>\n",
       "      <td>0.002619</td>\n",
       "      <td>0.0075</td>\n",
       "      <td>False</td>\n",
       "    </tr>\n",
       "    <tr>\n",
       "      <th>40374</th>\n",
       "      <td>0.000882</td>\n",
       "      <td>0.0075</td>\n",
       "      <td>False</td>\n",
       "    </tr>\n",
       "    <tr>\n",
       "      <th>...</th>\n",
       "      <td>...</td>\n",
       "      <td>...</td>\n",
       "      <td>...</td>\n",
       "    </tr>\n",
       "    <tr>\n",
       "      <th>41453</th>\n",
       "      <td>0.000840</td>\n",
       "      <td>0.0075</td>\n",
       "      <td>False</td>\n",
       "    </tr>\n",
       "    <tr>\n",
       "      <th>13961</th>\n",
       "      <td>0.002545</td>\n",
       "      <td>0.0075</td>\n",
       "      <td>False</td>\n",
       "    </tr>\n",
       "    <tr>\n",
       "      <th>23069</th>\n",
       "      <td>0.001196</td>\n",
       "      <td>0.0075</td>\n",
       "      <td>False</td>\n",
       "    </tr>\n",
       "    <tr>\n",
       "      <th>40604</th>\n",
       "      <td>0.000964</td>\n",
       "      <td>0.0075</td>\n",
       "      <td>False</td>\n",
       "    </tr>\n",
       "    <tr>\n",
       "      <th>44594</th>\n",
       "      <td>0.000745</td>\n",
       "      <td>0.0075</td>\n",
       "      <td>False</td>\n",
       "    </tr>\n",
       "  </tbody>\n",
       "</table>\n",
       "<p>100 rows × 3 columns</p>\n",
       "</div>"
      ],
      "text/plain": [
       "       Loss_mae  Threshold  Anomaly\n",
       "13002  0.000699     0.0075    False\n",
       "22845  0.002827     0.0075    False\n",
       "10961  0.001026     0.0075    False\n",
       "15502  0.002619     0.0075    False\n",
       "40374  0.000882     0.0075    False\n",
       "...         ...        ...      ...\n",
       "41453  0.000840     0.0075    False\n",
       "13961  0.002545     0.0075    False\n",
       "23069  0.001196     0.0075    False\n",
       "40604  0.000964     0.0075    False\n",
       "44594  0.000745     0.0075    False\n",
       "\n",
       "[100 rows x 3 columns]"
      ]
     },
     "execution_count": 15,
     "metadata": {},
     "output_type": "execute_result"
    }
   ],
   "source": [
    "X_pred = model.predict(np.array(X_test))\n",
    "\n",
    "scored = pd.DataFrame()\n",
    "scored['Loss_mae'] = np.mean(np.abs(X_pred-X_test), axis = 1)\n",
    "scored['Threshold'] = 0.0075\n",
    "scored['Anomaly'] = scored['Loss_mae'] > scored['Threshold']\n",
    "scored.sample(100)"
   ]
  },
  {
   "cell_type": "code",
   "execution_count": 16,
   "metadata": {},
   "outputs": [],
   "source": [
    "X_pred_train = model.predict(np.array(X_train))\n",
    "X_pred_train = pd.DataFrame(X_pred_train)\n",
    "\n",
    "scored_train = pd.DataFrame()\n",
    "scored_train['Loss_mae'] = np.mean(np.abs(X_pred_train-X_train), axis = 1)\n",
    "scored_train['Threshold'] = 0.0075\n",
    "scored_train['Anomaly'] = scored_train['Loss_mae'] > scored_train['Threshold']\n",
    "scored = pd.concat([scored_train, scored])"
   ]
  },
  {
   "cell_type": "code",
   "execution_count": 17,
   "metadata": {},
   "outputs": [
    {
     "data": {
      "text/plain": [
       "<matplotlib.axes._subplots.AxesSubplot at 0x15d425f3348>"
      ]
     },
     "execution_count": 17,
     "metadata": {},
     "output_type": "execute_result"
    },
    {
     "data": {
      "image/png": "[encoded data removed]",
      "text/plain": [
       "<Figure size 720x432 with 1 Axes>"
      ]
     },
     "metadata": {
      "needs_background": "light"
     },
     "output_type": "display_data"
    }
   ],
   "source": [
    "scored.plot(logy=True,  figsize = (10,6), xlim =[0,1000], ylim = [1e-4,1e-1], color = ['blue','red'])"
   ]
  },
  {
   "cell_type": "code",
   "execution_count": 18,
   "metadata": {},
   "outputs": [
    {
     "data": {
      "text/plain": [
       "0.0016401871332682263"
      ]
     },
     "execution_count": 18,
     "metadata": {},
     "output_type": "execute_result"
    }
   ],
   "source": [
    "scored_train['Loss_mae'].mean()"
   ]
  },
  {
   "cell_type": "code",
   "execution_count": null,
   "metadata": {},
   "outputs": [],
   "source": []
  }
 ],
 "metadata": {
  "kernelspec": {
   "display_name": "Python 3",
   "language": "python",
   "name": "python3"
  },
  "language_info": {
   "codemirror_mode": {
    "name": "ipython",
    "version": 3
   },
   "file_extension": ".py",
   "mimetype": "text/x-python",
   "name": "python",
   "nbconvert_exporter": "python",
   "pygments_lexer": "ipython3",
   "version": "3.7.4"
  }
 },
 "nbformat": 4,
 "nbformat_minor": 4
}
