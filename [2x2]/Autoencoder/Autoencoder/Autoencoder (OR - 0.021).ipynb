{
 "cells": [
  {
   "cell_type": "code",
   "execution_count": 1,
   "metadata": {},
   "outputs": [],
   "source": [
    "#importing packages\n",
    "import pandas as pd\n",
    "import numpy as np"
   ]
  },
  {
   "cell_type": "code",
   "execution_count": 2,
   "metadata": {},
   "outputs": [],
   "source": [
    "Dtrain = pd.read_csv(\"../TrainingSet (OR - 21).csv\")\n",
    "#Dtrain = Dtrain.iloc[:,0:4].values\n",
    "Dtest = pd.read_csv(\"../TestingSet (OR - 21).csv\")"
   ]
  },
  {
   "cell_type": "code",
   "execution_count": 3,
   "metadata": {},
   "outputs": [
    {
     "name": "stdout",
     "output_type": "stream",
     "text": [
      "(193792, 4)\n",
      "(48448, 4)\n"
     ]
    }
   ],
   "source": [
    "print(Dtrain.shape)\n",
    "print(Dtest.shape)"
   ]
  },
  {
   "cell_type": "code",
   "execution_count": 4,
   "metadata": {},
   "outputs": [
    {
     "data": {
      "text/plain": [
       "Normal                 96896\n",
       "Outer Race (0.021\")    96896\n",
       "Name: Bearing, dtype: int64"
      ]
     },
     "execution_count": 4,
     "metadata": {},
     "output_type": "execute_result"
    }
   ],
   "source": [
    "Dtrain[\"Bearing\"].value_counts()"
   ]
  },
  {
   "cell_type": "code",
   "execution_count": 5,
   "metadata": {},
   "outputs": [
    {
     "data": {
      "text/plain": [
       "Normal                 50.0\n",
       "Outer Race (0.021\")    50.0\n",
       "Name: Bearing, dtype: float64"
      ]
     },
     "execution_count": 5,
     "metadata": {},
     "output_type": "execute_result"
    }
   ],
   "source": [
    "Dtrain[\"Bearing\"].value_counts(normalize=True)*100"
   ]
  },
  {
   "cell_type": "code",
   "execution_count": 6,
   "metadata": {},
   "outputs": [
    {
     "data": {
      "text/plain": [
       "Index(['Bearing', 'Fault Diameter', 'DE', 'FE'], dtype='object')"
      ]
     },
     "execution_count": 6,
     "metadata": {},
     "output_type": "execute_result"
    }
   ],
   "source": [
    "Dtest.columns"
   ]
  },
  {
   "cell_type": "code",
   "execution_count": 7,
   "metadata": {},
   "outputs": [],
   "source": [
    "from sklearn.preprocessing import LabelEncoder, OneHotEncoder\n",
    "from sklearn.compose import ColumnTransformer\n",
    "labelencoder_train = LabelEncoder()\n",
    "Dtrain[\"Bearing\"] = labelencoder_train.fit_transform(Dtrain[\"Bearing\"])\n",
    "ct = ColumnTransformer([(\"Bearing\", OneHotEncoder(), [0])],    remainder = 'passthrough')\n",
    "Dtrain = ct.fit_transform(Dtrain)"
   ]
  },
  {
   "cell_type": "code",
   "execution_count": 8,
   "metadata": {},
   "outputs": [
    {
     "name": "stdout",
     "output_type": "stream",
     "text": [
      "[[ 1.          0.          0.         -0.04965046 -0.09635818]\n",
      " [ 1.          0.          0.         -0.00438092 -0.11957455]\n",
      " [ 1.          0.          0.         -0.00333785 -0.11258909]\n",
      " ...\n",
      " [ 0.          1.          0.021      -0.2399979   0.29523818]\n",
      " [ 0.          1.          0.021      -0.27410928  0.10067273]\n",
      " [ 0.          1.          0.021       0.14578553  0.25353091]]\n"
     ]
    }
   ],
   "source": [
    "from sklearn.preprocessing import LabelEncoder, OneHotEncoder\n",
    "from sklearn.compose import ColumnTransformer\n",
    "labelencoder_train = LabelEncoder()\n",
    "Dtest[\"Bearing\"] = labelencoder_train.fit_transform(Dtest[\"Bearing\"])\n",
    "ct = ColumnTransformer([(\"Bearing\", OneHotEncoder(), [0])],    remainder = 'passthrough')\n",
    "Dtest = ct.fit_transform(Dtest)\n",
    "\n",
    "print(Dtest)"
   ]
  },
  {
   "cell_type": "code",
   "execution_count": 9,
   "metadata": {},
   "outputs": [],
   "source": [
    "from sklearn.preprocessing import MinMaxScaler\n",
    "scaler = MinMaxScaler()\n",
    "X_train = pd.DataFrame(scaler.fit_transform(Dtrain))\n",
    "# Random shuffle training data\n",
    "X_train.sample(frac=1)\n",
    "\n",
    "X_test = pd.DataFrame(scaler.transform(Dtest))"
   ]
  },
  {
   "cell_type": "code",
   "execution_count": 10,
   "metadata": {},
   "outputs": [
    {
     "name": "stderr",
     "output_type": "stream",
     "text": [
      "Using TensorFlow backend.\n"
     ]
    }
   ],
   "source": [
    "from keras.layers import Input, Dropout\n",
    "from keras.layers.core import Dense \n",
    "from keras.models import Model, Sequential, load_model\n",
    "from keras import regularizers"
   ]
  },
  {
   "cell_type": "code",
   "execution_count": 11,
   "metadata": {},
   "outputs": [],
   "source": [
    "import tensorflow as tf\n",
    "from numpy.random import seed\n",
    "seed(10)\n",
    "tf.random.set_seed(10)\n",
    "act_func = 'elu'"
   ]
  },
  {
   "cell_type": "code",
   "execution_count": 12,
   "metadata": {},
   "outputs": [
    {
     "name": "stdout",
     "output_type": "stream",
     "text": [
      "Model: \"sequential_1\"\n",
      "_________________________________________________________________\n",
      "Layer (type)                 Output Shape              Param #   \n",
      "=================================================================\n",
      "dense_1 (Dense)              (None, 32)                192       \n",
      "_________________________________________________________________\n",
      "dense_2 (Dense)              (None, 2)                 66        \n",
      "_________________________________________________________________\n",
      "dense_3 (Dense)              (None, 32)                96        \n",
      "_________________________________________________________________\n",
      "dense_4 (Dense)              (None, 5)                 165       \n",
      "=================================================================\n",
      "Total params: 519\n",
      "Trainable params: 519\n",
      "Non-trainable params: 0\n",
      "_________________________________________________________________\n"
     ]
    }
   ],
   "source": [
    "# Input layer:\n",
    "model=Sequential()\n",
    "# First hidden layer, connected to input vector X. \n",
    "model.add(Dense(32, activation=act_func,\n",
    "                kernel_initializer='glorot_uniform',\n",
    "                kernel_regularizer=regularizers.l2(0.0),\n",
    "                input_shape=(X_train.shape[1],)\n",
    "               )\n",
    "         )\n",
    "\n",
    "model.add(Dense(2, activation=act_func, kernel_initializer='glorot_uniform'))\n",
    "\n",
    "model.add(Dense(32, activation=act_func, kernel_initializer='glorot_uniform'))\n",
    "\n",
    "model.add(Dense(X_train.shape[1], kernel_initializer='glorot_uniform'))\n",
    "\n",
    "model.compile(loss='mse',optimizer='adam')\n",
    "\n",
    "# Train model for 100 epochs, batch size of 10: \n",
    "model.summary()"
   ]
  },
  {
   "cell_type": "code",
   "execution_count": 13,
   "metadata": {},
   "outputs": [
    {
     "name": "stdout",
     "output_type": "stream",
     "text": [
      "Train on 174412 samples, validate on 19380 samples\n",
      "Epoch 1/100\n",
      "174412/174412 [==============================] - 1s 3us/step - loss: 0.0812 - val_loss: 8.3026e-04\n",
      "Epoch 2/100\n",
      "174412/174412 [==============================] - 0s 2us/step - loss: 0.0059 - val_loss: 7.8304e-04\n",
      "Epoch 3/100\n",
      "174412/174412 [==============================] - 0s 2us/step - loss: 5.8370e-04 - val_loss: 7.7866e-04\n",
      "Epoch 4/100\n",
      "174412/174412 [==============================] - 0s 2us/step - loss: 3.7085e-04 - val_loss: 7.6923e-04\n",
      "Epoch 5/100\n",
      "174412/174412 [==============================] - 0s 2us/step - loss: 3.6484e-04 - val_loss: 7.5835e-04\n",
      "Epoch 6/100\n",
      "174412/174412 [==============================] - 0s 2us/step - loss: 3.6012e-04 - val_loss: 7.4637e-04\n",
      "Epoch 7/100\n",
      "174412/174412 [==============================] - 0s 2us/step - loss: 3.5511e-04 - val_loss: 7.3350e-04\n",
      "Epoch 8/100\n",
      "174412/174412 [==============================] - 0s 2us/step - loss: 3.4979e-04 - val_loss: 7.1982e-04\n",
      "Epoch 9/100\n",
      "174412/174412 [==============================] - 0s 2us/step - loss: 3.4418e-04 - val_loss: 7.0536e-04\n",
      "Epoch 10/100\n",
      "174412/174412 [==============================] - 0s 2us/step - loss: 3.3831e-04 - val_loss: 6.9010e-04\n",
      "Epoch 11/100\n",
      "174412/174412 [==============================] - 0s 2us/step - loss: 3.3224e-04 - val_loss: 6.7400e-04\n",
      "Epoch 12/100\n",
      "174412/174412 [==============================] - 0s 2us/step - loss: 3.2609e-04 - val_loss: 6.5712e-04\n",
      "Epoch 13/100\n",
      "174412/174412 [==============================] - 0s 2us/step - loss: 3.1983e-04 - val_loss: 6.3962e-04\n",
      "Epoch 14/100\n",
      "174412/174412 [==============================] - 0s 2us/step - loss: 3.1314e-04 - val_loss: 6.2142e-04\n",
      "Epoch 15/100\n",
      "174412/174412 [==============================] - 0s 2us/step - loss: 3.0600e-04 - val_loss: 6.0224e-04\n",
      "Epoch 16/100\n",
      "174412/174412 [==============================] - 0s 2us/step - loss: 2.9910e-04 - val_loss: 5.8228e-04\n",
      "Epoch 17/100\n",
      "174412/174412 [==============================] - 0s 2us/step - loss: 2.9230e-04 - val_loss: 5.6205e-04\n",
      "Epoch 18/100\n",
      "174412/174412 [==============================] - 0s 2us/step - loss: 2.8449e-04 - val_loss: 5.4141e-04\n",
      "Epoch 19/100\n",
      "174412/174412 [==============================] - 0s 2us/step - loss: 2.7662e-04 - val_loss: 5.2072e-04\n",
      "Epoch 20/100\n",
      "174412/174412 [==============================] - 0s 2us/step - loss: 2.6858e-04 - val_loss: 5.0056e-04\n",
      "Epoch 21/100\n",
      "174412/174412 [==============================] - 0s 2us/step - loss: 2.5866e-04 - val_loss: 4.8062e-04\n",
      "Epoch 22/100\n",
      "174412/174412 [==============================] - 0s 2us/step - loss: 2.4990e-04 - val_loss: 4.6146e-04\n",
      "Epoch 23/100\n",
      "174412/174412 [==============================] - 0s 2us/step - loss: 2.4099e-04 - val_loss: 4.4374e-04\n",
      "Epoch 24/100\n",
      "174412/174412 [==============================] - 0s 2us/step - loss: 2.3063e-04 - val_loss: 4.2714e-04\n",
      "Epoch 25/100\n",
      "174412/174412 [==============================] - 0s 2us/step - loss: 2.2167e-04 - val_loss: 4.1225e-04\n",
      "Epoch 26/100\n",
      "174412/174412 [==============================] - 0s 2us/step - loss: 2.1265e-04 - val_loss: 3.9910e-04\n",
      "Epoch 27/100\n",
      "174412/174412 [==============================] - 0s 3us/step - loss: 2.0358e-04 - val_loss: 3.8747e-04\n",
      "Epoch 28/100\n",
      "174412/174412 [==============================] - 0s 3us/step - loss: 1.9583e-04 - val_loss: 3.7747e-04\n",
      "Epoch 29/100\n",
      "174412/174412 [==============================] - 0s 3us/step - loss: 1.8886e-04 - val_loss: 3.6888e-04\n",
      "Epoch 30/100\n",
      "174412/174412 [==============================] - 0s 3us/step - loss: 1.8345e-04 - val_loss: 3.6178e-04\n",
      "Epoch 31/100\n",
      "174412/174412 [==============================] - 1s 3us/step - loss: 1.7839e-04 - val_loss: 3.5601e-04\n",
      "Epoch 32/100\n",
      "174412/174412 [==============================] - 1s 3us/step - loss: 1.7383e-04 - val_loss: 3.5129e-04\n",
      "Epoch 33/100\n",
      "174412/174412 [==============================] - 0s 2us/step - loss: 1.6995e-04 - val_loss: 3.4740e-04\n",
      "Epoch 34/100\n",
      "174412/174412 [==============================] - 0s 3us/step - loss: 1.6737e-04 - val_loss: 3.4431e-04\n",
      "Epoch 35/100\n",
      "174412/174412 [==============================] - 0s 2us/step - loss: 1.6508e-04 - val_loss: 3.4182e-04\n",
      "Epoch 36/100\n",
      "174412/174412 [==============================] - 0s 2us/step - loss: 1.6265e-04 - val_loss: 3.3975e-04\n",
      "Epoch 37/100\n",
      "174412/174412 [==============================] - 0s 2us/step - loss: 1.6092e-04 - val_loss: 3.3808e-04\n",
      "Epoch 38/100\n",
      "174412/174412 [==============================] - 0s 2us/step - loss: 1.5994e-04 - val_loss: 3.3676e-04\n",
      "Epoch 39/100\n",
      "174412/174412 [==============================] - 0s 3us/step - loss: 1.5880e-04 - val_loss: 3.3570e-04\n",
      "Epoch 40/100\n",
      "174412/174412 [==============================] - 0s 3us/step - loss: 1.5770e-04 - val_loss: 3.3483e-04\n",
      "Epoch 41/100\n",
      "174412/174412 [==============================] - 0s 3us/step - loss: 1.5695e-04 - val_loss: 3.3419e-04\n",
      "Epoch 42/100\n",
      "174412/174412 [==============================] - 0s 2us/step - loss: 1.5684e-04 - val_loss: 3.3376e-04\n",
      "Epoch 43/100\n",
      "174412/174412 [==============================] - 0s 3us/step - loss: 1.5699e-04 - val_loss: 3.3340e-04\n",
      "Epoch 44/100\n",
      "174412/174412 [==============================] - 0s 3us/step - loss: 1.5628e-04 - val_loss: 3.3314e-04\n",
      "Epoch 45/100\n",
      "174412/174412 [==============================] - 1s 4us/step - loss: 1.5599e-04 - val_loss: 3.3300e-04\n",
      "Epoch 46/100\n",
      "174412/174412 [==============================] - 1s 3us/step - loss: 1.5674e-04 - val_loss: 3.3291e-04\n",
      "Epoch 47/100\n",
      "174412/174412 [==============================] - 0s 3us/step - loss: 1.5714e-04 - val_loss: 3.3285e-04\n",
      "Epoch 48/100\n",
      "174412/174412 [==============================] - 0s 3us/step - loss: 1.5680e-04 - val_loss: 3.3290e-04\n",
      "Epoch 49/100\n",
      "174412/174412 [==============================] - 0s 2us/step - loss: 1.5916e-04 - val_loss: 3.3286e-04\n",
      "Epoch 50/100\n",
      "174412/174412 [==============================] - 1s 3us/step - loss: 1.5627e-04 - val_loss: 3.3291e-04\n",
      "Epoch 51/100\n",
      "174412/174412 [==============================] - 1s 3us/step - loss: 1.5642e-04 - val_loss: 3.3297e-04\n",
      "Epoch 52/100\n",
      "174412/174412 [==============================] - 1s 3us/step - loss: 1.5704e-04 - val_loss: 3.3303e-04\n",
      "Epoch 53/100\n",
      "174412/174412 [==============================] - 1s 3us/step - loss: 1.5780e-04 - val_loss: 3.3305e-04\n",
      "Epoch 54/100\n",
      "174412/174412 [==============================] - 0s 3us/step - loss: 1.5646e-04 - val_loss: 3.3310e-04\n",
      "Epoch 55/100\n",
      "174412/174412 [==============================] - 0s 3us/step - loss: 1.5702e-04 - val_loss: 3.3314e-04\n",
      "Epoch 56/100\n",
      "174412/174412 [==============================] - 0s 2us/step - loss: 1.5682e-04 - val_loss: 3.3315e-04\n",
      "Epoch 57/100\n",
      "174412/174412 [==============================] - 0s 2us/step - loss: 1.5756e-04 - val_loss: 3.3317e-04\n",
      "Epoch 58/100\n",
      "174412/174412 [==============================] - 0s 2us/step - loss: 1.5668e-04 - val_loss: 3.3320e-04\n",
      "Epoch 59/100\n",
      "174412/174412 [==============================] - 0s 2us/step - loss: 1.5680e-04 - val_loss: 3.3323e-04\n",
      "Epoch 60/100\n",
      "174412/174412 [==============================] - 0s 2us/step - loss: 1.5688e-04 - val_loss: 3.3321e-04\n",
      "Epoch 61/100\n",
      "174412/174412 [==============================] - 0s 2us/step - loss: 1.5617e-04 - val_loss: 3.3327e-04\n",
      "Epoch 62/100\n",
      "174412/174412 [==============================] - 0s 2us/step - loss: 1.5870e-04 - val_loss: 3.3329e-04\n",
      "Epoch 63/100\n",
      "174412/174412 [==============================] - 0s 3us/step - loss: 1.5616e-04 - val_loss: 3.3322e-04\n",
      "Epoch 64/100\n",
      "174412/174412 [==============================] - 0s 3us/step - loss: 1.5729e-04 - val_loss: 3.3327e-04\n",
      "Epoch 65/100\n",
      "174412/174412 [==============================] - 1s 3us/step - loss: 1.5643e-04 - val_loss: 3.3323e-04\n",
      "Epoch 66/100\n",
      "174412/174412 [==============================] - 0s 3us/step - loss: 1.5614e-04 - val_loss: 3.3322e-04\n",
      "Epoch 67/100\n",
      "174412/174412 [==============================] - 0s 3us/step - loss: 1.5653e-04 - val_loss: 3.3325e-04\n",
      "Epoch 68/100\n",
      "174412/174412 [==============================] - 1s 3us/step - loss: 1.6065e-04 - val_loss: 3.3332e-04\n",
      "Epoch 69/100\n",
      "174412/174412 [==============================] - 0s 2us/step - loss: 1.5709e-04 - val_loss: 3.3326e-04\n",
      "Epoch 70/100\n",
      "174412/174412 [==============================] - 0s 2us/step - loss: 1.5634e-04 - val_loss: 3.3324e-04\n",
      "Epoch 71/100\n"
     ]
    },
    {
     "name": "stdout",
     "output_type": "stream",
     "text": [
      "174412/174412 [==============================] - 0s 2us/step - loss: 1.5621e-04 - val_loss: 3.3318e-04\n",
      "Epoch 72/100\n",
      "174412/174412 [==============================] - 0s 2us/step - loss: 1.5665e-04 - val_loss: 3.3318e-04\n",
      "Epoch 73/100\n",
      "174412/174412 [==============================] - 0s 2us/step - loss: 1.5637e-04 - val_loss: 3.3317e-04\n",
      "Epoch 74/100\n",
      "174412/174412 [==============================] - 0s 2us/step - loss: 1.5789e-04 - val_loss: 3.3323e-04\n",
      "Epoch 75/100\n",
      "174412/174412 [==============================] - 0s 2us/step - loss: 1.5631e-04 - val_loss: 3.3317e-04\n",
      "Epoch 76/100\n",
      "174412/174412 [==============================] - 0s 3us/step - loss: 1.5652e-04 - val_loss: 3.3315e-04\n",
      "Epoch 77/100\n",
      "174412/174412 [==============================] - 1s 3us/step - loss: 1.5723e-04 - val_loss: 3.3316e-04\n",
      "Epoch 78/100\n",
      "174412/174412 [==============================] - 1s 3us/step - loss: 1.5606e-04 - val_loss: 3.3314e-04\n",
      "Epoch 79/100\n",
      "174412/174412 [==============================] - 0s 3us/step - loss: 1.5623e-04 - val_loss: 3.3312e-04\n",
      "Epoch 80/100\n",
      "174412/174412 [==============================] - 0s 3us/step - loss: 1.5625e-04 - val_loss: 3.3323e-04\n",
      "Epoch 81/100\n",
      "174412/174412 [==============================] - 0s 2us/step - loss: 1.6351e-04 - val_loss: 3.3312e-04\n",
      "Epoch 82/100\n",
      "174412/174412 [==============================] - 0s 2us/step - loss: 1.5670e-04 - val_loss: 3.3311e-04\n",
      "Epoch 83/100\n",
      "174412/174412 [==============================] - 0s 3us/step - loss: 1.5612e-04 - val_loss: 3.3310e-04\n",
      "Epoch 84/100\n",
      "174412/174412 [==============================] - 0s 2us/step - loss: 1.5632e-04 - val_loss: 3.3308e-04\n",
      "Epoch 85/100\n",
      "174412/174412 [==============================] - 0s 2us/step - loss: 1.5587e-04 - val_loss: 3.3307e-04\n",
      "Epoch 86/100\n",
      "174412/174412 [==============================] - 0s 2us/step - loss: 1.5611e-04 - val_loss: 3.3309e-04\n",
      "Epoch 87/100\n",
      "174412/174412 [==============================] - 0s 2us/step - loss: 1.5624e-04 - val_loss: 3.3321e-04\n",
      "Epoch 88/100\n",
      "174412/174412 [==============================] - 0s 2us/step - loss: 1.6358e-04 - val_loss: 3.3302e-04\n",
      "Epoch 89/100\n",
      "174412/174412 [==============================] - 0s 3us/step - loss: 1.5732e-04 - val_loss: 3.3300e-04\n",
      "Epoch 90/100\n",
      "174412/174412 [==============================] - 0s 3us/step - loss: 1.5510e-04 - val_loss: 3.3299e-04\n",
      "Epoch 91/100\n",
      "174412/174412 [==============================] - 0s 3us/step - loss: 1.5542e-04 - val_loss: 3.3299e-04\n",
      "Epoch 92/100\n",
      "174412/174412 [==============================] - 0s 3us/step - loss: 1.5563e-04 - val_loss: 3.3298e-04\n",
      "Epoch 93/100\n",
      "174412/174412 [==============================] - 0s 2us/step - loss: 1.5578e-04 - val_loss: 3.3293e-04\n",
      "Epoch 94/100\n",
      "174412/174412 [==============================] - 0s 3us/step - loss: 1.5669e-04 - val_loss: 3.3294e-04\n",
      "Epoch 95/100\n",
      "174412/174412 [==============================] - 0s 2us/step - loss: 1.5538e-04 - val_loss: 3.3291e-04\n",
      "Epoch 96/100\n",
      "174412/174412 [==============================] - 0s 2us/step - loss: 1.5572e-04 - val_loss: 3.3287e-04\n",
      "Epoch 97/100\n",
      "174412/174412 [==============================] - 0s 2us/step - loss: 1.5896e-04 - val_loss: 3.3289e-04\n",
      "Epoch 98/100\n",
      "174412/174412 [==============================] - 0s 2us/step - loss: 1.5528e-04 - val_loss: 3.3288e-04\n",
      "Epoch 99/100\n",
      "174412/174412 [==============================] - 0s 2us/step - loss: 1.5532e-04 - val_loss: 3.3285e-04\n",
      "Epoch 100/100\n",
      "174412/174412 [==============================] - 0s 2us/step - loss: 1.5642e-04 - val_loss: 3.3283e-04\n"
     ]
    }
   ],
   "source": [
    "NUM_EPOCHS=100\n",
    "BATCH_SIZE=1000\n",
    "history=model.fit(X_train,X_train, \n",
    "                  batch_size=BATCH_SIZE, \n",
    "                  epochs=NUM_EPOCHS,\n",
    "                  validation_split=0.1,\n",
    "                  verbose = 1,\n",
    "                  shuffle = False)"
   ]
  },
  {
   "cell_type": "code",
   "execution_count": 14,
   "metadata": {},
   "outputs": [
    {
     "data": {
      "image/png": "[encoded data removed]",
      "text/plain": [
       "<Figure size 432x288 with 1 Axes>"
      ]
     },
     "metadata": {
      "needs_background": "light"
     },
     "output_type": "display_data"
    }
   ],
   "source": [
    "import matplotlib.pyplot as plt\n",
    "\n",
    "plt.plot(history.history['loss'], 'b', label='Training loss')\n",
    "plt.plot(history.history['val_loss'], 'r', label='Validation loss')\n",
    "plt.legend(loc='upper right')\n",
    "plt.xlabel('Epochs')\n",
    "plt.ylabel('Loss, [mse]')\n",
    "plt.ylim([0,.05])\n",
    "plt.show()"
   ]
  },
  {
   "cell_type": "code",
   "execution_count": 15,
   "metadata": {},
   "outputs": [],
   "source": [
    "X_pred = model.predict(X_train)"
   ]
  },
  {
   "cell_type": "code",
   "execution_count": 16,
   "metadata": {},
   "outputs": [
    {
     "data": {
      "image/png": "[encoded data removed]",
      "text/plain": [
       "<Figure size 432x288 with 1 Axes>"
      ]
     },
     "metadata": {
      "needs_background": "light"
     },
     "output_type": "display_data"
    }
   ],
   "source": [
    "import seaborn as sns\n",
    "\n",
    "scored = np.mean(np.abs(X_pred-X_train), axis = 1)\n",
    "plt.figure()\n",
    "g = sns.distplot(scored, bins = 10, kde= True);\n",
    "#g.set(xlim=(0.05,0.10), ylim=(0, 1))\n",
    "plt.show()"
   ]
  },
  {
   "cell_type": "code",
   "execution_count": 17,
   "metadata": {},
   "outputs": [
    {
     "name": "stdout",
     "output_type": "stream",
     "text": [
      "48448/48448 [==============================] - 1s 13us/step\n"
     ]
    },
    {
     "data": {
      "text/plain": [
       "0.00022363503948623736"
      ]
     },
     "execution_count": 17,
     "metadata": {},
     "output_type": "execute_result"
    }
   ],
   "source": [
    "model.evaluate(X_test,X_test)"
   ]
  },
  {
   "cell_type": "code",
   "execution_count": 18,
   "metadata": {},
   "outputs": [
    {
     "data": {
      "text/html": [
       "<div>\n",
       "<style scoped>\n",
       "    .dataframe tbody tr th:only-of-type {\n",
       "        vertical-align: middle;\n",
       "    }\n",
       "\n",
       "    .dataframe tbody tr th {\n",
       "        vertical-align: top;\n",
       "    }\n",
       "\n",
       "    .dataframe thead th {\n",
       "        text-align: right;\n",
       "    }\n",
       "</style>\n",
       "<table border=\"1\" class=\"dataframe\">\n",
       "  <thead>\n",
       "    <tr style=\"text-align: right;\">\n",
       "      <th></th>\n",
       "      <th>Loss_mae</th>\n",
       "      <th>Threshold</th>\n",
       "      <th>Anomaly</th>\n",
       "    </tr>\n",
       "  </thead>\n",
       "  <tbody>\n",
       "    <tr>\n",
       "      <th>188418</th>\n",
       "      <td>0.000610</td>\n",
       "      <td>0.06</td>\n",
       "      <td>False</td>\n",
       "    </tr>\n",
       "    <tr>\n",
       "      <th>101783</th>\n",
       "      <td>0.002300</td>\n",
       "      <td>0.06</td>\n",
       "      <td>False</td>\n",
       "    </tr>\n",
       "    <tr>\n",
       "      <th>6365</th>\n",
       "      <td>0.003545</td>\n",
       "      <td>0.06</td>\n",
       "      <td>False</td>\n",
       "    </tr>\n",
       "    <tr>\n",
       "      <th>125498</th>\n",
       "      <td>0.001895</td>\n",
       "      <td>0.06</td>\n",
       "      <td>False</td>\n",
       "    </tr>\n",
       "    <tr>\n",
       "      <th>151197</th>\n",
       "      <td>0.001094</td>\n",
       "      <td>0.06</td>\n",
       "      <td>False</td>\n",
       "    </tr>\n",
       "    <tr>\n",
       "      <th>...</th>\n",
       "      <td>...</td>\n",
       "      <td>...</td>\n",
       "      <td>...</td>\n",
       "    </tr>\n",
       "    <tr>\n",
       "      <th>165726</th>\n",
       "      <td>0.001280</td>\n",
       "      <td>0.06</td>\n",
       "      <td>False</td>\n",
       "    </tr>\n",
       "    <tr>\n",
       "      <th>23551</th>\n",
       "      <td>0.007003</td>\n",
       "      <td>0.06</td>\n",
       "      <td>False</td>\n",
       "    </tr>\n",
       "    <tr>\n",
       "      <th>36681</th>\n",
       "      <td>0.004602</td>\n",
       "      <td>0.06</td>\n",
       "      <td>False</td>\n",
       "    </tr>\n",
       "    <tr>\n",
       "      <th>124383</th>\n",
       "      <td>0.004210</td>\n",
       "      <td>0.06</td>\n",
       "      <td>False</td>\n",
       "    </tr>\n",
       "    <tr>\n",
       "      <th>31369</th>\n",
       "      <td>0.004032</td>\n",
       "      <td>0.06</td>\n",
       "      <td>False</td>\n",
       "    </tr>\n",
       "  </tbody>\n",
       "</table>\n",
       "<p>100 rows × 3 columns</p>\n",
       "</div>"
      ],
      "text/plain": [
       "        Loss_mae  Threshold  Anomaly\n",
       "188418  0.000610       0.06    False\n",
       "101783  0.002300       0.06    False\n",
       "6365    0.003545       0.06    False\n",
       "125498  0.001895       0.06    False\n",
       "151197  0.001094       0.06    False\n",
       "...          ...        ...      ...\n",
       "165726  0.001280       0.06    False\n",
       "23551   0.007003       0.06    False\n",
       "36681   0.004602       0.06    False\n",
       "124383  0.004210       0.06    False\n",
       "31369   0.004032       0.06    False\n",
       "\n",
       "[100 rows x 3 columns]"
      ]
     },
     "execution_count": 18,
     "metadata": {},
     "output_type": "execute_result"
    }
   ],
   "source": [
    "TH = 0.06\n",
    "scored = pd.DataFrame()\n",
    "scored['Loss_mae'] = np.mean(np.abs(X_pred-X_train), axis = 1)\n",
    "scored['Threshold'] = TH\n",
    "scored['Anomaly'] = scored['Loss_mae'] > scored['Threshold']\n",
    "scored.sample(100)"
   ]
  },
  {
   "cell_type": "code",
   "execution_count": 19,
   "metadata": {},
   "outputs": [],
   "source": [
    "X_pred_train = model.predict(np.array(X_train))\n",
    "X_pred_train = pd.DataFrame(X_pred_train)\n",
    "\n",
    "scored_train = pd.DataFrame()\n",
    "scored_train['Loss_mae'] = np.mean(np.abs(X_pred_train-X_train), axis = 1)\n",
    "scored_train['Threshold'] = TH\n",
    "scored_train['Anomaly'] = scored_train['Loss_mae'] > scored_train['Threshold']\n",
    "scored = pd.concat([scored_train, scored])"
   ]
  },
  {
   "cell_type": "code",
   "execution_count": 20,
   "metadata": {},
   "outputs": [
    {
     "data": {
      "text/plain": [
       "0.005420803625904309"
      ]
     },
     "execution_count": 20,
     "metadata": {},
     "output_type": "execute_result"
    }
   ],
   "source": [
    "scored_train['Loss_mae'].mean()"
   ]
  },
  {
   "cell_type": "code",
   "execution_count": 21,
   "metadata": {},
   "outputs": [
    {
     "data": {
      "text/plain": [
       "<matplotlib.axes._subplots.AxesSubplot at 0x25bf55be208>"
      ]
     },
     "execution_count": 21,
     "metadata": {},
     "output_type": "execute_result"
    },
    {
     "data": {
      "image/png": "[encoded data removed]",
      "text/plain": [
       "<Figure size 720x432 with 1 Axes>"
      ]
     },
     "metadata": {
      "needs_background": "light"
     },
     "output_type": "display_data"
    }
   ],
   "source": [
    "scored.plot(logy=True,  figsize = (10,6), xlim =[0,5000])"
   ]
  },
  {
   "cell_type": "code",
   "execution_count": 22,
   "metadata": {},
   "outputs": [
    {
     "data": {
      "text/html": [
       "<div>\n",
       "<style scoped>\n",
       "    .dataframe tbody tr th:only-of-type {\n",
       "        vertical-align: middle;\n",
       "    }\n",
       "\n",
       "    .dataframe tbody tr th {\n",
       "        vertical-align: top;\n",
       "    }\n",
       "\n",
       "    .dataframe thead th {\n",
       "        text-align: right;\n",
       "    }\n",
       "</style>\n",
       "<table border=\"1\" class=\"dataframe\">\n",
       "  <thead>\n",
       "    <tr style=\"text-align: right;\">\n",
       "      <th></th>\n",
       "      <th>Loss_mae</th>\n",
       "      <th>Threshold</th>\n",
       "      <th>Anomaly</th>\n",
       "    </tr>\n",
       "  </thead>\n",
       "  <tbody>\n",
       "    <tr>\n",
       "      <th>0</th>\n",
       "      <td>0.004606</td>\n",
       "      <td>0.06</td>\n",
       "      <td>False</td>\n",
       "    </tr>\n",
       "    <tr>\n",
       "      <th>1</th>\n",
       "      <td>0.005245</td>\n",
       "      <td>0.06</td>\n",
       "      <td>False</td>\n",
       "    </tr>\n",
       "    <tr>\n",
       "      <th>2</th>\n",
       "      <td>0.006772</td>\n",
       "      <td>0.06</td>\n",
       "      <td>False</td>\n",
       "    </tr>\n",
       "    <tr>\n",
       "      <th>3</th>\n",
       "      <td>0.007519</td>\n",
       "      <td>0.06</td>\n",
       "      <td>False</td>\n",
       "    </tr>\n",
       "    <tr>\n",
       "      <th>4</th>\n",
       "      <td>0.006682</td>\n",
       "      <td>0.06</td>\n",
       "      <td>False</td>\n",
       "    </tr>\n",
       "    <tr>\n",
       "      <th>...</th>\n",
       "      <td>...</td>\n",
       "      <td>...</td>\n",
       "      <td>...</td>\n",
       "    </tr>\n",
       "    <tr>\n",
       "      <th>193787</th>\n",
       "      <td>0.002109</td>\n",
       "      <td>0.06</td>\n",
       "      <td>False</td>\n",
       "    </tr>\n",
       "    <tr>\n",
       "      <th>193788</th>\n",
       "      <td>0.001400</td>\n",
       "      <td>0.06</td>\n",
       "      <td>False</td>\n",
       "    </tr>\n",
       "    <tr>\n",
       "      <th>193789</th>\n",
       "      <td>0.003139</td>\n",
       "      <td>0.06</td>\n",
       "      <td>False</td>\n",
       "    </tr>\n",
       "    <tr>\n",
       "      <th>193790</th>\n",
       "      <td>0.004395</td>\n",
       "      <td>0.06</td>\n",
       "      <td>False</td>\n",
       "    </tr>\n",
       "    <tr>\n",
       "      <th>193791</th>\n",
       "      <td>0.003905</td>\n",
       "      <td>0.06</td>\n",
       "      <td>False</td>\n",
       "    </tr>\n",
       "  </tbody>\n",
       "</table>\n",
       "<p>193792 rows × 3 columns</p>\n",
       "</div>"
      ],
      "text/plain": [
       "        Loss_mae  Threshold  Anomaly\n",
       "0       0.004606       0.06    False\n",
       "1       0.005245       0.06    False\n",
       "2       0.006772       0.06    False\n",
       "3       0.007519       0.06    False\n",
       "4       0.006682       0.06    False\n",
       "...          ...        ...      ...\n",
       "193787  0.002109       0.06    False\n",
       "193788  0.001400       0.06    False\n",
       "193789  0.003139       0.06    False\n",
       "193790  0.004395       0.06    False\n",
       "193791  0.003905       0.06    False\n",
       "\n",
       "[193792 rows x 3 columns]"
      ]
     },
     "execution_count": 22,
     "metadata": {},
     "output_type": "execute_result"
    }
   ],
   "source": [
    "scored_train"
   ]
  },
  {
   "cell_type": "code",
   "execution_count": 23,
   "metadata": {},
   "outputs": [
    {
     "name": "stdout",
     "output_type": "stream",
     "text": [
      "        Loss_mae  Threshold  Anomaly\n",
      "97288   0.071613       0.06     True\n",
      "97291   0.088330       0.06     True\n",
      "97292   0.063535       0.06     True\n",
      "97293   0.077385       0.06     True\n",
      "97295   0.086230       0.06     True\n",
      "...          ...        ...      ...\n",
      "189798  0.092634       0.06     True\n",
      "191895  0.064576       0.06     True\n",
      "193171  0.068499       0.06     True\n",
      "193520  0.066269       0.06     True\n",
      "193522  0.068060       0.06     True\n",
      "\n",
      "[338 rows x 3 columns]\n",
      "(338, 3)\n"
     ]
    }
   ],
   "source": [
    "anomalies = scored_train[scored_train['Anomaly'] == True]\n",
    "print(anomalies)\n",
    "print(anomalies.shape)"
   ]
  },
  {
   "cell_type": "code",
   "execution_count": 24,
   "metadata": {},
   "outputs": [
    {
     "name": "stdout",
     "output_type": "stream",
     "text": [
      "Empty DataFrame\n",
      "Columns: [Loss_mae, Threshold, Anomaly]\n",
      "Index: []\n",
      "(0, 3)\n"
     ]
    }
   ],
   "source": [
    "NB_anomalies = anomalies[anomalies.index <= 96896]\n",
    "print(NB_anomalies)\n",
    "print(NB_anomalies.shape)"
   ]
  },
  {
   "cell_type": "code",
   "execution_count": 25,
   "metadata": {},
   "outputs": [
    {
     "name": "stdout",
     "output_type": "stream",
     "text": [
      "        Loss_mae  Threshold  Anomaly\n",
      "97288   0.071613       0.06     True\n",
      "97291   0.088330       0.06     True\n",
      "97292   0.063535       0.06     True\n",
      "97293   0.077385       0.06     True\n",
      "97295   0.086230       0.06     True\n",
      "...          ...        ...      ...\n",
      "189798  0.092634       0.06     True\n",
      "191895  0.064576       0.06     True\n",
      "193171  0.068499       0.06     True\n",
      "193520  0.066269       0.06     True\n",
      "193522  0.068060       0.06     True\n",
      "\n",
      "[338 rows x 3 columns]\n",
      "(338, 3)\n"
     ]
    }
   ],
   "source": [
    "OR7_anomalies = anomalies[anomalies.index > 96896]\n",
    "print(OR7_anomalies)\n",
    "print(OR7_anomalies.shape)"
   ]
  },
  {
   "cell_type": "code",
   "execution_count": 26,
   "metadata": {},
   "outputs": [
    {
     "data": {
      "image/png": "[encoded data removed]",
      "text/plain": [
       "<Figure size 432x288 with 1 Axes>"
      ]
     },
     "metadata": {
      "needs_background": "light"
     },
     "output_type": "display_data"
    }
   ],
   "source": [
    "plt.plot(scored_train.index, scored_train.Loss_mae, label='Loss(MAE)');\n",
    "plt.plot(scored_train.index, scored_train.Threshold, label='Threshold')\n",
    "g = sns.scatterplot(x=anomalies.index , y=anomalies.Loss_mae, label='anomaly', color='red')\n",
    "g.set(xlim = (len(scored_train.index)-10000, len(scored_train.index)), ylim = (0, 0.2))\n",
    "plt.title('Anomalies in Outer Race 0.021\"')\n",
    "plt.legend();"
   ]
  },
  {
   "cell_type": "code",
   "execution_count": null,
   "metadata": {},
   "outputs": [],
   "source": []
  }
 ],
 "metadata": {
  "kernelspec": {
   "display_name": "Python 3",
   "language": "python",
   "name": "python3"
  },
  "language_info": {
   "codemirror_mode": {
    "name": "ipython",
    "version": 3
   },
   "file_extension": ".py",
   "mimetype": "text/x-python",
   "name": "python",
   "nbconvert_exporter": "python",
   "pygments_lexer": "ipython3",
   "version": "3.7.4"
  }
 },
 "nbformat": 4,
 "nbformat_minor": 4
}
