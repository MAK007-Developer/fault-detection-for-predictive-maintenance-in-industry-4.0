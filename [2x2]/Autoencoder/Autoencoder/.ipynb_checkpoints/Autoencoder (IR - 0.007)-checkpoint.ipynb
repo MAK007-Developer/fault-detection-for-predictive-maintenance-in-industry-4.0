{
 "cells": [
  {
   "cell_type": "code",
   "execution_count": 1,
   "metadata": {},
   "outputs": [],
   "source": [
    "#importing packages\n",
    "import pandas as pd\n",
    "import numpy as np"
   ]
  },
  {
   "cell_type": "code",
   "execution_count": 2,
   "metadata": {},
   "outputs": [],
   "source": [
    "Dtrain = pd.read_csv(\"../TrainingSet (IR - 7).csv\")\n",
    "Dtest = pd.read_csv(\"../TestingSet (IR - 7).csv\")"
   ]
  },
  {
   "cell_type": "code",
   "execution_count": 3,
   "metadata": {},
   "outputs": [
    {
     "name": "stdout",
     "output_type": "stream",
     "text": [
      "(193792, 4)\n",
      "(48448, 4)\n"
     ]
    }
   ],
   "source": [
    "print(Dtrain.shape)\n",
    "print(Dtest.shape)"
   ]
  },
  {
   "cell_type": "code",
   "execution_count": 4,
   "metadata": {},
   "outputs": [
    {
     "data": {
      "text/plain": [
       "Inner Race (0.007\")    96896\n",
       "Normal                 96896\n",
       "Name: Bearing, dtype: int64"
      ]
     },
     "execution_count": 4,
     "metadata": {},
     "output_type": "execute_result"
    }
   ],
   "source": [
    "Dtrain[\"Bearing\"].value_counts()"
   ]
  },
  {
   "cell_type": "code",
   "execution_count": 5,
   "metadata": {},
   "outputs": [
    {
     "data": {
      "text/plain": [
       "Inner Race (0.007\")    50.0\n",
       "Normal                 50.0\n",
       "Name: Bearing, dtype: float64"
      ]
     },
     "execution_count": 5,
     "metadata": {},
     "output_type": "execute_result"
    }
   ],
   "source": [
    "Dtrain[\"Bearing\"].value_counts(normalize=True)*100"
   ]
  },
  {
   "cell_type": "code",
   "execution_count": 6,
   "metadata": {},
   "outputs": [
    {
     "data": {
      "text/plain": [
       "Index(['Bearing', 'Fault Diameter', 'DE', 'FE'], dtype='object')"
      ]
     },
     "execution_count": 6,
     "metadata": {},
     "output_type": "execute_result"
    }
   ],
   "source": [
    "Dtest.columns"
   ]
  },
  {
   "cell_type": "code",
   "execution_count": 7,
   "metadata": {},
   "outputs": [],
   "source": [
    "from sklearn.preprocessing import LabelEncoder, OneHotEncoder\n",
    "from sklearn.compose import ColumnTransformer\n",
    "labelencoder_train = LabelEncoder()\n",
    "Dtrain[\"Bearing\"] = labelencoder_train.fit_transform(Dtrain[\"Bearing\"])\n",
    "ct = ColumnTransformer([(\"Bearing\", OneHotEncoder(), [0])],    remainder = 'passthrough')\n",
    "Dtrain = ct.fit_transform(Dtrain)"
   ]
  },
  {
   "cell_type": "code",
   "execution_count": 8,
   "metadata": {},
   "outputs": [
    {
     "name": "stdout",
     "output_type": "stream",
     "text": [
      "[[ 0.          1.          0.         -0.04965046 -0.09635818]\n",
      " [ 0.          1.          0.         -0.00438092 -0.11957455]\n",
      " [ 0.          1.          0.         -0.00333785 -0.11258909]\n",
      " ...\n",
      " [ 1.          0.          0.007       0.0513295  -0.06759455]\n",
      " [ 1.          0.          0.007      -0.03199972 -0.22990364]\n",
      " [ 1.          0.          0.007      -0.16178539  0.16128182]]\n"
     ]
    }
   ],
   "source": [
    "from sklearn.preprocessing import LabelEncoder, OneHotEncoder\n",
    "from sklearn.compose import ColumnTransformer\n",
    "labelencoder_train = LabelEncoder()\n",
    "Dtest[\"Bearing\"] = labelencoder_train.fit_transform(Dtest[\"Bearing\"])\n",
    "ct = ColumnTransformer([(\"Bearing\", OneHotEncoder(), [0])],    remainder = 'passthrough')\n",
    "Dtest = ct.fit_transform(Dtest)\n",
    "\n",
    "print(Dtest)"
   ]
  },
  {
   "cell_type": "code",
   "execution_count": 9,
   "metadata": {},
   "outputs": [],
   "source": [
    "from sklearn.preprocessing import MinMaxScaler\n",
    "scaler = MinMaxScaler()\n",
    "X_train = pd.DataFrame(scaler.fit_transform(Dtrain))\n",
    "# Random shuffle training data\n",
    "X_train.sample(frac=1)\n",
    "\n",
    "X_test = pd.DataFrame(scaler.transform(Dtest))"
   ]
  },
  {
   "cell_type": "code",
   "execution_count": 10,
   "metadata": {},
   "outputs": [
    {
     "name": "stderr",
     "output_type": "stream",
     "text": [
      "Using TensorFlow backend.\n"
     ]
    }
   ],
   "source": [
    "from keras.layers import Input, Dropout\n",
    "from keras.layers.core import Dense \n",
    "from keras.models import Model, Sequential, load_model\n",
    "from keras import regularizers"
   ]
  },
  {
   "cell_type": "code",
   "execution_count": 11,
   "metadata": {},
   "outputs": [],
   "source": [
    "import tensorflow as tf\n",
    "from numpy.random import seed\n",
    "seed(10)\n",
    "tf.random.set_seed(10)\n",
    "act_func = 'elu'"
   ]
  },
  {
   "cell_type": "code",
   "execution_count": 12,
   "metadata": {},
   "outputs": [
    {
     "name": "stdout",
     "output_type": "stream",
     "text": [
      "Model: \"sequential_1\"\n",
      "_________________________________________________________________\n",
      "Layer (type)                 Output Shape              Param #   \n",
      "=================================================================\n",
      "dense_1 (Dense)              (None, 32)                192       \n",
      "_________________________________________________________________\n",
      "dense_2 (Dense)              (None, 2)                 66        \n",
      "_________________________________________________________________\n",
      "dense_3 (Dense)              (None, 32)                96        \n",
      "_________________________________________________________________\n",
      "dense_4 (Dense)              (None, 5)                 165       \n",
      "=================================================================\n",
      "Total params: 519\n",
      "Trainable params: 519\n",
      "Non-trainable params: 0\n",
      "_________________________________________________________________\n"
     ]
    }
   ],
   "source": [
    "# Input layer:\n",
    "model=Sequential()\n",
    "# First hidden layer, connected to input vector X. \n",
    "model.add(Dense(32, activation=act_func,\n",
    "                kernel_initializer='glorot_uniform',\n",
    "                kernel_regularizer=regularizers.l2(0.0),\n",
    "                input_shape=(X_train.shape[1],)\n",
    "               )\n",
    "         )\n",
    "\n",
    "model.add(Dense(2, activation=act_func, kernel_initializer='glorot_uniform'))\n",
    "\n",
    "model.add(Dense(32, activation=act_func, kernel_initializer='glorot_uniform'))\n",
    "\n",
    "model.add(Dense(X_train.shape[1], kernel_initializer='glorot_uniform'))\n",
    "\n",
    "model.compile(loss='mse',optimizer='adam')\n",
    "\n",
    "# Train model for 100 epochs, batch size of 10: \n",
    "model.summary()"
   ]
  },
  {
   "cell_type": "code",
   "execution_count": 13,
   "metadata": {},
   "outputs": [
    {
     "name": "stdout",
     "output_type": "stream",
     "text": [
      "Train on 174412 samples, validate on 19380 samples\n",
      "Epoch 1/100\n",
      "174412/174412 [==============================] - 0s 3us/step - loss: 0.1206 - val_loss: 0.0050\n",
      "Epoch 2/100\n",
      "174412/174412 [==============================] - 0s 2us/step - loss: 0.0231 - val_loss: 0.0045\n",
      "Epoch 3/100\n",
      "174412/174412 [==============================] - 0s 2us/step - loss: 0.0022 - val_loss: 0.0044\n",
      "Epoch 4/100\n",
      "174412/174412 [==============================] - 0s 2us/step - loss: 0.0021 - val_loss: 0.0043\n",
      "Epoch 5/100\n",
      "174412/174412 [==============================] - 0s 2us/step - loss: 0.0021 - val_loss: 0.0042\n",
      "Epoch 6/100\n",
      "174412/174412 [==============================] - 0s 2us/step - loss: 0.0020 - val_loss: 0.0041\n",
      "Epoch 7/100\n",
      "174412/174412 [==============================] - 0s 2us/step - loss: 0.0020 - val_loss: 0.0040\n",
      "Epoch 8/100\n",
      "174412/174412 [==============================] - 0s 2us/step - loss: 0.0019 - val_loss: 0.0038\n",
      "Epoch 9/100\n",
      "174412/174412 [==============================] - 0s 2us/step - loss: 0.0019 - val_loss: 0.0037\n",
      "Epoch 10/100\n",
      "174412/174412 [==============================] - 0s 2us/step - loss: 0.0018 - val_loss: 0.0035\n",
      "Epoch 11/100\n",
      "174412/174412 [==============================] - 0s 2us/step - loss: 0.0017 - val_loss: 0.0034\n",
      "Epoch 12/100\n",
      "174412/174412 [==============================] - 0s 2us/step - loss: 0.0017 - val_loss: 0.0032\n",
      "Epoch 13/100\n",
      "174412/174412 [==============================] - 0s 2us/step - loss: 0.0016 - val_loss: 0.0030\n",
      "Epoch 14/100\n",
      "174412/174412 [==============================] - 0s 3us/step - loss: 0.0015 - val_loss: 0.0028\n",
      "Epoch 15/100\n",
      "174412/174412 [==============================] - 0s 2us/step - loss: 0.0014 - val_loss: 0.0027\n",
      "Epoch 16/100\n",
      "174412/174412 [==============================] - 0s 2us/step - loss: 0.0013 - val_loss: 0.0025\n",
      "Epoch 17/100\n",
      "174412/174412 [==============================] - 0s 2us/step - loss: 0.0012 - val_loss: 0.0024\n",
      "Epoch 18/100\n",
      "174412/174412 [==============================] - 0s 2us/step - loss: 0.0012 - val_loss: 0.0023\n",
      "Epoch 19/100\n",
      "174412/174412 [==============================] - 0s 2us/step - loss: 0.0011 - val_loss: 0.0022\n",
      "Epoch 20/100\n",
      "174412/174412 [==============================] - 0s 2us/step - loss: 0.0010 - val_loss: 0.0021\n",
      "Epoch 21/100\n",
      "174412/174412 [==============================] - 0s 2us/step - loss: 0.0010 - val_loss: 0.0020\n",
      "Epoch 22/100\n",
      "174412/174412 [==============================] - 0s 2us/step - loss: 9.7314e-04 - val_loss: 0.0020\n",
      "Epoch 23/100\n",
      "174412/174412 [==============================] - 0s 2us/step - loss: 9.4943e-04 - val_loss: 0.0020\n",
      "Epoch 24/100\n",
      "174412/174412 [==============================] - 0s 2us/step - loss: 9.3289e-04 - val_loss: 0.0019\n",
      "Epoch 25/100\n",
      "174412/174412 [==============================] - 0s 2us/step - loss: 9.2180e-04 - val_loss: 0.0019\n",
      "Epoch 26/100\n",
      "174412/174412 [==============================] - 0s 3us/step - loss: 9.1474e-04 - val_loss: 0.0019\n",
      "Epoch 27/100\n",
      "174412/174412 [==============================] - 0s 2us/step - loss: 9.1108e-04 - val_loss: 0.0019\n",
      "Epoch 28/100\n",
      "174412/174412 [==============================] - 0s 2us/step - loss: 9.0969e-04 - val_loss: 0.0019\n",
      "Epoch 29/100\n",
      "174412/174412 [==============================] - 0s 2us/step - loss: 9.0904e-04 - val_loss: 0.0019\n",
      "Epoch 30/100\n",
      "174412/174412 [==============================] - 0s 2us/step - loss: 9.0896e-04 - val_loss: 0.0019\n",
      "Epoch 31/100\n",
      "174412/174412 [==============================] - 0s 2us/step - loss: 9.0921e-04 - val_loss: 0.0019\n",
      "Epoch 32/100\n",
      "174412/174412 [==============================] - 0s 2us/step - loss: 9.0910e-04 - val_loss: 0.0019\n",
      "Epoch 33/100\n",
      "174412/174412 [==============================] - 0s 2us/step - loss: 9.0892e-04 - val_loss: 0.0019\n",
      "Epoch 34/100\n",
      "174412/174412 [==============================] - 0s 2us/step - loss: 9.0915e-04 - val_loss: 0.0019\n",
      "Epoch 35/100\n",
      "174412/174412 [==============================] - 0s 2us/step - loss: 9.0972e-04 - val_loss: 0.0019\n",
      "Epoch 36/100\n",
      "174412/174412 [==============================] - 0s 2us/step - loss: 9.0952e-04 - val_loss: 0.0019\n",
      "Epoch 37/100\n",
      "174412/174412 [==============================] - 0s 2us/step - loss: 9.0990e-04 - val_loss: 0.0019\n",
      "Epoch 38/100\n",
      "174412/174412 [==============================] - 0s 2us/step - loss: 9.0988e-04 - val_loss: 0.0019\n",
      "Epoch 39/100\n",
      "174412/174412 [==============================] - 0s 2us/step - loss: 9.0957e-04 - val_loss: 0.0019\n",
      "Epoch 40/100\n",
      "174412/174412 [==============================] - 0s 2us/step - loss: 9.0908e-04 - val_loss: 0.0019\n",
      "Epoch 41/100\n",
      "174412/174412 [==============================] - 0s 2us/step - loss: 9.0936e-04 - val_loss: 0.0019\n",
      "Epoch 42/100\n",
      "174412/174412 [==============================] - 0s 2us/step - loss: 9.0927e-04 - val_loss: 0.0019\n",
      "Epoch 43/100\n",
      "174412/174412 [==============================] - 0s 2us/step - loss: 9.0973e-04 - val_loss: 0.0019\n",
      "Epoch 44/100\n",
      "174412/174412 [==============================] - 0s 2us/step - loss: 9.0962e-04 - val_loss: 0.0019\n",
      "Epoch 45/100\n",
      "174412/174412 [==============================] - 0s 2us/step - loss: 9.1100e-04 - val_loss: 0.0019\n",
      "Epoch 46/100\n",
      "174412/174412 [==============================] - 0s 2us/step - loss: 9.1011e-04 - val_loss: 0.0019\n",
      "Epoch 47/100\n",
      "174412/174412 [==============================] - 0s 2us/step - loss: 9.1067e-04 - val_loss: 0.0019\n",
      "Epoch 48/100\n",
      "174412/174412 [==============================] - 0s 2us/step - loss: 9.1006e-04 - val_loss: 0.0019\n",
      "Epoch 49/100\n",
      "174412/174412 [==============================] - 0s 2us/step - loss: 9.1038e-04 - val_loss: 0.0019\n",
      "Epoch 50/100\n",
      "174412/174412 [==============================] - 0s 2us/step - loss: 9.1053e-04 - val_loss: 0.0019\n",
      "Epoch 51/100\n",
      "174412/174412 [==============================] - 0s 2us/step - loss: 9.1014e-04 - val_loss: 0.0019\n",
      "Epoch 52/100\n",
      "174412/174412 [==============================] - 0s 2us/step - loss: 9.1142e-04 - val_loss: 0.0019\n",
      "Epoch 53/100\n",
      "174412/174412 [==============================] - 0s 2us/step - loss: 9.0958e-04 - val_loss: 0.0019\n",
      "Epoch 54/100\n",
      "174412/174412 [==============================] - 0s 2us/step - loss: 9.1013e-04 - val_loss: 0.0019\n",
      "Epoch 55/100\n",
      "174412/174412 [==============================] - 0s 2us/step - loss: 9.1046e-04 - val_loss: 0.0019\n",
      "Epoch 56/100\n",
      "174412/174412 [==============================] - 0s 2us/step - loss: 9.0956e-04 - val_loss: 0.0019\n",
      "Epoch 57/100\n",
      "174412/174412 [==============================] - 0s 2us/step - loss: 9.1003e-04 - val_loss: 0.0019\n",
      "Epoch 58/100\n",
      "174412/174412 [==============================] - 0s 2us/step - loss: 9.1128e-04 - val_loss: 0.0019\n",
      "Epoch 59/100\n",
      "174412/174412 [==============================] - 0s 2us/step - loss: 9.0939e-04 - val_loss: 0.0019\n",
      "Epoch 60/100\n",
      "174412/174412 [==============================] - 0s 2us/step - loss: 9.0960e-04 - val_loss: 0.0019\n",
      "Epoch 61/100\n",
      "174412/174412 [==============================] - 0s 2us/step - loss: 9.1045e-04 - val_loss: 0.0019\n",
      "Epoch 62/100\n",
      "174412/174412 [==============================] - 0s 2us/step - loss: 9.0942e-04 - val_loss: 0.0019\n",
      "Epoch 63/100\n",
      "174412/174412 [==============================] - 0s 2us/step - loss: 9.0988e-04 - val_loss: 0.0019\n",
      "Epoch 64/100\n",
      "174412/174412 [==============================] - 0s 2us/step - loss: 9.1069e-04 - val_loss: 0.0019\n",
      "Epoch 65/100\n",
      "174412/174412 [==============================] - 0s 2us/step - loss: 9.0874e-04 - val_loss: 0.0019\n",
      "Epoch 66/100\n",
      "174412/174412 [==============================] - 0s 2us/step - loss: 9.0902e-04 - val_loss: 0.0019\n",
      "Epoch 67/100\n",
      "174412/174412 [==============================] - 0s 2us/step - loss: 9.0947e-04 - val_loss: 0.0019\n",
      "Epoch 68/100\n",
      "174412/174412 [==============================] - 0s 2us/step - loss: 9.0955e-04 - val_loss: 0.0019\n",
      "Epoch 69/100\n",
      "174412/174412 [==============================] - 0s 2us/step - loss: 9.0893e-04 - val_loss: 0.0019\n",
      "Epoch 70/100\n",
      "174412/174412 [==============================] - 0s 2us/step - loss: 9.0889e-04 - val_loss: 0.0019\n",
      "Epoch 71/100\n",
      "174412/174412 [==============================] - 0s 2us/step - loss: 9.0895e-04 - val_loss: 0.0019\n",
      "Epoch 72/100\n",
      "174412/174412 [==============================] - 0s 2us/step - loss: 9.1031e-04 - val_loss: 0.0019\n",
      "Epoch 73/100\n",
      "174412/174412 [==============================] - 0s 2us/step - loss: 9.0838e-04 - val_loss: 0.0019\n",
      "Epoch 74/100\n"
     ]
    },
    {
     "name": "stdout",
     "output_type": "stream",
     "text": [
      "174412/174412 [==============================] - 0s 2us/step - loss: 9.0866e-04 - val_loss: 0.0019\n",
      "Epoch 75/100\n",
      "174412/174412 [==============================] - 0s 2us/step - loss: 9.0845e-04 - val_loss: 0.0019\n",
      "Epoch 76/100\n",
      "174412/174412 [==============================] - 0s 2us/step - loss: 9.0866e-04 - val_loss: 0.0019\n",
      "Epoch 77/100\n",
      "174412/174412 [==============================] - 1s 3us/step - loss: 9.0927e-04 - val_loss: 0.0019\n",
      "Epoch 78/100\n",
      "174412/174412 [==============================] - 1s 3us/step - loss: 9.0835e-04 - val_loss: 0.0019\n",
      "Epoch 79/100\n",
      "174412/174412 [==============================] - 1s 3us/step - loss: 9.0808e-04 - val_loss: 0.0019\n",
      "Epoch 80/100\n",
      "174412/174412 [==============================] - 1s 3us/step - loss: 9.0947e-04 - val_loss: 0.0019\n",
      "Epoch 81/100\n",
      "174412/174412 [==============================] - 1s 3us/step - loss: 9.0785e-04 - val_loss: 0.0019\n",
      "Epoch 82/100\n",
      "174412/174412 [==============================] - 1s 3us/step - loss: 9.0806e-04 - val_loss: 0.0019\n",
      "Epoch 83/100\n",
      "174412/174412 [==============================] - 1s 3us/step - loss: 9.0947e-04 - val_loss: 0.0019\n",
      "Epoch 84/100\n",
      "174412/174412 [==============================] - 0s 3us/step - loss: 9.0789e-04 - val_loss: 0.0019\n",
      "Epoch 85/100\n",
      "174412/174412 [==============================] - 0s 3us/step - loss: 9.0754e-04 - val_loss: 0.0019\n",
      "Epoch 86/100\n",
      "174412/174412 [==============================] - 0s 2us/step - loss: 9.0937e-04 - val_loss: 0.0019\n",
      "Epoch 87/100\n",
      "174412/174412 [==============================] - 0s 3us/step - loss: 9.0690e-04 - val_loss: 0.0019\n",
      "Epoch 88/100\n",
      "174412/174412 [==============================] - 0s 3us/step - loss: 9.0792e-04 - val_loss: 0.0019\n",
      "Epoch 89/100\n",
      "174412/174412 [==============================] - 0s 3us/step - loss: 9.0878e-04 - val_loss: 0.0019\n",
      "Epoch 90/100\n",
      "174412/174412 [==============================] - 0s 2us/step - loss: 9.0700e-04 - val_loss: 0.0019\n",
      "Epoch 91/100\n",
      "174412/174412 [==============================] - 0s 3us/step - loss: 9.0775e-04 - val_loss: 0.0019\n",
      "Epoch 92/100\n",
      "174412/174412 [==============================] - 0s 2us/step - loss: 9.0902e-04 - val_loss: 0.0019\n",
      "Epoch 93/100\n",
      "174412/174412 [==============================] - 0s 2us/step - loss: 9.0652e-04 - val_loss: 0.0019\n",
      "Epoch 94/100\n",
      "174412/174412 [==============================] - 0s 2us/step - loss: 9.0744e-04 - val_loss: 0.0019\n",
      "Epoch 95/100\n",
      "174412/174412 [==============================] - 0s 2us/step - loss: 9.0870e-04 - val_loss: 0.0019\n",
      "Epoch 96/100\n",
      "174412/174412 [==============================] - 0s 2us/step - loss: 9.0670e-04 - val_loss: 0.0019\n",
      "Epoch 97/100\n",
      "174412/174412 [==============================] - 0s 2us/step - loss: 9.0740e-04 - val_loss: 0.0019\n",
      "Epoch 98/100\n",
      "174412/174412 [==============================] - 0s 2us/step - loss: 9.0920e-04 - val_loss: 0.0019\n",
      "Epoch 99/100\n",
      "174412/174412 [==============================] - 0s 2us/step - loss: 9.0603e-04 - val_loss: 0.0019\n",
      "Epoch 100/100\n",
      "174412/174412 [==============================] - 0s 2us/step - loss: 9.0669e-04 - val_loss: 0.0019\n"
     ]
    }
   ],
   "source": [
    "NUM_EPOCHS=100\n",
    "BATCH_SIZE=1000\n",
    "history=model.fit(X_train,X_train, \n",
    "                  batch_size=BATCH_SIZE, \n",
    "                  epochs=NUM_EPOCHS,\n",
    "                  validation_split=0.1,\n",
    "                  verbose = 1,\n",
    "                  shuffle = False)"
   ]
  },
  {
   "cell_type": "code",
   "execution_count": 14,
   "metadata": {},
   "outputs": [
    {
     "data": {
      "image/png": "[encoded data removed]",
      "text/plain": [
       "<Figure size 432x288 with 1 Axes>"
      ]
     },
     "metadata": {
      "needs_background": "light"
     },
     "output_type": "display_data"
    }
   ],
   "source": [
    "import matplotlib.pyplot as plt\n",
    "\n",
    "plt.plot(history.history['loss'], 'b', label='Training loss')\n",
    "plt.plot(history.history['val_loss'], 'r', label='Validation loss')\n",
    "plt.legend(loc='upper right')\n",
    "plt.xlabel('Epochs')\n",
    "plt.ylabel('Loss, [mse]')\n",
    "plt.ylim([0,.05])\n",
    "plt.show()"
   ]
  },
  {
   "cell_type": "code",
   "execution_count": 15,
   "metadata": {},
   "outputs": [],
   "source": [
    "X_pred = model.predict(X_train)"
   ]
  },
  {
   "cell_type": "code",
   "execution_count": 16,
   "metadata": {},
   "outputs": [
    {
     "data": {
      "image/png": "[encoded data removed]",
      "text/plain": [
       "<Figure size 432x288 with 1 Axes>"
      ]
     },
     "metadata": {
      "needs_background": "light"
     },
     "output_type": "display_data"
    }
   ],
   "source": [
    "import seaborn as sns\n",
    "\n",
    "scored = np.mean(np.abs(X_pred-X_train), axis = 1)\n",
    "plt.figure()\n",
    "g = sns.distplot(scored, bins = 10, kde= True);\n",
    "#g.set(xlim=(0.05,0.10), ylim=(0, 1))\n",
    "plt.show()"
   ]
  },
  {
   "cell_type": "code",
   "execution_count": 17,
   "metadata": {},
   "outputs": [
    {
     "name": "stdout",
     "output_type": "stream",
     "text": [
      "48448/48448 [==============================] - 1s 12us/step\n"
     ]
    },
    {
     "data": {
      "text/plain": [
       "0.0012581174722569718"
      ]
     },
     "execution_count": 17,
     "metadata": {},
     "output_type": "execute_result"
    }
   ],
   "source": [
    "model.evaluate(X_test,X_test)"
   ]
  },
  {
   "cell_type": "code",
   "execution_count": 18,
   "metadata": {},
   "outputs": [
    {
     "data": {
      "text/html": [
       "<div>\n",
       "<style scoped>\n",
       "    .dataframe tbody tr th:only-of-type {\n",
       "        vertical-align: middle;\n",
       "    }\n",
       "\n",
       "    .dataframe tbody tr th {\n",
       "        vertical-align: top;\n",
       "    }\n",
       "\n",
       "    .dataframe thead th {\n",
       "        text-align: right;\n",
       "    }\n",
       "</style>\n",
       "<table border=\"1\" class=\"dataframe\">\n",
       "  <thead>\n",
       "    <tr style=\"text-align: right;\">\n",
       "      <th></th>\n",
       "      <th>Loss_mae</th>\n",
       "      <th>Threshold</th>\n",
       "      <th>Anomaly</th>\n",
       "    </tr>\n",
       "  </thead>\n",
       "  <tbody>\n",
       "    <tr>\n",
       "      <th>188418</th>\n",
       "      <td>0.000997</td>\n",
       "      <td>0.1</td>\n",
       "      <td>False</td>\n",
       "    </tr>\n",
       "    <tr>\n",
       "      <th>101783</th>\n",
       "      <td>0.000392</td>\n",
       "      <td>0.1</td>\n",
       "      <td>False</td>\n",
       "    </tr>\n",
       "    <tr>\n",
       "      <th>6365</th>\n",
       "      <td>0.009841</td>\n",
       "      <td>0.1</td>\n",
       "      <td>False</td>\n",
       "    </tr>\n",
       "    <tr>\n",
       "      <th>125498</th>\n",
       "      <td>0.006039</td>\n",
       "      <td>0.1</td>\n",
       "      <td>False</td>\n",
       "    </tr>\n",
       "    <tr>\n",
       "      <th>151197</th>\n",
       "      <td>0.039819</td>\n",
       "      <td>0.1</td>\n",
       "      <td>False</td>\n",
       "    </tr>\n",
       "    <tr>\n",
       "      <th>...</th>\n",
       "      <td>...</td>\n",
       "      <td>...</td>\n",
       "      <td>...</td>\n",
       "    </tr>\n",
       "    <tr>\n",
       "      <th>165726</th>\n",
       "      <td>0.009533</td>\n",
       "      <td>0.1</td>\n",
       "      <td>False</td>\n",
       "    </tr>\n",
       "    <tr>\n",
       "      <th>23551</th>\n",
       "      <td>0.018076</td>\n",
       "      <td>0.1</td>\n",
       "      <td>False</td>\n",
       "    </tr>\n",
       "    <tr>\n",
       "      <th>36681</th>\n",
       "      <td>0.010646</td>\n",
       "      <td>0.1</td>\n",
       "      <td>False</td>\n",
       "    </tr>\n",
       "    <tr>\n",
       "      <th>124383</th>\n",
       "      <td>0.003272</td>\n",
       "      <td>0.1</td>\n",
       "      <td>False</td>\n",
       "    </tr>\n",
       "    <tr>\n",
       "      <th>31369</th>\n",
       "      <td>0.008544</td>\n",
       "      <td>0.1</td>\n",
       "      <td>False</td>\n",
       "    </tr>\n",
       "  </tbody>\n",
       "</table>\n",
       "<p>100 rows × 3 columns</p>\n",
       "</div>"
      ],
      "text/plain": [
       "        Loss_mae  Threshold  Anomaly\n",
       "188418  0.000997        0.1    False\n",
       "101783  0.000392        0.1    False\n",
       "6365    0.009841        0.1    False\n",
       "125498  0.006039        0.1    False\n",
       "151197  0.039819        0.1    False\n",
       "...          ...        ...      ...\n",
       "165726  0.009533        0.1    False\n",
       "23551   0.018076        0.1    False\n",
       "36681   0.010646        0.1    False\n",
       "124383  0.003272        0.1    False\n",
       "31369   0.008544        0.1    False\n",
       "\n",
       "[100 rows x 3 columns]"
      ]
     },
     "execution_count": 18,
     "metadata": {},
     "output_type": "execute_result"
    }
   ],
   "source": [
    "TH = 0.10\n",
    "scored = pd.DataFrame()\n",
    "scored['Loss_mae'] = np.mean(np.abs(X_pred-X_train), axis = 1)\n",
    "scored['Threshold'] = TH\n",
    "scored['Anomaly'] = scored['Loss_mae'] > scored['Threshold']\n",
    "scored.sample(100)"
   ]
  },
  {
   "cell_type": "code",
   "execution_count": 19,
   "metadata": {},
   "outputs": [],
   "source": [
    "X_pred_train = model.predict(np.array(X_train))\n",
    "X_pred_train = pd.DataFrame(X_pred_train)\n",
    "\n",
    "scored_train = pd.DataFrame()\n",
    "scored_train['Loss_mae'] = np.mean(np.abs(X_pred_train-X_train), axis = 1)\n",
    "scored_train['Threshold'] = TH\n",
    "scored_train['Anomaly'] = scored_train['Loss_mae'] > scored_train['Threshold']\n",
    "scored = pd.concat([scored_train, scored])"
   ]
  },
  {
   "cell_type": "code",
   "execution_count": 20,
   "metadata": {},
   "outputs": [
    {
     "data": {
      "text/plain": [
       "0.015972418220315993"
      ]
     },
     "execution_count": 20,
     "metadata": {},
     "output_type": "execute_result"
    }
   ],
   "source": [
    "scored_train['Loss_mae'].mean()"
   ]
  },
  {
   "cell_type": "code",
   "execution_count": 21,
   "metadata": {},
   "outputs": [
    {
     "data": {
      "text/plain": [
       "<matplotlib.axes._subplots.AxesSubplot at 0x1f3800b1288>"
      ]
     },
     "execution_count": 21,
     "metadata": {},
     "output_type": "execute_result"
    },
    {
     "data": {
      "image/png": "[encoded data removed]",
      "text/plain": [
       "<Figure size 720x432 with 1 Axes>"
      ]
     },
     "metadata": {
      "needs_background": "light"
     },
     "output_type": "display_data"
    }
   ],
   "source": [
    "scored.plot(logy=True,  figsize = (10,6), xlim =[0,5000])"
   ]
  },
  {
   "cell_type": "code",
   "execution_count": 22,
   "metadata": {},
   "outputs": [
    {
     "data": {
      "text/html": [
       "<div>\n",
       "<style scoped>\n",
       "    .dataframe tbody tr th:only-of-type {\n",
       "        vertical-align: middle;\n",
       "    }\n",
       "\n",
       "    .dataframe tbody tr th {\n",
       "        vertical-align: top;\n",
       "    }\n",
       "\n",
       "    .dataframe thead th {\n",
       "        text-align: right;\n",
       "    }\n",
       "</style>\n",
       "<table border=\"1\" class=\"dataframe\">\n",
       "  <thead>\n",
       "    <tr style=\"text-align: right;\">\n",
       "      <th></th>\n",
       "      <th>Loss_mae</th>\n",
       "      <th>Threshold</th>\n",
       "      <th>Anomaly</th>\n",
       "    </tr>\n",
       "  </thead>\n",
       "  <tbody>\n",
       "    <tr>\n",
       "      <th>0</th>\n",
       "      <td>0.009831</td>\n",
       "      <td>0.1</td>\n",
       "      <td>False</td>\n",
       "    </tr>\n",
       "    <tr>\n",
       "      <th>1</th>\n",
       "      <td>0.010608</td>\n",
       "      <td>0.1</td>\n",
       "      <td>False</td>\n",
       "    </tr>\n",
       "    <tr>\n",
       "      <th>2</th>\n",
       "      <td>0.015977</td>\n",
       "      <td>0.1</td>\n",
       "      <td>False</td>\n",
       "    </tr>\n",
       "    <tr>\n",
       "      <th>3</th>\n",
       "      <td>0.018526</td>\n",
       "      <td>0.1</td>\n",
       "      <td>False</td>\n",
       "    </tr>\n",
       "    <tr>\n",
       "      <th>4</th>\n",
       "      <td>0.016936</td>\n",
       "      <td>0.1</td>\n",
       "      <td>False</td>\n",
       "    </tr>\n",
       "    <tr>\n",
       "      <th>...</th>\n",
       "      <td>...</td>\n",
       "      <td>...</td>\n",
       "      <td>...</td>\n",
       "    </tr>\n",
       "    <tr>\n",
       "      <th>193787</th>\n",
       "      <td>0.111404</td>\n",
       "      <td>0.1</td>\n",
       "      <td>True</td>\n",
       "    </tr>\n",
       "    <tr>\n",
       "      <th>193788</th>\n",
       "      <td>0.003520</td>\n",
       "      <td>0.1</td>\n",
       "      <td>False</td>\n",
       "    </tr>\n",
       "    <tr>\n",
       "      <th>193789</th>\n",
       "      <td>0.111589</td>\n",
       "      <td>0.1</td>\n",
       "      <td>True</td>\n",
       "    </tr>\n",
       "    <tr>\n",
       "      <th>193790</th>\n",
       "      <td>0.018298</td>\n",
       "      <td>0.1</td>\n",
       "      <td>False</td>\n",
       "    </tr>\n",
       "    <tr>\n",
       "      <th>193791</th>\n",
       "      <td>0.080854</td>\n",
       "      <td>0.1</td>\n",
       "      <td>False</td>\n",
       "    </tr>\n",
       "  </tbody>\n",
       "</table>\n",
       "<p>193792 rows × 3 columns</p>\n",
       "</div>"
      ],
      "text/plain": [
       "        Loss_mae  Threshold  Anomaly\n",
       "0       0.009831        0.1    False\n",
       "1       0.010608        0.1    False\n",
       "2       0.015977        0.1    False\n",
       "3       0.018526        0.1    False\n",
       "4       0.016936        0.1    False\n",
       "...          ...        ...      ...\n",
       "193787  0.111404        0.1     True\n",
       "193788  0.003520        0.1    False\n",
       "193789  0.111589        0.1     True\n",
       "193790  0.018298        0.1    False\n",
       "193791  0.080854        0.1    False\n",
       "\n",
       "[193792 rows x 3 columns]"
      ]
     },
     "execution_count": 22,
     "metadata": {},
     "output_type": "execute_result"
    }
   ],
   "source": [
    "scored_train"
   ]
  },
  {
   "cell_type": "code",
   "execution_count": 23,
   "metadata": {},
   "outputs": [
    {
     "name": "stdout",
     "output_type": "stream",
     "text": [
      "        Loss_mae  Threshold  Anomaly\n",
      "97025   0.101125        0.1     True\n",
      "97626   0.101003        0.1     True\n",
      "98007   0.103314        0.1     True\n",
      "98247   0.111569        0.1     True\n",
      "98846   0.107190        0.1     True\n",
      "...          ...        ...      ...\n",
      "193168  0.114657        0.1     True\n",
      "193179  0.116597        0.1     True\n",
      "193778  0.104189        0.1     True\n",
      "193787  0.111404        0.1     True\n",
      "193789  0.111589        0.1     True\n",
      "\n",
      "[267 rows x 3 columns]\n",
      "(267, 3)\n"
     ]
    }
   ],
   "source": [
    "anomalies = scored_train[scored_train['Anomaly'] == True]\n",
    "print(anomalies)\n",
    "print(anomalies.shape)"
   ]
  },
  {
   "cell_type": "code",
   "execution_count": 24,
   "metadata": {},
   "outputs": [
    {
     "name": "stdout",
     "output_type": "stream",
     "text": [
      "Empty DataFrame\n",
      "Columns: [Loss_mae, Threshold, Anomaly]\n",
      "Index: []\n",
      "(0, 3)\n"
     ]
    }
   ],
   "source": [
    "NB_anomalies = anomalies[anomalies.index <= 96896]\n",
    "print(NB_anomalies)\n",
    "print(NB_anomalies.shape)"
   ]
  },
  {
   "cell_type": "code",
   "execution_count": 25,
   "metadata": {},
   "outputs": [
    {
     "name": "stdout",
     "output_type": "stream",
     "text": [
      "        Loss_mae  Threshold  Anomaly\n",
      "97025   0.101125        0.1     True\n",
      "97626   0.101003        0.1     True\n",
      "98007   0.103314        0.1     True\n",
      "98247   0.111569        0.1     True\n",
      "98846   0.107190        0.1     True\n",
      "...          ...        ...      ...\n",
      "193168  0.114657        0.1     True\n",
      "193179  0.116597        0.1     True\n",
      "193778  0.104189        0.1     True\n",
      "193787  0.111404        0.1     True\n",
      "193789  0.111589        0.1     True\n",
      "\n",
      "[267 rows x 3 columns]\n",
      "(267, 3)\n"
     ]
    }
   ],
   "source": [
    "IR7_anomalies = anomalies[anomalies.index > 96896]\n",
    "print(IR7_anomalies)\n",
    "print(IR7_anomalies.shape)"
   ]
  },
  {
   "cell_type": "code",
   "execution_count": 26,
   "metadata": {},
   "outputs": [
    {
     "data": {
      "image/png": "[encoded data removed]",
      "text/plain": [
       "<Figure size 432x288 with 1 Axes>"
      ]
     },
     "metadata": {
      "needs_background": "light"
     },
     "output_type": "display_data"
    }
   ],
   "source": [
    "plt.plot(scored_train.index, scored_train.Loss_mae, label='Loss(MAE)');\n",
    "plt.plot(scored_train.index, scored_train.Threshold, label='Threshold')\n",
    "g = sns.scatterplot(x=anomalies.index , y=anomalies.Loss_mae, label='anomaly', color='red')\n",
    "g.set(xlim = (len(scored_train.index)-10000, len(scored_train.index)), ylim = (0, 0.2))\n",
    "plt.title('Anomalies in Inner Race 0.007\"')\n",
    "plt.legend();"
   ]
  },
  {
   "cell_type": "code",
   "execution_count": null,
   "metadata": {},
   "outputs": [],
   "source": []
  }
 ],
 "metadata": {
  "kernelspec": {
   "display_name": "Python 3",
   "language": "python",
   "name": "python3"
  },
  "language_info": {
   "codemirror_mode": {
    "name": "ipython",
    "version": 3
   },
   "file_extension": ".py",
   "mimetype": "text/x-python",
   "name": "python",
   "nbconvert_exporter": "python",
   "pygments_lexer": "ipython3",
   "version": "3.7.4"
  }
 },
 "nbformat": 4,
 "nbformat_minor": 4
}
