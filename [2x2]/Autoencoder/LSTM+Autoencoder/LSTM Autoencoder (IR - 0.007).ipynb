{
 "cells": [
  {
   "cell_type": "code",
   "execution_count": 1,
   "metadata": {},
   "outputs": [],
   "source": [
    "#importing packages\n",
    "import pandas as pd\n",
    "import numpy as np"
   ]
  },
  {
   "cell_type": "code",
   "execution_count": 2,
   "metadata": {},
   "outputs": [],
   "source": [
    "Dtrain = pd.read_csv(\"../TrainingSet (IR - 7).csv\")\n",
    "Dtest = pd.read_csv(\"../TestingSet (IR - 7).csv\")"
   ]
  },
  {
   "cell_type": "code",
   "execution_count": 3,
   "metadata": {},
   "outputs": [
    {
     "name": "stdout",
     "output_type": "stream",
     "text": [
      "(193792, 4)\n",
      "(48448, 4)\n"
     ]
    }
   ],
   "source": [
    "print(Dtrain.shape)\n",
    "print(Dtest.shape)"
   ]
  },
  {
   "cell_type": "code",
   "execution_count": 4,
   "metadata": {},
   "outputs": [
    {
     "data": {
      "text/plain": [
       "Normal                 96896\n",
       "Inner Race (0.007\")    96896\n",
       "Name: Bearing, dtype: int64"
      ]
     },
     "execution_count": 4,
     "metadata": {},
     "output_type": "execute_result"
    }
   ],
   "source": [
    "Dtrain[\"Bearing\"].value_counts()"
   ]
  },
  {
   "cell_type": "code",
   "execution_count": 5,
   "metadata": {},
   "outputs": [
    {
     "data": {
      "text/plain": [
       "Normal                 50.0\n",
       "Inner Race (0.007\")    50.0\n",
       "Name: Bearing, dtype: float64"
      ]
     },
     "execution_count": 5,
     "metadata": {},
     "output_type": "execute_result"
    }
   ],
   "source": [
    "Dtrain[\"Bearing\"].value_counts(normalize=True)*100"
   ]
  },
  {
   "cell_type": "code",
   "execution_count": 6,
   "metadata": {},
   "outputs": [
    {
     "data": {
      "text/plain": [
       "Index(['Bearing', 'Fault Diameter', 'DE', 'FE'], dtype='object')"
      ]
     },
     "execution_count": 6,
     "metadata": {},
     "output_type": "execute_result"
    }
   ],
   "source": [
    "Dtest.columns"
   ]
  },
  {
   "cell_type": "code",
   "execution_count": 7,
   "metadata": {},
   "outputs": [],
   "source": [
    "from sklearn.preprocessing import LabelEncoder, OneHotEncoder\n",
    "from sklearn.compose import ColumnTransformer\n",
    "labelencoder_train = LabelEncoder()\n",
    "Dtrain[\"Bearing\"] = labelencoder_train.fit_transform(Dtrain[\"Bearing\"])\n",
    "ct = ColumnTransformer([(\"Bearing\", OneHotEncoder(), [0])],    remainder = 'passthrough')\n",
    "Dtrain = ct.fit_transform(Dtrain)"
   ]
  },
  {
   "cell_type": "code",
   "execution_count": 8,
   "metadata": {},
   "outputs": [],
   "source": [
    "from sklearn.preprocessing import LabelEncoder, OneHotEncoder\n",
    "from sklearn.compose import ColumnTransformer\n",
    "labelencoder_train = LabelEncoder()\n",
    "Dtest[\"Bearing\"] = labelencoder_train.fit_transform(Dtest[\"Bearing\"])\n",
    "ct = ColumnTransformer([(\"Bearing\", OneHotEncoder(), [0])],    remainder = 'passthrough')\n",
    "Dtest = ct.fit_transform(Dtest)"
   ]
  },
  {
   "cell_type": "code",
   "execution_count": 9,
   "metadata": {},
   "outputs": [],
   "source": [
    "from sklearn.preprocessing import MinMaxScaler\n",
    "scaler = MinMaxScaler()\n",
    "X_train = pd.DataFrame(scaler.fit_transform(Dtrain))\n",
    "# Random shuffle training data\n",
    "X_train.sample(frac=1)\n",
    "\n",
    "X_test = pd.DataFrame(scaler.transform(Dtest))"
   ]
  },
  {
   "cell_type": "code",
   "execution_count": 10,
   "metadata": {},
   "outputs": [],
   "source": [
    "X_train = X_train.values.reshape(-1, 1, 5)\n",
    "\n",
    "X_test  = X_test.values.reshape(-1, 1, 5)"
   ]
  },
  {
   "cell_type": "code",
   "execution_count": 11,
   "metadata": {},
   "outputs": [
    {
     "name": "stderr",
     "output_type": "stream",
     "text": [
      "Using TensorFlow backend.\n"
     ]
    }
   ],
   "source": [
    "from keras.layers import Input, Dropout, Dense, LSTM, RepeatVector, TimeDistributed\n",
    "from keras.models import Model, Sequential, load_model\n",
    "from keras import regularizers"
   ]
  },
  {
   "cell_type": "code",
   "execution_count": 12,
   "metadata": {},
   "outputs": [
    {
     "name": "stdout",
     "output_type": "stream",
     "text": [
      "Model: \"sequential_1\"\n",
      "_________________________________________________________________\n",
      "Layer (type)                 Output Shape              Param #   \n",
      "=================================================================\n",
      "lstm_1 (LSTM)                (None, 32)                4864      \n",
      "_________________________________________________________________\n",
      "dropout_1 (Dropout)          (None, 32)                0         \n",
      "_________________________________________________________________\n",
      "repeat_vector_1 (RepeatVecto (None, 1, 32)             0         \n",
      "_________________________________________________________________\n",
      "lstm_2 (LSTM)                (None, 1, 32)             8320      \n",
      "_________________________________________________________________\n",
      "dropout_2 (Dropout)          (None, 1, 32)             0         \n",
      "_________________________________________________________________\n",
      "time_distributed_1 (TimeDist (None, 1, 5)              165       \n",
      "=================================================================\n",
      "Total params: 13,349\n",
      "Trainable params: 13,349\n",
      "Non-trainable params: 0\n",
      "_________________________________________________________________\n"
     ]
    }
   ],
   "source": [
    "# Input layer:\n",
    "model=Sequential([\n",
    "    LSTM(32, activation='relu', input_shape=(X_train.shape[1],X_train.shape[2])),\n",
    "    Dropout(0.2),\n",
    "    RepeatVector(X_train.shape[1]),\n",
    "    LSTM(32, activation='relu', return_sequences=True),\n",
    "    Dropout(0.2),\n",
    "    TimeDistributed(Dense(X_train.shape[2]))\n",
    "])\n",
    "\n",
    "model.compile(loss='mse',optimizer='adam' )\n",
    "model.summary()"
   ]
  },
  {
   "cell_type": "code",
   "execution_count": 13,
   "metadata": {
    "scrolled": true
   },
   "outputs": [
    {
     "name": "stdout",
     "output_type": "stream",
     "text": [
      "Train on 193792 samples, validate on 48448 samples\n",
      "Epoch 1/100\n",
      "193792/193792 [==============================] - 8s 39us/step - loss: 0.1673 - val_loss: 0.1572\n",
      "Epoch 2/100\n",
      "193792/193792 [==============================] - 3s 16us/step - loss: 0.0522 - val_loss: 0.0100\n",
      "Epoch 3/100\n",
      "193792/193792 [==============================] - 3s 15us/step - loss: 0.0190 - val_loss: 0.0042\n",
      "Epoch 4/100\n",
      "193792/193792 [==============================] - 3s 16us/step - loss: 0.0156 - val_loss: 0.0038\n",
      "Epoch 5/100\n",
      "193792/193792 [==============================] - 3s 16us/step - loss: 0.0138 - val_loss: 0.0034\n",
      "Epoch 6/100\n",
      "193792/193792 [==============================] - 3s 15us/step - loss: 0.0122 - val_loss: 0.0033\n",
      "Epoch 7/100\n",
      "193792/193792 [==============================] - 2s 11us/step - loss: 0.0107 - val_loss: 0.0031\n",
      "Epoch 8/100\n",
      "193792/193792 [==============================] - 2s 10us/step - loss: 0.0096 - val_loss: 0.0030\n",
      "Epoch 9/100\n",
      "193792/193792 [==============================] - 2s 12us/step - loss: 0.0087 - val_loss: 0.0028\n",
      "Epoch 10/100\n",
      "193792/193792 [==============================] - 2s 12us/step - loss: 0.0082 - val_loss: 0.0029\n",
      "Epoch 11/100\n",
      "193792/193792 [==============================] - 2s 12us/step - loss: 0.0077 - val_loss: 0.0028\n",
      "Epoch 12/100\n",
      "193792/193792 [==============================] - 2s 10us/step - loss: 0.0073 - val_loss: 0.0027\n",
      "Epoch 13/100\n",
      "193792/193792 [==============================] - 2s 9us/step - loss: 0.0071 - val_loss: 0.0027\n",
      "Epoch 14/100\n",
      "193792/193792 [==============================] - 2s 13us/step - loss: 0.0069 - val_loss: 0.0027\n",
      "Epoch 15/100\n",
      "193792/193792 [==============================] - 3s 13us/step - loss: 0.0067 - val_loss: 0.0027\n",
      "Epoch 16/100\n",
      "193792/193792 [==============================] - 3s 16us/step - loss: 0.0065 - val_loss: 0.0026\n",
      "Epoch 17/100\n",
      "193792/193792 [==============================] - 3s 18us/step - loss: 0.0063 - val_loss: 0.0025\n",
      "Epoch 18/100\n",
      "193792/193792 [==============================] - 4s 22us/step - loss: 0.0061 - val_loss: 0.0025\n",
      "Epoch 19/100\n",
      "193792/193792 [==============================] - 4s 22us/step - loss: 0.0058 - val_loss: 0.0021\n",
      "Epoch 20/100\n",
      "193792/193792 [==============================] - 5s 26us/step - loss: 0.0055 - val_loss: 0.0020\n",
      "Epoch 21/100\n",
      "193792/193792 [==============================] - 5s 25us/step - loss: 0.0053 - val_loss: 0.0017\n",
      "Epoch 22/100\n",
      "193792/193792 [==============================] - 5s 24us/step - loss: 0.0051 - val_loss: 0.0018\n",
      "Epoch 23/100\n",
      "193792/193792 [==============================] - 5s 24us/step - loss: 0.0050 - val_loss: 0.0018\n",
      "Epoch 24/100\n",
      "193792/193792 [==============================] - 5s 24us/step - loss: 0.0049 - val_loss: 0.0018\n",
      "Epoch 25/100\n",
      "193792/193792 [==============================] - 5s 24us/step - loss: 0.0048 - val_loss: 0.0018\n",
      "Epoch 26/100\n",
      "193792/193792 [==============================] - 5s 24us/step - loss: 0.0047 - val_loss: 0.0019\n",
      "Epoch 27/100\n",
      "193792/193792 [==============================] - 5s 23us/step - loss: 0.0046 - val_loss: 0.0020\n",
      "Epoch 28/100\n",
      "193792/193792 [==============================] - 5s 24us/step - loss: 0.0046 - val_loss: 0.0020\n",
      "Epoch 29/100\n",
      "193792/193792 [==============================] - 4s 23us/step - loss: 0.0045 - val_loss: 0.0021\n",
      "Epoch 30/100\n",
      "193792/193792 [==============================] - 5s 24us/step - loss: 0.0045 - val_loss: 0.0020\n",
      "Epoch 31/100\n",
      "193792/193792 [==============================] - 4s 23us/step - loss: 0.0045 - val_loss: 0.0021\n",
      "Epoch 32/100\n",
      "193792/193792 [==============================] - 5s 25us/step - loss: 0.0044 - val_loss: 0.0021\n",
      "Epoch 33/100\n",
      "193792/193792 [==============================] - 5s 25us/step - loss: 0.0044 - val_loss: 0.0023\n",
      "Epoch 34/100\n",
      "193792/193792 [==============================] - 5s 24us/step - loss: 0.0044 - val_loss: 0.0022\n",
      "Epoch 35/100\n",
      "193792/193792 [==============================] - 5s 24us/step - loss: 0.0043 - val_loss: 0.0023\n",
      "Epoch 36/100\n",
      "193792/193792 [==============================] - 4s 23us/step - loss: 0.0043 - val_loss: 0.0020\n",
      "Epoch 37/100\n",
      "193792/193792 [==============================] - 5s 24us/step - loss: 0.0042 - val_loss: 0.0020\n",
      "Epoch 38/100\n",
      "193792/193792 [==============================] - 4s 23us/step - loss: 0.0041 - val_loss: 0.0018\n",
      "Epoch 39/100\n",
      "193792/193792 [==============================] - 5s 24us/step - loss: 0.0040 - val_loss: 0.0018\n",
      "Epoch 40/100\n",
      "193792/193792 [==============================] - 4s 23us/step - loss: 0.0040 - val_loss: 0.0018\n",
      "Epoch 41/100\n",
      "193792/193792 [==============================] - 4s 23us/step - loss: 0.0039 - val_loss: 0.0018\n",
      "Epoch 42/100\n",
      "193792/193792 [==============================] - 4s 23us/step - loss: 0.0039 - val_loss: 0.0016\n",
      "Epoch 43/100\n",
      "193792/193792 [==============================] - 4s 23us/step - loss: 0.0039 - val_loss: 0.0017\n",
      "Epoch 44/100\n",
      "193792/193792 [==============================] - 4s 23us/step - loss: 0.0039 - val_loss: 0.0016\n",
      "Epoch 45/100\n",
      "193792/193792 [==============================] - 5s 23us/step - loss: 0.0039 - val_loss: 0.0016\n",
      "Epoch 46/100\n",
      "193792/193792 [==============================] - 5s 26us/step - loss: 0.0038 - val_loss: 0.0015\n",
      "Epoch 47/100\n",
      "193792/193792 [==============================] - 5s 25us/step - loss: 0.0038 - val_loss: 0.0015\n",
      "Epoch 48/100\n",
      "193792/193792 [==============================] - 5s 24us/step - loss: 0.0038 - val_loss: 0.0016\n",
      "Epoch 49/100\n",
      "193792/193792 [==============================] - 5s 24us/step - loss: 0.0038 - val_loss: 0.0016\n",
      "Epoch 50/100\n",
      "193792/193792 [==============================] - 5s 27us/step - loss: 0.0038 - val_loss: 0.0016\n",
      "Epoch 51/100\n",
      "193792/193792 [==============================] - 5s 25us/step - loss: 0.0037 - val_loss: 0.0016\n",
      "Epoch 52/100\n",
      "193792/193792 [==============================] - 5s 26us/step - loss: 0.0037 - val_loss: 0.0016\n",
      "Epoch 53/100\n",
      "193792/193792 [==============================] - 5s 25us/step - loss: 0.0037 - val_loss: 0.0015\n",
      "Epoch 54/100\n",
      "193792/193792 [==============================] - 4s 23us/step - loss: 0.0037 - val_loss: 0.0014\n",
      "Epoch 55/100\n",
      "193792/193792 [==============================] - 4s 23us/step - loss: 0.0037 - val_loss: 0.0014\n",
      "Epoch 56/100\n",
      "193792/193792 [==============================] - 5s 23us/step - loss: 0.0036 - val_loss: 0.0016\n",
      "Epoch 57/100\n",
      "193792/193792 [==============================] - 4s 23us/step - loss: 0.0036 - val_loss: 0.0016\n",
      "Epoch 58/100\n",
      "193792/193792 [==============================] - 4s 23us/step - loss: 0.0036 - val_loss: 0.0014\n",
      "Epoch 59/100\n",
      "193792/193792 [==============================] - 4s 23us/step - loss: 0.0036 - val_loss: 0.0014\n",
      "Epoch 60/100\n",
      "193792/193792 [==============================] - 4s 22us/step - loss: 0.0036 - val_loss: 0.0014\n",
      "Epoch 61/100\n",
      "193792/193792 [==============================] - 4s 23us/step - loss: 0.0036 - val_loss: 0.0015\n",
      "Epoch 62/100\n",
      "193792/193792 [==============================] - 4s 22us/step - loss: 0.0036 - val_loss: 0.0015\n",
      "Epoch 63/100\n",
      "193792/193792 [==============================] - 4s 21us/step - loss: 0.0036 - val_loss: 0.0013\n",
      "Epoch 64/100\n",
      "193792/193792 [==============================] - 4s 22us/step - loss: 0.0035 - val_loss: 0.0014\n",
      "Epoch 65/100\n",
      "193792/193792 [==============================] - 5s 24us/step - loss: 0.0035 - val_loss: 0.0014\n",
      "Epoch 66/100\n",
      "193792/193792 [==============================] - 4s 22us/step - loss: 0.0035 - val_loss: 0.0015\n",
      "Epoch 67/100\n",
      "193792/193792 [==============================] - 4s 21us/step - loss: 0.0035 - val_loss: 0.0014\n",
      "Epoch 68/100\n",
      "193792/193792 [==============================] - 4s 22us/step - loss: 0.0035 - val_loss: 0.0014\n",
      "Epoch 69/100\n",
      "193792/193792 [==============================] - 4s 22us/step - loss: 0.0035 - val_loss: 0.0014\n",
      "Epoch 70/100\n",
      "193792/193792 [==============================] - 4s 23us/step - loss: 0.0035 - val_loss: 0.0014\n",
      "Epoch 71/100\n",
      "193792/193792 [==============================] - 4s 21us/step - loss: 0.0035 - val_loss: 0.0013\n",
      "Epoch 72/100\n",
      "193792/193792 [==============================] - 4s 23us/step - loss: 0.0035 - val_loss: 0.0013\n",
      "Epoch 73/100\n",
      "193792/193792 [==============================] - 4s 22us/step - loss: 0.0035 - val_loss: 0.0013\n",
      "Epoch 74/100\n",
      "193792/193792 [==============================] - 4s 22us/step - loss: 0.0035 - val_loss: 0.0013\n",
      "Epoch 75/100\n",
      "193792/193792 [==============================] - 4s 22us/step - loss: 0.0035 - val_loss: 0.0015\n"
     ]
    },
    {
     "name": "stdout",
     "output_type": "stream",
     "text": [
      "Epoch 76/100\n",
      "193792/193792 [==============================] - 4s 22us/step - loss: 0.0035 - val_loss: 0.0013\n",
      "Epoch 77/100\n",
      "193792/193792 [==============================] - 4s 22us/step - loss: 0.0035 - val_loss: 0.0012\n",
      "Epoch 78/100\n",
      "193792/193792 [==============================] - 4s 23us/step - loss: 0.0035 - val_loss: 0.0012\n",
      "Epoch 79/100\n",
      "193792/193792 [==============================] - 4s 22us/step - loss: 0.0035 - val_loss: 0.0013\n",
      "Epoch 80/100\n",
      "193792/193792 [==============================] - 5s 23us/step - loss: 0.0035 - val_loss: 0.0015\n",
      "Epoch 81/100\n",
      "193792/193792 [==============================] - 4s 22us/step - loss: 0.0035 - val_loss: 0.0013\n",
      "Epoch 82/100\n",
      "193792/193792 [==============================] - 4s 23us/step - loss: 0.0035 - val_loss: 0.0013\n",
      "Epoch 83/100\n",
      "193792/193792 [==============================] - 4s 22us/step - loss: 0.0035 - val_loss: 0.0013\n",
      "Epoch 84/100\n",
      "193792/193792 [==============================] - 4s 23us/step - loss: 0.0035 - val_loss: 0.0013\n",
      "Epoch 85/100\n",
      "193792/193792 [==============================] - 4s 21us/step - loss: 0.0035 - val_loss: 0.0012\n",
      "Epoch 86/100\n",
      "193792/193792 [==============================] - 5s 24us/step - loss: 0.0034 - val_loss: 0.0013\n",
      "Epoch 87/100\n",
      "193792/193792 [==============================] - 5s 23us/step - loss: 0.0035 - val_loss: 0.0012\n",
      "Epoch 88/100\n",
      "193792/193792 [==============================] - 4s 22us/step - loss: 0.0034 - val_loss: 0.0012\n",
      "Epoch 89/100\n",
      "193792/193792 [==============================] - 4s 21us/step - loss: 0.0034 - val_loss: 0.0012\n",
      "Epoch 90/100\n",
      "193792/193792 [==============================] - 4s 21us/step - loss: 0.0034 - val_loss: 0.0013\n",
      "Epoch 91/100\n",
      "193792/193792 [==============================] - 4s 22us/step - loss: 0.0035 - val_loss: 0.0013\n",
      "Epoch 92/100\n",
      "193792/193792 [==============================] - 4s 22us/step - loss: 0.0034 - val_loss: 0.0012\n",
      "Epoch 93/100\n",
      "193792/193792 [==============================] - 4s 21us/step - loss: 0.0034 - val_loss: 0.0013\n",
      "Epoch 94/100\n",
      "193792/193792 [==============================] - 4s 22us/step - loss: 0.0034 - val_loss: 0.0013\n",
      "Epoch 95/100\n",
      "193792/193792 [==============================] - 4s 22us/step - loss: 0.0034 - val_loss: 0.0013\n",
      "Epoch 96/100\n",
      "193792/193792 [==============================] - 4s 21us/step - loss: 0.0034 - val_loss: 0.0012\n",
      "Epoch 97/100\n",
      "193792/193792 [==============================] - 4s 21us/step - loss: 0.0034 - val_loss: 0.0013\n",
      "Epoch 98/100\n",
      "193792/193792 [==============================] - 4s 21us/step - loss: 0.0034 - val_loss: 0.0013\n",
      "Epoch 99/100\n",
      "193792/193792 [==============================] - 4s 23us/step - loss: 0.0034 - val_loss: 0.0013\n",
      "Epoch 100/100\n",
      "193792/193792 [==============================] - 4s 21us/step - loss: 0.0034 - val_loss: 0.0012\n"
     ]
    }
   ],
   "source": [
    "# Train model for 100 epochs, batch size of 100: \n",
    "NUM_EPOCHS=100\n",
    "BATCH_SIZE=1000\n",
    "\n",
    "history=model.fit(X_train,X_train, \n",
    "                  batch_size=BATCH_SIZE, \n",
    "                  epochs=NUM_EPOCHS,\n",
    "                  validation_data=(X_test, X_test),\n",
    "                  shuffle=False)"
   ]
  },
  {
   "cell_type": "code",
   "execution_count": 14,
   "metadata": {},
   "outputs": [
    {
     "data": {
      "image/png": "[encoded data removed]",
      "text/plain": [
       "<Figure size 432x288 with 1 Axes>"
      ]
     },
     "metadata": {
      "needs_background": "light"
     },
     "output_type": "display_data"
    }
   ],
   "source": [
    "import matplotlib.pyplot as plt\n",
    "\n",
    "plt.plot(history.history['loss'], label='Training loss')\n",
    "plt.plot(history.history['val_loss'], label='Validation loss')\n",
    "plt.legend(loc='upper right')\n",
    "plt.xlabel('Epochs')\n",
    "plt.ylabel('Loss, [mse]')\n",
    "plt.show()"
   ]
  },
  {
   "cell_type": "code",
   "execution_count": 15,
   "metadata": {},
   "outputs": [],
   "source": [
    "X_pred = model.predict(X_train)"
   ]
  },
  {
   "cell_type": "code",
   "execution_count": 16,
   "metadata": {},
   "outputs": [
    {
     "data": {
      "image/png": "[encoded data removed]",
      "text/plain": [
       "<Figure size 432x288 with 1 Axes>"
      ]
     },
     "metadata": {
      "needs_background": "light"
     },
     "output_type": "display_data"
    }
   ],
   "source": [
    "import seaborn as sns\n",
    "\n",
    "scored = np.mean(np.abs(X_pred-X_train), axis = 1)\n",
    "plt.figure()\n",
    "g = sns.distplot(scored, bins = 50, kde= True, color = 'blue');\n",
    "#g.set(xlim=(0.10,0.1), ylim=(0, 1))\n",
    "plt.show()"
   ]
  },
  {
   "cell_type": "code",
   "execution_count": 17,
   "metadata": {},
   "outputs": [
    {
     "name": "stdout",
     "output_type": "stream",
     "text": [
      "48448/48448 [==============================] - 1s 23us/step\n"
     ]
    },
    {
     "data": {
      "text/plain": [
       "0.001230501337575206"
      ]
     },
     "execution_count": 17,
     "metadata": {},
     "output_type": "execute_result"
    }
   ],
   "source": [
    "model.evaluate(X_test,X_test)"
   ]
  },
  {
   "cell_type": "code",
   "execution_count": 18,
   "metadata": {},
   "outputs": [],
   "source": [
    "X_test_pred = model.predict(X_test)"
   ]
  },
  {
   "cell_type": "code",
   "execution_count": 19,
   "metadata": {},
   "outputs": [],
   "source": [
    "X_test_pred = X_test_pred.reshape(X_test_pred.shape[0],X_test_pred.shape[2])\n",
    "X_test = X_test.reshape(X_test.shape[0],X_test.shape[2])"
   ]
  },
  {
   "cell_type": "code",
   "execution_count": 20,
   "metadata": {},
   "outputs": [
    {
     "data": {
      "text/html": [
       "<div>\n",
       "<style scoped>\n",
       "    .dataframe tbody tr th:only-of-type {\n",
       "        vertical-align: middle;\n",
       "    }\n",
       "\n",
       "    .dataframe tbody tr th {\n",
       "        vertical-align: top;\n",
       "    }\n",
       "\n",
       "    .dataframe thead th {\n",
       "        text-align: right;\n",
       "    }\n",
       "</style>\n",
       "<table border=\"1\" class=\"dataframe\">\n",
       "  <thead>\n",
       "    <tr style=\"text-align: right;\">\n",
       "      <th></th>\n",
       "      <th>Loss_mae</th>\n",
       "      <th>Threshold</th>\n",
       "      <th>Anomaly</th>\n",
       "    </tr>\n",
       "  </thead>\n",
       "  <tbody>\n",
       "    <tr>\n",
       "      <th>8084</th>\n",
       "      <td>0.042241</td>\n",
       "      <td>0.07</td>\n",
       "      <td>False</td>\n",
       "    </tr>\n",
       "    <tr>\n",
       "      <th>40264</th>\n",
       "      <td>0.008014</td>\n",
       "      <td>0.07</td>\n",
       "      <td>False</td>\n",
       "    </tr>\n",
       "    <tr>\n",
       "      <th>25080</th>\n",
       "      <td>0.005961</td>\n",
       "      <td>0.07</td>\n",
       "      <td>False</td>\n",
       "    </tr>\n",
       "    <tr>\n",
       "      <th>15887</th>\n",
       "      <td>0.037049</td>\n",
       "      <td>0.07</td>\n",
       "      <td>False</td>\n",
       "    </tr>\n",
       "    <tr>\n",
       "      <th>24006</th>\n",
       "      <td>0.038925</td>\n",
       "      <td>0.07</td>\n",
       "      <td>False</td>\n",
       "    </tr>\n",
       "    <tr>\n",
       "      <th>...</th>\n",
       "      <td>...</td>\n",
       "      <td>...</td>\n",
       "      <td>...</td>\n",
       "    </tr>\n",
       "    <tr>\n",
       "      <th>6578</th>\n",
       "      <td>0.040925</td>\n",
       "      <td>0.07</td>\n",
       "      <td>False</td>\n",
       "    </tr>\n",
       "    <tr>\n",
       "      <th>40831</th>\n",
       "      <td>0.011670</td>\n",
       "      <td>0.07</td>\n",
       "      <td>False</td>\n",
       "    </tr>\n",
       "    <tr>\n",
       "      <th>7662</th>\n",
       "      <td>0.039640</td>\n",
       "      <td>0.07</td>\n",
       "      <td>False</td>\n",
       "    </tr>\n",
       "    <tr>\n",
       "      <th>35204</th>\n",
       "      <td>0.009110</td>\n",
       "      <td>0.07</td>\n",
       "      <td>False</td>\n",
       "    </tr>\n",
       "    <tr>\n",
       "      <th>26589</th>\n",
       "      <td>0.003312</td>\n",
       "      <td>0.07</td>\n",
       "      <td>False</td>\n",
       "    </tr>\n",
       "  </tbody>\n",
       "</table>\n",
       "<p>100 rows × 3 columns</p>\n",
       "</div>"
      ],
      "text/plain": [
       "       Loss_mae  Threshold  Anomaly\n",
       "8084   0.042241       0.07    False\n",
       "40264  0.008014       0.07    False\n",
       "25080  0.005961       0.07    False\n",
       "15887  0.037049       0.07    False\n",
       "24006  0.038925       0.07    False\n",
       "...         ...        ...      ...\n",
       "6578   0.040925       0.07    False\n",
       "40831  0.011670       0.07    False\n",
       "7662   0.039640       0.07    False\n",
       "35204  0.009110       0.07    False\n",
       "26589  0.003312       0.07    False\n",
       "\n",
       "[100 rows x 3 columns]"
      ]
     },
     "execution_count": 20,
     "metadata": {},
     "output_type": "execute_result"
    }
   ],
   "source": [
    "TH = 0.07\n",
    "scored = pd.DataFrame()\n",
    "scored['Loss_mae'] = np.mean(np.abs(X_test_pred-X_test), axis = 1)\n",
    "scored['Threshold'] = TH\n",
    "scored['Anomaly'] = scored['Loss_mae'] > scored['Threshold']\n",
    "scored.sample(100)"
   ]
  },
  {
   "cell_type": "code",
   "execution_count": 21,
   "metadata": {},
   "outputs": [],
   "source": [
    "X_pred_train = model.predict(np.array(X_train))"
   ]
  },
  {
   "cell_type": "code",
   "execution_count": 22,
   "metadata": {},
   "outputs": [],
   "source": [
    "X_pred_train = X_pred_train.reshape(X_pred_train.shape[0],X_pred_train.shape[2])\n",
    "X_train = X_train.reshape(X_train.shape[0],X_train.shape[2])"
   ]
  },
  {
   "cell_type": "code",
   "execution_count": 23,
   "metadata": {},
   "outputs": [],
   "source": [
    "X_pred_train = pd.DataFrame(X_pred_train)\n",
    "scored_train = pd.DataFrame()\n",
    "scored_train['Loss_mae'] = np.mean(np.abs(X_pred_train-X_train), axis = 1)\n",
    "scored_train['Threshold'] = TH\n",
    "scored_train['Anomaly'] = scored_train['Loss_mae'] > scored_train['Threshold']\n",
    "scored = pd.concat([scored_train, scored])"
   ]
  },
  {
   "cell_type": "code",
   "execution_count": 24,
   "metadata": {},
   "outputs": [
    {
     "data": {
      "text/plain": [
       "0.025656915444507163"
      ]
     },
     "execution_count": 24,
     "metadata": {},
     "output_type": "execute_result"
    }
   ],
   "source": [
    "scored_train['Loss_mae'].mean()"
   ]
  },
  {
   "cell_type": "code",
   "execution_count": 25,
   "metadata": {},
   "outputs": [
    {
     "data": {
      "text/plain": [
       "<matplotlib.axes._subplots.AxesSubplot at 0x21acf9afb88>"
      ]
     },
     "execution_count": 25,
     "metadata": {},
     "output_type": "execute_result"
    },
    {
     "data": {
      "image/png": "[encoded data removed]",
      "text/plain": [
       "<Figure size 720x432 with 1 Axes>"
      ]
     },
     "metadata": {
      "needs_background": "light"
     },
     "output_type": "display_data"
    }
   ],
   "source": [
    "scored.plot(logy=True,  figsize = (10,6), xlim = [110000,110500], ylim = [1e-4,1e-0])"
   ]
  },
  {
   "cell_type": "code",
   "execution_count": 26,
   "metadata": {},
   "outputs": [
    {
     "data": {
      "text/html": [
       "<div>\n",
       "<style scoped>\n",
       "    .dataframe tbody tr th:only-of-type {\n",
       "        vertical-align: middle;\n",
       "    }\n",
       "\n",
       "    .dataframe tbody tr th {\n",
       "        vertical-align: top;\n",
       "    }\n",
       "\n",
       "    .dataframe thead th {\n",
       "        text-align: right;\n",
       "    }\n",
       "</style>\n",
       "<table border=\"1\" class=\"dataframe\">\n",
       "  <thead>\n",
       "    <tr style=\"text-align: right;\">\n",
       "      <th></th>\n",
       "      <th>Loss_mae</th>\n",
       "      <th>Threshold</th>\n",
       "      <th>Anomaly</th>\n",
       "    </tr>\n",
       "  </thead>\n",
       "  <tbody>\n",
       "    <tr>\n",
       "      <th>0</th>\n",
       "      <td>0.038901</td>\n",
       "      <td>0.07</td>\n",
       "      <td>False</td>\n",
       "    </tr>\n",
       "    <tr>\n",
       "      <th>1</th>\n",
       "      <td>0.043282</td>\n",
       "      <td>0.07</td>\n",
       "      <td>False</td>\n",
       "    </tr>\n",
       "    <tr>\n",
       "      <th>2</th>\n",
       "      <td>0.041519</td>\n",
       "      <td>0.07</td>\n",
       "      <td>False</td>\n",
       "    </tr>\n",
       "    <tr>\n",
       "      <th>3</th>\n",
       "      <td>0.043993</td>\n",
       "      <td>0.07</td>\n",
       "      <td>False</td>\n",
       "    </tr>\n",
       "    <tr>\n",
       "      <th>4</th>\n",
       "      <td>0.040900</td>\n",
       "      <td>0.07</td>\n",
       "      <td>False</td>\n",
       "    </tr>\n",
       "    <tr>\n",
       "      <th>...</th>\n",
       "      <td>...</td>\n",
       "      <td>...</td>\n",
       "      <td>...</td>\n",
       "    </tr>\n",
       "    <tr>\n",
       "      <th>193787</th>\n",
       "      <td>0.078893</td>\n",
       "      <td>0.07</td>\n",
       "      <td>True</td>\n",
       "    </tr>\n",
       "    <tr>\n",
       "      <th>193788</th>\n",
       "      <td>0.014372</td>\n",
       "      <td>0.07</td>\n",
       "      <td>False</td>\n",
       "    </tr>\n",
       "    <tr>\n",
       "      <th>193789</th>\n",
       "      <td>0.053049</td>\n",
       "      <td>0.07</td>\n",
       "      <td>False</td>\n",
       "    </tr>\n",
       "    <tr>\n",
       "      <th>193790</th>\n",
       "      <td>0.006027</td>\n",
       "      <td>0.07</td>\n",
       "      <td>False</td>\n",
       "    </tr>\n",
       "    <tr>\n",
       "      <th>193791</th>\n",
       "      <td>0.038256</td>\n",
       "      <td>0.07</td>\n",
       "      <td>False</td>\n",
       "    </tr>\n",
       "  </tbody>\n",
       "</table>\n",
       "<p>193792 rows × 3 columns</p>\n",
       "</div>"
      ],
      "text/plain": [
       "        Loss_mae  Threshold  Anomaly\n",
       "0       0.038901       0.07    False\n",
       "1       0.043282       0.07    False\n",
       "2       0.041519       0.07    False\n",
       "3       0.043993       0.07    False\n",
       "4       0.040900       0.07    False\n",
       "...          ...        ...      ...\n",
       "193787  0.078893       0.07     True\n",
       "193788  0.014372       0.07    False\n",
       "193789  0.053049       0.07    False\n",
       "193790  0.006027       0.07    False\n",
       "193791  0.038256       0.07    False\n",
       "\n",
       "[193792 rows x 3 columns]"
      ]
     },
     "execution_count": 26,
     "metadata": {},
     "output_type": "execute_result"
    }
   ],
   "source": [
    "scored_train"
   ]
  },
  {
   "cell_type": "code",
   "execution_count": 27,
   "metadata": {},
   "outputs": [
    {
     "name": "stdout",
     "output_type": "stream",
     "text": [
      "        Loss_mae  Threshold  Anomaly\n",
      "98245   0.079512       0.07     True\n",
      "98397   0.071317       0.07     True\n",
      "101142  0.075789       0.07     True\n",
      "101981  0.070973       0.07     True\n",
      "102362  0.071773       0.07     True\n",
      "...          ...        ...      ...\n",
      "187611  0.076153       0.07     True\n",
      "189670  0.079714       0.07     True\n",
      "190280  0.071075       0.07     True\n",
      "192342  0.078688       0.07     True\n",
      "193787  0.078893       0.07     True\n",
      "\n",
      "[63 rows x 3 columns]\n",
      "(63, 3)\n"
     ]
    }
   ],
   "source": [
    "anomalies = scored_train[scored_train['Anomaly'] == True]\n",
    "print(anomalies)\n",
    "print(anomalies.shape)"
   ]
  },
  {
   "cell_type": "code",
   "execution_count": 28,
   "metadata": {},
   "outputs": [
    {
     "name": "stdout",
     "output_type": "stream",
     "text": [
      "Empty DataFrame\n",
      "Columns: [Loss_mae, Threshold, Anomaly]\n",
      "Index: []\n",
      "(0, 3)\n"
     ]
    }
   ],
   "source": [
    "NB_anomalies = anomalies[anomalies.index <= 96896]\n",
    "print(NB_anomalies)\n",
    "print(NB_anomalies.shape)"
   ]
  },
  {
   "cell_type": "code",
   "execution_count": 29,
   "metadata": {},
   "outputs": [
    {
     "name": "stdout",
     "output_type": "stream",
     "text": [
      "        Loss_mae  Threshold  Anomaly\n",
      "98245   0.079512       0.07     True\n",
      "98397   0.071317       0.07     True\n",
      "101142  0.075789       0.07     True\n",
      "101981  0.070973       0.07     True\n",
      "102362  0.071773       0.07     True\n",
      "...          ...        ...      ...\n",
      "187611  0.076153       0.07     True\n",
      "189670  0.079714       0.07     True\n",
      "190280  0.071075       0.07     True\n",
      "192342  0.078688       0.07     True\n",
      "193787  0.078893       0.07     True\n",
      "\n",
      "[63 rows x 3 columns]\n",
      "(63, 3)\n"
     ]
    }
   ],
   "source": [
    "IR7_anomalies = anomalies[anomalies.index > 96896]\n",
    "print(IR7_anomalies)\n",
    "print(IR7_anomalies.shape)"
   ]
  },
  {
   "cell_type": "code",
   "execution_count": 30,
   "metadata": {},
   "outputs": [
    {
     "data": {
      "image/png": "[encoded data removed]",
      "text/plain": [
       "<Figure size 432x288 with 1 Axes>"
      ]
     },
     "metadata": {
      "needs_background": "light"
     },
     "output_type": "display_data"
    }
   ],
   "source": [
    "plt.plot(scored_train.index, scored_train.Loss_mae, label='Loss_mae')\n",
    "plt.plot(scored_train.index, scored_train.Threshold, label='Threshold')\n",
    "g = sns.scatterplot(x=anomalies.index , y=anomalies.Loss_mae, label='anomaly', color='red')\n",
    "g.set(xlim = (len(scored_train.index)-10000, len(scored_train.index)), ylim = (0, 0.2))\n",
    "plt.title('Anomalies in Inner Race 0.007\"')\n",
    "plt.legend();"
   ]
  },
  {
   "cell_type": "code",
   "execution_count": null,
   "metadata": {},
   "outputs": [],
   "source": []
  }
 ],
 "metadata": {
  "kernelspec": {
   "display_name": "Python 3",
   "language": "python",
   "name": "python3"
  },
  "language_info": {
   "codemirror_mode": {
    "name": "ipython",
    "version": 3
   },
   "file_extension": ".py",
   "mimetype": "text/x-python",
   "name": "python",
   "nbconvert_exporter": "python",
   "pygments_lexer": "ipython3",
   "version": "3.7.4"
  }
 },
 "nbformat": 4,
 "nbformat_minor": 4
}
