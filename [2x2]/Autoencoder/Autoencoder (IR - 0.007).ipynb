{
 "cells": [
  {
   "cell_type": "code",
   "execution_count": 1,
   "metadata": {},
   "outputs": [],
   "source": [
    "#importing packages\n",
    "import pandas as pd\n",
    "import numpy as np"
   ]
  },
  {
   "cell_type": "code",
   "execution_count": 2,
   "metadata": {},
   "outputs": [],
   "source": [
    "Dtrain = pd.read_csv(\"TrainingSet (IR - 7).csv\")\n",
    "#Dtrain = Dtrain.iloc[:,0:4].values\n",
    "Dtest = pd.read_csv(\"TestingSet (IR - 7).csv\")"
   ]
  },
  {
   "cell_type": "code",
   "execution_count": 3,
   "metadata": {},
   "outputs": [
    {
     "data": {
      "text/plain": [
       "Inner Race (0.007\")    96896\n",
       "Normal                 96896\n",
       "Name: Bearing, dtype: int64"
      ]
     },
     "execution_count": 3,
     "metadata": {},
     "output_type": "execute_result"
    }
   ],
   "source": [
    "Dtrain[\"Bearing\"].value_counts()"
   ]
  },
  {
   "cell_type": "code",
   "execution_count": 4,
   "metadata": {},
   "outputs": [
    {
     "data": {
      "text/plain": [
       "Inner Race (0.007\")    50.0\n",
       "Normal                 50.0\n",
       "Name: Bearing, dtype: float64"
      ]
     },
     "execution_count": 4,
     "metadata": {},
     "output_type": "execute_result"
    }
   ],
   "source": [
    "Dtrain[\"Bearing\"].value_counts(normalize=True)*100"
   ]
  },
  {
   "cell_type": "code",
   "execution_count": 5,
   "metadata": {},
   "outputs": [
    {
     "data": {
      "text/plain": [
       "Index(['Bearing', 'Fault Diameter', 'DE', 'FE'], dtype='object')"
      ]
     },
     "execution_count": 5,
     "metadata": {},
     "output_type": "execute_result"
    }
   ],
   "source": [
    "Dtest.columns"
   ]
  },
  {
   "cell_type": "code",
   "execution_count": 6,
   "metadata": {},
   "outputs": [],
   "source": [
    "from sklearn.preprocessing import LabelEncoder, OneHotEncoder\n",
    "from sklearn.compose import ColumnTransformer\n",
    "labelencoder_train = LabelEncoder()\n",
    "Dtrain[\"Bearing\"] = labelencoder_train.fit_transform(Dtrain[\"Bearing\"])\n",
    "ct = ColumnTransformer([(\"Bearing\", OneHotEncoder(), [0])],    remainder = 'passthrough')\n",
    "Dtrain = ct.fit_transform(Dtrain)"
   ]
  },
  {
   "cell_type": "code",
   "execution_count": 7,
   "metadata": {},
   "outputs": [],
   "source": [
    "from sklearn.preprocessing import LabelEncoder, OneHotEncoder\n",
    "from sklearn.compose import ColumnTransformer\n",
    "labelencoder_train = LabelEncoder()\n",
    "Dtest[\"Bearing\"] = labelencoder_train.fit_transform(Dtest[\"Bearing\"])\n",
    "ct = ColumnTransformer([(\"Bearing\", OneHotEncoder(), [0])],    remainder = 'passthrough')\n",
    "Dtest = ct.fit_transform(Dtest)"
   ]
  },
  {
   "cell_type": "code",
   "execution_count": 8,
   "metadata": {},
   "outputs": [],
   "source": [
    "from sklearn.preprocessing import MinMaxScaler\n",
    "scaler = MinMaxScaler()\n",
    "X_train = pd.DataFrame(scaler.fit_transform(Dtrain))\n",
    "# Random shuffle training data\n",
    "X_train.sample(frac=1)\n",
    "\n",
    "X_test = pd.DataFrame(scaler.transform(Dtest))\n",
    "\n"
   ]
  },
  {
   "cell_type": "code",
   "execution_count": 9,
   "metadata": {},
   "outputs": [
    {
     "name": "stderr",
     "output_type": "stream",
     "text": [
      "Using TensorFlow backend.\n"
     ]
    }
   ],
   "source": [
    "from keras.layers import Input, Dropout\n",
    "from keras.layers.core import Dense \n",
    "from keras.models import Model, Sequential, load_model\n",
    "from keras import regularizers"
   ]
  },
  {
   "cell_type": "code",
   "execution_count": 10,
   "metadata": {},
   "outputs": [],
   "source": [
    "import tensorflow as tf\n",
    "from numpy.random import seed\n",
    "seed(10)\n",
    "tf.random.set_seed(10)\n",
    "act_func = 'elu'"
   ]
  },
  {
   "cell_type": "code",
   "execution_count": 11,
   "metadata": {},
   "outputs": [],
   "source": [
    "# Input layer:\n",
    "model=Sequential()\n",
    "# First hidden layer, connected to input vector X. \n",
    "model.add(Dense(6,activation=act_func,\n",
    "                kernel_initializer='glorot_uniform',\n",
    "                kernel_regularizer=regularizers.l2(0.0),\n",
    "                input_shape=(X_train.shape[1],)\n",
    "               )\n",
    "         )\n",
    "\n",
    "model.add(Dense(2,activation=act_func,\n",
    "                kernel_initializer='glorot_uniform'))\n",
    "\n",
    "model.add(Dense(6,activation=act_func,\n",
    "                kernel_initializer='glorot_uniform'))\n",
    "\n",
    "model.add(Dense(X_train.shape[1],\n",
    "                kernel_initializer='glorot_uniform'))\n",
    "\n",
    "model.compile(loss='mse',optimizer='adam', metrics=['accuracy'] )\n",
    "\n",
    "# Train model for 100 epochs, batch size of 10: \n",
    "NUM_EPOCHS=100\n",
    "BATCH_SIZE=100"
   ]
  },
  {
   "cell_type": "code",
   "execution_count": 12,
   "metadata": {},
   "outputs": [
    {
     "name": "stdout",
     "output_type": "stream",
     "text": [
      "Train on 184102 samples, validate on 9690 samples\n",
      "Epoch 1/100\n",
      "184102/184102 [==============================] - 3s 15us/step - loss: 0.0212 - accuracy: 0.7868 - val_loss: 0.0041 - val_accuracy: 0.4711\n",
      "Epoch 2/100\n",
      "184102/184102 [==============================] - 2s 13us/step - loss: 0.0014 - accuracy: 0.7641 - val_loss: 0.0020 - val_accuracy: 0.5270\n",
      "Epoch 3/100\n",
      "184102/184102 [==============================] - 3s 17us/step - loss: 9.9440e-04 - accuracy: 0.8037 - val_loss: 0.0020 - val_accuracy: 0.6747\n",
      "Epoch 4/100\n",
      "184102/184102 [==============================] - 3s 17us/step - loss: 9.7114e-04 - accuracy: 0.8512 - val_loss: 0.0019 - val_accuracy: 0.5197\n",
      "Epoch 5/100\n",
      "184102/184102 [==============================] - 2s 14us/step - loss: 9.6016e-04 - accuracy: 0.8381 - val_loss: 0.0020 - val_accuracy: 0.4739\n",
      "Epoch 6/100\n",
      "184102/184102 [==============================] - 2s 13us/step - loss: 9.5323e-04 - accuracy: 0.8267 - val_loss: 0.0019 - val_accuracy: 0.8186\n",
      "Epoch 7/100\n",
      "184102/184102 [==============================] - 3s 16us/step - loss: 9.4552e-04 - accuracy: 0.8258 - val_loss: 0.0019 - val_accuracy: 0.1775\n",
      "Epoch 8/100\n",
      "184102/184102 [==============================] - 3s 15us/step - loss: 9.2949e-04 - accuracy: 0.8160 - val_loss: 0.0019 - val_accuracy: 0.6834\n",
      "Epoch 9/100\n",
      "184102/184102 [==============================] - 2s 13us/step - loss: 7.1246e-04 - accuracy: 0.7793 - val_loss: 3.0876e-04 - val_accuracy: 0.6001\n",
      "Epoch 10/100\n",
      "184102/184102 [==============================] - 2s 13us/step - loss: 1.3321e-04 - accuracy: 0.7696 - val_loss: 4.2874e-05 - val_accuracy: 0.6817\n",
      "Epoch 11/100\n",
      "184102/184102 [==============================] - 2s 13us/step - loss: 5.7903e-05 - accuracy: 0.8178 - val_loss: 5.6913e-05 - val_accuracy: 0.7757\n",
      "Epoch 12/100\n",
      "184102/184102 [==============================] - 3s 14us/step - loss: 4.1046e-05 - accuracy: 0.8239 - val_loss: 2.2844e-05 - val_accuracy: 0.5484\n",
      "Epoch 13/100\n",
      "184102/184102 [==============================] - 3s 14us/step - loss: 3.6209e-05 - accuracy: 0.8278 - val_loss: 3.0058e-05 - val_accuracy: 0.2772\n",
      "Epoch 14/100\n",
      "184102/184102 [==============================] - 3s 17us/step - loss: 3.3437e-05 - accuracy: 0.8277 - val_loss: 5.3531e-05 - val_accuracy: 0.7092\n",
      "Epoch 15/100\n",
      "184102/184102 [==============================] - 3s 15us/step - loss: 3.0935e-05 - accuracy: 0.8205 - val_loss: 1.9151e-05 - val_accuracy: 0.7254\n",
      "Epoch 16/100\n",
      "184102/184102 [==============================] - 3s 14us/step - loss: 2.8625e-05 - accuracy: 0.8217 - val_loss: 1.9069e-05 - val_accuracy: 0.6530\n",
      "Epoch 17/100\n",
      "184102/184102 [==============================] - 3s 14us/step - loss: 2.6590e-05 - accuracy: 0.8220 - val_loss: 1.5423e-05 - val_accuracy: 0.0702\n",
      "Epoch 18/100\n",
      "184102/184102 [==============================] - 3s 14us/step - loss: 2.4854e-05 - accuracy: 0.8172 - val_loss: 1.9569e-05 - val_accuracy: 0.1029\n",
      "Epoch 19/100\n",
      "184102/184102 [==============================] - 3s 14us/step - loss: 2.3367e-05 - accuracy: 0.8150 - val_loss: 2.1121e-05 - val_accuracy: 0.8227\n",
      "Epoch 20/100\n",
      "184102/184102 [==============================] - 3s 15us/step - loss: 2.2029e-05 - accuracy: 0.8158 - val_loss: 1.1673e-05 - val_accuracy: 0.8474\n",
      "Epoch 21/100\n",
      "184102/184102 [==============================] - 3s 14us/step - loss: 2.0553e-05 - accuracy: 0.8152 - val_loss: 1.5952e-05 - val_accuracy: 0.8196\n",
      "Epoch 22/100\n",
      "184102/184102 [==============================] - 2s 13us/step - loss: 1.9604e-05 - accuracy: 0.8160 - val_loss: 5.2045e-05 - val_accuracy: 0.8273\n",
      "Epoch 23/100\n",
      "184102/184102 [==============================] - 3s 14us/step - loss: 1.8591e-05 - accuracy: 0.8158 - val_loss: 1.2402e-05 - val_accuracy: 0.8380\n",
      "Epoch 24/100\n",
      "184102/184102 [==============================] - 2s 13us/step - loss: 1.7615e-05 - accuracy: 0.8152 - val_loss: 9.6821e-06 - val_accuracy: 0.6362\n",
      "Epoch 25/100\n",
      "184102/184102 [==============================] - 3s 17us/step - loss: 1.6879e-05 - accuracy: 0.8073 - val_loss: 9.1616e-06 - val_accuracy: 0.0278\n",
      "Epoch 26/100\n",
      "184102/184102 [==============================] - 3s 16us/step - loss: 1.5897e-05 - accuracy: 0.8070 - val_loss: 1.5446e-05 - val_accuracy: 0.3122\n",
      "Epoch 27/100\n",
      "184102/184102 [==============================] - 3s 15us/step - loss: 1.5462e-05 - accuracy: 0.8008 - val_loss: 1.2674e-05 - val_accuracy: 0.7548\n",
      "Epoch 28/100\n",
      "184102/184102 [==============================] - 3s 15us/step - loss: 1.4748e-05 - accuracy: 0.8045 - val_loss: 1.3088e-05 - val_accuracy: 0.7112\n",
      "Epoch 29/100\n",
      "184102/184102 [==============================] - 3s 14us/step - loss: 1.4261e-05 - accuracy: 0.8027 - val_loss: 7.6375e-06 - val_accuracy: 0.7009\n",
      "Epoch 30/100\n",
      "184102/184102 [==============================] - 3s 14us/step - loss: 1.3699e-05 - accuracy: 0.8041 - val_loss: 6.7319e-06 - val_accuracy: 0.7480\n",
      "Epoch 31/100\n",
      "184102/184102 [==============================] - 3s 15us/step - loss: 1.3126e-05 - accuracy: 0.8098 - val_loss: 1.6243e-05 - val_accuracy: 0.8672\n",
      "Epoch 32/100\n",
      "184102/184102 [==============================] - 3s 14us/step - loss: 1.2628e-05 - accuracy: 0.8045 - val_loss: 7.4331e-06 - val_accuracy: 0.2264\n",
      "Epoch 33/100\n",
      "184102/184102 [==============================] - 3s 14us/step - loss: 1.2150e-05 - accuracy: 0.8002 - val_loss: 1.5657e-05 - val_accuracy: 0.8275\n",
      "Epoch 34/100\n",
      "184102/184102 [==============================] - 3s 16us/step - loss: 1.1779e-05 - accuracy: 0.8005 - val_loss: 1.0499e-04 - val_accuracy: 0.6219\n",
      "Epoch 35/100\n",
      "184102/184102 [==============================] - 3s 14us/step - loss: 1.1494e-05 - accuracy: 0.7998 - val_loss: 1.5219e-05 - val_accuracy: 0.4581\n",
      "Epoch 36/100\n",
      "184102/184102 [==============================] - 3s 14us/step - loss: 1.1032e-05 - accuracy: 0.8005 - val_loss: 9.5786e-06 - val_accuracy: 0.0144\n",
      "Epoch 37/100\n",
      "184102/184102 [==============================] - 3s 14us/step - loss: 1.0773e-05 - accuracy: 0.7909 - val_loss: 1.2186e-04 - val_accuracy: 0.5885\n",
      "Epoch 38/100\n",
      "184102/184102 [==============================] - 3s 14us/step - loss: 1.0480e-05 - accuracy: 0.7938 - val_loss: 8.3212e-06 - val_accuracy: 0.6846\n",
      "Epoch 39/100\n",
      "184102/184102 [==============================] - 3s 14us/step - loss: 1.0149e-05 - accuracy: 0.7928 - val_loss: 8.9515e-06 - val_accuracy: 0.7074\n",
      "Epoch 40/100\n",
      "184102/184102 [==============================] - 3s 14us/step - loss: 9.7945e-06 - accuracy: 0.8002 - val_loss: 6.1938e-06 - val_accuracy: 0.6982\n",
      "Epoch 41/100\n",
      "184102/184102 [==============================] - 3s 14us/step - loss: 9.7048e-06 - accuracy: 0.8002 - val_loss: 7.2508e-06 - val_accuracy: 0.8594\n",
      "Epoch 42/100\n",
      "184102/184102 [==============================] - 3s 14us/step - loss: 9.3916e-06 - accuracy: 0.7963 - val_loss: 2.4407e-05 - val_accuracy: 2.0640e-04\n",
      "Epoch 43/100\n",
      "184102/184102 [==============================] - 3s 14us/step - loss: 9.2051e-06 - accuracy: 0.7891 - val_loss: 5.3256e-05 - val_accuracy: 0.0099\n",
      "Epoch 44/100\n",
      "184102/184102 [==============================] - 3s 14us/step - loss: 9.0215e-06 - accuracy: 0.7917 - val_loss: 9.1148e-05 - val_accuracy: 0.6525\n",
      "Epoch 45/100\n",
      "184102/184102 [==============================] - 3s 14us/step - loss: 8.6585e-06 - accuracy: 0.7936 - val_loss: 2.7994e-05 - val_accuracy: 0.7189\n",
      "Epoch 46/100\n",
      "184102/184102 [==============================] - 3s 14us/step - loss: 8.6143e-06 - accuracy: 0.7879 - val_loss: 1.0967e-05 - val_accuracy: 0.8931\n",
      "Epoch 47/100\n",
      "184102/184102 [==============================] - 3s 14us/step - loss: 8.3461e-06 - accuracy: 0.7960 - val_loss: 1.4801e-05 - val_accuracy: 0.2727\n",
      "Epoch 48/100\n",
      "184102/184102 [==============================] - 3s 14us/step - loss: 8.2084e-06 - accuracy: 0.7910 - val_loss: 1.9494e-05 - val_accuracy: 0.0297\n",
      "Epoch 49/100\n",
      "184102/184102 [==============================] - 3s 14us/step - loss: 7.8004e-06 - accuracy: 0.7974 - val_loss: 6.4312e-05 - val_accuracy: 0.5590\n",
      "Epoch 50/100\n",
      "184102/184102 [==============================] - 3s 14us/step - loss: 7.9451e-06 - accuracy: 0.7966 - val_loss: 1.0362e-05 - val_accuracy: 0.8496\n",
      "Epoch 51/100\n",
      "184102/184102 [==============================] - 3s 14us/step - loss: 7.6174e-06 - accuracy: 0.7901 - val_loss: 1.1653e-05 - val_accuracy: 0.5830\n",
      "Epoch 52/100\n"
     ]
    },
    {
     "name": "stdout",
     "output_type": "stream",
     "text": [
      "184102/184102 [==============================] - 3s 14us/step - loss: 7.4246e-06 - accuracy: 0.7915 - val_loss: 9.2832e-06 - val_accuracy: 0.7847\n",
      "Epoch 53/100\n",
      "184102/184102 [==============================] - 3s 14us/step - loss: 7.2884e-06 - accuracy: 0.7976 - val_loss: 4.9027e-06 - val_accuracy: 0.0904\n",
      "Epoch 54/100\n",
      "184102/184102 [==============================] - 3s 14us/step - loss: 7.2314e-06 - accuracy: 0.7923 - val_loss: 3.6909e-06 - val_accuracy: 0.7061\n",
      "Epoch 55/100\n",
      "184102/184102 [==============================] - 2s 13us/step - loss: 7.0266e-06 - accuracy: 0.7918 - val_loss: 4.5460e-06 - val_accuracy: 0.6603\n",
      "Epoch 56/100\n",
      "184102/184102 [==============================] - 2s 13us/step - loss: 6.9258e-06 - accuracy: 0.7967 - val_loss: 3.2648e-06 - val_accuracy: 0.8154\n",
      "Epoch 57/100\n",
      "184102/184102 [==============================] - 3s 14us/step - loss: 6.8312e-06 - accuracy: 0.8001 - val_loss: 6.1208e-06 - val_accuracy: 0.5463\n",
      "Epoch 58/100\n",
      "184102/184102 [==============================] - 2s 14us/step - loss: 6.5888e-06 - accuracy: 0.7969 - val_loss: 3.3475e-06 - val_accuracy: 0.8916\n",
      "Epoch 59/100\n",
      "184102/184102 [==============================] - 2s 14us/step - loss: 6.6790e-06 - accuracy: 0.7926 - val_loss: 2.8505e-06 - val_accuracy: 0.7262\n",
      "Epoch 60/100\n",
      "184102/184102 [==============================] - 2s 14us/step - loss: 6.3748e-06 - accuracy: 0.7928 - val_loss: 3.1166e-06 - val_accuracy: 0.0439\n",
      "Epoch 61/100\n",
      "184102/184102 [==============================] - 2s 14us/step - loss: 6.3672e-06 - accuracy: 0.7940 - val_loss: 1.2372e-05 - val_accuracy: 0.7969\n",
      "Epoch 62/100\n",
      "184102/184102 [==============================] - 2s 14us/step - loss: 6.1769e-06 - accuracy: 0.7954 - val_loss: 3.0792e-06 - val_accuracy: 0.7929\n",
      "Epoch 63/100\n",
      "184102/184102 [==============================] - 3s 14us/step - loss: 6.0104e-06 - accuracy: 0.7918 - val_loss: 4.6777e-05 - val_accuracy: 0.6353\n",
      "Epoch 64/100\n",
      "184102/184102 [==============================] - 3s 14us/step - loss: 5.9407e-06 - accuracy: 0.7936 - val_loss: 6.5559e-06 - val_accuracy: 0.3182\n",
      "Epoch 65/100\n",
      "184102/184102 [==============================] - 3s 15us/step - loss: 5.9391e-06 - accuracy: 0.8037 - val_loss: 9.1516e-06 - val_accuracy: 0.7737\n",
      "Epoch 66/100\n",
      "184102/184102 [==============================] - 3s 14us/step - loss: 5.8604e-06 - accuracy: 0.7944 - val_loss: 1.5508e-05 - val_accuracy: 0.7276\n",
      "Epoch 67/100\n",
      "184102/184102 [==============================] - 3s 16us/step - loss: 5.6890e-06 - accuracy: 0.8019 - val_loss: 1.1228e-05 - val_accuracy: 0.6206\n",
      "Epoch 68/100\n",
      "184102/184102 [==============================] - 3s 14us/step - loss: 5.5968e-06 - accuracy: 0.7967 - val_loss: 2.6502e-06 - val_accuracy: 0.8179\n",
      "Epoch 69/100\n",
      "184102/184102 [==============================] - 3s 14us/step - loss: 5.4769e-06 - accuracy: 0.7923 - val_loss: 3.9738e-06 - val_accuracy: 0.8395\n",
      "Epoch 70/100\n",
      "184102/184102 [==============================] - 3s 15us/step - loss: 5.3941e-06 - accuracy: 0.7977 - val_loss: 7.6859e-06 - val_accuracy: 0.3350\n",
      "Epoch 71/100\n",
      "184102/184102 [==============================] - 2s 13us/step - loss: 5.3335e-06 - accuracy: 0.8033 - val_loss: 1.7547e-05 - val_accuracy: 0.4959\n",
      "Epoch 72/100\n",
      "184102/184102 [==============================] - 2s 13us/step - loss: 5.2322e-06 - accuracy: 0.7979 - val_loss: 6.9499e-06 - val_accuracy: 0.8602\n",
      "Epoch 73/100\n",
      "184102/184102 [==============================] - 2s 13us/step - loss: 5.1154e-06 - accuracy: 0.7955 - val_loss: 3.1944e-06 - val_accuracy: 0.5577\n",
      "Epoch 74/100\n",
      "184102/184102 [==============================] - 3s 14us/step - loss: 5.0091e-06 - accuracy: 0.8019 - val_loss: 2.2474e-06 - val_accuracy: 0.8659\n",
      "Epoch 75/100\n",
      "184102/184102 [==============================] - 3s 16us/step - loss: 4.8944e-06 - accuracy: 0.8015 - val_loss: 2.0199e-06 - val_accuracy: 0.4815\n",
      "Epoch 76/100\n",
      "184102/184102 [==============================] - 3s 16us/step - loss: 4.8818e-06 - accuracy: 0.8012 - val_loss: 2.8303e-06 - val_accuracy: 0.0230\n",
      "Epoch 77/100\n",
      "184102/184102 [==============================] - 3s 17us/step - loss: 4.8468e-06 - accuracy: 0.8035 - val_loss: 3.0744e-06 - val_accuracy: 0.7478\n",
      "Epoch 78/100\n",
      "184102/184102 [==============================] - 3s 16us/step - loss: 4.6711e-06 - accuracy: 0.8060 - val_loss: 5.3182e-06 - val_accuracy: 0.8957\n",
      "Epoch 79/100\n",
      "184102/184102 [==============================] - 3s 16us/step - loss: 4.7220e-06 - accuracy: 0.8033 - val_loss: 1.9946e-06 - val_accuracy: 0.7258\n",
      "Epoch 80/100\n",
      "184102/184102 [==============================] - 3s 16us/step - loss: 4.6629e-06 - accuracy: 0.8086 - val_loss: 2.7858e-06 - val_accuracy: 0.2204\n",
      "Epoch 81/100\n",
      "184102/184102 [==============================] - 3s 16us/step - loss: 4.3978e-06 - accuracy: 0.8109 - val_loss: 7.2847e-06 - val_accuracy: 0.8258\n",
      "Epoch 82/100\n",
      "184102/184102 [==============================] - 3s 17us/step - loss: 4.3538e-06 - accuracy: 0.8027 - val_loss: 9.6214e-06 - val_accuracy: 0.8526\n",
      "Epoch 83/100\n",
      "184102/184102 [==============================] - 3s 17us/step - loss: 4.2960e-06 - accuracy: 0.8045 - val_loss: 1.2642e-04 - val_accuracy: 0.8484\n",
      "Epoch 84/100\n",
      "184102/184102 [==============================] - 4s 20us/step - loss: 4.4953e-06 - accuracy: 0.8124 - val_loss: 2.2900e-05 - val_accuracy: 0.5923\n",
      "Epoch 85/100\n",
      "184102/184102 [==============================] - 4s 19us/step - loss: 4.2167e-06 - accuracy: 0.8074 - val_loss: 2.4345e-06 - val_accuracy: 0.2810\n",
      "Epoch 86/100\n",
      "184102/184102 [==============================] - 3s 19us/step - loss: 4.1041e-06 - accuracy: 0.8109 - val_loss: 3.3274e-06 - val_accuracy: 0.7164\n",
      "Epoch 87/100\n",
      "184102/184102 [==============================] - 4s 19us/step - loss: 3.9676e-06 - accuracy: 0.8114 - val_loss: 1.0331e-05 - val_accuracy: 0.0538\n",
      "Epoch 88/100\n",
      "184102/184102 [==============================] - 4s 19us/step - loss: 3.9916e-06 - accuracy: 0.8117 - val_loss: 3.4858e-06 - val_accuracy: 0.6619\n",
      "Epoch 89/100\n",
      "184102/184102 [==============================] - 4s 20us/step - loss: 3.8635e-06 - accuracy: 0.8162 - val_loss: 3.1992e-06 - val_accuracy: 0.5051\n",
      "Epoch 90/100\n",
      "184102/184102 [==============================] - 3s 19us/step - loss: 3.7996e-06 - accuracy: 0.8234 - val_loss: 1.0125e-04 - val_accuracy: 0.6450\n",
      "Epoch 91/100\n",
      "184102/184102 [==============================] - 4s 19us/step - loss: 3.9101e-06 - accuracy: 0.8182 - val_loss: 3.2345e-06 - val_accuracy: 0.5059\n",
      "Epoch 92/100\n",
      "184102/184102 [==============================] - 3s 19us/step - loss: 3.7258e-06 - accuracy: 0.8184 - val_loss: 1.1511e-05 - val_accuracy: 0.8156\n",
      "Epoch 93/100\n",
      "184102/184102 [==============================] - 3s 17us/step - loss: 3.6737e-06 - accuracy: 0.8238 - val_loss: 6.9915e-06 - val_accuracy: 0.6765\n",
      "Epoch 94/100\n",
      "184102/184102 [==============================] - 3s 17us/step - loss: 3.6032e-06 - accuracy: 0.8207 - val_loss: 3.4324e-06 - val_accuracy: 0.8356\n",
      "Epoch 95/100\n",
      "184102/184102 [==============================] - 3s 15us/step - loss: 3.4456e-06 - accuracy: 0.8235 - val_loss: 4.4907e-06 - val_accuracy: 0.7026\n",
      "Epoch 96/100\n",
      "184102/184102 [==============================] - 3s 15us/step - loss: 3.4874e-06 - accuracy: 0.8265 - val_loss: 2.8080e-06 - val_accuracy: 0.8980\n",
      "Epoch 97/100\n",
      "184102/184102 [==============================] - 3s 15us/step - loss: 3.2910e-06 - accuracy: 0.8242 - val_loss: 1.8975e-06 - val_accuracy: 0.2159\n",
      "Epoch 98/100\n",
      "184102/184102 [==============================] - 3s 15us/step - loss: 3.3929e-06 - accuracy: 0.8257 - val_loss: 1.3609e-06 - val_accuracy: 0.8311\n",
      "Epoch 99/100\n",
      "184102/184102 [==============================] - 3s 15us/step - loss: 3.3036e-06 - accuracy: 0.8258 - val_loss: 1.5848e-06 - val_accuracy: 0.7596\n",
      "Epoch 100/100\n",
      "184102/184102 [==============================] - 3s 15us/step - loss: 3.1623e-06 - accuracy: 0.8255 - val_loss: 2.5701e-06 - val_accuracy: 0.5357\n"
     ]
    }
   ],
   "source": [
    "history=model.fit(np.array(X_train),np.array(X_train),\n",
    "                  batch_size=BATCH_SIZE, \n",
    "                  epochs=NUM_EPOCHS,\n",
    "                  validation_split=0.05,\n",
    "                  verbose = 1)"
   ]
  },
  {
   "cell_type": "code",
   "execution_count": 13,
   "metadata": {},
   "outputs": [
    {
     "data": {
      "image/png": "[encoded data removed]",
      "text/plain": [
       "<Figure size 432x288 with 1 Axes>"
      ]
     },
     "metadata": {
      "needs_background": "light"
     },
     "output_type": "display_data"
    }
   ],
   "source": [
    "import matplotlib.pyplot as plt\n",
    "\n",
    "plt.plot(history.history['loss'], 'b', label='Training loss')\n",
    "plt.plot(history.history['val_loss'], 'r', label='Validation loss')\n",
    "plt.legend(loc='upper right')\n",
    "plt.xlabel('Epochs')\n",
    "plt.ylabel('Loss, [mse]')\n",
    "plt.ylim([0,.05])\n",
    "plt.show()"
   ]
  },
  {
   "cell_type": "code",
   "execution_count": 14,
   "metadata": {},
   "outputs": [
    {
     "data": {
      "image/png": "[encoded data removed]",
      "text/plain": [
       "<Figure size 432x288 with 1 Axes>"
      ]
     },
     "metadata": {
      "needs_background": "light"
     },
     "output_type": "display_data"
    }
   ],
   "source": [
    "X_pred = model.predict(np.array(X_train))\n",
    "\n",
    "import seaborn as sns\n",
    "\n",
    "scored = np.mean(np.abs(X_pred-X_train), axis = 1)\n",
    "plt.figure()\n",
    "sns.distplot(scored, bins = 10, kde= True, color = 'blue');\n",
    "plt.xlim([0.0,.02])\n",
    "plt.show()"
   ]
  },
  {
   "cell_type": "code",
   "execution_count": 15,
   "metadata": {},
   "outputs": [
    {
     "data": {
      "text/html": [
       "<div>\n",
       "<style scoped>\n",
       "    .dataframe tbody tr th:only-of-type {\n",
       "        vertical-align: middle;\n",
       "    }\n",
       "\n",
       "    .dataframe tbody tr th {\n",
       "        vertical-align: top;\n",
       "    }\n",
       "\n",
       "    .dataframe thead th {\n",
       "        text-align: right;\n",
       "    }\n",
       "</style>\n",
       "<table border=\"1\" class=\"dataframe\">\n",
       "  <thead>\n",
       "    <tr style=\"text-align: right;\">\n",
       "      <th></th>\n",
       "      <th>Loss_mae</th>\n",
       "      <th>Threshold</th>\n",
       "      <th>Anomaly</th>\n",
       "    </tr>\n",
       "  </thead>\n",
       "  <tbody>\n",
       "    <tr>\n",
       "      <th>13002</th>\n",
       "      <td>0.000906</td>\n",
       "      <td>0.006</td>\n",
       "      <td>False</td>\n",
       "    </tr>\n",
       "    <tr>\n",
       "      <th>22845</th>\n",
       "      <td>0.002731</td>\n",
       "      <td>0.006</td>\n",
       "      <td>False</td>\n",
       "    </tr>\n",
       "    <tr>\n",
       "      <th>10961</th>\n",
       "      <td>0.001745</td>\n",
       "      <td>0.006</td>\n",
       "      <td>False</td>\n",
       "    </tr>\n",
       "    <tr>\n",
       "      <th>15502</th>\n",
       "      <td>0.002618</td>\n",
       "      <td>0.006</td>\n",
       "      <td>False</td>\n",
       "    </tr>\n",
       "    <tr>\n",
       "      <th>40374</th>\n",
       "      <td>0.000675</td>\n",
       "      <td>0.006</td>\n",
       "      <td>False</td>\n",
       "    </tr>\n",
       "    <tr>\n",
       "      <th>...</th>\n",
       "      <td>...</td>\n",
       "      <td>...</td>\n",
       "      <td>...</td>\n",
       "    </tr>\n",
       "    <tr>\n",
       "      <th>41453</th>\n",
       "      <td>0.000927</td>\n",
       "      <td>0.006</td>\n",
       "      <td>False</td>\n",
       "    </tr>\n",
       "    <tr>\n",
       "      <th>13961</th>\n",
       "      <td>0.002578</td>\n",
       "      <td>0.006</td>\n",
       "      <td>False</td>\n",
       "    </tr>\n",
       "    <tr>\n",
       "      <th>23069</th>\n",
       "      <td>0.001812</td>\n",
       "      <td>0.006</td>\n",
       "      <td>False</td>\n",
       "    </tr>\n",
       "    <tr>\n",
       "      <th>40604</th>\n",
       "      <td>0.000605</td>\n",
       "      <td>0.006</td>\n",
       "      <td>False</td>\n",
       "    </tr>\n",
       "    <tr>\n",
       "      <th>44594</th>\n",
       "      <td>0.001954</td>\n",
       "      <td>0.006</td>\n",
       "      <td>False</td>\n",
       "    </tr>\n",
       "  </tbody>\n",
       "</table>\n",
       "<p>100 rows × 3 columns</p>\n",
       "</div>"
      ],
      "text/plain": [
       "       Loss_mae  Threshold  Anomaly\n",
       "13002  0.000906      0.006    False\n",
       "22845  0.002731      0.006    False\n",
       "10961  0.001745      0.006    False\n",
       "15502  0.002618      0.006    False\n",
       "40374  0.000675      0.006    False\n",
       "...         ...        ...      ...\n",
       "41453  0.000927      0.006    False\n",
       "13961  0.002578      0.006    False\n",
       "23069  0.001812      0.006    False\n",
       "40604  0.000605      0.006    False\n",
       "44594  0.001954      0.006    False\n",
       "\n",
       "[100 rows x 3 columns]"
      ]
     },
     "execution_count": 15,
     "metadata": {},
     "output_type": "execute_result"
    }
   ],
   "source": [
    "X_pred = model.predict(np.array(X_test))\n",
    "\n",
    "scored = pd.DataFrame()\n",
    "scored['Loss_mae'] = np.mean(np.abs(X_pred-X_test), axis = 1)\n",
    "scored['Threshold'] = 0.006\n",
    "scored['Anomaly'] = scored['Loss_mae'] > scored['Threshold']\n",
    "scored.sample(100)"
   ]
  },
  {
   "cell_type": "code",
   "execution_count": 16,
   "metadata": {},
   "outputs": [],
   "source": [
    "X_pred_train = model.predict(np.array(X_train))\n",
    "X_pred_train = pd.DataFrame(X_pred_train)\n",
    "\n",
    "scored_train = pd.DataFrame()\n",
    "scored_train['Loss_mae'] = np.mean(np.abs(X_pred_train-X_train), axis = 1)\n",
    "scored_train['Threshold'] = 0.006\n",
    "scored_train['Anomaly'] = scored_train['Loss_mae'] > scored_train['Threshold']\n",
    "scored = pd.concat([scored_train, scored])"
   ]
  },
  {
   "cell_type": "code",
   "execution_count": 17,
   "metadata": {},
   "outputs": [
    {
     "data": {
      "text/plain": [
       "0.0016051646011254889"
      ]
     },
     "execution_count": 17,
     "metadata": {},
     "output_type": "execute_result"
    }
   ],
   "source": [
    "scored_train['Loss_mae'].mean()"
   ]
  },
  {
   "cell_type": "code",
   "execution_count": 18,
   "metadata": {},
   "outputs": [
    {
     "data": {
      "text/plain": [
       "<matplotlib.axes._subplots.AxesSubplot at 0x23e91157f08>"
      ]
     },
     "execution_count": 18,
     "metadata": {},
     "output_type": "execute_result"
    },
    {
     "data": {
      "image/png": "[encoded data removed]",
      "text/plain": [
       "<Figure size 720x432 with 1 Axes>"
      ]
     },
     "metadata": {
      "needs_background": "light"
     },
     "output_type": "display_data"
    }
   ],
   "source": [
    "scored.plot(logy=True,  figsize = (10,6), xlim =[0,1000], ylim = [1e-4,1e-1], color = ['blue','red'])"
   ]
  },
  {
   "cell_type": "code",
   "execution_count": null,
   "metadata": {},
   "outputs": [],
   "source": []
  }
 ],
 "metadata": {
  "kernelspec": {
   "display_name": "Python 3",
   "language": "python",
   "name": "python3"
  },
  "language_info": {
   "codemirror_mode": {
    "name": "ipython",
    "version": 3
   },
   "file_extension": ".py",
   "mimetype": "text/x-python",
   "name": "python",
   "nbconvert_exporter": "python",
   "pygments_lexer": "ipython3",
   "version": "3.7.4"
  }
 },
 "nbformat": 4,
 "nbformat_minor": 4
}
