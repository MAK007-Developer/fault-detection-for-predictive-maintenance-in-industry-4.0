{
 "cells": [
  {
   "cell_type": "code",
   "execution_count": 1,
   "metadata": {},
   "outputs": [],
   "source": [
    "#importing packages\n",
    "import pandas as pd\n",
    "import numpy as np"
   ]
  },
  {
   "cell_type": "code",
   "execution_count": 2,
   "metadata": {},
   "outputs": [],
   "source": [
    "Dtrain = pd.read_csv(\"TrainingSet (IR - 7).csv\")\n",
    "#Dtrain = Dtrain.iloc[:,0:4].values\n",
    "Dtest = pd.read_csv(\"TestingSet (IR - 7).csv\")"
   ]
  },
  {
   "cell_type": "code",
   "execution_count": 3,
   "metadata": {},
   "outputs": [
    {
     "data": {
      "text/plain": [
       "Normal                 96896\n",
       "Inner Race (0.007\")    96896\n",
       "Name: Bearing, dtype: int64"
      ]
     },
     "execution_count": 3,
     "metadata": {},
     "output_type": "execute_result"
    }
   ],
   "source": [
    "Dtrain[\"Bearing\"].value_counts()"
   ]
  },
  {
   "cell_type": "code",
   "execution_count": 4,
   "metadata": {},
   "outputs": [
    {
     "data": {
      "text/plain": [
       "Normal                 50.0\n",
       "Inner Race (0.007\")    50.0\n",
       "Name: Bearing, dtype: float64"
      ]
     },
     "execution_count": 4,
     "metadata": {},
     "output_type": "execute_result"
    }
   ],
   "source": [
    "Dtrain[\"Bearing\"].value_counts(normalize=True)*100"
   ]
  },
  {
   "cell_type": "code",
   "execution_count": 5,
   "metadata": {},
   "outputs": [
    {
     "data": {
      "text/plain": [
       "Index(['Bearing', 'Fault Diameter', 'DE', 'FE'], dtype='object')"
      ]
     },
     "execution_count": 5,
     "metadata": {},
     "output_type": "execute_result"
    }
   ],
   "source": [
    "Dtest.columns"
   ]
  },
  {
   "cell_type": "code",
   "execution_count": 6,
   "metadata": {},
   "outputs": [],
   "source": [
    "from sklearn.preprocessing import LabelEncoder, OneHotEncoder\n",
    "from sklearn.compose import ColumnTransformer\n",
    "labelencoder_train = LabelEncoder()\n",
    "Dtrain[\"Bearing\"] = labelencoder_train.fit_transform(Dtrain[\"Bearing\"])\n",
    "ct = ColumnTransformer([(\"Bearing\", OneHotEncoder(), [0])],    remainder = 'passthrough')\n",
    "Dtrain = ct.fit_transform(Dtrain)"
   ]
  },
  {
   "cell_type": "code",
   "execution_count": 7,
   "metadata": {},
   "outputs": [],
   "source": [
    "from sklearn.preprocessing import LabelEncoder, OneHotEncoder\n",
    "from sklearn.compose import ColumnTransformer\n",
    "labelencoder_train = LabelEncoder()\n",
    "Dtest[\"Bearing\"] = labelencoder_train.fit_transform(Dtest[\"Bearing\"])\n",
    "ct = ColumnTransformer([(\"Bearing\", OneHotEncoder(), [0])],    remainder = 'passthrough')\n",
    "Dtest = ct.fit_transform(Dtest)"
   ]
  },
  {
   "cell_type": "code",
   "execution_count": 8,
   "metadata": {},
   "outputs": [],
   "source": [
    "from sklearn.preprocessing import MinMaxScaler\n",
    "scaler = MinMaxScaler()\n",
    "X_train = pd.DataFrame(scaler.fit_transform(Dtrain))\n",
    "# Random shuffle training data\n",
    "X_train.sample(frac=1)\n",
    "\n",
    "X_test = pd.DataFrame(scaler.transform(Dtest))\n",
    "\n"
   ]
  },
  {
   "cell_type": "code",
   "execution_count": 9,
   "metadata": {},
   "outputs": [
    {
     "name": "stderr",
     "output_type": "stream",
     "text": [
      "Using TensorFlow backend.\n"
     ]
    }
   ],
   "source": [
    "from keras.layers import Input, Dropout\n",
    "from keras.layers.core import Dense \n",
    "from keras.models import Model, Sequential, load_model\n",
    "from keras import regularizers"
   ]
  },
  {
   "cell_type": "code",
   "execution_count": 10,
   "metadata": {},
   "outputs": [],
   "source": [
    "import tensorflow as tf\n",
    "from numpy.random import seed\n",
    "seed(10)\n",
    "tf.random.set_seed(10)\n",
    "act_func = 'elu'"
   ]
  },
  {
   "cell_type": "code",
   "execution_count": 11,
   "metadata": {},
   "outputs": [],
   "source": [
    "# Input layer:\n",
    "model=Sequential()\n",
    "# First hidden layer, connected to input vector X. \n",
    "model.add(Dense(6,activation=act_func,\n",
    "                kernel_initializer='glorot_uniform',\n",
    "                kernel_regularizer=regularizers.l2(0.0),\n",
    "                input_shape=(X_train.shape[1],)\n",
    "               )\n",
    "         )\n",
    "\n",
    "model.add(Dense(2,activation=act_func,\n",
    "                kernel_initializer='glorot_uniform'))\n",
    "\n",
    "model.add(Dense(6,activation=act_func,\n",
    "                kernel_initializer='glorot_uniform'))\n",
    "\n",
    "model.add(Dense(X_train.shape[1],\n",
    "                kernel_initializer='glorot_uniform'))\n",
    "\n",
    "model.compile(loss='mse',optimizer='adam', metrics=['accuracy'] )\n",
    "\n",
    "# Train model for 100 epochs, batch size of 10: \n",
    "NUM_EPOCHS=100\n",
    "BATCH_SIZE=100"
   ]
  },
  {
   "cell_type": "code",
   "execution_count": 12,
   "metadata": {},
   "outputs": [
    {
     "name": "stdout",
     "output_type": "stream",
     "text": [
      "Train on 184102 samples, validate on 9690 samples\n",
      "Epoch 1/100\n",
      "184102/184102 [==============================] - 8s 44us/step - loss: 0.0212 - accuracy: 0.7869 - val_loss: 0.0041 - val_accuracy: 0.4711\n",
      "Epoch 2/100\n",
      "184102/184102 [==============================] - 7s 37us/step - loss: 0.0014 - accuracy: 0.7641 - val_loss: 0.0020 - val_accuracy: 0.5270\n",
      "Epoch 3/100\n",
      "184102/184102 [==============================] - 7s 36us/step - loss: 9.9434e-04 - accuracy: 0.8037 - val_loss: 0.0020 - val_accuracy: 0.6741\n",
      "Epoch 4/100\n",
      "184102/184102 [==============================] - 7s 37us/step - loss: 9.7112e-04 - accuracy: 0.8509 - val_loss: 0.0019 - val_accuracy: 0.5167\n",
      "Epoch 5/100\n",
      "184102/184102 [==============================] - 6s 35us/step - loss: 9.6014e-04 - accuracy: 0.8377 - val_loss: 0.0020 - val_accuracy: 0.4766\n",
      "Epoch 6/100\n",
      "184102/184102 [==============================] - 7s 36us/step - loss: 9.5320e-04 - accuracy: 0.8264 - val_loss: 0.0019 - val_accuracy: 0.8190\n",
      "Epoch 7/100\n",
      "184102/184102 [==============================] - 6s 35us/step - loss: 9.4547e-04 - accuracy: 0.8256 - val_loss: 0.0019 - val_accuracy: 0.1798\n",
      "Epoch 8/100\n",
      "184102/184102 [==============================] - 6s 35us/step - loss: 9.2929e-04 - accuracy: 0.8158 - val_loss: 0.0019 - val_accuracy: 0.6848\n",
      "Epoch 9/100\n",
      "184102/184102 [==============================] - 7s 36us/step - loss: 7.0802e-04 - accuracy: 0.7791 - val_loss: 2.9823e-04 - val_accuracy: 0.5992\n",
      "Epoch 10/100\n",
      "184102/184102 [==============================] - 7s 36us/step - loss: 1.3194e-04 - accuracy: 0.7702 - val_loss: 4.2659e-05 - val_accuracy: 0.6809\n",
      "Epoch 11/100\n",
      "184102/184102 [==============================] - 6s 35us/step - loss: 5.7663e-05 - accuracy: 0.8177 - val_loss: 5.7018e-05 - val_accuracy: 0.7752\n",
      "Epoch 12/100\n",
      "184102/184102 [==============================] - 7s 36us/step - loss: 4.0965e-05 - accuracy: 0.8241 - val_loss: 2.2837e-05 - val_accuracy: 0.5460\n",
      "Epoch 13/100\n",
      "184102/184102 [==============================] - 6s 35us/step - loss: 3.6157e-05 - accuracy: 0.8278 - val_loss: 2.9998e-05 - val_accuracy: 0.2775\n",
      "Epoch 14/100\n",
      "184102/184102 [==============================] - 6s 35us/step - loss: 3.3387e-05 - accuracy: 0.8277 - val_loss: 5.3424e-05 - val_accuracy: 0.7116\n",
      "Epoch 15/100\n",
      "184102/184102 [==============================] - 6s 35us/step - loss: 3.0886e-05 - accuracy: 0.8202 - val_loss: 1.9151e-05 - val_accuracy: 0.7253\n",
      "Epoch 16/100\n",
      "184102/184102 [==============================] - 7s 36us/step - loss: 2.8580e-05 - accuracy: 0.8216 - val_loss: 1.9056e-05 - val_accuracy: 0.6534\n",
      "Epoch 17/100\n",
      "184102/184102 [==============================] - 6s 34us/step - loss: 2.6548e-05 - accuracy: 0.8217 - val_loss: 1.5421e-05 - val_accuracy: 0.0689\n",
      "Epoch 18/100\n",
      "184102/184102 [==============================] - 6s 35us/step - loss: 2.4815e-05 - accuracy: 0.8170 - val_loss: 1.9571e-05 - val_accuracy: 0.1018\n",
      "Epoch 19/100\n",
      "184102/184102 [==============================] - 7s 37us/step - loss: 2.3331e-05 - accuracy: 0.8149 - val_loss: 2.1148e-05 - val_accuracy: 0.8229\n",
      "Epoch 20/100\n",
      "184102/184102 [==============================] - 7s 36us/step - loss: 2.1996e-05 - accuracy: 0.8157 - val_loss: 1.1670e-05 - val_accuracy: 0.8478\n",
      "Epoch 21/100\n",
      "184102/184102 [==============================] - 7s 36us/step - loss: 2.0521e-05 - accuracy: 0.8151 - val_loss: 1.5930e-05 - val_accuracy: 0.8198\n",
      "Epoch 22/100\n",
      "184102/184102 [==============================] - 7s 37us/step - loss: 1.9577e-05 - accuracy: 0.8157 - val_loss: 5.2071e-05 - val_accuracy: 0.8268\n",
      "Epoch 23/100\n",
      "184102/184102 [==============================] - 6s 34us/step - loss: 1.8564e-05 - accuracy: 0.8157 - val_loss: 1.2375e-05 - val_accuracy: 0.8377\n",
      "Epoch 24/100\n",
      "184102/184102 [==============================] - 7s 35us/step - loss: 1.7590e-05 - accuracy: 0.8152 - val_loss: 9.6861e-06 - val_accuracy: 0.6344\n",
      "Epoch 25/100\n",
      "184102/184102 [==============================] - 7s 36us/step - loss: 1.6856e-05 - accuracy: 0.8071 - val_loss: 9.1674e-06 - val_accuracy: 0.0273\n",
      "Epoch 26/100\n",
      "184102/184102 [==============================] - 6s 34us/step - loss: 1.5875e-05 - accuracy: 0.8068 - val_loss: 1.5447e-05 - val_accuracy: 0.3164\n",
      "Epoch 27/100\n",
      "184102/184102 [==============================] - 7s 35us/step - loss: 1.5441e-05 - accuracy: 0.8007 - val_loss: 1.2702e-05 - val_accuracy: 0.7548\n",
      "Epoch 28/100\n",
      "184102/184102 [==============================] - 6s 35us/step - loss: 1.4728e-05 - accuracy: 0.8045 - val_loss: 1.3040e-05 - val_accuracy: 0.7107\n",
      "Epoch 29/100\n",
      "184102/184102 [==============================] - 6s 34us/step - loss: 1.4242e-05 - accuracy: 0.8026 - val_loss: 7.6376e-06 - val_accuracy: 0.7035\n",
      "Epoch 30/100\n",
      "184102/184102 [==============================] - 7s 35us/step - loss: 1.3681e-05 - accuracy: 0.8041 - val_loss: 6.7328e-06 - val_accuracy: 0.7488\n",
      "Epoch 31/100\n",
      "184102/184102 [==============================] - 6s 35us/step - loss: 1.3109e-05 - accuracy: 0.8099 - val_loss: 1.6225e-05 - val_accuracy: 0.8689\n",
      "Epoch 32/100\n",
      "184102/184102 [==============================] - 7s 36us/step - loss: 1.2611e-05 - accuracy: 0.8043 - val_loss: 7.4186e-06 - val_accuracy: 0.2327\n",
      "Epoch 33/100\n",
      "184102/184102 [==============================] - 7s 36us/step - loss: 1.2133e-05 - accuracy: 0.8001 - val_loss: 1.5646e-05 - val_accuracy: 0.8272\n",
      "Epoch 34/100\n",
      "184102/184102 [==============================] - 7s 35us/step - loss: 1.1763e-05 - accuracy: 0.8003 - val_loss: 1.0490e-04 - val_accuracy: 0.6216\n",
      "Epoch 35/100\n",
      "184102/184102 [==============================] - 7s 36us/step - loss: 1.1479e-05 - accuracy: 0.7998 - val_loss: 1.5256e-05 - val_accuracy: 0.4647\n",
      "Epoch 36/100\n",
      "184102/184102 [==============================] - 7s 36us/step - loss: 1.1016e-05 - accuracy: 0.8004 - val_loss: 9.6194e-06 - val_accuracy: 0.0142\n",
      "Epoch 37/100\n",
      "184102/184102 [==============================] - 7s 36us/step - loss: 1.0758e-05 - accuracy: 0.7909 - val_loss: 1.2183e-04 - val_accuracy: 0.5869\n",
      "Epoch 38/100\n",
      "184102/184102 [==============================] - 7s 36us/step - loss: 1.0465e-05 - accuracy: 0.7938 - val_loss: 8.3080e-06 - val_accuracy: 0.6851\n",
      "Epoch 39/100\n",
      "184102/184102 [==============================] - 7s 37us/step - loss: 1.0134e-05 - accuracy: 0.7928 - val_loss: 8.9412e-06 - val_accuracy: 0.7083\n",
      "Epoch 40/100\n",
      "184102/184102 [==============================] - 7s 36us/step - loss: 9.7794e-06 - accuracy: 0.8002 - val_loss: 6.2076e-06 - val_accuracy: 0.6969: 9.8026e\n",
      "Epoch 41/100\n",
      "184102/184102 [==============================] - 7s 37us/step - loss: 9.6905e-06 - accuracy: 0.8002 - val_loss: 7.2460e-06 - val_accuracy: 0.8604\n",
      "Epoch 42/100\n",
      "184102/184102 [==============================] - 6s 35us/step - loss: 9.3767e-06 - accuracy: 0.7962 - val_loss: 2.4443e-05 - val_accuracy: 2.0640e-04\n",
      "Epoch 43/100\n",
      "184102/184102 [==============================] - 6s 35us/step - loss: 9.1903e-06 - accuracy: 0.7890 - val_loss: 5.3258e-05 - val_accuracy: 0.0094\n",
      "Epoch 44/100\n",
      "184102/184102 [==============================] - 7s 37us/step - loss: 9.0068e-06 - accuracy: 0.7917 - val_loss: 9.1016e-05 - val_accuracy: 0.6515\n",
      "Epoch 45/100\n",
      "184102/184102 [==============================] - 7s 36us/step - loss: 8.6438e-06 - accuracy: 0.7936 - val_loss: 2.8057e-05 - val_accuracy: 0.7211\n",
      "Epoch 46/100\n",
      "184102/184102 [==============================] - 6s 35us/step - loss: 8.5991e-06 - accuracy: 0.7876 - val_loss: 1.0921e-05 - val_accuracy: 0.8938\n",
      "Epoch 47/100\n",
      "184102/184102 [==============================] - 7s 37us/step - loss: 8.3313e-06 - accuracy: 0.7959 - val_loss: 1.4783e-05 - val_accuracy: 0.2501\n",
      "Epoch 48/100\n",
      "184102/184102 [==============================] - 7s 36us/step - loss: 8.1932e-06 - accuracy: 0.7908 - val_loss: 1.9437e-05 - val_accuracy: 0.0275\n",
      "Epoch 49/100\n",
      "184102/184102 [==============================] - 7s 37us/step - loss: 7.7851e-06 - accuracy: 0.7974 - val_loss: 6.4307e-05 - val_accuracy: 0.5587\n",
      "Epoch 50/100\n",
      "184102/184102 [==============================] - 7s 36us/step - loss: 7.9298e-06 - accuracy: 0.7966 - val_loss: 1.0358e-05 - val_accuracy: 0.8480\n",
      "Epoch 51/100\n",
      "184102/184102 [==============================] - 7s 36us/step - loss: 7.6024e-06 - accuracy: 0.7900 - val_loss: 1.1612e-05 - val_accuracy: 0.5808\n",
      "Epoch 52/100\n"
     ]
    },
    {
     "name": "stdout",
     "output_type": "stream",
     "text": [
      "184102/184102 [==============================] - 7s 37us/step - loss: 7.4093e-06 - accuracy: 0.7917 - val_loss: 9.2529e-06 - val_accuracy: 0.7842\n",
      "Epoch 53/100\n",
      "184102/184102 [==============================] - 7s 36us/step - loss: 7.2726e-06 - accuracy: 0.7975 - val_loss: 4.8892e-06 - val_accuracy: 0.0856\n",
      "Epoch 54/100\n",
      "184102/184102 [==============================] - 7s 36us/step - loss: 7.2156e-06 - accuracy: 0.7921 - val_loss: 3.6948e-06 - val_accuracy: 0.7035\n",
      "Epoch 55/100\n",
      "184102/184102 [==============================] - 7s 37us/step - loss: 7.0107e-06 - accuracy: 0.7916 - val_loss: 4.5424e-06 - val_accuracy: 0.6623\n",
      "Epoch 56/100\n",
      "184102/184102 [==============================] - 7s 37us/step - loss: 6.9098e-06 - accuracy: 0.7966 - val_loss: 3.2630e-06 - val_accuracy: 0.8127\n",
      "Epoch 57/100\n",
      "184102/184102 [==============================] - 7s 36us/step - loss: 6.8154e-06 - accuracy: 0.8001 - val_loss: 6.0949e-06 - val_accuracy: 0.5411\n",
      "Epoch 58/100\n",
      "184102/184102 [==============================] - 7s 36us/step - loss: 6.5724e-06 - accuracy: 0.7966 - val_loss: 3.3426e-06 - val_accuracy: 0.8934\n",
      "Epoch 59/100\n",
      "184102/184102 [==============================] - 7s 40us/step - loss: 6.6620e-06 - accuracy: 0.7924 - val_loss: 2.8510e-06 - val_accuracy: 0.7280\n",
      "Epoch 60/100\n",
      "184102/184102 [==============================] - 7s 37us/step - loss: 6.3576e-06 - accuracy: 0.7924 - val_loss: 3.1135e-06 - val_accuracy: 0.0448\n",
      "Epoch 61/100\n",
      "184102/184102 [==============================] - 7s 37us/step - loss: 6.3499e-06 - accuracy: 0.7939 - val_loss: 1.2354e-05 - val_accuracy: 0.8010\n",
      "Epoch 62/100\n",
      "184102/184102 [==============================] - 7s 37us/step - loss: 6.1597e-06 - accuracy: 0.7954 - val_loss: 3.0730e-06 - val_accuracy: 0.7960\n",
      "Epoch 63/100\n",
      "184102/184102 [==============================] - 7s 36us/step - loss: 5.9934e-06 - accuracy: 0.7916 - val_loss: 4.6731e-05 - val_accuracy: 0.6348\n",
      "Epoch 64/100\n",
      "184102/184102 [==============================] - 6s 35us/step - loss: 5.9230e-06 - accuracy: 0.7933 - val_loss: 6.5620e-06 - val_accuracy: 0.3326\n",
      "Epoch 65/100\n",
      "184102/184102 [==============================] - 7s 37us/step - loss: 5.9216e-06 - accuracy: 0.8037 - val_loss: 9.1712e-06 - val_accuracy: 0.7746\n",
      "Epoch 66/100\n",
      "184102/184102 [==============================] - 6s 35us/step - loss: 5.8423e-06 - accuracy: 0.7944 - val_loss: 1.5514e-05 - val_accuracy: 0.7270\n",
      "Epoch 67/100\n",
      "184102/184102 [==============================] - 6s 35us/step - loss: 5.6713e-06 - accuracy: 0.8020 - val_loss: 1.1216e-05 - val_accuracy: 0.6130\n",
      "Epoch 68/100\n",
      "184102/184102 [==============================] - 7s 36us/step - loss: 5.5783e-06 - accuracy: 0.7966 - val_loss: 2.6492e-06 - val_accuracy: 0.8240\n",
      "Epoch 69/100\n",
      "184102/184102 [==============================] - 7s 37us/step - loss: 5.4579e-06 - accuracy: 0.7922 - val_loss: 3.9620e-06 - val_accuracy: 0.8369\n",
      "Epoch 70/100\n",
      "184102/184102 [==============================] - 7s 37us/step - loss: 5.3759e-06 - accuracy: 0.7979 - val_loss: 7.6639e-06 - val_accuracy: 0.3701\n",
      "Epoch 71/100\n",
      "184102/184102 [==============================] - 7s 36us/step - loss: 5.3145e-06 - accuracy: 0.8031 - val_loss: 1.7593e-05 - val_accuracy: 0.5243\n",
      "Epoch 72/100\n",
      "184102/184102 [==============================] - 7s 36us/step - loss: 5.2125e-06 - accuracy: 0.7978 - val_loss: 6.9423e-06 - val_accuracy: 0.8599\n",
      "Epoch 73/100\n",
      "184102/184102 [==============================] - 6s 35us/step - loss: 5.0960e-06 - accuracy: 0.7954 - val_loss: 3.1927e-06 - val_accuracy: 0.5407\n",
      "Epoch 74/100\n",
      "184102/184102 [==============================] - 7s 36us/step - loss: 4.9903e-06 - accuracy: 0.8020 - val_loss: 2.2749e-06 - val_accuracy: 0.8651\n",
      "Epoch 75/100\n",
      "184102/184102 [==============================] - 7s 36us/step - loss: 4.8745e-06 - accuracy: 0.8016 - val_loss: 2.0161e-06 - val_accuracy: 0.4750\n",
      "Epoch 76/100\n",
      "184102/184102 [==============================] - 7s 36us/step - loss: 4.8613e-06 - accuracy: 0.8014 - val_loss: 2.8322e-06 - val_accuracy: 0.0267\n",
      "Epoch 77/100\n",
      "184102/184102 [==============================] - 7s 36us/step - loss: 4.8273e-06 - accuracy: 0.8035 - val_loss: 3.0553e-06 - val_accuracy: 0.7449\n",
      "Epoch 78/100\n",
      "184102/184102 [==============================] - 6s 34us/step - loss: 4.6508e-06 - accuracy: 0.8061 - val_loss: 5.3059e-06 - val_accuracy: 0.8962\n",
      "Epoch 79/100\n",
      "184102/184102 [==============================] - 6s 35us/step - loss: 4.7008e-06 - accuracy: 0.8034 - val_loss: 1.9914e-06 - val_accuracy: 0.7269\n",
      "Epoch 80/100\n",
      "184102/184102 [==============================] - 6s 34us/step - loss: 4.6429e-06 - accuracy: 0.8085 - val_loss: 2.7787e-06 - val_accuracy: 0.2355\n",
      "Epoch 81/100\n",
      "184102/184102 [==============================] - 7s 36us/step - loss: 4.3773e-06 - accuracy: 0.8111 - val_loss: 7.2669e-06 - val_accuracy: 0.8203\n",
      "Epoch 82/100\n",
      "184102/184102 [==============================] - 7s 36us/step - loss: 4.3329e-06 - accuracy: 0.8034 - val_loss: 9.6076e-06 - val_accuracy: 0.8413\n",
      "Epoch 83/100\n",
      "184102/184102 [==============================] - 7s 37us/step - loss: 4.2753e-06 - accuracy: 0.8044 - val_loss: 1.2611e-04 - val_accuracy: 0.8487\n",
      "Epoch 84/100\n",
      "184102/184102 [==============================] - 7s 36us/step - loss: 4.4734e-06 - accuracy: 0.8127 - val_loss: 2.2994e-05 - val_accuracy: 0.6007\n",
      "Epoch 85/100\n",
      "184102/184102 [==============================] - 8s 41us/step - loss: 4.1961e-06 - accuracy: 0.8073 - val_loss: 2.4255e-06 - val_accuracy: 0.2556\n",
      "Epoch 86/100\n",
      "184102/184102 [==============================] - 7s 37us/step - loss: 4.0831e-06 - accuracy: 0.8110 - val_loss: 3.3063e-06 - val_accuracy: 0.7250\n",
      "Epoch 87/100\n",
      "184102/184102 [==============================] - 7s 37us/step - loss: 3.9459e-06 - accuracy: 0.8122 - val_loss: 1.0485e-05 - val_accuracy: 0.0511\n",
      "Epoch 88/100\n",
      "184102/184102 [==============================] - 7s 36us/step - loss: 3.9689e-06 - accuracy: 0.8136 - val_loss: 3.5016e-06 - val_accuracy: 0.6699\n",
      "Epoch 89/100\n",
      "184102/184102 [==============================] - 7s 38us/step - loss: 3.8433e-06 - accuracy: 0.8172 - val_loss: 3.1750e-06 - val_accuracy: 0.4957\n",
      "Epoch 90/100\n",
      "184102/184102 [==============================] - 7s 36us/step - loss: 3.7790e-06 - accuracy: 0.8236 - val_loss: 1.0111e-04 - val_accuracy: 0.6584\n",
      "Epoch 91/100\n",
      "184102/184102 [==============================] - 7s 36us/step - loss: 3.8894e-06 - accuracy: 0.8184 - val_loss: 3.2030e-06 - val_accuracy: 0.4817\n",
      "Epoch 92/100\n",
      "184102/184102 [==============================] - 7s 37us/step - loss: 3.7044e-06 - accuracy: 0.8188 - val_loss: 1.1056e-05 - val_accuracy: 0.8175\n",
      "Epoch 93/100\n",
      "184102/184102 [==============================] - 6s 35us/step - loss: 3.6528e-06 - accuracy: 0.8238 - val_loss: 6.9673e-06 - val_accuracy: 0.6738\n",
      "Epoch 94/100\n",
      "184102/184102 [==============================] - 7s 37us/step - loss: 3.5823e-06 - accuracy: 0.8208 - val_loss: 3.4377e-06 - val_accuracy: 0.8348\n",
      "Epoch 95/100\n",
      "184102/184102 [==============================] - 7s 36us/step - loss: 3.4251e-06 - accuracy: 0.8235 - val_loss: 4.4571e-06 - val_accuracy: 0.6988\n",
      "Epoch 96/100\n",
      "184102/184102 [==============================] - 6s 35us/step - loss: 3.4656e-06 - accuracy: 0.8266 - val_loss: 2.7705e-06 - val_accuracy: 0.9012\n",
      "Epoch 97/100\n",
      "184102/184102 [==============================] - 7s 36us/step - loss: 3.2707e-06 - accuracy: 0.8240 - val_loss: 1.8961e-06 - val_accuracy: 0.2155\n",
      "Epoch 98/100\n",
      "184102/184102 [==============================] - 6s 35us/step - loss: 3.3717e-06 - accuracy: 0.8259 - val_loss: 1.3551e-06 - val_accuracy: 0.8315\n",
      "Epoch 99/100\n",
      "184102/184102 [==============================] - 7s 37us/step - loss: 3.2820e-06 - accuracy: 0.8260 - val_loss: 1.5874e-06 - val_accuracy: 0.7535\n",
      "Epoch 100/100\n",
      "184102/184102 [==============================] - 6s 35us/step - loss: 3.1416e-06 - accuracy: 0.8252 - val_loss: 2.5755e-06 - val_accuracy: 0.5368\n"
     ]
    }
   ],
   "source": [
    "history=model.fit(np.array(X_train),np.array(X_train),\n",
    "                  batch_size=BATCH_SIZE, \n",
    "                  epochs=NUM_EPOCHS,\n",
    "                  validation_split=0.05,\n",
    "                  verbose = 1)"
   ]
  },
  {
   "cell_type": "code",
   "execution_count": 13,
   "metadata": {},
   "outputs": [
    {
     "data": {
      "image/png": "[encoded data removed]",
      "text/plain": [
       "<Figure size 432x288 with 1 Axes>"
      ]
     },
     "metadata": {
      "needs_background": "light"
     },
     "output_type": "display_data"
    }
   ],
   "source": [
    "import matplotlib.pyplot as plt\n",
    "\n",
    "plt.plot(history.history['loss'], 'b', label='Training loss')\n",
    "plt.plot(history.history['val_loss'], 'r', label='Validation loss')\n",
    "plt.legend(loc='upper right')\n",
    "plt.xlabel('Epochs')\n",
    "plt.ylabel('Loss, [mse]')\n",
    "plt.ylim([0,.05])\n",
    "plt.show()"
   ]
  },
  {
   "cell_type": "code",
   "execution_count": 14,
   "metadata": {},
   "outputs": [
    {
     "data": {
      "image/png": "[encoded data removed]",
      "text/plain": [
       "<Figure size 432x288 with 1 Axes>"
      ]
     },
     "metadata": {
      "needs_background": "light"
     },
     "output_type": "display_data"
    }
   ],
   "source": [
    "X_pred = model.predict(np.array(X_train))\n",
    "\n",
    "import seaborn as sns\n",
    "\n",
    "scored = np.mean(np.abs(X_pred-X_train), axis = 1)\n",
    "plt.figure()\n",
    "sns.distplot(scored, bins = 10, kde= True, color = 'blue');\n",
    "plt.xlim([0.0,.02])\n",
    "plt.show()"
   ]
  },
  {
   "cell_type": "code",
   "execution_count": 15,
   "metadata": {},
   "outputs": [
    {
     "data": {
      "text/html": [
       "<div>\n",
       "<style scoped>\n",
       "    .dataframe tbody tr th:only-of-type {\n",
       "        vertical-align: middle;\n",
       "    }\n",
       "\n",
       "    .dataframe tbody tr th {\n",
       "        vertical-align: top;\n",
       "    }\n",
       "\n",
       "    .dataframe thead th {\n",
       "        text-align: right;\n",
       "    }\n",
       "</style>\n",
       "<table border=\"1\" class=\"dataframe\">\n",
       "  <thead>\n",
       "    <tr style=\"text-align: right;\">\n",
       "      <th></th>\n",
       "      <th>Loss_mae</th>\n",
       "      <th>Threshold</th>\n",
       "      <th>Anomaly</th>\n",
       "    </tr>\n",
       "  </thead>\n",
       "  <tbody>\n",
       "    <tr>\n",
       "      <th>13002</th>\n",
       "      <td>0.000910</td>\n",
       "      <td>0.006</td>\n",
       "      <td>False</td>\n",
       "    </tr>\n",
       "    <tr>\n",
       "      <th>22845</th>\n",
       "      <td>0.002729</td>\n",
       "      <td>0.006</td>\n",
       "      <td>False</td>\n",
       "    </tr>\n",
       "    <tr>\n",
       "      <th>10961</th>\n",
       "      <td>0.001747</td>\n",
       "      <td>0.006</td>\n",
       "      <td>False</td>\n",
       "    </tr>\n",
       "    <tr>\n",
       "      <th>15502</th>\n",
       "      <td>0.002616</td>\n",
       "      <td>0.006</td>\n",
       "      <td>False</td>\n",
       "    </tr>\n",
       "    <tr>\n",
       "      <th>40374</th>\n",
       "      <td>0.000674</td>\n",
       "      <td>0.006</td>\n",
       "      <td>False</td>\n",
       "    </tr>\n",
       "    <tr>\n",
       "      <th>...</th>\n",
       "      <td>...</td>\n",
       "      <td>...</td>\n",
       "      <td>...</td>\n",
       "    </tr>\n",
       "    <tr>\n",
       "      <th>41453</th>\n",
       "      <td>0.000926</td>\n",
       "      <td>0.006</td>\n",
       "      <td>False</td>\n",
       "    </tr>\n",
       "    <tr>\n",
       "      <th>13961</th>\n",
       "      <td>0.002577</td>\n",
       "      <td>0.006</td>\n",
       "      <td>False</td>\n",
       "    </tr>\n",
       "    <tr>\n",
       "      <th>23069</th>\n",
       "      <td>0.001814</td>\n",
       "      <td>0.006</td>\n",
       "      <td>False</td>\n",
       "    </tr>\n",
       "    <tr>\n",
       "      <th>40604</th>\n",
       "      <td>0.000605</td>\n",
       "      <td>0.006</td>\n",
       "      <td>False</td>\n",
       "    </tr>\n",
       "    <tr>\n",
       "      <th>44594</th>\n",
       "      <td>0.001951</td>\n",
       "      <td>0.006</td>\n",
       "      <td>False</td>\n",
       "    </tr>\n",
       "  </tbody>\n",
       "</table>\n",
       "<p>100 rows × 3 columns</p>\n",
       "</div>"
      ],
      "text/plain": [
       "       Loss_mae  Threshold  Anomaly\n",
       "13002  0.000910      0.006    False\n",
       "22845  0.002729      0.006    False\n",
       "10961  0.001747      0.006    False\n",
       "15502  0.002616      0.006    False\n",
       "40374  0.000674      0.006    False\n",
       "...         ...        ...      ...\n",
       "41453  0.000926      0.006    False\n",
       "13961  0.002577      0.006    False\n",
       "23069  0.001814      0.006    False\n",
       "40604  0.000605      0.006    False\n",
       "44594  0.001951      0.006    False\n",
       "\n",
       "[100 rows x 3 columns]"
      ]
     },
     "execution_count": 15,
     "metadata": {},
     "output_type": "execute_result"
    }
   ],
   "source": [
    "X_pred = model.predict(np.array(X_test))\n",
    "\n",
    "scored = pd.DataFrame()\n",
    "scored['Loss_mae'] = np.mean(np.abs(X_pred-X_test), axis = 1)\n",
    "scored['Threshold'] = 0.006\n",
    "scored['Anomaly'] = scored['Loss_mae'] > scored['Threshold']\n",
    "scored.sample(100)"
   ]
  },
  {
   "cell_type": "code",
   "execution_count": 16,
   "metadata": {},
   "outputs": [],
   "source": [
    "X_pred_train = model.predict(np.array(X_train))\n",
    "X_pred_train = pd.DataFrame(X_pred_train)\n",
    "\n",
    "scored_train = pd.DataFrame()\n",
    "scored_train['Loss_mae'] = np.mean(np.abs(X_pred_train-X_train), axis = 1)\n",
    "scored_train['Threshold'] = 0.006\n",
    "scored_train['Anomaly'] = scored_train['Loss_mae'] > scored_train['Threshold']\n",
    "scored = pd.concat([scored_train, scored])"
   ]
  },
  {
   "cell_type": "code",
   "execution_count": 17,
   "metadata": {},
   "outputs": [
    {
     "data": {
      "text/plain": [
       "0.0016042169871454265"
      ]
     },
     "execution_count": 17,
     "metadata": {},
     "output_type": "execute_result"
    }
   ],
   "source": [
    "scored_train['Loss_mae'].mean()"
   ]
  },
  {
   "cell_type": "code",
   "execution_count": 18,
   "metadata": {},
   "outputs": [
    {
     "data": {
      "text/plain": [
       "<matplotlib.axes._subplots.AxesSubplot at 0x11769d77748>"
      ]
     },
     "execution_count": 18,
     "metadata": {},
     "output_type": "execute_result"
    },
    {
     "data": {
      "image/png": "[encoded data removed]",
      "text/plain": [
       "<Figure size 720x432 with 1 Axes>"
      ]
     },
     "metadata": {
      "needs_background": "light"
     },
     "output_type": "display_data"
    }
   ],
   "source": [
    "scored.plot(logy=True,  figsize = (10,6), xlim =[0,1000], ylim = [1e-4,1e-1], color = ['blue','red'])"
   ]
  },
  {
   "cell_type": "code",
   "execution_count": 23,
   "metadata": {},
   "outputs": [
    {
     "data": {
      "text/html": [
       "<div>\n",
       "<style scoped>\n",
       "    .dataframe tbody tr th:only-of-type {\n",
       "        vertical-align: middle;\n",
       "    }\n",
       "\n",
       "    .dataframe tbody tr th {\n",
       "        vertical-align: top;\n",
       "    }\n",
       "\n",
       "    .dataframe thead th {\n",
       "        text-align: right;\n",
       "    }\n",
       "</style>\n",
       "<table border=\"1\" class=\"dataframe\">\n",
       "  <thead>\n",
       "    <tr style=\"text-align: right;\">\n",
       "      <th></th>\n",
       "      <th>Loss_mae</th>\n",
       "      <th>Threshold</th>\n",
       "      <th>Anomaly</th>\n",
       "    </tr>\n",
       "  </thead>\n",
       "  <tbody>\n",
       "    <tr>\n",
       "      <th>0</th>\n",
       "      <td>0.001420</td>\n",
       "      <td>0.006</td>\n",
       "      <td>False</td>\n",
       "    </tr>\n",
       "    <tr>\n",
       "      <th>1</th>\n",
       "      <td>0.001100</td>\n",
       "      <td>0.006</td>\n",
       "      <td>False</td>\n",
       "    </tr>\n",
       "    <tr>\n",
       "      <th>2</th>\n",
       "      <td>0.001818</td>\n",
       "      <td>0.006</td>\n",
       "      <td>False</td>\n",
       "    </tr>\n",
       "    <tr>\n",
       "      <th>3</th>\n",
       "      <td>0.002346</td>\n",
       "      <td>0.006</td>\n",
       "      <td>False</td>\n",
       "    </tr>\n",
       "    <tr>\n",
       "      <th>4</th>\n",
       "      <td>0.002505</td>\n",
       "      <td>0.006</td>\n",
       "      <td>False</td>\n",
       "    </tr>\n",
       "    <tr>\n",
       "      <th>...</th>\n",
       "      <td>...</td>\n",
       "      <td>...</td>\n",
       "      <td>...</td>\n",
       "    </tr>\n",
       "    <tr>\n",
       "      <th>193787</th>\n",
       "      <td>0.006068</td>\n",
       "      <td>0.006</td>\n",
       "      <td>True</td>\n",
       "    </tr>\n",
       "    <tr>\n",
       "      <th>193788</th>\n",
       "      <td>0.000520</td>\n",
       "      <td>0.006</td>\n",
       "      <td>False</td>\n",
       "    </tr>\n",
       "    <tr>\n",
       "      <th>193789</th>\n",
       "      <td>0.007364</td>\n",
       "      <td>0.006</td>\n",
       "      <td>True</td>\n",
       "    </tr>\n",
       "    <tr>\n",
       "      <th>193790</th>\n",
       "      <td>0.000700</td>\n",
       "      <td>0.006</td>\n",
       "      <td>False</td>\n",
       "    </tr>\n",
       "    <tr>\n",
       "      <th>193791</th>\n",
       "      <td>0.002129</td>\n",
       "      <td>0.006</td>\n",
       "      <td>False</td>\n",
       "    </tr>\n",
       "  </tbody>\n",
       "</table>\n",
       "<p>193792 rows × 3 columns</p>\n",
       "</div>"
      ],
      "text/plain": [
       "        Loss_mae  Threshold  Anomaly\n",
       "0       0.001420      0.006    False\n",
       "1       0.001100      0.006    False\n",
       "2       0.001818      0.006    False\n",
       "3       0.002346      0.006    False\n",
       "4       0.002505      0.006    False\n",
       "...          ...        ...      ...\n",
       "193787  0.006068      0.006     True\n",
       "193788  0.000520      0.006    False\n",
       "193789  0.007364      0.006     True\n",
       "193790  0.000700      0.006    False\n",
       "193791  0.002129      0.006    False\n",
       "\n",
       "[193792 rows x 3 columns]"
      ]
     },
     "execution_count": 23,
     "metadata": {},
     "output_type": "execute_result"
    }
   ],
   "source": [
    "scored_train"
   ]
  },
  {
   "cell_type": "code",
   "execution_count": 20,
   "metadata": {},
   "outputs": [
    {
     "data": {
      "text/html": [
       "<div>\n",
       "<style scoped>\n",
       "    .dataframe tbody tr th:only-of-type {\n",
       "        vertical-align: middle;\n",
       "    }\n",
       "\n",
       "    .dataframe tbody tr th {\n",
       "        vertical-align: top;\n",
       "    }\n",
       "\n",
       "    .dataframe thead th {\n",
       "        text-align: right;\n",
       "    }\n",
       "</style>\n",
       "<table border=\"1\" class=\"dataframe\">\n",
       "  <thead>\n",
       "    <tr style=\"text-align: right;\">\n",
       "      <th></th>\n",
       "      <th>Loss_mae</th>\n",
       "      <th>Threshold</th>\n",
       "      <th>Anomaly</th>\n",
       "    </tr>\n",
       "  </thead>\n",
       "  <tbody>\n",
       "    <tr>\n",
       "      <th>2234</th>\n",
       "      <td>0.006427</td>\n",
       "      <td>0.006</td>\n",
       "      <td>True</td>\n",
       "    </tr>\n",
       "    <tr>\n",
       "      <th>2235</th>\n",
       "      <td>0.006676</td>\n",
       "      <td>0.006</td>\n",
       "      <td>True</td>\n",
       "    </tr>\n",
       "    <tr>\n",
       "      <th>3023</th>\n",
       "      <td>0.006634</td>\n",
       "      <td>0.006</td>\n",
       "      <td>True</td>\n",
       "    </tr>\n",
       "    <tr>\n",
       "      <th>3845</th>\n",
       "      <td>0.006409</td>\n",
       "      <td>0.006</td>\n",
       "      <td>True</td>\n",
       "    </tr>\n",
       "    <tr>\n",
       "      <th>3846</th>\n",
       "      <td>0.006240</td>\n",
       "      <td>0.006</td>\n",
       "      <td>True</td>\n",
       "    </tr>\n",
       "    <tr>\n",
       "      <th>...</th>\n",
       "      <td>...</td>\n",
       "      <td>...</td>\n",
       "      <td>...</td>\n",
       "    </tr>\n",
       "    <tr>\n",
       "      <th>193168</th>\n",
       "      <td>0.007417</td>\n",
       "      <td>0.006</td>\n",
       "      <td>True</td>\n",
       "    </tr>\n",
       "    <tr>\n",
       "      <th>193179</th>\n",
       "      <td>0.006437</td>\n",
       "      <td>0.006</td>\n",
       "      <td>True</td>\n",
       "    </tr>\n",
       "    <tr>\n",
       "      <th>193778</th>\n",
       "      <td>0.006560</td>\n",
       "      <td>0.006</td>\n",
       "      <td>True</td>\n",
       "    </tr>\n",
       "    <tr>\n",
       "      <th>193787</th>\n",
       "      <td>0.006068</td>\n",
       "      <td>0.006</td>\n",
       "      <td>True</td>\n",
       "    </tr>\n",
       "    <tr>\n",
       "      <th>193789</th>\n",
       "      <td>0.007364</td>\n",
       "      <td>0.006</td>\n",
       "      <td>True</td>\n",
       "    </tr>\n",
       "  </tbody>\n",
       "</table>\n",
       "<p>354 rows × 3 columns</p>\n",
       "</div>"
      ],
      "text/plain": [
       "        Loss_mae  Threshold  Anomaly\n",
       "2234    0.006427      0.006     True\n",
       "2235    0.006676      0.006     True\n",
       "3023    0.006634      0.006     True\n",
       "3845    0.006409      0.006     True\n",
       "3846    0.006240      0.006     True\n",
       "...          ...        ...      ...\n",
       "193168  0.007417      0.006     True\n",
       "193179  0.006437      0.006     True\n",
       "193778  0.006560      0.006     True\n",
       "193787  0.006068      0.006     True\n",
       "193789  0.007364      0.006     True\n",
       "\n",
       "[354 rows x 3 columns]"
      ]
     },
     "execution_count": 20,
     "metadata": {},
     "output_type": "execute_result"
    }
   ],
   "source": [
    "scored_train[scored_train['Anomaly'] == True]"
   ]
  },
  {
   "cell_type": "code",
   "execution_count": null,
   "metadata": {},
   "outputs": [],
   "source": []
  }
 ],
 "metadata": {
  "kernelspec": {
   "display_name": "Python 3",
   "language": "python",
   "name": "python3"
  },
  "language_info": {
   "codemirror_mode": {
    "name": "ipython",
    "version": 3
   },
   "file_extension": ".py",
   "mimetype": "text/x-python",
   "name": "python",
   "nbconvert_exporter": "python",
   "pygments_lexer": "ipython3",
   "version": "3.7.4"
  }
 },
 "nbformat": 4,
 "nbformat_minor": 4
}
