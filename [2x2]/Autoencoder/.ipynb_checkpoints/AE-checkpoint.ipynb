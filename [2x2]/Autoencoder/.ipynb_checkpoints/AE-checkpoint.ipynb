{
 "cells": [
  {
   "cell_type": "code",
   "execution_count": 1,
   "metadata": {},
   "outputs": [],
   "source": [
    "#importing packages\n",
    "import pandas as pd\n",
    "import numpy as np"
   ]
  },
  {
   "cell_type": "code",
   "execution_count": 2,
   "metadata": {},
   "outputs": [],
   "source": [
    "Dtrain = pd.read_csv(\"TrainingSet (IR - 7).csv\")\n",
    "#Dtrain = Dtrain.iloc[:,0:4].values\n",
    "Dtest = pd.read_csv(\"TestingSet (IR - 7).csv\")"
   ]
  },
  {
   "cell_type": "code",
   "execution_count": 3,
   "metadata": {},
   "outputs": [
    {
     "data": {
      "text/plain": [
       "Outer Race (0.007\")    19200\n",
       "Normal                 19200\n",
       "Inner Race (0.007\")    19200\n",
       "Name: Bearing, dtype: int64"
      ]
     },
     "execution_count": 3,
     "metadata": {},
     "output_type": "execute_result"
    }
   ],
   "source": [
    "Dtrain[\"Bearing\"].value_counts()"
   ]
  },
  {
   "cell_type": "code",
   "execution_count": 4,
   "metadata": {},
   "outputs": [
    {
     "data": {
      "text/plain": [
       "Outer Race (0.007\")    33.333333\n",
       "Normal                 33.333333\n",
       "Inner Race (0.007\")    33.333333\n",
       "Name: Bearing, dtype: float64"
      ]
     },
     "execution_count": 4,
     "metadata": {},
     "output_type": "execute_result"
    }
   ],
   "source": [
    "Dtrain[\"Bearing\"].value_counts(normalize=True)*100"
   ]
  },
  {
   "cell_type": "code",
   "execution_count": 5,
   "metadata": {},
   "outputs": [
    {
     "data": {
      "text/plain": [
       "Index(['Bearing', 'Fault Diameter', 'DE', 'FE'], dtype='object')"
      ]
     },
     "execution_count": 5,
     "metadata": {},
     "output_type": "execute_result"
    }
   ],
   "source": [
    "Dtest.columns"
   ]
  },
  {
   "cell_type": "code",
   "execution_count": 6,
   "metadata": {},
   "outputs": [],
   "source": [
    "from sklearn.preprocessing import LabelEncoder, OneHotEncoder\n",
    "from sklearn.compose import ColumnTransformer\n",
    "labelencoder_train = LabelEncoder()\n",
    "Dtrain[\"Bearing\"] = labelencoder_train.fit_transform(Dtrain[\"Bearing\"])\n",
    "ct = ColumnTransformer([(\"Bearing\", OneHotEncoder(), [0])],    remainder = 'passthrough')\n",
    "Dtrain = ct.fit_transform(Dtrain)"
   ]
  },
  {
   "cell_type": "code",
   "execution_count": 7,
   "metadata": {},
   "outputs": [],
   "source": [
    "from sklearn.preprocessing import LabelEncoder, OneHotEncoder\n",
    "from sklearn.compose import ColumnTransformer\n",
    "labelencoder_train = LabelEncoder()\n",
    "Dtest[\"Bearing\"] = labelencoder_train.fit_transform(Dtest[\"Bearing\"])\n",
    "ct = ColumnTransformer([(\"Bearing\", OneHotEncoder(), [0])],    remainder = 'passthrough')\n",
    "Dtest = ct.fit_transform(Dtest)"
   ]
  },
  {
   "cell_type": "code",
   "execution_count": 8,
   "metadata": {},
   "outputs": [],
   "source": [
    "from sklearn.preprocessing import MinMaxScaler\n",
    "scaler = MinMaxScaler()\n",
    "X_train = pd.DataFrame(scaler.fit_transform(Dtrain))\n",
    "# Random shuffle training data\n",
    "X_train.sample(frac=1)\n",
    "\n",
    "X_test = pd.DataFrame(scaler.transform(Dtest))\n",
    "\n"
   ]
  },
  {
   "cell_type": "code",
   "execution_count": 9,
   "metadata": {},
   "outputs": [
    {
     "name": "stderr",
     "output_type": "stream",
     "text": [
      "Using TensorFlow backend.\n"
     ]
    }
   ],
   "source": [
    "from keras.layers import Input, Dropout\n",
    "from keras.layers.core import Dense \n",
    "from keras.models import Model, Sequential, load_model\n",
    "from keras import regularizers"
   ]
  },
  {
   "cell_type": "code",
   "execution_count": 10,
   "metadata": {},
   "outputs": [],
   "source": [
    "import tensorflow as tf\n",
    "from numpy.random import seed\n",
    "seed(10)\n",
    "tf.random.set_seed(10)\n",
    "act_func = 'elu'"
   ]
  },
  {
   "cell_type": "code",
   "execution_count": 11,
   "metadata": {},
   "outputs": [],
   "source": [
    "# Input layer:\n",
    "model=Sequential()\n",
    "# First hidden layer, connected to input vector X. \n",
    "model.add(Dense(6,activation=act_func,\n",
    "                kernel_initializer='glorot_uniform',\n",
    "                kernel_regularizer=regularizers.l2(0.0),\n",
    "                input_shape=(X_train.shape[1],)\n",
    "               )\n",
    "         )\n",
    "\n",
    "model.add(Dense(2,activation=act_func,\n",
    "                kernel_initializer='glorot_uniform'))\n",
    "\n",
    "model.add(Dense(6,activation=act_func,\n",
    "                kernel_initializer='glorot_uniform'))\n",
    "\n",
    "model.add(Dense(X_train.shape[1],\n",
    "                kernel_initializer='glorot_uniform'))\n",
    "\n",
    "model.compile(loss='mse',optimizer='adam', metrics=['accuracy'] )\n",
    "\n",
    "# Train model for 100 epochs, batch size of 10: \n",
    "NUM_EPOCHS=100\n",
    "BATCH_SIZE=100"
   ]
  },
  {
   "cell_type": "code",
   "execution_count": 12,
   "metadata": {},
   "outputs": [
    {
     "name": "stdout",
     "output_type": "stream",
     "text": [
      "Train on 54720 samples, validate on 2880 samples\n",
      "Epoch 1/100\n",
      "54720/54720 [==============================] - 1s 13us/step - loss: 0.0853 - accuracy: 0.5926 - val_loss: 0.0050 - val_accuracy: 0.5236\n",
      "Epoch 2/100\n",
      "54720/54720 [==============================] - 1s 12us/step - loss: 0.0033 - accuracy: 0.5989 - val_loss: 0.0042 - val_accuracy: 0.1979\n",
      "Epoch 3/100\n",
      "54720/54720 [==============================] - 1s 11us/step - loss: 0.0029 - accuracy: 0.5850 - val_loss: 0.0039 - val_accuracy: 0.2858\n",
      "Epoch 4/100\n",
      "54720/54720 [==============================] - 1s 10us/step - loss: 0.0026 - accuracy: 0.6061 - val_loss: 0.0037 - val_accuracy: 0.2219\n",
      "Epoch 5/100\n",
      "54720/54720 [==============================] - 1s 10us/step - loss: 0.0024 - accuracy: 0.6378 - val_loss: 0.0036 - val_accuracy: 0.4292\n",
      "Epoch 6/100\n",
      "54720/54720 [==============================] - 1s 10us/step - loss: 0.0023 - accuracy: 0.6704 - val_loss: 0.0035 - val_accuracy: 0.5556\n",
      "Epoch 7/100\n",
      "54720/54720 [==============================] - 1s 10us/step - loss: 0.0021 - accuracy: 0.6865 - val_loss: 0.0033 - val_accuracy: 0.4503\n",
      "Epoch 8/100\n",
      "54720/54720 [==============================] - 1s 10us/step - loss: 0.0020 - accuracy: 0.6938 - val_loss: 0.0030 - val_accuracy: 0.7594\n",
      "Epoch 9/100\n",
      "54720/54720 [==============================] - 1s 10us/step - loss: 0.0017 - accuracy: 0.6912 - val_loss: 0.0026 - val_accuracy: 0.5222\n",
      "Epoch 10/100\n",
      "54720/54720 [==============================] - 1s 10us/step - loss: 0.0014 - accuracy: 0.6791 - val_loss: 0.0021 - val_accuracy: 0.4646\n",
      "Epoch 11/100\n",
      "54720/54720 [==============================] - 1s 10us/step - loss: 0.0011 - accuracy: 0.6753 - val_loss: 0.0017 - val_accuracy: 0.4833\n",
      "Epoch 12/100\n",
      "54720/54720 [==============================] - 1s 10us/step - loss: 8.0794e-04 - accuracy: 0.6738 - val_loss: 0.0013 - val_accuracy: 0.5021\n",
      "Epoch 13/100\n",
      "54720/54720 [==============================] - 1s 10us/step - loss: 6.0238e-04 - accuracy: 0.6755 - val_loss: 0.0011 - val_accuracy: 0.5493\n",
      "Epoch 14/100\n",
      "54720/54720 [==============================] - ETA: 0s - loss: 4.6700e-04 - accuracy: 0.67 - 1s 10us/step - loss: 4.6678e-04 - accuracy: 0.6793 - val_loss: 7.8184e-04 - val_accuracy: 0.5819\n",
      "Epoch 15/100\n",
      "54720/54720 [==============================] - 1s 10us/step - loss: 3.4463e-04 - accuracy: 0.6781 - val_loss: 4.7735e-04 - val_accuracy: 0.5229\n",
      "Epoch 16/100\n",
      "54720/54720 [==============================] - 1s 10us/step - loss: 2.3979e-04 - accuracy: 0.6756 - val_loss: 2.7412e-04 - val_accuracy: 0.5396\n",
      "Epoch 17/100\n",
      "54720/54720 [==============================] - 1s 10us/step - loss: 1.6933e-04 - accuracy: 0.6762 - val_loss: 1.5803e-04 - val_accuracy: 0.5063\n",
      "Epoch 18/100\n",
      "54720/54720 [==============================] - 1s 10us/step - loss: 1.2692e-04 - accuracy: 0.6810 - val_loss: 9.8728e-05 - val_accuracy: 0.4708\n",
      "Epoch 19/100\n",
      "54720/54720 [==============================] - 1s 10us/step - loss: 1.0157e-04 - accuracy: 0.6841 - val_loss: 7.3438e-05 - val_accuracy: 0.4653\n",
      "Epoch 20/100\n",
      "54720/54720 [==============================] - 1s 10us/step - loss: 8.6308e-05 - accuracy: 0.6778 - val_loss: 5.7659e-05 - val_accuracy: 0.4153\n",
      "Epoch 21/100\n",
      "54720/54720 [==============================] - 1s 9us/step - loss: 7.5779e-05 - accuracy: 0.6734 - val_loss: 4.9351e-05 - val_accuracy: 0.5747\n",
      "Epoch 22/100\n",
      "54720/54720 [==============================] - 1s 10us/step - loss: 6.8165e-05 - accuracy: 0.6714 - val_loss: 4.3928e-05 - val_accuracy: 0.6076\n",
      "Epoch 23/100\n",
      "54720/54720 [==============================] - 1s 9us/step - loss: 6.1638e-05 - accuracy: 0.6709 - val_loss: 4.1221e-05 - val_accuracy: 0.3552\n",
      "Epoch 24/100\n",
      "54720/54720 [==============================] - 1s 9us/step - loss: 5.6282e-05 - accuracy: 0.6685 - val_loss: 3.6822e-05 - val_accuracy: 0.3944\n",
      "Epoch 25/100\n",
      "54720/54720 [==============================] - 1s 9us/step - loss: 5.1157e-05 - accuracy: 0.6696 - val_loss: 3.5076e-05 - val_accuracy: 0.4253\n",
      "Epoch 26/100\n",
      "54720/54720 [==============================] - 1s 10us/step - loss: 4.6810e-05 - accuracy: 0.6679 - val_loss: 3.2595e-05 - val_accuracy: 0.4993\n",
      "Epoch 27/100\n",
      "54720/54720 [==============================] - 1s 10us/step - loss: 4.3384e-05 - accuracy: 0.6684 - val_loss: 3.1796e-05 - val_accuracy: 0.4073\n",
      "Epoch 28/100\n",
      "54720/54720 [==============================] - 1s 10us/step - loss: 4.0320e-05 - accuracy: 0.6677 - val_loss: 2.9260e-05 - val_accuracy: 0.5306\n",
      "Epoch 29/100\n",
      "54720/54720 [==============================] - 1s 9us/step - loss: 3.7491e-05 - accuracy: 0.6683 - val_loss: 2.7741e-05 - val_accuracy: 0.4681\n",
      "Epoch 30/100\n",
      "54720/54720 [==============================] - 1s 9us/step - loss: 3.4614e-05 - accuracy: 0.6676 - val_loss: 2.6662e-05 - val_accuracy: 0.4062\n",
      "Epoch 31/100\n",
      "54720/54720 [==============================] - 1s 9us/step - loss: 3.2672e-05 - accuracy: 0.6691 - val_loss: 2.7569e-05 - val_accuracy: 0.4062\n",
      "Epoch 32/100\n",
      "54720/54720 [==============================] - 1s 9us/step - loss: 3.0663e-05 - accuracy: 0.6679 - val_loss: 2.2916e-05 - val_accuracy: 0.4128\n",
      "Epoch 33/100\n",
      "54720/54720 [==============================] - 1s 9us/step - loss: 2.8977e-05 - accuracy: 0.6682 - val_loss: 2.5571e-05 - val_accuracy: 0.4708\n",
      "Epoch 34/100\n",
      "54720/54720 [==============================] - 1s 10us/step - loss: 2.7324e-05 - accuracy: 0.6665 - val_loss: 2.1184e-05 - val_accuracy: 0.4983\n",
      "Epoch 35/100\n",
      "54720/54720 [==============================] - 1s 10us/step - loss: 2.6408e-05 - accuracy: 0.6666 - val_loss: 1.9536e-05 - val_accuracy: 0.4066\n",
      "Epoch 36/100\n",
      "54720/54720 [==============================] - 1s 10us/step - loss: 2.5046e-05 - accuracy: 0.6662 - val_loss: 1.8844e-05 - val_accuracy: 0.4490\n",
      "Epoch 37/100\n",
      "54720/54720 [==============================] - 1s 10us/step - loss: 2.3875e-05 - accuracy: 0.6645 - val_loss: 2.1733e-05 - val_accuracy: 0.3212\n",
      "Epoch 38/100\n",
      "54720/54720 [==============================] - 1s 9us/step - loss: 2.2441e-05 - accuracy: 0.6663 - val_loss: 1.6708e-05 - val_accuracy: 0.4719\n",
      "Epoch 39/100\n",
      "54720/54720 [==============================] - 1s 9us/step - loss: 2.1764e-05 - accuracy: 0.6676 - val_loss: 1.9466e-05 - val_accuracy: 0.3806\n",
      "Epoch 40/100\n",
      "54720/54720 [==============================] - 1s 9us/step - loss: 2.1098e-05 - accuracy: 0.6658 - val_loss: 2.0447e-05 - val_accuracy: 0.4399\n",
      "Epoch 41/100\n",
      "54720/54720 [==============================] - 1s 10us/step - loss: 2.0038e-05 - accuracy: 0.6679 - val_loss: 2.0241e-05 - val_accuracy: 0.6691\n",
      "Epoch 42/100\n",
      "54720/54720 [==============================] - 1s 9us/step - loss: 1.9251e-05 - accuracy: 0.6649 - val_loss: 1.7800e-05 - val_accuracy: 0.2590\n",
      "Epoch 43/100\n",
      "54720/54720 [==============================] - 1s 10us/step - loss: 1.8727e-05 - accuracy: 0.6659 - val_loss: 1.3841e-05 - val_accuracy: 0.4920\n",
      "Epoch 44/100\n",
      "54720/54720 [==============================] - 1s 9us/step - loss: 1.7918e-05 - accuracy: 0.6658 - val_loss: 1.4875e-05 - val_accuracy: 0.3837\n",
      "Epoch 45/100\n",
      "54720/54720 [==============================] - 1s 9us/step - loss: 1.7344e-05 - accuracy: 0.6659 - val_loss: 1.3397e-05 - val_accuracy: 0.4410\n",
      "Epoch 46/100\n",
      "54720/54720 [==============================] - 1s 9us/step - loss: 1.6633e-05 - accuracy: 0.6655 - val_loss: 2.2819e-05 - val_accuracy: 0.4767\n",
      "Epoch 47/100\n",
      "54720/54720 [==============================] - 1s 9us/step - loss: 1.5850e-05 - accuracy: 0.6663 - val_loss: 1.4819e-05 - val_accuracy: 0.3674\n",
      "Epoch 48/100\n",
      "54720/54720 [==============================] - 1s 9us/step - loss: 1.5606e-05 - accuracy: 0.6652 - val_loss: 1.1519e-05 - val_accuracy: 0.3601\n",
      "Epoch 49/100\n",
      "54720/54720 [==============================] - 1s 10us/step - loss: 1.4912e-05 - accuracy: 0.6664 - val_loss: 1.1509e-05 - val_accuracy: 0.4076\n",
      "Epoch 50/100\n",
      "54720/54720 [==============================] - 1s 9us/step - loss: 1.4505e-05 - accuracy: 0.6658 - val_loss: 1.2238e-05 - val_accuracy: 0.2590\n",
      "Epoch 51/100\n",
      "54720/54720 [==============================] - 1s 9us/step - loss: 1.3971e-05 - accuracy: 0.6672 - val_loss: 1.0717e-05 - val_accuracy: 0.5146\n",
      "Epoch 52/100\n",
      "54720/54720 [==============================] - 1s 9us/step - loss: 1.3714e-05 - accuracy: 0.6657 - val_loss: 1.0281e-05 - val_accuracy: 0.2726\n",
      "Epoch 53/100\n",
      "54720/54720 [==============================] - 1s 11us/step - loss: 1.2964e-05 - accuracy: 0.6650 - val_loss: 1.1013e-05 - val_accuracy: 0.5469\n",
      "Epoch 54/100\n",
      "54720/54720 [==============================] - 1s 10us/step - loss: 1.2614e-05 - accuracy: 0.6654 - val_loss: 9.9186e-06 - val_accuracy: 0.4344\n",
      "Epoch 55/100\n",
      "54720/54720 [==============================] - 1s 10us/step - loss: 1.2366e-05 - accuracy: 0.6640 - val_loss: 8.9249e-06 - val_accuracy: 0.4799\n",
      "Epoch 56/100\n",
      "54720/54720 [==============================] - 1s 10us/step - loss: 1.1897e-05 - accuracy: 0.6648 - val_loss: 9.3834e-06 - val_accuracy: 0.2882\n",
      "Epoch 57/100\n",
      "54720/54720 [==============================] - 1s 10us/step - loss: 1.1587e-05 - accuracy: 0.6639 - val_loss: 8.3559e-06 - val_accuracy: 0.5615\n",
      "Epoch 58/100\n",
      "54720/54720 [==============================] - 1s 12us/step - loss: 1.1168e-05 - accuracy: 0.6628 - val_loss: 8.2933e-06 - val_accuracy: 0.3431\n",
      "Epoch 59/100\n",
      "54720/54720 [==============================] - 1s 10us/step - loss: 1.0787e-05 - accuracy: 0.6647 - val_loss: 1.0341e-05 - val_accuracy: 0.6024\n",
      "Epoch 60/100\n",
      "54720/54720 [==============================] - 1s 10us/step - loss: 1.0476e-05 - accuracy: 0.6654 - val_loss: 7.8990e-06 - val_accuracy: 0.2861\n",
      "Epoch 61/100\n",
      "54720/54720 [==============================] - 1s 9us/step - loss: 1.0097e-05 - accuracy: 0.6638 - val_loss: 7.2204e-06 - val_accuracy: 0.5080\n",
      "Epoch 62/100\n",
      "54720/54720 [==============================] - 1s 9us/step - loss: 1.0131e-05 - accuracy: 0.6653 - val_loss: 7.2955e-06 - val_accuracy: 0.4094\n",
      "Epoch 63/100\n",
      "54720/54720 [==============================] - 1s 10us/step - loss: 9.3900e-06 - accuracy: 0.6649 - val_loss: 7.0568e-06 - val_accuracy: 0.3622\n",
      "Epoch 64/100\n",
      "54720/54720 [==============================] - 1s 10us/step - loss: 9.2476e-06 - accuracy: 0.6651 - val_loss: 7.6413e-06 - val_accuracy: 0.4542\n",
      "Epoch 65/100\n",
      "54720/54720 [==============================] - 1s 11us/step - loss: 8.8918e-06 - accuracy: 0.6652 - val_loss: 6.6084e-06 - val_accuracy: 0.2274\n",
      "Epoch 66/100\n",
      "54720/54720 [==============================] - 1s 9us/step - loss: 8.7832e-06 - accuracy: 0.6651 - val_loss: 6.8445e-06 - val_accuracy: 0.3340\n",
      "Epoch 67/100\n",
      "54720/54720 [==============================] - 1s 10us/step - loss: 8.5245e-06 - accuracy: 0.6657 - val_loss: 7.0808e-06 - val_accuracy: 0.4715\n",
      "Epoch 68/100\n",
      "54720/54720 [==============================] - 1s 9us/step - loss: 8.1332e-06 - accuracy: 0.6655 - val_loss: 5.9034e-06 - val_accuracy: 0.5135\n",
      "Epoch 69/100\n",
      "54720/54720 [==============================] - 1s 10us/step - loss: 7.8561e-06 - accuracy: 0.6647 - val_loss: 6.0631e-06 - val_accuracy: 0.2267\n",
      "Epoch 70/100\n",
      "54720/54720 [==============================] - 1s 9us/step - loss: 7.8503e-06 - accuracy: 0.6671 - val_loss: 5.6688e-06 - val_accuracy: 0.3962\n",
      "Epoch 71/100\n",
      "54720/54720 [==============================] - 1s 10us/step - loss: 7.3762e-06 - accuracy: 0.6669 - val_loss: 6.1412e-06 - val_accuracy: 0.8403\n",
      "Epoch 72/100\n",
      "54720/54720 [==============================] - 1s 9us/step - loss: 7.2525e-06 - accuracy: 0.6656 - val_loss: 5.1645e-06 - val_accuracy: 0.3479\n",
      "Epoch 73/100\n",
      "54720/54720 [==============================] - 1s 9us/step - loss: 6.6561e-06 - accuracy: 0.6658 - val_loss: 5.0651e-06 - val_accuracy: 0.2701\n",
      "Epoch 74/100\n",
      "54720/54720 [==============================] - 1s 9us/step - loss: 7.1888e-06 - accuracy: 0.6658 - val_loss: 5.3884e-06 - val_accuracy: 0.5653\n",
      "Epoch 75/100\n",
      "54720/54720 [==============================] - 1s 9us/step - loss: 6.2559e-06 - accuracy: 0.6662 - val_loss: 5.4721e-06 - val_accuracy: 0.3566\n",
      "Epoch 76/100\n",
      "54720/54720 [==============================] - 1s 10us/step - loss: 6.3391e-06 - accuracy: 0.6653 - val_loss: 5.4723e-06 - val_accuracy: 0.3354\n",
      "Epoch 77/100\n",
      "54720/54720 [==============================] - 1s 10us/step - loss: 6.1096e-06 - accuracy: 0.6656 - val_loss: 4.4580e-06 - val_accuracy: 0.6247\n",
      "Epoch 78/100\n",
      "54720/54720 [==============================] - 1s 9us/step - loss: 6.0350e-06 - accuracy: 0.6658 - val_loss: 4.8755e-06 - val_accuracy: 0.7389\n",
      "Epoch 79/100\n",
      "54720/54720 [==============================] - 1s 10us/step - loss: 5.5831e-06 - accuracy: 0.6665 - val_loss: 5.8496e-06 - val_accuracy: 0.1965\n",
      "Epoch 80/100\n",
      "54720/54720 [==============================] - 1s 9us/step - loss: 5.4278e-06 - accuracy: 0.6677 - val_loss: 4.9839e-06 - val_accuracy: 0.8003\n",
      "Epoch 81/100\n",
      "54720/54720 [==============================] - 1s 9us/step - loss: 5.5448e-06 - accuracy: 0.6661 - val_loss: 4.4445e-06 - val_accuracy: 0.5396\n",
      "Epoch 82/100\n",
      "54720/54720 [==============================] - 1s 9us/step - loss: 5.1737e-06 - accuracy: 0.6665 - val_loss: 4.3222e-06 - val_accuracy: 0.4872\n",
      "Epoch 83/100\n",
      "54720/54720 [==============================] - 1s 10us/step - loss: 4.8497e-06 - accuracy: 0.6675 - val_loss: 3.8225e-06 - val_accuracy: 0.7691\n",
      "Epoch 84/100\n",
      "54720/54720 [==============================] - 1s 10us/step - loss: 4.9788e-06 - accuracy: 0.6647 - val_loss: 4.6701e-06 - val_accuracy: 0.7181\n",
      "Epoch 85/100\n",
      "54720/54720 [==============================] - 1s 10us/step - loss: 4.8320e-06 - accuracy: 0.6655 - val_loss: 6.3287e-06 - val_accuracy: 0.3681\n",
      "Epoch 86/100\n",
      "54720/54720 [==============================] - 1s 10us/step - loss: 4.8384e-06 - accuracy: 0.6669 - val_loss: 4.5682e-06 - val_accuracy: 0.8073\n",
      "Epoch 87/100\n",
      "54720/54720 [==============================] - 1s 10us/step - loss: 4.6656e-06 - accuracy: 0.6656 - val_loss: 6.3862e-06 - val_accuracy: 0.5510\n",
      "Epoch 88/100\n",
      "54720/54720 [==============================] - 1s 10us/step - loss: 4.3810e-06 - accuracy: 0.6648 - val_loss: 3.3248e-06 - val_accuracy: 0.4219\n",
      "Epoch 89/100\n",
      "54720/54720 [==============================] - 1s 10us/step - loss: 4.4790e-06 - accuracy: 0.6661 - val_loss: 4.0034e-06 - val_accuracy: 0.1743\n",
      "Epoch 90/100\n",
      "54720/54720 [==============================] - 1s 10us/step - loss: 4.0103e-06 - accuracy: 0.6658 - val_loss: 4.7969e-06 - val_accuracy: 0.7337\n",
      "Epoch 91/100\n",
      "54720/54720 [==============================] - 1s 10us/step - loss: 3.9847e-06 - accuracy: 0.6659 - val_loss: 3.1052e-06 - val_accuracy: 0.4743\n",
      "Epoch 92/100\n",
      "54720/54720 [==============================] - 1s 10us/step - loss: 4.0684e-06 - accuracy: 0.6673 - val_loss: 3.5359e-06 - val_accuracy: 0.6698\n",
      "Epoch 93/100\n",
      "54720/54720 [==============================] - 1s 10us/step - loss: 3.9023e-06 - accuracy: 0.6630 - val_loss: 3.1169e-06 - val_accuracy: 0.3965\n",
      "Epoch 94/100\n",
      "54720/54720 [==============================] - 1s 9us/step - loss: 3.7184e-06 - accuracy: 0.6645 - val_loss: 3.1526e-06 - val_accuracy: 0.9003\n",
      "Epoch 95/100\n",
      "54720/54720 [==============================] - 1s 10us/step - loss: 4.1157e-06 - accuracy: 0.6645 - val_loss: 3.0073e-06 - val_accuracy: 0.8021\n",
      "Epoch 96/100\n",
      "54720/54720 [==============================] - 1s 9us/step - loss: 3.9950e-06 - accuracy: 0.6642 - val_loss: 7.5281e-06 - val_accuracy: 0.3889\n",
      "Epoch 97/100\n",
      "54720/54720 [==============================] - 1s 10us/step - loss: 3.3139e-06 - accuracy: 0.6632 - val_loss: 3.4083e-06 - val_accuracy: 0.7694\n",
      "Epoch 98/100\n",
      "54720/54720 [==============================] - 1s 10us/step - loss: 3.5123e-06 - accuracy: 0.6645 - val_loss: 3.0437e-06 - val_accuracy: 0.1931\n",
      "Epoch 99/100\n",
      "54720/54720 [==============================] - 1s 11us/step - loss: 3.6609e-06 - accuracy: 0.6604 - val_loss: 3.1691e-06 - val_accuracy: 0.7830\n",
      "Epoch 100/100\n",
      "54720/54720 [==============================] - 1s 11us/step - loss: 3.4052e-06 - accuracy: 0.6647 - val_loss: 2.9633e-06 - val_accuracy: 0.8788\n"
     ]
    }
   ],
   "source": [
    "history=model.fit(np.array(X_train),np.array(X_train),\n",
    "                  batch_size=BATCH_SIZE, \n",
    "                  epochs=NUM_EPOCHS,\n",
    "                  validation_split=0.05,\n",
    "                  verbose = 1)"
   ]
  },
  {
   "cell_type": "code",
   "execution_count": 13,
   "metadata": {},
   "outputs": [
    {
     "data": {
      "image/png": "[encoded data removed]",
      "text/plain": [
       "<Figure size 432x288 with 1 Axes>"
      ]
     },
     "metadata": {
      "needs_background": "light"
     },
     "output_type": "display_data"
    }
   ],
   "source": [
    "import matplotlib.pyplot as plt\n",
    "\n",
    "plt.plot(history.history['loss'], 'b', label='Training loss')\n",
    "plt.plot(history.history['val_loss'], 'r', label='Validation loss')\n",
    "plt.legend(loc='upper right')\n",
    "plt.xlabel('Epochs')\n",
    "plt.ylabel('Loss, [mse]')\n",
    "plt.ylim([0,.05])\n",
    "plt.show()"
   ]
  },
  {
   "cell_type": "code",
   "execution_count": 14,
   "metadata": {},
   "outputs": [
    {
     "data": {
      "image/png": "[encoded data removed]",
      "text/plain": [
       "<Figure size 432x288 with 1 Axes>"
      ]
     },
     "metadata": {
      "needs_background": "light"
     },
     "output_type": "display_data"
    }
   ],
   "source": [
    "X_pred = model.predict(np.array(X_train))\n",
    "\n",
    "import seaborn as sns\n",
    "\n",
    "scored = np.mean(np.abs(X_pred-X_train), axis = 1)\n",
    "plt.figure()\n",
    "sns.distplot(scored, bins = 10, kde= True, color = 'blue');\n",
    "plt.xlim([0.0,.02])\n",
    "plt.show()"
   ]
  },
  {
   "cell_type": "code",
   "execution_count": 15,
   "metadata": {},
   "outputs": [
    {
     "data": {
      "text/html": [
       "<div>\n",
       "<style scoped>\n",
       "    .dataframe tbody tr th:only-of-type {\n",
       "        vertical-align: middle;\n",
       "    }\n",
       "\n",
       "    .dataframe tbody tr th {\n",
       "        vertical-align: top;\n",
       "    }\n",
       "\n",
       "    .dataframe thead th {\n",
       "        text-align: right;\n",
       "    }\n",
       "</style>\n",
       "<table border=\"1\" class=\"dataframe\">\n",
       "  <thead>\n",
       "    <tr style=\"text-align: right;\">\n",
       "      <th></th>\n",
       "      <th>Loss_mae</th>\n",
       "      <th>Threshold</th>\n",
       "      <th>Anomaly</th>\n",
       "    </tr>\n",
       "  </thead>\n",
       "  <tbody>\n",
       "    <tr>\n",
       "      <th>7522</th>\n",
       "      <td>0.000625</td>\n",
       "      <td>0.005</td>\n",
       "      <td>False</td>\n",
       "    </tr>\n",
       "    <tr>\n",
       "      <th>4648</th>\n",
       "      <td>0.000914</td>\n",
       "      <td>0.005</td>\n",
       "      <td>False</td>\n",
       "    </tr>\n",
       "    <tr>\n",
       "      <th>7014</th>\n",
       "      <td>0.001054</td>\n",
       "      <td>0.005</td>\n",
       "      <td>False</td>\n",
       "    </tr>\n",
       "    <tr>\n",
       "      <th>4567</th>\n",
       "      <td>0.001231</td>\n",
       "      <td>0.005</td>\n",
       "      <td>False</td>\n",
       "    </tr>\n",
       "    <tr>\n",
       "      <th>3972</th>\n",
       "      <td>0.001850</td>\n",
       "      <td>0.005</td>\n",
       "      <td>False</td>\n",
       "    </tr>\n",
       "    <tr>\n",
       "      <th>...</th>\n",
       "      <td>...</td>\n",
       "      <td>...</td>\n",
       "      <td>...</td>\n",
       "    </tr>\n",
       "    <tr>\n",
       "      <th>6040</th>\n",
       "      <td>0.000838</td>\n",
       "      <td>0.005</td>\n",
       "      <td>False</td>\n",
       "    </tr>\n",
       "    <tr>\n",
       "      <th>13122</th>\n",
       "      <td>0.000750</td>\n",
       "      <td>0.005</td>\n",
       "      <td>False</td>\n",
       "    </tr>\n",
       "    <tr>\n",
       "      <th>12486</th>\n",
       "      <td>0.000731</td>\n",
       "      <td>0.005</td>\n",
       "      <td>False</td>\n",
       "    </tr>\n",
       "    <tr>\n",
       "      <th>6924</th>\n",
       "      <td>0.000748</td>\n",
       "      <td>0.005</td>\n",
       "      <td>False</td>\n",
       "    </tr>\n",
       "    <tr>\n",
       "      <th>2558</th>\n",
       "      <td>0.001431</td>\n",
       "      <td>0.005</td>\n",
       "      <td>False</td>\n",
       "    </tr>\n",
       "  </tbody>\n",
       "</table>\n",
       "<p>100 rows × 3 columns</p>\n",
       "</div>"
      ],
      "text/plain": [
       "       Loss_mae  Threshold  Anomaly\n",
       "7522   0.000625      0.005    False\n",
       "4648   0.000914      0.005    False\n",
       "7014   0.001054      0.005    False\n",
       "4567   0.001231      0.005    False\n",
       "3972   0.001850      0.005    False\n",
       "...         ...        ...      ...\n",
       "6040   0.000838      0.005    False\n",
       "13122  0.000750      0.005    False\n",
       "12486  0.000731      0.005    False\n",
       "6924   0.000748      0.005    False\n",
       "2558   0.001431      0.005    False\n",
       "\n",
       "[100 rows x 3 columns]"
      ]
     },
     "execution_count": 15,
     "metadata": {},
     "output_type": "execute_result"
    }
   ],
   "source": [
    "X_pred = model.predict(np.array(X_test))\n",
    "\n",
    "scored = pd.DataFrame()\n",
    "scored['Loss_mae'] = np.mean(np.abs(X_pred-X_test), axis = 1)\n",
    "scored['Threshold'] = 0.005\n",
    "scored['Anomaly'] = scored['Loss_mae'] > scored['Threshold']\n",
    "scored.sample(100)"
   ]
  },
  {
   "cell_type": "code",
   "execution_count": 16,
   "metadata": {},
   "outputs": [],
   "source": [
    "X_pred_train = model.predict(np.array(X_train))\n",
    "X_pred_train = pd.DataFrame(X_pred_train)\n",
    "\n",
    "scored_train = pd.DataFrame()\n",
    "scored_train['Loss_mae'] = np.mean(np.abs(X_pred_train-X_train), axis = 1)\n",
    "scored_train['Threshold'] = 0.005\n",
    "scored_train['Anomaly'] = scored_train['Loss_mae'] > scored_train['Threshold']\n",
    "scored = pd.concat([scored_train, scored])"
   ]
  },
  {
   "cell_type": "code",
   "execution_count": 17,
   "metadata": {},
   "outputs": [
    {
     "data": {
      "text/plain": [
       "<matplotlib.axes._subplots.AxesSubplot at 0x23d7c69b2c8>"
      ]
     },
     "execution_count": 17,
     "metadata": {},
     "output_type": "execute_result"
    },
    {
     "data": {
      "image/png": "[encoded data removed]",
      "text/plain": [
       "<Figure size 720x432 with 1 Axes>"
      ]
     },
     "metadata": {
      "needs_background": "light"
     },
     "output_type": "display_data"
    }
   ],
   "source": [
    "scored.plot(logy=True,  figsize = (10,6), xlim =[0,1000], ylim = [1e-4,1e-1], color = ['blue','red'])"
   ]
  },
  {
   "cell_type": "code",
   "execution_count": null,
   "metadata": {},
   "outputs": [],
   "source": []
  }
 ],
 "metadata": {
  "kernelspec": {
   "display_name": "Python 3",
   "language": "python",
   "name": "python3"
  },
  "language_info": {
   "codemirror_mode": {
    "name": "ipython",
    "version": 3
   },
   "file_extension": ".py",
   "mimetype": "text/x-python",
   "name": "python",
   "nbconvert_exporter": "python",
   "pygments_lexer": "ipython3",
   "version": "3.7.4"
  }
 },
 "nbformat": 4,
 "nbformat_minor": 4
}
