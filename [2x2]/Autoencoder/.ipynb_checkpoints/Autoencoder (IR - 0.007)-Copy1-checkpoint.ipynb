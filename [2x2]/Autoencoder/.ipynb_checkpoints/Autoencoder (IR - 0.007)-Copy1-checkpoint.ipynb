{
 "cells": [
  {
   "cell_type": "code",
   "execution_count": 1,
   "metadata": {},
   "outputs": [],
   "source": [
    "#importing packages\n",
    "import pandas as pd\n",
    "import numpy as np"
   ]
  },
  {
   "cell_type": "code",
   "execution_count": 2,
   "metadata": {},
   "outputs": [],
   "source": [
    "Dtrain = pd.read_csv(\"TrainingSet (IR - 7).csv\")\n",
    "#Dtrain = Dtrain.iloc[:,0:4].values\n",
    "Dtest = pd.read_csv(\"TestingSet (IR - 7).csv\")"
   ]
  },
  {
   "cell_type": "code",
   "execution_count": 3,
   "metadata": {},
   "outputs": [
    {
     "name": "stdout",
     "output_type": "stream",
     "text": [
      "(193792, 4)\n",
      "(48448, 4)\n"
     ]
    }
   ],
   "source": [
    "print(Dtrain.shape)\n",
    "print(Dtest.shape)"
   ]
  },
  {
   "cell_type": "code",
   "execution_count": 4,
   "metadata": {},
   "outputs": [
    {
     "data": {
      "text/plain": [
       "Inner Race (0.007\")    96896\n",
       "Normal                 96896\n",
       "Name: Bearing, dtype: int64"
      ]
     },
     "execution_count": 4,
     "metadata": {},
     "output_type": "execute_result"
    }
   ],
   "source": [
    "Dtrain[\"Bearing\"].value_counts()"
   ]
  },
  {
   "cell_type": "code",
   "execution_count": 5,
   "metadata": {},
   "outputs": [
    {
     "data": {
      "text/plain": [
       "Inner Race (0.007\")    50.0\n",
       "Normal                 50.0\n",
       "Name: Bearing, dtype: float64"
      ]
     },
     "execution_count": 5,
     "metadata": {},
     "output_type": "execute_result"
    }
   ],
   "source": [
    "Dtrain[\"Bearing\"].value_counts(normalize=True)*100"
   ]
  },
  {
   "cell_type": "code",
   "execution_count": 6,
   "metadata": {},
   "outputs": [
    {
     "data": {
      "text/plain": [
       "Index(['Bearing', 'Fault Diameter', 'DE', 'FE'], dtype='object')"
      ]
     },
     "execution_count": 6,
     "metadata": {},
     "output_type": "execute_result"
    }
   ],
   "source": [
    "Dtest.columns"
   ]
  },
  {
   "cell_type": "code",
   "execution_count": 7,
   "metadata": {},
   "outputs": [],
   "source": [
    "from sklearn.preprocessing import LabelEncoder, OneHotEncoder\n",
    "from sklearn.compose import ColumnTransformer\n",
    "labelencoder_train = LabelEncoder()\n",
    "Dtrain[\"Bearing\"] = labelencoder_train.fit_transform(Dtrain[\"Bearing\"])\n",
    "#ct = ColumnTransformer([(\"Bearing\", OneHotEncoder(), [0])],    remainder = 'passthrough')\n",
    "#Dtrain = ct.fit_transform(Dtrain)"
   ]
  },
  {
   "cell_type": "code",
   "execution_count": 8,
   "metadata": {},
   "outputs": [],
   "source": [
    "from sklearn.preprocessing import LabelEncoder, OneHotEncoder\n",
    "from sklearn.compose import ColumnTransformer\n",
    "labelencoder_train = LabelEncoder()\n",
    "Dtest[\"Bearing\"] = labelencoder_train.fit_transform(Dtest[\"Bearing\"])\n",
    "#ct = ColumnTransformer([(\"Bearing\", OneHotEncoder(), [0])],    remainder = 'passthrough')\n",
    "#Dtest = ct.fit_transform(Dtest)"
   ]
  },
  {
   "cell_type": "code",
   "execution_count": 9,
   "metadata": {},
   "outputs": [],
   "source": [
    "from sklearn.preprocessing import MinMaxScaler\n",
    "scaler = MinMaxScaler()\n",
    "X_train = pd.DataFrame(scaler.fit_transform(Dtrain))\n",
    "# Random shuffle training data\n",
    "X_train.sample(frac=1)\n",
    "\n",
    "X_test = pd.DataFrame(scaler.transform(Dtest))"
   ]
  },
  {
   "cell_type": "code",
   "execution_count": 10,
   "metadata": {},
   "outputs": [],
   "source": [
    "from sklearn.model_selection import train_test_split\n",
    "\n",
    "inner_race = Dtrain[Dtrain.Bearing == 0]\n",
    "normal = Dtrain[Dtrain.Bearing == 1]\n",
    "\n",
    "\n",
    "# use 0.8 of the data for training and the rest for testing\n",
    "X_train, X_test = train_test_split(Dtrain, test_size=0.2)\n",
    "\n",
    "# Take only the normal (non-malicious) URLs as training data\n",
    "X_train = X_train[X_train.Bearing == 1]\n",
    "X_train = X_train.drop(['Bearing'], axis=1)\n",
    "\n",
    "\n",
    "y_test = X_test['Bearing']\n",
    "X_test = X_test.drop(['Bearing'], axis=1)\n",
    "X_train = X_train.values\n",
    "X_test = X_test.values"
   ]
  },
  {
   "cell_type": "code",
   "execution_count": 11,
   "metadata": {},
   "outputs": [
    {
     "name": "stderr",
     "output_type": "stream",
     "text": [
      "Using TensorFlow backend.\n"
     ]
    }
   ],
   "source": [
    "from keras.layers import Input, Dropout\n",
    "from keras.layers.core import Dense \n",
    "from keras.models import Model, Sequential, load_model\n",
    "from keras import regularizers"
   ]
  },
  {
   "cell_type": "code",
   "execution_count": 12,
   "metadata": {},
   "outputs": [],
   "source": [
    "import tensorflow as tf\n",
    "from numpy.random import seed\n",
    "seed(10)\n",
    "tf.random.set_seed(10)\n",
    "act_func = 'elu'"
   ]
  },
  {
   "cell_type": "code",
   "execution_count": 13,
   "metadata": {},
   "outputs": [],
   "source": [
    "# Input layer:\n",
    "model=Sequential()\n",
    "# First hidden layer, connected to input vector X. \n",
    "model.add(Dense(32, activation=act_func,\n",
    "                kernel_initializer='glorot_uniform',\n",
    "                kernel_regularizer=regularizers.l2(0.0),\n",
    "                input_shape=(X_train.shape[1],)\n",
    "               )\n",
    "         )\n",
    "\n",
    "model.add(Dense(2,activation=act_func,\n",
    "                kernel_initializer='glorot_uniform'))\n",
    "\n",
    "model.add(Dense(32,activation=act_func,\n",
    "                kernel_initializer='glorot_uniform'))\n",
    "\n",
    "model.add(Dense(X_train.shape[1],\n",
    "                kernel_initializer='glorot_uniform'))\n",
    "\n",
    "model.compile(loss='mse',optimizer='adam')\n",
    "\n",
    "# Train model for 100 epochs, batch size of 10: \n",
    "NUM_EPOCHS=100\n",
    "BATCH_SIZE=1000"
   ]
  },
  {
   "cell_type": "code",
   "execution_count": 14,
   "metadata": {},
   "outputs": [
    {
     "name": "stdout",
     "output_type": "stream",
     "text": [
      "Train on 77588 samples, validate on 38759 samples\n",
      "Epoch 1/100\n",
      "77588/77588 [==============================] - 0s 4us/step - loss: 0.0011 - val_loss: 0.0031\n",
      "Epoch 2/100\n",
      "77588/77588 [==============================] - 0s 2us/step - loss: 1.0743e-05 - val_loss: 0.0010\n",
      "Epoch 3/100\n",
      "77588/77588 [==============================] - 0s 2us/step - loss: 1.2194e-06 - val_loss: 9.8977e-04\n",
      "Epoch 4/100\n",
      "77588/77588 [==============================] - 0s 2us/step - loss: 1.1192e-06 - val_loss: 9.7601e-04\n",
      "Epoch 5/100\n",
      "77588/77588 [==============================] - 0s 3us/step - loss: 1.0193e-06 - val_loss: 9.6122e-04\n",
      "Epoch 6/100\n",
      "77588/77588 [==============================] - 0s 2us/step - loss: 9.1603e-07 - val_loss: 9.4605e-04\n",
      "Epoch 7/100\n",
      "77588/77588 [==============================] - 0s 3us/step - loss: 8.2482e-07 - val_loss: 9.3086e-04\n",
      "Epoch 8/100\n",
      "77588/77588 [==============================] - 0s 3us/step - loss: 7.4498e-07 - val_loss: 9.1630e-04\n",
      "Epoch 9/100\n",
      "77588/77588 [==============================] - 0s 2us/step - loss: 6.7680e-07 - val_loss: 9.0220e-04\n",
      "Epoch 10/100\n",
      "77588/77588 [==============================] - 0s 3us/step - loss: 6.1915e-07 - val_loss: 8.8844e-04\n",
      "Epoch 11/100\n",
      "77588/77588 [==============================] - 0s 2us/step - loss: 5.6488e-07 - val_loss: 8.7508e-04\n",
      "Epoch 12/100\n",
      "77588/77588 [==============================] - 0s 3us/step - loss: 5.2146e-07 - val_loss: 8.6246e-04\n",
      "Epoch 13/100\n",
      "77588/77588 [==============================] - 0s 2us/step - loss: 4.8779e-07 - val_loss: 8.5077e-04\n",
      "Epoch 14/100\n",
      "77588/77588 [==============================] - 0s 3us/step - loss: 4.5937e-07 - val_loss: 8.3942e-04\n",
      "Epoch 15/100\n",
      "77588/77588 [==============================] - 0s 3us/step - loss: 4.3939e-07 - val_loss: 8.2800e-04\n",
      "Epoch 16/100\n",
      "77588/77588 [==============================] - 0s 3us/step - loss: 4.0935e-07 - val_loss: 8.1719e-04\n",
      "Epoch 17/100\n",
      "77588/77588 [==============================] - 0s 3us/step - loss: 3.9039e-07 - val_loss: 8.0750e-04\n",
      "Epoch 18/100\n",
      "77588/77588 [==============================] - 0s 2us/step - loss: 3.7415e-07 - val_loss: 7.9817e-04\n",
      "Epoch 19/100\n",
      "77588/77588 [==============================] - 0s 3us/step - loss: 3.7239e-07 - val_loss: 7.8918e-04\n",
      "Epoch 20/100\n",
      "77588/77588 [==============================] - 0s 3us/step - loss: 3.5732e-07 - val_loss: 7.8070e-04\n",
      "Epoch 21/100\n",
      "77588/77588 [==============================] - 0s 2us/step - loss: 3.4598e-07 - val_loss: 7.7295e-04\n",
      "Epoch 22/100\n",
      "77588/77588 [==============================] - 0s 2us/step - loss: 3.4086e-07 - val_loss: 7.6452e-04\n",
      "Epoch 23/100\n",
      "77588/77588 [==============================] - 0s 3us/step - loss: 3.5568e-07 - val_loss: 7.5710e-04\n",
      "Epoch 24/100\n",
      "77588/77588 [==============================] - 0s 3us/step - loss: 3.4815e-07 - val_loss: 7.5028e-04\n",
      "Epoch 25/100\n",
      "77588/77588 [==============================] - 0s 2us/step - loss: 3.4358e-07 - val_loss: 7.4375e-04\n",
      "Epoch 26/100\n",
      "77588/77588 [==============================] - 0s 3us/step - loss: 3.3833e-07 - val_loss: 7.3738e-04\n",
      "Epoch 27/100\n",
      "77588/77588 [==============================] - 0s 2us/step - loss: 3.3390e-07 - val_loss: 7.3101e-04\n",
      "Epoch 28/100\n",
      "77588/77588 [==============================] - 0s 3us/step - loss: 3.3761e-07 - val_loss: 7.2504e-04\n",
      "Epoch 29/100\n",
      "77588/77588 [==============================] - 0s 3us/step - loss: 3.3841e-07 - val_loss: 7.1938e-04\n",
      "Epoch 30/100\n",
      "77588/77588 [==============================] - 0s 3us/step - loss: 3.3612e-07 - val_loss: 7.1407e-04\n",
      "Epoch 31/100\n",
      "77588/77588 [==============================] - 0s 3us/step - loss: 3.3376e-07 - val_loss: 7.0904e-04\n",
      "Epoch 32/100\n",
      "77588/77588 [==============================] - 0s 3us/step - loss: 3.3151e-07 - val_loss: 7.0422e-04\n",
      "Epoch 33/100\n",
      "77588/77588 [==============================] - 0s 3us/step - loss: 3.2912e-07 - val_loss: 6.9965e-04\n",
      "Epoch 34/100\n",
      "77588/77588 [==============================] - 0s 3us/step - loss: 3.2653e-07 - val_loss: 6.9530e-04\n",
      "Epoch 35/100\n",
      "77588/77588 [==============================] - 0s 3us/step - loss: 3.2402e-07 - val_loss: 6.9112e-04\n",
      "Epoch 36/100\n",
      "77588/77588 [==============================] - 0s 3us/step - loss: 3.2174e-07 - val_loss: 6.8707e-04\n",
      "Epoch 37/100\n",
      "77588/77588 [==============================] - 0s 3us/step - loss: 3.1954e-07 - val_loss: 6.8314e-04\n",
      "Epoch 38/100\n",
      "77588/77588 [==============================] - 0s 2us/step - loss: 3.1713e-07 - val_loss: 6.7923e-04\n",
      "Epoch 39/100\n",
      "77588/77588 [==============================] - 0s 2us/step - loss: 3.1493e-07 - val_loss: 6.7533e-04\n",
      "Epoch 40/100\n",
      "77588/77588 [==============================] - 0s 3us/step - loss: 3.1164e-07 - val_loss: 6.7166e-04\n",
      "Epoch 41/100\n",
      "77588/77588 [==============================] - 0s 3us/step - loss: 3.0833e-07 - val_loss: 6.6816e-04\n",
      "Epoch 42/100\n",
      "77588/77588 [==============================] - 0s 3us/step - loss: 3.0558e-07 - val_loss: 6.6472e-04\n",
      "Epoch 43/100\n",
      "77588/77588 [==============================] - 0s 3us/step - loss: 3.0358e-07 - val_loss: 6.6126e-04\n",
      "Epoch 44/100\n",
      "77588/77588 [==============================] - 0s 2us/step - loss: 3.0081e-07 - val_loss: 6.5785e-04\n",
      "Epoch 45/100\n",
      "77588/77588 [==============================] - 0s 2us/step - loss: 2.9863e-07 - val_loss: 6.5448e-04\n",
      "Epoch 46/100\n",
      "77588/77588 [==============================] - 0s 3us/step - loss: 2.9555e-07 - val_loss: 6.5118e-04\n",
      "Epoch 47/100\n",
      "77588/77588 [==============================] - 0s 3us/step - loss: 2.9360e-07 - val_loss: 6.4801e-04\n",
      "Epoch 48/100\n",
      "77588/77588 [==============================] - 0s 3us/step - loss: 2.8892e-07 - val_loss: 6.4496e-04\n",
      "Epoch 49/100\n",
      "77588/77588 [==============================] - 0s 3us/step - loss: 2.8959e-07 - val_loss: 6.4193e-04\n",
      "Epoch 50/100\n",
      "77588/77588 [==============================] - 0s 2us/step - loss: 2.8255e-07 - val_loss: 6.3889e-04\n",
      "Epoch 51/100\n",
      "77588/77588 [==============================] - 0s 3us/step - loss: 2.8767e-07 - val_loss: 6.3589e-04\n",
      "Epoch 52/100\n",
      "77588/77588 [==============================] - 0s 4us/step - loss: 2.7488e-07 - val_loss: 6.3288e-04\n",
      "Epoch 53/100\n",
      "77588/77588 [==============================] - 0s 3us/step - loss: 2.8487e-07 - val_loss: 6.2990e-04\n",
      "Epoch 54/100\n",
      "77588/77588 [==============================] - 0s 2us/step - loss: 2.6952e-07 - val_loss: 6.2693e-04\n",
      "Epoch 55/100\n",
      "77588/77588 [==============================] - 0s 3us/step - loss: 2.7732e-07 - val_loss: 6.2395e-04\n",
      "Epoch 56/100\n",
      "77588/77588 [==============================] - 0s 2us/step - loss: 2.6545e-07 - val_loss: 6.2099e-04\n",
      "Epoch 57/100\n",
      "77588/77588 [==============================] - 0s 2us/step - loss: 2.7116e-07 - val_loss: 6.1799e-04\n",
      "Epoch 58/100\n",
      "77588/77588 [==============================] - 0s 3us/step - loss: 2.6301e-07 - val_loss: 6.1523e-04\n",
      "Epoch 59/100\n",
      "77588/77588 [==============================] - 0s 3us/step - loss: 2.6778e-07 - val_loss: 6.1270e-04\n",
      "Epoch 60/100\n",
      "77588/77588 [==============================] - 0s 2us/step - loss: 2.5816e-07 - val_loss: 6.0998e-04\n",
      "Epoch 61/100\n",
      "77588/77588 [==============================] - 0s 2us/step - loss: 2.5951e-07 - val_loss: 6.0736e-04\n",
      "Epoch 62/100\n",
      "77588/77588 [==============================] - 0s 2us/step - loss: 2.5704e-07 - val_loss: 6.0460e-04\n",
      "Epoch 63/100\n",
      "77588/77588 [==============================] - 0s 2us/step - loss: 2.5525e-07 - val_loss: 6.0219e-04\n",
      "Epoch 64/100\n",
      "77588/77588 [==============================] - 0s 3us/step - loss: 2.5230e-07 - val_loss: 5.9976e-04\n",
      "Epoch 65/100\n",
      "77588/77588 [==============================] - 0s 3us/step - loss: 2.5420e-07 - val_loss: 5.9737e-04\n",
      "Epoch 66/100\n",
      "77588/77588 [==============================] - 0s 2us/step - loss: 2.4631e-07 - val_loss: 5.9489e-04\n",
      "Epoch 67/100\n",
      "77588/77588 [==============================] - 0s 3us/step - loss: 2.5290e-07 - val_loss: 5.9268e-04\n",
      "Epoch 68/100\n",
      "77588/77588 [==============================] - 0s 3us/step - loss: 2.3612e-07 - val_loss: 5.9033e-04\n",
      "Epoch 69/100\n",
      "77588/77588 [==============================] - 0s 3us/step - loss: 2.5602e-07 - val_loss: 5.8834e-04\n",
      "Epoch 70/100\n",
      "77588/77588 [==============================] - 0s 3us/step - loss: 2.3510e-07 - val_loss: 5.8593e-04\n",
      "Epoch 71/100\n",
      "77588/77588 [==============================] - 0s 2us/step - loss: 2.4449e-07 - val_loss: 5.8384e-04\n",
      "Epoch 72/100\n"
     ]
    },
    {
     "name": "stdout",
     "output_type": "stream",
     "text": [
      "77588/77588 [==============================] - 0s 3us/step - loss: 2.2374e-07 - val_loss: 5.8156e-04\n",
      "Epoch 73/100\n",
      "77588/77588 [==============================] - 0s 2us/step - loss: 2.4717e-07 - val_loss: 5.7977e-04\n",
      "Epoch 74/100\n",
      "77588/77588 [==============================] - 0s 3us/step - loss: 2.2661e-07 - val_loss: 5.7746e-04\n",
      "Epoch 75/100\n",
      "77588/77588 [==============================] - 0s 2us/step - loss: 2.5246e-07 - val_loss: 5.7534e-04\n",
      "Epoch 76/100\n",
      "77588/77588 [==============================] - 0s 3us/step - loss: 2.0331e-07 - val_loss: 5.7340e-04\n",
      "Epoch 77/100\n",
      "77588/77588 [==============================] - 0s 3us/step - loss: 2.4794e-07 - val_loss: 5.7166e-04\n",
      "Epoch 78/100\n",
      "77588/77588 [==============================] - 0s 3us/step - loss: 2.1455e-07 - val_loss: 5.6963e-04\n",
      "Epoch 79/100\n",
      "77588/77588 [==============================] - 0s 2us/step - loss: 2.5933e-07 - val_loss: 5.6718e-04\n",
      "Epoch 80/100\n",
      "77588/77588 [==============================] - 0s 2us/step - loss: 1.7812e-07 - val_loss: 5.6534e-04\n",
      "Epoch 81/100\n",
      "77588/77588 [==============================] - 0s 3us/step - loss: 2.4700e-07 - val_loss: 5.6347e-04\n",
      "Epoch 82/100\n",
      "77588/77588 [==============================] - 0s 2us/step - loss: 2.4529e-07 - val_loss: 5.6160e-04\n",
      "Epoch 83/100\n",
      "77588/77588 [==============================] - 0s 2us/step - loss: 1.7471e-07 - val_loss: 5.5974e-04\n",
      "Epoch 84/100\n",
      "77588/77588 [==============================] - 0s 3us/step - loss: 2.4664e-07 - val_loss: 5.5825e-04\n",
      "Epoch 85/100\n",
      "77588/77588 [==============================] - 0s 3us/step - loss: 2.3498e-07 - val_loss: 5.5605e-04\n",
      "Epoch 86/100\n",
      "77588/77588 [==============================] - 0s 2us/step - loss: 1.7993e-07 - val_loss: 5.5461e-04\n",
      "Epoch 87/100\n",
      "77588/77588 [==============================] - 0s 3us/step - loss: 2.2994e-07 - val_loss: 5.5307e-04\n",
      "Epoch 88/100\n",
      "77588/77588 [==============================] - 0s 3us/step - loss: 2.4243e-07 - val_loss: 5.5158e-04\n",
      "Epoch 89/100\n",
      "77588/77588 [==============================] - 0s 3us/step - loss: 1.6174e-07 - val_loss: 5.5015e-04\n",
      "Epoch 90/100\n",
      "77588/77588 [==============================] - 0s 3us/step - loss: 2.4199e-07 - val_loss: 5.4890e-04\n",
      "Epoch 91/100\n",
      "77588/77588 [==============================] - 0s 2us/step - loss: 1.9690e-07 - val_loss: 5.4711e-04\n",
      "Epoch 92/100\n",
      "77588/77588 [==============================] - 0s 2us/step - loss: 2.0936e-07 - val_loss: 5.4607e-04\n",
      "Epoch 93/100\n",
      "77588/77588 [==============================] - 0s 2us/step - loss: 2.1791e-07 - val_loss: 5.4455e-04\n",
      "Epoch 94/100\n",
      "77588/77588 [==============================] - 0s 2us/step - loss: 1.8942e-07 - val_loss: 5.4350e-04\n",
      "Epoch 95/100\n",
      "77588/77588 [==============================] - 0s 2us/step - loss: 2.2107e-07 - val_loss: 5.4210e-04\n",
      "Epoch 96/100\n",
      "77588/77588 [==============================] - 0s 3us/step - loss: 2.2989e-07 - val_loss: 5.4005e-04\n",
      "Epoch 97/100\n",
      "77588/77588 [==============================] - 0s 2us/step - loss: 1.5832e-07 - val_loss: 5.3965e-04\n",
      "Epoch 98/100\n",
      "77588/77588 [==============================] - 0s 3us/step - loss: 2.2449e-07 - val_loss: 5.3824e-04\n",
      "Epoch 99/100\n",
      "77588/77588 [==============================] - 0s 3us/step - loss: 2.1348e-07 - val_loss: 5.3631e-04\n",
      "Epoch 100/100\n",
      "77588/77588 [==============================] - 0s 2us/step - loss: 1.6566e-07 - val_loss: 5.3579e-04\n"
     ]
    }
   ],
   "source": [
    "history=model.fit(X_train,X_train,\n",
    "                  batch_size=BATCH_SIZE, \n",
    "                  epochs=NUM_EPOCHS,\n",
    "                  validation_data=(X_test, X_test),\n",
    "                  verbose = 1,\n",
    "                 shuffle = False)"
   ]
  },
  {
   "cell_type": "code",
   "execution_count": 15,
   "metadata": {},
   "outputs": [
    {
     "data": {
      "image/png": "[encoded data removed]",
      "text/plain": [
       "<Figure size 432x288 with 1 Axes>"
      ]
     },
     "metadata": {
      "needs_background": "light"
     },
     "output_type": "display_data"
    }
   ],
   "source": [
    "import matplotlib.pyplot as plt\n",
    "\n",
    "plt.plot(history.history['loss'], 'b', label='Training loss')\n",
    "plt.plot(history.history['val_loss'], 'r', label='Validation loss')\n",
    "plt.legend(loc='upper right')\n",
    "plt.xlabel('Epochs')\n",
    "plt.ylabel('Loss, [mse]')\n",
    "#plt.ylim([0,.05])\n",
    "plt.show()"
   ]
  },
  {
   "cell_type": "code",
   "execution_count": 16,
   "metadata": {},
   "outputs": [],
   "source": [
    "X_pred = model.predict(X_train)"
   ]
  },
  {
   "cell_type": "code",
   "execution_count": 17,
   "metadata": {},
   "outputs": [
    {
     "data": {
      "image/png": "[encoded data removed]",
      "text/plain": [
       "<Figure size 432x288 with 1 Axes>"
      ]
     },
     "metadata": {
      "needs_background": "light"
     },
     "output_type": "display_data"
    }
   ],
   "source": [
    "import seaborn as sns\n",
    "\n",
    "scored = np.mean(np.abs(X_pred-X_train), axis = 1)\n",
    "plt.figure()\n",
    "g = sns.distplot(scored, bins = 20, kde= True);\n",
    "#g.set(xlim=(0,0.001))\n",
    "plt.show()"
   ]
  },
  {
   "cell_type": "code",
   "execution_count": 18,
   "metadata": {},
   "outputs": [
    {
     "name": "stdout",
     "output_type": "stream",
     "text": [
      "38759/38759 [==============================] - 0s 12us/step\n"
     ]
    },
    {
     "data": {
      "text/plain": [
       "0.0005357907498016168"
      ]
     },
     "execution_count": 18,
     "metadata": {},
     "output_type": "execute_result"
    }
   ],
   "source": [
    "model.evaluate(X_test,X_test)"
   ]
  },
  {
   "cell_type": "code",
   "execution_count": 19,
   "metadata": {},
   "outputs": [],
   "source": [
    "X_pred = model.predict(np.array(X_test))\n",
    "\n",
    "scored = pd.DataFrame()\n",
    "scored['Loss_mae'] = np.mean(np.abs(X_pred-X_test), axis = 1)"
   ]
  },
  {
   "cell_type": "code",
   "execution_count": 20,
   "metadata": {},
   "outputs": [
    {
     "name": "stdout",
     "output_type": "stream",
     "text": [
      "0.004747785102047696\n"
     ]
    }
   ],
   "source": [
    "from sklearn.metrics import roc_curve\n",
    "fpr, tpr, threshold = roc_curve(y_test, scored, pos_label=1)\n",
    "\n",
    "TH = np.mean(threshold)\n",
    "print(TH)"
   ]
  },
  {
   "cell_type": "code",
   "execution_count": 21,
   "metadata": {},
   "outputs": [
    {
     "data": {
      "text/html": [
       "<div>\n",
       "<style scoped>\n",
       "    .dataframe tbody tr th:only-of-type {\n",
       "        vertical-align: middle;\n",
       "    }\n",
       "\n",
       "    .dataframe tbody tr th {\n",
       "        vertical-align: top;\n",
       "    }\n",
       "\n",
       "    .dataframe thead th {\n",
       "        text-align: right;\n",
       "    }\n",
       "</style>\n",
       "<table border=\"1\" class=\"dataframe\">\n",
       "  <thead>\n",
       "    <tr style=\"text-align: right;\">\n",
       "      <th></th>\n",
       "      <th>Loss_mae</th>\n",
       "      <th>Threshold</th>\n",
       "      <th>Anomaly</th>\n",
       "    </tr>\n",
       "  </thead>\n",
       "  <tbody>\n",
       "    <tr>\n",
       "      <th>15773</th>\n",
       "      <td>0.004875</td>\n",
       "      <td>0.004748</td>\n",
       "      <td>True</td>\n",
       "    </tr>\n",
       "    <tr>\n",
       "      <th>3258</th>\n",
       "      <td>0.000176</td>\n",
       "      <td>0.004748</td>\n",
       "      <td>False</td>\n",
       "    </tr>\n",
       "    <tr>\n",
       "      <th>35876</th>\n",
       "      <td>0.000042</td>\n",
       "      <td>0.004748</td>\n",
       "      <td>False</td>\n",
       "    </tr>\n",
       "    <tr>\n",
       "      <th>30877</th>\n",
       "      <td>0.004547</td>\n",
       "      <td>0.004748</td>\n",
       "      <td>False</td>\n",
       "    </tr>\n",
       "    <tr>\n",
       "      <th>35744</th>\n",
       "      <td>0.000038</td>\n",
       "      <td>0.004748</td>\n",
       "      <td>False</td>\n",
       "    </tr>\n",
       "    <tr>\n",
       "      <th>...</th>\n",
       "      <td>...</td>\n",
       "      <td>...</td>\n",
       "      <td>...</td>\n",
       "    </tr>\n",
       "    <tr>\n",
       "      <th>3645</th>\n",
       "      <td>0.004558</td>\n",
       "      <td>0.004748</td>\n",
       "      <td>False</td>\n",
       "    </tr>\n",
       "    <tr>\n",
       "      <th>33870</th>\n",
       "      <td>0.005783</td>\n",
       "      <td>0.004748</td>\n",
       "      <td>True</td>\n",
       "    </tr>\n",
       "    <tr>\n",
       "      <th>26499</th>\n",
       "      <td>0.005684</td>\n",
       "      <td>0.004748</td>\n",
       "      <td>True</td>\n",
       "    </tr>\n",
       "    <tr>\n",
       "      <th>29502</th>\n",
       "      <td>0.000020</td>\n",
       "      <td>0.004748</td>\n",
       "      <td>False</td>\n",
       "    </tr>\n",
       "    <tr>\n",
       "      <th>12379</th>\n",
       "      <td>0.041373</td>\n",
       "      <td>0.004748</td>\n",
       "      <td>True</td>\n",
       "    </tr>\n",
       "  </tbody>\n",
       "</table>\n",
       "<p>100 rows × 3 columns</p>\n",
       "</div>"
      ],
      "text/plain": [
       "       Loss_mae  Threshold  Anomaly\n",
       "15773  0.004875   0.004748     True\n",
       "3258   0.000176   0.004748    False\n",
       "35876  0.000042   0.004748    False\n",
       "30877  0.004547   0.004748    False\n",
       "35744  0.000038   0.004748    False\n",
       "...         ...        ...      ...\n",
       "3645   0.004558   0.004748    False\n",
       "33870  0.005783   0.004748     True\n",
       "26499  0.005684   0.004748     True\n",
       "29502  0.000020   0.004748    False\n",
       "12379  0.041373   0.004748     True\n",
       "\n",
       "[100 rows x 3 columns]"
      ]
     },
     "execution_count": 21,
     "metadata": {},
     "output_type": "execute_result"
    }
   ],
   "source": [
    "scored['Threshold'] = TH\n",
    "scored['Anomaly'] = scored['Loss_mae'] > scored['Threshold']\n",
    "scored.sample(100)"
   ]
  },
  {
   "cell_type": "code",
   "execution_count": 22,
   "metadata": {},
   "outputs": [],
   "source": [
    "X_pred_train = model.predict(np.array(X_train))\n",
    "X_pred_train = pd.DataFrame(X_pred_train)\n",
    "\n",
    "scored_train = pd.DataFrame()\n",
    "scored_train['Loss_mae'] = np.mean(np.abs(X_pred_train-X_train), axis = 1)\n",
    "scored_train['Threshold'] = TH\n",
    "scored_train['Anomaly'] = scored_train['Loss_mae'] > scored_train['Threshold']\n",
    "scored = pd.concat([scored_train, scored])"
   ]
  },
  {
   "cell_type": "code",
   "execution_count": 23,
   "metadata": {},
   "outputs": [
    {
     "data": {
      "text/plain": [
       "0.00017255828521704568"
      ]
     },
     "execution_count": 23,
     "metadata": {},
     "output_type": "execute_result"
    }
   ],
   "source": [
    "scored_train['Loss_mae'].mean()"
   ]
  },
  {
   "cell_type": "code",
   "execution_count": 24,
   "metadata": {},
   "outputs": [
    {
     "data": {
      "text/plain": [
       "<matplotlib.axes._subplots.AxesSubplot at 0x1f3032bcb08>"
      ]
     },
     "execution_count": 24,
     "metadata": {},
     "output_type": "execute_result"
    },
    {
     "data": {
      "image/png": "[encoded data removed]",
      "text/plain": [
       "<Figure size 720x432 with 1 Axes>"
      ]
     },
     "metadata": {
      "needs_background": "light"
     },
     "output_type": "display_data"
    }
   ],
   "source": [
    "scored.plot(logy=True,  figsize = (10,6), xlim =[0,5000])"
   ]
  },
  {
   "cell_type": "code",
   "execution_count": 25,
   "metadata": {},
   "outputs": [
    {
     "data": {
      "text/html": [
       "<div>\n",
       "<style scoped>\n",
       "    .dataframe tbody tr th:only-of-type {\n",
       "        vertical-align: middle;\n",
       "    }\n",
       "\n",
       "    .dataframe tbody tr th {\n",
       "        vertical-align: top;\n",
       "    }\n",
       "\n",
       "    .dataframe thead th {\n",
       "        text-align: right;\n",
       "    }\n",
       "</style>\n",
       "<table border=\"1\" class=\"dataframe\">\n",
       "  <thead>\n",
       "    <tr style=\"text-align: right;\">\n",
       "      <th></th>\n",
       "      <th>Loss_mae</th>\n",
       "      <th>Threshold</th>\n",
       "      <th>Anomaly</th>\n",
       "    </tr>\n",
       "  </thead>\n",
       "  <tbody>\n",
       "    <tr>\n",
       "      <th>0</th>\n",
       "      <td>0.000068</td>\n",
       "      <td>0.004748</td>\n",
       "      <td>False</td>\n",
       "    </tr>\n",
       "    <tr>\n",
       "      <th>1</th>\n",
       "      <td>0.000488</td>\n",
       "      <td>0.004748</td>\n",
       "      <td>False</td>\n",
       "    </tr>\n",
       "    <tr>\n",
       "      <th>2</th>\n",
       "      <td>0.000279</td>\n",
       "      <td>0.004748</td>\n",
       "      <td>False</td>\n",
       "    </tr>\n",
       "    <tr>\n",
       "      <th>3</th>\n",
       "      <td>0.000302</td>\n",
       "      <td>0.004748</td>\n",
       "      <td>False</td>\n",
       "    </tr>\n",
       "    <tr>\n",
       "      <th>4</th>\n",
       "      <td>0.000242</td>\n",
       "      <td>0.004748</td>\n",
       "      <td>False</td>\n",
       "    </tr>\n",
       "    <tr>\n",
       "      <th>...</th>\n",
       "      <td>...</td>\n",
       "      <td>...</td>\n",
       "      <td>...</td>\n",
       "    </tr>\n",
       "    <tr>\n",
       "      <th>77583</th>\n",
       "      <td>0.000131</td>\n",
       "      <td>0.004748</td>\n",
       "      <td>False</td>\n",
       "    </tr>\n",
       "    <tr>\n",
       "      <th>77584</th>\n",
       "      <td>0.000133</td>\n",
       "      <td>0.004748</td>\n",
       "      <td>False</td>\n",
       "    </tr>\n",
       "    <tr>\n",
       "      <th>77585</th>\n",
       "      <td>0.000224</td>\n",
       "      <td>0.004748</td>\n",
       "      <td>False</td>\n",
       "    </tr>\n",
       "    <tr>\n",
       "      <th>77586</th>\n",
       "      <td>0.000046</td>\n",
       "      <td>0.004748</td>\n",
       "      <td>False</td>\n",
       "    </tr>\n",
       "    <tr>\n",
       "      <th>77587</th>\n",
       "      <td>0.000176</td>\n",
       "      <td>0.004748</td>\n",
       "      <td>False</td>\n",
       "    </tr>\n",
       "  </tbody>\n",
       "</table>\n",
       "<p>77588 rows × 3 columns</p>\n",
       "</div>"
      ],
      "text/plain": [
       "       Loss_mae  Threshold  Anomaly\n",
       "0      0.000068   0.004748    False\n",
       "1      0.000488   0.004748    False\n",
       "2      0.000279   0.004748    False\n",
       "3      0.000302   0.004748    False\n",
       "4      0.000242   0.004748    False\n",
       "...         ...        ...      ...\n",
       "77583  0.000131   0.004748    False\n",
       "77584  0.000133   0.004748    False\n",
       "77585  0.000224   0.004748    False\n",
       "77586  0.000046   0.004748    False\n",
       "77587  0.000176   0.004748    False\n",
       "\n",
       "[77588 rows x 3 columns]"
      ]
     },
     "execution_count": 25,
     "metadata": {},
     "output_type": "execute_result"
    }
   ],
   "source": [
    "scored_train"
   ]
  },
  {
   "cell_type": "code",
   "execution_count": 26,
   "metadata": {},
   "outputs": [
    {
     "name": "stdout",
     "output_type": "stream",
     "text": [
      "      Loss_mae  Threshold  Anomaly\n",
      "9793  0.005144   0.004748     True\n",
      "(1, 3)\n"
     ]
    }
   ],
   "source": [
    "anomalies = scored_train[scored_train['Anomaly'] == True]\n",
    "print(anomalies)\n",
    "print(anomalies.shape)"
   ]
  },
  {
   "cell_type": "code",
   "execution_count": 27,
   "metadata": {},
   "outputs": [
    {
     "name": "stdout",
     "output_type": "stream",
     "text": [
      "      Loss_mae  Threshold  Anomaly\n",
      "9793  0.005144   0.004748     True\n",
      "(1, 3)\n"
     ]
    }
   ],
   "source": [
    "NB_anomalies = anomalies[anomalies.index <= 96896]\n",
    "print(NB_anomalies)\n",
    "print(NB_anomalies.shape)"
   ]
  },
  {
   "cell_type": "code",
   "execution_count": 28,
   "metadata": {},
   "outputs": [
    {
     "name": "stdout",
     "output_type": "stream",
     "text": [
      "Empty DataFrame\n",
      "Columns: [Loss_mae, Threshold, Anomaly]\n",
      "Index: []\n",
      "(0, 3)\n"
     ]
    }
   ],
   "source": [
    "IR7_anomalies = anomalies[anomalies.index > 96896]\n",
    "print(IR7_anomalies)\n",
    "print(IR7_anomalies.shape)"
   ]
  },
  {
   "cell_type": "code",
   "execution_count": null,
   "metadata": {},
   "outputs": [],
   "source": []
  }
 ],
 "metadata": {
  "kernelspec": {
   "display_name": "Python 3",
   "language": "python",
   "name": "python3"
  },
  "language_info": {
   "codemirror_mode": {
    "name": "ipython",
    "version": 3
   },
   "file_extension": ".py",
   "mimetype": "text/x-python",
   "name": "python",
   "nbconvert_exporter": "python",
   "pygments_lexer": "ipython3",
   "version": "3.7.4"
  }
 },
 "nbformat": 4,
 "nbformat_minor": 4
}
