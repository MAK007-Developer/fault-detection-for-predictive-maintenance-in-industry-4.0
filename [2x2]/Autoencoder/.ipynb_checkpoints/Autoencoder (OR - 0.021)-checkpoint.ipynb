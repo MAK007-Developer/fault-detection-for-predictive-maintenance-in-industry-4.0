{
 "cells": [
  {
   "cell_type": "code",
   "execution_count": 1,
   "metadata": {},
   "outputs": [],
   "source": [
    "#importing packages\n",
    "import pandas as pd\n",
    "import numpy as np"
   ]
  },
  {
   "cell_type": "code",
   "execution_count": 2,
   "metadata": {},
   "outputs": [],
   "source": [
    "Dtrain = pd.read_csv(\"TrainingSet (OR - 21).csv\")\n",
    "#Dtrain = Dtrain.iloc[:,0:4].values\n",
    "Dtest = pd.read_csv(\"TestingSet (OR - 21).csv\")"
   ]
  },
  {
   "cell_type": "code",
   "execution_count": 3,
   "metadata": {},
   "outputs": [
    {
     "data": {
      "text/plain": [
       "Normal                 96896\n",
       "Outer Race (0.021\")    96896\n",
       "Name: Bearing, dtype: int64"
      ]
     },
     "execution_count": 3,
     "metadata": {},
     "output_type": "execute_result"
    }
   ],
   "source": [
    "Dtrain[\"Bearing\"].value_counts()"
   ]
  },
  {
   "cell_type": "code",
   "execution_count": 4,
   "metadata": {},
   "outputs": [
    {
     "data": {
      "text/plain": [
       "Normal                 50.0\n",
       "Outer Race (0.021\")    50.0\n",
       "Name: Bearing, dtype: float64"
      ]
     },
     "execution_count": 4,
     "metadata": {},
     "output_type": "execute_result"
    }
   ],
   "source": [
    "Dtrain[\"Bearing\"].value_counts(normalize=True)*100"
   ]
  },
  {
   "cell_type": "code",
   "execution_count": 5,
   "metadata": {},
   "outputs": [
    {
     "data": {
      "text/plain": [
       "Index(['Bearing', 'Fault Diameter', 'DE', 'FE'], dtype='object')"
      ]
     },
     "execution_count": 5,
     "metadata": {},
     "output_type": "execute_result"
    }
   ],
   "source": [
    "Dtest.columns"
   ]
  },
  {
   "cell_type": "code",
   "execution_count": 6,
   "metadata": {},
   "outputs": [],
   "source": [
    "from sklearn.preprocessing import LabelEncoder, OneHotEncoder\n",
    "from sklearn.compose import ColumnTransformer\n",
    "labelencoder_train = LabelEncoder()\n",
    "Dtrain[\"Bearing\"] = labelencoder_train.fit_transform(Dtrain[\"Bearing\"])\n",
    "ct = ColumnTransformer([(\"Bearing\", OneHotEncoder(), [0])],    remainder = 'passthrough')\n",
    "Dtrain = ct.fit_transform(Dtrain)"
   ]
  },
  {
   "cell_type": "code",
   "execution_count": 7,
   "metadata": {},
   "outputs": [],
   "source": [
    "from sklearn.preprocessing import LabelEncoder, OneHotEncoder\n",
    "from sklearn.compose import ColumnTransformer\n",
    "labelencoder_train = LabelEncoder()\n",
    "Dtest[\"Bearing\"] = labelencoder_train.fit_transform(Dtest[\"Bearing\"])\n",
    "ct = ColumnTransformer([(\"Bearing\", OneHotEncoder(), [0])],    remainder = 'passthrough')\n",
    "Dtest = ct.fit_transform(Dtest)"
   ]
  },
  {
   "cell_type": "code",
   "execution_count": 8,
   "metadata": {},
   "outputs": [],
   "source": [
    "from sklearn.preprocessing import MinMaxScaler\n",
    "scaler = MinMaxScaler()\n",
    "X_train = pd.DataFrame(scaler.fit_transform(Dtrain))\n",
    "# Random shuffle training data\n",
    "X_train.sample(frac=1)\n",
    "\n",
    "X_test = pd.DataFrame(scaler.transform(Dtest))\n",
    "\n"
   ]
  },
  {
   "cell_type": "code",
   "execution_count": 9,
   "metadata": {},
   "outputs": [
    {
     "name": "stderr",
     "output_type": "stream",
     "text": [
      "Using TensorFlow backend.\n"
     ]
    }
   ],
   "source": [
    "from keras.layers import Input, Dropout\n",
    "from keras.layers.core import Dense \n",
    "from keras.models import Model, Sequential, load_model\n",
    "from keras import regularizers"
   ]
  },
  {
   "cell_type": "code",
   "execution_count": 10,
   "metadata": {},
   "outputs": [],
   "source": [
    "import tensorflow as tf\n",
    "from numpy.random import seed\n",
    "seed(10)\n",
    "tf.random.set_seed(10)\n",
    "act_func = 'elu'"
   ]
  },
  {
   "cell_type": "code",
   "execution_count": 11,
   "metadata": {},
   "outputs": [],
   "source": [
    "# Input layer:\n",
    "model=Sequential()\n",
    "# First hidden layer, connected to input vector X. \n",
    "model.add(Dense(6,activation=act_func,\n",
    "                kernel_initializer='glorot_uniform',\n",
    "                kernel_regularizer=regularizers.l2(0.0),\n",
    "                input_shape=(X_train.shape[1],)\n",
    "               )\n",
    "         )\n",
    "\n",
    "model.add(Dense(2,activation=act_func,\n",
    "                kernel_initializer='glorot_uniform'))\n",
    "\n",
    "model.add(Dense(6,activation=act_func,\n",
    "                kernel_initializer='glorot_uniform'))\n",
    "\n",
    "model.add(Dense(X_train.shape[1],\n",
    "                kernel_initializer='glorot_uniform'))\n",
    "\n",
    "model.compile(loss='mse',optimizer='adam', metrics=['accuracy'] )\n",
    "\n",
    "# Train model for 100 epochs, batch size of 10: \n",
    "NUM_EPOCHS=100\n",
    "BATCH_SIZE=100"
   ]
  },
  {
   "cell_type": "code",
   "execution_count": 12,
   "metadata": {},
   "outputs": [
    {
     "name": "stdout",
     "output_type": "stream",
     "text": [
      "Train on 184102 samples, validate on 9690 samples\n",
      "Epoch 1/100\n",
      "184102/184102 [==============================] - 2s 11us/step - loss: 0.0468 - accuracy: 0.7154 - val_loss: 7.4934e-04 - val_accuracy: 0.4503\n",
      "Epoch 2/100\n",
      "184102/184102 [==============================] - 2s 10us/step - loss: 4.1683e-04 - accuracy: 0.7639 - val_loss: 7.3690e-04 - val_accuracy: 0.4350\n",
      "Epoch 3/100\n",
      "184102/184102 [==============================] - 3s 14us/step - loss: 4.0272e-04 - accuracy: 0.7679 - val_loss: 6.9968e-04 - val_accuracy: 0.2366\n",
      "Epoch 4/100\n",
      "184102/184102 [==============================] - 2s 12us/step - loss: 3.6646e-04 - accuracy: 0.7689 - val_loss: 6.0609e-04 - val_accuracy: 0.6317\n",
      "Epoch 5/100\n",
      "184102/184102 [==============================] - 2s 10us/step - loss: 2.9912e-04 - accuracy: 0.7836 - val_loss: 4.4489e-04 - val_accuracy: 0.6427\n",
      "Epoch 6/100\n",
      "184102/184102 [==============================] - 2s 10us/step - loss: 1.6317e-04 - accuracy: 0.8048 - val_loss: 9.5351e-05 - val_accuracy: 0.4037\n",
      "Epoch 7/100\n",
      "184102/184102 [==============================] - 2s 10us/step - loss: 4.5711e-05 - accuracy: 0.7860 - val_loss: 2.1055e-05 - val_accuracy: 0.2600\n",
      "Epoch 8/100\n",
      "184102/184102 [==============================] - 2s 9us/step - loss: 2.8339e-05 - accuracy: 0.7962 - val_loss: 9.7500e-06 - val_accuracy: 0.6431\n",
      "Epoch 9/100\n",
      "184102/184102 [==============================] - 2s 10us/step - loss: 2.2615e-05 - accuracy: 0.7981 - val_loss: 8.5809e-06 - val_accuracy: 0.9321\n",
      "Epoch 10/100\n",
      "184102/184102 [==============================] - 2s 10us/step - loss: 1.8972e-05 - accuracy: 0.8031 - val_loss: 6.8964e-06 - val_accuracy: 0.8517\n",
      "Epoch 11/100\n",
      "184102/184102 [==============================] - 2s 10us/step - loss: 1.5712e-05 - accuracy: 0.7791 - val_loss: 5.3777e-06 - val_accuracy: 0.1680\n",
      "Epoch 12/100\n",
      "184102/184102 [==============================] - 2s 10us/step - loss: 1.3272e-05 - accuracy: 0.7756 - val_loss: 4.6657e-06 - val_accuracy: 0.4062\n",
      "Epoch 13/100\n",
      "184102/184102 [==============================] - 2s 11us/step - loss: 1.1485e-05 - accuracy: 0.7843 - val_loss: 4.7641e-06 - val_accuracy: 0.4915\n",
      "Epoch 14/100\n",
      "184102/184102 [==============================] - 2s 10us/step - loss: 1.0354e-05 - accuracy: 0.7989 - val_loss: 4.6525e-06 - val_accuracy: 0.6906\n",
      "Epoch 15/100\n",
      "184102/184102 [==============================] - 2s 10us/step - loss: 9.4901e-06 - accuracy: 0.8091 - val_loss: 3.7829e-06 - val_accuracy: 0.2463\n",
      "Epoch 16/100\n",
      "184102/184102 [==============================] - 2s 11us/step - loss: 9.0447e-06 - accuracy: 0.8130 - val_loss: 3.9459e-06 - val_accuracy: 0.2626\n",
      "Epoch 17/100\n",
      "184102/184102 [==============================] - 2s 10us/step - loss: 8.7055e-06 - accuracy: 0.8158 - val_loss: 4.9576e-06 - val_accuracy: 0.2942\n",
      "Epoch 18/100\n",
      "184102/184102 [==============================] - 2s 10us/step - loss: 8.1779e-06 - accuracy: 0.8199 - val_loss: 4.7103e-06 - val_accuracy: 0.5998\n",
      "Epoch 19/100\n",
      "184102/184102 [==============================] - 2s 10us/step - loss: 7.9846e-06 - accuracy: 0.8218 - val_loss: 2.5923e-06 - val_accuracy: 0.6820\n",
      "Epoch 20/100\n",
      "184102/184102 [==============================] - 2s 11us/step - loss: 7.5100e-06 - accuracy: 0.8210 - val_loss: 5.8874e-06 - val_accuracy: 0.8968\n",
      "Epoch 21/100\n",
      "184102/184102 [==============================] - 2s 11us/step - loss: 7.1863e-06 - accuracy: 0.8238 - val_loss: 2.5182e-06 - val_accuracy: 0.5489\n",
      "Epoch 22/100\n",
      "184102/184102 [==============================] - 2s 11us/step - loss: 7.0623e-06 - accuracy: 0.8214 - val_loss: 2.3398e-06 - val_accuracy: 0.7148\n",
      "Epoch 23/100\n",
      "184102/184102 [==============================] - 2s 10us/step - loss: 6.7542e-06 - accuracy: 0.8235 - val_loss: 4.1751e-06 - val_accuracy: 0.2015\n",
      "Epoch 24/100\n",
      "184102/184102 [==============================] - 2s 10us/step - loss: 6.5457e-06 - accuracy: 0.8182 - val_loss: 2.4202e-06 - val_accuracy: 0.8346\n",
      "Epoch 25/100\n",
      "184102/184102 [==============================] - 2s 10us/step - loss: 6.4177e-06 - accuracy: 0.8251 - val_loss: 1.6931e-05 - val_accuracy: 0.6331\n",
      "Epoch 26/100\n",
      "184102/184102 [==============================] - 2s 9us/step - loss: 6.1952e-06 - accuracy: 0.8227 - val_loss: 3.7651e-06 - val_accuracy: 0.6284\n",
      "Epoch 27/100\n",
      "184102/184102 [==============================] - 2s 10us/step - loss: 6.0228e-06 - accuracy: 0.8221 - val_loss: 1.5473e-06 - val_accuracy: 0.0494\n",
      "Epoch 28/100\n",
      "184102/184102 [==============================] - 2s 9us/step - loss: 6.0307e-06 - accuracy: 0.8193 - val_loss: 8.4421e-06 - val_accuracy: 0.9632\n",
      "Epoch 29/100\n",
      "184102/184102 [==============================] - 2s 10us/step - loss: 5.8465e-06 - accuracy: 0.8204 - val_loss: 5.0852e-06 - val_accuracy: 0.9283\n",
      "Epoch 30/100\n",
      "184102/184102 [==============================] - 2s 10us/step - loss: 5.7487e-06 - accuracy: 0.8241 - val_loss: 1.4952e-06 - val_accuracy: 0.9262\n",
      "Epoch 31/100\n",
      "184102/184102 [==============================] - 2s 10us/step - loss: 5.5396e-06 - accuracy: 0.8249 - val_loss: 2.4859e-06 - val_accuracy: 0.9409\n",
      "Epoch 32/100\n",
      "184102/184102 [==============================] - 2s 10us/step - loss: 5.4878e-06 - accuracy: 0.8157 - val_loss: 1.0315e-06 - val_accuracy: 0.0844\n",
      "Epoch 33/100\n",
      "184102/184102 [==============================] - 2s 10us/step - loss: 5.3319e-06 - accuracy: 0.8225 - val_loss: 2.8565e-06 - val_accuracy: 0.9198\n",
      "Epoch 34/100\n",
      "184102/184102 [==============================] - 2s 10us/step - loss: 5.3072e-06 - accuracy: 0.8204 - val_loss: 1.0653e-06 - val_accuracy: 0.2220\n",
      "Epoch 35/100\n",
      "184102/184102 [==============================] - 2s 10us/step - loss: 5.2705e-06 - accuracy: 0.8208 - val_loss: 3.7652e-06 - val_accuracy: 0.9455\n",
      "Epoch 36/100\n",
      "184102/184102 [==============================] - 2s 10us/step - loss: 5.1054e-06 - accuracy: 0.8191 - val_loss: 8.4716e-07 - val_accuracy: 0.5410\n",
      "Epoch 37/100\n",
      "184102/184102 [==============================] - 2s 10us/step - loss: 5.1507e-06 - accuracy: 0.8185 - val_loss: 2.2992e-06 - val_accuracy: 0.9200\n",
      "Epoch 38/100\n",
      "184102/184102 [==============================] - 2s 10us/step - loss: 4.9790e-06 - accuracy: 0.8207 - val_loss: 8.1161e-07 - val_accuracy: 0.4070\n",
      "Epoch 39/100\n",
      "184102/184102 [==============================] - 2s 10us/step - loss: 4.9086e-06 - accuracy: 0.8146 - val_loss: 9.6928e-07 - val_accuracy: 0.0537\n",
      "Epoch 40/100\n",
      "184102/184102 [==============================] - 2s 10us/step - loss: 4.8540e-06 - accuracy: 0.8168 - val_loss: 7.2662e-06 - val_accuracy: 0.0442\n",
      "Epoch 41/100\n",
      "184102/184102 [==============================] - 2s 10us/step - loss: 4.8746e-06 - accuracy: 0.8191 - val_loss: 2.4224e-06 - val_accuracy: 0.4780\n",
      "Epoch 42/100\n",
      "184102/184102 [==============================] - 2s 10us/step - loss: 4.7697e-06 - accuracy: 0.8144 - val_loss: 3.7213e-05 - val_accuracy: 0.5147\n",
      "Epoch 43/100\n",
      "184102/184102 [==============================] - 2s 10us/step - loss: 4.7452e-06 - accuracy: 0.8197 - val_loss: 1.7719e-06 - val_accuracy: 0.3659\n",
      "Epoch 44/100\n",
      "184102/184102 [==============================] - 2s 11us/step - loss: 4.6107e-06 - accuracy: 0.8174 - val_loss: 7.9677e-07 - val_accuracy: 0.8757\n",
      "Epoch 45/100\n",
      "184102/184102 [==============================] - 2s 10us/step - loss: 4.6046e-06 - accuracy: 0.8135 - val_loss: 3.4611e-06 - val_accuracy: 0.4969\n",
      "Epoch 46/100\n",
      "184102/184102 [==============================] - 2s 10us/step - loss: 4.5865e-06 - accuracy: 0.8150 - val_loss: 7.9679e-07 - val_accuracy: 0.8429\n",
      "Epoch 47/100\n",
      "184102/184102 [==============================] - 2s 10us/step - loss: 4.4765e-06 - accuracy: 0.8142 - val_loss: 7.7114e-07 - val_accuracy: 0.8045\n",
      "Epoch 48/100\n",
      "184102/184102 [==============================] - 2s 10us/step - loss: 4.4310e-06 - accuracy: 0.8082 - val_loss: 7.4128e-07 - val_accuracy: 0.7091\n",
      "Epoch 49/100\n",
      "184102/184102 [==============================] - 2s 9us/step - loss: 4.3641e-06 - accuracy: 0.8110 - val_loss: 8.2738e-07 - val_accuracy: 0.4384\n",
      "Epoch 50/100\n",
      "184102/184102 [==============================] - 2s 9us/step - loss: 4.3992e-06 - accuracy: 0.8117 - val_loss: 7.6827e-07 - val_accuracy: 0.1431\n",
      "Epoch 51/100\n",
      "184102/184102 [==============================] - 2s 9us/step - loss: 4.3011e-06 - accuracy: 0.8172 - val_loss: 7.3055e-07 - val_accuracy: 0.1091\n",
      "Epoch 52/100\n",
      "184102/184102 [==============================] - 2s 10us/step - loss: 4.2435e-06 - accuracy: 0.8135 - val_loss: 3.0709e-06 - val_accuracy: 0.9644\n",
      "Epoch 53/100\n",
      "184102/184102 [==============================] - 2s 9us/step - loss: 4.3095e-06 - accuracy: 0.8079 - val_loss: 2.7177e-06 - val_accuracy: 0.1779\n",
      "Epoch 54/100\n",
      "184102/184102 [==============================] - 2s 10us/step - loss: 4.2024e-06 - accuracy: 0.8135 - val_loss: 2.8834e-06 - val_accuracy: 0.9282\n",
      "Epoch 55/100\n",
      "184102/184102 [==============================] - 2s 11us/step - loss: 4.1205e-06 - accuracy: 0.8103 - val_loss: 1.6961e-05 - val_accuracy: 0.9632\n",
      "Epoch 56/100\n",
      "184102/184102 [==============================] - 3s 14us/step - loss: 4.1040e-06 - accuracy: 0.8076 - val_loss: 5.3776e-07 - val_accuracy: 0.6063\n",
      "Epoch 57/100\n",
      "184102/184102 [==============================] - 3s 15us/step - loss: 4.0651e-06 - accuracy: 0.8064 - val_loss: 5.8777e-07 - val_accuracy: 0.6997\n",
      "Epoch 58/100\n",
      "184102/184102 [==============================] - 2s 11us/step - loss: 3.9866e-06 - accuracy: 0.8044 - val_loss: 1.0051e-06 - val_accuracy: 0.0946\n",
      "Epoch 59/100\n",
      "184102/184102 [==============================] - 2s 11us/step - loss: 3.9792e-06 - accuracy: 0.8026 - val_loss: 5.1186e-07 - val_accuracy: 0.7138\n",
      "Epoch 60/100\n",
      "184102/184102 [==============================] - 2s 11us/step - loss: 3.9430e-06 - accuracy: 0.8047 - val_loss: 1.9877e-06 - val_accuracy: 0.0613\n",
      "Epoch 61/100\n",
      "184102/184102 [==============================] - 2s 11us/step - loss: 3.9184e-06 - accuracy: 0.7984 - val_loss: 3.8086e-06 - val_accuracy: 0.6078\n",
      "Epoch 62/100\n",
      "184102/184102 [==============================] - 2s 10us/step - loss: 3.9479e-06 - accuracy: 0.8013 - val_loss: 9.0237e-07 - val_accuracy: 0.7771\n",
      "Epoch 63/100\n",
      "184102/184102 [==============================] - 2s 10us/step - loss: 3.8030e-06 - accuracy: 0.7971 - val_loss: 1.0662e-06 - val_accuracy: 0.9524\n",
      "Epoch 64/100\n",
      "184102/184102 [==============================] - 2s 10us/step - loss: 3.7829e-06 - accuracy: 0.7999 - val_loss: 1.4797e-06 - val_accuracy: 0.8850\n",
      "Epoch 65/100\n",
      "184102/184102 [==============================] - 2s 10us/step - loss: 3.7984e-06 - accuracy: 0.7980 - val_loss: 3.1657e-05 - val_accuracy: 0.9830\n",
      "Epoch 66/100\n",
      "184102/184102 [==============================] - 2s 10us/step - loss: 3.7123e-06 - accuracy: 0.7968 - val_loss: 3.1923e-05 - val_accuracy: 0.0534\n",
      "Epoch 67/100\n",
      "184102/184102 [==============================] - 2s 10us/step - loss: 3.8908e-06 - accuracy: 0.7957 - val_loss: 5.2110e-07 - val_accuracy: 0.0862\n",
      "Epoch 68/100\n",
      "184102/184102 [==============================] - 2s 10us/step - loss: 3.6483e-06 - accuracy: 0.7938 - val_loss: 6.9518e-07 - val_accuracy: 0.4350\n",
      "Epoch 69/100\n",
      "184102/184102 [==============================] - 2s 10us/step - loss: 3.5856e-06 - accuracy: 0.7947 - val_loss: 1.0155e-06 - val_accuracy: 0.9534\n",
      "Epoch 70/100\n",
      "184102/184102 [==============================] - 2s 10us/step - loss: 3.6428e-06 - accuracy: 0.7912 - val_loss: 4.0153e-06 - val_accuracy: 0.0561\n",
      "Epoch 71/100\n",
      "184102/184102 [==============================] - 2s 10us/step - loss: 3.5436e-06 - accuracy: 0.7887 - val_loss: 2.4375e-06 - val_accuracy: 0.0908\n",
      "Epoch 72/100\n",
      "184102/184102 [==============================] - 2s 10us/step - loss: 3.5383e-06 - accuracy: 0.7903 - val_loss: 6.1992e-07 - val_accuracy: 0.0923\n",
      "Epoch 73/100\n",
      "184102/184102 [==============================] - 2s 11us/step - loss: 3.5119e-06 - accuracy: 0.7845 - val_loss: 5.0359e-07 - val_accuracy: 0.0782\n",
      "Epoch 74/100\n",
      "184102/184102 [==============================] - 2s 9us/step - loss: 3.4089e-06 - accuracy: 0.7848 - val_loss: 4.8853e-07 - val_accuracy: 0.8229\n",
      "Epoch 75/100\n",
      "184102/184102 [==============================] - 2s 10us/step - loss: 3.4936e-06 - accuracy: 0.7822 - val_loss: 5.2141e-07 - val_accuracy: 0.0917\n",
      "Epoch 76/100\n",
      "184102/184102 [==============================] - 2s 10us/step - loss: 3.4071e-06 - accuracy: 0.7849 - val_loss: 2.6831e-05 - val_accuracy: 0.0215\n",
      "Epoch 77/100\n",
      "184102/184102 [==============================] - 2s 11us/step - loss: 3.4020e-06 - accuracy: 0.7816 - val_loss: 1.0105e-06 - val_accuracy: 0.8349\n",
      "Epoch 78/100\n",
      "184102/184102 [==============================] - 2s 11us/step - loss: 3.3495e-06 - accuracy: 0.7780 - val_loss: 4.3789e-07 - val_accuracy: 0.0663\n",
      "Epoch 79/100\n",
      "184102/184102 [==============================] - 2s 11us/step - loss: 3.3002e-06 - accuracy: 0.7769 - val_loss: 2.3967e-06 - val_accuracy: 0.1402\n",
      "Epoch 80/100\n",
      "184102/184102 [==============================] - 2s 11us/step - loss: 3.3375e-06 - accuracy: 0.7749 - val_loss: 6.1328e-07 - val_accuracy: 0.0561\n",
      "Epoch 81/100\n",
      "184102/184102 [==============================] - 2s 11us/step - loss: 3.1990e-06 - accuracy: 0.7727 - val_loss: 1.7046e-06 - val_accuracy: 0.9520\n",
      "Epoch 82/100\n",
      "184102/184102 [==============================] - 2s 12us/step - loss: 3.1818e-06 - accuracy: 0.7677 - val_loss: 1.5683e-06 - val_accuracy: 0.9206\n",
      "Epoch 83/100\n",
      "184102/184102 [==============================] - 2s 11us/step - loss: 3.1367e-06 - accuracy: 0.7720 - val_loss: 1.6071e-06 - val_accuracy: 0.0490\n",
      "Epoch 84/100\n",
      "184102/184102 [==============================] - 2s 11us/step - loss: 3.1718e-06 - accuracy: 0.7670 - val_loss: 6.6902e-06 - val_accuracy: 0.1357\n",
      "Epoch 85/100\n",
      "184102/184102 [==============================] - 2s 12us/step - loss: 3.1133e-06 - accuracy: 0.7647 - val_loss: 6.0251e-07 - val_accuracy: 0.6034\n",
      "Epoch 86/100\n",
      "184102/184102 [==============================] - 2s 13us/step - loss: 3.0497e-06 - accuracy: 0.7644 - val_loss: 4.7375e-07 - val_accuracy: 0.7755\n",
      "Epoch 87/100\n",
      "184102/184102 [==============================] - 2s 13us/step - loss: 3.0436e-06 - accuracy: 0.7634 - val_loss: 7.5708e-07 - val_accuracy: 0.0354\n",
      "Epoch 88/100\n",
      "184102/184102 [==============================] - 2s 11us/step - loss: 2.9399e-06 - accuracy: 0.7594 - val_loss: 2.1260e-05 - val_accuracy: 0.2311\n",
      "Epoch 89/100\n",
      "184102/184102 [==============================] - 2s 11us/step - loss: 2.9397e-06 - accuracy: 0.7603 - val_loss: 4.9621e-05 - val_accuracy: 0.0832\n",
      "Epoch 90/100\n",
      "184102/184102 [==============================] - 2s 9us/step - loss: 2.9648e-06 - accuracy: 0.7584 - val_loss: 4.6346e-07 - val_accuracy: 0.0360\n",
      "Epoch 91/100\n",
      "184102/184102 [==============================] - 2s 10us/step - loss: 2.9060e-06 - accuracy: 0.7602 - val_loss: 1.0390e-05 - val_accuracy: 0.8377\n",
      "Epoch 92/100\n",
      "184102/184102 [==============================] - 2s 10us/step - loss: 2.8709e-06 - accuracy: 0.7544 - val_loss: 2.9918e-05 - val_accuracy: 0.0812\n",
      "Epoch 93/100\n",
      "184102/184102 [==============================] - 2s 10us/step - loss: 2.7911e-06 - accuracy: 0.7580 - val_loss: 9.7326e-07 - val_accuracy: 0.9860\n",
      "Epoch 94/100\n",
      "184102/184102 [==============================] - 2s 10us/step - loss: 2.7344e-06 - accuracy: 0.7588 - val_loss: 9.6636e-06 - val_accuracy: 0.1037\n",
      "Epoch 95/100\n",
      "184102/184102 [==============================] - 2s 10us/step - loss: 2.6935e-06 - accuracy: 0.7551 - val_loss: 4.2703e-07 - val_accuracy: 0.9819\n",
      "Epoch 96/100\n",
      "184102/184102 [==============================] - 2s 10us/step - loss: 2.7406e-06 - accuracy: 0.7516 - val_loss: 1.0610e-06 - val_accuracy: 0.0381\n",
      "Epoch 97/100\n",
      "184102/184102 [==============================] - 2s 10us/step - loss: 2.5758e-06 - accuracy: 0.7523 - val_loss: 1.9165e-05 - val_accuracy: 0.8505\n",
      "Epoch 98/100\n",
      "184102/184102 [==============================] - 2s 10us/step - loss: 2.6250e-06 - accuracy: 0.7505 - val_loss: 1.7336e-06 - val_accuracy: 0.1602\n",
      "Epoch 99/100\n",
      "184102/184102 [==============================] - 2s 10us/step - loss: 2.5730e-06 - accuracy: 0.7499 - val_loss: 3.7939e-07 - val_accuracy: 0.1070\n",
      "Epoch 100/100\n",
      "184102/184102 [==============================] - 2s 10us/step - loss: 2.5868e-06 - accuracy: 0.7497 - val_loss: 6.2361e-07 - val_accuracy: 0.0581\n"
     ]
    }
   ],
   "source": [
    "history=model.fit(np.array(X_train),np.array(X_train),\n",
    "                  batch_size=BATCH_SIZE, \n",
    "                  epochs=NUM_EPOCHS,\n",
    "                  validation_split=0.05,\n",
    "                  verbose = 1)"
   ]
  },
  {
   "cell_type": "code",
   "execution_count": 13,
   "metadata": {},
   "outputs": [
    {
     "data": {
      "image/png": "[encoded data removed]",
      "text/plain": [
       "<Figure size 432x288 with 1 Axes>"
      ]
     },
     "metadata": {
      "needs_background": "light"
     },
     "output_type": "display_data"
    }
   ],
   "source": [
    "import matplotlib.pyplot as plt\n",
    "\n",
    "plt.plot(history.history['loss'], 'b', label='Training loss')\n",
    "plt.plot(history.history['val_loss'], 'r', label='Validation loss')\n",
    "plt.legend(loc='upper right')\n",
    "plt.xlabel('Epochs')\n",
    "plt.ylabel('Loss, [mse]')\n",
    "plt.ylim([0,.05])\n",
    "plt.show()"
   ]
  },
  {
   "cell_type": "code",
   "execution_count": 14,
   "metadata": {},
   "outputs": [
    {
     "data": {
      "image/png": "[encoded data removed]",
      "text/plain": [
       "<Figure size 432x288 with 1 Axes>"
      ]
     },
     "metadata": {
      "needs_background": "light"
     },
     "output_type": "display_data"
    }
   ],
   "source": [
    "X_pred = model.predict(np.array(X_train))\n",
    "\n",
    "import seaborn as sns\n",
    "\n",
    "scored = np.mean(np.abs(X_pred-X_train), axis = 1)\n",
    "plt.figure()\n",
    "sns.distplot(scored, bins = 10, kde= True, color = 'blue');\n",
    "plt.xlim([0.0,.02])\n",
    "plt.show()"
   ]
  },
  {
   "cell_type": "code",
   "execution_count": 15,
   "metadata": {},
   "outputs": [
    {
     "data": {
      "text/html": [
       "<div>\n",
       "<style scoped>\n",
       "    .dataframe tbody tr th:only-of-type {\n",
       "        vertical-align: middle;\n",
       "    }\n",
       "\n",
       "    .dataframe tbody tr th {\n",
       "        vertical-align: top;\n",
       "    }\n",
       "\n",
       "    .dataframe thead th {\n",
       "        text-align: right;\n",
       "    }\n",
       "</style>\n",
       "<table border=\"1\" class=\"dataframe\">\n",
       "  <thead>\n",
       "    <tr style=\"text-align: right;\">\n",
       "      <th></th>\n",
       "      <th>Loss_mae</th>\n",
       "      <th>Threshold</th>\n",
       "      <th>Anomaly</th>\n",
       "    </tr>\n",
       "  </thead>\n",
       "  <tbody>\n",
       "    <tr>\n",
       "      <th>13002</th>\n",
       "      <td>0.001490</td>\n",
       "      <td>0.005</td>\n",
       "      <td>False</td>\n",
       "    </tr>\n",
       "    <tr>\n",
       "      <th>22845</th>\n",
       "      <td>0.002405</td>\n",
       "      <td>0.005</td>\n",
       "      <td>False</td>\n",
       "    </tr>\n",
       "    <tr>\n",
       "      <th>10961</th>\n",
       "      <td>0.001786</td>\n",
       "      <td>0.005</td>\n",
       "      <td>False</td>\n",
       "    </tr>\n",
       "    <tr>\n",
       "      <th>15502</th>\n",
       "      <td>0.002277</td>\n",
       "      <td>0.005</td>\n",
       "      <td>False</td>\n",
       "    </tr>\n",
       "    <tr>\n",
       "      <th>40374</th>\n",
       "      <td>0.000418</td>\n",
       "      <td>0.005</td>\n",
       "      <td>False</td>\n",
       "    </tr>\n",
       "    <tr>\n",
       "      <th>...</th>\n",
       "      <td>...</td>\n",
       "      <td>...</td>\n",
       "      <td>...</td>\n",
       "    </tr>\n",
       "    <tr>\n",
       "      <th>41453</th>\n",
       "      <td>0.000399</td>\n",
       "      <td>0.005</td>\n",
       "      <td>False</td>\n",
       "    </tr>\n",
       "    <tr>\n",
       "      <th>13961</th>\n",
       "      <td>0.002255</td>\n",
       "      <td>0.005</td>\n",
       "      <td>False</td>\n",
       "    </tr>\n",
       "    <tr>\n",
       "      <th>23069</th>\n",
       "      <td>0.001822</td>\n",
       "      <td>0.005</td>\n",
       "      <td>False</td>\n",
       "    </tr>\n",
       "    <tr>\n",
       "      <th>40604</th>\n",
       "      <td>0.000442</td>\n",
       "      <td>0.005</td>\n",
       "      <td>False</td>\n",
       "    </tr>\n",
       "    <tr>\n",
       "      <th>44594</th>\n",
       "      <td>0.000411</td>\n",
       "      <td>0.005</td>\n",
       "      <td>False</td>\n",
       "    </tr>\n",
       "  </tbody>\n",
       "</table>\n",
       "<p>100 rows × 3 columns</p>\n",
       "</div>"
      ],
      "text/plain": [
       "       Loss_mae  Threshold  Anomaly\n",
       "13002  0.001490      0.005    False\n",
       "22845  0.002405      0.005    False\n",
       "10961  0.001786      0.005    False\n",
       "15502  0.002277      0.005    False\n",
       "40374  0.000418      0.005    False\n",
       "...         ...        ...      ...\n",
       "41453  0.000399      0.005    False\n",
       "13961  0.002255      0.005    False\n",
       "23069  0.001822      0.005    False\n",
       "40604  0.000442      0.005    False\n",
       "44594  0.000411      0.005    False\n",
       "\n",
       "[100 rows x 3 columns]"
      ]
     },
     "execution_count": 15,
     "metadata": {},
     "output_type": "execute_result"
    }
   ],
   "source": [
    "X_pred = model.predict(np.array(X_test))\n",
    "\n",
    "scored = pd.DataFrame()\n",
    "scored['Loss_mae'] = np.mean(np.abs(X_pred-X_test), axis = 1)\n",
    "scored['Threshold'] = 0.005\n",
    "scored['Anomaly'] = scored['Loss_mae'] > scored['Threshold']\n",
    "scored.sample(100)"
   ]
  },
  {
   "cell_type": "code",
   "execution_count": 16,
   "metadata": {},
   "outputs": [],
   "source": [
    "X_pred_train = model.predict(np.array(X_train))\n",
    "X_pred_train = pd.DataFrame(X_pred_train)\n",
    "\n",
    "scored_train = pd.DataFrame()\n",
    "scored_train['Loss_mae'] = np.mean(np.abs(X_pred_train-X_train), axis = 1)\n",
    "scored_train['Threshold'] = 0.005\n",
    "scored_train['Anomaly'] = scored_train['Loss_mae'] > scored_train['Threshold']\n",
    "scored = pd.concat([scored_train, scored])"
   ]
  },
  {
   "cell_type": "code",
   "execution_count": 17,
   "metadata": {},
   "outputs": [
    {
     "data": {
      "text/plain": [
       "<matplotlib.axes._subplots.AxesSubplot at 0x285da3bbec8>"
      ]
     },
     "execution_count": 17,
     "metadata": {},
     "output_type": "execute_result"
    },
    {
     "data": {
      "image/png": "[encoded data removed]",
      "text/plain": [
       "<Figure size 720x432 with 1 Axes>"
      ]
     },
     "metadata": {
      "needs_background": "light"
     },
     "output_type": "display_data"
    }
   ],
   "source": [
    "scored.plot(logy=True,  figsize = (10,6), xlim =[0,1000], ylim = [1e-4,1e-1], color = ['blue','red'])"
   ]
  },
  {
   "cell_type": "code",
   "execution_count": 18,
   "metadata": {},
   "outputs": [
    {
     "data": {
      "text/plain": [
       "0.0013255200029195988"
      ]
     },
     "execution_count": 18,
     "metadata": {},
     "output_type": "execute_result"
    }
   ],
   "source": [
    "scored_train['Loss_mae'].mean()"
   ]
  },
  {
   "cell_type": "code",
   "execution_count": null,
   "metadata": {},
   "outputs": [],
   "source": [
    "scored_train"
   ]
  },
  {
   "cell_type": "code",
   "execution_count": null,
   "metadata": {},
   "outputs": [],
   "source": [
    "scored_train[scored_train['Anomaly'] == True]"
   ]
  }
 ],
 "metadata": {
  "kernelspec": {
   "display_name": "Python 3",
   "language": "python",
   "name": "python3"
  },
  "language_info": {
   "codemirror_mode": {
    "name": "ipython",
    "version": 3
   },
   "file_extension": ".py",
   "mimetype": "text/x-python",
   "name": "python",
   "nbconvert_exporter": "python",
   "pygments_lexer": "ipython3",
   "version": "3.7.4"
  }
 },
 "nbformat": 4,
 "nbformat_minor": 4
}
