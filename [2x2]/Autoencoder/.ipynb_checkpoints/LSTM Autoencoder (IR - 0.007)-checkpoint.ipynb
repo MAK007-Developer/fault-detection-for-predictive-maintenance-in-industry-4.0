{
 "cells": [
  {
   "cell_type": "code",
   "execution_count": 1,
   "metadata": {},
   "outputs": [],
   "source": [
    "#importing packages\n",
    "import pandas as pd\n",
    "import numpy as np"
   ]
  },
  {
   "cell_type": "code",
   "execution_count": 2,
   "metadata": {},
   "outputs": [],
   "source": [
    "Dtrain = pd.read_csv(\"TrainingSet (IR - 7).csv\")\n",
    "Dtest = pd.read_csv(\"TestingSet (IR - 7).csv\")"
   ]
  },
  {
   "cell_type": "code",
   "execution_count": 3,
   "metadata": {},
   "outputs": [
    {
     "data": {
      "text/plain": [
       "Inner Race (0.007\")    96896\n",
       "Normal                 96896\n",
       "Name: Bearing, dtype: int64"
      ]
     },
     "execution_count": 3,
     "metadata": {},
     "output_type": "execute_result"
    }
   ],
   "source": [
    "Dtrain[\"Bearing\"].value_counts()"
   ]
  },
  {
   "cell_type": "code",
   "execution_count": 4,
   "metadata": {},
   "outputs": [
    {
     "data": {
      "text/plain": [
       "Inner Race (0.007\")    50.0\n",
       "Normal                 50.0\n",
       "Name: Bearing, dtype: float64"
      ]
     },
     "execution_count": 4,
     "metadata": {},
     "output_type": "execute_result"
    }
   ],
   "source": [
    "Dtrain[\"Bearing\"].value_counts(normalize=True)*100"
   ]
  },
  {
   "cell_type": "code",
   "execution_count": 5,
   "metadata": {},
   "outputs": [
    {
     "data": {
      "text/plain": [
       "Index(['Bearing', 'Fault Diameter', 'DE', 'FE'], dtype='object')"
      ]
     },
     "execution_count": 5,
     "metadata": {},
     "output_type": "execute_result"
    }
   ],
   "source": [
    "Dtest.columns"
   ]
  },
  {
   "cell_type": "code",
   "execution_count": 6,
   "metadata": {},
   "outputs": [],
   "source": [
    "from sklearn.preprocessing import LabelEncoder, OneHotEncoder\n",
    "from sklearn.compose import ColumnTransformer\n",
    "labelencoder_train = LabelEncoder()\n",
    "Dtrain[\"Bearing\"] = labelencoder_train.fit_transform(Dtrain[\"Bearing\"])\n",
    "ct = ColumnTransformer([(\"Bearing\", OneHotEncoder(), [0])],    remainder = 'passthrough')\n",
    "Dtrain = ct.fit_transform(Dtrain)"
   ]
  },
  {
   "cell_type": "code",
   "execution_count": 7,
   "metadata": {},
   "outputs": [],
   "source": [
    "from sklearn.preprocessing import LabelEncoder, OneHotEncoder\n",
    "from sklearn.compose import ColumnTransformer\n",
    "labelencoder_train = LabelEncoder()\n",
    "Dtest[\"Bearing\"] = labelencoder_train.fit_transform(Dtest[\"Bearing\"])\n",
    "ct = ColumnTransformer([(\"Bearing\", OneHotEncoder(), [0])],    remainder = 'passthrough')\n",
    "Dtest = ct.fit_transform(Dtest)"
   ]
  },
  {
   "cell_type": "code",
   "execution_count": 8,
   "metadata": {},
   "outputs": [],
   "source": [
    "from sklearn.preprocessing import MinMaxScaler\n",
    "scaler = MinMaxScaler()\n",
    "X_train = pd.DataFrame(scaler.fit_transform(Dtrain))\n",
    "# Random shuffle training data\n",
    "X_train.sample(frac=1)\n",
    "\n",
    "X_test = pd.DataFrame(scaler.transform(Dtest))"
   ]
  },
  {
   "cell_type": "raw",
   "metadata": {},
   "source": [
    "X_train = Dtrain.iloc[:,1:4].values\n",
    "y_train = Dtrain.iloc[:,0:1].values\n",
    "\n",
    "X_test = Dtest.iloc[:,1:4].values\n",
    "y_test = Dtest.iloc[:,0:1].values"
   ]
  },
  {
   "cell_type": "code",
   "execution_count": 9,
   "metadata": {},
   "outputs": [
    {
     "data": {
      "text/plain": [
       "(193792, 5)"
      ]
     },
     "execution_count": 9,
     "metadata": {},
     "output_type": "execute_result"
    }
   ],
   "source": [
    "X_train.shape"
   ]
  },
  {
   "cell_type": "code",
   "execution_count": 10,
   "metadata": {},
   "outputs": [],
   "source": [
    "X_train = X_train.values.reshape(-1, 1, 5)\n",
    "\n",
    "X_test  = X_test.values.reshape(-1, 1, 5)"
   ]
  },
  {
   "cell_type": "code",
   "execution_count": 11,
   "metadata": {},
   "outputs": [
    {
     "name": "stderr",
     "output_type": "stream",
     "text": [
      "Using TensorFlow backend.\n"
     ]
    }
   ],
   "source": [
    "from keras.layers import Input, Dropout, Dense, LSTM, RepeatVector, TimeDistributed\n",
    "from keras.models import Model, Sequential, load_model\n",
    "from keras import regularizers"
   ]
  },
  {
   "cell_type": "code",
   "execution_count": 12,
   "metadata": {},
   "outputs": [
    {
     "name": "stdout",
     "output_type": "stream",
     "text": [
      "Model: \"sequential_1\"\n",
      "_________________________________________________________________\n",
      "Layer (type)                 Output Shape              Param #   \n",
      "=================================================================\n",
      "lstm_1 (LSTM)                (None, 128)               68608     \n",
      "_________________________________________________________________\n",
      "dropout_1 (Dropout)          (None, 128)               0         \n",
      "_________________________________________________________________\n",
      "repeat_vector_1 (RepeatVecto (None, 1, 128)            0         \n",
      "_________________________________________________________________\n",
      "lstm_2 (LSTM)                (None, 1, 128)            131584    \n",
      "_________________________________________________________________\n",
      "dropout_2 (Dropout)          (None, 1, 128)            0         \n",
      "_________________________________________________________________\n",
      "time_distributed_1 (TimeDist (None, 1, 5)              645       \n",
      "=================================================================\n",
      "Total params: 200,837\n",
      "Trainable params: 200,837\n",
      "Non-trainable params: 0\n",
      "_________________________________________________________________\n"
     ]
    }
   ],
   "source": [
    "# Input layer:\n",
    "model=Sequential([\n",
    "    LSTM(128, activation='relu', input_shape=(X_train.shape[1],X_train.shape[2])),\n",
    "    Dropout(0.2),\n",
    "    RepeatVector(1),\n",
    "    LSTM(128, activation='relu', return_sequences=True),\n",
    "    Dropout(0.2),\n",
    "    TimeDistributed(Dense(X_train.shape[2]))\n",
    "])\n",
    "\n",
    "model.compile(loss='mse',optimizer='adam' )\n",
    "model.summary()"
   ]
  },
  {
   "cell_type": "code",
   "execution_count": 13,
   "metadata": {},
   "outputs": [
    {
     "name": "stdout",
     "output_type": "stream",
     "text": [
      "Train on 174412 samples, validate on 19380 samples\n",
      "Epoch 1/100\n",
      "174412/174412 [==============================] - 8s 48us/step - loss: 0.3419 - val_loss: 0.3686\n",
      "Epoch 2/100\n",
      "174412/174412 [==============================] - 7s 42us/step - loss: 0.1708 - val_loss: 0.1468\n",
      "Epoch 3/100\n",
      "174412/174412 [==============================] - 7s 42us/step - loss: 0.1084 - val_loss: 0.0506\n",
      "Epoch 4/100\n",
      "174412/174412 [==============================] - 7s 42us/step - loss: 0.0256 - val_loss: 0.0056\n",
      "Epoch 5/100\n",
      "174412/174412 [==============================] - 7s 42us/step - loss: 0.0121 - val_loss: 0.0062\n",
      "Epoch 6/100\n",
      "174412/174412 [==============================] - 7s 42us/step - loss: 0.0099 - val_loss: 0.0049\n",
      "Epoch 7/100\n",
      "174412/174412 [==============================] - 7s 42us/step - loss: 0.0093 - val_loss: 0.0048\n",
      "Epoch 8/100\n",
      "174412/174412 [==============================] - 7s 42us/step - loss: 0.0089 - val_loss: 0.0045\n",
      "Epoch 9/100\n",
      "174412/174412 [==============================] - 7s 42us/step - loss: 0.0087 - val_loss: 0.0044\n",
      "Epoch 10/100\n",
      "174412/174412 [==============================] - 7s 42us/step - loss: 0.0085 - val_loss: 0.0044\n",
      "Epoch 11/100\n",
      "174412/174412 [==============================] - 7s 42us/step - loss: 0.0083 - val_loss: 0.0043\n",
      "Epoch 12/100\n",
      "174412/174412 [==============================] - 7s 43us/step - loss: 0.0083 - val_loss: 0.0043\n",
      "Epoch 13/100\n",
      "174412/174412 [==============================] - 7s 42us/step - loss: 0.0084 - val_loss: 0.0042\n",
      "Epoch 14/100\n",
      "174412/174412 [==============================] - 7s 43us/step - loss: 0.0087 - val_loss: 0.0042\n",
      "Epoch 15/100\n",
      "174412/174412 [==============================] - 7s 42us/step - loss: 0.0094 - val_loss: 0.0043\n",
      "Epoch 16/100\n",
      "174412/174412 [==============================] - 7s 42us/step - loss: 0.0101 - val_loss: 0.0047\n",
      "Epoch 17/100\n",
      "174412/174412 [==============================] - 7s 42us/step - loss: 0.0103 - val_loss: 0.0054\n",
      "Epoch 18/100\n",
      "174412/174412 [==============================] - 7s 42us/step - loss: 0.0095 - val_loss: 0.0055\n",
      "Epoch 19/100\n",
      "174412/174412 [==============================] - 7s 42us/step - loss: 0.0086 - val_loss: 0.0051\n",
      "Epoch 20/100\n",
      "174412/174412 [==============================] - 7s 42us/step - loss: 0.0079 - val_loss: 0.0048\n",
      "Epoch 21/100\n",
      "174412/174412 [==============================] - 7s 42us/step - loss: 0.0075 - val_loss: 0.0045\n",
      "Epoch 22/100\n",
      "174412/174412 [==============================] - 7s 42us/step - loss: 0.0071 - val_loss: 0.0042\n",
      "Epoch 23/100\n",
      "174412/174412 [==============================] - 7s 42us/step - loss: 0.0068 - val_loss: 0.0040\n",
      "Epoch 24/100\n",
      "174412/174412 [==============================] - 7s 42us/step - loss: 0.0065 - val_loss: 0.0037\n",
      "Epoch 25/100\n",
      "174412/174412 [==============================] - 7s 42us/step - loss: 0.0063 - val_loss: 0.0034\n",
      "Epoch 26/100\n",
      "174412/174412 [==============================] - 7s 42us/step - loss: 0.0062 - val_loss: 0.0032\n",
      "Epoch 27/100\n",
      "174412/174412 [==============================] - 7s 42us/step - loss: 0.0061 - val_loss: 0.0030\n",
      "Epoch 28/100\n",
      "174412/174412 [==============================] - 7s 42us/step - loss: 0.0060 - val_loss: 0.0027\n",
      "Epoch 29/100\n",
      "174412/174412 [==============================] - 7s 42us/step - loss: 0.0059 - val_loss: 0.0027\n",
      "Epoch 30/100\n",
      "174412/174412 [==============================] - 7s 42us/step - loss: 0.0058 - val_loss: 0.0025\n",
      "Epoch 31/100\n",
      "174412/174412 [==============================] - 7s 43us/step - loss: 0.0058 - val_loss: 0.0023\n",
      "Epoch 32/100\n",
      "174412/174412 [==============================] - 7s 42us/step - loss: 0.0058 - val_loss: 0.0021\n",
      "Epoch 33/100\n",
      "174412/174412 [==============================] - 8s 44us/step - loss: 0.0059 - val_loss: 0.0021\n",
      "Epoch 34/100\n",
      "174412/174412 [==============================] - 7s 42us/step - loss: 0.0061 - val_loss: 0.0020\n",
      "Epoch 35/100\n",
      "174412/174412 [==============================] - 7s 42us/step - loss: 0.0061 - val_loss: 0.0021\n",
      "Epoch 36/100\n",
      "174412/174412 [==============================] - 7s 42us/step - loss: 0.0062 - val_loss: 0.0020\n",
      "Epoch 37/100\n",
      "174412/174412 [==============================] - 7s 42us/step - loss: 0.0061 - val_loss: 0.0021\n",
      "Epoch 38/100\n",
      "174412/174412 [==============================] - 7s 42us/step - loss: 0.0058 - val_loss: 0.0022\n",
      "Epoch 39/100\n",
      "174412/174412 [==============================] - 7s 42us/step - loss: 0.0054 - val_loss: 0.0019\n",
      "Epoch 40/100\n",
      "174412/174412 [==============================] - 7s 42us/step - loss: 0.0051 - val_loss: 0.0018\n",
      "Epoch 41/100\n",
      "174412/174412 [==============================] - 7s 42us/step - loss: 0.0048 - val_loss: 0.0016\n",
      "Epoch 42/100\n",
      "174412/174412 [==============================] - 7s 43us/step - loss: 0.0046 - val_loss: 0.0015\n",
      "Epoch 43/100\n",
      "174412/174412 [==============================] - 7s 42us/step - loss: 0.0045 - val_loss: 0.0014\n",
      "Epoch 44/100\n",
      "174412/174412 [==============================] - 7s 42us/step - loss: 0.0043 - val_loss: 0.0013\n",
      "Epoch 45/100\n",
      "174412/174412 [==============================] - 7s 42us/step - loss: 0.0042 - val_loss: 0.0012\n",
      "Epoch 46/100\n",
      "174412/174412 [==============================] - 7s 42us/step - loss: 0.0042 - val_loss: 0.0012\n",
      "Epoch 47/100\n",
      "174412/174412 [==============================] - 7s 42us/step - loss: 0.0041 - val_loss: 0.0011\n",
      "Epoch 48/100\n",
      "174412/174412 [==============================] - 7s 42us/step - loss: 0.0041 - val_loss: 0.0010\n",
      "Epoch 49/100\n",
      "174412/174412 [==============================] - 7s 42us/step - loss: 0.0041 - val_loss: 0.0012\n",
      "Epoch 50/100\n",
      "174412/174412 [==============================] - 7s 42us/step - loss: 0.0040 - val_loss: 0.0010\n",
      "Epoch 51/100\n",
      "174412/174412 [==============================] - 7s 42us/step - loss: 0.0040 - val_loss: 0.0011\n",
      "Epoch 52/100\n",
      "174412/174412 [==============================] - 7s 43us/step - loss: 0.0040 - val_loss: 9.9963e-04\n",
      "Epoch 53/100\n",
      "174412/174412 [==============================] - 8s 44us/step - loss: 0.0039 - val_loss: 9.7762e-04\n",
      "Epoch 54/100\n",
      "174412/174412 [==============================] - 7s 42us/step - loss: 0.0040 - val_loss: 9.9035e-04\n",
      "Epoch 55/100\n",
      "174412/174412 [==============================] - 7s 42us/step - loss: 0.0041 - val_loss: 9.9291e-04\n",
      "Epoch 56/100\n",
      "174412/174412 [==============================] - 7s 42us/step - loss: 0.0041 - val_loss: 0.0011\n",
      "Epoch 57/100\n",
      "174412/174412 [==============================] - 7s 42us/step - loss: 0.0041 - val_loss: 0.0011\n",
      "Epoch 58/100\n",
      "174412/174412 [==============================] - 7s 42us/step - loss: 0.0041 - val_loss: 0.0012\n",
      "Epoch 59/100\n",
      "174412/174412 [==============================] - 8s 46us/step - loss: 0.0040 - val_loss: 0.0011\n",
      "Epoch 60/100\n",
      "174412/174412 [==============================] - 8s 46us/step - loss: 0.0038 - val_loss: 0.0011\n",
      "Epoch 61/100\n",
      "174412/174412 [==============================] - 9s 53us/step - loss: 0.0037 - val_loss: 0.0011\n",
      "Epoch 62/100\n",
      "174412/174412 [==============================] - 9s 49us/step - loss: 0.0036 - val_loss: 9.8449e-04\n",
      "Epoch 63/100\n",
      "174412/174412 [==============================] - 9s 49us/step - loss: 0.0035 - val_loss: 0.0010\n",
      "Epoch 64/100\n",
      "174412/174412 [==============================] - 8s 46us/step - loss: 0.0035 - val_loss: 9.2851e-04\n",
      "Epoch 65/100\n",
      "174412/174412 [==============================] - 7s 43us/step - loss: 0.0035 - val_loss: 0.0010\n",
      "Epoch 66/100\n",
      "174412/174412 [==============================] - 7s 43us/step - loss: 0.0036 - val_loss: 9.3073e-04\n",
      "Epoch 67/100\n",
      "174412/174412 [==============================] - 7s 40us/step - loss: 0.0036 - val_loss: 0.0012\n",
      "Epoch 68/100\n",
      "174412/174412 [==============================] - 7s 39us/step - loss: 0.0035 - val_loss: 9.9027e-04\n",
      "Epoch 69/100\n",
      "174412/174412 [==============================] - 7s 39us/step - loss: 0.0035 - val_loss: 0.0010\n",
      "Epoch 70/100\n",
      "174412/174412 [==============================] - 7s 40us/step - loss: 0.0035 - val_loss: 9.4382e-04\n",
      "Epoch 71/100\n",
      "174412/174412 [==============================] - 7s 41us/step - loss: 0.0035 - val_loss: 9.7467e-04\n",
      "Epoch 72/100\n",
      "174412/174412 [==============================] - 7s 41us/step - loss: 0.0035 - val_loss: 9.5122e-04\n",
      "Epoch 73/100\n",
      "174412/174412 [==============================] - 7s 41us/step - loss: 0.0035 - val_loss: 0.0010\n",
      "Epoch 74/100\n",
      "174412/174412 [==============================] - 7s 39us/step - loss: 0.0035 - val_loss: 9.7392e-04\n",
      "Epoch 75/100\n"
     ]
    },
    {
     "name": "stdout",
     "output_type": "stream",
     "text": [
      "174412/174412 [==============================] - 7s 40us/step - loss: 0.0034 - val_loss: 0.0010\n",
      "Epoch 76/100\n",
      "174412/174412 [==============================] - 7s 39us/step - loss: 0.0033 - val_loss: 9.5725e-04\n",
      "Epoch 77/100\n",
      "174412/174412 [==============================] - 7s 38us/step - loss: 0.0032 - val_loss: 0.0010\n",
      "Epoch 78/100\n",
      "174412/174412 [==============================] - 7s 39us/step - loss: 0.0031 - val_loss: 8.9339e-04\n",
      "Epoch 79/100\n",
      "174412/174412 [==============================] - 7s 39us/step - loss: 0.0030 - val_loss: 8.8751e-04\n",
      "Epoch 80/100\n",
      "174412/174412 [==============================] - 7s 39us/step - loss: 0.0030 - val_loss: 8.3907e-04\n",
      "Epoch 81/100\n",
      "174412/174412 [==============================] - 7s 39us/step - loss: 0.0029 - val_loss: 8.1303e-04\n",
      "Epoch 82/100\n",
      "174412/174412 [==============================] - 7s 40us/step - loss: 0.0029 - val_loss: 7.7797e-04\n",
      "Epoch 83/100\n",
      "174412/174412 [==============================] - 7s 40us/step - loss: 0.0029 - val_loss: 7.4833e-04\n",
      "Epoch 84/100\n",
      "174412/174412 [==============================] - 7s 42us/step - loss: 0.0029 - val_loss: 7.0307e-04\n",
      "Epoch 85/100\n",
      "174412/174412 [==============================] - 7s 40us/step - loss: 0.0028 - val_loss: 7.1707e-04\n",
      "Epoch 86/100\n",
      "174412/174412 [==============================] - 7s 40us/step - loss: 0.0029 - val_loss: 7.6722e-04\n",
      "Epoch 87/100\n",
      "174412/174412 [==============================] - 7s 40us/step - loss: 0.0029 - val_loss: 7.0825e-04\n",
      "Epoch 88/100\n",
      "174412/174412 [==============================] - 7s 39us/step - loss: 0.0029 - val_loss: 7.9747e-04\n",
      "Epoch 89/100\n",
      "174412/174412 [==============================] - 7s 40us/step - loss: 0.0028 - val_loss: 7.3326e-04\n",
      "Epoch 90/100\n",
      "174412/174412 [==============================] - 7s 40us/step - loss: 0.0027 - val_loss: 6.9703e-04\n",
      "Epoch 91/100\n",
      "174412/174412 [==============================] - 7s 40us/step - loss: 0.0027 - val_loss: 6.3491e-04\n",
      "Epoch 92/100\n",
      "174412/174412 [==============================] - 7s 40us/step - loss: 0.0026 - val_loss: 6.3804e-04\n",
      "Epoch 93/100\n",
      "174412/174412 [==============================] - 7s 40us/step - loss: 0.0026 - val_loss: 6.1981e-04\n",
      "Epoch 94/100\n",
      "174412/174412 [==============================] - 7s 40us/step - loss: 0.0026 - val_loss: 6.3737e-04\n",
      "Epoch 95/100\n",
      "174412/174412 [==============================] - 7s 41us/step - loss: 0.0025 - val_loss: 6.1261e-04\n",
      "Epoch 96/100\n",
      "174412/174412 [==============================] - 7s 41us/step - loss: 0.0025 - val_loss: 5.9690e-04\n",
      "Epoch 97/100\n",
      "174412/174412 [==============================] - 7s 41us/step - loss: 0.0025 - val_loss: 5.8405e-04\n",
      "Epoch 98/100\n",
      "174412/174412 [==============================] - 7s 40us/step - loss: 0.0024 - val_loss: 5.7557e-04\n",
      "Epoch 99/100\n",
      "174412/174412 [==============================] - 7s 40us/step - loss: 0.0024 - val_loss: 5.6628e-04\n",
      "Epoch 100/100\n",
      "174412/174412 [==============================] - 7s 40us/step - loss: 0.0024 - val_loss: 5.5581e-04\n"
     ]
    }
   ],
   "source": [
    "# Train model for 100 epochs, batch size of 10: \n",
    "NUM_EPOCHS=100\n",
    "BATCH_SIZE=5000\n",
    "\n",
    "history=model.fit(np.array(X_train),np.array(X_train), \n",
    "                  batch_size=BATCH_SIZE, \n",
    "                  epochs=NUM_EPOCHS,\n",
    "                  validation_split=0.1,\n",
    "                  verbose = 1,\n",
    "                  shuffle=False)"
   ]
  },
  {
   "cell_type": "code",
   "execution_count": 14,
   "metadata": {},
   "outputs": [
    {
     "data": {
      "image/png": "[encoded data removed]",
      "text/plain": [
       "<Figure size 432x288 with 1 Axes>"
      ]
     },
     "metadata": {
      "needs_background": "light"
     },
     "output_type": "display_data"
    }
   ],
   "source": [
    "import matplotlib.pyplot as plt\n",
    "\n",
    "plt.plot(history.history['loss'], label='Training loss')\n",
    "plt.plot(history.history['val_loss'], label='Validation loss')\n",
    "plt.legend(loc='upper right')\n",
    "plt.xlabel('Epochs')\n",
    "plt.ylabel('Loss, [mse]')\n",
    "plt.show()"
   ]
  },
  {
   "cell_type": "code",
   "execution_count": 23,
   "metadata": {},
   "outputs": [
    {
     "name": "stdout",
     "output_type": "stream",
     "text": [
      "(193792, 1, 5)\n",
      "(193792, 1, 5)\n"
     ]
    }
   ],
   "source": [
    "print(X_train.shape)\n",
    "print(X_pred.shape)"
   ]
  },
  {
   "cell_type": "code",
   "execution_count": 24,
   "metadata": {},
   "outputs": [
    {
     "data": {
      "image/png": "[encoded data removed]",
      "text/plain": [
       "<Figure size 432x288 with 1 Axes>"
      ]
     },
     "metadata": {
      "needs_background": "light"
     },
     "output_type": "display_data"
    }
   ],
   "source": [
    "X_pred = model.predict(np.array(X_train))\n",
    "X = X_train.reshape(X_train.shape[0],X_train.shape[2])\n",
    "pred = X_pred.reshape(X_pred.shape[0],X_pred.shape[2])\n",
    "import seaborn as sns\n",
    "\n",
    "scored = np.mean(np.abs(pred-X), axis = 1)\n",
    "plt.figure()\n",
    "sns.distplot(scored, bins = 20, kde= True, color = 'blue');\n",
    "plt.show()"
   ]
  },
  {
   "cell_type": "code",
   "execution_count": 25,
   "metadata": {},
   "outputs": [
    {
     "name": "stdout",
     "output_type": "stream",
     "text": [
      "48448/48448 [==============================] - 2s 38us/step\n"
     ]
    },
    {
     "data": {
      "text/plain": [
       "0.0004498623060897965"
      ]
     },
     "execution_count": 25,
     "metadata": {},
     "output_type": "execute_result"
    }
   ],
   "source": [
    "model.evaluate(X_test,X_test)"
   ]
  },
  {
   "cell_type": "code",
   "execution_count": 26,
   "metadata": {},
   "outputs": [],
   "source": [
    "X_pred = model.predict(np.array(X_test))"
   ]
  },
  {
   "cell_type": "code",
   "execution_count": 27,
   "metadata": {},
   "outputs": [],
   "source": [
    "X_pred = X_pred.reshape(48448, 5)\n",
    "X_test = X_test.reshape(48448, 5)"
   ]
  },
  {
   "cell_type": "code",
   "execution_count": 29,
   "metadata": {},
   "outputs": [
    {
     "data": {
      "text/html": [
       "<div>\n",
       "<style scoped>\n",
       "    .dataframe tbody tr th:only-of-type {\n",
       "        vertical-align: middle;\n",
       "    }\n",
       "\n",
       "    .dataframe tbody tr th {\n",
       "        vertical-align: top;\n",
       "    }\n",
       "\n",
       "    .dataframe thead th {\n",
       "        text-align: right;\n",
       "    }\n",
       "</style>\n",
       "<table border=\"1\" class=\"dataframe\">\n",
       "  <thead>\n",
       "    <tr style=\"text-align: right;\">\n",
       "      <th></th>\n",
       "      <th>Loss_mae</th>\n",
       "      <th>Threshold</th>\n",
       "      <th>Anomaly</th>\n",
       "    </tr>\n",
       "  </thead>\n",
       "  <tbody>\n",
       "    <tr>\n",
       "      <th>3449</th>\n",
       "      <td>0.002655</td>\n",
       "      <td>0.08</td>\n",
       "      <td>False</td>\n",
       "    </tr>\n",
       "    <tr>\n",
       "      <th>43513</th>\n",
       "      <td>0.008259</td>\n",
       "      <td>0.08</td>\n",
       "      <td>False</td>\n",
       "    </tr>\n",
       "    <tr>\n",
       "      <th>12564</th>\n",
       "      <td>0.008439</td>\n",
       "      <td>0.08</td>\n",
       "      <td>False</td>\n",
       "    </tr>\n",
       "    <tr>\n",
       "      <th>35853</th>\n",
       "      <td>0.014718</td>\n",
       "      <td>0.08</td>\n",
       "      <td>False</td>\n",
       "    </tr>\n",
       "    <tr>\n",
       "      <th>7631</th>\n",
       "      <td>0.014757</td>\n",
       "      <td>0.08</td>\n",
       "      <td>False</td>\n",
       "    </tr>\n",
       "    <tr>\n",
       "      <th>...</th>\n",
       "      <td>...</td>\n",
       "      <td>...</td>\n",
       "      <td>...</td>\n",
       "    </tr>\n",
       "    <tr>\n",
       "      <th>40513</th>\n",
       "      <td>0.015379</td>\n",
       "      <td>0.08</td>\n",
       "      <td>False</td>\n",
       "    </tr>\n",
       "    <tr>\n",
       "      <th>12938</th>\n",
       "      <td>0.011844</td>\n",
       "      <td>0.08</td>\n",
       "      <td>False</td>\n",
       "    </tr>\n",
       "    <tr>\n",
       "      <th>4948</th>\n",
       "      <td>0.012625</td>\n",
       "      <td>0.08</td>\n",
       "      <td>False</td>\n",
       "    </tr>\n",
       "    <tr>\n",
       "      <th>34786</th>\n",
       "      <td>0.006766</td>\n",
       "      <td>0.08</td>\n",
       "      <td>False</td>\n",
       "    </tr>\n",
       "    <tr>\n",
       "      <th>37136</th>\n",
       "      <td>0.007834</td>\n",
       "      <td>0.08</td>\n",
       "      <td>False</td>\n",
       "    </tr>\n",
       "  </tbody>\n",
       "</table>\n",
       "<p>100 rows × 3 columns</p>\n",
       "</div>"
      ],
      "text/plain": [
       "       Loss_mae  Threshold  Anomaly\n",
       "3449   0.002655       0.08    False\n",
       "43513  0.008259       0.08    False\n",
       "12564  0.008439       0.08    False\n",
       "35853  0.014718       0.08    False\n",
       "7631   0.014757       0.08    False\n",
       "...         ...        ...      ...\n",
       "40513  0.015379       0.08    False\n",
       "12938  0.011844       0.08    False\n",
       "4948   0.012625       0.08    False\n",
       "34786  0.006766       0.08    False\n",
       "37136  0.007834       0.08    False\n",
       "\n",
       "[100 rows x 3 columns]"
      ]
     },
     "execution_count": 29,
     "metadata": {},
     "output_type": "execute_result"
    }
   ],
   "source": [
    "scored = pd.DataFrame()\n",
    "scored['Loss_mae'] = np.mean(np.abs(X_pred-X_test), axis = 1)\n",
    "scored['Threshold'] = 0.08\n",
    "scored['Anomaly'] = scored['Loss_mae'] > scored['Threshold']\n",
    "scored.sample(100)"
   ]
  },
  {
   "cell_type": "code",
   "execution_count": 30,
   "metadata": {},
   "outputs": [],
   "source": [
    "X_pred_train = model.predict(np.array(X_train))"
   ]
  },
  {
   "cell_type": "code",
   "execution_count": 31,
   "metadata": {},
   "outputs": [],
   "source": [
    "X_pred_train = X_pred_train.reshape(193792, 5)\n",
    "X_train = X_train.reshape(193792, 5)"
   ]
  },
  {
   "cell_type": "code",
   "execution_count": 32,
   "metadata": {},
   "outputs": [],
   "source": [
    "X_pred_train = pd.DataFrame(X_pred_train)\n",
    "scored_train = pd.DataFrame()\n",
    "scored_train['Loss_mae'] = np.mean(np.abs(X_pred_train-X_train), axis = 1)\n",
    "scored_train['Threshold'] = 0.08\n",
    "scored_train['Anomaly'] = scored_train['Loss_mae'] > scored_train['Threshold']\n",
    "scored = pd.concat([scored_train, scored])"
   ]
  },
  {
   "cell_type": "code",
   "execution_count": 33,
   "metadata": {},
   "outputs": [
    {
     "data": {
      "text/plain": [
       "0.012623460301181952"
      ]
     },
     "execution_count": 33,
     "metadata": {},
     "output_type": "execute_result"
    }
   ],
   "source": [
    "scored_train['Loss_mae'].mean()"
   ]
  },
  {
   "cell_type": "code",
   "execution_count": 34,
   "metadata": {},
   "outputs": [
    {
     "data": {
      "text/plain": [
       "<matplotlib.axes._subplots.AxesSubplot at 0x2634c2a0b88>"
      ]
     },
     "execution_count": 34,
     "metadata": {},
     "output_type": "execute_result"
    },
    {
     "data": {
      "image/png": "[encoded data removed]",
      "text/plain": [
       "<Figure size 720x432 with 1 Axes>"
      ]
     },
     "metadata": {
      "needs_background": "light"
     },
     "output_type": "display_data"
    }
   ],
   "source": [
    "scored.plot(logy=True,  figsize = (10,6), xlim =[0,1000], ylim = [1e-4,1e-1], color = ['blue','red'])"
   ]
  },
  {
   "cell_type": "code",
   "execution_count": 35,
   "metadata": {},
   "outputs": [
    {
     "data": {
      "text/html": [
       "<div>\n",
       "<style scoped>\n",
       "    .dataframe tbody tr th:only-of-type {\n",
       "        vertical-align: middle;\n",
       "    }\n",
       "\n",
       "    .dataframe tbody tr th {\n",
       "        vertical-align: top;\n",
       "    }\n",
       "\n",
       "    .dataframe thead th {\n",
       "        text-align: right;\n",
       "    }\n",
       "</style>\n",
       "<table border=\"1\" class=\"dataframe\">\n",
       "  <thead>\n",
       "    <tr style=\"text-align: right;\">\n",
       "      <th></th>\n",
       "      <th>Loss_mae</th>\n",
       "      <th>Threshold</th>\n",
       "      <th>Anomaly</th>\n",
       "    </tr>\n",
       "  </thead>\n",
       "  <tbody>\n",
       "    <tr>\n",
       "      <th>0</th>\n",
       "      <td>0.006803</td>\n",
       "      <td>0.08</td>\n",
       "      <td>False</td>\n",
       "    </tr>\n",
       "    <tr>\n",
       "      <th>1</th>\n",
       "      <td>0.012338</td>\n",
       "      <td>0.08</td>\n",
       "      <td>False</td>\n",
       "    </tr>\n",
       "    <tr>\n",
       "      <th>2</th>\n",
       "      <td>0.016080</td>\n",
       "      <td>0.08</td>\n",
       "      <td>False</td>\n",
       "    </tr>\n",
       "    <tr>\n",
       "      <th>3</th>\n",
       "      <td>0.018292</td>\n",
       "      <td>0.08</td>\n",
       "      <td>False</td>\n",
       "    </tr>\n",
       "    <tr>\n",
       "      <th>4</th>\n",
       "      <td>0.014557</td>\n",
       "      <td>0.08</td>\n",
       "      <td>False</td>\n",
       "    </tr>\n",
       "    <tr>\n",
       "      <th>...</th>\n",
       "      <td>...</td>\n",
       "      <td>...</td>\n",
       "      <td>...</td>\n",
       "    </tr>\n",
       "    <tr>\n",
       "      <th>193787</th>\n",
       "      <td>0.109627</td>\n",
       "      <td>0.08</td>\n",
       "      <td>True</td>\n",
       "    </tr>\n",
       "    <tr>\n",
       "      <th>193788</th>\n",
       "      <td>0.014483</td>\n",
       "      <td>0.08</td>\n",
       "      <td>False</td>\n",
       "    </tr>\n",
       "    <tr>\n",
       "      <th>193789</th>\n",
       "      <td>0.061242</td>\n",
       "      <td>0.08</td>\n",
       "      <td>False</td>\n",
       "    </tr>\n",
       "    <tr>\n",
       "      <th>193790</th>\n",
       "      <td>0.012383</td>\n",
       "      <td>0.08</td>\n",
       "      <td>False</td>\n",
       "    </tr>\n",
       "    <tr>\n",
       "      <th>193791</th>\n",
       "      <td>0.057899</td>\n",
       "      <td>0.08</td>\n",
       "      <td>False</td>\n",
       "    </tr>\n",
       "  </tbody>\n",
       "</table>\n",
       "<p>193792 rows × 3 columns</p>\n",
       "</div>"
      ],
      "text/plain": [
       "        Loss_mae  Threshold  Anomaly\n",
       "0       0.006803       0.08    False\n",
       "1       0.012338       0.08    False\n",
       "2       0.016080       0.08    False\n",
       "3       0.018292       0.08    False\n",
       "4       0.014557       0.08    False\n",
       "...          ...        ...      ...\n",
       "193787  0.109627       0.08     True\n",
       "193788  0.014483       0.08    False\n",
       "193789  0.061242       0.08    False\n",
       "193790  0.012383       0.08    False\n",
       "193791  0.057899       0.08    False\n",
       "\n",
       "[193792 rows x 3 columns]"
      ]
     },
     "execution_count": 35,
     "metadata": {},
     "output_type": "execute_result"
    }
   ],
   "source": [
    "scored_train"
   ]
  },
  {
   "cell_type": "code",
   "execution_count": 36,
   "metadata": {},
   "outputs": [
    {
     "data": {
      "text/html": [
       "<div>\n",
       "<style scoped>\n",
       "    .dataframe tbody tr th:only-of-type {\n",
       "        vertical-align: middle;\n",
       "    }\n",
       "\n",
       "    .dataframe tbody tr th {\n",
       "        vertical-align: top;\n",
       "    }\n",
       "\n",
       "    .dataframe thead th {\n",
       "        text-align: right;\n",
       "    }\n",
       "</style>\n",
       "<table border=\"1\" class=\"dataframe\">\n",
       "  <thead>\n",
       "    <tr style=\"text-align: right;\">\n",
       "      <th></th>\n",
       "      <th>Loss_mae</th>\n",
       "      <th>Threshold</th>\n",
       "      <th>Anomaly</th>\n",
       "    </tr>\n",
       "  </thead>\n",
       "  <tbody>\n",
       "    <tr>\n",
       "      <th>97025</th>\n",
       "      <td>0.093832</td>\n",
       "      <td>0.08</td>\n",
       "      <td>True</td>\n",
       "    </tr>\n",
       "    <tr>\n",
       "      <th>97406</th>\n",
       "      <td>0.093468</td>\n",
       "      <td>0.08</td>\n",
       "      <td>True</td>\n",
       "    </tr>\n",
       "    <tr>\n",
       "      <th>98245</th>\n",
       "      <td>0.101498</td>\n",
       "      <td>0.08</td>\n",
       "      <td>True</td>\n",
       "    </tr>\n",
       "    <tr>\n",
       "      <th>98626</th>\n",
       "      <td>0.090021</td>\n",
       "      <td>0.08</td>\n",
       "      <td>True</td>\n",
       "    </tr>\n",
       "    <tr>\n",
       "      <th>99083</th>\n",
       "      <td>0.084043</td>\n",
       "      <td>0.08</td>\n",
       "      <td>True</td>\n",
       "    </tr>\n",
       "    <tr>\n",
       "      <th>...</th>\n",
       "      <td>...</td>\n",
       "      <td>...</td>\n",
       "      <td>...</td>\n",
       "    </tr>\n",
       "    <tr>\n",
       "      <th>192187</th>\n",
       "      <td>0.087132</td>\n",
       "      <td>0.08</td>\n",
       "      <td>True</td>\n",
       "    </tr>\n",
       "    <tr>\n",
       "      <th>192568</th>\n",
       "      <td>0.091427</td>\n",
       "      <td>0.08</td>\n",
       "      <td>True</td>\n",
       "    </tr>\n",
       "    <tr>\n",
       "      <th>192949</th>\n",
       "      <td>0.096288</td>\n",
       "      <td>0.08</td>\n",
       "      <td>True</td>\n",
       "    </tr>\n",
       "    <tr>\n",
       "      <th>193407</th>\n",
       "      <td>0.090104</td>\n",
       "      <td>0.08</td>\n",
       "      <td>True</td>\n",
       "    </tr>\n",
       "    <tr>\n",
       "      <th>193787</th>\n",
       "      <td>0.109627</td>\n",
       "      <td>0.08</td>\n",
       "      <td>True</td>\n",
       "    </tr>\n",
       "  </tbody>\n",
       "</table>\n",
       "<p>208 rows × 3 columns</p>\n",
       "</div>"
      ],
      "text/plain": [
       "        Loss_mae  Threshold  Anomaly\n",
       "97025   0.093832       0.08     True\n",
       "97406   0.093468       0.08     True\n",
       "98245   0.101498       0.08     True\n",
       "98626   0.090021       0.08     True\n",
       "99083   0.084043       0.08     True\n",
       "...          ...        ...      ...\n",
       "192187  0.087132       0.08     True\n",
       "192568  0.091427       0.08     True\n",
       "192949  0.096288       0.08     True\n",
       "193407  0.090104       0.08     True\n",
       "193787  0.109627       0.08     True\n",
       "\n",
       "[208 rows x 3 columns]"
      ]
     },
     "execution_count": 36,
     "metadata": {},
     "output_type": "execute_result"
    }
   ],
   "source": [
    "scored_train[scored_train['Anomaly'] == True]"
   ]
  },
  {
   "cell_type": "code",
   "execution_count": null,
   "metadata": {},
   "outputs": [],
   "source": []
  }
 ],
 "metadata": {
  "kernelspec": {
   "display_name": "Python 3",
   "language": "python",
   "name": "python3"
  },
  "language_info": {
   "codemirror_mode": {
    "name": "ipython",
    "version": 3
   },
   "file_extension": ".py",
   "mimetype": "text/x-python",
   "name": "python",
   "nbconvert_exporter": "python",
   "pygments_lexer": "ipython3",
   "version": "3.7.4"
  }
 },
 "nbformat": 4,
 "nbformat_minor": 4
}
