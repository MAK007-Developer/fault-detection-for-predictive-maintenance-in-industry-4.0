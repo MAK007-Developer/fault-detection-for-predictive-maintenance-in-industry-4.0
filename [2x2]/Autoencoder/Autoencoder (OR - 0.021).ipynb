{
 "cells": [
  {
   "cell_type": "code",
   "execution_count": 1,
   "metadata": {},
   "outputs": [],
   "source": [
    "#importing packages\n",
    "import pandas as pd\n",
    "import numpy as np"
   ]
  },
  {
   "cell_type": "code",
   "execution_count": 2,
   "metadata": {},
   "outputs": [],
   "source": [
    "Dtrain = pd.read_csv(\"TrainingSet (OR - 21).csv\")\n",
    "#Dtrain = Dtrain.iloc[:,0:4].values\n",
    "Dtest = pd.read_csv(\"TestingSet (OR - 21).csv\")"
   ]
  },
  {
   "cell_type": "code",
   "execution_count": 3,
   "metadata": {},
   "outputs": [
    {
     "data": {
      "text/plain": [
       "Outer Race (0.021\")    96896\n",
       "Normal                 96896\n",
       "Name: Bearing, dtype: int64"
      ]
     },
     "execution_count": 3,
     "metadata": {},
     "output_type": "execute_result"
    }
   ],
   "source": [
    "Dtrain[\"Bearing\"].value_counts()"
   ]
  },
  {
   "cell_type": "code",
   "execution_count": 4,
   "metadata": {},
   "outputs": [
    {
     "data": {
      "text/plain": [
       "Outer Race (0.021\")    50.0\n",
       "Normal                 50.0\n",
       "Name: Bearing, dtype: float64"
      ]
     },
     "execution_count": 4,
     "metadata": {},
     "output_type": "execute_result"
    }
   ],
   "source": [
    "Dtrain[\"Bearing\"].value_counts(normalize=True)*100"
   ]
  },
  {
   "cell_type": "code",
   "execution_count": 5,
   "metadata": {},
   "outputs": [
    {
     "data": {
      "text/plain": [
       "Index(['Bearing', 'Fault Diameter', 'DE', 'FE'], dtype='object')"
      ]
     },
     "execution_count": 5,
     "metadata": {},
     "output_type": "execute_result"
    }
   ],
   "source": [
    "Dtest.columns"
   ]
  },
  {
   "cell_type": "code",
   "execution_count": 6,
   "metadata": {},
   "outputs": [],
   "source": [
    "from sklearn.preprocessing import LabelEncoder, OneHotEncoder\n",
    "from sklearn.compose import ColumnTransformer\n",
    "labelencoder_train = LabelEncoder()\n",
    "Dtrain[\"Bearing\"] = labelencoder_train.fit_transform(Dtrain[\"Bearing\"])\n",
    "ct = ColumnTransformer([(\"Bearing\", OneHotEncoder(), [0])],    remainder = 'passthrough')\n",
    "Dtrain = ct.fit_transform(Dtrain)"
   ]
  },
  {
   "cell_type": "code",
   "execution_count": 7,
   "metadata": {},
   "outputs": [],
   "source": [
    "from sklearn.preprocessing import LabelEncoder, OneHotEncoder\n",
    "from sklearn.compose import ColumnTransformer\n",
    "labelencoder_train = LabelEncoder()\n",
    "Dtest[\"Bearing\"] = labelencoder_train.fit_transform(Dtest[\"Bearing\"])\n",
    "ct = ColumnTransformer([(\"Bearing\", OneHotEncoder(), [0])],    remainder = 'passthrough')\n",
    "Dtest = ct.fit_transform(Dtest)"
   ]
  },
  {
   "cell_type": "code",
   "execution_count": 8,
   "metadata": {},
   "outputs": [],
   "source": [
    "from sklearn.preprocessing import MinMaxScaler\n",
    "scaler = MinMaxScaler()\n",
    "X_train = pd.DataFrame(scaler.fit_transform(Dtrain))\n",
    "# Random shuffle training data\n",
    "X_train.sample(frac=1)\n",
    "\n",
    "X_test = pd.DataFrame(scaler.transform(Dtest))\n",
    "\n"
   ]
  },
  {
   "cell_type": "code",
   "execution_count": 9,
   "metadata": {},
   "outputs": [
    {
     "name": "stderr",
     "output_type": "stream",
     "text": [
      "Using TensorFlow backend.\n"
     ]
    }
   ],
   "source": [
    "from keras.layers import Input, Dropout\n",
    "from keras.layers.core import Dense \n",
    "from keras.models import Model, Sequential, load_model\n",
    "from keras import regularizers"
   ]
  },
  {
   "cell_type": "code",
   "execution_count": 10,
   "metadata": {},
   "outputs": [],
   "source": [
    "import tensorflow as tf\n",
    "from numpy.random import seed\n",
    "seed(10)\n",
    "tf.random.set_seed(10)\n",
    "act_func = 'elu'"
   ]
  },
  {
   "cell_type": "code",
   "execution_count": 11,
   "metadata": {},
   "outputs": [],
   "source": [
    "# Input layer:\n",
    "model=Sequential()\n",
    "# First hidden layer, connected to input vector X. \n",
    "model.add(Dense(6,activation=act_func,\n",
    "                kernel_initializer='glorot_uniform',\n",
    "                kernel_regularizer=regularizers.l2(0.0),\n",
    "                input_shape=(X_train.shape[1],)\n",
    "               )\n",
    "         )\n",
    "\n",
    "model.add(Dense(2,activation=act_func,\n",
    "                kernel_initializer='glorot_uniform'))\n",
    "\n",
    "model.add(Dense(6,activation=act_func,\n",
    "                kernel_initializer='glorot_uniform'))\n",
    "\n",
    "model.add(Dense(X_train.shape[1],\n",
    "                kernel_initializer='glorot_uniform'))\n",
    "\n",
    "model.compile(loss='mse',optimizer='adam', metrics=['accuracy'] )\n",
    "\n",
    "# Train model for 100 epochs, batch size of 10: \n",
    "NUM_EPOCHS=100\n",
    "BATCH_SIZE=100"
   ]
  },
  {
   "cell_type": "code",
   "execution_count": 12,
   "metadata": {},
   "outputs": [
    {
     "name": "stdout",
     "output_type": "stream",
     "text": [
      "Train on 184102 samples, validate on 9690 samples\n",
      "Epoch 1/100\n",
      "184102/184102 [==============================] - 8s 46us/step - loss: 0.0467 - accuracy: 0.7158 - val_loss: 7.4933e-04 - val_accuracy: 0.4499\n",
      "Epoch 2/100\n",
      "184102/184102 [==============================] - 7s 37us/step - loss: 4.1682e-04 - accuracy: 0.7640 - val_loss: 7.3686e-04 - val_accuracy: 0.4351\n",
      "Epoch 3/100\n",
      "184102/184102 [==============================] - 7s 37us/step - loss: 4.0268e-04 - accuracy: 0.7679 - val_loss: 6.9955e-04 - val_accuracy: 0.2366\n",
      "Epoch 4/100\n",
      "184102/184102 [==============================] - 7s 39us/step - loss: 3.6636e-04 - accuracy: 0.7690 - val_loss: 6.0589e-04 - val_accuracy: 0.6320\n",
      "Epoch 5/100\n",
      "184102/184102 [==============================] - 7s 38us/step - loss: 2.9898e-04 - accuracy: 0.7836 - val_loss: 4.4449e-04 - val_accuracy: 0.6431\n",
      "Epoch 6/100\n",
      "184102/184102 [==============================] - 7s 36us/step - loss: 1.6290e-04 - accuracy: 0.8047 - val_loss: 9.4947e-05 - val_accuracy: 0.4028\n",
      "Epoch 7/100\n",
      "184102/184102 [==============================] - 7s 36us/step - loss: 4.5634e-05 - accuracy: 0.7860 - val_loss: 2.1020e-05 - val_accuracy: 0.2601\n",
      "Epoch 8/100\n",
      "184102/184102 [==============================] - 7s 36us/step - loss: 2.8331e-05 - accuracy: 0.7962 - val_loss: 9.7454e-06 - val_accuracy: 0.6432\n",
      "Epoch 9/100\n",
      "184102/184102 [==============================] - 6s 34us/step - loss: 2.2617e-05 - accuracy: 0.7982 - val_loss: 8.5800e-06 - val_accuracy: 0.9326\n",
      "Epoch 10/100\n",
      "184102/184102 [==============================] - 7s 36us/step - loss: 1.8979e-05 - accuracy: 0.8031 - val_loss: 6.8979e-06 - val_accuracy: 0.8512\n",
      "Epoch 11/100\n",
      "184102/184102 [==============================] - 7s 36us/step - loss: 1.5723e-05 - accuracy: 0.7791 - val_loss: 5.3759e-06 - val_accuracy: 0.1676\n",
      "Epoch 12/100\n",
      "184102/184102 [==============================] - 7s 36us/step - loss: 1.3283e-05 - accuracy: 0.7757 - val_loss: 4.6651e-06 - val_accuracy: 0.4097\n",
      "Epoch 13/100\n",
      "184102/184102 [==============================] - 7s 36us/step - loss: 1.1494e-05 - accuracy: 0.7845 - val_loss: 4.7558e-06 - val_accuracy: 0.4942\n",
      "Epoch 14/100\n",
      "184102/184102 [==============================] - 7s 36us/step - loss: 1.0359e-05 - accuracy: 0.7989 - val_loss: 4.6571e-06 - val_accuracy: 0.6875\n",
      "Epoch 15/100\n",
      "184102/184102 [==============================] - 7s 36us/step - loss: 9.4932e-06 - accuracy: 0.8091 - val_loss: 3.7886e-06 - val_accuracy: 0.2475\n",
      "Epoch 16/100\n",
      "184102/184102 [==============================] - 7s 36us/step - loss: 9.0469e-06 - accuracy: 0.8130 - val_loss: 3.9476e-06 - val_accuracy: 0.2622\n",
      "Epoch 17/100\n",
      "184102/184102 [==============================] - 7s 36us/step - loss: 8.7073e-06 - accuracy: 0.8159 - val_loss: 4.9561e-06 - val_accuracy: 0.2953\n",
      "Epoch 18/100\n",
      "184102/184102 [==============================] - 7s 36us/step - loss: 8.1795e-06 - accuracy: 0.8200 - val_loss: 4.7068e-06 - val_accuracy: 0.6018\n",
      "Epoch 19/100\n",
      "184102/184102 [==============================] - 7s 37us/step - loss: 7.9860e-06 - accuracy: 0.8220 - val_loss: 2.5934e-06 - val_accuracy: 0.6819\n",
      "Epoch 20/100\n",
      "184102/184102 [==============================] - 6s 35us/step - loss: 7.5113e-06 - accuracy: 0.8211 - val_loss: 5.8989e-06 - val_accuracy: 0.8969\n",
      "Epoch 21/100\n",
      "184102/184102 [==============================] - 7s 36us/step - loss: 7.1874e-06 - accuracy: 0.8239 - val_loss: 2.5191e-06 - val_accuracy: 0.5510\n",
      "Epoch 22/100\n",
      "184102/184102 [==============================] - 7s 36us/step - loss: 7.0634e-06 - accuracy: 0.8216 - val_loss: 2.3388e-06 - val_accuracy: 0.7149\n",
      "Epoch 23/100\n",
      "184102/184102 [==============================] - 7s 36us/step - loss: 6.7550e-06 - accuracy: 0.8236 - val_loss: 4.1800e-06 - val_accuracy: 0.2020\n",
      "Epoch 24/100\n",
      "184102/184102 [==============================] - 7s 35us/step - loss: 6.5465e-06 - accuracy: 0.8183 - val_loss: 2.4264e-06 - val_accuracy: 0.8345\n",
      "Epoch 25/100\n",
      "184102/184102 [==============================] - 6s 35us/step - loss: 6.4185e-06 - accuracy: 0.8252 - val_loss: 1.6900e-05 - val_accuracy: 0.6359\n",
      "Epoch 26/100\n",
      "184102/184102 [==============================] - 7s 36us/step - loss: 6.1958e-06 - accuracy: 0.8228 - val_loss: 3.7691e-06 - val_accuracy: 0.6287\n",
      "Epoch 27/100\n",
      "184102/184102 [==============================] - 6s 35us/step - loss: 6.0234e-06 - accuracy: 0.8222 - val_loss: 1.5481e-06 - val_accuracy: 0.04920\n",
      "Epoch 28/100\n",
      "184102/184102 [==============================] - 7s 36us/step - loss: 6.0313e-06 - accuracy: 0.8195 - val_loss: 8.4542e-06 - val_accuracy: 0.9632\n",
      "Epoch 29/100\n",
      "184102/184102 [==============================] - 7s 35us/step - loss: 5.8470e-06 - accuracy: 0.8205 - val_loss: 5.0794e-06 - val_accuracy: 0.9283\n",
      "Epoch 30/100\n",
      "184102/184102 [==============================] - 7s 36us/step - loss: 5.7491e-06 - accuracy: 0.8242 - val_loss: 1.4958e-06 - val_accuracy: 0.9263\n",
      "Epoch 31/100\n",
      "184102/184102 [==============================] - 6s 35us/step - loss: 5.5400e-06 - accuracy: 0.8250 - val_loss: 2.4872e-06 - val_accuracy: 0.9409\n",
      "Epoch 32/100\n",
      "184102/184102 [==============================] - 7s 36us/step - loss: 5.4881e-06 - accuracy: 0.8159 - val_loss: 1.0318e-06 - val_accuracy: 0.0841\n",
      "Epoch 33/100\n",
      "184102/184102 [==============================] - 7s 36us/step - loss: 5.3322e-06 - accuracy: 0.8226 - val_loss: 2.8588e-06 - val_accuracy: 0.9198\n",
      "Epoch 34/100\n",
      "184102/184102 [==============================] - 7s 36us/step - loss: 5.3075e-06 - accuracy: 0.8205 - val_loss: 1.0612e-06 - val_accuracy: 0.2220\n",
      "Epoch 35/100\n",
      "184102/184102 [==============================] - 7s 37us/step - loss: 5.2706e-06 - accuracy: 0.8209 - val_loss: 3.7648e-06 - val_accuracy: 0.9455\n",
      "Epoch 36/100\n",
      "184102/184102 [==============================] - 7s 36us/step - loss: 5.1056e-06 - accuracy: 0.8193 - val_loss: 8.4729e-07 - val_accuracy: 0.5399\n",
      "Epoch 37/100\n",
      "184102/184102 [==============================] - 6s 35us/step - loss: 5.1509e-06 - accuracy: 0.8187 - val_loss: 2.2967e-06 - val_accuracy: 0.9200\n",
      "Epoch 38/100\n",
      "184102/184102 [==============================] - 7s 36us/step - loss: 4.9790e-06 - accuracy: 0.8208 - val_loss: 8.1171e-07 - val_accuracy: 0.4076\n",
      "Epoch 39/100\n",
      "184102/184102 [==============================] - 7s 36us/step - loss: 4.9088e-06 - accuracy: 0.8147 - val_loss: 9.6975e-07 - val_accuracy: 0.0539\n",
      "Epoch 40/100\n",
      "184102/184102 [==============================] - 7s 37us/step - loss: 4.8541e-06 - accuracy: 0.8169 - val_loss: 7.2580e-06 - val_accuracy: 0.0445\n",
      "Epoch 41/100\n",
      "184102/184102 [==============================] - 7s 37us/step - loss: 4.8745e-06 - accuracy: 0.8192 - val_loss: 2.4211e-06 - val_accuracy: 0.4772\n",
      "Epoch 42/100\n",
      "184102/184102 [==============================] - 6s 35us/step - loss: 4.7697e-06 - accuracy: 0.8146 - val_loss: 3.7228e-05 - val_accuracy: 0.5165\n",
      "Epoch 43/100\n",
      "184102/184102 [==============================] - 7s 38us/step - loss: 4.7452e-06 - accuracy: 0.8199 - val_loss: 1.7757e-06 - val_accuracy: 0.3662\n",
      "Epoch 44/100\n",
      "184102/184102 [==============================] - 7s 36us/step - loss: 4.6106e-06 - accuracy: 0.8176 - val_loss: 7.9667e-07 - val_accuracy: 0.8753\n",
      "Epoch 45/100\n",
      "184102/184102 [==============================] - 7s 36us/step - loss: 4.6045e-06 - accuracy: 0.8136 - val_loss: 3.4635e-06 - val_accuracy: 0.4980\n",
      "Epoch 46/100\n",
      "184102/184102 [==============================] - 7s 37us/step - loss: 4.5863e-06 - accuracy: 0.8150 - val_loss: 7.9945e-07 - val_accuracy: 0.8428\n",
      "Epoch 47/100\n",
      "184102/184102 [==============================] - 6s 35us/step - loss: 4.4763e-06 - accuracy: 0.8144 - val_loss: 7.7187e-07 - val_accuracy: 0.8043\n",
      "Epoch 48/100\n",
      "184102/184102 [==============================] - 7s 37us/step - loss: 4.4308e-06 - accuracy: 0.8084 - val_loss: 7.4030e-07 - val_accuracy: 0.7125\n",
      "Epoch 49/100\n",
      "184102/184102 [==============================] - 7s 37us/step - loss: 4.3639e-06 - accuracy: 0.8111 - val_loss: 8.2628e-07 - val_accuracy: 0.4385\n",
      "Epoch 50/100\n",
      "184102/184102 [==============================] - 7s 37us/step - loss: 4.3989e-06 - accuracy: 0.8119 - val_loss: 7.6789e-07 - val_accuracy: 0.1493\n",
      "Epoch 51/100\n",
      "184102/184102 [==============================] - 7s 37us/step - loss: 4.3008e-06 - accuracy: 0.8174 - val_loss: 7.2826e-07 - val_accuracy: 0.1093\n",
      "Epoch 52/100\n"
     ]
    },
    {
     "name": "stdout",
     "output_type": "stream",
     "text": [
      "184102/184102 [==============================] - 7s 36us/step - loss: 4.2431e-06 - accuracy: 0.8137 - val_loss: 3.0713e-06 - val_accuracy: 0.9644\n",
      "Epoch 53/100\n",
      "184102/184102 [==============================] - 7s 36us/step - loss: 4.3090e-06 - accuracy: 0.8081 - val_loss: 2.7114e-06 - val_accuracy: 0.1785\n",
      "Epoch 54/100\n",
      "184102/184102 [==============================] - 7s 36us/step - loss: 4.2018e-06 - accuracy: 0.8136 - val_loss: 2.8809e-06 - val_accuracy: 0.9283\n",
      "Epoch 55/100\n",
      "184102/184102 [==============================] - 7s 36us/step - loss: 4.1200e-06 - accuracy: 0.8105 - val_loss: 1.6917e-05 - val_accuracy: 0.9632\n",
      "Epoch 56/100\n",
      "184102/184102 [==============================] - 7s 38us/step - loss: 4.1034e-06 - accuracy: 0.8078 - val_loss: 5.3744e-07 - val_accuracy: 0.6079\n",
      "Epoch 57/100\n",
      "184102/184102 [==============================] - 7s 37us/step - loss: 4.0645e-06 - accuracy: 0.8066 - val_loss: 5.8762e-07 - val_accuracy: 0.7000\n",
      "Epoch 58/100\n",
      "184102/184102 [==============================] - 7s 39us/step - loss: 3.9861e-06 - accuracy: 0.8048 - val_loss: 1.0093e-06 - val_accuracy: 0.0944\n",
      "Epoch 59/100\n",
      "184102/184102 [==============================] - 7s 37us/step - loss: 3.9786e-06 - accuracy: 0.8029 - val_loss: 5.1156e-07 - val_accuracy: 0.7138\n",
      "Epoch 60/100\n",
      "184102/184102 [==============================] - 7s 37us/step - loss: 3.9423e-06 - accuracy: 0.8049 - val_loss: 1.9837e-06 - val_accuracy: 0.0614\n",
      "Epoch 61/100\n",
      "184102/184102 [==============================] - 7s 37us/step - loss: 3.9176e-06 - accuracy: 0.7986 - val_loss: 3.8091e-06 - val_accuracy: 0.6093\n",
      "Epoch 62/100\n",
      "184102/184102 [==============================] - 7s 36us/step - loss: 3.9472e-06 - accuracy: 0.8016 - val_loss: 9.0237e-07 - val_accuracy: 0.7776\n",
      "Epoch 63/100\n",
      "184102/184102 [==============================] - 7s 36us/step - loss: 3.8022e-06 - accuracy: 0.7974 - val_loss: 1.0650e-06 - val_accuracy: 0.9522\n",
      "Epoch 64/100\n",
      "184102/184102 [==============================] - 7s 36us/step - loss: 3.7821e-06 - accuracy: 0.8003 - val_loss: 1.4762e-06 - val_accuracy: 0.8854\n",
      "Epoch 65/100\n",
      "184102/184102 [==============================] - 7s 37us/step - loss: 3.7974e-06 - accuracy: 0.7982 - val_loss: 3.1629e-05 - val_accuracy: 0.9830\n",
      "Epoch 66/100\n",
      "184102/184102 [==============================] - 7s 36us/step - loss: 3.7114e-06 - accuracy: 0.7970 - val_loss: 3.1892e-05 - val_accuracy: 0.0531\n",
      "Epoch 67/100\n",
      "184102/184102 [==============================] - 7s 37us/step - loss: 3.8898e-06 - accuracy: 0.7961 - val_loss: 5.2137e-07 - val_accuracy: 0.0867\n",
      "Epoch 68/100\n",
      "184102/184102 [==============================] - 7s 37us/step - loss: 3.6473e-06 - accuracy: 0.7941 - val_loss: 6.9481e-07 - val_accuracy: 0.4363\n",
      "Epoch 69/100\n",
      "184102/184102 [==============================] - 7s 37us/step - loss: 3.5846e-06 - accuracy: 0.7950 - val_loss: 1.0179e-06 - val_accuracy: 0.9533\n",
      "Epoch 70/100\n",
      "184102/184102 [==============================] - 7s 35us/step - loss: 3.6418e-06 - accuracy: 0.7915 - val_loss: 4.0185e-06 - val_accuracy: 0.0558\n",
      "Epoch 71/100\n",
      "184102/184102 [==============================] - 7s 37us/step - loss: 3.5425e-06 - accuracy: 0.7892 - val_loss: 2.4376e-06 - val_accuracy: 0.0916\n",
      "Epoch 72/100\n",
      "184102/184102 [==============================] - 7s 36us/step - loss: 3.5371e-06 - accuracy: 0.7906 - val_loss: 6.1955e-07 - val_accuracy: 0.0925\n",
      "Epoch 73/100\n",
      "184102/184102 [==============================] - 6s 35us/step - loss: 3.5109e-06 - accuracy: 0.7849 - val_loss: 5.0307e-07 - val_accuracy: 0.0782\n",
      "Epoch 74/100\n",
      "184102/184102 [==============================] - 6s 35us/step - loss: 3.4078e-06 - accuracy: 0.7850 - val_loss: 4.8860e-07 - val_accuracy: 0.8229\n",
      "Epoch 75/100\n",
      "184102/184102 [==============================] - 7s 37us/step - loss: 3.4923e-06 - accuracy: 0.7827 - val_loss: 5.2085e-07 - val_accuracy: 0.0915\n",
      "Epoch 76/100\n",
      "184102/184102 [==============================] - 6s 35us/step - loss: 3.4059e-06 - accuracy: 0.7852 - val_loss: 2.6882e-05 - val_accuracy: 0.0215\n",
      "Epoch 77/100\n",
      "184102/184102 [==============================] - 6s 35us/step - loss: 3.4008e-06 - accuracy: 0.7820 - val_loss: 1.0093e-06 - val_accuracy: 0.8342\n",
      "Epoch 78/100\n",
      "184102/184102 [==============================] - 7s 37us/step - loss: 3.3483e-06 - accuracy: 0.7783 - val_loss: 4.3781e-07 - val_accuracy: 0.0660\n",
      "Epoch 79/100\n",
      "184102/184102 [==============================] - 7s 36us/step - loss: 3.2987e-06 - accuracy: 0.7772 - val_loss: 2.4502e-06 - val_accuracy: 0.1399\n",
      "Epoch 80/100\n",
      "184102/184102 [==============================] - 7s 36us/step - loss: 3.3367e-06 - accuracy: 0.7754 - val_loss: 6.1308e-07 - val_accuracy: 0.0560\n",
      "Epoch 81/100\n",
      "184102/184102 [==============================] - 7s 37us/step - loss: 3.1976e-06 - accuracy: 0.7732 - val_loss: 1.7072e-06 - val_accuracy: 0.9519\n",
      "Epoch 82/100\n",
      "184102/184102 [==============================] - 7s 36us/step - loss: 3.1804e-06 - accuracy: 0.7681 - val_loss: 1.5754e-06 - val_accuracy: 0.9199\n",
      "Epoch 83/100\n",
      "184102/184102 [==============================] - 7s 37us/step - loss: 3.1352e-06 - accuracy: 0.7723 - val_loss: 1.6054e-06 - val_accuracy: 0.0489\n",
      "Epoch 84/100\n",
      "184102/184102 [==============================] - 8s 41us/step - loss: 3.1703e-06 - accuracy: 0.7673 - val_loss: 6.6937e-06 - val_accuracy: 0.1367\n",
      "Epoch 85/100\n",
      "184102/184102 [==============================] - 7s 38us/step - loss: 3.1117e-06 - accuracy: 0.7651 - val_loss: 6.0239e-07 - val_accuracy: 0.6058\n",
      "Epoch 86/100\n",
      "184102/184102 [==============================] - 7s 36us/step - loss: 3.0482e-06 - accuracy: 0.7647 - val_loss: 4.7368e-07 - val_accuracy: 0.7754\n",
      "Epoch 87/100\n",
      "184102/184102 [==============================] - 7s 37us/step - loss: 3.0421e-06 - accuracy: 0.7636 - val_loss: 7.5644e-07 - val_accuracy: 0.0354\n",
      "Epoch 88/100\n",
      "184102/184102 [==============================] - 7s 38us/step - loss: 2.9383e-06 - accuracy: 0.7598 - val_loss: 2.1233e-05 - val_accuracy: 0.2351\n",
      "Epoch 89/100\n",
      "184102/184102 [==============================] - 7s 37us/step - loss: 2.9381e-06 - accuracy: 0.7606 - val_loss: 4.9617e-05 - val_accuracy: 0.0824\n",
      "Epoch 90/100\n",
      "184102/184102 [==============================] - 7s 37us/step - loss: 2.9631e-06 - accuracy: 0.7588 - val_loss: 4.6318e-07 - val_accuracy: 0.0359\n",
      "Epoch 91/100\n",
      "184102/184102 [==============================] - 7s 37us/step - loss: 2.9042e-06 - accuracy: 0.7604 - val_loss: 1.0380e-05 - val_accuracy: 0.8376\n",
      "Epoch 92/100\n",
      "184102/184102 [==============================] - 7s 37us/step - loss: 2.8694e-06 - accuracy: 0.7548 - val_loss: 3.0071e-05 - val_accuracy: 0.0809\n",
      "Epoch 93/100\n",
      "184102/184102 [==============================] - 7s 38us/step - loss: 2.7896e-06 - accuracy: 0.7584 - val_loss: 9.7368e-07 - val_accuracy: 0.9859\n",
      "Epoch 94/100\n",
      "184102/184102 [==============================] - 7s 37us/step - loss: 2.7324e-06 - accuracy: 0.7592 - val_loss: 9.7789e-06 - val_accuracy: 0.1039\n",
      "Epoch 95/100\n",
      "184102/184102 [==============================] - 7s 36us/step - loss: 2.6921e-06 - accuracy: 0.7553 - val_loss: 4.2659e-07 - val_accuracy: 0.9818\n",
      "Epoch 96/100\n",
      "184102/184102 [==============================] - 6s 35us/step - loss: 2.7388e-06 - accuracy: 0.7520 - val_loss: 1.0560e-06 - val_accuracy: 0.0380\n",
      "Epoch 97/100\n",
      "184102/184102 [==============================] - 7s 35us/step - loss: 2.5741e-06 - accuracy: 0.7528 - val_loss: 1.9124e-05 - val_accuracy: 0.8528\n",
      "Epoch 98/100\n",
      "184102/184102 [==============================] - 6s 35us/step - loss: 2.6232e-06 - accuracy: 0.7507 - val_loss: 1.7041e-06 - val_accuracy: 0.1607\n",
      "Epoch 99/100\n",
      "184102/184102 [==============================] - 6s 35us/step - loss: 2.5712e-06 - accuracy: 0.7503 - val_loss: 3.7864e-07 - val_accuracy: 0.1065s - loss: 2.5834e-06 - accuracy:  - ETA: 1s - loss: 2.5915e-06 - accu -\n",
      "Epoch 100/100\n",
      "184102/184102 [==============================] - 5s 29us/step - loss: 2.5850e-06 - accuracy: 0.7501 - val_loss: 6.2383e-07 - val_accuracy: 0.0578\n"
     ]
    }
   ],
   "source": [
    "history=model.fit(np.array(X_train),np.array(X_train),\n",
    "                  batch_size=BATCH_SIZE, \n",
    "                  epochs=NUM_EPOCHS,\n",
    "                  validation_split=0.05,\n",
    "                  verbose = 1)"
   ]
  },
  {
   "cell_type": "code",
   "execution_count": 13,
   "metadata": {},
   "outputs": [
    {
     "data": {
      "image/png": "[encoded data removed]",
      "text/plain": [
       "<Figure size 432x288 with 1 Axes>"
      ]
     },
     "metadata": {
      "needs_background": "light"
     },
     "output_type": "display_data"
    }
   ],
   "source": [
    "import matplotlib.pyplot as plt\n",
    "\n",
    "plt.plot(history.history['loss'], 'b', label='Training loss')\n",
    "plt.plot(history.history['val_loss'], 'r', label='Validation loss')\n",
    "plt.legend(loc='upper right')\n",
    "plt.xlabel('Epochs')\n",
    "plt.ylabel('Loss, [mse]')\n",
    "plt.ylim([0,.05])\n",
    "plt.show()"
   ]
  },
  {
   "cell_type": "code",
   "execution_count": 14,
   "metadata": {},
   "outputs": [
    {
     "data": {
      "image/png": "[encoded data removed]",
      "text/plain": [
       "<Figure size 432x288 with 1 Axes>"
      ]
     },
     "metadata": {
      "needs_background": "light"
     },
     "output_type": "display_data"
    }
   ],
   "source": [
    "X_pred = model.predict(np.array(X_train))\n",
    "\n",
    "import seaborn as sns\n",
    "\n",
    "scored = np.mean(np.abs(X_pred-X_train), axis = 1)\n",
    "plt.figure()\n",
    "sns.distplot(scored, bins = 10, kde= True, color = 'blue');\n",
    "plt.xlim([0.0,.02])\n",
    "plt.show()"
   ]
  },
  {
   "cell_type": "code",
   "execution_count": 15,
   "metadata": {},
   "outputs": [
    {
     "data": {
      "text/html": [
       "<div>\n",
       "<style scoped>\n",
       "    .dataframe tbody tr th:only-of-type {\n",
       "        vertical-align: middle;\n",
       "    }\n",
       "\n",
       "    .dataframe tbody tr th {\n",
       "        vertical-align: top;\n",
       "    }\n",
       "\n",
       "    .dataframe thead th {\n",
       "        text-align: right;\n",
       "    }\n",
       "</style>\n",
       "<table border=\"1\" class=\"dataframe\">\n",
       "  <thead>\n",
       "    <tr style=\"text-align: right;\">\n",
       "      <th></th>\n",
       "      <th>Loss_mae</th>\n",
       "      <th>Threshold</th>\n",
       "      <th>Anomaly</th>\n",
       "    </tr>\n",
       "  </thead>\n",
       "  <tbody>\n",
       "    <tr>\n",
       "      <th>13002</th>\n",
       "      <td>0.001487</td>\n",
       "      <td>0.005</td>\n",
       "      <td>False</td>\n",
       "    </tr>\n",
       "    <tr>\n",
       "      <th>22845</th>\n",
       "      <td>0.002400</td>\n",
       "      <td>0.005</td>\n",
       "      <td>False</td>\n",
       "    </tr>\n",
       "    <tr>\n",
       "      <th>10961</th>\n",
       "      <td>0.001782</td>\n",
       "      <td>0.005</td>\n",
       "      <td>False</td>\n",
       "    </tr>\n",
       "    <tr>\n",
       "      <th>15502</th>\n",
       "      <td>0.002272</td>\n",
       "      <td>0.005</td>\n",
       "      <td>False</td>\n",
       "    </tr>\n",
       "    <tr>\n",
       "      <th>40374</th>\n",
       "      <td>0.000419</td>\n",
       "      <td>0.005</td>\n",
       "      <td>False</td>\n",
       "    </tr>\n",
       "    <tr>\n",
       "      <th>...</th>\n",
       "      <td>...</td>\n",
       "      <td>...</td>\n",
       "      <td>...</td>\n",
       "    </tr>\n",
       "    <tr>\n",
       "      <th>41453</th>\n",
       "      <td>0.000400</td>\n",
       "      <td>0.005</td>\n",
       "      <td>False</td>\n",
       "    </tr>\n",
       "    <tr>\n",
       "      <th>13961</th>\n",
       "      <td>0.002250</td>\n",
       "      <td>0.005</td>\n",
       "      <td>False</td>\n",
       "    </tr>\n",
       "    <tr>\n",
       "      <th>23069</th>\n",
       "      <td>0.001818</td>\n",
       "      <td>0.005</td>\n",
       "      <td>False</td>\n",
       "    </tr>\n",
       "    <tr>\n",
       "      <th>40604</th>\n",
       "      <td>0.000442</td>\n",
       "      <td>0.005</td>\n",
       "      <td>False</td>\n",
       "    </tr>\n",
       "    <tr>\n",
       "      <th>44594</th>\n",
       "      <td>0.000411</td>\n",
       "      <td>0.005</td>\n",
       "      <td>False</td>\n",
       "    </tr>\n",
       "  </tbody>\n",
       "</table>\n",
       "<p>100 rows × 3 columns</p>\n",
       "</div>"
      ],
      "text/plain": [
       "       Loss_mae  Threshold  Anomaly\n",
       "13002  0.001487      0.005    False\n",
       "22845  0.002400      0.005    False\n",
       "10961  0.001782      0.005    False\n",
       "15502  0.002272      0.005    False\n",
       "40374  0.000419      0.005    False\n",
       "...         ...        ...      ...\n",
       "41453  0.000400      0.005    False\n",
       "13961  0.002250      0.005    False\n",
       "23069  0.001818      0.005    False\n",
       "40604  0.000442      0.005    False\n",
       "44594  0.000411      0.005    False\n",
       "\n",
       "[100 rows x 3 columns]"
      ]
     },
     "execution_count": 15,
     "metadata": {},
     "output_type": "execute_result"
    }
   ],
   "source": [
    "X_pred = model.predict(np.array(X_test))\n",
    "\n",
    "scored = pd.DataFrame()\n",
    "scored['Loss_mae'] = np.mean(np.abs(X_pred-X_test), axis = 1)\n",
    "scored['Threshold'] = 0.005\n",
    "scored['Anomaly'] = scored['Loss_mae'] > scored['Threshold']\n",
    "scored.sample(100)"
   ]
  },
  {
   "cell_type": "code",
   "execution_count": 16,
   "metadata": {},
   "outputs": [],
   "source": [
    "X_pred_train = model.predict(np.array(X_train))\n",
    "X_pred_train = pd.DataFrame(X_pred_train)\n",
    "\n",
    "scored_train = pd.DataFrame()\n",
    "scored_train['Loss_mae'] = np.mean(np.abs(X_pred_train-X_train), axis = 1)\n",
    "scored_train['Threshold'] = 0.005\n",
    "scored_train['Anomaly'] = scored_train['Loss_mae'] > scored_train['Threshold']\n",
    "scored = pd.concat([scored_train, scored])"
   ]
  },
  {
   "cell_type": "code",
   "execution_count": 17,
   "metadata": {},
   "outputs": [
    {
     "data": {
      "text/plain": [
       "<matplotlib.axes._subplots.AxesSubplot at 0x138de5a8148>"
      ]
     },
     "execution_count": 17,
     "metadata": {},
     "output_type": "execute_result"
    },
    {
     "data": {
      "image/png": "[encoded data removed]",
      "text/plain": [
       "<Figure size 720x432 with 1 Axes>"
      ]
     },
     "metadata": {
      "needs_background": "light"
     },
     "output_type": "display_data"
    }
   ],
   "source": [
    "scored.plot(logy=True,  figsize = (10,6), xlim =[0,1000], ylim = [1e-4,1e-1], color = ['blue','red'])"
   ]
  },
  {
   "cell_type": "code",
   "execution_count": 18,
   "metadata": {},
   "outputs": [
    {
     "data": {
      "text/plain": [
       "0.0013238310457159648"
      ]
     },
     "execution_count": 18,
     "metadata": {},
     "output_type": "execute_result"
    }
   ],
   "source": [
    "scored_train['Loss_mae'].mean()"
   ]
  },
  {
   "cell_type": "code",
   "execution_count": 19,
   "metadata": {},
   "outputs": [
    {
     "data": {
      "text/html": [
       "<div>\n",
       "<style scoped>\n",
       "    .dataframe tbody tr th:only-of-type {\n",
       "        vertical-align: middle;\n",
       "    }\n",
       "\n",
       "    .dataframe tbody tr th {\n",
       "        vertical-align: top;\n",
       "    }\n",
       "\n",
       "    .dataframe thead th {\n",
       "        text-align: right;\n",
       "    }\n",
       "</style>\n",
       "<table border=\"1\" class=\"dataframe\">\n",
       "  <thead>\n",
       "    <tr style=\"text-align: right;\">\n",
       "      <th></th>\n",
       "      <th>Loss_mae</th>\n",
       "      <th>Threshold</th>\n",
       "      <th>Anomaly</th>\n",
       "    </tr>\n",
       "  </thead>\n",
       "  <tbody>\n",
       "    <tr>\n",
       "      <th>0</th>\n",
       "      <td>0.001598</td>\n",
       "      <td>0.005</td>\n",
       "      <td>False</td>\n",
       "    </tr>\n",
       "    <tr>\n",
       "      <th>1</th>\n",
       "      <td>0.001466</td>\n",
       "      <td>0.005</td>\n",
       "      <td>False</td>\n",
       "    </tr>\n",
       "    <tr>\n",
       "      <th>2</th>\n",
       "      <td>0.001986</td>\n",
       "      <td>0.005</td>\n",
       "      <td>False</td>\n",
       "    </tr>\n",
       "    <tr>\n",
       "      <th>3</th>\n",
       "      <td>0.002208</td>\n",
       "      <td>0.005</td>\n",
       "      <td>False</td>\n",
       "    </tr>\n",
       "    <tr>\n",
       "      <th>4</th>\n",
       "      <td>0.002308</td>\n",
       "      <td>0.005</td>\n",
       "      <td>False</td>\n",
       "    </tr>\n",
       "    <tr>\n",
       "      <th>...</th>\n",
       "      <td>...</td>\n",
       "      <td>...</td>\n",
       "      <td>...</td>\n",
       "    </tr>\n",
       "    <tr>\n",
       "      <th>193787</th>\n",
       "      <td>0.000411</td>\n",
       "      <td>0.005</td>\n",
       "      <td>False</td>\n",
       "    </tr>\n",
       "    <tr>\n",
       "      <th>193788</th>\n",
       "      <td>0.000404</td>\n",
       "      <td>0.005</td>\n",
       "      <td>False</td>\n",
       "    </tr>\n",
       "    <tr>\n",
       "      <th>193789</th>\n",
       "      <td>0.000415</td>\n",
       "      <td>0.005</td>\n",
       "      <td>False</td>\n",
       "    </tr>\n",
       "    <tr>\n",
       "      <th>193790</th>\n",
       "      <td>0.000408</td>\n",
       "      <td>0.005</td>\n",
       "      <td>False</td>\n",
       "    </tr>\n",
       "    <tr>\n",
       "      <th>193791</th>\n",
       "      <td>0.000414</td>\n",
       "      <td>0.005</td>\n",
       "      <td>False</td>\n",
       "    </tr>\n",
       "  </tbody>\n",
       "</table>\n",
       "<p>193792 rows × 3 columns</p>\n",
       "</div>"
      ],
      "text/plain": [
       "        Loss_mae  Threshold  Anomaly\n",
       "0       0.001598      0.005    False\n",
       "1       0.001466      0.005    False\n",
       "2       0.001986      0.005    False\n",
       "3       0.002208      0.005    False\n",
       "4       0.002308      0.005    False\n",
       "...          ...        ...      ...\n",
       "193787  0.000411      0.005    False\n",
       "193788  0.000404      0.005    False\n",
       "193789  0.000415      0.005    False\n",
       "193790  0.000408      0.005    False\n",
       "193791  0.000414      0.005    False\n",
       "\n",
       "[193792 rows x 3 columns]"
      ]
     },
     "execution_count": 19,
     "metadata": {},
     "output_type": "execute_result"
    }
   ],
   "source": [
    "scored_train"
   ]
  },
  {
   "cell_type": "code",
   "execution_count": 20,
   "metadata": {},
   "outputs": [
    {
     "data": {
      "text/html": [
       "<div>\n",
       "<style scoped>\n",
       "    .dataframe tbody tr th:only-of-type {\n",
       "        vertical-align: middle;\n",
       "    }\n",
       "\n",
       "    .dataframe tbody tr th {\n",
       "        vertical-align: top;\n",
       "    }\n",
       "\n",
       "    .dataframe thead th {\n",
       "        text-align: right;\n",
       "    }\n",
       "</style>\n",
       "<table border=\"1\" class=\"dataframe\">\n",
       "  <thead>\n",
       "    <tr style=\"text-align: right;\">\n",
       "      <th></th>\n",
       "      <th>Loss_mae</th>\n",
       "      <th>Threshold</th>\n",
       "      <th>Anomaly</th>\n",
       "    </tr>\n",
       "  </thead>\n",
       "  <tbody>\n",
       "    <tr>\n",
       "      <th>2234</th>\n",
       "      <td>0.005164</td>\n",
       "      <td>0.005</td>\n",
       "      <td>True</td>\n",
       "    </tr>\n",
       "    <tr>\n",
       "      <th>2235</th>\n",
       "      <td>0.005586</td>\n",
       "      <td>0.005</td>\n",
       "      <td>True</td>\n",
       "    </tr>\n",
       "    <tr>\n",
       "      <th>3023</th>\n",
       "      <td>0.005363</td>\n",
       "      <td>0.005</td>\n",
       "      <td>True</td>\n",
       "    </tr>\n",
       "    <tr>\n",
       "      <th>4867</th>\n",
       "      <td>0.005541</td>\n",
       "      <td>0.005</td>\n",
       "      <td>True</td>\n",
       "    </tr>\n",
       "    <tr>\n",
       "      <th>7944</th>\n",
       "      <td>0.005722</td>\n",
       "      <td>0.005</td>\n",
       "      <td>True</td>\n",
       "    </tr>\n",
       "    <tr>\n",
       "      <th>...</th>\n",
       "      <td>...</td>\n",
       "      <td>...</td>\n",
       "      <td>...</td>\n",
       "    </tr>\n",
       "    <tr>\n",
       "      <th>189000</th>\n",
       "      <td>0.006551</td>\n",
       "      <td>0.005</td>\n",
       "      <td>True</td>\n",
       "    </tr>\n",
       "    <tr>\n",
       "      <th>189798</th>\n",
       "      <td>0.007240</td>\n",
       "      <td>0.005</td>\n",
       "      <td>True</td>\n",
       "    </tr>\n",
       "    <tr>\n",
       "      <th>189799</th>\n",
       "      <td>0.007033</td>\n",
       "      <td>0.005</td>\n",
       "      <td>True</td>\n",
       "    </tr>\n",
       "    <tr>\n",
       "      <th>189803</th>\n",
       "      <td>0.005072</td>\n",
       "      <td>0.005</td>\n",
       "      <td>True</td>\n",
       "    </tr>\n",
       "    <tr>\n",
       "      <th>191900</th>\n",
       "      <td>0.007919</td>\n",
       "      <td>0.005</td>\n",
       "      <td>True</td>\n",
       "    </tr>\n",
       "  </tbody>\n",
       "</table>\n",
       "<p>247 rows × 3 columns</p>\n",
       "</div>"
      ],
      "text/plain": [
       "        Loss_mae  Threshold  Anomaly\n",
       "2234    0.005164      0.005     True\n",
       "2235    0.005586      0.005     True\n",
       "3023    0.005363      0.005     True\n",
       "4867    0.005541      0.005     True\n",
       "7944    0.005722      0.005     True\n",
       "...          ...        ...      ...\n",
       "189000  0.006551      0.005     True\n",
       "189798  0.007240      0.005     True\n",
       "189799  0.007033      0.005     True\n",
       "189803  0.005072      0.005     True\n",
       "191900  0.007919      0.005     True\n",
       "\n",
       "[247 rows x 3 columns]"
      ]
     },
     "execution_count": 20,
     "metadata": {},
     "output_type": "execute_result"
    }
   ],
   "source": [
    "scored_train[scored_train['Anomaly'] == True]"
   ]
  }
 ],
 "metadata": {
  "kernelspec": {
   "display_name": "Python 3",
   "language": "python",
   "name": "python3"
  },
  "language_info": {
   "codemirror_mode": {
    "name": "ipython",
    "version": 3
   },
   "file_extension": ".py",
   "mimetype": "text/x-python",
   "name": "python",
   "nbconvert_exporter": "python",
   "pygments_lexer": "ipython3",
   "version": "3.7.4"
  }
 },
 "nbformat": 4,
 "nbformat_minor": 4
}
