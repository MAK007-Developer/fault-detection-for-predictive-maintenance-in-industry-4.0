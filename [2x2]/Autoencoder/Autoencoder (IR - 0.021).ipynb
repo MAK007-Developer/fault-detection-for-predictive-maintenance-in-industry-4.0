{
 "cells": [
  {
   "cell_type": "code",
   "execution_count": 1,
   "metadata": {},
   "outputs": [],
   "source": [
    "#importing packages\n",
    "import pandas as pd\n",
    "import numpy as np"
   ]
  },
  {
   "cell_type": "code",
   "execution_count": 2,
   "metadata": {},
   "outputs": [],
   "source": [
    "Dtrain = pd.read_csv(\"TrainingSet (IR - 21).csv\")\n",
    "#Dtrain = Dtrain.iloc[:,0:4].values\n",
    "Dtest = pd.read_csv(\"TestingSet (IR - 21).csv\")"
   ]
  },
  {
   "cell_type": "code",
   "execution_count": 3,
   "metadata": {},
   "outputs": [
    {
     "data": {
      "text/plain": [
       "Inner Race (0.021\")    96896\n",
       "Normal                 96896\n",
       "Name: Bearing, dtype: int64"
      ]
     },
     "execution_count": 3,
     "metadata": {},
     "output_type": "execute_result"
    }
   ],
   "source": [
    "Dtrain[\"Bearing\"].value_counts()"
   ]
  },
  {
   "cell_type": "code",
   "execution_count": 4,
   "metadata": {},
   "outputs": [
    {
     "data": {
      "text/plain": [
       "Inner Race (0.021\")    50.0\n",
       "Normal                 50.0\n",
       "Name: Bearing, dtype: float64"
      ]
     },
     "execution_count": 4,
     "metadata": {},
     "output_type": "execute_result"
    }
   ],
   "source": [
    "Dtrain[\"Bearing\"].value_counts(normalize=True)*100"
   ]
  },
  {
   "cell_type": "code",
   "execution_count": 5,
   "metadata": {},
   "outputs": [
    {
     "data": {
      "text/plain": [
       "Index(['Bearing', 'Fault Diameter', 'DE', 'FE'], dtype='object')"
      ]
     },
     "execution_count": 5,
     "metadata": {},
     "output_type": "execute_result"
    }
   ],
   "source": [
    "Dtest.columns"
   ]
  },
  {
   "cell_type": "code",
   "execution_count": 6,
   "metadata": {},
   "outputs": [],
   "source": [
    "from sklearn.preprocessing import LabelEncoder, OneHotEncoder\n",
    "from sklearn.compose import ColumnTransformer\n",
    "labelencoder_train = LabelEncoder()\n",
    "Dtrain[\"Bearing\"] = labelencoder_train.fit_transform(Dtrain[\"Bearing\"])\n",
    "ct = ColumnTransformer([(\"Bearing\", OneHotEncoder(), [0])],    remainder = 'passthrough')\n",
    "Dtrain = ct.fit_transform(Dtrain)"
   ]
  },
  {
   "cell_type": "code",
   "execution_count": 7,
   "metadata": {},
   "outputs": [],
   "source": [
    "from sklearn.preprocessing import LabelEncoder, OneHotEncoder\n",
    "from sklearn.compose import ColumnTransformer\n",
    "labelencoder_train = LabelEncoder()\n",
    "Dtest[\"Bearing\"] = labelencoder_train.fit_transform(Dtest[\"Bearing\"])\n",
    "ct = ColumnTransformer([(\"Bearing\", OneHotEncoder(), [0])],    remainder = 'passthrough')\n",
    "Dtest = ct.fit_transform(Dtest)"
   ]
  },
  {
   "cell_type": "code",
   "execution_count": 8,
   "metadata": {},
   "outputs": [],
   "source": [
    "from sklearn.preprocessing import MinMaxScaler\n",
    "scaler = MinMaxScaler()\n",
    "X_train = pd.DataFrame(scaler.fit_transform(Dtrain))\n",
    "# Random shuffle training data\n",
    "X_train.sample(frac=1)\n",
    "\n",
    "X_test = pd.DataFrame(scaler.transform(Dtest))\n",
    "\n"
   ]
  },
  {
   "cell_type": "code",
   "execution_count": 9,
   "metadata": {},
   "outputs": [
    {
     "name": "stderr",
     "output_type": "stream",
     "text": [
      "Using TensorFlow backend.\n"
     ]
    }
   ],
   "source": [
    "from keras.layers import Input, Dropout\n",
    "from keras.layers.core import Dense \n",
    "from keras.models import Model, Sequential, load_model\n",
    "from keras import regularizers"
   ]
  },
  {
   "cell_type": "code",
   "execution_count": 10,
   "metadata": {},
   "outputs": [],
   "source": [
    "import tensorflow as tf\n",
    "from numpy.random import seed\n",
    "seed(10)\n",
    "tf.random.set_seed(10)\n",
    "act_func = 'elu'"
   ]
  },
  {
   "cell_type": "code",
   "execution_count": 11,
   "metadata": {},
   "outputs": [],
   "source": [
    "# Input layer:\n",
    "model=Sequential()\n",
    "# First hidden layer, connected to input vector X. \n",
    "model.add(Dense(6,activation=act_func,\n",
    "                kernel_initializer='glorot_uniform',\n",
    "                kernel_regularizer=regularizers.l2(0.0),\n",
    "                input_shape=(X_train.shape[1],)\n",
    "               )\n",
    "         )\n",
    "\n",
    "model.add(Dense(2,activation=act_func,\n",
    "                kernel_initializer='glorot_uniform'))\n",
    "\n",
    "model.add(Dense(6,activation=act_func,\n",
    "                kernel_initializer='glorot_uniform'))\n",
    "\n",
    "model.add(Dense(X_train.shape[1],\n",
    "                kernel_initializer='glorot_uniform'))\n",
    "\n",
    "model.compile(loss='mse',optimizer='adam', metrics=['accuracy'] )\n",
    "\n",
    "# Train model for 100 epochs, batch size of 10: \n",
    "NUM_EPOCHS=100\n",
    "BATCH_SIZE=100"
   ]
  },
  {
   "cell_type": "code",
   "execution_count": 12,
   "metadata": {},
   "outputs": [
    {
     "name": "stdout",
     "output_type": "stream",
     "text": [
      "Train on 184102 samples, validate on 9690 samples\n",
      "Epoch 1/100\n",
      "184102/184102 [==============================] - 8s 44us/step - loss: 0.0195 - accuracy: 0.7842 - val_loss: 0.0025 - val_accuracy: 0.4839\n",
      "Epoch 2/100\n",
      "184102/184102 [==============================] - 7s 36us/step - loss: 0.0012 - accuracy: 0.7609 - val_loss: 0.0015 - val_accuracy: 0.5021\n",
      "Epoch 3/100\n",
      "184102/184102 [==============================] - 7s 36us/step - loss: 6.1220e-04 - accuracy: 0.7711 - val_loss: 0.0011 - val_accuracy: 0.5374\n",
      "Epoch 4/100\n",
      "184102/184102 [==============================] - 7s 37us/step - loss: 5.1072e-04 - accuracy: 0.8202 - val_loss: 0.0010 - val_accuracy: 0.7997\n",
      "Epoch 5/100\n",
      "184102/184102 [==============================] - 7s 37us/step - loss: 4.9971e-04 - accuracy: 0.7854 - val_loss: 0.0010 - val_accuracy: 0.7760\n",
      "Epoch 6/100\n",
      "184102/184102 [==============================] - 7s 37us/step - loss: 4.9584e-04 - accuracy: 0.7735 - val_loss: 0.0010 - val_accuracy: 0.0000e+00\n",
      "Epoch 7/100\n",
      "184102/184102 [==============================] - 7s 37us/step - loss: 4.9404e-04 - accuracy: 0.7718 - val_loss: 0.0010 - val_accuracy: 0.7320\n",
      "Epoch 8/100\n",
      "184102/184102 [==============================] - 6s 35us/step - loss: 4.9301e-04 - accuracy: 0.7639 - val_loss: 0.0010 - val_accuracy: 0.0000e+00\n",
      "Epoch 9/100\n",
      "184102/184102 [==============================] - 6s 35us/step - loss: 4.9217e-04 - accuracy: 0.7697 - val_loss: 0.0011 - val_accuracy: 0.0000e+00\n",
      "Epoch 10/100\n",
      "184102/184102 [==============================] - 7s 36us/step - loss: 4.9096e-04 - accuracy: 0.7648 - val_loss: 0.0010 - val_accuracy: 0.9718\n",
      "Epoch 11/100\n",
      "184102/184102 [==============================] - 6s 35us/step - loss: 4.8332e-04 - accuracy: 0.7706 - val_loss: 9.8503e-04 - val_accuracy: 0.8851\n",
      "Epoch 12/100\n",
      "184102/184102 [==============================] - 7s 35us/step - loss: 3.7674e-04 - accuracy: 0.7675 - val_loss: 3.6895e-04 - val_accuracy: 0.5005\n",
      "Epoch 13/100\n",
      "184102/184102 [==============================] - 7s 37us/step - loss: 9.6025e-05 - accuracy: 0.7671 - val_loss: 4.5729e-05 - val_accuracy: 0.4552\n",
      "Epoch 14/100\n",
      "184102/184102 [==============================] - 7s 36us/step - loss: 3.4105e-05 - accuracy: 0.7409 - val_loss: 2.6869e-05 - val_accuracy: 0.4772\n",
      "Epoch 15/100\n",
      "184102/184102 [==============================] - 7s 36us/step - loss: 2.4075e-05 - accuracy: 0.7069 - val_loss: 1.5181e-05 - val_accuracy: 0.2601\n",
      "Epoch 16/100\n",
      "184102/184102 [==============================] - 7s 36us/step - loss: 1.9315e-05 - accuracy: 0.6917 - val_loss: 1.1842e-05 - val_accuracy: 0.8749\n",
      "Epoch 17/100\n",
      "184102/184102 [==============================] - 6s 35us/step - loss: 1.5975e-05 - accuracy: 0.6922 - val_loss: 8.9867e-06 - val_accuracy: 0.8321\n",
      "Epoch 18/100\n",
      "184102/184102 [==============================] - 7s 35us/step - loss: 1.3569e-05 - accuracy: 0.6996 - val_loss: 9.0634e-06 - val_accuracy: 0.9250\n",
      "Epoch 19/100\n",
      "184102/184102 [==============================] - 7s 35us/step - loss: 1.1647e-05 - accuracy: 0.7063 - val_loss: 6.6495e-06 - val_accuracy: 0.3142\n",
      "Epoch 20/100\n",
      "184102/184102 [==============================] - 7s 36us/step - loss: 1.0334e-05 - accuracy: 0.7124 - val_loss: 1.1317e-05 - val_accuracy: 0.6687\n",
      "Epoch 21/100\n",
      "184102/184102 [==============================] - 7s 36us/step - loss: 9.2518e-06 - accuracy: 0.7091 - val_loss: 1.0322e-04 - val_accuracy: 0.0643\n",
      "Epoch 22/100\n",
      "184102/184102 [==============================] - 7s 36us/step - loss: 8.7302e-06 - accuracy: 0.7114 - val_loss: 1.2845e-05 - val_accuracy: 0.2554\n",
      "Epoch 23/100\n",
      "184102/184102 [==============================] - 7s 36us/step - loss: 8.0353e-06 - accuracy: 0.7144 - val_loss: 2.8950e-05 - val_accuracy: 0.2106\n",
      "Epoch 24/100\n",
      "184102/184102 [==============================] - 7s 36us/step - loss: 7.7527e-06 - accuracy: 0.7181 - val_loss: 4.6735e-06 - val_accuracy: 0.1140\n",
      "Epoch 25/100\n",
      "184102/184102 [==============================] - 6s 35us/step - loss: 7.4656e-06 - accuracy: 0.7132 - val_loss: 5.0284e-06 - val_accuracy: 0.6486\n",
      "Epoch 26/100\n",
      "184102/184102 [==============================] - 6s 35us/step - loss: 7.1826e-06 - accuracy: 0.7095 - val_loss: 1.0199e-05 - val_accuracy: 0.9239\n",
      "Epoch 27/100\n",
      "184102/184102 [==============================] - 6s 35us/step - loss: 7.0766e-06 - accuracy: 0.7150 - val_loss: 4.6577e-06 - val_accuracy: 0.9595\n",
      "Epoch 28/100\n",
      "184102/184102 [==============================] - 6s 35us/step - loss: 6.7271e-06 - accuracy: 0.7173 - val_loss: 3.0167e-06 - val_accuracy: 0.0795\n",
      "Epoch 29/100\n",
      "184102/184102 [==============================] - 7s 36us/step - loss: 6.7275e-06 - accuracy: 0.7148 - val_loss: 1.0290e-05 - val_accuracy: 0.09166.7\n",
      "Epoch 30/100\n",
      "184102/184102 [==============================] - 6s 34us/step - loss: 6.5306e-06 - accuracy: 0.7184 - val_loss: 5.2529e-06 - val_accuracy: 0.1414\n",
      "Epoch 31/100\n",
      "184102/184102 [==============================] - 6s 35us/step - loss: 6.3233e-06 - accuracy: 0.7160 - val_loss: 8.5775e-06 - val_accuracy: 0.8682\n",
      "Epoch 32/100\n",
      "184102/184102 [==============================] - 7s 35us/step - loss: 6.2516e-06 - accuracy: 0.7195 - val_loss: 4.7978e-06 - val_accuracy: 0.0756\n",
      "Epoch 33/100\n",
      "184102/184102 [==============================] - 7s 35us/step - loss: 6.0685e-06 - accuracy: 0.7162 - val_loss: 3.2192e-06 - val_accuracy: 0.1925\n",
      "Epoch 34/100\n",
      "184102/184102 [==============================] - 7s 36us/step - loss: 5.9435e-06 - accuracy: 0.7193 - val_loss: 1.3778e-05 - val_accuracy: 0.1866\n",
      "Epoch 35/100\n",
      "184102/184102 [==============================] - 7s 36us/step - loss: 5.8552e-06 - accuracy: 0.7225 - val_loss: 1.9550e-05 - val_accuracy: 0.4690\n",
      "Epoch 36/100\n",
      "184102/184102 [==============================] - 7s 37us/step - loss: 5.7475e-06 - accuracy: 0.7180 - val_loss: 1.4692e-05 - val_accuracy: 0.0777\n",
      "Epoch 37/100\n",
      "184102/184102 [==============================] - 7s 36us/step - loss: 5.6858e-06 - accuracy: 0.7191 - val_loss: 4.6332e-06 - val_accuracy: 0.2751\n",
      "Epoch 38/100\n",
      "184102/184102 [==============================] - 7s 36us/step - loss: 5.4330e-06 - accuracy: 0.7235 - val_loss: 8.9029e-06 - val_accuracy: 0.9289\n",
      "Epoch 39/100\n",
      "184102/184102 [==============================] - 7s 38us/step - loss: 5.4027e-06 - accuracy: 0.7239 - val_loss: 5.3299e-06 - val_accuracy: 0.3171\n",
      "Epoch 40/100\n",
      "184102/184102 [==============================] - 7s 36us/step - loss: 5.2556e-06 - accuracy: 0.7193 - val_loss: 6.1854e-06 - val_accuracy: 0.9813\n",
      "Epoch 41/100\n",
      "184102/184102 [==============================] - 7s 36us/step - loss: 5.2544e-06 - accuracy: 0.7198 - val_loss: 1.7459e-05 - val_accuracy: 0.2392\n",
      "Epoch 42/100\n",
      "184102/184102 [==============================] - 7s 35us/step - loss: 5.1091e-06 - accuracy: 0.7163 - val_loss: 4.8044e-06 - val_accuracy: 0.7194\n",
      "Epoch 43/100\n",
      "184102/184102 [==============================] - 7s 38us/step - loss: 5.1488e-06 - accuracy: 0.7254 - val_loss: 2.0526e-06 - val_accuracy: 0.2563\n",
      "Epoch 44/100\n",
      "184102/184102 [==============================] - 7s 35us/step - loss: 4.8695e-06 - accuracy: 0.7225 - val_loss: 1.7198e-06 - val_accuracy: 0.8920\n",
      "Epoch 45/100\n",
      "184102/184102 [==============================] - 7s 36us/step - loss: 4.7501e-06 - accuracy: 0.7192 - val_loss: 1.7002e-06 - val_accuracy: 0.2116\n",
      "Epoch 46/100\n",
      "184102/184102 [==============================] - 7s 36us/step - loss: 4.7737e-06 - accuracy: 0.7244 - val_loss: 3.0580e-05 - val_accuracy: 0.9454\n",
      "Epoch 47/100\n",
      "184102/184102 [==============================] - 7s 37us/step - loss: 4.7376e-06 - accuracy: 0.7275 - val_loss: 5.8289e-06 - val_accuracy: 0.1458\n",
      "Epoch 48/100\n",
      "184102/184102 [==============================] - 7s 36us/step - loss: 4.6240e-06 - accuracy: 0.7261 - val_loss: 2.3062e-06 - val_accuracy: 0.3910\n",
      "Epoch 49/100\n",
      "184102/184102 [==============================] - 7s 37us/step - loss: 4.4631e-06 - accuracy: 0.7224 - val_loss: 2.6483e-05 - val_accuracy: 0.2041\n",
      "Epoch 50/100\n",
      "184102/184102 [==============================] - 7s 38us/step - loss: 4.4742e-06 - accuracy: 0.7235 - val_loss: 4.6457e-06 - val_accuracy: 0.3161\n",
      "Epoch 51/100\n",
      "184102/184102 [==============================] - 7s 36us/step - loss: 4.4434e-06 - accuracy: 0.7273 - val_loss: 1.2529e-05 - val_accuracy: 0.3564\n",
      "Epoch 52/100\n"
     ]
    },
    {
     "name": "stdout",
     "output_type": "stream",
     "text": [
      "184102/184102 [==============================] - 7s 37us/step - loss: 4.2884e-06 - accuracy: 0.7223 - val_loss: 1.4511e-06 - val_accuracy: 0.1770\n",
      "Epoch 53/100\n",
      "184102/184102 [==============================] - 7s 37us/step - loss: 4.2441e-06 - accuracy: 0.7251 - val_loss: 6.7212e-06 - val_accuracy: 0.1632\n",
      "Epoch 54/100\n",
      "184102/184102 [==============================] - 7s 36us/step - loss: 4.2279e-06 - accuracy: 0.7222 - val_loss: 1.4786e-06 - val_accuracy: 0.2707\n",
      "Epoch 55/100\n",
      "184102/184102 [==============================] - 7s 37us/step - loss: 4.0843e-06 - accuracy: 0.7286 - val_loss: 3.4998e-06 - val_accuracy: 0.1301\n",
      "Epoch 56/100\n",
      "184102/184102 [==============================] - 7s 38us/step - loss: 4.0305e-06 - accuracy: 0.7205 - val_loss: 2.6381e-06 - val_accuracy: 0.1272\n",
      "Epoch 57/100\n",
      "184102/184102 [==============================] - 7s 36us/step - loss: 4.0278e-06 - accuracy: 0.7255 - val_loss: 1.3944e-06 - val_accuracy: 0.5838\n",
      "Epoch 58/100\n",
      "184102/184102 [==============================] - 7s 38us/step - loss: 3.9223e-06 - accuracy: 0.7226 - val_loss: 1.1637e-05 - val_accuracy: 0.3745\n",
      "Epoch 59/100\n",
      "184102/184102 [==============================] - 7s 38us/step - loss: 3.9231e-06 - accuracy: 0.7215 - val_loss: 1.4343e-06 - val_accuracy: 0.9448\n",
      "Epoch 60/100\n",
      "184102/184102 [==============================] - 7s 37us/step - loss: 3.8826e-06 - accuracy: 0.7270 - val_loss: 2.3883e-06 - val_accuracy: 0.1466\n",
      "Epoch 61/100\n",
      "184102/184102 [==============================] - 7s 36us/step - loss: 3.7793e-06 - accuracy: 0.7250 - val_loss: 1.9089e-06 - val_accuracy: 0.7544\n",
      "Epoch 62/100\n",
      "184102/184102 [==============================] - 7s 37us/step - loss: 3.7305e-06 - accuracy: 0.7268 - val_loss: 2.7680e-06 - val_accuracy: 0.4554\n",
      "Epoch 63/100\n",
      "184102/184102 [==============================] - 6s 35us/step - loss: 3.6333e-06 - accuracy: 0.7216 - val_loss: 2.3290e-06 - val_accuracy: 0.2856\n",
      "Epoch 64/100\n",
      "184102/184102 [==============================] - 7s 36us/step - loss: 3.6437e-06 - accuracy: 0.7218 - val_loss: 1.6751e-06 - val_accuracy: 0.1833\n",
      "Epoch 65/100\n",
      "184102/184102 [==============================] - 7s 37us/step - loss: 3.5926e-06 - accuracy: 0.7210 - val_loss: 8.9064e-06 - val_accuracy: 0.9267\n",
      "Epoch 66/100\n",
      "184102/184102 [==============================] - 7s 36us/step - loss: 3.5401e-06 - accuracy: 0.7237 - val_loss: 1.4360e-05 - val_accuracy: 0.9225\n",
      "Epoch 67/100\n",
      "184102/184102 [==============================] - 7s 37us/step - loss: 3.5532e-06 - accuracy: 0.7221 - val_loss: 3.0066e-06 - val_accuracy: 0.3654\n",
      "Epoch 68/100\n",
      "184102/184102 [==============================] - 7s 37us/step - loss: 3.4448e-06 - accuracy: 0.7248 - val_loss: 2.0553e-06 - val_accuracy: 0.7304\n",
      "Epoch 69/100\n",
      "184102/184102 [==============================] - 7s 36us/step - loss: 3.3597e-06 - accuracy: 0.7275 - val_loss: 1.3397e-06 - val_accuracy: 0.1836\n",
      "Epoch 70/100\n",
      "184102/184102 [==============================] - 7s 35us/step - loss: 3.2995e-06 - accuracy: 0.7233 - val_loss: 2.4695e-06 - val_accuracy: 0.6183\n",
      "Epoch 71/100\n",
      "184102/184102 [==============================] - 7s 37us/step - loss: 3.2423e-06 - accuracy: 0.7192 - val_loss: 4.9956e-06 - val_accuracy: 0.4203\n",
      "Epoch 72/100\n",
      "184102/184102 [==============================] - 7s 36us/step - loss: 3.2550e-06 - accuracy: 0.7282 - val_loss: 1.3911e-06 - val_accuracy: 0.3940\n",
      "Epoch 73/100\n",
      "184102/184102 [==============================] - 7s 36us/step - loss: 3.2289e-06 - accuracy: 0.7206 - val_loss: 2.1160e-06 - val_accuracy: 0.3815\n",
      "Epoch 74/100\n",
      "184102/184102 [==============================] - 7s 36us/step - loss: 3.1896e-06 - accuracy: 0.7226 - val_loss: 3.6351e-05 - val_accuracy: 0.1684\n",
      "Epoch 75/100\n",
      "184102/184102 [==============================] - 7s 37us/step - loss: 3.1559e-06 - accuracy: 0.7238 - val_loss: 1.1690e-06 - val_accuracy: 0.3914\n",
      "Epoch 76/100\n",
      "184102/184102 [==============================] - 7s 36us/step - loss: 3.1583e-06 - accuracy: 0.7273 - val_loss: 2.0075e-06 - val_accuracy: 0.7583\n",
      "Epoch 77/100\n",
      "184102/184102 [==============================] - 7s 37us/step - loss: 3.0857e-06 - accuracy: 0.7279 - val_loss: 4.6490e-06 - val_accuracy: 0.2094\n",
      "Epoch 78/100\n",
      "184102/184102 [==============================] - 7s 36us/step - loss: 3.0160e-06 - accuracy: 0.7248 - val_loss: 2.0954e-06 - val_accuracy: 0.7962\n",
      "Epoch 79/100\n",
      "184102/184102 [==============================] - 6s 35us/step - loss: 2.9454e-06 - accuracy: 0.7226 - val_loss: 2.8159e-06 - val_accuracy: 0.9634\n",
      "Epoch 80/100\n",
      "184102/184102 [==============================] - 7s 37us/step - loss: 2.9754e-06 - accuracy: 0.7243 - val_loss: 1.2790e-06 - val_accuracy: 0.8296\n",
      "Epoch 81/100\n",
      "184102/184102 [==============================] - 7s 36us/step - loss: 2.8519e-06 - accuracy: 0.7254 - val_loss: 1.9883e-06 - val_accuracy: 0.3310\n",
      "Epoch 82/100\n",
      "184102/184102 [==============================] - 7s 36us/step - loss: 2.9192e-06 - accuracy: 0.7294 - val_loss: 1.5971e-06 - val_accuracy: 0.2404\n",
      "Epoch 83/100\n",
      "184102/184102 [==============================] - 7s 36us/step - loss: 2.7556e-06 - accuracy: 0.7260 - val_loss: 1.2729e-05 - val_accuracy: 0.3835\n",
      "Epoch 84/100\n",
      "184102/184102 [==============================] - 7s 38us/step - loss: 2.8349e-06 - accuracy: 0.7261 - val_loss: 3.8236e-06 - val_accuracy: 0.3073\n",
      "Epoch 85/100\n",
      "184102/184102 [==============================] - 7s 40us/step - loss: 2.7867e-06 - accuracy: 0.7316 - val_loss: 2.6102e-06 - val_accuracy: 0.1856\n",
      "Epoch 86/100\n",
      "184102/184102 [==============================] - 7s 35us/step - loss: 2.6738e-06 - accuracy: 0.7275 - val_loss: 1.1458e-05 - val_accuracy: 0.7975\n",
      "Epoch 87/100\n",
      "184102/184102 [==============================] - 7s 37us/step - loss: 2.6726e-06 - accuracy: 0.7294 - val_loss: 1.7886e-05 - val_accuracy: 0.6470\n",
      "Epoch 88/100\n",
      "184102/184102 [==============================] - 7s 38us/step - loss: 2.6668e-06 - accuracy: 0.7290 - val_loss: 2.1269e-05 - val_accuracy: 0.1936\n",
      "Epoch 89/100\n",
      "184102/184102 [==============================] - 7s 36us/step - loss: 2.6874e-06 - accuracy: 0.7319 - val_loss: 6.6954e-06 - val_accuracy: 0.4222\n",
      "Epoch 90/100\n",
      "184102/184102 [==============================] - 7s 37us/step - loss: 2.5004e-06 - accuracy: 0.7365 - val_loss: 2.9908e-06 - val_accuracy: 0.9038\n",
      "Epoch 91/100\n",
      "184102/184102 [==============================] - 7s 37us/step - loss: 2.6208e-06 - accuracy: 0.7326 - val_loss: 5.2026e-06 - val_accuracy: 0.1169\n",
      "Epoch 92/100\n",
      "184102/184102 [==============================] - 7s 35us/step - loss: 2.4583e-06 - accuracy: 0.7290 - val_loss: 1.8492e-06 - val_accuracy: 0.4682\n",
      "Epoch 93/100\n",
      "184102/184102 [==============================] - 7s 36us/step - loss: 2.5653e-06 - accuracy: 0.7279 - val_loss: 2.9426e-05 - val_accuracy: 0.1564\n",
      "Epoch 94/100\n",
      "184102/184102 [==============================] - 7s 38us/step - loss: 2.4357e-06 - accuracy: 0.7337 - val_loss: 1.8337e-05 - val_accuracy: 0.5858\n",
      "Epoch 95/100\n",
      "184102/184102 [==============================] - 7s 35us/step - loss: 2.5378e-06 - accuracy: 0.7310 - val_loss: 7.4604e-06 - val_accuracy: 0.8230\n",
      "Epoch 96/100\n",
      "184102/184102 [==============================] - 7s 36us/step - loss: 2.3172e-06 - accuracy: 0.7365 - val_loss: 2.3793e-06 - val_accuracy: 0.6703\n",
      "Epoch 97/100\n",
      "184102/184102 [==============================] - 6s 35us/step - loss: 2.4040e-06 - accuracy: 0.7313 - val_loss: 9.7059e-06 - val_accuracy: 0.1858\n",
      "Epoch 98/100\n",
      "184102/184102 [==============================] - 7s 36us/step - loss: 2.3355e-06 - accuracy: 0.7318 - val_loss: 1.1319e-06 - val_accuracy: 0.2041\n",
      "Epoch 99/100\n",
      "184102/184102 [==============================] - 6s 34us/step - loss: 2.3566e-06 - accuracy: 0.7356 - val_loss: 1.1490e-06 - val_accuracy: 0.5608\n",
      "Epoch 100/100\n",
      "184102/184102 [==============================] - 6s 33us/step - loss: 2.2954e-06 - accuracy: 0.7382 - val_loss: 1.1787e-06 - val_accuracy: 0.9412\n"
     ]
    }
   ],
   "source": [
    "history=model.fit(np.array(X_train),np.array(X_train),\n",
    "                  batch_size=BATCH_SIZE, \n",
    "                  epochs=NUM_EPOCHS,\n",
    "                  validation_split=0.05,\n",
    "                  verbose = 1)"
   ]
  },
  {
   "cell_type": "code",
   "execution_count": 13,
   "metadata": {},
   "outputs": [
    {
     "data": {
      "image/png": "[encoded data removed]",
      "text/plain": [
       "<Figure size 432x288 with 1 Axes>"
      ]
     },
     "metadata": {
      "needs_background": "light"
     },
     "output_type": "display_data"
    }
   ],
   "source": [
    "import matplotlib.pyplot as plt\n",
    "\n",
    "plt.plot(history.history['loss'], 'b', label='Training loss')\n",
    "plt.plot(history.history['val_loss'], 'r', label='Validation loss')\n",
    "plt.legend(loc='upper right')\n",
    "plt.xlabel('Epochs')\n",
    "plt.ylabel('Loss, [mse]')\n",
    "plt.ylim([0,.05])\n",
    "plt.show()"
   ]
  },
  {
   "cell_type": "code",
   "execution_count": 14,
   "metadata": {},
   "outputs": [
    {
     "data": {
      "image/png": "[encoded data removed]",
      "text/plain": [
       "<Figure size 432x288 with 1 Axes>"
      ]
     },
     "metadata": {
      "needs_background": "light"
     },
     "output_type": "display_data"
    }
   ],
   "source": [
    "X_pred = model.predict(np.array(X_train))\n",
    "\n",
    "import seaborn as sns\n",
    "\n",
    "scored = np.mean(np.abs(X_pred-X_train), axis = 1)\n",
    "plt.figure()\n",
    "sns.distplot(scored, bins = 10, kde= True, color = 'blue');\n",
    "plt.xlim([0.0,.02])\n",
    "plt.show()"
   ]
  },
  {
   "cell_type": "code",
   "execution_count": 15,
   "metadata": {},
   "outputs": [
    {
     "data": {
      "text/html": [
       "<div>\n",
       "<style scoped>\n",
       "    .dataframe tbody tr th:only-of-type {\n",
       "        vertical-align: middle;\n",
       "    }\n",
       "\n",
       "    .dataframe tbody tr th {\n",
       "        vertical-align: top;\n",
       "    }\n",
       "\n",
       "    .dataframe thead th {\n",
       "        text-align: right;\n",
       "    }\n",
       "</style>\n",
       "<table border=\"1\" class=\"dataframe\">\n",
       "  <thead>\n",
       "    <tr style=\"text-align: right;\">\n",
       "      <th></th>\n",
       "      <th>Loss_mae</th>\n",
       "      <th>Threshold</th>\n",
       "      <th>Anomaly</th>\n",
       "    </tr>\n",
       "  </thead>\n",
       "  <tbody>\n",
       "    <tr>\n",
       "      <th>13002</th>\n",
       "      <td>0.001209</td>\n",
       "      <td>0.006</td>\n",
       "      <td>False</td>\n",
       "    </tr>\n",
       "    <tr>\n",
       "      <th>22845</th>\n",
       "      <td>0.002709</td>\n",
       "      <td>0.006</td>\n",
       "      <td>False</td>\n",
       "    </tr>\n",
       "    <tr>\n",
       "      <th>10961</th>\n",
       "      <td>0.001549</td>\n",
       "      <td>0.006</td>\n",
       "      <td>False</td>\n",
       "    </tr>\n",
       "    <tr>\n",
       "      <th>15502</th>\n",
       "      <td>0.002521</td>\n",
       "      <td>0.006</td>\n",
       "      <td>False</td>\n",
       "    </tr>\n",
       "    <tr>\n",
       "      <th>40374</th>\n",
       "      <td>0.000474</td>\n",
       "      <td>0.006</td>\n",
       "      <td>False</td>\n",
       "    </tr>\n",
       "    <tr>\n",
       "      <th>...</th>\n",
       "      <td>...</td>\n",
       "      <td>...</td>\n",
       "      <td>...</td>\n",
       "    </tr>\n",
       "    <tr>\n",
       "      <th>41453</th>\n",
       "      <td>0.000678</td>\n",
       "      <td>0.006</td>\n",
       "      <td>False</td>\n",
       "    </tr>\n",
       "    <tr>\n",
       "      <th>13961</th>\n",
       "      <td>0.002476</td>\n",
       "      <td>0.006</td>\n",
       "      <td>False</td>\n",
       "    </tr>\n",
       "    <tr>\n",
       "      <th>23069</th>\n",
       "      <td>0.001639</td>\n",
       "      <td>0.006</td>\n",
       "      <td>False</td>\n",
       "    </tr>\n",
       "    <tr>\n",
       "      <th>40604</th>\n",
       "      <td>0.000700</td>\n",
       "      <td>0.006</td>\n",
       "      <td>False</td>\n",
       "    </tr>\n",
       "    <tr>\n",
       "      <th>44594</th>\n",
       "      <td>0.000352</td>\n",
       "      <td>0.006</td>\n",
       "      <td>False</td>\n",
       "    </tr>\n",
       "  </tbody>\n",
       "</table>\n",
       "<p>100 rows × 3 columns</p>\n",
       "</div>"
      ],
      "text/plain": [
       "       Loss_mae  Threshold  Anomaly\n",
       "13002  0.001209      0.006    False\n",
       "22845  0.002709      0.006    False\n",
       "10961  0.001549      0.006    False\n",
       "15502  0.002521      0.006    False\n",
       "40374  0.000474      0.006    False\n",
       "...         ...        ...      ...\n",
       "41453  0.000678      0.006    False\n",
       "13961  0.002476      0.006    False\n",
       "23069  0.001639      0.006    False\n",
       "40604  0.000700      0.006    False\n",
       "44594  0.000352      0.006    False\n",
       "\n",
       "[100 rows x 3 columns]"
      ]
     },
     "execution_count": 15,
     "metadata": {},
     "output_type": "execute_result"
    }
   ],
   "source": [
    "X_pred = model.predict(np.array(X_test))\n",
    "\n",
    "scored = pd.DataFrame()\n",
    "scored['Loss_mae'] = np.mean(np.abs(X_pred-X_test), axis = 1)\n",
    "scored['Threshold'] = 0.006\n",
    "scored['Anomaly'] = scored['Loss_mae'] > scored['Threshold']\n",
    "scored.sample(100)"
   ]
  },
  {
   "cell_type": "code",
   "execution_count": 16,
   "metadata": {},
   "outputs": [],
   "source": [
    "X_pred_train = model.predict(np.array(X_train))\n",
    "X_pred_train = pd.DataFrame(X_pred_train)\n",
    "\n",
    "scored_train = pd.DataFrame()\n",
    "scored_train['Loss_mae'] = np.mean(np.abs(X_pred_train-X_train), axis = 1)\n",
    "scored_train['Threshold'] = 0.006\n",
    "scored_train['Anomaly'] = scored_train['Loss_mae'] > scored_train['Threshold']\n",
    "scored = pd.concat([scored_train, scored])"
   ]
  },
  {
   "cell_type": "code",
   "execution_count": 17,
   "metadata": {},
   "outputs": [
    {
     "data": {
      "text/plain": [
       "<matplotlib.axes._subplots.AxesSubplot at 0x22370985708>"
      ]
     },
     "execution_count": 17,
     "metadata": {},
     "output_type": "execute_result"
    },
    {
     "data": {
      "image/png": "[encoded data removed]",
      "text/plain": [
       "<Figure size 720x432 with 1 Axes>"
      ]
     },
     "metadata": {
      "needs_background": "light"
     },
     "output_type": "display_data"
    }
   ],
   "source": [
    "scored.plot(logy=True,  figsize = (10,6), xlim =[0,1000], ylim = [1e-4,1e-1], color = ['blue','red'])"
   ]
  },
  {
   "cell_type": "code",
   "execution_count": 18,
   "metadata": {},
   "outputs": [
    {
     "data": {
      "text/plain": [
       "0.001428521422582465"
      ]
     },
     "execution_count": 18,
     "metadata": {},
     "output_type": "execute_result"
    }
   ],
   "source": [
    "scored_train['Loss_mae'].mean()"
   ]
  },
  {
   "cell_type": "code",
   "execution_count": 19,
   "metadata": {},
   "outputs": [
    {
     "data": {
      "text/html": [
       "<div>\n",
       "<style scoped>\n",
       "    .dataframe tbody tr th:only-of-type {\n",
       "        vertical-align: middle;\n",
       "    }\n",
       "\n",
       "    .dataframe tbody tr th {\n",
       "        vertical-align: top;\n",
       "    }\n",
       "\n",
       "    .dataframe thead th {\n",
       "        text-align: right;\n",
       "    }\n",
       "</style>\n",
       "<table border=\"1\" class=\"dataframe\">\n",
       "  <thead>\n",
       "    <tr style=\"text-align: right;\">\n",
       "      <th></th>\n",
       "      <th>Loss_mae</th>\n",
       "      <th>Threshold</th>\n",
       "      <th>Anomaly</th>\n",
       "    </tr>\n",
       "  </thead>\n",
       "  <tbody>\n",
       "    <tr>\n",
       "      <th>0</th>\n",
       "      <td>0.001180</td>\n",
       "      <td>0.006</td>\n",
       "      <td>False</td>\n",
       "    </tr>\n",
       "    <tr>\n",
       "      <th>1</th>\n",
       "      <td>0.000945</td>\n",
       "      <td>0.006</td>\n",
       "      <td>False</td>\n",
       "    </tr>\n",
       "    <tr>\n",
       "      <th>2</th>\n",
       "      <td>0.002014</td>\n",
       "      <td>0.006</td>\n",
       "      <td>False</td>\n",
       "    </tr>\n",
       "    <tr>\n",
       "      <th>3</th>\n",
       "      <td>0.002498</td>\n",
       "      <td>0.006</td>\n",
       "      <td>False</td>\n",
       "    </tr>\n",
       "    <tr>\n",
       "      <th>4</th>\n",
       "      <td>0.002549</td>\n",
       "      <td>0.006</td>\n",
       "      <td>False</td>\n",
       "    </tr>\n",
       "    <tr>\n",
       "      <th>...</th>\n",
       "      <td>...</td>\n",
       "      <td>...</td>\n",
       "      <td>...</td>\n",
       "    </tr>\n",
       "    <tr>\n",
       "      <th>193787</th>\n",
       "      <td>0.000573</td>\n",
       "      <td>0.006</td>\n",
       "      <td>False</td>\n",
       "    </tr>\n",
       "    <tr>\n",
       "      <th>193788</th>\n",
       "      <td>0.000645</td>\n",
       "      <td>0.006</td>\n",
       "      <td>False</td>\n",
       "    </tr>\n",
       "    <tr>\n",
       "      <th>193789</th>\n",
       "      <td>0.000644</td>\n",
       "      <td>0.006</td>\n",
       "      <td>False</td>\n",
       "    </tr>\n",
       "    <tr>\n",
       "      <th>193790</th>\n",
       "      <td>0.000534</td>\n",
       "      <td>0.006</td>\n",
       "      <td>False</td>\n",
       "    </tr>\n",
       "    <tr>\n",
       "      <th>193791</th>\n",
       "      <td>0.000089</td>\n",
       "      <td>0.006</td>\n",
       "      <td>False</td>\n",
       "    </tr>\n",
       "  </tbody>\n",
       "</table>\n",
       "<p>193792 rows × 3 columns</p>\n",
       "</div>"
      ],
      "text/plain": [
       "        Loss_mae  Threshold  Anomaly\n",
       "0       0.001180      0.006    False\n",
       "1       0.000945      0.006    False\n",
       "2       0.002014      0.006    False\n",
       "3       0.002498      0.006    False\n",
       "4       0.002549      0.006    False\n",
       "...          ...        ...      ...\n",
       "193787  0.000573      0.006    False\n",
       "193788  0.000645      0.006    False\n",
       "193789  0.000644      0.006    False\n",
       "193790  0.000534      0.006    False\n",
       "193791  0.000089      0.006    False\n",
       "\n",
       "[193792 rows x 3 columns]"
      ]
     },
     "execution_count": 19,
     "metadata": {},
     "output_type": "execute_result"
    }
   ],
   "source": [
    "scored_train"
   ]
  },
  {
   "cell_type": "code",
   "execution_count": 20,
   "metadata": {},
   "outputs": [
    {
     "data": {
      "text/html": [
       "<div>\n",
       "<style scoped>\n",
       "    .dataframe tbody tr th:only-of-type {\n",
       "        vertical-align: middle;\n",
       "    }\n",
       "\n",
       "    .dataframe tbody tr th {\n",
       "        vertical-align: top;\n",
       "    }\n",
       "\n",
       "    .dataframe thead th {\n",
       "        text-align: right;\n",
       "    }\n",
       "</style>\n",
       "<table border=\"1\" class=\"dataframe\">\n",
       "  <thead>\n",
       "    <tr style=\"text-align: right;\">\n",
       "      <th></th>\n",
       "      <th>Loss_mae</th>\n",
       "      <th>Threshold</th>\n",
       "      <th>Anomaly</th>\n",
       "    </tr>\n",
       "  </thead>\n",
       "  <tbody>\n",
       "    <tr>\n",
       "      <th>2235</th>\n",
       "      <td>0.006262</td>\n",
       "      <td>0.006</td>\n",
       "      <td>True</td>\n",
       "    </tr>\n",
       "    <tr>\n",
       "      <th>3023</th>\n",
       "      <td>0.006017</td>\n",
       "      <td>0.006</td>\n",
       "      <td>True</td>\n",
       "    </tr>\n",
       "    <tr>\n",
       "      <th>4867</th>\n",
       "      <td>0.006234</td>\n",
       "      <td>0.006</td>\n",
       "      <td>True</td>\n",
       "    </tr>\n",
       "    <tr>\n",
       "      <th>7944</th>\n",
       "      <td>0.006359</td>\n",
       "      <td>0.006</td>\n",
       "      <td>True</td>\n",
       "    </tr>\n",
       "    <tr>\n",
       "      <th>7945</th>\n",
       "      <td>0.006275</td>\n",
       "      <td>0.006</td>\n",
       "      <td>True</td>\n",
       "    </tr>\n",
       "    <tr>\n",
       "      <th>...</th>\n",
       "      <td>...</td>\n",
       "      <td>...</td>\n",
       "      <td>...</td>\n",
       "    </tr>\n",
       "    <tr>\n",
       "      <th>191501</th>\n",
       "      <td>0.011636</td>\n",
       "      <td>0.006</td>\n",
       "      <td>True</td>\n",
       "    </tr>\n",
       "    <tr>\n",
       "      <th>192338</th>\n",
       "      <td>0.008595</td>\n",
       "      <td>0.006</td>\n",
       "      <td>True</td>\n",
       "    </tr>\n",
       "    <tr>\n",
       "      <th>193170</th>\n",
       "      <td>0.008883</td>\n",
       "      <td>0.006</td>\n",
       "      <td>True</td>\n",
       "    </tr>\n",
       "    <tr>\n",
       "      <th>193172</th>\n",
       "      <td>0.009317</td>\n",
       "      <td>0.006</td>\n",
       "      <td>True</td>\n",
       "    </tr>\n",
       "    <tr>\n",
       "      <th>193174</th>\n",
       "      <td>0.011723</td>\n",
       "      <td>0.006</td>\n",
       "      <td>True</td>\n",
       "    </tr>\n",
       "  </tbody>\n",
       "</table>\n",
       "<p>258 rows × 3 columns</p>\n",
       "</div>"
      ],
      "text/plain": [
       "        Loss_mae  Threshold  Anomaly\n",
       "2235    0.006262      0.006     True\n",
       "3023    0.006017      0.006     True\n",
       "4867    0.006234      0.006     True\n",
       "7944    0.006359      0.006     True\n",
       "7945    0.006275      0.006     True\n",
       "...          ...        ...      ...\n",
       "191501  0.011636      0.006     True\n",
       "192338  0.008595      0.006     True\n",
       "193170  0.008883      0.006     True\n",
       "193172  0.009317      0.006     True\n",
       "193174  0.011723      0.006     True\n",
       "\n",
       "[258 rows x 3 columns]"
      ]
     },
     "execution_count": 20,
     "metadata": {},
     "output_type": "execute_result"
    }
   ],
   "source": [
    "scored_train[scored_train['Anomaly'] == True]"
   ]
  }
 ],
 "metadata": {
  "kernelspec": {
   "display_name": "Python 3",
   "language": "python",
   "name": "python3"
  },
  "language_info": {
   "codemirror_mode": {
    "name": "ipython",
    "version": 3
   },
   "file_extension": ".py",
   "mimetype": "text/x-python",
   "name": "python",
   "nbconvert_exporter": "python",
   "pygments_lexer": "ipython3",
   "version": "3.7.4"
  }
 },
 "nbformat": 4,
 "nbformat_minor": 4
}
