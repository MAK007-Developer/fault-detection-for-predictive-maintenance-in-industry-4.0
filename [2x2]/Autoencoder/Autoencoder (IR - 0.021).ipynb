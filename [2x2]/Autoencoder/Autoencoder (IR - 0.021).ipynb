{
 "cells": [
  {
   "cell_type": "code",
   "execution_count": 1,
   "metadata": {},
   "outputs": [],
   "source": [
    "#importing packages\n",
    "import pandas as pd\n",
    "import numpy as np"
   ]
  },
  {
   "cell_type": "code",
   "execution_count": 2,
   "metadata": {},
   "outputs": [],
   "source": [
    "Dtrain = pd.read_csv(\"TrainingSet (IR - 21).csv\")\n",
    "#Dtrain = Dtrain.iloc[:,0:4].values\n",
    "Dtest = pd.read_csv(\"TestingSet (IR - 21).csv\")"
   ]
  },
  {
   "cell_type": "code",
   "execution_count": 3,
   "metadata": {},
   "outputs": [
    {
     "data": {
      "text/plain": [
       "Normal                 96896\n",
       "Inner Race (0.021\")    96896\n",
       "Name: Bearing, dtype: int64"
      ]
     },
     "execution_count": 3,
     "metadata": {},
     "output_type": "execute_result"
    }
   ],
   "source": [
    "Dtrain[\"Bearing\"].value_counts()"
   ]
  },
  {
   "cell_type": "code",
   "execution_count": 4,
   "metadata": {},
   "outputs": [
    {
     "data": {
      "text/plain": [
       "Normal                 50.0\n",
       "Inner Race (0.021\")    50.0\n",
       "Name: Bearing, dtype: float64"
      ]
     },
     "execution_count": 4,
     "metadata": {},
     "output_type": "execute_result"
    }
   ],
   "source": [
    "Dtrain[\"Bearing\"].value_counts(normalize=True)*100"
   ]
  },
  {
   "cell_type": "code",
   "execution_count": 5,
   "metadata": {},
   "outputs": [
    {
     "data": {
      "text/plain": [
       "Index(['Bearing', 'Fault Diameter', 'DE', 'FE'], dtype='object')"
      ]
     },
     "execution_count": 5,
     "metadata": {},
     "output_type": "execute_result"
    }
   ],
   "source": [
    "Dtest.columns"
   ]
  },
  {
   "cell_type": "code",
   "execution_count": 6,
   "metadata": {},
   "outputs": [],
   "source": [
    "from sklearn.preprocessing import LabelEncoder, OneHotEncoder\n",
    "from sklearn.compose import ColumnTransformer\n",
    "labelencoder_train = LabelEncoder()\n",
    "Dtrain[\"Bearing\"] = labelencoder_train.fit_transform(Dtrain[\"Bearing\"])\n",
    "ct = ColumnTransformer([(\"Bearing\", OneHotEncoder(), [0])],    remainder = 'passthrough')\n",
    "Dtrain = ct.fit_transform(Dtrain)"
   ]
  },
  {
   "cell_type": "code",
   "execution_count": 7,
   "metadata": {},
   "outputs": [],
   "source": [
    "from sklearn.preprocessing import LabelEncoder, OneHotEncoder\n",
    "from sklearn.compose import ColumnTransformer\n",
    "labelencoder_train = LabelEncoder()\n",
    "Dtest[\"Bearing\"] = labelencoder_train.fit_transform(Dtest[\"Bearing\"])\n",
    "ct = ColumnTransformer([(\"Bearing\", OneHotEncoder(), [0])],    remainder = 'passthrough')\n",
    "Dtest = ct.fit_transform(Dtest)"
   ]
  },
  {
   "cell_type": "code",
   "execution_count": 8,
   "metadata": {},
   "outputs": [],
   "source": [
    "from sklearn.preprocessing import MinMaxScaler\n",
    "scaler = MinMaxScaler()\n",
    "X_train = pd.DataFrame(scaler.fit_transform(Dtrain))\n",
    "# Random shuffle training data\n",
    "X_train.sample(frac=1)\n",
    "\n",
    "X_test = pd.DataFrame(scaler.transform(Dtest))\n",
    "\n"
   ]
  },
  {
   "cell_type": "code",
   "execution_count": 9,
   "metadata": {},
   "outputs": [
    {
     "name": "stderr",
     "output_type": "stream",
     "text": [
      "Using TensorFlow backend.\n"
     ]
    }
   ],
   "source": [
    "from keras.layers import Input, Dropout\n",
    "from keras.layers.core import Dense \n",
    "from keras.models import Model, Sequential, load_model\n",
    "from keras import regularizers"
   ]
  },
  {
   "cell_type": "code",
   "execution_count": 10,
   "metadata": {},
   "outputs": [],
   "source": [
    "import tensorflow as tf\n",
    "from numpy.random import seed\n",
    "seed(10)\n",
    "tf.random.set_seed(10)\n",
    "act_func = 'elu'"
   ]
  },
  {
   "cell_type": "code",
   "execution_count": 11,
   "metadata": {},
   "outputs": [],
   "source": [
    "# Input layer:\n",
    "model=Sequential()\n",
    "# First hidden layer, connected to input vector X. \n",
    "model.add(Dense(6,activation=act_func,\n",
    "                kernel_initializer='glorot_uniform',\n",
    "                kernel_regularizer=regularizers.l2(0.0),\n",
    "                input_shape=(X_train.shape[1],)\n",
    "               )\n",
    "         )\n",
    "\n",
    "model.add(Dense(2,activation=act_func,\n",
    "                kernel_initializer='glorot_uniform'))\n",
    "\n",
    "model.add(Dense(6,activation=act_func,\n",
    "                kernel_initializer='glorot_uniform'))\n",
    "\n",
    "model.add(Dense(X_train.shape[1],\n",
    "                kernel_initializer='glorot_uniform'))\n",
    "\n",
    "model.compile(loss='mse',optimizer='adam', metrics=['accuracy'] )\n",
    "\n",
    "# Train model for 100 epochs, batch size of 10: \n",
    "NUM_EPOCHS=100\n",
    "BATCH_SIZE=100"
   ]
  },
  {
   "cell_type": "code",
   "execution_count": 12,
   "metadata": {},
   "outputs": [
    {
     "name": "stdout",
     "output_type": "stream",
     "text": [
      "Train on 184102 samples, validate on 9690 samples\n",
      "Epoch 1/100\n",
      "184102/184102 [==============================] - 2s 11us/step - loss: 0.0198 - accuracy: 0.7827 - val_loss: 0.0025 - val_accuracy: 0.4840\n",
      "Epoch 2/100\n",
      "184102/184102 [==============================] - 2s 10us/step - loss: 0.0012 - accuracy: 0.7608 - val_loss: 0.0015 - val_accuracy: 0.5023\n",
      "Epoch 3/100\n",
      "184102/184102 [==============================] - 2s 10us/step - loss: 6.1324e-04 - accuracy: 0.7711 - val_loss: 0.0011 - val_accuracy: 0.5383\n",
      "Epoch 4/100\n",
      "184102/184102 [==============================] - 2s 10us/step - loss: 5.1092e-04 - accuracy: 0.8219 - val_loss: 0.0010 - val_accuracy: 0.7996\n",
      "Epoch 5/100\n",
      "184102/184102 [==============================] - 2s 10us/step - loss: 4.9979e-04 - accuracy: 0.7867 - val_loss: 0.0010 - val_accuracy: 0.7830\n",
      "Epoch 6/100\n",
      "184102/184102 [==============================] - 2s 10us/step - loss: 4.9589e-04 - accuracy: 0.7737 - val_loss: 0.0010 - val_accuracy: 0.0000e+00\n",
      "Epoch 7/100\n",
      "184102/184102 [==============================] - 2s 10us/step - loss: 4.9408e-04 - accuracy: 0.7721 - val_loss: 0.0010 - val_accuracy: 0.7370\n",
      "Epoch 8/100\n",
      "184102/184102 [==============================] - 2s 10us/step - loss: 4.9305e-04 - accuracy: 0.7640 - val_loss: 0.0010 - val_accuracy: 0.0000e+00\n",
      "Epoch 9/100\n",
      "184102/184102 [==============================] - 2s 10us/step - loss: 4.9224e-04 - accuracy: 0.7696 - val_loss: 0.0011 - val_accuracy: 0.0000e+00\n",
      "Epoch 10/100\n",
      "184102/184102 [==============================] - 2s 10us/step - loss: 4.9114e-04 - accuracy: 0.7650 - val_loss: 0.0010 - val_accuracy: 0.9741\n",
      "Epoch 11/100\n",
      "184102/184102 [==============================] - 2s 10us/step - loss: 4.8423e-04 - accuracy: 0.7697 - val_loss: 9.9078e-04 - val_accuracy: 0.8942\n",
      "Epoch 12/100\n",
      "184102/184102 [==============================] - 2s 10us/step - loss: 3.9226e-04 - accuracy: 0.7677 - val_loss: 4.2066e-04 - val_accuracy: 0.4996\n",
      "Epoch 13/100\n",
      "184102/184102 [==============================] - 2s 10us/step - loss: 1.0581e-04 - accuracy: 0.7673 - val_loss: 5.0033e-05 - val_accuracy: 0.4622\n",
      "Epoch 14/100\n",
      "184102/184102 [==============================] - 2s 10us/step - loss: 3.5031e-05 - accuracy: 0.7434 - val_loss: 2.7343e-05 - val_accuracy: 0.4755\n",
      "Epoch 15/100\n",
      "184102/184102 [==============================] - 2s 10us/step - loss: 2.4391e-05 - accuracy: 0.7075 - val_loss: 1.5159e-05 - val_accuracy: 0.2648\n",
      "Epoch 16/100\n",
      "184102/184102 [==============================] - 2s 10us/step - loss: 1.9535e-05 - accuracy: 0.6907 - val_loss: 1.1962e-05 - val_accuracy: 0.8780\n",
      "Epoch 17/100\n",
      "184102/184102 [==============================] - 2s 11us/step - loss: 1.6158e-05 - accuracy: 0.6905 - val_loss: 9.0937e-06 - val_accuracy: 0.8264\n",
      "Epoch 18/100\n",
      "184102/184102 [==============================] - 2s 11us/step - loss: 1.3714e-05 - accuracy: 0.6978 - val_loss: 9.2907e-06 - val_accuracy: 0.9175\n",
      "Epoch 19/100\n",
      "184102/184102 [==============================] - 2s 12us/step - loss: 1.1759e-05 - accuracy: 0.7043 - val_loss: 6.7195e-06 - val_accuracy: 0.3090\n",
      "Epoch 20/100\n",
      "184102/184102 [==============================] - 2s 12us/step - loss: 1.0413e-05 - accuracy: 0.7104 - val_loss: 1.1519e-05 - val_accuracy: 0.5909\n",
      "Epoch 21/100\n",
      "184102/184102 [==============================] - 2s 11us/step - loss: 9.2943e-06 - accuracy: 0.7060 - val_loss: 9.5360e-05 - val_accuracy: 0.0657\n",
      "Epoch 22/100\n",
      "184102/184102 [==============================] - 2s 11us/step - loss: 8.7296e-06 - accuracy: 0.7098 - val_loss: 1.3026e-05 - val_accuracy: 0.2446\n",
      "Epoch 23/100\n",
      "184102/184102 [==============================] - 2s 10us/step - loss: 8.0372e-06 - accuracy: 0.7115 - val_loss: 2.6991e-05 - val_accuracy: 0.2143\n",
      "Epoch 24/100\n",
      "184102/184102 [==============================] - 2s 10us/step - loss: 7.7627e-06 - accuracy: 0.7155 - val_loss: 4.6575e-06 - val_accuracy: 0.1193\n",
      "Epoch 25/100\n",
      "184102/184102 [==============================] - 2s 11us/step - loss: 7.4783e-06 - accuracy: 0.7107 - val_loss: 4.9128e-06 - val_accuracy: 0.6001\n",
      "Epoch 26/100\n",
      "184102/184102 [==============================] - 2s 10us/step - loss: 7.2033e-06 - accuracy: 0.7065 - val_loss: 1.0002e-05 - val_accuracy: 0.9248\n",
      "Epoch 27/100\n",
      "184102/184102 [==============================] - 2s 10us/step - loss: 7.0977e-06 - accuracy: 0.7126 - val_loss: 5.0295e-06 - val_accuracy: 0.9603\n",
      "Epoch 28/100\n",
      "184102/184102 [==============================] - 2s 10us/step - loss: 6.7541e-06 - accuracy: 0.7148 - val_loss: 3.0531e-06 - val_accuracy: 0.0822\n",
      "Epoch 29/100\n",
      "184102/184102 [==============================] - 2s 10us/step - loss: 6.7575e-06 - accuracy: 0.7118 - val_loss: 9.9603e-06 - val_accuracy: 0.0947\n",
      "Epoch 30/100\n",
      "184102/184102 [==============================] - 2s 10us/step - loss: 6.5639e-06 - accuracy: 0.7158 - val_loss: 4.9085e-06 - val_accuracy: 0.1424\n",
      "Epoch 31/100\n",
      "184102/184102 [==============================] - 2s 10us/step - loss: 6.3527e-06 - accuracy: 0.7123 - val_loss: 8.3018e-06 - val_accuracy: 0.8792\n",
      "Epoch 32/100\n",
      "184102/184102 [==============================] - 2s 9us/step - loss: 6.2799e-06 - accuracy: 0.7163 - val_loss: 4.1607e-06 - val_accuracy: 0.0799\n",
      "Epoch 33/100\n",
      "184102/184102 [==============================] - 2s 9us/step - loss: 6.1111e-06 - accuracy: 0.7130 - val_loss: 3.2655e-06 - val_accuracy: 0.1935\n",
      "Epoch 34/100\n",
      "184102/184102 [==============================] - 2s 10us/step - loss: 5.9794e-06 - accuracy: 0.7163 - val_loss: 1.2660e-05 - val_accuracy: 0.1899\n",
      "Epoch 35/100\n",
      "184102/184102 [==============================] - 2s 10us/step - loss: 5.8972e-06 - accuracy: 0.7189 - val_loss: 1.8802e-05 - val_accuracy: 0.4766\n",
      "Epoch 36/100\n",
      "184102/184102 [==============================] - 2s 10us/step - loss: 5.7669e-06 - accuracy: 0.7154 - val_loss: 1.1575e-05 - val_accuracy: 0.0764\n",
      "Epoch 37/100\n",
      "184102/184102 [==============================] - 2s 10us/step - loss: 5.7285e-06 - accuracy: 0.7164 - val_loss: 4.6999e-06 - val_accuracy: 0.2851\n",
      "Epoch 38/100\n",
      "184102/184102 [==============================] - 2s 10us/step - loss: 5.4834e-06 - accuracy: 0.7200 - val_loss: 1.1029e-05 - val_accuracy: 0.9288\n",
      "Epoch 39/100\n",
      "184102/184102 [==============================] - 2s 10us/step - loss: 5.4296e-06 - accuracy: 0.7207 - val_loss: 5.3421e-06 - val_accuracy: 0.3269\n",
      "Epoch 40/100\n",
      "184102/184102 [==============================] - 2s 10us/step - loss: 5.2990e-06 - accuracy: 0.7169 - val_loss: 5.6290e-06 - val_accuracy: 0.9818\n",
      "Epoch 41/100\n",
      "184102/184102 [==============================] - 2s 10us/step - loss: 5.2801e-06 - accuracy: 0.7164 - val_loss: 1.4324e-05 - val_accuracy: 0.2205\n",
      "Epoch 42/100\n",
      "184102/184102 [==============================] - 3s 14us/step - loss: 5.1695e-06 - accuracy: 0.7131 - val_loss: 3.0731e-06 - val_accuracy: 0.4762\n",
      "Epoch 43/100\n",
      "184102/184102 [==============================] - 3s 14us/step - loss: 5.1244e-06 - accuracy: 0.7220 - val_loss: 6.3867e-06 - val_accuracy: 0.2820\n",
      "Epoch 44/100\n",
      "184102/184102 [==============================] - 2s 11us/step - loss: 4.9789e-06 - accuracy: 0.7172 - val_loss: 1.7818e-06 - val_accuracy: 0.8771\n",
      "Epoch 45/100\n",
      "184102/184102 [==============================] - 2s 11us/step - loss: 4.7842e-06 - accuracy: 0.7158 - val_loss: 2.0112e-06 - val_accuracy: 0.2236\n",
      "Epoch 46/100\n",
      "184102/184102 [==============================] - 2s 10us/step - loss: 4.8274e-06 - accuracy: 0.7216 - val_loss: 3.0361e-05 - val_accuracy: 0.9453\n",
      "Epoch 47/100\n",
      "184102/184102 [==============================] - 2s 10us/step - loss: 4.7791e-06 - accuracy: 0.7241 - val_loss: 4.3500e-06 - val_accuracy: 0.1540\n",
      "Epoch 48/100\n",
      "184102/184102 [==============================] - 2s 11us/step - loss: 4.6705e-06 - accuracy: 0.7241 - val_loss: 2.6364e-06 - val_accuracy: 0.4094\n",
      "Epoch 49/100\n",
      "184102/184102 [==============================] - 2s 12us/step - loss: 4.4884e-06 - accuracy: 0.7208 - val_loss: 2.2424e-05 - val_accuracy: 0.2455\n",
      "Epoch 50/100\n",
      "184102/184102 [==============================] - 2s 10us/step - loss: 4.5286e-06 - accuracy: 0.7223 - val_loss: 5.1505e-06 - val_accuracy: 0.3276\n",
      "Epoch 51/100\n",
      "184102/184102 [==============================] - 2s 10us/step - loss: 4.4749e-06 - accuracy: 0.7255 - val_loss: 1.1898e-05 - val_accuracy: 0.3486\n",
      "Epoch 52/100\n",
      "184102/184102 [==============================] - 2s 10us/step - loss: 4.3336e-06 - accuracy: 0.7216 - val_loss: 1.4603e-06 - val_accuracy: 0.1736\n",
      "Epoch 53/100\n",
      "184102/184102 [==============================] - 2s 9us/step - loss: 4.2968e-06 - accuracy: 0.7244 - val_loss: 8.6974e-06 - val_accuracy: 0.1648\n",
      "Epoch 54/100\n",
      "184102/184102 [==============================] - 2s 9us/step - loss: 4.2921e-06 - accuracy: 0.7224 - val_loss: 1.4841e-06 - val_accuracy: 0.2789\n",
      "Epoch 55/100\n",
      "184102/184102 [==============================] - 2s 10us/step - loss: 4.1456e-06 - accuracy: 0.7293 - val_loss: 2.8153e-06 - val_accuracy: 0.1264\n",
      "Epoch 56/100\n",
      "184102/184102 [==============================] - 2s 9us/step - loss: 4.0752e-06 - accuracy: 0.7210 - val_loss: 2.5887e-06 - val_accuracy: 0.1484\n",
      "Epoch 57/100\n",
      "184102/184102 [==============================] - 2s 9us/step - loss: 4.0681e-06 - accuracy: 0.7259 - val_loss: 1.7835e-06 - val_accuracy: 0.5562\n",
      "Epoch 58/100\n",
      "184102/184102 [==============================] - 2s 9us/step - loss: 3.9425e-06 - accuracy: 0.7238 - val_loss: 1.1097e-05 - val_accuracy: 0.4389\n",
      "Epoch 59/100\n",
      "184102/184102 [==============================] - 2s 11us/step - loss: 3.9387e-06 - accuracy: 0.7212 - val_loss: 1.3327e-06 - val_accuracy: 0.9286\n",
      "Epoch 60/100\n",
      "184102/184102 [==============================] - 2s 11us/step - loss: 3.9047e-06 - accuracy: 0.7258 - val_loss: 2.2496e-06 - val_accuracy: 0.1426\n",
      "Epoch 61/100\n",
      "184102/184102 [==============================] - 2s 10us/step - loss: 3.8309e-06 - accuracy: 0.7240 - val_loss: 1.8146e-06 - val_accuracy: 0.6993\n",
      "Epoch 62/100\n",
      "184102/184102 [==============================] - 2s 11us/step - loss: 3.7627e-06 - accuracy: 0.7269 - val_loss: 4.1452e-06 - val_accuracy: 0.4915\n",
      "Epoch 63/100\n",
      "184102/184102 [==============================] - 2s 11us/step - loss: 3.6975e-06 - accuracy: 0.7201 - val_loss: 1.7505e-06 - val_accuracy: 0.2326\n",
      "Epoch 64/100\n",
      "184102/184102 [==============================] - 2s 10us/step - loss: 3.6769e-06 - accuracy: 0.7221 - val_loss: 1.9810e-06 - val_accuracy: 0.1793\n",
      "Epoch 65/100\n",
      "184102/184102 [==============================] - 2s 11us/step - loss: 3.5777e-06 - accuracy: 0.7219 - val_loss: 2.1565e-05 - val_accuracy: 0.9317\n",
      "Epoch 66/100\n",
      "184102/184102 [==============================] - 2s 10us/step - loss: 3.5390e-06 - accuracy: 0.7216 - val_loss: 1.9468e-05 - val_accuracy: 0.9219\n",
      "Epoch 67/100\n",
      "184102/184102 [==============================] - 2s 10us/step - loss: 3.6318e-06 - accuracy: 0.7233 - val_loss: 3.5540e-06 - val_accuracy: 0.5017\n",
      "Epoch 68/100\n",
      "184102/184102 [==============================] - 2s 13us/step - loss: 3.5008e-06 - accuracy: 0.7247 - val_loss: 1.2322e-06 - val_accuracy: 0.5973\n",
      "Epoch 69/100\n",
      "184102/184102 [==============================] - 2s 13us/step - loss: 3.4003e-06 - accuracy: 0.7265 - val_loss: 1.6465e-06 - val_accuracy: 0.2019\n",
      "Epoch 70/100\n",
      "184102/184102 [==============================] - 2s 10us/step - loss: 3.3442e-06 - accuracy: 0.7226 - val_loss: 3.1658e-06 - val_accuracy: 0.5459\n",
      "Epoch 71/100\n",
      "184102/184102 [==============================] - 2s 10us/step - loss: 3.2897e-06 - accuracy: 0.7192 - val_loss: 1.0053e-05 - val_accuracy: 0.3361\n",
      "Epoch 72/100\n",
      "184102/184102 [==============================] - 2s 10us/step - loss: 3.2772e-06 - accuracy: 0.7268 - val_loss: 2.2227e-06 - val_accuracy: 0.3974\n",
      "Epoch 73/100\n",
      "184102/184102 [==============================] - 2s 10us/step - loss: 3.2873e-06 - accuracy: 0.7204 - val_loss: 2.1323e-06 - val_accuracy: 0.4341\n",
      "Epoch 74/100\n",
      "184102/184102 [==============================] - 2s 13us/step - loss: 3.2261e-06 - accuracy: 0.7216 - val_loss: 1.8474e-05 - val_accuracy: 0.1891\n",
      "Epoch 75/100\n",
      "184102/184102 [==============================] - 2s 10us/step - loss: 3.1476e-06 - accuracy: 0.7236 - val_loss: 1.5538e-06 - val_accuracy: 0.4314\n",
      "Epoch 76/100\n",
      "184102/184102 [==============================] - 2s 10us/step - loss: 3.2261e-06 - accuracy: 0.7277 - val_loss: 2.1292e-06 - val_accuracy: 0.8427\n",
      "Epoch 77/100\n",
      "184102/184102 [==============================] - 2s 10us/step - loss: 3.1201e-06 - accuracy: 0.7274 - val_loss: 6.3907e-06 - val_accuracy: 0.1939\n",
      "Epoch 78/100\n",
      "184102/184102 [==============================] - 2s 9us/step - loss: 3.0527e-06 - accuracy: 0.7231 - val_loss: 1.5406e-06 - val_accuracy: 0.9017\n",
      "Epoch 79/100\n",
      "184102/184102 [==============================] - 2s 9us/step - loss: 3.0245e-06 - accuracy: 0.7208 - val_loss: 4.4114e-06 - val_accuracy: 0.9703\n",
      "Epoch 80/100\n",
      "184102/184102 [==============================] - 2s 11us/step - loss: 3.0649e-06 - accuracy: 0.7246 - val_loss: 2.0416e-06 - val_accuracy: 0.9226\n",
      "Epoch 81/100\n",
      "184102/184102 [==============================] - 2s 11us/step - loss: 2.9112e-06 - accuracy: 0.7250 - val_loss: 2.9615e-06 - val_accuracy: 0.3264\n",
      "Epoch 82/100\n",
      "184102/184102 [==============================] - 2s 11us/step - loss: 2.9534e-06 - accuracy: 0.7262 - val_loss: 6.2904e-06 - val_accuracy: 0.3594\n",
      "Epoch 83/100\n",
      "184102/184102 [==============================] - 2s 11us/step - loss: 2.8710e-06 - accuracy: 0.7223 - val_loss: 6.1022e-06 - val_accuracy: 0.4409\n",
      "Epoch 84/100\n",
      "184102/184102 [==============================] - 2s 10us/step - loss: 2.8634e-06 - accuracy: 0.7260 - val_loss: 5.1406e-06 - val_accuracy: 0.4821\n",
      "Epoch 85/100\n",
      "184102/184102 [==============================] - 2s 10us/step - loss: 2.8482e-06 - accuracy: 0.7278 - val_loss: 4.4525e-06 - val_accuracy: 0.1912\n",
      "Epoch 86/100\n",
      "184102/184102 [==============================] - 2s 10us/step - loss: 2.8087e-06 - accuracy: 0.7242 - val_loss: 1.0816e-05 - val_accuracy: 0.6987\n",
      "Epoch 87/100\n",
      "184102/184102 [==============================] - 2s 9us/step - loss: 2.7273e-06 - accuracy: 0.7266 - val_loss: 3.5659e-06 - val_accuracy: 0.5870\n",
      "Epoch 88/100\n",
      "184102/184102 [==============================] - 2s 11us/step - loss: 2.7734e-06 - accuracy: 0.7254 - val_loss: 1.3280e-05 - val_accuracy: 0.3639\n",
      "Epoch 89/100\n",
      "184102/184102 [==============================] - 2s 13us/step - loss: 2.6759e-06 - accuracy: 0.7291 - val_loss: 1.3367e-06 - val_accuracy: 0.3916\n",
      "Epoch 90/100\n",
      "184102/184102 [==============================] - 2s 11us/step - loss: 2.6872e-06 - accuracy: 0.7339 - val_loss: 2.1441e-06 - val_accuracy: 0.9006\n",
      "Epoch 91/100\n",
      "184102/184102 [==============================] - 2s 10us/step - loss: 2.6597e-06 - accuracy: 0.7309 - val_loss: 7.4497e-06 - val_accuracy: 0.1186\n",
      "Epoch 92/100\n",
      "184102/184102 [==============================] - 2s 10us/step - loss: 2.5354e-06 - accuracy: 0.7266 - val_loss: 5.3448e-05 - val_accuracy: 0.3415\n",
      "Epoch 93/100\n",
      "184102/184102 [==============================] - 2s 12us/step - loss: 2.6447e-06 - accuracy: 0.7254 - val_loss: 2.3517e-05 - val_accuracy: 0.1770\n",
      "Epoch 94/100\n",
      "184102/184102 [==============================] - 2s 12us/step - loss: 2.5155e-06 - accuracy: 0.7295 - val_loss: 1.2863e-05 - val_accuracy: 0.4666\n",
      "Epoch 95/100\n",
      "184102/184102 [==============================] - 2s 10us/step - loss: 2.5828e-06 - accuracy: 0.7288 - val_loss: 1.0091e-05 - val_accuracy: 0.9110\n",
      "Epoch 96/100\n",
      "184102/184102 [==============================] - 2s 10us/step - loss: 2.4651e-06 - accuracy: 0.7337 - val_loss: 3.3429e-06 - val_accuracy: 0.6506\n",
      "Epoch 97/100\n",
      "184102/184102 [==============================] - 2s 13us/step - loss: 2.4184e-06 - accuracy: 0.7292 - val_loss: 7.4243e-06 - val_accuracy: 0.2060\n",
      "Epoch 98/100\n",
      "184102/184102 [==============================] - 2s 10us/step - loss: 2.4292e-06 - accuracy: 0.7304 - val_loss: 2.2359e-06 - val_accuracy: 0.1442\n",
      "Epoch 99/100\n",
      "184102/184102 [==============================] - 2s 12us/step - loss: 2.4230e-06 - accuracy: 0.7341 - val_loss: 1.7223e-06 - val_accuracy: 0.6583\n",
      "Epoch 100/100\n",
      "184102/184102 [==============================] - 2s 11us/step - loss: 2.3530e-06 - accuracy: 0.7356 - val_loss: 1.8970e-06 - val_accuracy: 0.9685\n"
     ]
    }
   ],
   "source": [
    "history=model.fit(np.array(X_train),np.array(X_train),\n",
    "                  batch_size=BATCH_SIZE, \n",
    "                  epochs=NUM_EPOCHS,\n",
    "                  validation_split=0.05,\n",
    "                  verbose = 1)"
   ]
  },
  {
   "cell_type": "code",
   "execution_count": 13,
   "metadata": {},
   "outputs": [
    {
     "data": {
      "image/png": "[encoded data removed]",
      "text/plain": [
       "<Figure size 432x288 with 1 Axes>"
      ]
     },
     "metadata": {
      "needs_background": "light"
     },
     "output_type": "display_data"
    }
   ],
   "source": [
    "import matplotlib.pyplot as plt\n",
    "\n",
    "plt.plot(history.history['loss'], 'b', label='Training loss')\n",
    "plt.plot(history.history['val_loss'], 'r', label='Validation loss')\n",
    "plt.legend(loc='upper right')\n",
    "plt.xlabel('Epochs')\n",
    "plt.ylabel('Loss, [mse]')\n",
    "plt.ylim([0,.05])\n",
    "plt.show()"
   ]
  },
  {
   "cell_type": "code",
   "execution_count": 14,
   "metadata": {},
   "outputs": [
    {
     "data": {
      "image/png": "[encoded data removed]",
      "text/plain": [
       "<Figure size 432x288 with 1 Axes>"
      ]
     },
     "metadata": {
      "needs_background": "light"
     },
     "output_type": "display_data"
    }
   ],
   "source": [
    "X_pred = model.predict(np.array(X_train))\n",
    "\n",
    "import seaborn as sns\n",
    "\n",
    "scored = np.mean(np.abs(X_pred-X_train), axis = 1)\n",
    "plt.figure()\n",
    "sns.distplot(scored, bins = 10, kde= True, color = 'blue');\n",
    "plt.xlim([0.0,.02])\n",
    "plt.show()"
   ]
  },
  {
   "cell_type": "code",
   "execution_count": 15,
   "metadata": {},
   "outputs": [
    {
     "data": {
      "text/html": [
       "<div>\n",
       "<style scoped>\n",
       "    .dataframe tbody tr th:only-of-type {\n",
       "        vertical-align: middle;\n",
       "    }\n",
       "\n",
       "    .dataframe tbody tr th {\n",
       "        vertical-align: top;\n",
       "    }\n",
       "\n",
       "    .dataframe thead th {\n",
       "        text-align: right;\n",
       "    }\n",
       "</style>\n",
       "<table border=\"1\" class=\"dataframe\">\n",
       "  <thead>\n",
       "    <tr style=\"text-align: right;\">\n",
       "      <th></th>\n",
       "      <th>Loss_mae</th>\n",
       "      <th>Threshold</th>\n",
       "      <th>Anomaly</th>\n",
       "    </tr>\n",
       "  </thead>\n",
       "  <tbody>\n",
       "    <tr>\n",
       "      <th>13002</th>\n",
       "      <td>0.001246</td>\n",
       "      <td>0.005</td>\n",
       "      <td>False</td>\n",
       "    </tr>\n",
       "    <tr>\n",
       "      <th>22845</th>\n",
       "      <td>0.002693</td>\n",
       "      <td>0.005</td>\n",
       "      <td>False</td>\n",
       "    </tr>\n",
       "    <tr>\n",
       "      <th>10961</th>\n",
       "      <td>0.001473</td>\n",
       "      <td>0.005</td>\n",
       "      <td>False</td>\n",
       "    </tr>\n",
       "    <tr>\n",
       "      <th>15502</th>\n",
       "      <td>0.002496</td>\n",
       "      <td>0.005</td>\n",
       "      <td>False</td>\n",
       "    </tr>\n",
       "    <tr>\n",
       "      <th>40374</th>\n",
       "      <td>0.000721</td>\n",
       "      <td>0.005</td>\n",
       "      <td>False</td>\n",
       "    </tr>\n",
       "    <tr>\n",
       "      <th>...</th>\n",
       "      <td>...</td>\n",
       "      <td>...</td>\n",
       "      <td>...</td>\n",
       "    </tr>\n",
       "    <tr>\n",
       "      <th>41453</th>\n",
       "      <td>0.000932</td>\n",
       "      <td>0.005</td>\n",
       "      <td>False</td>\n",
       "    </tr>\n",
       "    <tr>\n",
       "      <th>13961</th>\n",
       "      <td>0.002448</td>\n",
       "      <td>0.005</td>\n",
       "      <td>False</td>\n",
       "    </tr>\n",
       "    <tr>\n",
       "      <th>23069</th>\n",
       "      <td>0.001569</td>\n",
       "      <td>0.005</td>\n",
       "      <td>False</td>\n",
       "    </tr>\n",
       "    <tr>\n",
       "      <th>40604</th>\n",
       "      <td>0.000922</td>\n",
       "      <td>0.005</td>\n",
       "      <td>False</td>\n",
       "    </tr>\n",
       "    <tr>\n",
       "      <th>44594</th>\n",
       "      <td>0.000445</td>\n",
       "      <td>0.005</td>\n",
       "      <td>False</td>\n",
       "    </tr>\n",
       "  </tbody>\n",
       "</table>\n",
       "<p>100 rows × 3 columns</p>\n",
       "</div>"
      ],
      "text/plain": [
       "       Loss_mae  Threshold  Anomaly\n",
       "13002  0.001246      0.005    False\n",
       "22845  0.002693      0.005    False\n",
       "10961  0.001473      0.005    False\n",
       "15502  0.002496      0.005    False\n",
       "40374  0.000721      0.005    False\n",
       "...         ...        ...      ...\n",
       "41453  0.000932      0.005    False\n",
       "13961  0.002448      0.005    False\n",
       "23069  0.001569      0.005    False\n",
       "40604  0.000922      0.005    False\n",
       "44594  0.000445      0.005    False\n",
       "\n",
       "[100 rows x 3 columns]"
      ]
     },
     "execution_count": 15,
     "metadata": {},
     "output_type": "execute_result"
    }
   ],
   "source": [
    "X_pred = model.predict(np.array(X_test))\n",
    "\n",
    "scored = pd.DataFrame()\n",
    "scored['Loss_mae'] = np.mean(np.abs(X_pred-X_test), axis = 1)\n",
    "scored['Threshold'] = 0.006\n",
    "scored['Anomaly'] = scored['Loss_mae'] > scored['Threshold']\n",
    "scored.sample(100)"
   ]
  },
  {
   "cell_type": "code",
   "execution_count": 16,
   "metadata": {},
   "outputs": [],
   "source": [
    "X_pred_train = model.predict(np.array(X_train))\n",
    "X_pred_train = pd.DataFrame(X_pred_train)\n",
    "\n",
    "scored_train = pd.DataFrame()\n",
    "scored_train['Loss_mae'] = np.mean(np.abs(X_pred_train-X_train), axis = 1)\n",
    "scored_train['Threshold'] = 0.006\n",
    "scored_train['Anomaly'] = scored_train['Loss_mae'] > scored_train['Threshold']\n",
    "scored = pd.concat([scored_train, scored])"
   ]
  },
  {
   "cell_type": "code",
   "execution_count": 17,
   "metadata": {},
   "outputs": [
    {
     "data": {
      "text/plain": [
       "<matplotlib.axes._subplots.AxesSubplot at 0x1d3d2e8e648>"
      ]
     },
     "execution_count": 17,
     "metadata": {},
     "output_type": "execute_result"
    },
    {
     "data": {
      "image/png": "[encoded data removed]",
      "text/plain": [
       "<Figure size 720x432 with 1 Axes>"
      ]
     },
     "metadata": {
      "needs_background": "light"
     },
     "output_type": "display_data"
    }
   ],
   "source": [
    "scored.plot(logy=True,  figsize = (10,6), xlim =[0,1000], ylim = [1e-4,1e-1], color = ['blue','red'])"
   ]
  },
  {
   "cell_type": "code",
   "execution_count": 18,
   "metadata": {},
   "outputs": [
    {
     "data": {
      "text/plain": [
       "0.001496303391911961"
      ]
     },
     "execution_count": 18,
     "metadata": {},
     "output_type": "execute_result"
    }
   ],
   "source": [
    "scored_train['Loss_mae'].mean()"
   ]
  },
  {
   "cell_type": "code",
   "execution_count": null,
   "metadata": {},
   "outputs": [],
   "source": []
  }
 ],
 "metadata": {
  "kernelspec": {
   "display_name": "Python 3",
   "language": "python",
   "name": "python3"
  },
  "language_info": {
   "codemirror_mode": {
    "name": "ipython",
    "version": 3
   },
   "file_extension": ".py",
   "mimetype": "text/x-python",
   "name": "python",
   "nbconvert_exporter": "python",
   "pygments_lexer": "ipython3",
   "version": "3.7.4"
  }
 },
 "nbformat": 4,
 "nbformat_minor": 4
}
