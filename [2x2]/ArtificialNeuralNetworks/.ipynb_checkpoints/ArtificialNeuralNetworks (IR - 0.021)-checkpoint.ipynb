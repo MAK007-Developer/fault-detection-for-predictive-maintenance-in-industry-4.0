{
 "cells": [
  {
   "cell_type": "code",
   "execution_count": 1,
   "metadata": {},
   "outputs": [],
   "source": [
    "#importing packages\n",
    "import pandas as pd\n",
    "import numpy as np"
   ]
  },
  {
   "cell_type": "code",
   "execution_count": 2,
   "metadata": {},
   "outputs": [],
   "source": [
    "# Importing the dataset\n",
    "dataset = pd.read_csv('../IR - 21.csv')\n",
    "X = dataset.iloc[:, 1:4].values\n",
    "y = dataset.iloc[:, 0:1].values"
   ]
  },
  {
   "cell_type": "code",
   "execution_count": 3,
   "metadata": {},
   "outputs": [
    {
     "data": {
      "text/html": [
       "<div>\n",
       "<style scoped>\n",
       "    .dataframe tbody tr th:only-of-type {\n",
       "        vertical-align: middle;\n",
       "    }\n",
       "\n",
       "    .dataframe tbody tr th {\n",
       "        vertical-align: top;\n",
       "    }\n",
       "\n",
       "    .dataframe thead th {\n",
       "        text-align: right;\n",
       "    }\n",
       "</style>\n",
       "<table border=\"1\" class=\"dataframe\">\n",
       "  <thead>\n",
       "    <tr style=\"text-align: right;\">\n",
       "      <th></th>\n",
       "      <th>Bearing</th>\n",
       "      <th>Fault Diameter</th>\n",
       "      <th>DE</th>\n",
       "      <th>FE</th>\n",
       "    </tr>\n",
       "  </thead>\n",
       "  <tbody>\n",
       "    <tr>\n",
       "      <th>0</th>\n",
       "      <td>Normal</td>\n",
       "      <td>0.0</td>\n",
       "      <td>0.064254</td>\n",
       "      <td>0.038625</td>\n",
       "    </tr>\n",
       "    <tr>\n",
       "      <th>1</th>\n",
       "      <td>Normal</td>\n",
       "      <td>0.0</td>\n",
       "      <td>0.063002</td>\n",
       "      <td>0.096769</td>\n",
       "    </tr>\n",
       "    <tr>\n",
       "      <th>2</th>\n",
       "      <td>Normal</td>\n",
       "      <td>0.0</td>\n",
       "      <td>-0.004381</td>\n",
       "      <td>0.127382</td>\n",
       "    </tr>\n",
       "    <tr>\n",
       "      <th>3</th>\n",
       "      <td>Normal</td>\n",
       "      <td>0.0</td>\n",
       "      <td>-0.035882</td>\n",
       "      <td>0.144640</td>\n",
       "    </tr>\n",
       "    <tr>\n",
       "      <th>4</th>\n",
       "      <td>Normal</td>\n",
       "      <td>0.0</td>\n",
       "      <td>-0.023991</td>\n",
       "      <td>0.086702</td>\n",
       "    </tr>\n",
       "  </tbody>\n",
       "</table>\n",
       "</div>"
      ],
      "text/plain": [
       "  Bearing  Fault Diameter        DE        FE\n",
       "0  Normal             0.0  0.064254  0.038625\n",
       "1  Normal             0.0  0.063002  0.096769\n",
       "2  Normal             0.0 -0.004381  0.127382\n",
       "3  Normal             0.0 -0.035882  0.144640\n",
       "4  Normal             0.0 -0.023991  0.086702"
      ]
     },
     "execution_count": 3,
     "metadata": {},
     "output_type": "execute_result"
    }
   ],
   "source": [
    "dataset.head(5)"
   ]
  },
  {
   "cell_type": "code",
   "execution_count": 4,
   "metadata": {},
   "outputs": [
    {
     "data": {
      "text/html": [
       "<div>\n",
       "<style scoped>\n",
       "    .dataframe tbody tr th:only-of-type {\n",
       "        vertical-align: middle;\n",
       "    }\n",
       "\n",
       "    .dataframe tbody tr th {\n",
       "        vertical-align: top;\n",
       "    }\n",
       "\n",
       "    .dataframe thead th {\n",
       "        text-align: right;\n",
       "    }\n",
       "</style>\n",
       "<table border=\"1\" class=\"dataframe\">\n",
       "  <thead>\n",
       "    <tr style=\"text-align: right;\">\n",
       "      <th></th>\n",
       "      <th>Bearing</th>\n",
       "      <th>Fault Diameter</th>\n",
       "      <th>DE</th>\n",
       "      <th>FE</th>\n",
       "    </tr>\n",
       "  </thead>\n",
       "  <tbody>\n",
       "    <tr>\n",
       "      <th>85199</th>\n",
       "      <td>Normal</td>\n",
       "      <td>0.000</td>\n",
       "      <td>0.082194</td>\n",
       "      <td>0.062047</td>\n",
       "    </tr>\n",
       "    <tr>\n",
       "      <th>108838</th>\n",
       "      <td>Normal</td>\n",
       "      <td>0.000</td>\n",
       "      <td>0.030249</td>\n",
       "      <td>-0.023627</td>\n",
       "    </tr>\n",
       "    <tr>\n",
       "      <th>194472</th>\n",
       "      <td>Inner Race (0.021\")</td>\n",
       "      <td>0.021</td>\n",
       "      <td>0.048324</td>\n",
       "      <td>-0.011095</td>\n",
       "    </tr>\n",
       "    <tr>\n",
       "      <th>65217</th>\n",
       "      <td>Normal</td>\n",
       "      <td>0.000</td>\n",
       "      <td>0.009596</td>\n",
       "      <td>0.066773</td>\n",
       "    </tr>\n",
       "    <tr>\n",
       "      <th>90065</th>\n",
       "      <td>Normal</td>\n",
       "      <td>0.000</td>\n",
       "      <td>-0.008553</td>\n",
       "      <td>-0.001849</td>\n",
       "    </tr>\n",
       "    <tr>\n",
       "      <th>24824</th>\n",
       "      <td>Normal</td>\n",
       "      <td>0.000</td>\n",
       "      <td>0.017524</td>\n",
       "      <td>0.182238</td>\n",
       "    </tr>\n",
       "    <tr>\n",
       "      <th>17231</th>\n",
       "      <td>Normal</td>\n",
       "      <td>0.000</td>\n",
       "      <td>0.019610</td>\n",
       "      <td>0.044378</td>\n",
       "    </tr>\n",
       "    <tr>\n",
       "      <th>125190</th>\n",
       "      <td>Inner Race (0.021\")</td>\n",
       "      <td>0.021</td>\n",
       "      <td>0.427610</td>\n",
       "      <td>-0.172376</td>\n",
       "    </tr>\n",
       "    <tr>\n",
       "      <th>66283</th>\n",
       "      <td>Normal</td>\n",
       "      <td>0.000</td>\n",
       "      <td>-0.051319</td>\n",
       "      <td>0.123889</td>\n",
       "    </tr>\n",
       "    <tr>\n",
       "      <th>229488</th>\n",
       "      <td>Inner Race (0.021\")</td>\n",
       "      <td>0.021</td>\n",
       "      <td>0.002843</td>\n",
       "      <td>0.091427</td>\n",
       "    </tr>\n",
       "  </tbody>\n",
       "</table>\n",
       "</div>"
      ],
      "text/plain": [
       "                    Bearing  Fault Diameter        DE        FE\n",
       "85199                Normal           0.000  0.082194  0.062047\n",
       "108838               Normal           0.000  0.030249 -0.023627\n",
       "194472  Inner Race (0.021\")           0.021  0.048324 -0.011095\n",
       "65217                Normal           0.000  0.009596  0.066773\n",
       "90065                Normal           0.000 -0.008553 -0.001849\n",
       "24824                Normal           0.000  0.017524  0.182238\n",
       "17231                Normal           0.000  0.019610  0.044378\n",
       "125190  Inner Race (0.021\")           0.021  0.427610 -0.172376\n",
       "66283                Normal           0.000 -0.051319  0.123889\n",
       "229488  Inner Race (0.021\")           0.021  0.002843  0.091427"
      ]
     },
     "execution_count": 4,
     "metadata": {},
     "output_type": "execute_result"
    }
   ],
   "source": [
    "#Retrieve Random Data\n",
    "dataset.sample(10)"
   ]
  },
  {
   "cell_type": "code",
   "execution_count": 5,
   "metadata": {},
   "outputs": [],
   "source": [
    "from sklearn.preprocessing import LabelEncoder, OneHotEncoder\n",
    "from sklearn.compose import ColumnTransformer\n",
    "labelencoder_y = LabelEncoder()\n",
    "y[:,0] = labelencoder_y.fit_transform(y[:,0])\n",
    "ct = ColumnTransformer([(\"Bearing\", OneHotEncoder(), [0])],    remainder = 'passthrough')\n",
    "y = ct.fit_transform(y)"
   ]
  },
  {
   "cell_type": "code",
   "execution_count": 6,
   "metadata": {},
   "outputs": [],
   "source": [
    "from sklearn.model_selection import train_test_split\n",
    "X_train, X_test, y_train, y_test = train_test_split(X, y, test_size = 0.2, random_state = 0)\n"
   ]
  },
  {
   "cell_type": "code",
   "execution_count": 7,
   "metadata": {},
   "outputs": [],
   "source": [
    "from sklearn.preprocessing import StandardScaler\n",
    "sc = StandardScaler()\n",
    "X_train = sc.fit_transform(X_train)\n",
    "X_test = sc.transform(X_test)"
   ]
  },
  {
   "cell_type": "code",
   "execution_count": 8,
   "metadata": {},
   "outputs": [
    {
     "data": {
      "text/plain": [
       "array([[0., 1.],\n",
       "       [0., 1.],\n",
       "       [0., 1.],\n",
       "       ...,\n",
       "       [1., 0.],\n",
       "       [0., 1.],\n",
       "       [1., 0.]])"
      ]
     },
     "execution_count": 8,
     "metadata": {},
     "output_type": "execute_result"
    }
   ],
   "source": [
    "y_train"
   ]
  },
  {
   "cell_type": "code",
   "execution_count": 9,
   "metadata": {},
   "outputs": [
    {
     "name": "stderr",
     "output_type": "stream",
     "text": [
      "Using TensorFlow backend.\n"
     ]
    }
   ],
   "source": [
    "import keras\n",
    "from keras.models import Sequential\n",
    "from keras.layers import Dense"
   ]
  },
  {
   "cell_type": "code",
   "execution_count": 10,
   "metadata": {},
   "outputs": [],
   "source": [
    "classifier = Sequential()"
   ]
  },
  {
   "cell_type": "code",
   "execution_count": 11,
   "metadata": {},
   "outputs": [
    {
     "name": "stderr",
     "output_type": "stream",
     "text": [
      "C:\\Users\\leste\\Anaconda3\\lib\\site-packages\\ipykernel_launcher.py:1: UserWarning: Update your `Dense` call to the Keras 2 API: `Dense(kernel_initializer=\"uniform\", activation=\"relu\", input_dim=3, units=3)`\n",
      "  \"\"\"Entry point for launching an IPython kernel.\n"
     ]
    }
   ],
   "source": [
    "classifier.add(Dense(output_dim = 3, kernel_initializer = 'uniform', activation = 'relu', input_dim = 3))"
   ]
  },
  {
   "cell_type": "code",
   "execution_count": 12,
   "metadata": {},
   "outputs": [
    {
     "name": "stderr",
     "output_type": "stream",
     "text": [
      "C:\\Users\\leste\\Anaconda3\\lib\\site-packages\\ipykernel_launcher.py:1: UserWarning: Update your `Dense` call to the Keras 2 API: `Dense(kernel_initializer=\"uniform\", activation=\"relu\", units=3)`\n",
      "  \"\"\"Entry point for launching an IPython kernel.\n"
     ]
    }
   ],
   "source": [
    "classifier.add(Dense(output_dim = 3, kernel_initializer = 'uniform', activation = 'relu'))"
   ]
  },
  {
   "cell_type": "code",
   "execution_count": 13,
   "metadata": {},
   "outputs": [
    {
     "name": "stderr",
     "output_type": "stream",
     "text": [
      "C:\\Users\\leste\\Anaconda3\\lib\\site-packages\\ipykernel_launcher.py:1: UserWarning: Update your `Dense` call to the Keras 2 API: `Dense(kernel_initializer=\"uniform\", activation=\"sigmoid\", units=2)`\n",
      "  \"\"\"Entry point for launching an IPython kernel.\n"
     ]
    }
   ],
   "source": [
    "classifier.add(Dense(output_dim = 2, kernel_initializer = 'uniform', activation = 'sigmoid'))"
   ]
  },
  {
   "cell_type": "code",
   "execution_count": 14,
   "metadata": {},
   "outputs": [],
   "source": [
    "classifier.compile(optimizer = 'adam', loss = 'binary_crossentropy', metrics = ['accuracy'])"
   ]
  },
  {
   "cell_type": "code",
   "execution_count": null,
   "metadata": {},
   "outputs": [
    {
     "name": "stderr",
     "output_type": "stream",
     "text": [
      "C:\\Users\\leste\\Anaconda3\\lib\\site-packages\\ipykernel_launcher.py:1: UserWarning: The `nb_epoch` argument in `fit` has been renamed `epochs`.\n",
      "  \"\"\"Entry point for launching an IPython kernel.\n"
     ]
    },
    {
     "name": "stdout",
     "output_type": "stream",
     "text": [
      "Epoch 1/100\n",
      "193792/193792 [==============================] - 2s 12us/step - loss: 0.2505 - accuracy: 0.9629\n",
      "Epoch 2/100\n",
      "193792/193792 [==============================] - 3s 13us/step - loss: 0.0473 - accuracy: 1.0000\n",
      "Epoch 3/100\n",
      "193792/193792 [==============================] - 3s 14us/step - loss: 0.0178 - accuracy: 1.0000\n",
      "Epoch 4/100\n",
      "193792/193792 [==============================] - 2s 10us/step - loss: 0.0075 - accuracy: 1.0000\n",
      "Epoch 5/100\n",
      "193792/193792 [==============================] - 2s 10us/step - loss: 0.0033 - accuracy: 1.0000\n",
      "Epoch 6/100\n",
      "193792/193792 [==============================] - 2s 10us/step - loss: 0.0014 - accuracy: 1.0000\n",
      "Epoch 7/100\n",
      "193792/193792 [==============================] - 2s 10us/step - loss: 6.4416e-04 - accuracy: 1.0000\n",
      "Epoch 8/100\n",
      "193792/193792 [==============================] - 2s 12us/step - loss: 2.8800e-04 - accuracy: 1.0000\n",
      "Epoch 9/100\n",
      "193792/193792 [==============================] - 3s 15us/step - loss: 1.2892e-04 - accuracy: 1.0000\n",
      "Epoch 10/100\n",
      "193792/193792 [==============================] - 3s 16us/step - loss: 5.7757e-05 - accuracy: 1.0000\n",
      "Epoch 11/100\n",
      "193792/193792 [==============================] - 2s 12us/step - loss: 2.5903e-05 - accuracy: 1.0000\n",
      "Epoch 12/100\n",
      "193792/193792 [==============================] - 2s 12us/step - loss: 1.1637e-05 - accuracy: 1.0000\n",
      "Epoch 13/100\n",
      "193792/193792 [==============================] - 3s 14us/step - loss: 5.2462e-06 - accuracy: 1.0000\n",
      "Epoch 14/100\n",
      "193792/193792 [==============================] - 3s 16us/step - loss: 2.3835e-06 - accuracy: 1.0000\n",
      "Epoch 15/100\n",
      "193792/193792 [==============================] - 3s 18us/step - loss: 1.1005e-06 - accuracy: 1.0000\n",
      "Epoch 16/100\n",
      "193792/193792 [==============================] - 3s 16us/step - loss: 5.2482e-07 - accuracy: 1.0000\n",
      "Epoch 17/100\n",
      "193792/193792 [==============================] - 3s 16us/step - loss: 2.6590e-07 - accuracy: 1.0000\n",
      "Epoch 18/100\n",
      "193792/193792 [==============================] - 3s 15us/step - loss: 1.4768e-07 - accuracy: 1.0000\n",
      "Epoch 19/100\n",
      "193792/193792 [==============================] - 3s 15us/step - loss: 9.2191e-08 - accuracy: 1.0000\n",
      "Epoch 20/100\n",
      "193792/193792 [==============================] - 3s 16us/step - loss: 6.5422e-08 - accuracy: 1.0000\n",
      "Epoch 21/100\n",
      "193792/193792 [==============================] - 3s 16us/step - loss: 4.9862e-08 - accuracy: 1.0000\n",
      "Epoch 22/100\n",
      "193792/193792 [==============================] - 3s 17us/step - loss: 3.8881e-08 - accuracy: 1.0000\n",
      "Epoch 23/100\n",
      "193792/193792 [==============================] - 4s 19us/step - loss: 3.4021e-08 - accuracy: 1.0000\n",
      "Epoch 24/100\n",
      "193792/193792 [==============================] - 4s 19us/step - loss: 3.1978e-08 - accuracy: 1.0000\n",
      "Epoch 25/100\n",
      "193792/193792 [==============================] - 4s 18us/step - loss: 3.0415e-08 - accuracy: 1.0000\n",
      "Epoch 26/100\n",
      "193792/193792 [==============================] - 4s 18us/step - loss: 2.9138e-08 - accuracy: 1.0000\n",
      "Epoch 27/100\n",
      "193792/193792 [==============================] - 4s 21us/step - loss: 2.8787e-08 - accuracy: 1.0000\n",
      "Epoch 28/100\n",
      "193792/193792 [==============================] - 4s 21us/step - loss: 2.7767e-08 - accuracy: 1.0000\n",
      "Epoch 29/100\n",
      "193792/193792 [==============================] - 4s 19us/step - loss: 2.6820e-08 - accuracy: 1.0000\n",
      "Epoch 30/100\n",
      "193792/193792 [==============================] - 4s 19us/step - loss: 2.6960e-08 - accuracy: 1.0000\n",
      "Epoch 31/100\n",
      "171400/193792 [=========================>....] - ETA: 0s - loss: 2.6095e-08 - accuracy: 1.0000"
     ]
    }
   ],
   "source": [
    "\n",
    "model = classifier.fit(X_train, y_train, batch_size = 100, nb_epoch = 100, shuffle = False)\n"
   ]
  },
  {
   "cell_type": "code",
   "execution_count": null,
   "metadata": {},
   "outputs": [],
   "source": [
    "y_pred = classifier.predict(X_test)\n",
    "y_pred = (y_pred > 0.5)"
   ]
  },
  {
   "cell_type": "code",
   "execution_count": null,
   "metadata": {},
   "outputs": [],
   "source": [
    "from sklearn.metrics import confusion_matrix\n",
    "cm = confusion_matrix(y_test.argmax(axis=1), y_pred.argmax(axis=1))\n",
    "\n",
    "import seaborn as sn\n",
    "import pandas as pd\n",
    "import matplotlib.pyplot as plt\n",
    "\n",
    "index = ['Normal', 'Inner Race (0.021\")']  \n",
    "columns = ['Normal', 'Inner Race (0.021\")']  \n",
    "cm_df = pd.DataFrame(cm,columns,index)  \n",
    "\n",
    "\n",
    "plt.figure(figsize=(10,4))\n",
    "sn.set(font_scale=1.4) # for label size\n",
    "sn.heatmap(cm_df, annot=True, fmt='g') # font size\n",
    "plt.title('Confusion matrix')\n",
    "plt.xlabel('Predicted')\n",
    "plt.ylabel('True')\n",
    "plt.show()\n",
    "\n",
    "plt.show()"
   ]
  },
  {
   "cell_type": "code",
   "execution_count": null,
   "metadata": {},
   "outputs": [],
   "source": [
    "classifier.evaluate(X_test, y_test)"
   ]
  },
  {
   "cell_type": "code",
   "execution_count": null,
   "metadata": {},
   "outputs": [],
   "source": [
    "from sklearn.metrics import classification_report\n",
    "cr = classification_report(y_test, y_pred, target_names=['Normal', 'Inner Race (0.021\")'])\n",
    "print(cr)"
   ]
  },
  {
   "cell_type": "code",
   "execution_count": null,
   "metadata": {},
   "outputs": [],
   "source": []
  }
 ],
 "metadata": {
  "kernelspec": {
   "display_name": "Python 3",
   "language": "python",
   "name": "python3"
  },
  "language_info": {
   "codemirror_mode": {
    "name": "ipython",
    "version": 3
   },
   "file_extension": ".py",
   "mimetype": "text/x-python",
   "name": "python",
   "nbconvert_exporter": "python",
   "pygments_lexer": "ipython3",
   "version": "3.7.4"
  }
 },
 "nbformat": 4,
 "nbformat_minor": 4
}
