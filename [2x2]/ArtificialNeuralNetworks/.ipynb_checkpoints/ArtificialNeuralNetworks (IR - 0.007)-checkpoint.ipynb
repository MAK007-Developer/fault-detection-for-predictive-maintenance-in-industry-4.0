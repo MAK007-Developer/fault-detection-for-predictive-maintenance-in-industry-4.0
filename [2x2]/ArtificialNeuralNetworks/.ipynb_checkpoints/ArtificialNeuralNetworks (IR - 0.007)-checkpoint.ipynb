{
 "cells": [
  {
   "cell_type": "code",
   "execution_count": 1,
   "metadata": {},
   "outputs": [],
   "source": [
    "#importing packages\n",
    "import pandas as pd\n",
    "import numpy as np"
   ]
  },
  {
   "cell_type": "code",
   "execution_count": 2,
   "metadata": {},
   "outputs": [],
   "source": [
    "# Importing the dataset\n",
    "dataset = pd.read_csv('../IR - 7.csv')\n",
    "X = dataset.iloc[:, 1:4].values\n",
    "y = dataset.iloc[:, 0:1].values"
   ]
  },
  {
   "cell_type": "code",
   "execution_count": 3,
   "metadata": {},
   "outputs": [
    {
     "data": {
      "text/html": [
       "<div>\n",
       "<style scoped>\n",
       "    .dataframe tbody tr th:only-of-type {\n",
       "        vertical-align: middle;\n",
       "    }\n",
       "\n",
       "    .dataframe tbody tr th {\n",
       "        vertical-align: top;\n",
       "    }\n",
       "\n",
       "    .dataframe thead th {\n",
       "        text-align: right;\n",
       "    }\n",
       "</style>\n",
       "<table border=\"1\" class=\"dataframe\">\n",
       "  <thead>\n",
       "    <tr style=\"text-align: right;\">\n",
       "      <th></th>\n",
       "      <th>Bearing</th>\n",
       "      <th>Fault Diameter</th>\n",
       "      <th>DE</th>\n",
       "      <th>FE</th>\n",
       "    </tr>\n",
       "  </thead>\n",
       "  <tbody>\n",
       "    <tr>\n",
       "      <th>0</th>\n",
       "      <td>Normal</td>\n",
       "      <td>0.0</td>\n",
       "      <td>0.064254</td>\n",
       "      <td>0.038625</td>\n",
       "    </tr>\n",
       "    <tr>\n",
       "      <th>1</th>\n",
       "      <td>Normal</td>\n",
       "      <td>0.0</td>\n",
       "      <td>0.063002</td>\n",
       "      <td>0.096769</td>\n",
       "    </tr>\n",
       "    <tr>\n",
       "      <th>2</th>\n",
       "      <td>Normal</td>\n",
       "      <td>0.0</td>\n",
       "      <td>-0.004381</td>\n",
       "      <td>0.127382</td>\n",
       "    </tr>\n",
       "    <tr>\n",
       "      <th>3</th>\n",
       "      <td>Normal</td>\n",
       "      <td>0.0</td>\n",
       "      <td>-0.035882</td>\n",
       "      <td>0.144640</td>\n",
       "    </tr>\n",
       "    <tr>\n",
       "      <th>4</th>\n",
       "      <td>Normal</td>\n",
       "      <td>0.0</td>\n",
       "      <td>-0.023991</td>\n",
       "      <td>0.086702</td>\n",
       "    </tr>\n",
       "  </tbody>\n",
       "</table>\n",
       "</div>"
      ],
      "text/plain": [
       "  Bearing  Fault Diameter        DE        FE\n",
       "0  Normal             0.0  0.064254  0.038625\n",
       "1  Normal             0.0  0.063002  0.096769\n",
       "2  Normal             0.0 -0.004381  0.127382\n",
       "3  Normal             0.0 -0.035882  0.144640\n",
       "4  Normal             0.0 -0.023991  0.086702"
      ]
     },
     "execution_count": 3,
     "metadata": {},
     "output_type": "execute_result"
    }
   ],
   "source": [
    "dataset.head(5)"
   ]
  },
  {
   "cell_type": "code",
   "execution_count": 4,
   "metadata": {},
   "outputs": [
    {
     "data": {
      "text/html": [
       "<div>\n",
       "<style scoped>\n",
       "    .dataframe tbody tr th:only-of-type {\n",
       "        vertical-align: middle;\n",
       "    }\n",
       "\n",
       "    .dataframe tbody tr th {\n",
       "        vertical-align: top;\n",
       "    }\n",
       "\n",
       "    .dataframe thead th {\n",
       "        text-align: right;\n",
       "    }\n",
       "</style>\n",
       "<table border=\"1\" class=\"dataframe\">\n",
       "  <thead>\n",
       "    <tr style=\"text-align: right;\">\n",
       "      <th></th>\n",
       "      <th>Bearing</th>\n",
       "      <th>Fault Diameter</th>\n",
       "      <th>DE</th>\n",
       "      <th>FE</th>\n",
       "    </tr>\n",
       "  </thead>\n",
       "  <tbody>\n",
       "    <tr>\n",
       "      <th>125463</th>\n",
       "      <td>Inner Race (0.007\")</td>\n",
       "      <td>0.007</td>\n",
       "      <td>0.134984</td>\n",
       "      <td>0.415840</td>\n",
       "    </tr>\n",
       "    <tr>\n",
       "      <th>116318</th>\n",
       "      <td>Normal</td>\n",
       "      <td>0.000</td>\n",
       "      <td>0.038802</td>\n",
       "      <td>0.036160</td>\n",
       "    </tr>\n",
       "    <tr>\n",
       "      <th>26248</th>\n",
       "      <td>Normal</td>\n",
       "      <td>0.000</td>\n",
       "      <td>-0.042349</td>\n",
       "      <td>-0.018080</td>\n",
       "    </tr>\n",
       "    <tr>\n",
       "      <th>161650</th>\n",
       "      <td>Inner Race (0.007\")</td>\n",
       "      <td>0.007</td>\n",
       "      <td>0.270779</td>\n",
       "      <td>-0.063280</td>\n",
       "    </tr>\n",
       "    <tr>\n",
       "      <th>112618</th>\n",
       "      <td>Normal</td>\n",
       "      <td>0.000</td>\n",
       "      <td>-0.025242</td>\n",
       "      <td>-0.034722</td>\n",
       "    </tr>\n",
       "    <tr>\n",
       "      <th>65446</th>\n",
       "      <td>Normal</td>\n",
       "      <td>0.000</td>\n",
       "      <td>0.023365</td>\n",
       "      <td>0.035133</td>\n",
       "    </tr>\n",
       "    <tr>\n",
       "      <th>206136</th>\n",
       "      <td>Inner Race (0.007\")</td>\n",
       "      <td>0.007</td>\n",
       "      <td>-0.103146</td>\n",
       "      <td>0.155735</td>\n",
       "    </tr>\n",
       "    <tr>\n",
       "      <th>111639</th>\n",
       "      <td>Normal</td>\n",
       "      <td>0.000</td>\n",
       "      <td>0.047982</td>\n",
       "      <td>0.125122</td>\n",
       "    </tr>\n",
       "    <tr>\n",
       "      <th>55501</th>\n",
       "      <td>Normal</td>\n",
       "      <td>0.000</td>\n",
       "      <td>0.079691</td>\n",
       "      <td>0.037393</td>\n",
       "    </tr>\n",
       "    <tr>\n",
       "      <th>186659</th>\n",
       "      <td>Inner Race (0.007\")</td>\n",
       "      <td>0.007</td>\n",
       "      <td>-0.058964</td>\n",
       "      <td>-0.060404</td>\n",
       "    </tr>\n",
       "  </tbody>\n",
       "</table>\n",
       "</div>"
      ],
      "text/plain": [
       "                    Bearing  Fault Diameter        DE        FE\n",
       "125463  Inner Race (0.007\")           0.007  0.134984  0.415840\n",
       "116318               Normal           0.000  0.038802  0.036160\n",
       "26248                Normal           0.000 -0.042349 -0.018080\n",
       "161650  Inner Race (0.007\")           0.007  0.270779 -0.063280\n",
       "112618               Normal           0.000 -0.025242 -0.034722\n",
       "65446                Normal           0.000  0.023365  0.035133\n",
       "206136  Inner Race (0.007\")           0.007 -0.103146  0.155735\n",
       "111639               Normal           0.000  0.047982  0.125122\n",
       "55501                Normal           0.000  0.079691  0.037393\n",
       "186659  Inner Race (0.007\")           0.007 -0.058964 -0.060404"
      ]
     },
     "execution_count": 4,
     "metadata": {},
     "output_type": "execute_result"
    }
   ],
   "source": [
    "#Retrieve Random Data\n",
    "dataset.sample(10)"
   ]
  },
  {
   "cell_type": "code",
   "execution_count": 5,
   "metadata": {},
   "outputs": [],
   "source": [
    "from sklearn.preprocessing import LabelEncoder, OneHotEncoder\n",
    "from sklearn.compose import ColumnTransformer\n",
    "labelencoder_y = LabelEncoder()\n",
    "y[:,0] = labelencoder_y.fit_transform(y[:,0])\n",
    "ct = ColumnTransformer([(\"Bearing\", OneHotEncoder(), [0])],    remainder = 'passthrough')\n",
    "y = ct.fit_transform(y)"
   ]
  },
  {
   "cell_type": "code",
   "execution_count": 6,
   "metadata": {},
   "outputs": [],
   "source": [
    "from sklearn.model_selection import train_test_split\n",
    "X_train, X_test, y_train, y_test = train_test_split(X, y, test_size = 0.2, random_state = 0)\n"
   ]
  },
  {
   "cell_type": "code",
   "execution_count": 7,
   "metadata": {},
   "outputs": [],
   "source": [
    "from sklearn.preprocessing import StandardScaler\n",
    "sc = StandardScaler()\n",
    "X_train = sc.fit_transform(X_train)\n",
    "X_test = sc.transform(X_test)"
   ]
  },
  {
   "cell_type": "code",
   "execution_count": 8,
   "metadata": {},
   "outputs": [
    {
     "data": {
      "text/plain": [
       "array([[0., 1.],\n",
       "       [0., 1.],\n",
       "       [0., 1.],\n",
       "       ...,\n",
       "       [1., 0.],\n",
       "       [0., 1.],\n",
       "       [1., 0.]])"
      ]
     },
     "execution_count": 8,
     "metadata": {},
     "output_type": "execute_result"
    }
   ],
   "source": [
    "y_train"
   ]
  },
  {
   "cell_type": "code",
   "execution_count": 9,
   "metadata": {},
   "outputs": [
    {
     "name": "stderr",
     "output_type": "stream",
     "text": [
      "Using TensorFlow backend.\n"
     ]
    }
   ],
   "source": [
    "import keras\n",
    "from keras.models import Sequential\n",
    "from keras.layers import Dense"
   ]
  },
  {
   "cell_type": "code",
   "execution_count": 10,
   "metadata": {},
   "outputs": [],
   "source": [
    "classifier = Sequential()"
   ]
  },
  {
   "cell_type": "code",
   "execution_count": 11,
   "metadata": {},
   "outputs": [
    {
     "name": "stderr",
     "output_type": "stream",
     "text": [
      "C:\\Users\\leste\\Anaconda3\\lib\\site-packages\\ipykernel_launcher.py:1: UserWarning: Update your `Dense` call to the Keras 2 API: `Dense(kernel_initializer=\"uniform\", activation=\"relu\", input_dim=3, units=3)`\n",
      "  \"\"\"Entry point for launching an IPython kernel.\n"
     ]
    }
   ],
   "source": [
    "classifier.add(Dense(output_dim = 3, kernel_initializer = 'uniform', activation = 'relu', input_dim = 3))"
   ]
  },
  {
   "cell_type": "code",
   "execution_count": 12,
   "metadata": {},
   "outputs": [
    {
     "name": "stderr",
     "output_type": "stream",
     "text": [
      "C:\\Users\\leste\\Anaconda3\\lib\\site-packages\\ipykernel_launcher.py:1: UserWarning: Update your `Dense` call to the Keras 2 API: `Dense(kernel_initializer=\"uniform\", activation=\"relu\", units=3)`\n",
      "  \"\"\"Entry point for launching an IPython kernel.\n"
     ]
    }
   ],
   "source": [
    "classifier.add(Dense(output_dim = 3, kernel_initializer = 'uniform', activation = 'relu'))"
   ]
  },
  {
   "cell_type": "code",
   "execution_count": 13,
   "metadata": {},
   "outputs": [
    {
     "name": "stderr",
     "output_type": "stream",
     "text": [
      "C:\\Users\\leste\\Anaconda3\\lib\\site-packages\\ipykernel_launcher.py:1: UserWarning: Update your `Dense` call to the Keras 2 API: `Dense(kernel_initializer=\"uniform\", activation=\"sigmoid\", units=2)`\n",
      "  \"\"\"Entry point for launching an IPython kernel.\n"
     ]
    }
   ],
   "source": [
    "classifier.add(Dense(output_dim = 2, kernel_initializer = 'uniform', activation = 'sigmoid'))"
   ]
  },
  {
   "cell_type": "code",
   "execution_count": 14,
   "metadata": {},
   "outputs": [],
   "source": [
    "classifier.compile(optimizer = 'adam', loss = 'binary_crossentropy', metrics = ['accuracy'])"
   ]
  },
  {
   "cell_type": "code",
   "execution_count": null,
   "metadata": {},
   "outputs": [
    {
     "name": "stderr",
     "output_type": "stream",
     "text": [
      "C:\\Users\\leste\\Anaconda3\\lib\\site-packages\\ipykernel_launcher.py:1: UserWarning: The `nb_epoch` argument in `fit` has been renamed `epochs`.\n",
      "  \"\"\"Entry point for launching an IPython kernel.\n"
     ]
    },
    {
     "name": "stdout",
     "output_type": "stream",
     "text": [
      "Epoch 1/100\n",
      "193792/193792 [==============================] - 2s 11us/step - loss: 0.3115 - accuracy: 0.9839\n",
      "Epoch 2/100\n",
      "193792/193792 [==============================] - 2s 10us/step - loss: 0.0496 - accuracy: 1.0000\n",
      "Epoch 3/100\n",
      "193792/193792 [==============================] - 2s 10us/step - loss: 0.0169 - accuracy: 1.0000\n",
      "Epoch 4/100\n",
      "193792/193792 [==============================] - 2s 9us/step - loss: 0.0068 - accuracy: 1.0000\n",
      "Epoch 5/100\n",
      "193792/193792 [==============================] - 2s 10us/step - loss: 0.0029 - accuracy: 1.0000\n",
      "Epoch 6/100\n",
      "193792/193792 [==============================] - 2s 9us/step - loss: 0.0013 - accuracy: 1.0000\n",
      "Epoch 7/100\n",
      "193792/193792 [==============================] - 2s 9us/step - loss: 5.6772e-04 - accuracy: 1.0000\n",
      "Epoch 8/100\n",
      "193792/193792 [==============================] - 2s 10us/step - loss: 2.5240e-04 - accuracy: 1.0000\n",
      "Epoch 9/100\n",
      "193792/193792 [==============================] - 2s 9us/step - loss: 1.1253e-04 - accuracy: 1.0000\n",
      "Epoch 10/100\n",
      "193792/193792 [==============================] - 2s 9us/step - loss: 5.0261e-05 - accuracy: 1.0000\n",
      "Epoch 11/100\n",
      "193792/193792 [==============================] - 2s 9us/step - loss: 2.2487e-05 - accuracy: 1.0000\n",
      "Epoch 12/100\n",
      "193792/193792 [==============================] - 2s 9us/step - loss: 1.0084e-05 - accuracy: 1.0000\n",
      "Epoch 13/100\n",
      "193792/193792 [==============================] - ETA: 0s - loss: 4.5642e-06 - accuracy: 1.00 - 2s 9us/step - loss: 4.5423e-06 - accuracy: 1.0000\n",
      "Epoch 14/100\n",
      "193792/193792 [==============================] - 2s 9us/step - loss: 2.0670e-06 - accuracy: 1.0000\n",
      "Epoch 15/100\n",
      "193792/193792 [==============================] - 2s 9us/step - loss: 9.5871e-07 - accuracy: 1.0000\n",
      "Epoch 16/100\n",
      "193792/193792 [==============================] - 2s 9us/step - loss: 4.6170e-07 - accuracy: 1.0000\n",
      "Epoch 17/100\n",
      "193792/193792 [==============================] - 2s 10us/step - loss: 2.3771e-07 - accuracy: 1.0000\n",
      "Epoch 18/100\n",
      "193792/193792 [==============================] - 2s 9us/step - loss: 1.3535e-07 - accuracy: 1.0000\n",
      "Epoch 19/100\n",
      "193792/193792 [==============================] - 2s 9us/step - loss: 8.6551e-08 - accuracy: 1.0000\n",
      "Epoch 20/100\n",
      "193792/193792 [==============================] - 2s 9us/step - loss: 6.2922e-08 - accuracy: 1.0000\n",
      "Epoch 21/100\n",
      "193792/193792 [==============================] - 2s 9us/step - loss: 4.8397e-08 - accuracy: 1.0000\n",
      "Epoch 22/100\n",
      "193792/193792 [==============================] - 2s 9us/step - loss: 3.8816e-08 - accuracy: 1.0000\n",
      "Epoch 23/100\n",
      " 44300/193792 [=====>........................] - ETA: 1s - loss: 3.5480e-08 - accuracy: 1.0000"
     ]
    }
   ],
   "source": [
    "\n",
    "model = classifier.fit(X_train, y_train, batch_size = 100, nb_epoch = 100, shuffle = False)\n"
   ]
  },
  {
   "cell_type": "code",
   "execution_count": null,
   "metadata": {},
   "outputs": [],
   "source": [
    "y_pred = classifier.predict(X_test)\n",
    "y_pred = (y_pred > 0.5)"
   ]
  },
  {
   "cell_type": "code",
   "execution_count": null,
   "metadata": {},
   "outputs": [],
   "source": [
    "from sklearn.metrics import confusion_matrix\n",
    "cm = confusion_matrix(y_test.argmax(axis=1), y_pred.argmax(axis=1))\n",
    "\n",
    "import seaborn as sn\n",
    "import pandas as pd\n",
    "import matplotlib.pyplot as plt\n",
    "\n",
    "index = ['Normal', 'Inner Race (0.007\")']  \n",
    "columns = ['Normal', 'Inner Race (0.007\")']  \n",
    "cm_df = pd.DataFrame(cm,columns,index)  \n",
    "\n",
    "\n",
    "plt.figure(figsize=(10,4))\n",
    "sn.set(font_scale=1.4) # for label size\n",
    "sn.heatmap(cm_df, annot=True, fmt='g') # font size\n",
    "plt.title('Confusion matrix')\n",
    "plt.xlabel('Predicted')\n",
    "plt.ylabel('True')\n",
    "plt.show()\n",
    "\n",
    "plt.show()"
   ]
  },
  {
   "cell_type": "code",
   "execution_count": null,
   "metadata": {},
   "outputs": [],
   "source": [
    "classifier.evaluate(X_test, y_test)"
   ]
  },
  {
   "cell_type": "code",
   "execution_count": null,
   "metadata": {},
   "outputs": [],
   "source": [
    "from sklearn.metrics import classification_report\n",
    "cr = classification_report(y_test, y_pred, target_names=['Normal', 'Inner Race (0.007\")'])\n",
    "print(cr)"
   ]
  },
  {
   "cell_type": "code",
   "execution_count": null,
   "metadata": {},
   "outputs": [],
   "source": []
  }
 ],
 "metadata": {
  "kernelspec": {
   "display_name": "Python 3",
   "language": "python",
   "name": "python3"
  },
  "language_info": {
   "codemirror_mode": {
    "name": "ipython",
    "version": 3
   },
   "file_extension": ".py",
   "mimetype": "text/x-python",
   "name": "python",
   "nbconvert_exporter": "python",
   "pygments_lexer": "ipython3",
   "version": "3.7.4"
  }
 },
 "nbformat": 4,
 "nbformat_minor": 4
}
