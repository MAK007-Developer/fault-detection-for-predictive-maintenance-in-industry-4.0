{
 "cells": [
  {
   "cell_type": "code",
   "execution_count": 1,
   "metadata": {},
   "outputs": [],
   "source": [
    "#importing packages\n",
    "import pandas as pd\n",
    "import numpy as np"
   ]
  },
  {
   "cell_type": "code",
   "execution_count": 2,
   "metadata": {},
   "outputs": [],
   "source": [
    "# Importing the dataset\n",
    "dataset = pd.read_csv('../IR - 7.csv')\n",
    "X = dataset.iloc[:, 1:4].values\n",
    "y = dataset.iloc[:, 0:1].values"
   ]
  },
  {
   "cell_type": "code",
   "execution_count": 3,
   "metadata": {},
   "outputs": [
    {
     "data": {
      "text/html": [
       "<div>\n",
       "<style scoped>\n",
       "    .dataframe tbody tr th:only-of-type {\n",
       "        vertical-align: middle;\n",
       "    }\n",
       "\n",
       "    .dataframe tbody tr th {\n",
       "        vertical-align: top;\n",
       "    }\n",
       "\n",
       "    .dataframe thead th {\n",
       "        text-align: right;\n",
       "    }\n",
       "</style>\n",
       "<table border=\"1\" class=\"dataframe\">\n",
       "  <thead>\n",
       "    <tr style=\"text-align: right;\">\n",
       "      <th></th>\n",
       "      <th>Bearing</th>\n",
       "      <th>Fault Diameter</th>\n",
       "      <th>DE</th>\n",
       "      <th>FE</th>\n",
       "    </tr>\n",
       "  </thead>\n",
       "  <tbody>\n",
       "    <tr>\n",
       "      <th>0</th>\n",
       "      <td>Normal</td>\n",
       "      <td>0.0</td>\n",
       "      <td>0.064254</td>\n",
       "      <td>0.038625</td>\n",
       "    </tr>\n",
       "    <tr>\n",
       "      <th>1</th>\n",
       "      <td>Normal</td>\n",
       "      <td>0.0</td>\n",
       "      <td>0.063002</td>\n",
       "      <td>0.096769</td>\n",
       "    </tr>\n",
       "    <tr>\n",
       "      <th>2</th>\n",
       "      <td>Normal</td>\n",
       "      <td>0.0</td>\n",
       "      <td>-0.004381</td>\n",
       "      <td>0.127382</td>\n",
       "    </tr>\n",
       "    <tr>\n",
       "      <th>3</th>\n",
       "      <td>Normal</td>\n",
       "      <td>0.0</td>\n",
       "      <td>-0.035882</td>\n",
       "      <td>0.144640</td>\n",
       "    </tr>\n",
       "    <tr>\n",
       "      <th>4</th>\n",
       "      <td>Normal</td>\n",
       "      <td>0.0</td>\n",
       "      <td>-0.023991</td>\n",
       "      <td>0.086702</td>\n",
       "    </tr>\n",
       "  </tbody>\n",
       "</table>\n",
       "</div>"
      ],
      "text/plain": [
       "  Bearing  Fault Diameter        DE        FE\n",
       "0  Normal             0.0  0.064254  0.038625\n",
       "1  Normal             0.0  0.063002  0.096769\n",
       "2  Normal             0.0 -0.004381  0.127382\n",
       "3  Normal             0.0 -0.035882  0.144640\n",
       "4  Normal             0.0 -0.023991  0.086702"
      ]
     },
     "execution_count": 3,
     "metadata": {},
     "output_type": "execute_result"
    }
   ],
   "source": [
    "dataset.head(5)"
   ]
  },
  {
   "cell_type": "code",
   "execution_count": 4,
   "metadata": {},
   "outputs": [
    {
     "data": {
      "text/html": [
       "<div>\n",
       "<style scoped>\n",
       "    .dataframe tbody tr th:only-of-type {\n",
       "        vertical-align: middle;\n",
       "    }\n",
       "\n",
       "    .dataframe tbody tr th {\n",
       "        vertical-align: top;\n",
       "    }\n",
       "\n",
       "    .dataframe thead th {\n",
       "        text-align: right;\n",
       "    }\n",
       "</style>\n",
       "<table border=\"1\" class=\"dataframe\">\n",
       "  <thead>\n",
       "    <tr style=\"text-align: right;\">\n",
       "      <th></th>\n",
       "      <th>Bearing</th>\n",
       "      <th>Fault Diameter</th>\n",
       "      <th>DE</th>\n",
       "      <th>FE</th>\n",
       "    </tr>\n",
       "  </thead>\n",
       "  <tbody>\n",
       "    <tr>\n",
       "      <th>51821</th>\n",
       "      <td>Normal</td>\n",
       "      <td>0.000</td>\n",
       "      <td>-0.099092</td>\n",
       "      <td>0.018902</td>\n",
       "    </tr>\n",
       "    <tr>\n",
       "      <th>8923</th>\n",
       "      <td>Normal</td>\n",
       "      <td>0.000</td>\n",
       "      <td>0.017315</td>\n",
       "      <td>-0.052802</td>\n",
       "    </tr>\n",
       "    <tr>\n",
       "      <th>203523</th>\n",
       "      <td>Inner Race (0.007\")</td>\n",
       "      <td>0.007</td>\n",
       "      <td>-0.476910</td>\n",
       "      <td>0.282911</td>\n",
       "    </tr>\n",
       "    <tr>\n",
       "      <th>84228</th>\n",
       "      <td>Normal</td>\n",
       "      <td>0.000</td>\n",
       "      <td>0.052154</td>\n",
       "      <td>-0.027120</td>\n",
       "    </tr>\n",
       "    <tr>\n",
       "      <th>124562</th>\n",
       "      <td>Inner Race (0.007\")</td>\n",
       "      <td>0.007</td>\n",
       "      <td>-0.216039</td>\n",
       "      <td>-0.037187</td>\n",
       "    </tr>\n",
       "    <tr>\n",
       "      <th>137107</th>\n",
       "      <td>Inner Race (0.007\")</td>\n",
       "      <td>0.007</td>\n",
       "      <td>-0.135958</td>\n",
       "      <td>0.037804</td>\n",
       "    </tr>\n",
       "    <tr>\n",
       "      <th>88333</th>\n",
       "      <td>Normal</td>\n",
       "      <td>0.000</td>\n",
       "      <td>0.041932</td>\n",
       "      <td>-0.077456</td>\n",
       "    </tr>\n",
       "    <tr>\n",
       "      <th>195868</th>\n",
       "      <td>Inner Race (0.007\")</td>\n",
       "      <td>0.007</td>\n",
       "      <td>-0.182415</td>\n",
       "      <td>-0.055473</td>\n",
       "    </tr>\n",
       "    <tr>\n",
       "      <th>140231</th>\n",
       "      <td>Inner Race (0.007\")</td>\n",
       "      <td>0.007</td>\n",
       "      <td>0.163897</td>\n",
       "      <td>-0.193333</td>\n",
       "    </tr>\n",
       "    <tr>\n",
       "      <th>127386</th>\n",
       "      <td>Inner Race (0.007\")</td>\n",
       "      <td>0.007</td>\n",
       "      <td>-0.043370</td>\n",
       "      <td>0.029380</td>\n",
       "    </tr>\n",
       "  </tbody>\n",
       "</table>\n",
       "</div>"
      ],
      "text/plain": [
       "                    Bearing  Fault Diameter        DE        FE\n",
       "51821                Normal           0.000 -0.099092  0.018902\n",
       "8923                 Normal           0.000  0.017315 -0.052802\n",
       "203523  Inner Race (0.007\")           0.007 -0.476910  0.282911\n",
       "84228                Normal           0.000  0.052154 -0.027120\n",
       "124562  Inner Race (0.007\")           0.007 -0.216039 -0.037187\n",
       "137107  Inner Race (0.007\")           0.007 -0.135958  0.037804\n",
       "88333                Normal           0.000  0.041932 -0.077456\n",
       "195868  Inner Race (0.007\")           0.007 -0.182415 -0.055473\n",
       "140231  Inner Race (0.007\")           0.007  0.163897 -0.193333\n",
       "127386  Inner Race (0.007\")           0.007 -0.043370  0.029380"
      ]
     },
     "execution_count": 4,
     "metadata": {},
     "output_type": "execute_result"
    }
   ],
   "source": [
    "#Retrieve Random Data\n",
    "dataset.sample(10)"
   ]
  },
  {
   "cell_type": "code",
   "execution_count": 5,
   "metadata": {},
   "outputs": [],
   "source": [
    "from sklearn.preprocessing import LabelEncoder, OneHotEncoder\n",
    "from sklearn.compose import ColumnTransformer\n",
    "labelencoder_y = LabelEncoder()\n",
    "y[:,0] = labelencoder_y.fit_transform(y[:,0])\n",
    "ct = ColumnTransformer([(\"Bearing\", OneHotEncoder(), [0])],    remainder = 'passthrough')\n",
    "y = ct.fit_transform(y)"
   ]
  },
  {
   "cell_type": "code",
   "execution_count": 6,
   "metadata": {},
   "outputs": [],
   "source": [
    "from sklearn.model_selection import train_test_split\n",
    "X_train, X_test, y_train, y_test = train_test_split(X, y, test_size = 0.2, random_state = 0)\n"
   ]
  },
  {
   "cell_type": "code",
   "execution_count": 7,
   "metadata": {},
   "outputs": [],
   "source": [
    "from sklearn.preprocessing import StandardScaler\n",
    "sc = StandardScaler()\n",
    "X_train = sc.fit_transform(X_train)\n",
    "X_test = sc.transform(X_test)"
   ]
  },
  {
   "cell_type": "code",
   "execution_count": 8,
   "metadata": {},
   "outputs": [
    {
     "data": {
      "text/plain": [
       "array([[0., 1.],\n",
       "       [0., 1.],\n",
       "       [0., 1.],\n",
       "       ...,\n",
       "       [1., 0.],\n",
       "       [0., 1.],\n",
       "       [1., 0.]])"
      ]
     },
     "execution_count": 8,
     "metadata": {},
     "output_type": "execute_result"
    }
   ],
   "source": [
    "y_train"
   ]
  },
  {
   "cell_type": "code",
   "execution_count": null,
   "metadata": {},
   "outputs": [
    {
     "name": "stderr",
     "output_type": "stream",
     "text": [
      "Using TensorFlow backend.\n"
     ]
    }
   ],
   "source": [
    "import keras\n",
    "from keras.models import Sequential\n",
    "from keras.layers import Dense"
   ]
  },
  {
   "cell_type": "code",
   "execution_count": null,
   "metadata": {},
   "outputs": [],
   "source": [
    "classifier = Sequential()"
   ]
  },
  {
   "cell_type": "code",
   "execution_count": null,
   "metadata": {},
   "outputs": [],
   "source": [
    "classifier.add(Dense(output_dim = 3, kernel_initializer = 'uniform', activation = 'relu', input_dim = 3))"
   ]
  },
  {
   "cell_type": "code",
   "execution_count": null,
   "metadata": {},
   "outputs": [],
   "source": [
    "classifier.add(Dense(output_dim = 3, kernel_initializer = 'uniform', activation = 'relu'))"
   ]
  },
  {
   "cell_type": "code",
   "execution_count": null,
   "metadata": {},
   "outputs": [],
   "source": [
    "classifier.add(Dense(output_dim = 2, kernel_initializer = 'uniform', activation = 'sigmoid'))"
   ]
  },
  {
   "cell_type": "code",
   "execution_count": null,
   "metadata": {},
   "outputs": [],
   "source": [
    "classifier.compile(optimizer = 'adam', loss = 'binary_crossentropy', metrics = ['accuracy'])"
   ]
  },
  {
   "cell_type": "code",
   "execution_count": null,
   "metadata": {},
   "outputs": [],
   "source": [
    "\n",
    "model = classifier.fit(X_train, y_train, batch_size = 100, nb_epoch = 100)\n"
   ]
  },
  {
   "cell_type": "code",
   "execution_count": null,
   "metadata": {},
   "outputs": [],
   "source": [
    "y_pred = classifier.predict(X_test)\n",
    "y_pred = (y_pred > 0.5)"
   ]
  },
  {
   "cell_type": "code",
   "execution_count": null,
   "metadata": {},
   "outputs": [],
   "source": [
    "from sklearn.metrics import confusion_matrix\n",
    "cm = confusion_matrix(y_test.argmax(axis=1), y_pred.argmax(axis=1))\n",
    "\n",
    "import seaborn as sn\n",
    "import pandas as pd\n",
    "import matplotlib.pyplot as plt\n",
    "\n",
    "index = ['Normal', 'Inner Race (0.007\")']  \n",
    "columns = ['Normal', 'Inner Race (0.007\")']  \n",
    "cm_df = pd.DataFrame(cm,columns,index)  \n",
    "\n",
    "\n",
    "plt.figure(figsize=(10,4))\n",
    "sn.set(font_scale=1.4) # for label size\n",
    "sn.heatmap(cm_df, annot=True, fmt='g') # font size\n",
    "plt.title('Confusion matrix')\n",
    "plt.xlabel('Predicted')\n",
    "plt.ylabel('True')\n",
    "plt.show()\n",
    "\n",
    "plt.show()"
   ]
  },
  {
   "cell_type": "code",
   "execution_count": null,
   "metadata": {},
   "outputs": [],
   "source": [
    "classifier.evaluate(X_test, y_test)"
   ]
  },
  {
   "cell_type": "code",
   "execution_count": null,
   "metadata": {},
   "outputs": [],
   "source": [
    "from sklearn.metrics import classification_report\n",
    "cr = classification_report(y_test, y_pred, target_names=['Normal', 'Inner Race (0.007\")'])\n",
    "print(cr)"
   ]
  },
  {
   "cell_type": "code",
   "execution_count": null,
   "metadata": {},
   "outputs": [],
   "source": []
  }
 ],
 "metadata": {
  "kernelspec": {
   "display_name": "Python 3",
   "language": "python",
   "name": "python3"
  },
  "language_info": {
   "codemirror_mode": {
    "name": "ipython",
    "version": 3
   },
   "file_extension": ".py",
   "mimetype": "text/x-python",
   "name": "python",
   "nbconvert_exporter": "python",
   "pygments_lexer": "ipython3",
   "version": "3.7.4"
  }
 },
 "nbformat": 4,
 "nbformat_minor": 4
}
