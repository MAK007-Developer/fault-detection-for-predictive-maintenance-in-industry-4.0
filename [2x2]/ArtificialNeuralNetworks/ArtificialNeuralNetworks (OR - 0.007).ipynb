{
 "cells": [
  {
   "cell_type": "code",
   "execution_count": 1,
   "metadata": {},
   "outputs": [],
   "source": [
    "#importing packages\n",
    "import pandas as pd\n",
    "import numpy as np"
   ]
  },
  {
   "cell_type": "code",
   "execution_count": 2,
   "metadata": {},
   "outputs": [],
   "source": [
    "# Importing the dataset\n",
    "dataset = pd.read_csv('../OR - 7.csv')\n",
    "X = dataset.iloc[:, 1:4].values\n",
    "y = dataset.iloc[:, 0:1].values"
   ]
  },
  {
   "cell_type": "code",
   "execution_count": 3,
   "metadata": {},
   "outputs": [
    {
     "data": {
      "text/html": [
       "<div>\n",
       "<style scoped>\n",
       "    .dataframe tbody tr th:only-of-type {\n",
       "        vertical-align: middle;\n",
       "    }\n",
       "\n",
       "    .dataframe tbody tr th {\n",
       "        vertical-align: top;\n",
       "    }\n",
       "\n",
       "    .dataframe thead th {\n",
       "        text-align: right;\n",
       "    }\n",
       "</style>\n",
       "<table border=\"1\" class=\"dataframe\">\n",
       "  <thead>\n",
       "    <tr style=\"text-align: right;\">\n",
       "      <th></th>\n",
       "      <th>Bearing</th>\n",
       "      <th>Fault Diameter</th>\n",
       "      <th>DE</th>\n",
       "      <th>FE</th>\n",
       "    </tr>\n",
       "  </thead>\n",
       "  <tbody>\n",
       "    <tr>\n",
       "      <th>0</th>\n",
       "      <td>Normal</td>\n",
       "      <td>0.0</td>\n",
       "      <td>0.064254</td>\n",
       "      <td>0.038625</td>\n",
       "    </tr>\n",
       "    <tr>\n",
       "      <th>1</th>\n",
       "      <td>Normal</td>\n",
       "      <td>0.0</td>\n",
       "      <td>0.063002</td>\n",
       "      <td>0.096769</td>\n",
       "    </tr>\n",
       "    <tr>\n",
       "      <th>2</th>\n",
       "      <td>Normal</td>\n",
       "      <td>0.0</td>\n",
       "      <td>-0.004381</td>\n",
       "      <td>0.127382</td>\n",
       "    </tr>\n",
       "    <tr>\n",
       "      <th>3</th>\n",
       "      <td>Normal</td>\n",
       "      <td>0.0</td>\n",
       "      <td>-0.035882</td>\n",
       "      <td>0.144640</td>\n",
       "    </tr>\n",
       "    <tr>\n",
       "      <th>4</th>\n",
       "      <td>Normal</td>\n",
       "      <td>0.0</td>\n",
       "      <td>-0.023991</td>\n",
       "      <td>0.086702</td>\n",
       "    </tr>\n",
       "  </tbody>\n",
       "</table>\n",
       "</div>"
      ],
      "text/plain": [
       "  Bearing  Fault Diameter        DE        FE\n",
       "0  Normal             0.0  0.064254  0.038625\n",
       "1  Normal             0.0  0.063002  0.096769\n",
       "2  Normal             0.0 -0.004381  0.127382\n",
       "3  Normal             0.0 -0.035882  0.144640\n",
       "4  Normal             0.0 -0.023991  0.086702"
      ]
     },
     "execution_count": 3,
     "metadata": {},
     "output_type": "execute_result"
    }
   ],
   "source": [
    "dataset.head(5)"
   ]
  },
  {
   "cell_type": "code",
   "execution_count": 4,
   "metadata": {},
   "outputs": [
    {
     "data": {
      "text/html": [
       "<div>\n",
       "<style scoped>\n",
       "    .dataframe tbody tr th:only-of-type {\n",
       "        vertical-align: middle;\n",
       "    }\n",
       "\n",
       "    .dataframe tbody tr th {\n",
       "        vertical-align: top;\n",
       "    }\n",
       "\n",
       "    .dataframe thead th {\n",
       "        text-align: right;\n",
       "    }\n",
       "</style>\n",
       "<table border=\"1\" class=\"dataframe\">\n",
       "  <thead>\n",
       "    <tr style=\"text-align: right;\">\n",
       "      <th></th>\n",
       "      <th>Bearing</th>\n",
       "      <th>Fault Diameter</th>\n",
       "      <th>DE</th>\n",
       "      <th>FE</th>\n",
       "    </tr>\n",
       "  </thead>\n",
       "  <tbody>\n",
       "    <tr>\n",
       "      <th>63468</th>\n",
       "      <td>Normal</td>\n",
       "      <td>0.000</td>\n",
       "      <td>-0.129967</td>\n",
       "      <td>0.047871</td>\n",
       "    </tr>\n",
       "    <tr>\n",
       "      <th>84105</th>\n",
       "      <td>Normal</td>\n",
       "      <td>0.000</td>\n",
       "      <td>0.026911</td>\n",
       "      <td>0.099029</td>\n",
       "    </tr>\n",
       "    <tr>\n",
       "      <th>144028</th>\n",
       "      <td>Outer Race (0.007\")</td>\n",
       "      <td>0.007</td>\n",
       "      <td>-0.222536</td>\n",
       "      <td>-0.014382</td>\n",
       "    </tr>\n",
       "    <tr>\n",
       "      <th>230978</th>\n",
       "      <td>Outer Race (0.007\")</td>\n",
       "      <td>0.007</td>\n",
       "      <td>2.059677</td>\n",
       "      <td>-0.080949</td>\n",
       "    </tr>\n",
       "    <tr>\n",
       "      <th>133737</th>\n",
       "      <td>Outer Race (0.007\")</td>\n",
       "      <td>0.007</td>\n",
       "      <td>0.310251</td>\n",
       "      <td>-0.059787</td>\n",
       "    </tr>\n",
       "    <tr>\n",
       "      <th>202155</th>\n",
       "      <td>Outer Race (0.007\")</td>\n",
       "      <td>0.007</td>\n",
       "      <td>1.827801</td>\n",
       "      <td>-0.042735</td>\n",
       "    </tr>\n",
       "    <tr>\n",
       "      <th>230805</th>\n",
       "      <td>Outer Race (0.007\")</td>\n",
       "      <td>0.007</td>\n",
       "      <td>-0.166496</td>\n",
       "      <td>0.000205</td>\n",
       "    </tr>\n",
       "    <tr>\n",
       "      <th>232221</th>\n",
       "      <td>Outer Race (0.007\")</td>\n",
       "      <td>0.007</td>\n",
       "      <td>0.007716</td>\n",
       "      <td>0.038420</td>\n",
       "    </tr>\n",
       "    <tr>\n",
       "      <th>100102</th>\n",
       "      <td>Normal</td>\n",
       "      <td>0.000</td>\n",
       "      <td>0.017524</td>\n",
       "      <td>0.119575</td>\n",
       "    </tr>\n",
       "    <tr>\n",
       "      <th>198812</th>\n",
       "      <td>Outer Race (0.007\")</td>\n",
       "      <td>0.007</td>\n",
       "      <td>-0.053198</td>\n",
       "      <td>-0.090811</td>\n",
       "    </tr>\n",
       "  </tbody>\n",
       "</table>\n",
       "</div>"
      ],
      "text/plain": [
       "                    Bearing  Fault Diameter        DE        FE\n",
       "63468                Normal           0.000 -0.129967  0.047871\n",
       "84105                Normal           0.000  0.026911  0.099029\n",
       "144028  Outer Race (0.007\")           0.007 -0.222536 -0.014382\n",
       "230978  Outer Race (0.007\")           0.007  2.059677 -0.080949\n",
       "133737  Outer Race (0.007\")           0.007  0.310251 -0.059787\n",
       "202155  Outer Race (0.007\")           0.007  1.827801 -0.042735\n",
       "230805  Outer Race (0.007\")           0.007 -0.166496  0.000205\n",
       "232221  Outer Race (0.007\")           0.007  0.007716  0.038420\n",
       "100102               Normal           0.000  0.017524  0.119575\n",
       "198812  Outer Race (0.007\")           0.007 -0.053198 -0.090811"
      ]
     },
     "execution_count": 4,
     "metadata": {},
     "output_type": "execute_result"
    }
   ],
   "source": [
    "#Retrieve Random Data\n",
    "dataset.sample(10)"
   ]
  },
  {
   "cell_type": "code",
   "execution_count": 5,
   "metadata": {},
   "outputs": [],
   "source": [
    "from sklearn.preprocessing import LabelEncoder, OneHotEncoder\n",
    "from sklearn.compose import ColumnTransformer\n",
    "labelencoder_y = LabelEncoder()\n",
    "y[:,0] = labelencoder_y.fit_transform(y[:,0])\n",
    "ct = ColumnTransformer([(\"Bearing\", OneHotEncoder(), [0])],    remainder = 'passthrough')\n",
    "y = ct.fit_transform(y)"
   ]
  },
  {
   "cell_type": "code",
   "execution_count": 6,
   "metadata": {},
   "outputs": [],
   "source": [
    "from sklearn.model_selection import train_test_split\n",
    "X_train, X_test, y_train, y_test = train_test_split(X, y, test_size = 0.2, random_state = 0)\n"
   ]
  },
  {
   "cell_type": "code",
   "execution_count": 7,
   "metadata": {},
   "outputs": [],
   "source": [
    "from sklearn.preprocessing import StandardScaler\n",
    "sc = StandardScaler()\n",
    "X_train = sc.fit_transform(X_train)\n",
    "X_test = sc.transform(X_test)"
   ]
  },
  {
   "cell_type": "code",
   "execution_count": 8,
   "metadata": {},
   "outputs": [
    {
     "data": {
      "text/plain": [
       "array([[1., 0.],\n",
       "       [1., 0.],\n",
       "       [1., 0.],\n",
       "       ...,\n",
       "       [0., 1.],\n",
       "       [1., 0.],\n",
       "       [0., 1.]])"
      ]
     },
     "execution_count": 8,
     "metadata": {},
     "output_type": "execute_result"
    }
   ],
   "source": [
    "y_train"
   ]
  },
  {
   "cell_type": "code",
   "execution_count": 9,
   "metadata": {},
   "outputs": [
    {
     "name": "stderr",
     "output_type": "stream",
     "text": [
      "Using TensorFlow backend.\n"
     ]
    }
   ],
   "source": [
    "import keras\n",
    "from keras.models import Sequential\n",
    "from keras.layers import Dense"
   ]
  },
  {
   "cell_type": "code",
   "execution_count": 10,
   "metadata": {},
   "outputs": [],
   "source": [
    "classifier = Sequential()"
   ]
  },
  {
   "cell_type": "code",
   "execution_count": 11,
   "metadata": {},
   "outputs": [
    {
     "name": "stderr",
     "output_type": "stream",
     "text": [
      "C:\\Users\\leste\\Anaconda3\\lib\\site-packages\\ipykernel_launcher.py:1: UserWarning: Update your `Dense` call to the Keras 2 API: `Dense(kernel_initializer=\"uniform\", activation=\"relu\", input_dim=3, units=3)`\n",
      "  \"\"\"Entry point for launching an IPython kernel.\n"
     ]
    }
   ],
   "source": [
    "classifier.add(Dense(output_dim = 3, kernel_initializer = 'uniform', activation = 'relu', input_dim = 3))"
   ]
  },
  {
   "cell_type": "code",
   "execution_count": 12,
   "metadata": {},
   "outputs": [
    {
     "name": "stderr",
     "output_type": "stream",
     "text": [
      "C:\\Users\\leste\\Anaconda3\\lib\\site-packages\\ipykernel_launcher.py:1: UserWarning: Update your `Dense` call to the Keras 2 API: `Dense(kernel_initializer=\"uniform\", activation=\"relu\", units=3)`\n",
      "  \"\"\"Entry point for launching an IPython kernel.\n"
     ]
    }
   ],
   "source": [
    "classifier.add(Dense(output_dim = 3, kernel_initializer = 'uniform', activation = 'relu'))"
   ]
  },
  {
   "cell_type": "code",
   "execution_count": 13,
   "metadata": {},
   "outputs": [
    {
     "name": "stderr",
     "output_type": "stream",
     "text": [
      "C:\\Users\\leste\\Anaconda3\\lib\\site-packages\\ipykernel_launcher.py:1: UserWarning: Update your `Dense` call to the Keras 2 API: `Dense(kernel_initializer=\"uniform\", activation=\"sigmoid\", units=2)`\n",
      "  \"\"\"Entry point for launching an IPython kernel.\n"
     ]
    }
   ],
   "source": [
    "classifier.add(Dense(output_dim = 2, kernel_initializer = 'uniform', activation = 'sigmoid'))"
   ]
  },
  {
   "cell_type": "code",
   "execution_count": 14,
   "metadata": {},
   "outputs": [],
   "source": [
    "classifier.compile(optimizer = 'adam', loss = 'binary_crossentropy', metrics = ['accuracy'])"
   ]
  },
  {
   "cell_type": "code",
   "execution_count": 15,
   "metadata": {},
   "outputs": [
    {
     "name": "stderr",
     "output_type": "stream",
     "text": [
      "C:\\Users\\leste\\Anaconda3\\lib\\site-packages\\ipykernel_launcher.py:1: UserWarning: The `nb_epoch` argument in `fit` has been renamed `epochs`.\n",
      "  \"\"\"Entry point for launching an IPython kernel.\n"
     ]
    },
    {
     "name": "stdout",
     "output_type": "stream",
     "text": [
      "Epoch 1/100\n",
      "193792/193792 [==============================] - 2s 11us/step - loss: 0.1215 - accuracy: 0.9845\n",
      "Epoch 2/100\n",
      "193792/193792 [==============================] - 2s 10us/step - loss: 7.2088e-04 - accuracy: 1.0000 0s - loss: 8.3118e-04 - \n",
      "Epoch 3/100\n",
      "193792/193792 [==============================] - 2s 10us/step - loss: 1.3299e-04 - accuracy: 1.0000\n",
      "Epoch 4/100\n",
      "193792/193792 [==============================] - 2s 10us/step - loss: 3.5928e-05 - accuracy: 1.0000\n",
      "Epoch 5/100\n",
      "193792/193792 [==============================] - 2s 9us/step - loss: 1.0972e-05 - accuracy: 1.0000\n",
      "Epoch 6/100\n",
      "193792/193792 [==============================] - 2s 9us/step - loss: 3.5330e-06 - accuracy: 1.0000\n",
      "Epoch 7/100\n",
      "193792/193792 [==============================] - 2s 10us/step - loss: 1.1697e-06 - accuracy: 1.0000\n",
      "Epoch 8/100\n",
      "193792/193792 [==============================] - 2s 10us/step - loss: 3.9441e-07 - accuracy: 1.0000\n",
      "Epoch 9/100\n",
      "193792/193792 [==============================] - 2s 10us/step - loss: 1.3503e-07 - accuracy: 1.0000\n",
      "Epoch 10/100\n",
      "193792/193792 [==============================] - 2s 9us/step - loss: 4.9222e-08 - accuracy: 1.0000\n",
      "Epoch 11/100\n",
      "193792/193792 [==============================] - 2s 9us/step - loss: 2.5118e-08 - accuracy: 1.0000\n",
      "Epoch 12/100\n",
      "193792/193792 [==============================] - 2s 9us/step - loss: 1.4118e-08 - accuracy: 1.0000\n",
      "Epoch 13/100\n",
      "193792/193792 [==============================] - 2s 10us/step - loss: 8.3141e-09 - accuracy: 1.0000\n",
      "Epoch 14/100\n",
      "193792/193792 [==============================] - 2s 10us/step - loss: 5.3573e-09 - accuracy: 1.0000\n",
      "Epoch 15/100\n",
      "193792/193792 [==============================] - 2s 9us/step - loss: 3.8313e-09 - accuracy: 1.0000\n",
      "Epoch 16/100\n",
      "193792/193792 [==============================] - 2s 9us/step - loss: 3.0033e-09 - accuracy: 1.0000\n",
      "Epoch 17/100\n",
      "193792/193792 [==============================] - 2s 9us/step - loss: 2.5163e-09 - accuracy: 1.0000\n",
      "Epoch 18/100\n",
      "193792/193792 [==============================] - 2s 9us/step - loss: 2.2033e-09 - accuracy: 1.0000\n",
      "Epoch 19/100\n",
      "193792/193792 [==============================] - 2s 9us/step - loss: 1.9855e-09 - accuracy: 1.0000\n",
      "Epoch 20/100\n",
      "193792/193792 [==============================] - 2s 9us/step - loss: 1.8242e-09 - accuracy: 1.0000\n",
      "Epoch 21/100\n",
      "193792/193792 [==============================] - 2s 10us/step - loss: 1.6988e-09 - accuracy: 1.0000\n",
      "Epoch 22/100\n",
      "193792/193792 [==============================] - 2s 9us/step - loss: 1.5979e-09 - accuracy: 1.0000\n",
      "Epoch 23/100\n",
      "193792/193792 [==============================] - 2s 9us/step - loss: 1.5144e-09 - accuracy: 1.0000\n",
      "Epoch 24/100\n",
      "193792/193792 [==============================] - 2s 9us/step - loss: 1.4436e-09 - accuracy: 1.0000\n",
      "Epoch 25/100\n",
      "193792/193792 [==============================] - 2s 9us/step - loss: 1.3829e-09 - accuracy: 1.0000\n",
      "Epoch 26/100\n",
      "193792/193792 [==============================] - 2s 9us/step - loss: 1.3299e-09 - accuracy: 1.0000\n",
      "Epoch 27/100\n",
      "193792/193792 [==============================] - 2s 9us/step - loss: 1.2827e-09 - accuracy: 1.0000\n",
      "Epoch 28/100\n",
      "193792/193792 [==============================] - 2s 9us/step - loss: 1.2407e-09 - accuracy: 1.0000\n",
      "Epoch 29/100\n",
      "193792/193792 [==============================] - 2s 9us/step - loss: 1.2037e-09 - accuracy: 1.0000\n",
      "Epoch 30/100\n",
      "193792/193792 [==============================] - 2s 9us/step - loss: 1.1702e-09 - accuracy: 1.0000\n",
      "Epoch 31/100\n",
      "193792/193792 [==============================] - 2s 9us/step - loss: 1.1382e-09 - accuracy: 1.0000\n",
      "Epoch 32/100\n",
      "193792/193792 [==============================] - 2s 9us/step - loss: 1.1080e-09 - accuracy: 1.0000\n",
      "Epoch 33/100\n",
      "193792/193792 [==============================] - 2s 9us/step - loss: 1.0827e-09 - accuracy: 1.0000\n",
      "Epoch 34/100\n",
      "193792/193792 [==============================] - 2s 9us/step - loss: 1.0603e-09 - accuracy: 1.0000\n",
      "Epoch 35/100\n",
      "193792/193792 [==============================] - 2s 9us/step - loss: 1.0385e-09 - accuracy: 1.0000\n",
      "Epoch 36/100\n",
      "193792/193792 [==============================] - 2s 9us/step - loss: 1.0171e-09 - accuracy: 1.0000\n",
      "Epoch 37/100\n",
      "193792/193792 [==============================] - 2s 9us/step - loss: 9.9665e-10 - accuracy: 1.0000\n",
      "Epoch 38/100\n",
      "193792/193792 [==============================] - 2s 9us/step - loss: 9.7740e-10 - accuracy: 1.0000\n",
      "Epoch 39/100\n",
      "193792/193792 [==============================] - 2s 10us/step - loss: 9.5920e-10 - accuracy: 1.0000\n",
      "Epoch 40/100\n",
      "193792/193792 [==============================] - 2s 10us/step - loss: 9.4269e-10 - accuracy: 1.0000 0s - los\n",
      "Epoch 41/100\n",
      "193792/193792 [==============================] - 2s 10us/step - loss: 9.2767e-10 - accuracy: 1.0000\n",
      "Epoch 42/100\n",
      "193792/193792 [==============================] - 2s 10us/step - loss: 9.1327e-10 - accuracy: 1.0000\n",
      "Epoch 43/100\n",
      "193792/193792 [==============================] - 2s 9us/step - loss: 8.9921e-10 - accuracy: 1.0000\n",
      "Epoch 44/100\n",
      "193792/193792 [==============================] - 2s 9us/step - loss: 8.8581e-10 - accuracy: 1.0000\n",
      "Epoch 45/100\n",
      "193792/193792 [==============================] - 2s 9us/step - loss: 8.7356e-10 - accuracy: 1.0000\n",
      "Epoch 46/100\n",
      "193792/193792 [==============================] - 2s 9us/step - loss: 8.6221e-10 - accuracy: 1.0000\n",
      "Epoch 47/100\n",
      "193792/193792 [==============================] - 2s 9us/step - loss: 8.5168e-10 - accuracy: 1.0000\n",
      "Epoch 48/100\n",
      "193792/193792 [==============================] - 2s 9us/step - loss: 8.4142e-10 - accuracy: 1.0000\n",
      "Epoch 49/100\n",
      "193792/193792 [==============================] - 2s 9us/step - loss: 8.3129e-10 - accuracy: 1.0000\n",
      "Epoch 50/100\n",
      "193792/193792 [==============================] - 2s 10us/step - loss: 8.2129e-10 - accuracy: 1.0000\n",
      "Epoch 51/100\n",
      "193792/193792 [==============================] - 2s 9us/step - loss: 8.1141e-10 - accuracy: 1.0000: 0s - los\n",
      "Epoch 52/100\n",
      "193792/193792 [==============================] - 2s 9us/step - loss: 8.0166e-10 - accuracy: 1.0000\n",
      "Epoch 53/100\n",
      "193792/193792 [==============================] - 2s 9us/step - loss: 7.9203e-10 - accuracy: 1.0000\n",
      "Epoch 54/100\n",
      "193792/193792 [==============================] - 2s 9us/step - loss: 7.8257e-10 - accuracy: 1.0000\n",
      "Epoch 55/100\n",
      "193792/193792 [==============================] - 2s 9us/step - loss: 7.7351e-10 - accuracy: 1.0000\n",
      "Epoch 56/100\n",
      "193792/193792 [==============================] - 2s 10us/step - loss: 7.6524e-10 - accuracy: 1.0000\n",
      "Epoch 57/100\n",
      "193792/193792 [==============================] - 2s 9us/step - loss: 7.5776e-10 - accuracy: 1.0000\n",
      "Epoch 58/100\n",
      "193792/193792 [==============================] - 2s 9us/step - loss: 7.5089e-10 - accuracy: 1.0000\n",
      "Epoch 59/100\n",
      "193792/193792 [==============================] - 2s 9us/step - loss: 7.4433e-10 - accuracy: 1.0000\n",
      "Epoch 60/100\n",
      "193792/193792 [==============================] - 2s 9us/step - loss: 7.3793e-10 - accuracy: 1.0000\n",
      "Epoch 61/100\n",
      "193792/193792 [==============================] - 2s 9us/step - loss: 7.3162e-10 - accuracy: 1.0000\n",
      "Epoch 62/100\n",
      "193792/193792 [==============================] - 2s 10us/step - loss: 7.2536e-10 - accuracy: 1.0000\n",
      "Epoch 63/100\n",
      "193792/193792 [==============================] - 2s 9us/step - loss: 7.1916e-10 - accuracy: 1.0000\n",
      "Epoch 64/100\n",
      "193792/193792 [==============================] - 2s 9us/step - loss: 7.1303e-10 - accuracy: 1.0000\n",
      "Epoch 65/100\n",
      "193792/193792 [==============================] - 2s 9us/step - loss: 7.0704e-10 - accuracy: 1.0000\n",
      "Epoch 66/100\n",
      "193792/193792 [==============================] - 2s 9us/step - loss: 7.0139e-10 - accuracy: 1.0000\n",
      "Epoch 67/100\n",
      "193792/193792 [==============================] - 2s 9us/step - loss: 6.9614e-10 - accuracy: 1.0000\n",
      "Epoch 68/100\n",
      "193792/193792 [==============================] - 2s 9us/step - loss: 6.9115e-10 - accuracy: 1.0000\n",
      "Epoch 69/100\n",
      "193792/193792 [==============================] - 2s 9us/step - loss: 6.8629e-10 - accuracy: 1.0000\n",
      "Epoch 70/100\n",
      "193792/193792 [==============================] - 2s 9us/step - loss: 6.8147e-10 - accuracy: 1.0000\n",
      "Epoch 71/100\n",
      "193792/193792 [==============================] - 2s 9us/step - loss: 6.7669e-10 - accuracy: 1.0000\n",
      "Epoch 72/100\n",
      "193792/193792 [==============================] - 2s 10us/step - loss: 6.7194e-10 - accuracy: 1.0000\n",
      "Epoch 73/100\n",
      "193792/193792 [==============================] - 2s 9us/step - loss: 6.6722e-10 - accuracy: 1.0000\n",
      "Epoch 74/100\n",
      "193792/193792 [==============================] - 2s 9us/step - loss: 6.6254e-10 - accuracy: 1.0000\n",
      "Epoch 75/100\n",
      "193792/193792 [==============================] - 2s 11us/step - loss: 6.5789e-10 - accuracy: 1.0000\n",
      "Epoch 76/100\n",
      "193792/193792 [==============================] - 3s 14us/step - loss: 6.5327e-10 - accuracy: 1.0000\n",
      "Epoch 77/100\n",
      "193792/193792 [==============================] - 2s 12us/step - loss: 6.4867e-10 - accuracy: 1.0000\n",
      "Epoch 78/100\n",
      "193792/193792 [==============================] - 2s 10us/step - loss: 6.4410e-10 - accuracy: 1.0000\n",
      "Epoch 79/100\n",
      "193792/193792 [==============================] - 2s 10us/step - loss: 6.3957e-10 - accuracy: 1.0000\n",
      "Epoch 80/100\n",
      "193792/193792 [==============================] - 2s 10us/step - loss: 6.3506e-10 - accuracy: 1.0000\n",
      "Epoch 81/100\n",
      "193792/193792 [==============================] - 2s 11us/step - loss: 6.3058e-10 - accuracy: 1.0000\n",
      "Epoch 82/100\n",
      "193792/193792 [==============================] - 2s 10us/step - loss: 6.2612e-10 - accuracy: 1.0000\n",
      "Epoch 83/100\n",
      "193792/193792 [==============================] - 2s 10us/step - loss: 6.2169e-10 - accuracy: 1.0000\n",
      "Epoch 84/100\n",
      "193792/193792 [==============================] - 2s 10us/step - loss: 6.1728e-10 - accuracy: 1.0000\n",
      "Epoch 85/100\n",
      "193792/193792 [==============================] - 2s 9us/step - loss: 6.1291e-10 - accuracy: 1.0000\n",
      "Epoch 86/100\n",
      "193792/193792 [==============================] - 2s 9us/step - loss: 6.0857e-10 - accuracy: 1.0000\n",
      "Epoch 87/100\n",
      "193792/193792 [==============================] - 2s 10us/step - loss: 6.0430e-10 - accuracy: 1.0000\n",
      "Epoch 88/100\n",
      "193792/193792 [==============================] - 2s 10us/step - loss: 6.0008e-10 - accuracy: 1.0000\n",
      "Epoch 89/100\n",
      "193792/193792 [==============================] - 2s 10us/step - loss: 5.9590e-10 - accuracy: 1.0000\n",
      "Epoch 90/100\n",
      "193792/193792 [==============================] - 2s 10us/step - loss: 5.9177e-10 - accuracy: 1.0000\n",
      "Epoch 91/100\n",
      "193792/193792 [==============================] - 2s 11us/step - loss: 5.8767e-10 - accuracy: 1.0000\n",
      "Epoch 92/100\n",
      "193792/193792 [==============================] - 2s 9us/step - loss: 5.8359e-10 - accuracy: 1.0000\n",
      "Epoch 93/100\n",
      "193792/193792 [==============================] - 2s 9us/step - loss: 5.7955e-10 - accuracy: 1.0000\n",
      "Epoch 94/100\n",
      "193792/193792 [==============================] - 2s 9us/step - loss: 5.7553e-10 - accuracy: 1.0000\n",
      "Epoch 95/100\n",
      "193792/193792 [==============================] - 2s 9us/step - loss: 5.7155e-10 - accuracy: 1.0000\n",
      "Epoch 96/100\n",
      "193792/193792 [==============================] - 2s 9us/step - loss: 5.6759e-10 - accuracy: 1.0000\n",
      "Epoch 97/100\n",
      "193792/193792 [==============================] - 2s 9us/step - loss: 5.6370e-10 - accuracy: 1.0000\n",
      "Epoch 98/100\n",
      "193792/193792 [==============================] - 2s 9us/step - loss: 5.5987e-10 - accuracy: 1.0000\n",
      "Epoch 99/100\n",
      "193792/193792 [==============================] - 2s 9us/step - loss: 5.5621e-10 - accuracy: 1.0000\n",
      "Epoch 100/100\n",
      "193792/193792 [==============================] - 2s 9us/step - loss: 5.5277e-10 - accuracy: 1.0000\n"
     ]
    }
   ],
   "source": [
    "\n",
    "model = classifier.fit(X_train, y_train, batch_size = 100, nb_epoch = 100)\n"
   ]
  },
  {
   "cell_type": "code",
   "execution_count": 16,
   "metadata": {},
   "outputs": [],
   "source": [
    "y_pred = classifier.predict(X_test)\n",
    "y_pred = (y_pred > 0.5)"
   ]
  },
  {
   "cell_type": "code",
   "execution_count": 17,
   "metadata": {},
   "outputs": [
    {
     "data": {
      "image/png": "[encoded data removed]",
      "text/plain": [
       "<Figure size 720x288 with 2 Axes>"
      ]
     },
     "metadata": {
      "needs_background": "light"
     },
     "output_type": "display_data"
    }
   ],
   "source": [
    "from sklearn.metrics import confusion_matrix\n",
    "cm = confusion_matrix(y_test.argmax(axis=1), y_pred.argmax(axis=1))\n",
    "\n",
    "import seaborn as sn\n",
    "import pandas as pd\n",
    "import matplotlib.pyplot as plt\n",
    "\n",
    "index = ['Normal', 'Outer Race (0.007\")']  \n",
    "columns = ['Normal', 'Outer Race (0.007\")']  \n",
    "cm_df = pd.DataFrame(cm,columns,index)  \n",
    "\n",
    "\n",
    "plt.figure(figsize=(10,4))\n",
    "sn.set(font_scale=1.4) # for label size\n",
    "sn.heatmap(cm_df, annot=True, fmt='g') # font size\n",
    "plt.title('Confusion matrix')\n",
    "plt.xlabel('Predicted')\n",
    "plt.ylabel('True')\n",
    "plt.show()\n",
    "\n",
    "plt.show()"
   ]
  },
  {
   "cell_type": "code",
   "execution_count": 18,
   "metadata": {},
   "outputs": [
    {
     "name": "stdout",
     "output_type": "stream",
     "text": [
      "48448/48448 [==============================] - 1s 14us/step\n"
     ]
    },
    {
     "data": {
      "text/plain": [
       "[5.511968262926413e-10, 1.0]"
      ]
     },
     "execution_count": 18,
     "metadata": {},
     "output_type": "execute_result"
    }
   ],
   "source": [
    "classifier.evaluate(X_test, y_test)"
   ]
  },
  {
   "cell_type": "code",
   "execution_count": 19,
   "metadata": {},
   "outputs": [
    {
     "name": "stdout",
     "output_type": "stream",
     "text": [
      "                     precision    recall  f1-score   support\n",
      "\n",
      "             Normal       1.00      1.00      1.00     24208\n",
      "Outer Race (0.007\")       1.00      1.00      1.00     24240\n",
      "\n",
      "          micro avg       1.00      1.00      1.00     48448\n",
      "          macro avg       1.00      1.00      1.00     48448\n",
      "       weighted avg       1.00      1.00      1.00     48448\n",
      "        samples avg       1.00      1.00      1.00     48448\n",
      "\n"
     ]
    }
   ],
   "source": [
    "from sklearn.metrics import classification_report\n",
    "cr = classification_report(y_test, y_pred, target_names=['Normal', 'Outer Race (0.007\")'])\n",
    "print(cr)"
   ]
  },
  {
   "cell_type": "code",
   "execution_count": null,
   "metadata": {},
   "outputs": [],
   "source": []
  }
 ],
 "metadata": {
  "kernelspec": {
   "display_name": "Python 3",
   "language": "python",
   "name": "python3"
  },
  "language_info": {
   "codemirror_mode": {
    "name": "ipython",
    "version": 3
   },
   "file_extension": ".py",
   "mimetype": "text/x-python",
   "name": "python",
   "nbconvert_exporter": "python",
   "pygments_lexer": "ipython3",
   "version": "3.7.4"
  }
 },
 "nbformat": 4,
 "nbformat_minor": 4
}
