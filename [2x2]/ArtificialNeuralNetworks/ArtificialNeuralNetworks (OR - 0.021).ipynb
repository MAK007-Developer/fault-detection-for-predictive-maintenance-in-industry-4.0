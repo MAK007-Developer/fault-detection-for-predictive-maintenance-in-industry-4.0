{
 "cells": [
  {
   "cell_type": "code",
   "execution_count": 1,
   "metadata": {},
   "outputs": [],
   "source": [
    "#importing packages\n",
    "import pandas as pd\n",
    "import numpy as np"
   ]
  },
  {
   "cell_type": "code",
   "execution_count": 2,
   "metadata": {},
   "outputs": [],
   "source": [
    "# Importing the dataset\n",
    "dataset = pd.read_csv('../OR - 21.csv')\n",
    "X = dataset.iloc[:, 1:4].values\n",
    "y = dataset.iloc[:, 0:1].values"
   ]
  },
  {
   "cell_type": "code",
   "execution_count": 3,
   "metadata": {},
   "outputs": [
    {
     "data": {
      "text/html": [
       "<div>\n",
       "<style scoped>\n",
       "    .dataframe tbody tr th:only-of-type {\n",
       "        vertical-align: middle;\n",
       "    }\n",
       "\n",
       "    .dataframe tbody tr th {\n",
       "        vertical-align: top;\n",
       "    }\n",
       "\n",
       "    .dataframe thead th {\n",
       "        text-align: right;\n",
       "    }\n",
       "</style>\n",
       "<table border=\"1\" class=\"dataframe\">\n",
       "  <thead>\n",
       "    <tr style=\"text-align: right;\">\n",
       "      <th></th>\n",
       "      <th>Bearing</th>\n",
       "      <th>Fault Diameter</th>\n",
       "      <th>DE</th>\n",
       "      <th>FE</th>\n",
       "    </tr>\n",
       "  </thead>\n",
       "  <tbody>\n",
       "    <tr>\n",
       "      <th>0</th>\n",
       "      <td>Normal</td>\n",
       "      <td>0.0</td>\n",
       "      <td>0.064254</td>\n",
       "      <td>0.038625</td>\n",
       "    </tr>\n",
       "    <tr>\n",
       "      <th>1</th>\n",
       "      <td>Normal</td>\n",
       "      <td>0.0</td>\n",
       "      <td>0.063002</td>\n",
       "      <td>0.096769</td>\n",
       "    </tr>\n",
       "    <tr>\n",
       "      <th>2</th>\n",
       "      <td>Normal</td>\n",
       "      <td>0.0</td>\n",
       "      <td>-0.004381</td>\n",
       "      <td>0.127382</td>\n",
       "    </tr>\n",
       "    <tr>\n",
       "      <th>3</th>\n",
       "      <td>Normal</td>\n",
       "      <td>0.0</td>\n",
       "      <td>-0.035882</td>\n",
       "      <td>0.144640</td>\n",
       "    </tr>\n",
       "    <tr>\n",
       "      <th>4</th>\n",
       "      <td>Normal</td>\n",
       "      <td>0.0</td>\n",
       "      <td>-0.023991</td>\n",
       "      <td>0.086702</td>\n",
       "    </tr>\n",
       "  </tbody>\n",
       "</table>\n",
       "</div>"
      ],
      "text/plain": [
       "  Bearing  Fault Diameter        DE        FE\n",
       "0  Normal             0.0  0.064254  0.038625\n",
       "1  Normal             0.0  0.063002  0.096769\n",
       "2  Normal             0.0 -0.004381  0.127382\n",
       "3  Normal             0.0 -0.035882  0.144640\n",
       "4  Normal             0.0 -0.023991  0.086702"
      ]
     },
     "execution_count": 3,
     "metadata": {},
     "output_type": "execute_result"
    }
   ],
   "source": [
    "dataset.head(5)"
   ]
  },
  {
   "cell_type": "code",
   "execution_count": 4,
   "metadata": {},
   "outputs": [
    {
     "data": {
      "text/html": [
       "<div>\n",
       "<style scoped>\n",
       "    .dataframe tbody tr th:only-of-type {\n",
       "        vertical-align: middle;\n",
       "    }\n",
       "\n",
       "    .dataframe tbody tr th {\n",
       "        vertical-align: top;\n",
       "    }\n",
       "\n",
       "    .dataframe thead th {\n",
       "        text-align: right;\n",
       "    }\n",
       "</style>\n",
       "<table border=\"1\" class=\"dataframe\">\n",
       "  <thead>\n",
       "    <tr style=\"text-align: right;\">\n",
       "      <th></th>\n",
       "      <th>Bearing</th>\n",
       "      <th>Fault Diameter</th>\n",
       "      <th>DE</th>\n",
       "      <th>FE</th>\n",
       "    </tr>\n",
       "  </thead>\n",
       "  <tbody>\n",
       "    <tr>\n",
       "      <th>234180</th>\n",
       "      <td>Outer Race (0.021\")</td>\n",
       "      <td>0.021</td>\n",
       "      <td>0.043045</td>\n",
       "      <td>0.045816</td>\n",
       "    </tr>\n",
       "    <tr>\n",
       "      <th>57023</th>\n",
       "      <td>Normal</td>\n",
       "      <td>0.000</td>\n",
       "      <td>-0.099927</td>\n",
       "      <td>0.008013</td>\n",
       "    </tr>\n",
       "    <tr>\n",
       "      <th>207679</th>\n",
       "      <td>Outer Race (0.021\")</td>\n",
       "      <td>0.021</td>\n",
       "      <td>-0.018680</td>\n",
       "      <td>0.008424</td>\n",
       "    </tr>\n",
       "    <tr>\n",
       "      <th>218900</th>\n",
       "      <td>Outer Race (0.021\")</td>\n",
       "      <td>0.021</td>\n",
       "      <td>-0.114111</td>\n",
       "      <td>0.124916</td>\n",
       "    </tr>\n",
       "    <tr>\n",
       "      <th>45118</th>\n",
       "      <td>Normal</td>\n",
       "      <td>0.000</td>\n",
       "      <td>0.108689</td>\n",
       "      <td>0.106015</td>\n",
       "    </tr>\n",
       "    <tr>\n",
       "      <th>176951</th>\n",
       "      <td>Outer Race (0.021\")</td>\n",
       "      <td>0.021</td>\n",
       "      <td>-0.041015</td>\n",
       "      <td>-0.013149</td>\n",
       "    </tr>\n",
       "    <tr>\n",
       "      <th>207704</th>\n",
       "      <td>Outer Race (0.021\")</td>\n",
       "      <td>0.021</td>\n",
       "      <td>0.076751</td>\n",
       "      <td>0.162515</td>\n",
       "    </tr>\n",
       "    <tr>\n",
       "      <th>153422</th>\n",
       "      <td>Outer Race (0.021\")</td>\n",
       "      <td>0.021</td>\n",
       "      <td>0.192486</td>\n",
       "      <td>-0.086085</td>\n",
       "    </tr>\n",
       "    <tr>\n",
       "      <th>207707</th>\n",
       "      <td>Outer Race (0.021\")</td>\n",
       "      <td>0.021</td>\n",
       "      <td>-0.337053</td>\n",
       "      <td>0.040064</td>\n",
       "    </tr>\n",
       "    <tr>\n",
       "      <th>172536</th>\n",
       "      <td>Outer Race (0.021\")</td>\n",
       "      <td>0.021</td>\n",
       "      <td>-1.864349</td>\n",
       "      <td>0.191484</td>\n",
       "    </tr>\n",
       "  </tbody>\n",
       "</table>\n",
       "</div>"
      ],
      "text/plain": [
       "                    Bearing  Fault Diameter        DE        FE\n",
       "234180  Outer Race (0.021\")           0.021  0.043045  0.045816\n",
       "57023                Normal           0.000 -0.099927  0.008013\n",
       "207679  Outer Race (0.021\")           0.021 -0.018680  0.008424\n",
       "218900  Outer Race (0.021\")           0.021 -0.114111  0.124916\n",
       "45118                Normal           0.000  0.108689  0.106015\n",
       "176951  Outer Race (0.021\")           0.021 -0.041015 -0.013149\n",
       "207704  Outer Race (0.021\")           0.021  0.076751  0.162515\n",
       "153422  Outer Race (0.021\")           0.021  0.192486 -0.086085\n",
       "207707  Outer Race (0.021\")           0.021 -0.337053  0.040064\n",
       "172536  Outer Race (0.021\")           0.021 -1.864349  0.191484"
      ]
     },
     "execution_count": 4,
     "metadata": {},
     "output_type": "execute_result"
    }
   ],
   "source": [
    "#Retrieve Random Data\n",
    "dataset.sample(10)"
   ]
  },
  {
   "cell_type": "code",
   "execution_count": 5,
   "metadata": {},
   "outputs": [],
   "source": [
    "from sklearn.preprocessing import LabelEncoder, OneHotEncoder\n",
    "from sklearn.compose import ColumnTransformer\n",
    "labelencoder_y = LabelEncoder()\n",
    "y[:,0] = labelencoder_y.fit_transform(y[:,0])\n",
    "ct = ColumnTransformer([(\"Bearing\", OneHotEncoder(), [0])],    remainder = 'passthrough')\n",
    "y = ct.fit_transform(y)"
   ]
  },
  {
   "cell_type": "code",
   "execution_count": 6,
   "metadata": {},
   "outputs": [],
   "source": [
    "from sklearn.model_selection import train_test_split\n",
    "X_train, X_test, y_train, y_test = train_test_split(X, y, test_size = 0.2, random_state = 0)\n"
   ]
  },
  {
   "cell_type": "code",
   "execution_count": 7,
   "metadata": {},
   "outputs": [],
   "source": [
    "from sklearn.preprocessing import StandardScaler\n",
    "sc = StandardScaler()\n",
    "X_train = sc.fit_transform(X_train)\n",
    "X_test = sc.transform(X_test)"
   ]
  },
  {
   "cell_type": "code",
   "execution_count": 8,
   "metadata": {},
   "outputs": [
    {
     "data": {
      "text/plain": [
       "array([[1., 0.],\n",
       "       [1., 0.],\n",
       "       [1., 0.],\n",
       "       ...,\n",
       "       [0., 1.],\n",
       "       [1., 0.],\n",
       "       [0., 1.]])"
      ]
     },
     "execution_count": 8,
     "metadata": {},
     "output_type": "execute_result"
    }
   ],
   "source": [
    "y_train"
   ]
  },
  {
   "cell_type": "code",
   "execution_count": 9,
   "metadata": {},
   "outputs": [
    {
     "name": "stderr",
     "output_type": "stream",
     "text": [
      "Using TensorFlow backend.\n"
     ]
    }
   ],
   "source": [
    "import keras\n",
    "from keras.models import Sequential\n",
    "from keras.layers import Dense"
   ]
  },
  {
   "cell_type": "code",
   "execution_count": 10,
   "metadata": {},
   "outputs": [],
   "source": [
    "classifier = Sequential()"
   ]
  },
  {
   "cell_type": "code",
   "execution_count": 11,
   "metadata": {},
   "outputs": [
    {
     "name": "stderr",
     "output_type": "stream",
     "text": [
      "C:\\Users\\leste\\Anaconda3\\lib\\site-packages\\ipykernel_launcher.py:1: UserWarning: Update your `Dense` call to the Keras 2 API: `Dense(kernel_initializer=\"uniform\", activation=\"relu\", input_dim=3, units=3)`\n",
      "  \"\"\"Entry point for launching an IPython kernel.\n"
     ]
    }
   ],
   "source": [
    "classifier.add(Dense(output_dim = 3, kernel_initializer = 'uniform', activation = 'relu', input_dim = 3))"
   ]
  },
  {
   "cell_type": "code",
   "execution_count": 12,
   "metadata": {},
   "outputs": [
    {
     "name": "stderr",
     "output_type": "stream",
     "text": [
      "C:\\Users\\leste\\Anaconda3\\lib\\site-packages\\ipykernel_launcher.py:1: UserWarning: Update your `Dense` call to the Keras 2 API: `Dense(kernel_initializer=\"uniform\", activation=\"relu\", units=3)`\n",
      "  \"\"\"Entry point for launching an IPython kernel.\n"
     ]
    }
   ],
   "source": [
    "classifier.add(Dense(output_dim = 3, kernel_initializer = 'uniform', activation = 'relu'))"
   ]
  },
  {
   "cell_type": "code",
   "execution_count": 13,
   "metadata": {},
   "outputs": [
    {
     "name": "stderr",
     "output_type": "stream",
     "text": [
      "C:\\Users\\leste\\Anaconda3\\lib\\site-packages\\ipykernel_launcher.py:1: UserWarning: Update your `Dense` call to the Keras 2 API: `Dense(kernel_initializer=\"uniform\", activation=\"sigmoid\", units=2)`\n",
      "  \"\"\"Entry point for launching an IPython kernel.\n"
     ]
    }
   ],
   "source": [
    "classifier.add(Dense(output_dim = 2, kernel_initializer = 'uniform', activation = 'sigmoid'))"
   ]
  },
  {
   "cell_type": "code",
   "execution_count": 14,
   "metadata": {},
   "outputs": [],
   "source": [
    "classifier.compile(optimizer = 'adam', loss = 'binary_crossentropy', metrics = ['accuracy'])"
   ]
  },
  {
   "cell_type": "code",
   "execution_count": 15,
   "metadata": {},
   "outputs": [
    {
     "name": "stderr",
     "output_type": "stream",
     "text": [
      "C:\\Users\\leste\\Anaconda3\\lib\\site-packages\\ipykernel_launcher.py:1: UserWarning: The `nb_epoch` argument in `fit` has been renamed `epochs`.\n",
      "  \"\"\"Entry point for launching an IPython kernel.\n"
     ]
    },
    {
     "name": "stdout",
     "output_type": "stream",
     "text": [
      "Epoch 1/100\n",
      "193792/193792 [==============================] - 4s 22us/step - loss: 0.2508 - accuracy: 0.9776\n",
      "Epoch 2/100\n",
      "193792/193792 [==============================] - 4s 19us/step - loss: 0.0481 - accuracy: 1.0000\n",
      "Epoch 3/100\n",
      "193792/193792 [==============================] - 4s 18us/step - loss: 0.0181 - accuracy: 1.0000\n",
      "Epoch 4/100\n",
      "193792/193792 [==============================] - 4s 18us/step - loss: 0.0076 - accuracy: 1.0000\n",
      "Epoch 5/100\n",
      "193792/193792 [==============================] - 4s 19us/step - loss: 0.0033 - accuracy: 1.0000\n",
      "Epoch 6/100\n",
      "193792/193792 [==============================] - 4s 21us/step - loss: 0.0015 - accuracy: 1.0000\n",
      "Epoch 7/100\n",
      "193792/193792 [==============================] - 4s 20us/step - loss: 6.5814e-04 - accuracy: 1.0000\n",
      "Epoch 8/100\n",
      "193792/193792 [==============================] - 4s 19us/step - loss: 2.9428e-04 - accuracy: 1.0000\n",
      "Epoch 9/100\n",
      "193792/193792 [==============================] - 4s 19us/step - loss: 1.3175e-04 - accuracy: 1.0000\n",
      "Epoch 10/100\n",
      "193792/193792 [==============================] - 4s 19us/step - loss: 5.9026e-05 - accuracy: 1.0000\n",
      "Epoch 11/100\n",
      "193792/193792 [==============================] - 4s 19us/step - loss: 2.6473e-05 - accuracy: 1.0000\n",
      "Epoch 12/100\n",
      "193792/193792 [==============================] - 3s 18us/step - loss: 1.1892e-05 - accuracy: 1.0000\n",
      "Epoch 13/100\n",
      "193792/193792 [==============================] - 4s 18us/step - loss: 5.3607e-06 - accuracy: 1.0000\n",
      "Epoch 14/100\n",
      "193792/193792 [==============================] - 4s 18us/step - loss: 2.4348e-06 - accuracy: 1.0000\n",
      "Epoch 15/100\n",
      "193792/193792 [==============================] - 4s 18us/step - loss: 1.1235e-06 - accuracy: 1.0000\n",
      "Epoch 16/100\n",
      "193792/193792 [==============================] - 4s 18us/step - loss: 5.3534e-07 - accuracy: 1.0000\n",
      "Epoch 17/100\n",
      "193792/193792 [==============================] - 4s 19us/step - loss: 2.7061e-07 - accuracy: 1.0000\n",
      "Epoch 18/100\n",
      "193792/193792 [==============================] - 4s 20us/step - loss: 1.5003e-07 - accuracy: 1.0000\n",
      "Epoch 19/100\n",
      "193792/193792 [==============================] - 4s 18us/step - loss: 9.3366e-08 - accuracy: 1.0000\n",
      "Epoch 20/100\n",
      "193792/193792 [==============================] - 4s 19us/step - loss: 6.6066e-08 - accuracy: 1.0000\n",
      "Epoch 21/100\n",
      "193792/193792 [==============================] - 4s 21us/step - loss: 5.0172e-08 - accuracy: 1.0000\n",
      "Epoch 22/100\n",
      "193792/193792 [==============================] - 4s 18us/step - loss: 3.9475e-08 - accuracy: 1.0000\n",
      "Epoch 23/100\n",
      "193792/193792 [==============================] - 4s 18us/step - loss: 3.4353e-08 - accuracy: 1.0000\n",
      "Epoch 24/100\n",
      "193792/193792 [==============================] - 3s 18us/step - loss: 3.2243e-08 - accuracy: 1.0000\n",
      "Epoch 25/100\n",
      "193792/193792 [==============================] - 4s 19us/step - loss: 3.0623e-08 - accuracy: 1.0000\n",
      "Epoch 26/100\n",
      "193792/193792 [==============================] - 4s 19us/step - loss: 2.9312e-08 - accuracy: 1.0000\n",
      "Epoch 27/100\n",
      "193792/193792 [==============================] - 4s 19us/step - loss: 2.8235e-08 - accuracy: 1.0000\n",
      "Epoch 28/100\n",
      "193792/193792 [==============================] - 4s 20us/step - loss: 2.8266e-08 - accuracy: 1.0000\n",
      "Epoch 29/100\n",
      "193792/193792 [==============================] - 4s 19us/step - loss: 2.7245e-08 - accuracy: 1.0000\n",
      "Epoch 30/100\n",
      "193792/193792 [==============================] - 4s 20us/step - loss: 2.6579e-08 - accuracy: 1.0000\n",
      "Epoch 31/100\n",
      "193792/193792 [==============================] - 3s 18us/step - loss: 2.6788e-08 - accuracy: 1.0000\n",
      "Epoch 32/100\n",
      "193792/193792 [==============================] - 3s 18us/step - loss: 2.5879e-08 - accuracy: 1.0000\n",
      "Epoch 33/100\n",
      "193792/193792 [==============================] - 3s 18us/step - loss: 2.6091e-08 - accuracy: 1.0000\n",
      "Epoch 34/100\n",
      "193792/193792 [==============================] - 3s 18us/step - loss: 2.5170e-08 - accuracy: 1.0000\n",
      "Epoch 35/100\n",
      "193792/193792 [==============================] - 4s 18us/step - loss: 2.5380e-08 - accuracy: 1.0000\n",
      "Epoch 36/100\n",
      "193792/193792 [==============================] - 4s 18us/step - loss: 2.5073e-08 - accuracy: 1.0000\n",
      "Epoch 37/100\n",
      "193792/193792 [==============================] - 4s 19us/step - loss: 2.5326e-08 - accuracy: 1.0000\n",
      "Epoch 38/100\n",
      "193792/193792 [==============================] - 4s 18us/step - loss: 2.4443e-08 - accuracy: 1.0000\n",
      "Epoch 39/100\n",
      "193792/193792 [==============================] - 4s 22us/step - loss: 2.4680e-08 - accuracy: 1.0000\n",
      "Epoch 40/100\n",
      "193792/193792 [==============================] - 4s 19us/step - loss: 2.4815e-08 - accuracy: 1.0000\n",
      "Epoch 41/100\n",
      "193792/193792 [==============================] - 4s 18us/step - loss: 2.3952e-08 - accuracy: 1.0000\n",
      "Epoch 42/100\n",
      "193792/193792 [==============================] - 3s 17us/step - loss: 2.4151e-08 - accuracy: 1.0000\n",
      "Epoch 43/100\n",
      "193792/193792 [==============================] - 3s 17us/step - loss: 2.4355e-08 - accuracy: 1.0000\n",
      "Epoch 44/100\n",
      "193792/193792 [==============================] - 3s 18us/step - loss: 2.3783e-08 - accuracy: 1.0000\n",
      "Epoch 45/100\n",
      "193792/193792 [==============================] - 4s 19us/step - loss: 2.3959e-08 - accuracy: 1.0000\n",
      "Epoch 46/100\n",
      "193792/193792 [==============================] - 4s 18us/step - loss: 2.4137e-08 - accuracy: 1.0000\n",
      "Epoch 47/100\n",
      "193792/193792 [==============================] - 4s 19us/step - loss: 2.3416e-08 - accuracy: 1.0000\n",
      "Epoch 48/100\n",
      "193792/193792 [==============================] - 4s 18us/step - loss: 2.3592e-08 - accuracy: 1.0000\n",
      "Epoch 49/100\n",
      "193792/193792 [==============================] - 4s 18us/step - loss: 2.3773e-08 - accuracy: 1.0000\n",
      "Epoch 50/100\n",
      "193792/193792 [==============================] - 4s 19us/step - loss: 2.3964e-08 - accuracy: 1.0000\n",
      "Epoch 51/100\n",
      "193792/193792 [==============================] - 4s 19us/step - loss: 2.3007e-08 - accuracy: 1.0000\n",
      "Epoch 52/100\n",
      "193792/193792 [==============================] - 4s 20us/step - loss: 2.3160e-08 - accuracy: 1.0000\n",
      "Epoch 53/100\n",
      "193792/193792 [==============================] - 4s 20us/step - loss: 2.3316e-08 - accuracy: 1.0000\n",
      "Epoch 54/100\n",
      "193792/193792 [==============================] - 4s 19us/step - loss: 2.3478e-08 - accuracy: 1.0000\n",
      "Epoch 55/100\n",
      "193792/193792 [==============================] - 4s 19us/step - loss: 2.3640e-08 - accuracy: 1.0000\n",
      "Epoch 56/100\n",
      "193792/193792 [==============================] - 4s 18us/step - loss: 2.2965e-08 - accuracy: 1.0000\n",
      "Epoch 57/100\n",
      "193792/193792 [==============================] - 4s 19us/step - loss: 2.3092e-08 - accuracy: 1.0000\n",
      "Epoch 58/100\n",
      "193792/193792 [==============================] - 4s 18us/step - loss: 2.3224e-08 - accuracy: 1.0000\n",
      "Epoch 59/100\n",
      "193792/193792 [==============================] - 4s 18us/step - loss: 2.3360e-08 - accuracy: 1.0000\n",
      "Epoch 60/100\n",
      "193792/193792 [==============================] - 3s 18us/step - loss: 2.3498e-08 - accuracy: 1.0000\n",
      "Epoch 61/100\n",
      "193792/193792 [==============================] - 3s 18us/step - loss: 2.2608e-08 - accuracy: 1.0000\n",
      "Epoch 62/100\n",
      "193792/193792 [==============================] - 4s 19us/step - loss: 2.2747e-08 - accuracy: 1.0000\n",
      "Epoch 63/100\n",
      "193792/193792 [==============================] - 4s 18us/step - loss: 2.2891e-08 - accuracy: 1.0000\n",
      "Epoch 64/100\n",
      "193792/193792 [==============================] - 4s 19us/step - loss: 2.3042e-08 - accuracy: 1.0000\n",
      "Epoch 65/100\n",
      "193792/193792 [==============================] - 4s 19us/step - loss: 2.3198e-08 - accuracy: 1.0000\n",
      "Epoch 66/100\n",
      "193792/193792 [==============================] - 4s 19us/step - loss: 2.3332e-08 - accuracy: 1.0000\n",
      "Epoch 67/100\n",
      "193792/193792 [==============================] - 4s 18us/step - loss: 2.2391e-08 - accuracy: 1.0000\n",
      "Epoch 68/100\n",
      "193792/193792 [==============================] - 3s 18us/step - loss: 2.2543e-08 - accuracy: 1.0000\n",
      "Epoch 69/100\n",
      "193792/193792 [==============================] - 4s 18us/step - loss: 2.2695e-08 - accuracy: 1.0000\n",
      "Epoch 70/100\n",
      "193792/193792 [==============================] - 4s 19us/step - loss: 2.2839e-08 - accuracy: 1.0000\n",
      "Epoch 71/100\n",
      "193792/193792 [==============================] - 4s 18us/step - loss: 2.2982e-08 - accuracy: 1.0000\n",
      "Epoch 72/100\n",
      "193792/193792 [==============================] - 4s 18us/step - loss: 2.3126e-08 - accuracy: 1.0000\n",
      "Epoch 73/100\n"
     ]
    },
    {
     "name": "stdout",
     "output_type": "stream",
     "text": [
      "193792/193792 [==============================] - 4s 18us/step - loss: 2.2653e-08 - accuracy: 1.0000\n",
      "Epoch 74/100\n",
      "193792/193792 [==============================] - 4s 19us/step - loss: 2.2789e-08 - accuracy: 1.0000\n",
      "Epoch 75/100\n",
      "193792/193792 [==============================] - 4s 18us/step - loss: 2.2932e-08 - accuracy: 1.0000\n",
      "Epoch 76/100\n",
      "193792/193792 [==============================] - 3s 18us/step - loss: 2.3077e-08 - accuracy: 1.0000\n",
      "Epoch 77/100\n",
      "193792/193792 [==============================] - 4s 18us/step - loss: 2.2089e-08 - accuracy: 1.0000\n",
      "Epoch 78/100\n",
      "193792/193792 [==============================] - 4s 18us/step - loss: 2.2214e-08 - accuracy: 1.0000\n",
      "Epoch 79/100\n",
      "193792/193792 [==============================] - 3s 18us/step - loss: 2.2342e-08 - accuracy: 1.0000\n",
      "Epoch 80/100\n",
      "193792/193792 [==============================] - 3s 15us/step - loss: 2.2464e-08 - accuracy: 1.0000\n",
      "Epoch 81/100\n",
      "193792/193792 [==============================] - 3s 15us/step - loss: 2.2579e-08 - accuracy: 1.0000\n",
      "Epoch 82/100\n",
      "193792/193792 [==============================] - 3s 13us/step - loss: 2.2689e-08 - accuracy: 1.0000\n",
      "Epoch 83/100\n",
      "193792/193792 [==============================] - 3s 14us/step - loss: 2.2800e-08 - accuracy: 1.0000\n",
      "Epoch 84/100\n",
      "193792/193792 [==============================] - 3s 14us/step - loss: 2.2912e-08 - accuracy: 1.0000\n",
      "Epoch 85/100\n",
      "193792/193792 [==============================] - 3s 13us/step - loss: 2.2825e-08 - accuracy: 1.0000\n",
      "Epoch 86/100\n",
      "193792/193792 [==============================] - 3s 14us/step - loss: 2.2936e-08 - accuracy: 1.0000\n",
      "Epoch 87/100\n",
      "193792/193792 [==============================] - 3s 14us/step - loss: 2.1977e-08 - accuracy: 1.0000\n",
      "Epoch 88/100\n",
      "193792/193792 [==============================] - 3s 14us/step - loss: 2.2075e-08 - accuracy: 1.0000\n",
      "Epoch 89/100\n",
      "193792/193792 [==============================] - 3s 14us/step - loss: 2.2179e-08 - accuracy: 1.0000\n",
      "Epoch 90/100\n",
      "193792/193792 [==============================] - 3s 14us/step - loss: 2.2284e-08 - accuracy: 1.0000\n",
      "Epoch 91/100\n",
      "193792/193792 [==============================] - 3s 14us/step - loss: 2.2392e-08 - accuracy: 1.0000\n",
      "Epoch 92/100\n",
      "193792/193792 [==============================] - 3s 14us/step - loss: 2.2502e-08 - accuracy: 1.0000\n",
      "Epoch 93/100\n",
      "193792/193792 [==============================] - 2s 13us/step - loss: 2.2615e-08 - accuracy: 1.0000\n",
      "Epoch 94/100\n",
      "193792/193792 [==============================] - 2s 11us/step - loss: 2.2732e-08 - accuracy: 1.0000\n",
      "Epoch 95/100\n",
      "193792/193792 [==============================] - 2s 10us/step - loss: 2.2823e-08 - accuracy: 1.0000\n",
      "Epoch 96/100\n",
      "193792/193792 [==============================] - 2s 10us/step - loss: 2.1827e-08 - accuracy: 1.0000\n",
      "Epoch 97/100\n",
      "193792/193792 [==============================] - 2s 10us/step - loss: 2.1939e-08 - accuracy: 1.0000\n",
      "Epoch 98/100\n",
      "193792/193792 [==============================] - 2s 10us/step - loss: 2.2049e-08 - accuracy: 1.0000\n",
      "Epoch 99/100\n",
      "193792/193792 [==============================] - 2s 10us/step - loss: 2.2155e-08 - accuracy: 1.0000\n",
      "Epoch 100/100\n",
      "193792/193792 [==============================] - 2s 10us/step - loss: 2.2260e-08 - accuracy: 1.0000\n"
     ]
    }
   ],
   "source": [
    "\n",
    "model = classifier.fit(X_train, y_train, batch_size = 100, nb_epoch = 100, shuffle = False)\n"
   ]
  },
  {
   "cell_type": "code",
   "execution_count": 16,
   "metadata": {},
   "outputs": [],
   "source": [
    "y_pred = classifier.predict(X_test)\n",
    "y_pred = (y_pred > 0.5)"
   ]
  },
  {
   "cell_type": "code",
   "execution_count": 17,
   "metadata": {},
   "outputs": [
    {
     "data": {
      "image/png": "[encoded data removed]",
      "text/plain": [
       "<Figure size 720x288 with 2 Axes>"
      ]
     },
     "metadata": {
      "needs_background": "light"
     },
     "output_type": "display_data"
    }
   ],
   "source": [
    "from sklearn.metrics import confusion_matrix\n",
    "cm = confusion_matrix(y_test.argmax(axis=1), y_pred.argmax(axis=1))\n",
    "\n",
    "import seaborn as sn\n",
    "import pandas as pd\n",
    "import matplotlib.pyplot as plt\n",
    "\n",
    "index = ['Normal', 'Outer Race (0.021\")']  \n",
    "columns = ['Normal', 'Outer Race (0.021\")']  \n",
    "cm_df = pd.DataFrame(cm,columns,index)  \n",
    "\n",
    "\n",
    "plt.figure(figsize=(10,4))\n",
    "sn.set(font_scale=1.4) # for label size\n",
    "sn.heatmap(cm_df, annot=True, fmt='g') # font size\n",
    "plt.title('Confusion matrix')\n",
    "plt.xlabel('Predicted')\n",
    "plt.ylabel('True')\n",
    "plt.show()\n",
    "\n",
    "plt.show()"
   ]
  },
  {
   "cell_type": "code",
   "execution_count": 18,
   "metadata": {},
   "outputs": [
    {
     "name": "stdout",
     "output_type": "stream",
     "text": [
      "48448/48448 [==============================] - 1s 14us/step\n"
     ]
    },
    {
     "data": {
      "text/plain": [
       "[2.2312021256262825e-08, 1.0]"
      ]
     },
     "execution_count": 18,
     "metadata": {},
     "output_type": "execute_result"
    }
   ],
   "source": [
    "classifier.evaluate(X_test, y_test)"
   ]
  },
  {
   "cell_type": "code",
   "execution_count": 19,
   "metadata": {},
   "outputs": [
    {
     "name": "stdout",
     "output_type": "stream",
     "text": [
      "                     precision    recall  f1-score   support\n",
      "\n",
      "             Normal       1.00      1.00      1.00     24208\n",
      "Outer Race (0.021\")       1.00      1.00      1.00     24240\n",
      "\n",
      "          micro avg       1.00      1.00      1.00     48448\n",
      "          macro avg       1.00      1.00      1.00     48448\n",
      "       weighted avg       1.00      1.00      1.00     48448\n",
      "        samples avg       1.00      1.00      1.00     48448\n",
      "\n"
     ]
    }
   ],
   "source": [
    "from sklearn.metrics import classification_report\n",
    "cr = classification_report(y_test, y_pred, target_names=['Normal', 'Outer Race (0.021\")'])\n",
    "print(cr)"
   ]
  },
  {
   "cell_type": "code",
   "execution_count": null,
   "metadata": {},
   "outputs": [],
   "source": []
  }
 ],
 "metadata": {
  "kernelspec": {
   "display_name": "Python 3",
   "language": "python",
   "name": "python3"
  },
  "language_info": {
   "codemirror_mode": {
    "name": "ipython",
    "version": 3
   },
   "file_extension": ".py",
   "mimetype": "text/x-python",
   "name": "python",
   "nbconvert_exporter": "python",
   "pygments_lexer": "ipython3",
   "version": "3.7.4"
  }
 },
 "nbformat": 4,
 "nbformat_minor": 4
}
