{
 "cells": [
  {
   "cell_type": "code",
   "execution_count": 1,
   "metadata": {},
   "outputs": [],
   "source": [
    "#importing packages\n",
    "import pandas as pd\n",
    "import numpy as np"
   ]
  },
  {
   "cell_type": "code",
   "execution_count": 2,
   "metadata": {},
   "outputs": [],
   "source": [
    "# Importing the dataset\n",
    "X = pd.read_csv('../Datasets/NB.csv')\n",
    "X['Fault'] = 0\n",
    "\n",
    "y = pd.read_csv('../Datasets/IR - 21.csv')\n",
    "y['Fault'] = 1"
   ]
  },
  {
   "cell_type": "code",
   "execution_count": 3,
   "metadata": {},
   "outputs": [],
   "source": [
    "from sklearn.model_selection import train_test_split\n",
    "X_train, X_test = train_test_split(X, test_size = 0.2, random_state = 0)\n",
    "\n",
    "y_train, y_test = train_test_split(y, test_size = 0.2, random_state = 0)"
   ]
  },
  {
   "cell_type": "code",
   "execution_count": 4,
   "metadata": {},
   "outputs": [
    {
     "data": {
      "text/html": [
       "<div>\n",
       "<style scoped>\n",
       "    .dataframe tbody tr th:only-of-type {\n",
       "        vertical-align: middle;\n",
       "    }\n",
       "\n",
       "    .dataframe tbody tr th {\n",
       "        vertical-align: top;\n",
       "    }\n",
       "\n",
       "    .dataframe thead th {\n",
       "        text-align: right;\n",
       "    }\n",
       "</style>\n",
       "<table border=\"1\" class=\"dataframe\">\n",
       "  <thead>\n",
       "    <tr style=\"text-align: right;\">\n",
       "      <th></th>\n",
       "      <th>DE</th>\n",
       "      <th>FE</th>\n",
       "      <th>Fault</th>\n",
       "    </tr>\n",
       "  </thead>\n",
       "  <tbody>\n",
       "    <tr>\n",
       "      <th>103476</th>\n",
       "      <td>0.062585</td>\n",
       "      <td>0.041091</td>\n",
       "      <td>0</td>\n",
       "    </tr>\n",
       "    <tr>\n",
       "      <th>96984</th>\n",
       "      <td>-0.075102</td>\n",
       "      <td>-0.013765</td>\n",
       "      <td>0</td>\n",
       "    </tr>\n",
       "    <tr>\n",
       "      <th>114732</th>\n",
       "      <td>-0.048190</td>\n",
       "      <td>-0.001233</td>\n",
       "      <td>0</td>\n",
       "    </tr>\n",
       "    <tr>\n",
       "      <th>10916</th>\n",
       "      <td>0.069260</td>\n",
       "      <td>0.028558</td>\n",
       "      <td>0</td>\n",
       "    </tr>\n",
       "    <tr>\n",
       "      <th>37646</th>\n",
       "      <td>0.040054</td>\n",
       "      <td>0.065335</td>\n",
       "      <td>0</td>\n",
       "    </tr>\n",
       "    <tr>\n",
       "      <th>...</th>\n",
       "      <td>...</td>\n",
       "      <td>...</td>\n",
       "      <td>...</td>\n",
       "    </tr>\n",
       "    <tr>\n",
       "      <th>45891</th>\n",
       "      <td>0.479590</td>\n",
       "      <td>-0.055473</td>\n",
       "      <td>1</td>\n",
       "    </tr>\n",
       "    <tr>\n",
       "      <th>117952</th>\n",
       "      <td>1.090346</td>\n",
       "      <td>-0.036776</td>\n",
       "      <td>1</td>\n",
       "    </tr>\n",
       "    <tr>\n",
       "      <th>42613</th>\n",
       "      <td>-0.061319</td>\n",
       "      <td>0.245724</td>\n",
       "      <td>1</td>\n",
       "    </tr>\n",
       "    <tr>\n",
       "      <th>43567</th>\n",
       "      <td>-0.548219</td>\n",
       "      <td>0.040475</td>\n",
       "      <td>1</td>\n",
       "    </tr>\n",
       "    <tr>\n",
       "      <th>68268</th>\n",
       "      <td>-0.225785</td>\n",
       "      <td>-0.049104</td>\n",
       "      <td>1</td>\n",
       "    </tr>\n",
       "  </tbody>\n",
       "</table>\n",
       "<p>193848 rows × 3 columns</p>\n",
       "</div>"
      ],
      "text/plain": [
       "              DE        FE  Fault\n",
       "103476  0.062585  0.041091      0\n",
       "96984  -0.075102 -0.013765      0\n",
       "114732 -0.048190 -0.001233      0\n",
       "10916   0.069260  0.028558      0\n",
       "37646   0.040054  0.065335      0\n",
       "...          ...       ...    ...\n",
       "45891   0.479590 -0.055473      1\n",
       "117952  1.090346 -0.036776      1\n",
       "42613  -0.061319  0.245724      1\n",
       "43567  -0.548219  0.040475      1\n",
       "68268  -0.225785 -0.049104      1\n",
       "\n",
       "[193848 rows x 3 columns]"
      ]
     },
     "execution_count": 4,
     "metadata": {},
     "output_type": "execute_result"
    }
   ],
   "source": [
    "train = X_train.append(y_train)\n",
    "train"
   ]
  },
  {
   "cell_type": "code",
   "execution_count": 5,
   "metadata": {},
   "outputs": [
    {
     "data": {
      "text/html": [
       "<div>\n",
       "<style scoped>\n",
       "    .dataframe tbody tr th:only-of-type {\n",
       "        vertical-align: middle;\n",
       "    }\n",
       "\n",
       "    .dataframe tbody tr th {\n",
       "        vertical-align: top;\n",
       "    }\n",
       "\n",
       "    .dataframe thead th {\n",
       "        text-align: right;\n",
       "    }\n",
       "</style>\n",
       "<table border=\"1\" class=\"dataframe\">\n",
       "  <thead>\n",
       "    <tr style=\"text-align: right;\">\n",
       "      <th></th>\n",
       "      <th>DE</th>\n",
       "      <th>FE</th>\n",
       "      <th>Fault</th>\n",
       "    </tr>\n",
       "  </thead>\n",
       "  <tbody>\n",
       "    <tr>\n",
       "      <th>121079</th>\n",
       "      <td>0.046313</td>\n",
       "      <td>0.054651</td>\n",
       "      <td>0</td>\n",
       "    </tr>\n",
       "    <tr>\n",
       "      <th>107924</th>\n",
       "      <td>-0.015855</td>\n",
       "      <td>0.061636</td>\n",
       "      <td>0</td>\n",
       "    </tr>\n",
       "    <tr>\n",
       "      <th>22678</th>\n",
       "      <td>-0.065297</td>\n",
       "      <td>0.122862</td>\n",
       "      <td>0</td>\n",
       "    </tr>\n",
       "    <tr>\n",
       "      <th>55190</th>\n",
       "      <td>-0.112652</td>\n",
       "      <td>0.066978</td>\n",
       "      <td>0</td>\n",
       "    </tr>\n",
       "    <tr>\n",
       "      <th>92048</th>\n",
       "      <td>0.023991</td>\n",
       "      <td>0.034105</td>\n",
       "      <td>0</td>\n",
       "    </tr>\n",
       "    <tr>\n",
       "      <th>...</th>\n",
       "      <td>...</td>\n",
       "      <td>...</td>\n",
       "      <td>...</td>\n",
       "    </tr>\n",
       "    <tr>\n",
       "      <th>103358</th>\n",
       "      <td>-0.201013</td>\n",
       "      <td>-0.113411</td>\n",
       "      <td>1</td>\n",
       "    </tr>\n",
       "    <tr>\n",
       "      <th>54412</th>\n",
       "      <td>-0.208323</td>\n",
       "      <td>0.096975</td>\n",
       "      <td>1</td>\n",
       "    </tr>\n",
       "    <tr>\n",
       "      <th>50632</th>\n",
       "      <td>-0.115735</td>\n",
       "      <td>-0.066156</td>\n",
       "      <td>1</td>\n",
       "    </tr>\n",
       "    <tr>\n",
       "      <th>89251</th>\n",
       "      <td>-0.534005</td>\n",
       "      <td>-0.094920</td>\n",
       "      <td>1</td>\n",
       "    </tr>\n",
       "    <tr>\n",
       "      <th>65637</th>\n",
       "      <td>0.043045</td>\n",
       "      <td>0.032256</td>\n",
       "      <td>1</td>\n",
       "    </tr>\n",
       "  </tbody>\n",
       "</table>\n",
       "<p>48462 rows × 3 columns</p>\n",
       "</div>"
      ],
      "text/plain": [
       "              DE        FE  Fault\n",
       "121079  0.046313  0.054651      0\n",
       "107924 -0.015855  0.061636      0\n",
       "22678  -0.065297  0.122862      0\n",
       "55190  -0.112652  0.066978      0\n",
       "92048   0.023991  0.034105      0\n",
       "...          ...       ...    ...\n",
       "103358 -0.201013 -0.113411      1\n",
       "54412  -0.208323  0.096975      1\n",
       "50632  -0.115735 -0.066156      1\n",
       "89251  -0.534005 -0.094920      1\n",
       "65637   0.043045  0.032256      1\n",
       "\n",
       "[48462 rows x 3 columns]"
      ]
     },
     "execution_count": 5,
     "metadata": {},
     "output_type": "execute_result"
    }
   ],
   "source": [
    "test = X_test.append(y_test)\n",
    "test"
   ]
  },
  {
   "cell_type": "code",
   "execution_count": 6,
   "metadata": {},
   "outputs": [],
   "source": [
    "from sklearn.preprocessing import MinMaxScaler\n",
    "scaler = MinMaxScaler()\n",
    "train = pd.DataFrame(scaler.fit_transform(train))\n",
    "# Random shuffle training data\n",
    "train.sample(frac=1)\n",
    "\n",
    "test = pd.DataFrame(scaler.transform(test))"
   ]
  },
  {
   "cell_type": "code",
   "execution_count": 7,
   "metadata": {},
   "outputs": [
    {
     "name": "stderr",
     "output_type": "stream",
     "text": [
      "Using TensorFlow backend.\n"
     ]
    }
   ],
   "source": [
    "from keras.layers import Input, Dropout\n",
    "from keras.layers.core import Dense \n",
    "from keras.models import Model, Sequential, load_model\n",
    "from keras import regularizers\n",
    "import tensorflow as tf"
   ]
  },
  {
   "cell_type": "code",
   "execution_count": 8,
   "metadata": {},
   "outputs": [],
   "source": [
    "from numpy.random import seed\n",
    "seed(10)\n",
    "tf.random.set_seed(10)\n",
    "act_func = 'relu'"
   ]
  },
  {
   "cell_type": "code",
   "execution_count": 9,
   "metadata": {},
   "outputs": [
    {
     "name": "stdout",
     "output_type": "stream",
     "text": [
      "Model: \"sequential_1\"\n",
      "_________________________________________________________________\n",
      "Layer (type)                 Output Shape              Param #   \n",
      "=================================================================\n",
      "dense_1 (Dense)              (None, 32)                128       \n",
      "_________________________________________________________________\n",
      "dense_2 (Dense)              (None, 2)                 66        \n",
      "_________________________________________________________________\n",
      "dense_3 (Dense)              (None, 32)                96        \n",
      "_________________________________________________________________\n",
      "dense_4 (Dense)              (None, 3)                 99        \n",
      "=================================================================\n",
      "Total params: 389\n",
      "Trainable params: 389\n",
      "Non-trainable params: 0\n",
      "_________________________________________________________________\n"
     ]
    }
   ],
   "source": [
    "# Input layer:\n",
    "autoencoder=Sequential()\n",
    "# First hidden layer, connected to input vector X. \n",
    "autoencoder.add(Dense(32, activation=act_func,\n",
    "                kernel_initializer='glorot_uniform',\n",
    "                kernel_regularizer=regularizers.l2(0.0),\n",
    "                input_shape=(X_test.shape[1],)\n",
    "               )\n",
    "         )\n",
    "\n",
    "autoencoder.add(Dense(2, activation=act_func, kernel_initializer='glorot_uniform'))\n",
    "\n",
    "autoencoder.add(Dense(32, activation=act_func, kernel_initializer='glorot_uniform'))\n",
    "\n",
    "autoencoder.add(Dense(X_test.shape[1], kernel_initializer='glorot_uniform'))\n",
    "\n",
    "\n",
    "autoencoder.compile(loss='mse',optimizer='adam', metrics=['accuracy'])\n",
    "\n",
    "autoencoder.summary()"
   ]
  },
  {
   "cell_type": "code",
   "execution_count": 10,
   "metadata": {},
   "outputs": [
    {
     "name": "stdout",
     "output_type": "stream",
     "text": [
      "Train on 174463 samples, validate on 19385 samples\n",
      "Epoch 1/100\n",
      "174463/174463 [==============================] - 0s 3us/step - loss: 0.0589 - accuracy: 0.6474 - val_loss: 0.0059 - val_accuracy: 1.0000\n",
      "Epoch 2/100\n",
      "174463/174463 [==============================] - 0s 2us/step - loss: 0.0037 - accuracy: 0.7293 - val_loss: 0.0052 - val_accuracy: 1.0000\n",
      "Epoch 3/100\n",
      "174463/174463 [==============================] - 0s 2us/step - loss: 0.0026 - accuracy: 0.9105 - val_loss: 0.0052 - val_accuracy: 1.0000\n",
      "Epoch 4/100\n",
      "174463/174463 [==============================] - 0s 2us/step - loss: 0.0025 - accuracy: 0.9105 - val_loss: 0.0051 - val_accuracy: 1.0000\n",
      "Epoch 5/100\n",
      "174463/174463 [==============================] - 0s 2us/step - loss: 0.0025 - accuracy: 0.9105 - val_loss: 0.0051 - val_accuracy: 1.0000\n",
      "Epoch 6/100\n",
      "174463/174463 [==============================] - 0s 2us/step - loss: 0.0025 - accuracy: 0.9105 - val_loss: 0.0051 - val_accuracy: 1.0000\n",
      "Epoch 7/100\n",
      "174463/174463 [==============================] - 0s 2us/step - loss: 0.0025 - accuracy: 0.9105 - val_loss: 0.0051 - val_accuracy: 1.0000\n",
      "Epoch 8/100\n",
      "174463/174463 [==============================] - 0s 2us/step - loss: 0.0025 - accuracy: 0.9105 - val_loss: 0.0051 - val_accuracy: 1.0000\n",
      "Epoch 9/100\n",
      "174463/174463 [==============================] - 0s 2us/step - loss: 0.0025 - accuracy: 0.9105 - val_loss: 0.0051 - val_accuracy: 1.0000\n",
      "Epoch 10/100\n",
      "174463/174463 [==============================] - 0s 2us/step - loss: 0.0025 - accuracy: 0.9105 - val_loss: 0.0051 - val_accuracy: 1.0000\n",
      "Epoch 11/100\n",
      "174463/174463 [==============================] - 0s 2us/step - loss: 0.0025 - accuracy: 0.9105 - val_loss: 0.0051 - val_accuracy: 1.0000\n",
      "Epoch 12/100\n",
      "174463/174463 [==============================] - 0s 2us/step - loss: 0.0024 - accuracy: 0.9105 - val_loss: 0.0051 - val_accuracy: 1.0000\n",
      "Epoch 13/100\n",
      "174463/174463 [==============================] - 0s 2us/step - loss: 0.0024 - accuracy: 0.9105 - val_loss: 0.0051 - val_accuracy: 1.0000\n",
      "Epoch 14/100\n",
      "174463/174463 [==============================] - 0s 2us/step - loss: 0.0024 - accuracy: 0.9105 - val_loss: 0.0051 - val_accuracy: 1.0000\n",
      "Epoch 15/100\n",
      "174463/174463 [==============================] - 0s 2us/step - loss: 0.0024 - accuracy: 0.9105 - val_loss: 0.0051 - val_accuracy: 1.0000\n",
      "Epoch 16/100\n",
      "174463/174463 [==============================] - 0s 2us/step - loss: 0.0024 - accuracy: 0.9105 - val_loss: 0.0051 - val_accuracy: 1.0000\n",
      "Epoch 17/100\n",
      "174463/174463 [==============================] - 0s 2us/step - loss: 0.0024 - accuracy: 0.9105 - val_loss: 0.0051 - val_accuracy: 1.0000\n",
      "Epoch 18/100\n",
      "174463/174463 [==============================] - 0s 2us/step - loss: 0.0024 - accuracy: 0.9105 - val_loss: 0.0051 - val_accuracy: 1.0000\n",
      "Epoch 19/100\n",
      "174463/174463 [==============================] - 0s 2us/step - loss: 0.0024 - accuracy: 0.9105 - val_loss: 0.0051 - val_accuracy: 1.0000\n",
      "Epoch 20/100\n",
      "174463/174463 [==============================] - 0s 2us/step - loss: 0.0024 - accuracy: 0.9105 - val_loss: 0.0051 - val_accuracy: 1.0000\n",
      "Epoch 21/100\n",
      "174463/174463 [==============================] - 0s 2us/step - loss: 0.0024 - accuracy: 0.9105 - val_loss: 0.0051 - val_accuracy: 1.0000\n",
      "Epoch 22/100\n",
      "174463/174463 [==============================] - 0s 2us/step - loss: 0.0023 - accuracy: 0.9105 - val_loss: 0.0051 - val_accuracy: 1.0000\n",
      "Epoch 23/100\n",
      "174463/174463 [==============================] - 0s 2us/step - loss: 0.0023 - accuracy: 0.9105 - val_loss: 0.0051 - val_accuracy: 1.0000\n",
      "Epoch 24/100\n",
      "174463/174463 [==============================] - 0s 2us/step - loss: 0.0023 - accuracy: 0.9105 - val_loss: 0.0051 - val_accuracy: 1.0000\n",
      "Epoch 25/100\n",
      "174463/174463 [==============================] - 0s 2us/step - loss: 0.0023 - accuracy: 0.9105 - val_loss: 0.0051 - val_accuracy: 1.0000\n",
      "Epoch 26/100\n",
      "174463/174463 [==============================] - 0s 2us/step - loss: 0.0023 - accuracy: 0.9105 - val_loss: 0.0050 - val_accuracy: 1.0000\n",
      "Epoch 27/100\n",
      "174463/174463 [==============================] - 0s 2us/step - loss: 0.0022 - accuracy: 0.9105 - val_loss: 0.0050 - val_accuracy: 1.0000\n",
      "Epoch 28/100\n",
      "174463/174463 [==============================] - 0s 2us/step - loss: 0.0022 - accuracy: 0.9105 - val_loss: 0.0048 - val_accuracy: 1.0000\n",
      "Epoch 29/100\n",
      "174463/174463 [==============================] - 0s 2us/step - loss: 0.0021 - accuracy: 0.9105 - val_loss: 0.0047 - val_accuracy: 1.0000\n",
      "Epoch 30/100\n",
      "174463/174463 [==============================] - 0s 2us/step - loss: 0.0020 - accuracy: 0.9105 - val_loss: 0.0043 - val_accuracy: 1.0000\n",
      "Epoch 31/100\n",
      "174463/174463 [==============================] - 0s 2us/step - loss: 0.0018 - accuracy: 0.9105 - val_loss: 0.0038 - val_accuracy: 1.0000\n",
      "Epoch 32/100\n",
      "174463/174463 [==============================] - 0s 2us/step - loss: 0.0016 - accuracy: 0.9105 - val_loss: 0.0032 - val_accuracy: 1.0000\n",
      "Epoch 33/100\n",
      "174463/174463 [==============================] - 0s 2us/step - loss: 0.0013 - accuracy: 0.9138 - val_loss: 0.0024 - val_accuracy: 1.0000\n",
      "Epoch 34/100\n",
      "174463/174463 [==============================] - 0s 2us/step - loss: 9.9741e-04 - accuracy: 0.9601 - val_loss: 0.0020 - val_accuracy: 1.0000\n",
      "Epoch 35/100\n",
      "174463/174463 [==============================] - 0s 2us/step - loss: 8.7230e-04 - accuracy: 0.9653 - val_loss: 0.0019 - val_accuracy: 1.0000\n",
      "Epoch 36/100\n",
      "174463/174463 [==============================] - 0s 3us/step - loss: 8.2448e-04 - accuracy: 0.9681 - val_loss: 0.0018 - val_accuracy: 1.0000\n",
      "Epoch 37/100\n",
      "174463/174463 [==============================] - 0s 2us/step - loss: 8.0273e-04 - accuracy: 0.9700 - val_loss: 0.0018 - val_accuracy: 1.0000\n",
      "Epoch 38/100\n",
      "174463/174463 [==============================] - 0s 2us/step - loss: 7.9660e-04 - accuracy: 0.9708 - val_loss: 0.0019 - val_accuracy: 1.0000\n",
      "Epoch 39/100\n",
      "174463/174463 [==============================] - 0s 2us/step - loss: 7.9313e-04 - accuracy: 0.9717 - val_loss: 0.0018 - val_accuracy: 1.0000\n",
      "Epoch 40/100\n",
      "174463/174463 [==============================] - 0s 2us/step - loss: 7.9056e-04 - accuracy: 0.9722 - val_loss: 0.0018 - val_accuracy: 1.0000\n",
      "Epoch 41/100\n",
      "174463/174463 [==============================] - 0s 2us/step - loss: 7.8440e-04 - accuracy: 0.9726 - val_loss: 0.0018 - val_accuracy: 1.0000\n",
      "Epoch 42/100\n",
      "174463/174463 [==============================] - 1s 3us/step - loss: 7.7958e-04 - accuracy: 0.9732 - val_loss: 0.0018 - val_accuracy: 1.0000\n",
      "Epoch 43/100\n",
      "174463/174463 [==============================] - 1s 3us/step - loss: 7.8193e-04 - accuracy: 0.9732 - val_loss: 0.0018 - val_accuracy: 1.0000\n",
      "Epoch 44/100\n",
      "174463/174463 [==============================] - 1s 3us/step - loss: 7.7893e-04 - accuracy: 0.9733 - val_loss: 0.0018 - val_accuracy: 1.0000\n",
      "Epoch 45/100\n",
      "174463/174463 [==============================] - 1s 3us/step - loss: 7.7880e-04 - accuracy: 0.9736 - val_loss: 0.0018 - val_accuracy: 1.0000\n",
      "Epoch 46/100\n",
      "174463/174463 [==============================] - 0s 3us/step - loss: 7.7597e-04 - accuracy: 0.9735 - val_loss: 0.0018 - val_accuracy: 1.0000\n",
      "Epoch 47/100\n",
      "174463/174463 [==============================] - 0s 2us/step - loss: 7.7681e-04 - accuracy: 0.9738 - val_loss: 0.0018 - val_accuracy: 1.0000\n",
      "Epoch 48/100\n",
      "174463/174463 [==============================] - 0s 3us/step - loss: 7.7944e-04 - accuracy: 0.9732 - val_loss: 0.0018 - val_accuracy: 1.0000\n",
      "Epoch 49/100\n",
      "174463/174463 [==============================] - 1s 3us/step - loss: 7.7658e-04 - accuracy: 0.9736 - val_loss: 0.0018 - val_accuracy: 1.0000\n",
      "Epoch 50/100\n",
      "174463/174463 [==============================] - 0s 3us/step - loss: 7.7720e-04 - accuracy: 0.9742 - val_loss: 0.0018 - val_accuracy: 1.0000\n",
      "Epoch 51/100\n",
      "174463/174463 [==============================] - 0s 2us/step - loss: 7.7793e-04 - accuracy: 0.9743 - val_loss: 0.0018 - val_accuracy: 1.0000\n",
      "Epoch 52/100\n",
      "174463/174463 [==============================] - 0s 2us/step - loss: 7.7558e-04 - accuracy: 0.9746 - val_loss: 0.0018 - val_accuracy: 1.0000\n",
      "Epoch 53/100\n",
      "174463/174463 [==============================] - 0s 2us/step - loss: 7.7630e-04 - accuracy: 0.9746 - val_loss: 0.0018 - val_accuracy: 1.0000\n",
      "Epoch 54/100\n",
      "174463/174463 [==============================] - 0s 2us/step - loss: 7.7456e-04 - accuracy: 0.9752 - val_loss: 0.0018 - val_accuracy: 1.0000\n"
     ]
    },
    {
     "name": "stdout",
     "output_type": "stream",
     "text": [
      "Epoch 55/100\n",
      "174463/174463 [==============================] - 0s 2us/step - loss: 7.7430e-04 - accuracy: 0.9754 - val_loss: 0.0018 - val_accuracy: 1.0000\n",
      "Epoch 56/100\n",
      "174463/174463 [==============================] - 0s 2us/step - loss: 7.7551e-04 - accuracy: 0.9752 - val_loss: 0.0018 - val_accuracy: 1.0000\n",
      "Epoch 57/100\n",
      "174463/174463 [==============================] - 0s 2us/step - loss: 7.7307e-04 - accuracy: 0.9756 - val_loss: 0.0018 - val_accuracy: 1.0000\n",
      "Epoch 58/100\n",
      "174463/174463 [==============================] - 0s 2us/step - loss: 7.7556e-04 - accuracy: 0.9751 - val_loss: 0.0018 - val_accuracy: 1.0000\n",
      "Epoch 59/100\n",
      "174463/174463 [==============================] - 0s 2us/step - loss: 7.7615e-04 - accuracy: 0.9747 - val_loss: 0.0018 - val_accuracy: 1.0000\n",
      "Epoch 60/100\n",
      "174463/174463 [==============================] - 0s 2us/step - loss: 7.7703e-04 - accuracy: 0.9749 - val_loss: 0.0018 - val_accuracy: 1.0000\n",
      "Epoch 61/100\n",
      "174463/174463 [==============================] - 0s 2us/step - loss: 7.7703e-04 - accuracy: 0.9747 - val_loss: 0.0018 - val_accuracy: 1.0000\n",
      "Epoch 62/100\n",
      "174463/174463 [==============================] - 0s 2us/step - loss: 7.7654e-04 - accuracy: 0.9748 - val_loss: 0.0018 - val_accuracy: 1.0000\n",
      "Epoch 63/100\n",
      "174463/174463 [==============================] - 0s 2us/step - loss: 7.7508e-04 - accuracy: 0.9752 - val_loss: 0.0018 - val_accuracy: 1.0000\n",
      "Epoch 64/100\n",
      "174463/174463 [==============================] - 0s 2us/step - loss: 7.7742e-04 - accuracy: 0.9751 - val_loss: 0.0018 - val_accuracy: 1.0000\n",
      "Epoch 65/100\n",
      "174463/174463 [==============================] - 0s 2us/step - loss: 7.7367e-04 - accuracy: 0.9754 - val_loss: 0.0018 - val_accuracy: 1.0000\n",
      "Epoch 66/100\n",
      "174463/174463 [==============================] - 0s 2us/step - loss: 7.7317e-04 - accuracy: 0.9758 - val_loss: 0.0018 - val_accuracy: 1.0000\n",
      "Epoch 67/100\n",
      "174463/174463 [==============================] - 0s 2us/step - loss: 7.7405e-04 - accuracy: 0.9759 - val_loss: 0.0018 - val_accuracy: 1.0000\n",
      "Epoch 68/100\n",
      "174463/174463 [==============================] - 0s 2us/step - loss: 7.7722e-04 - accuracy: 0.9752 - val_loss: 0.0018 - val_accuracy: 1.0000\n",
      "Epoch 69/100\n",
      "174463/174463 [==============================] - 0s 2us/step - loss: 7.7542e-04 - accuracy: 0.9755 - val_loss: 0.0018 - val_accuracy: 1.0000\n",
      "Epoch 70/100\n",
      "174463/174463 [==============================] - 0s 2us/step - loss: 7.7418e-04 - accuracy: 0.9754 - val_loss: 0.0018 - val_accuracy: 1.0000\n",
      "Epoch 71/100\n",
      "174463/174463 [==============================] - 0s 2us/step - loss: 7.7611e-04 - accuracy: 0.9756 - val_loss: 0.0018 - val_accuracy: 1.0000\n",
      "Epoch 72/100\n",
      "174463/174463 [==============================] - 0s 2us/step - loss: 7.7327e-04 - accuracy: 0.9758 - val_loss: 0.0018 - val_accuracy: 1.0000\n",
      "Epoch 73/100\n",
      "174463/174463 [==============================] - 0s 2us/step - loss: 7.7558e-04 - accuracy: 0.9756 - val_loss: 0.0018 - val_accuracy: 1.0000\n",
      "Epoch 74/100\n",
      "174463/174463 [==============================] - 0s 2us/step - loss: 7.7329e-04 - accuracy: 0.9762 - val_loss: 0.0018 - val_accuracy: 1.0000\n",
      "Epoch 75/100\n",
      "174463/174463 [==============================] - 0s 2us/step - loss: 7.7730e-04 - accuracy: 0.9753 - val_loss: 0.0018 - val_accuracy: 1.0000\n",
      "Epoch 76/100\n",
      "174463/174463 [==============================] - 0s 2us/step - loss: 7.7551e-04 - accuracy: 0.9757 - val_loss: 0.0018 - val_accuracy: 1.0000\n",
      "Epoch 77/100\n",
      "174463/174463 [==============================] - 0s 2us/step - loss: 7.7514e-04 - accuracy: 0.9759 - val_loss: 0.0018 - val_accuracy: 1.0000\n",
      "Epoch 78/100\n",
      "174463/174463 [==============================] - 0s 2us/step - loss: 7.7545e-04 - accuracy: 0.9761 - val_loss: 0.0018 - val_accuracy: 1.0000\n",
      "Epoch 79/100\n",
      "174463/174463 [==============================] - 0s 2us/step - loss: 7.7439e-04 - accuracy: 0.9758 - val_loss: 0.0018 - val_accuracy: 1.0000\n",
      "Epoch 80/100\n",
      "174463/174463 [==============================] - 0s 2us/step - loss: 7.7579e-04 - accuracy: 0.9754 - val_loss: 0.0018 - val_accuracy: 1.0000\n",
      "Epoch 81/100\n",
      "174463/174463 [==============================] - 0s 2us/step - loss: 7.7332e-04 - accuracy: 0.9759 - val_loss: 0.0018 - val_accuracy: 1.0000\n",
      "Epoch 82/100\n",
      "174463/174463 [==============================] - 0s 2us/step - loss: 7.7228e-04 - accuracy: 0.9760 - val_loss: 0.0018 - val_accuracy: 1.0000\n",
      "Epoch 83/100\n",
      "174463/174463 [==============================] - 0s 2us/step - loss: 7.7609e-04 - accuracy: 0.9758 - val_loss: 0.0018 - val_accuracy: 1.0000\n",
      "Epoch 84/100\n",
      "174463/174463 [==============================] - 0s 2us/step - loss: 7.7389e-04 - accuracy: 0.9761 - val_loss: 0.0018 - val_accuracy: 1.0000\n",
      "Epoch 85/100\n",
      "174463/174463 [==============================] - 0s 2us/step - loss: 7.7707e-04 - accuracy: 0.9755 - val_loss: 0.0018 - val_accuracy: 1.0000\n",
      "Epoch 86/100\n",
      "174463/174463 [==============================] - 0s 2us/step - loss: 7.7520e-04 - accuracy: 0.9757 - val_loss: 0.0018 - val_accuracy: 1.0000\n",
      "Epoch 87/100\n",
      "174463/174463 [==============================] - 0s 2us/step - loss: 7.7574e-04 - accuracy: 0.9756 - val_loss: 0.0018 - val_accuracy: 1.0000\n",
      "Epoch 88/100\n",
      "174463/174463 [==============================] - 0s 2us/step - loss: 7.7520e-04 - accuracy: 0.9758 - val_loss: 0.0018 - val_accuracy: 1.0000\n",
      "Epoch 89/100\n",
      "174463/174463 [==============================] - 0s 2us/step - loss: 7.7313e-04 - accuracy: 0.9760 - val_loss: 0.0018 - val_accuracy: 1.0000\n",
      "Epoch 90/100\n",
      "174463/174463 [==============================] - 0s 2us/step - loss: 7.7248e-04 - accuracy: 0.9766 - val_loss: 0.0018 - val_accuracy: 1.0000\n",
      "Epoch 91/100\n",
      "174463/174463 [==============================] - 0s 2us/step - loss: 7.7518e-04 - accuracy: 0.9763 - val_loss: 0.0018 - val_accuracy: 1.0000\n",
      "Epoch 92/100\n",
      "174463/174463 [==============================] - 0s 2us/step - loss: 7.7418e-04 - accuracy: 0.9760 - val_loss: 0.0018 - val_accuracy: 1.0000\n",
      "Epoch 93/100\n",
      "174463/174463 [==============================] - 0s 2us/step - loss: 7.7420e-04 - accuracy: 0.9758 - val_loss: 0.0018 - val_accuracy: 1.0000\n",
      "Epoch 94/100\n",
      "174463/174463 [==============================] - 0s 2us/step - loss: 7.7420e-04 - accuracy: 0.9761 - val_loss: 0.0018 - val_accuracy: 1.0000\n",
      "Epoch 95/100\n",
      "174463/174463 [==============================] - 0s 2us/step - loss: 7.7350e-04 - accuracy: 0.9763 - val_loss: 0.0018 - val_accuracy: 1.0000\n",
      "Epoch 96/100\n",
      "174463/174463 [==============================] - 0s 2us/step - loss: 7.7685e-04 - accuracy: 0.9755 - val_loss: 0.0018 - val_accuracy: 1.0000\n",
      "Epoch 97/100\n",
      "174463/174463 [==============================] - 0s 2us/step - loss: 7.7449e-04 - accuracy: 0.9761 - val_loss: 0.0018 - val_accuracy: 1.0000\n",
      "Epoch 98/100\n",
      "174463/174463 [==============================] - 0s 2us/step - loss: 7.7458e-04 - accuracy: 0.9759 - val_loss: 0.0018 - val_accuracy: 1.0000\n",
      "Epoch 99/100\n",
      "174463/174463 [==============================] - 0s 2us/step - loss: 7.7467e-04 - accuracy: 0.9762 - val_loss: 0.0018 - val_accuracy: 1.0000\n",
      "Epoch 100/100\n",
      "174463/174463 [==============================] - 0s 2us/step - loss: 7.7420e-04 - accuracy: 0.9766 - val_loss: 0.0018 - val_accuracy: 1.0000\n"
     ]
    }
   ],
   "source": [
    "NUM_EPOCHS=100\n",
    "BATCH_SIZE=1000\n",
    "history=autoencoder.fit(train,train, \n",
    "                  batch_size=BATCH_SIZE, \n",
    "                  epochs=NUM_EPOCHS,\n",
    "                  validation_split=0.1,\n",
    "                  verbose = 1,\n",
    "                  shuffle = True)"
   ]
  },
  {
   "cell_type": "code",
   "execution_count": 11,
   "metadata": {},
   "outputs": [
    {
     "data": {
      "image/png": "[encoded data removed]",
      "text/plain": [
       "<Figure size 432x288 with 1 Axes>"
      ]
     },
     "metadata": {
      "needs_background": "light"
     },
     "output_type": "display_data"
    }
   ],
   "source": [
    "import matplotlib.pyplot as plt\n",
    "\n",
    "plt.plot(history.history['loss'], 'b', label='Training loss')\n",
    "plt.plot(history.history['val_loss'], 'r', label='Validation loss')\n",
    "plt.legend(loc='upper right')\n",
    "plt.xlabel('Epochs')\n",
    "plt.ylabel('Loss, [mse]')\n",
    "plt.ylim([0,.05])\n",
    "plt.show()"
   ]
  },
  {
   "cell_type": "code",
   "execution_count": 12,
   "metadata": {},
   "outputs": [],
   "source": [
    "pred_train = autoencoder.predict(train)"
   ]
  },
  {
   "cell_type": "code",
   "execution_count": 13,
   "metadata": {},
   "outputs": [
    {
     "data": {
      "image/png": "[encoded data removed]",
      "text/plain": [
       "<Figure size 432x288 with 1 Axes>"
      ]
     },
     "metadata": {
      "needs_background": "light"
     },
     "output_type": "display_data"
    }
   ],
   "source": [
    "import seaborn as sns\n",
    "\n",
    "scored_train = np.mean(np.abs(pred_train-train), axis = 1)\n",
    "plt.figure()\n",
    "g = sns.distplot(scored_train, bins = 25, kde= True);\n",
    "#g.set(xlim=(0.05,0.10), ylim=(0, 1))\n",
    "plt.show()"
   ]
  },
  {
   "cell_type": "code",
   "execution_count": 14,
   "metadata": {},
   "outputs": [
    {
     "data": {
      "text/html": [
       "<div>\n",
       "<style scoped>\n",
       "    .dataframe tbody tr th:only-of-type {\n",
       "        vertical-align: middle;\n",
       "    }\n",
       "\n",
       "    .dataframe tbody tr th {\n",
       "        vertical-align: top;\n",
       "    }\n",
       "\n",
       "    .dataframe thead th {\n",
       "        text-align: right;\n",
       "    }\n",
       "</style>\n",
       "<table border=\"1\" class=\"dataframe\">\n",
       "  <thead>\n",
       "    <tr style=\"text-align: right;\">\n",
       "      <th></th>\n",
       "      <th>Loss_mae</th>\n",
       "      <th>Threshold</th>\n",
       "      <th>Anomaly</th>\n",
       "    </tr>\n",
       "  </thead>\n",
       "  <tbody>\n",
       "    <tr>\n",
       "      <th>0</th>\n",
       "      <td>0.002186</td>\n",
       "      <td>0.075</td>\n",
       "      <td>False</td>\n",
       "    </tr>\n",
       "    <tr>\n",
       "      <th>1</th>\n",
       "      <td>0.006109</td>\n",
       "      <td>0.075</td>\n",
       "      <td>False</td>\n",
       "    </tr>\n",
       "    <tr>\n",
       "      <th>2</th>\n",
       "      <td>0.004627</td>\n",
       "      <td>0.075</td>\n",
       "      <td>False</td>\n",
       "    </tr>\n",
       "    <tr>\n",
       "      <th>3</th>\n",
       "      <td>0.002386</td>\n",
       "      <td>0.075</td>\n",
       "      <td>False</td>\n",
       "    </tr>\n",
       "    <tr>\n",
       "      <th>4</th>\n",
       "      <td>0.001340</td>\n",
       "      <td>0.075</td>\n",
       "      <td>False</td>\n",
       "    </tr>\n",
       "    <tr>\n",
       "      <th>...</th>\n",
       "      <td>...</td>\n",
       "      <td>...</td>\n",
       "      <td>...</td>\n",
       "    </tr>\n",
       "    <tr>\n",
       "      <th>193843</th>\n",
       "      <td>0.020169</td>\n",
       "      <td>0.075</td>\n",
       "      <td>False</td>\n",
       "    </tr>\n",
       "    <tr>\n",
       "      <th>193844</th>\n",
       "      <td>0.055096</td>\n",
       "      <td>0.075</td>\n",
       "      <td>False</td>\n",
       "    </tr>\n",
       "    <tr>\n",
       "      <th>193845</th>\n",
       "      <td>0.001263</td>\n",
       "      <td>0.075</td>\n",
       "      <td>False</td>\n",
       "    </tr>\n",
       "    <tr>\n",
       "      <th>193846</th>\n",
       "      <td>0.034867</td>\n",
       "      <td>0.075</td>\n",
       "      <td>False</td>\n",
       "    </tr>\n",
       "    <tr>\n",
       "      <th>193847</th>\n",
       "      <td>0.020203</td>\n",
       "      <td>0.075</td>\n",
       "      <td>False</td>\n",
       "    </tr>\n",
       "  </tbody>\n",
       "</table>\n",
       "<p>193848 rows × 3 columns</p>\n",
       "</div>"
      ],
      "text/plain": [
       "        Loss_mae  Threshold  Anomaly\n",
       "0       0.002186      0.075    False\n",
       "1       0.006109      0.075    False\n",
       "2       0.004627      0.075    False\n",
       "3       0.002386      0.075    False\n",
       "4       0.001340      0.075    False\n",
       "...          ...        ...      ...\n",
       "193843  0.020169      0.075    False\n",
       "193844  0.055096      0.075    False\n",
       "193845  0.001263      0.075    False\n",
       "193846  0.034867      0.075    False\n",
       "193847  0.020203      0.075    False\n",
       "\n",
       "[193848 rows x 3 columns]"
      ]
     },
     "execution_count": 14,
     "metadata": {},
     "output_type": "execute_result"
    }
   ],
   "source": [
    "TH = 0.075\n",
    "\n",
    "scored_train = pd.DataFrame()\n",
    "scored_train['Loss_mae'] = np.mean(np.abs(pred_train-train), axis = 1)\n",
    "scored_train['Threshold'] = TH\n",
    "scored_train['Anomaly'] = scored_train['Loss_mae'] > scored_train['Threshold']\n",
    "\n",
    "scored_train"
   ]
  },
  {
   "cell_type": "code",
   "execution_count": 15,
   "metadata": {},
   "outputs": [
    {
     "data": {
      "text/plain": [
       "0.011271935792503397"
      ]
     },
     "execution_count": 15,
     "metadata": {},
     "output_type": "execute_result"
    }
   ],
   "source": [
    "scored_train['Loss_mae'].mean()"
   ]
  },
  {
   "cell_type": "code",
   "execution_count": 16,
   "metadata": {},
   "outputs": [
    {
     "data": {
      "text/plain": [
       "<matplotlib.axes._subplots.AxesSubplot at 0x20cb727b708>"
      ]
     },
     "execution_count": 16,
     "metadata": {},
     "output_type": "execute_result"
    },
    {
     "data": {
      "image/png": "[encoded data removed]",
      "text/plain": [
       "<Figure size 1152x288 with 1 Axes>"
      ]
     },
     "metadata": {
      "needs_background": "light"
     },
     "output_type": "display_data"
    }
   ],
   "source": [
    "scored_train.plot(logy=True,  figsize = (16,4), xlim =[0,len(scored_train)])"
   ]
  },
  {
   "cell_type": "code",
   "execution_count": 17,
   "metadata": {},
   "outputs": [
    {
     "data": {
      "text/html": [
       "<div>\n",
       "<style scoped>\n",
       "    .dataframe tbody tr th:only-of-type {\n",
       "        vertical-align: middle;\n",
       "    }\n",
       "\n",
       "    .dataframe tbody tr th {\n",
       "        vertical-align: top;\n",
       "    }\n",
       "\n",
       "    .dataframe thead th {\n",
       "        text-align: right;\n",
       "    }\n",
       "</style>\n",
       "<table border=\"1\" class=\"dataframe\">\n",
       "  <thead>\n",
       "    <tr style=\"text-align: right;\">\n",
       "      <th></th>\n",
       "      <th>Loss_mae</th>\n",
       "      <th>Threshold</th>\n",
       "      <th>Anomaly</th>\n",
       "    </tr>\n",
       "  </thead>\n",
       "  <tbody>\n",
       "    <tr>\n",
       "      <th>0</th>\n",
       "      <td>0.002186</td>\n",
       "      <td>0.075</td>\n",
       "      <td>False</td>\n",
       "    </tr>\n",
       "    <tr>\n",
       "      <th>1</th>\n",
       "      <td>0.006109</td>\n",
       "      <td>0.075</td>\n",
       "      <td>False</td>\n",
       "    </tr>\n",
       "    <tr>\n",
       "      <th>2</th>\n",
       "      <td>0.004627</td>\n",
       "      <td>0.075</td>\n",
       "      <td>False</td>\n",
       "    </tr>\n",
       "    <tr>\n",
       "      <th>3</th>\n",
       "      <td>0.002386</td>\n",
       "      <td>0.075</td>\n",
       "      <td>False</td>\n",
       "    </tr>\n",
       "    <tr>\n",
       "      <th>4</th>\n",
       "      <td>0.001340</td>\n",
       "      <td>0.075</td>\n",
       "      <td>False</td>\n",
       "    </tr>\n",
       "    <tr>\n",
       "      <th>...</th>\n",
       "      <td>...</td>\n",
       "      <td>...</td>\n",
       "      <td>...</td>\n",
       "    </tr>\n",
       "    <tr>\n",
       "      <th>193843</th>\n",
       "      <td>0.020169</td>\n",
       "      <td>0.075</td>\n",
       "      <td>False</td>\n",
       "    </tr>\n",
       "    <tr>\n",
       "      <th>193844</th>\n",
       "      <td>0.055096</td>\n",
       "      <td>0.075</td>\n",
       "      <td>False</td>\n",
       "    </tr>\n",
       "    <tr>\n",
       "      <th>193845</th>\n",
       "      <td>0.001263</td>\n",
       "      <td>0.075</td>\n",
       "      <td>False</td>\n",
       "    </tr>\n",
       "    <tr>\n",
       "      <th>193846</th>\n",
       "      <td>0.034867</td>\n",
       "      <td>0.075</td>\n",
       "      <td>False</td>\n",
       "    </tr>\n",
       "    <tr>\n",
       "      <th>193847</th>\n",
       "      <td>0.020203</td>\n",
       "      <td>0.075</td>\n",
       "      <td>False</td>\n",
       "    </tr>\n",
       "  </tbody>\n",
       "</table>\n",
       "<p>193848 rows × 3 columns</p>\n",
       "</div>"
      ],
      "text/plain": [
       "        Loss_mae  Threshold  Anomaly\n",
       "0       0.002186      0.075    False\n",
       "1       0.006109      0.075    False\n",
       "2       0.004627      0.075    False\n",
       "3       0.002386      0.075    False\n",
       "4       0.001340      0.075    False\n",
       "...          ...        ...      ...\n",
       "193843  0.020169      0.075    False\n",
       "193844  0.055096      0.075    False\n",
       "193845  0.001263      0.075    False\n",
       "193846  0.034867      0.075    False\n",
       "193847  0.020203      0.075    False\n",
       "\n",
       "[193848 rows x 3 columns]"
      ]
     },
     "execution_count": 17,
     "metadata": {},
     "output_type": "execute_result"
    }
   ],
   "source": [
    "scored_train"
   ]
  },
  {
   "cell_type": "code",
   "execution_count": 18,
   "metadata": {},
   "outputs": [
    {
     "name": "stdout",
     "output_type": "stream",
     "text": [
      "        Loss_mae  Threshold  Anomaly\n",
      "96928   0.089449      0.075     True\n",
      "96951   0.098875      0.075     True\n",
      "96990   0.139436      0.075     True\n",
      "97108   0.097346      0.075     True\n",
      "97137   0.078786      0.075     True\n",
      "...          ...        ...      ...\n",
      "193763  0.127537      0.075     True\n",
      "193765  0.086379      0.075     True\n",
      "193803  0.081109      0.075     True\n",
      "193821  0.079240      0.075     True\n",
      "193833  0.102382      0.075     True\n",
      "\n",
      "[2784 rows x 3 columns]\n",
      "(2784, 3)\n"
     ]
    }
   ],
   "source": [
    "anomalies = scored_train[scored_train['Anomaly'] == True]\n",
    "print(anomalies)\n",
    "print(anomalies.shape)"
   ]
  },
  {
   "cell_type": "code",
   "execution_count": 19,
   "metadata": {},
   "outputs": [
    {
     "data": {
      "image/png": "[encoded data removed]",
      "text/plain": [
       "<Figure size 1152x288 with 1 Axes>"
      ]
     },
     "metadata": {
      "needs_background": "light"
     },
     "output_type": "display_data"
    }
   ],
   "source": [
    "f, (ax1) = plt.subplots(figsize=(16, 4))\n",
    "ax1.plot(scored_train.index, scored_train.Loss_mae, label='Loss(MAE)');\n",
    "ax1.plot(scored_train.index, scored_train.Threshold, label='Threshold')\n",
    "g = sns.scatterplot(x=anomalies.index , y=anomalies.Loss_mae, label='anomaly', color='red')\n",
    "g.set(xlim = (0, len(scored_train.index)))\n",
    "plt.title('Anomalies')\n",
    "plt.legend();"
   ]
  },
  {
   "cell_type": "code",
   "execution_count": 20,
   "metadata": {},
   "outputs": [],
   "source": [
    "pred_test = autoencoder.predict(test)"
   ]
  },
  {
   "cell_type": "code",
   "execution_count": 21,
   "metadata": {},
   "outputs": [
    {
     "name": "stdout",
     "output_type": "stream",
     "text": [
      "48462/48462 [==============================] - 1s 15us/step\n"
     ]
    },
    {
     "data": {
      "text/plain": [
       "[0.0008907115093952751, 0.978746235370636]"
      ]
     },
     "execution_count": 21,
     "metadata": {},
     "output_type": "execute_result"
    }
   ],
   "source": [
    "score = autoencoder.evaluate(test,test)\n",
    "score"
   ]
  },
  {
   "cell_type": "code",
   "execution_count": 22,
   "metadata": {},
   "outputs": [
    {
     "data": {
      "image/png": "[encoded data removed]",
      "text/plain": [
       "<Figure size 432x288 with 1 Axes>"
      ]
     },
     "metadata": {
      "needs_background": "light"
     },
     "output_type": "display_data"
    }
   ],
   "source": [
    "import seaborn as sns\n",
    "\n",
    "scored_test = np.mean(np.abs(pred_test-test), axis = 1)\n",
    "plt.figure()\n",
    "g = sns.distplot(scored_test, bins = 10, kde= True);\n",
    "#g.set(xlim=(1,1.5), ylim=(0, 0.5))\n",
    "plt.show()"
   ]
  },
  {
   "cell_type": "code",
   "execution_count": 23,
   "metadata": {},
   "outputs": [
    {
     "data": {
      "text/html": [
       "<div>\n",
       "<style scoped>\n",
       "    .dataframe tbody tr th:only-of-type {\n",
       "        vertical-align: middle;\n",
       "    }\n",
       "\n",
       "    .dataframe tbody tr th {\n",
       "        vertical-align: top;\n",
       "    }\n",
       "\n",
       "    .dataframe thead th {\n",
       "        text-align: right;\n",
       "    }\n",
       "</style>\n",
       "<table border=\"1\" class=\"dataframe\">\n",
       "  <thead>\n",
       "    <tr style=\"text-align: right;\">\n",
       "      <th></th>\n",
       "      <th>Loss_mae</th>\n",
       "      <th>Threshold</th>\n",
       "      <th>Anomaly</th>\n",
       "    </tr>\n",
       "  </thead>\n",
       "  <tbody>\n",
       "    <tr>\n",
       "      <th>0</th>\n",
       "      <td>0.001538</td>\n",
       "      <td>0.075</td>\n",
       "      <td>False</td>\n",
       "    </tr>\n",
       "    <tr>\n",
       "      <th>1</th>\n",
       "      <td>0.002541</td>\n",
       "      <td>0.075</td>\n",
       "      <td>False</td>\n",
       "    </tr>\n",
       "    <tr>\n",
       "      <th>2</th>\n",
       "      <td>0.004626</td>\n",
       "      <td>0.075</td>\n",
       "      <td>False</td>\n",
       "    </tr>\n",
       "    <tr>\n",
       "      <th>3</th>\n",
       "      <td>0.007427</td>\n",
       "      <td>0.075</td>\n",
       "      <td>False</td>\n",
       "    </tr>\n",
       "    <tr>\n",
       "      <th>4</th>\n",
       "      <td>0.000707</td>\n",
       "      <td>0.075</td>\n",
       "      <td>False</td>\n",
       "    </tr>\n",
       "    <tr>\n",
       "      <th>...</th>\n",
       "      <td>...</td>\n",
       "      <td>...</td>\n",
       "      <td>...</td>\n",
       "    </tr>\n",
       "    <tr>\n",
       "      <th>48457</th>\n",
       "      <td>0.021257</td>\n",
       "      <td>0.075</td>\n",
       "      <td>False</td>\n",
       "    </tr>\n",
       "    <tr>\n",
       "      <th>48458</th>\n",
       "      <td>0.013680</td>\n",
       "      <td>0.075</td>\n",
       "      <td>False</td>\n",
       "    </tr>\n",
       "    <tr>\n",
       "      <th>48459</th>\n",
       "      <td>0.014685</td>\n",
       "      <td>0.075</td>\n",
       "      <td>False</td>\n",
       "    </tr>\n",
       "    <tr>\n",
       "      <th>48460</th>\n",
       "      <td>0.039210</td>\n",
       "      <td>0.075</td>\n",
       "      <td>False</td>\n",
       "    </tr>\n",
       "    <tr>\n",
       "      <th>48461</th>\n",
       "      <td>0.002270</td>\n",
       "      <td>0.075</td>\n",
       "      <td>False</td>\n",
       "    </tr>\n",
       "  </tbody>\n",
       "</table>\n",
       "<p>48462 rows × 3 columns</p>\n",
       "</div>"
      ],
      "text/plain": [
       "       Loss_mae  Threshold  Anomaly\n",
       "0      0.001538      0.075    False\n",
       "1      0.002541      0.075    False\n",
       "2      0.004626      0.075    False\n",
       "3      0.007427      0.075    False\n",
       "4      0.000707      0.075    False\n",
       "...         ...        ...      ...\n",
       "48457  0.021257      0.075    False\n",
       "48458  0.013680      0.075    False\n",
       "48459  0.014685      0.075    False\n",
       "48460  0.039210      0.075    False\n",
       "48461  0.002270      0.075    False\n",
       "\n",
       "[48462 rows x 3 columns]"
      ]
     },
     "execution_count": 23,
     "metadata": {},
     "output_type": "execute_result"
    }
   ],
   "source": [
    "scored_test = pd.DataFrame()\n",
    "scored_test['Loss_mae'] = np.mean(np.abs(pred_test-test), axis = 1)\n",
    "scored_test['Threshold'] = TH\n",
    "scored_test['Anomaly'] = scored_test['Loss_mae'] > scored_test['Threshold']\n",
    "\n",
    "scored_test"
   ]
  },
  {
   "cell_type": "code",
   "execution_count": 24,
   "metadata": {},
   "outputs": [
    {
     "data": {
      "text/plain": [
       "0.011308336521063111"
      ]
     },
     "execution_count": 24,
     "metadata": {},
     "output_type": "execute_result"
    }
   ],
   "source": [
    "scored_test['Loss_mae'].mean()"
   ]
  },
  {
   "cell_type": "code",
   "execution_count": 25,
   "metadata": {},
   "outputs": [
    {
     "data": {
      "text/plain": [
       "<matplotlib.axes._subplots.AxesSubplot at 0x20cb75b9c48>"
      ]
     },
     "execution_count": 25,
     "metadata": {},
     "output_type": "execute_result"
    },
    {
     "data": {
      "image/png": "[encoded data removed]",
      "text/plain": [
       "<Figure size 1152x288 with 1 Axes>"
      ]
     },
     "metadata": {
      "needs_background": "light"
     },
     "output_type": "display_data"
    }
   ],
   "source": [
    "scored_test.plot(logy=True,  figsize = (16,4), xlim =[0,len(scored_test)])"
   ]
  },
  {
   "cell_type": "code",
   "execution_count": 26,
   "metadata": {},
   "outputs": [
    {
     "name": "stdout",
     "output_type": "stream",
     "text": [
      "       Loss_mae  Threshold  Anomaly\n",
      "24241  0.089215      0.075     True\n",
      "24255  0.087614      0.075     True\n",
      "24271  0.085187      0.075     True\n",
      "24273  0.118404      0.075     True\n",
      "24279  0.083230      0.075     True\n",
      "...         ...        ...      ...\n",
      "48238  0.104620      0.075     True\n",
      "48321  0.098112      0.075     True\n",
      "48343  0.076096      0.075     True\n",
      "48422  0.121432      0.075     True\n",
      "48425  0.094518      0.075     True\n",
      "\n",
      "[698 rows x 3 columns]\n",
      "(698, 3)\n"
     ]
    }
   ],
   "source": [
    "IR_anomalies = scored_test[scored_test['Anomaly'] == True]\n",
    "print(IR_anomalies)\n",
    "print(IR_anomalies.shape)"
   ]
  },
  {
   "cell_type": "code",
   "execution_count": 27,
   "metadata": {},
   "outputs": [
    {
     "data": {
      "image/png": "[encoded data removed]",
      "text/plain": [
       "<Figure size 1152x288 with 1 Axes>"
      ]
     },
     "metadata": {
      "needs_background": "light"
     },
     "output_type": "display_data"
    }
   ],
   "source": [
    "f, (ax2) = plt.subplots(figsize=(16, 4))\n",
    "ax2.plot(scored_test.index, scored_test.Loss_mae, label='Loss(MAE)');\n",
    "ax2.plot(scored_test.index, scored_test.Threshold, label='Threshold')\n",
    "g = sns.scatterplot(x=IR_anomalies.index , y=IR_anomalies.Loss_mae, label='anomaly', color='red')\n",
    "g.set(xlim = (0, len(scored_test.index)))\n",
    "plt.title('Anomalies')\n",
    "plt.legend();"
   ]
  },
  {
   "cell_type": "code",
   "execution_count": 28,
   "metadata": {},
   "outputs": [
    {
     "name": "stdout",
     "output_type": "stream",
     "text": [
      "0.978746235370636\n"
     ]
    }
   ],
   "source": [
    "print(score[1])"
   ]
  },
  {
   "cell_type": "code",
   "execution_count": 29,
   "metadata": {},
   "outputs": [
    {
     "name": "stdout",
     "output_type": "stream",
     "text": [
      "Accuracy: 97.87%\n"
     ]
    }
   ],
   "source": [
    "print(\"Accuracy: {:.2f}%\".format(score[1]*100))"
   ]
  },
  {
   "cell_type": "code",
   "execution_count": 30,
   "metadata": {},
   "outputs": [
    {
     "name": "stdout",
     "output_type": "stream",
     "text": [
      "Anomalies: 698\n"
     ]
    }
   ],
   "source": [
    "print(\"Anomalies: {}\".format(IR_anomalies['Anomaly'].count()))"
   ]
  },
  {
   "cell_type": "code",
   "execution_count": null,
   "metadata": {},
   "outputs": [],
   "source": []
  }
 ],
 "metadata": {
  "kernelspec": {
   "display_name": "Python 3",
   "language": "python",
   "name": "python3"
  },
  "language_info": {
   "codemirror_mode": {
    "name": "ipython",
    "version": 3
   },
   "file_extension": ".py",
   "mimetype": "text/x-python",
   "name": "python",
   "nbconvert_exporter": "python",
   "pygments_lexer": "ipython3",
   "version": "3.7.4"
  }
 },
 "nbformat": 4,
 "nbformat_minor": 4
}
