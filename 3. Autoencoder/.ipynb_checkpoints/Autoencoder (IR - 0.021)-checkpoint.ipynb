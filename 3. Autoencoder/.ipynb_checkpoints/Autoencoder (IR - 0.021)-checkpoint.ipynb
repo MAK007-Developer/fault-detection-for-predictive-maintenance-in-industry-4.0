{
 "cells": [
  {
   "cell_type": "code",
   "execution_count": 1,
   "metadata": {},
   "outputs": [],
   "source": [
    "#importing packages\n",
    "import pandas as pd\n",
    "import numpy as np"
   ]
  },
  {
   "cell_type": "code",
   "execution_count": 2,
   "metadata": {},
   "outputs": [],
   "source": [
    "# Importing the dataset\n",
    "X = pd.read_csv('../Datasets/NB.csv')\n",
    "X['Fault'] = 0\n",
    "\n",
    "y = pd.read_csv('../Datasets/IR - 7.csv')\n",
    "y['Fault'] = 1"
   ]
  },
  {
   "cell_type": "code",
   "execution_count": 3,
   "metadata": {},
   "outputs": [],
   "source": [
    "from sklearn.model_selection import train_test_split\n",
    "X_train, X_test = train_test_split(X, test_size = 0.2, random_state = 0)\n",
    "\n",
    "y_train, y_test = train_test_split(y, test_size = 0.2, random_state = 0)"
   ]
  },
  {
   "cell_type": "code",
   "execution_count": 4,
   "metadata": {},
   "outputs": [
    {
     "data": {
      "text/html": [
       "<div>\n",
       "<style scoped>\n",
       "    .dataframe tbody tr th:only-of-type {\n",
       "        vertical-align: middle;\n",
       "    }\n",
       "\n",
       "    .dataframe tbody tr th {\n",
       "        vertical-align: top;\n",
       "    }\n",
       "\n",
       "    .dataframe thead th {\n",
       "        text-align: right;\n",
       "    }\n",
       "</style>\n",
       "<table border=\"1\" class=\"dataframe\">\n",
       "  <thead>\n",
       "    <tr style=\"text-align: right;\">\n",
       "      <th></th>\n",
       "      <th>DE</th>\n",
       "      <th>FE</th>\n",
       "      <th>Fault</th>\n",
       "    </tr>\n",
       "  </thead>\n",
       "  <tbody>\n",
       "    <tr>\n",
       "      <th>103476</th>\n",
       "      <td>0.062585</td>\n",
       "      <td>0.041091</td>\n",
       "      <td>0</td>\n",
       "    </tr>\n",
       "    <tr>\n",
       "      <th>96984</th>\n",
       "      <td>-0.075102</td>\n",
       "      <td>-0.013765</td>\n",
       "      <td>0</td>\n",
       "    </tr>\n",
       "    <tr>\n",
       "      <th>114732</th>\n",
       "      <td>-0.048190</td>\n",
       "      <td>-0.001233</td>\n",
       "      <td>0</td>\n",
       "    </tr>\n",
       "    <tr>\n",
       "      <th>10916</th>\n",
       "      <td>0.069260</td>\n",
       "      <td>0.028558</td>\n",
       "      <td>0</td>\n",
       "    </tr>\n",
       "    <tr>\n",
       "      <th>37646</th>\n",
       "      <td>0.040054</td>\n",
       "      <td>0.065335</td>\n",
       "      <td>0</td>\n",
       "    </tr>\n",
       "    <tr>\n",
       "      <th>...</th>\n",
       "      <td>...</td>\n",
       "      <td>...</td>\n",
       "      <td>...</td>\n",
       "    </tr>\n",
       "    <tr>\n",
       "      <th>45891</th>\n",
       "      <td>0.110131</td>\n",
       "      <td>-0.312085</td>\n",
       "      <td>1</td>\n",
       "    </tr>\n",
       "    <tr>\n",
       "      <th>117952</th>\n",
       "      <td>-0.909962</td>\n",
       "      <td>-0.030202</td>\n",
       "      <td>1</td>\n",
       "    </tr>\n",
       "    <tr>\n",
       "      <th>42613</th>\n",
       "      <td>0.676380</td>\n",
       "      <td>0.007396</td>\n",
       "      <td>1</td>\n",
       "    </tr>\n",
       "    <tr>\n",
       "      <th>43567</th>\n",
       "      <td>0.011208</td>\n",
       "      <td>0.209975</td>\n",
       "      <td>1</td>\n",
       "    </tr>\n",
       "    <tr>\n",
       "      <th>68268</th>\n",
       "      <td>0.112405</td>\n",
       "      <td>0.265447</td>\n",
       "      <td>1</td>\n",
       "    </tr>\n",
       "  </tbody>\n",
       "</table>\n",
       "<p>193848 rows × 3 columns</p>\n",
       "</div>"
      ],
      "text/plain": [
       "              DE        FE  Fault\n",
       "103476  0.062585  0.041091      0\n",
       "96984  -0.075102 -0.013765      0\n",
       "114732 -0.048190 -0.001233      0\n",
       "10916   0.069260  0.028558      0\n",
       "37646   0.040054  0.065335      0\n",
       "...          ...       ...    ...\n",
       "45891   0.110131 -0.312085      1\n",
       "117952 -0.909962 -0.030202      1\n",
       "42613   0.676380  0.007396      1\n",
       "43567   0.011208  0.209975      1\n",
       "68268   0.112405  0.265447      1\n",
       "\n",
       "[193848 rows x 3 columns]"
      ]
     },
     "execution_count": 4,
     "metadata": {},
     "output_type": "execute_result"
    }
   ],
   "source": [
    "train = X_train.append(y_train)\n",
    "train"
   ]
  },
  {
   "cell_type": "code",
   "execution_count": 5,
   "metadata": {},
   "outputs": [
    {
     "data": {
      "text/html": [
       "<div>\n",
       "<style scoped>\n",
       "    .dataframe tbody tr th:only-of-type {\n",
       "        vertical-align: middle;\n",
       "    }\n",
       "\n",
       "    .dataframe tbody tr th {\n",
       "        vertical-align: top;\n",
       "    }\n",
       "\n",
       "    .dataframe thead th {\n",
       "        text-align: right;\n",
       "    }\n",
       "</style>\n",
       "<table border=\"1\" class=\"dataframe\">\n",
       "  <thead>\n",
       "    <tr style=\"text-align: right;\">\n",
       "      <th></th>\n",
       "      <th>DE</th>\n",
       "      <th>FE</th>\n",
       "      <th>Fault</th>\n",
       "    </tr>\n",
       "  </thead>\n",
       "  <tbody>\n",
       "    <tr>\n",
       "      <th>121079</th>\n",
       "      <td>0.046313</td>\n",
       "      <td>0.054651</td>\n",
       "      <td>0</td>\n",
       "    </tr>\n",
       "    <tr>\n",
       "      <th>107924</th>\n",
       "      <td>-0.015855</td>\n",
       "      <td>0.061636</td>\n",
       "      <td>0</td>\n",
       "    </tr>\n",
       "    <tr>\n",
       "      <th>22678</th>\n",
       "      <td>-0.065297</td>\n",
       "      <td>0.122862</td>\n",
       "      <td>0</td>\n",
       "    </tr>\n",
       "    <tr>\n",
       "      <th>55190</th>\n",
       "      <td>-0.112652</td>\n",
       "      <td>0.066978</td>\n",
       "      <td>0</td>\n",
       "    </tr>\n",
       "    <tr>\n",
       "      <th>92048</th>\n",
       "      <td>0.023991</td>\n",
       "      <td>0.034105</td>\n",
       "      <td>0</td>\n",
       "    </tr>\n",
       "    <tr>\n",
       "      <th>...</th>\n",
       "      <td>...</td>\n",
       "      <td>...</td>\n",
       "      <td>...</td>\n",
       "    </tr>\n",
       "    <tr>\n",
       "      <th>103358</th>\n",
       "      <td>0.019330</td>\n",
       "      <td>0.088962</td>\n",
       "      <td>1</td>\n",
       "    </tr>\n",
       "    <tr>\n",
       "      <th>54412</th>\n",
       "      <td>-0.072284</td>\n",
       "      <td>0.288664</td>\n",
       "      <td>1</td>\n",
       "    </tr>\n",
       "    <tr>\n",
       "      <th>50632</th>\n",
       "      <td>0.259571</td>\n",
       "      <td>-0.293184</td>\n",
       "      <td>1</td>\n",
       "    </tr>\n",
       "    <tr>\n",
       "      <th>89251</th>\n",
       "      <td>0.010883</td>\n",
       "      <td>-0.042324</td>\n",
       "      <td>1</td>\n",
       "    </tr>\n",
       "    <tr>\n",
       "      <th>65637</th>\n",
       "      <td>0.018030</td>\n",
       "      <td>-0.144845</td>\n",
       "      <td>1</td>\n",
       "    </tr>\n",
       "  </tbody>\n",
       "</table>\n",
       "<p>48462 rows × 3 columns</p>\n",
       "</div>"
      ],
      "text/plain": [
       "              DE        FE  Fault\n",
       "121079  0.046313  0.054651      0\n",
       "107924 -0.015855  0.061636      0\n",
       "22678  -0.065297  0.122862      0\n",
       "55190  -0.112652  0.066978      0\n",
       "92048   0.023991  0.034105      0\n",
       "...          ...       ...    ...\n",
       "103358  0.019330  0.088962      1\n",
       "54412  -0.072284  0.288664      1\n",
       "50632   0.259571 -0.293184      1\n",
       "89251   0.010883 -0.042324      1\n",
       "65637   0.018030 -0.144845      1\n",
       "\n",
       "[48462 rows x 3 columns]"
      ]
     },
     "execution_count": 5,
     "metadata": {},
     "output_type": "execute_result"
    }
   ],
   "source": [
    "test = X_test.append(y_test)\n",
    "test"
   ]
  },
  {
   "cell_type": "code",
   "execution_count": 6,
   "metadata": {},
   "outputs": [],
   "source": [
    "from sklearn.preprocessing import MinMaxScaler\n",
    "scaler = MinMaxScaler()\n",
    "train = pd.DataFrame(scaler.fit_transform(train))\n",
    "# Random shuffle training data\n",
    "train.sample(frac=1)\n",
    "\n",
    "test = pd.DataFrame(scaler.transform(test))"
   ]
  },
  {
   "cell_type": "code",
   "execution_count": 7,
   "metadata": {},
   "outputs": [
    {
     "name": "stderr",
     "output_type": "stream",
     "text": [
      "Using TensorFlow backend.\n"
     ]
    }
   ],
   "source": [
    "from keras.layers import Input, Dropout\n",
    "from keras.layers.core import Dense \n",
    "from keras.models import Model, Sequential, load_model\n",
    "from keras import regularizers\n",
    "import tensorflow as tf"
   ]
  },
  {
   "cell_type": "code",
   "execution_count": 8,
   "metadata": {},
   "outputs": [],
   "source": [
    "from numpy.random import seed\n",
    "seed(10)\n",
    "tf.random.set_seed(10)\n",
    "act_func = 'relu'"
   ]
  },
  {
   "cell_type": "code",
   "execution_count": 9,
   "metadata": {},
   "outputs": [
    {
     "name": "stdout",
     "output_type": "stream",
     "text": [
      "Model: \"sequential_1\"\n",
      "_________________________________________________________________\n",
      "Layer (type)                 Output Shape              Param #   \n",
      "=================================================================\n",
      "dense_1 (Dense)              (None, 32)                128       \n",
      "_________________________________________________________________\n",
      "dense_2 (Dense)              (None, 2)                 66        \n",
      "_________________________________________________________________\n",
      "dense_3 (Dense)              (None, 32)                96        \n",
      "_________________________________________________________________\n",
      "dense_4 (Dense)              (None, 3)                 99        \n",
      "=================================================================\n",
      "Total params: 389\n",
      "Trainable params: 389\n",
      "Non-trainable params: 0\n",
      "_________________________________________________________________\n"
     ]
    }
   ],
   "source": [
    "# Input layer:\n",
    "autoencoder=Sequential()\n",
    "# First hidden layer, connected to input vector X. \n",
    "autoencoder.add(Dense(32, activation=act_func,\n",
    "                kernel_initializer='glorot_uniform',\n",
    "                kernel_regularizer=regularizers.l2(0.0),\n",
    "                input_shape=(X_test.shape[1],)\n",
    "               )\n",
    "         )\n",
    "\n",
    "autoencoder.add(Dense(2, activation=act_func, kernel_initializer='glorot_uniform'))\n",
    "\n",
    "autoencoder.add(Dense(32, activation=act_func, kernel_initializer='glorot_uniform'))\n",
    "\n",
    "autoencoder.add(Dense(X_test.shape[1], kernel_initializer='glorot_uniform'))\n",
    "\n",
    "\n",
    "autoencoder.compile(loss='mse',optimizer='adam', metrics=['accuracy'])\n",
    "\n",
    "autoencoder.summary()"
   ]
  },
  {
   "cell_type": "code",
   "execution_count": 10,
   "metadata": {},
   "outputs": [
    {
     "name": "stdout",
     "output_type": "stream",
     "text": [
      "Train on 174463 samples, validate on 19385 samples\n",
      "Epoch 1/100\n",
      "174463/174463 [==============================] - 1s 3us/step - loss: 0.0613 - accuracy: 0.6585 - val_loss: 0.0094 - val_accuracy: 1.0000\n",
      "Epoch 2/100\n",
      "174463/174463 [==============================] - 0s 2us/step - loss: 0.0053 - accuracy: 0.6652 - val_loss: 0.0087 - val_accuracy: 1.0000\n",
      "Epoch 3/100\n",
      "174463/174463 [==============================] - 0s 2us/step - loss: 0.0041 - accuracy: 0.8257 - val_loss: 0.0086 - val_accuracy: 1.0000\n",
      "Epoch 4/100\n",
      "174463/174463 [==============================] - 0s 2us/step - loss: 0.0041 - accuracy: 0.8257 - val_loss: 0.0086 - val_accuracy: 1.0000\n",
      "Epoch 5/100\n",
      "174463/174463 [==============================] - 0s 2us/step - loss: 0.0041 - accuracy: 0.8257 - val_loss: 0.0086 - val_accuracy: 1.0000\n",
      "Epoch 6/100\n",
      "174463/174463 [==============================] - 0s 2us/step - loss: 0.0041 - accuracy: 0.8257 - val_loss: 0.0086 - val_accuracy: 1.0000\n",
      "Epoch 7/100\n",
      "174463/174463 [==============================] - 0s 2us/step - loss: 0.0041 - accuracy: 0.8257 - val_loss: 0.0086 - val_accuracy: 1.0000\n",
      "Epoch 8/100\n",
      "174463/174463 [==============================] - 0s 2us/step - loss: 0.0041 - accuracy: 0.8257 - val_loss: 0.0086 - val_accuracy: 1.0000\n",
      "Epoch 9/100\n",
      "174463/174463 [==============================] - 0s 2us/step - loss: 0.0041 - accuracy: 0.8257 - val_loss: 0.0086 - val_accuracy: 1.0000\n",
      "Epoch 10/100\n",
      "174463/174463 [==============================] - 0s 2us/step - loss: 0.0041 - accuracy: 0.8257 - val_loss: 0.0086 - val_accuracy: 1.0000\n",
      "Epoch 11/100\n",
      "174463/174463 [==============================] - 0s 2us/step - loss: 0.0041 - accuracy: 0.8257 - val_loss: 0.0086 - val_accuracy: 1.0000\n",
      "Epoch 12/100\n",
      "174463/174463 [==============================] - 0s 2us/step - loss: 0.0040 - accuracy: 0.8257 - val_loss: 0.0086 - val_accuracy: 1.0000\n",
      "Epoch 13/100\n",
      "174463/174463 [==============================] - 0s 2us/step - loss: 0.0040 - accuracy: 0.8257 - val_loss: 0.0086 - val_accuracy: 1.0000\n",
      "Epoch 14/100\n",
      "174463/174463 [==============================] - 0s 2us/step - loss: 0.0040 - accuracy: 0.8257 - val_loss: 0.0086 - val_accuracy: 1.0000\n",
      "Epoch 15/100\n",
      "174463/174463 [==============================] - 0s 2us/step - loss: 0.0040 - accuracy: 0.8257 - val_loss: 0.0086 - val_accuracy: 1.0000\n",
      "Epoch 16/100\n",
      "174463/174463 [==============================] - 0s 2us/step - loss: 0.0040 - accuracy: 0.8257 - val_loss: 0.0086 - val_accuracy: 1.0000\n",
      "Epoch 17/100\n",
      "174463/174463 [==============================] - 0s 2us/step - loss: 0.0040 - accuracy: 0.8257 - val_loss: 0.0086 - val_accuracy: 1.0000\n",
      "Epoch 18/100\n",
      "174463/174463 [==============================] - 0s 2us/step - loss: 0.0040 - accuracy: 0.8257 - val_loss: 0.0086 - val_accuracy: 1.0000\n",
      "Epoch 19/100\n",
      "174463/174463 [==============================] - 0s 2us/step - loss: 0.0040 - accuracy: 0.8257 - val_loss: 0.0085 - val_accuracy: 1.0000\n",
      "Epoch 20/100\n",
      "174463/174463 [==============================] - 0s 2us/step - loss: 0.0040 - accuracy: 0.8257 - val_loss: 0.0085 - val_accuracy: 1.0000\n",
      "Epoch 21/100\n",
      "174463/174463 [==============================] - 0s 2us/step - loss: 0.0040 - accuracy: 0.8257 - val_loss: 0.0085 - val_accuracy: 1.0000\n",
      "Epoch 22/100\n",
      "174463/174463 [==============================] - 0s 2us/step - loss: 0.0039 - accuracy: 0.8257 - val_loss: 0.0083 - val_accuracy: 1.0000\n",
      "Epoch 23/100\n",
      "174463/174463 [==============================] - 0s 2us/step - loss: 0.0038 - accuracy: 0.8257 - val_loss: 0.0081 - val_accuracy: 1.0000\n",
      "Epoch 24/100\n",
      "174463/174463 [==============================] - 0s 2us/step - loss: 0.0037 - accuracy: 0.8257 - val_loss: 0.0075 - val_accuracy: 1.0000\n",
      "Epoch 25/100\n",
      "174463/174463 [==============================] - 0s 2us/step - loss: 0.0034 - accuracy: 0.8257 - val_loss: 0.0069 - val_accuracy: 1.0000\n",
      "Epoch 26/100\n",
      "174463/174463 [==============================] - 0s 2us/step - loss: 0.0031 - accuracy: 0.8257 - val_loss: 0.0059 - val_accuracy: 1.0000\n",
      "Epoch 27/100\n",
      "174463/174463 [==============================] - 0s 2us/step - loss: 0.0026 - accuracy: 0.8257 - val_loss: 0.0049 - val_accuracy: 1.0000\n",
      "Epoch 28/100\n",
      "174463/174463 [==============================] - 0s 2us/step - loss: 0.0022 - accuracy: 0.8257 - val_loss: 0.0041 - val_accuracy: 1.0000\n",
      "Epoch 29/100\n",
      "174463/174463 [==============================] - 0s 2us/step - loss: 0.0019 - accuracy: 0.8257 - val_loss: 0.0037 - val_accuracy: 1.0000\n",
      "Epoch 30/100\n",
      "174463/174463 [==============================] - 0s 2us/step - loss: 0.0018 - accuracy: 0.8257 - val_loss: 0.0034 - val_accuracy: 1.0000\n",
      "Epoch 31/100\n",
      "174463/174463 [==============================] - 0s 2us/step - loss: 0.0017 - accuracy: 0.8257 - val_loss: 0.0034 - val_accuracy: 1.0000\n",
      "Epoch 32/100\n",
      "174463/174463 [==============================] - 0s 2us/step - loss: 0.0017 - accuracy: 0.8257 - val_loss: 0.0033 - val_accuracy: 1.0000\n",
      "Epoch 33/100\n",
      "174463/174463 [==============================] - 0s 2us/step - loss: 0.0016 - accuracy: 0.8257 - val_loss: 0.0032 - val_accuracy: 1.0000\n",
      "Epoch 34/100\n",
      "174463/174463 [==============================] - 0s 2us/step - loss: 0.0016 - accuracy: 0.8257 - val_loss: 0.0032 - val_accuracy: 1.0000\n",
      "Epoch 35/100\n",
      "174463/174463 [==============================] - 0s 2us/step - loss: 0.0016 - accuracy: 0.8257 - val_loss: 0.0032 - val_accuracy: 0.9998\n",
      "Epoch 36/100\n",
      "174463/174463 [==============================] - 0s 2us/step - loss: 0.0016 - accuracy: 0.8257 - val_loss: 0.0032 - val_accuracy: 0.9998\n",
      "Epoch 37/100\n",
      "174463/174463 [==============================] - 0s 2us/step - loss: 0.0016 - accuracy: 0.8256 - val_loss: 0.0033 - val_accuracy: 0.9998\n",
      "Epoch 38/100\n",
      "174463/174463 [==============================] - 0s 2us/step - loss: 0.0016 - accuracy: 0.8257 - val_loss: 0.0032 - val_accuracy: 0.9999\n",
      "Epoch 39/100\n",
      "174463/174463 [==============================] - 0s 2us/step - loss: 0.0016 - accuracy: 0.8257 - val_loss: 0.0032 - val_accuracy: 0.9999\n",
      "Epoch 40/100\n",
      "174463/174463 [==============================] - 0s 2us/step - loss: 0.0016 - accuracy: 0.8257 - val_loss: 0.0032 - val_accuracy: 0.9999\n",
      "Epoch 41/100\n",
      "174463/174463 [==============================] - 0s 2us/step - loss: 0.0016 - accuracy: 0.8260 - val_loss: 0.0032 - val_accuracy: 0.9999\n",
      "Epoch 42/100\n",
      "174463/174463 [==============================] - 0s 2us/step - loss: 0.0016 - accuracy: 0.8267 - val_loss: 0.0032 - val_accuracy: 0.9999\n",
      "Epoch 43/100\n",
      "174463/174463 [==============================] - 0s 2us/step - loss: 0.0016 - accuracy: 0.8274 - val_loss: 0.0032 - val_accuracy: 0.9999\n",
      "Epoch 44/100\n",
      "174463/174463 [==============================] - 0s 2us/step - loss: 0.0016 - accuracy: 0.8286 - val_loss: 0.0033 - val_accuracy: 0.9999\n",
      "Epoch 45/100\n",
      "174463/174463 [==============================] - 0s 2us/step - loss: 0.0016 - accuracy: 0.8294 - val_loss: 0.0032 - val_accuracy: 0.9999\n",
      "Epoch 46/100\n",
      "174463/174463 [==============================] - 0s 2us/step - loss: 0.0016 - accuracy: 0.8308 - val_loss: 0.0032 - val_accuracy: 0.9999\n",
      "Epoch 47/100\n",
      "174463/174463 [==============================] - 0s 2us/step - loss: 0.0016 - accuracy: 0.8322 - val_loss: 0.0032 - val_accuracy: 0.9999\n",
      "Epoch 48/100\n",
      "174463/174463 [==============================] - 0s 2us/step - loss: 0.0016 - accuracy: 0.8340 - val_loss: 0.0032 - val_accuracy: 0.9999\n",
      "Epoch 49/100\n",
      "174463/174463 [==============================] - 0s 2us/step - loss: 0.0016 - accuracy: 0.8359 - val_loss: 0.0032 - val_accuracy: 0.9999\n",
      "Epoch 50/100\n",
      "174463/174463 [==============================] - 0s 2us/step - loss: 0.0016 - accuracy: 0.8373 - val_loss: 0.0032 - val_accuracy: 0.9998\n",
      "Epoch 51/100\n",
      "174463/174463 [==============================] - 0s 2us/step - loss: 0.0016 - accuracy: 0.8398 - val_loss: 0.0032 - val_accuracy: 0.9998\n",
      "Epoch 52/100\n",
      "174463/174463 [==============================] - 0s 2us/step - loss: 0.0016 - accuracy: 0.8416 - val_loss: 0.0032 - val_accuracy: 0.9997\n",
      "Epoch 53/100\n",
      "174463/174463 [==============================] - 0s 2us/step - loss: 0.0016 - accuracy: 0.8435 - val_loss: 0.0032 - val_accuracy: 0.9997\n",
      "Epoch 54/100\n",
      "174463/174463 [==============================] - 0s 2us/step - loss: 0.0016 - accuracy: 0.8456 - val_loss: 0.0032 - val_accuracy: 0.9997\n",
      "Epoch 55/100\n"
     ]
    },
    {
     "name": "stdout",
     "output_type": "stream",
     "text": [
      "174463/174463 [==============================] - 0s 2us/step - loss: 0.0016 - accuracy: 0.8479 - val_loss: 0.0032 - val_accuracy: 0.9998\n",
      "Epoch 56/100\n",
      "174463/174463 [==============================] - 0s 2us/step - loss: 0.0016 - accuracy: 0.8493 - val_loss: 0.0032 - val_accuracy: 0.9997\n",
      "Epoch 57/100\n",
      "174463/174463 [==============================] - 0s 2us/step - loss: 0.0016 - accuracy: 0.8514 - val_loss: 0.0032 - val_accuracy: 0.9997\n",
      "Epoch 58/100\n",
      "174463/174463 [==============================] - 0s 2us/step - loss: 0.0015 - accuracy: 0.8535 - val_loss: 0.0032 - val_accuracy: 0.9997\n",
      "Epoch 59/100\n",
      "174463/174463 [==============================] - 0s 2us/step - loss: 0.0015 - accuracy: 0.8554 - val_loss: 0.0032 - val_accuracy: 0.9997\n",
      "Epoch 60/100\n",
      "174463/174463 [==============================] - 0s 2us/step - loss: 0.0015 - accuracy: 0.8569 - val_loss: 0.0032 - val_accuracy: 0.9999\n",
      "Epoch 61/100\n",
      "174463/174463 [==============================] - 0s 2us/step - loss: 0.0015 - accuracy: 0.8587 - val_loss: 0.0032 - val_accuracy: 0.9997\n",
      "Epoch 62/100\n",
      "174463/174463 [==============================] - 0s 2us/step - loss: 0.0015 - accuracy: 0.8605 - val_loss: 0.0032 - val_accuracy: 0.9999\n",
      "Epoch 63/100\n",
      "174463/174463 [==============================] - 0s 2us/step - loss: 0.0015 - accuracy: 0.8624 - val_loss: 0.0032 - val_accuracy: 0.9997\n",
      "Epoch 64/100\n",
      "174463/174463 [==============================] - 0s 2us/step - loss: 0.0015 - accuracy: 0.8636 - val_loss: 0.0032 - val_accuracy: 0.9997\n",
      "Epoch 65/100\n",
      "174463/174463 [==============================] - 0s 2us/step - loss: 0.0015 - accuracy: 0.8652 - val_loss: 0.0032 - val_accuracy: 0.9997\n",
      "Epoch 66/100\n",
      "174463/174463 [==============================] - 0s 2us/step - loss: 0.0015 - accuracy: 0.8668 - val_loss: 0.0032 - val_accuracy: 0.9997\n",
      "Epoch 67/100\n",
      "174463/174463 [==============================] - 0s 2us/step - loss: 0.0015 - accuracy: 0.8687 - val_loss: 0.0032 - val_accuracy: 0.9999\n",
      "Epoch 68/100\n",
      "174463/174463 [==============================] - 0s 2us/step - loss: 0.0015 - accuracy: 0.8700 - val_loss: 0.0032 - val_accuracy: 0.9998\n",
      "Epoch 69/100\n",
      "174463/174463 [==============================] - 0s 2us/step - loss: 0.0015 - accuracy: 0.8712 - val_loss: 0.0032 - val_accuracy: 0.9999\n",
      "Epoch 70/100\n",
      "174463/174463 [==============================] - 0s 2us/step - loss: 0.0015 - accuracy: 0.8729 - val_loss: 0.0032 - val_accuracy: 0.9999\n",
      "Epoch 71/100\n",
      "174463/174463 [==============================] - 0s 2us/step - loss: 0.0015 - accuracy: 0.8738 - val_loss: 0.0032 - val_accuracy: 1.0000\n",
      "Epoch 72/100\n",
      "174463/174463 [==============================] - 0s 2us/step - loss: 0.0015 - accuracy: 0.8754 - val_loss: 0.0032 - val_accuracy: 0.9999\n",
      "Epoch 73/100\n",
      "174463/174463 [==============================] - 0s 2us/step - loss: 0.0015 - accuracy: 0.8763 - val_loss: 0.0032 - val_accuracy: 0.9999\n",
      "Epoch 74/100\n",
      "174463/174463 [==============================] - 0s 2us/step - loss: 0.0015 - accuracy: 0.8776 - val_loss: 0.0032 - val_accuracy: 1.0000\n",
      "Epoch 75/100\n",
      "174463/174463 [==============================] - 0s 2us/step - loss: 0.0015 - accuracy: 0.8787 - val_loss: 0.0032 - val_accuracy: 1.0000\n",
      "Epoch 76/100\n",
      "174463/174463 [==============================] - 0s 2us/step - loss: 0.0015 - accuracy: 0.8794 - val_loss: 0.0032 - val_accuracy: 1.0000\n",
      "Epoch 77/100\n",
      "174463/174463 [==============================] - 0s 2us/step - loss: 0.0015 - accuracy: 0.8810 - val_loss: 0.0031 - val_accuracy: 1.0000\n",
      "Epoch 78/100\n",
      "174463/174463 [==============================] - 0s 2us/step - loss: 0.0015 - accuracy: 0.8822 - val_loss: 0.0032 - val_accuracy: 1.0000\n",
      "Epoch 79/100\n",
      "174463/174463 [==============================] - 0s 2us/step - loss: 0.0015 - accuracy: 0.8826 - val_loss: 0.0031 - val_accuracy: 1.0000\n",
      "Epoch 80/100\n",
      "174463/174463 [==============================] - 0s 2us/step - loss: 0.0015 - accuracy: 0.8838 - val_loss: 0.0031 - val_accuracy: 1.0000\n",
      "Epoch 81/100\n",
      "174463/174463 [==============================] - 0s 2us/step - loss: 0.0015 - accuracy: 0.8847 - val_loss: 0.0031 - val_accuracy: 1.0000\n",
      "Epoch 82/100\n",
      "174463/174463 [==============================] - 0s 2us/step - loss: 0.0015 - accuracy: 0.8855 - val_loss: 0.0031 - val_accuracy: 1.0000\n",
      "Epoch 83/100\n",
      "174463/174463 [==============================] - 0s 2us/step - loss: 0.0015 - accuracy: 0.8868 - val_loss: 0.0031 - val_accuracy: 1.0000\n",
      "Epoch 84/100\n",
      "174463/174463 [==============================] - 0s 2us/step - loss: 0.0015 - accuracy: 0.8871 - val_loss: 0.0031 - val_accuracy: 1.0000\n",
      "Epoch 85/100\n",
      "174463/174463 [==============================] - 0s 2us/step - loss: 0.0015 - accuracy: 0.8884 - val_loss: 0.0031 - val_accuracy: 1.0000\n",
      "Epoch 86/100\n",
      "174463/174463 [==============================] - 0s 2us/step - loss: 0.0015 - accuracy: 0.8891 - val_loss: 0.0031 - val_accuracy: 1.0000\n",
      "Epoch 87/100\n",
      "174463/174463 [==============================] - 0s 2us/step - loss: 0.0015 - accuracy: 0.8899 - val_loss: 0.0031 - val_accuracy: 1.0000\n",
      "Epoch 88/100\n",
      "174463/174463 [==============================] - 0s 2us/step - loss: 0.0015 - accuracy: 0.8911 - val_loss: 0.0031 - val_accuracy: 1.0000\n",
      "Epoch 89/100\n",
      "174463/174463 [==============================] - 0s 2us/step - loss: 0.0015 - accuracy: 0.8916 - val_loss: 0.0031 - val_accuracy: 1.0000\n",
      "Epoch 90/100\n",
      "174463/174463 [==============================] - 0s 2us/step - loss: 0.0015 - accuracy: 0.8922 - val_loss: 0.0031 - val_accuracy: 1.0000\n",
      "Epoch 91/100\n",
      "174463/174463 [==============================] - 0s 2us/step - loss: 0.0015 - accuracy: 0.8930 - val_loss: 0.0031 - val_accuracy: 1.0000\n",
      "Epoch 92/100\n",
      "174463/174463 [==============================] - 0s 2us/step - loss: 0.0015 - accuracy: 0.8939 - val_loss: 0.0031 - val_accuracy: 1.0000\n",
      "Epoch 93/100\n",
      "174463/174463 [==============================] - 0s 2us/step - loss: 0.0015 - accuracy: 0.8945 - val_loss: 0.0031 - val_accuracy: 1.0000\n",
      "Epoch 94/100\n",
      "174463/174463 [==============================] - 0s 2us/step - loss: 0.0015 - accuracy: 0.8951 - val_loss: 0.0031 - val_accuracy: 1.0000\n",
      "Epoch 95/100\n",
      "174463/174463 [==============================] - 0s 2us/step - loss: 0.0015 - accuracy: 0.8959 - val_loss: 0.0031 - val_accuracy: 1.0000\n",
      "Epoch 96/100\n",
      "174463/174463 [==============================] - 0s 2us/step - loss: 0.0015 - accuracy: 0.8966 - val_loss: 0.0031 - val_accuracy: 1.0000\n",
      "Epoch 97/100\n",
      "174463/174463 [==============================] - 0s 2us/step - loss: 0.0015 - accuracy: 0.8971 - val_loss: 0.0031 - val_accuracy: 1.0000\n",
      "Epoch 98/100\n",
      "174463/174463 [==============================] - 0s 2us/step - loss: 0.0015 - accuracy: 0.8977 - val_loss: 0.0031 - val_accuracy: 1.0000\n",
      "Epoch 99/100\n",
      "174463/174463 [==============================] - 0s 2us/step - loss: 0.0015 - accuracy: 0.8980 - val_loss: 0.0031 - val_accuracy: 1.0000\n",
      "Epoch 100/100\n",
      "174463/174463 [==============================] - 0s 2us/step - loss: 0.0015 - accuracy: 0.8989 - val_loss: 0.0031 - val_accuracy: 1.0000\n"
     ]
    }
   ],
   "source": [
    "NUM_EPOCHS=100\n",
    "BATCH_SIZE=1000\n",
    "history=autoencoder.fit(train,train, \n",
    "                  batch_size=BATCH_SIZE, \n",
    "                  epochs=NUM_EPOCHS,\n",
    "                  validation_split=0.1,\n",
    "                  verbose = 1,\n",
    "                  shuffle = True)"
   ]
  },
  {
   "cell_type": "code",
   "execution_count": 11,
   "metadata": {},
   "outputs": [
    {
     "data": {
      "image/png": "[encoded data removed]",
      "text/plain": [
       "<Figure size 432x288 with 1 Axes>"
      ]
     },
     "metadata": {
      "needs_background": "light"
     },
     "output_type": "display_data"
    }
   ],
   "source": [
    "import matplotlib.pyplot as plt\n",
    "\n",
    "plt.plot(history.history['loss'], 'b', label='Training loss')\n",
    "plt.plot(history.history['val_loss'], 'r', label='Validation loss')\n",
    "plt.legend(loc='upper right')\n",
    "plt.xlabel('Epochs')\n",
    "plt.ylabel('Loss, [mse]')\n",
    "plt.ylim([0,.05])\n",
    "plt.show()"
   ]
  },
  {
   "cell_type": "code",
   "execution_count": 12,
   "metadata": {},
   "outputs": [],
   "source": [
    "pred_train = autoencoder.predict(train)"
   ]
  },
  {
   "cell_type": "code",
   "execution_count": 13,
   "metadata": {},
   "outputs": [
    {
     "data": {
      "image/png": "[encoded data removed]",
      "text/plain": [
       "<Figure size 432x288 with 1 Axes>"
      ]
     },
     "metadata": {
      "needs_background": "light"
     },
     "output_type": "display_data"
    }
   ],
   "source": [
    "import seaborn as sns\n",
    "\n",
    "scored_train = np.mean(np.abs(pred_train-train), axis = 1)\n",
    "plt.figure()\n",
    "g = sns.distplot(scored_train, bins = 25, kde= True);\n",
    "#g.set(xlim=(0.05,0.10), ylim=(0, 1))\n",
    "plt.show()"
   ]
  },
  {
   "cell_type": "code",
   "execution_count": 14,
   "metadata": {},
   "outputs": [
    {
     "data": {
      "text/html": [
       "<div>\n",
       "<style scoped>\n",
       "    .dataframe tbody tr th:only-of-type {\n",
       "        vertical-align: middle;\n",
       "    }\n",
       "\n",
       "    .dataframe tbody tr th {\n",
       "        vertical-align: top;\n",
       "    }\n",
       "\n",
       "    .dataframe thead th {\n",
       "        text-align: right;\n",
       "    }\n",
       "</style>\n",
       "<table border=\"1\" class=\"dataframe\">\n",
       "  <thead>\n",
       "    <tr style=\"text-align: right;\">\n",
       "      <th></th>\n",
       "      <th>Loss_mae</th>\n",
       "      <th>Threshold</th>\n",
       "      <th>Anomaly</th>\n",
       "    </tr>\n",
       "  </thead>\n",
       "  <tbody>\n",
       "    <tr>\n",
       "      <th>0</th>\n",
       "      <td>0.005443</td>\n",
       "      <td>0.1</td>\n",
       "      <td>False</td>\n",
       "    </tr>\n",
       "    <tr>\n",
       "      <th>1</th>\n",
       "      <td>0.010047</td>\n",
       "      <td>0.1</td>\n",
       "      <td>False</td>\n",
       "    </tr>\n",
       "    <tr>\n",
       "      <th>2</th>\n",
       "      <td>0.007088</td>\n",
       "      <td>0.1</td>\n",
       "      <td>False</td>\n",
       "    </tr>\n",
       "    <tr>\n",
       "      <th>3</th>\n",
       "      <td>0.006769</td>\n",
       "      <td>0.1</td>\n",
       "      <td>False</td>\n",
       "    </tr>\n",
       "    <tr>\n",
       "      <th>4</th>\n",
       "      <td>0.002242</td>\n",
       "      <td>0.1</td>\n",
       "      <td>False</td>\n",
       "    </tr>\n",
       "    <tr>\n",
       "      <th>...</th>\n",
       "      <td>...</td>\n",
       "      <td>...</td>\n",
       "      <td>...</td>\n",
       "    </tr>\n",
       "    <tr>\n",
       "      <th>193843</th>\n",
       "      <td>0.020445</td>\n",
       "      <td>0.1</td>\n",
       "      <td>False</td>\n",
       "    </tr>\n",
       "    <tr>\n",
       "      <th>193844</th>\n",
       "      <td>0.109384</td>\n",
       "      <td>0.1</td>\n",
       "      <td>True</td>\n",
       "    </tr>\n",
       "    <tr>\n",
       "      <th>193845</th>\n",
       "      <td>0.089303</td>\n",
       "      <td>0.1</td>\n",
       "      <td>False</td>\n",
       "    </tr>\n",
       "    <tr>\n",
       "      <th>193846</th>\n",
       "      <td>0.003115</td>\n",
       "      <td>0.1</td>\n",
       "      <td>False</td>\n",
       "    </tr>\n",
       "    <tr>\n",
       "      <th>193847</th>\n",
       "      <td>0.011554</td>\n",
       "      <td>0.1</td>\n",
       "      <td>False</td>\n",
       "    </tr>\n",
       "  </tbody>\n",
       "</table>\n",
       "<p>193848 rows × 3 columns</p>\n",
       "</div>"
      ],
      "text/plain": [
       "        Loss_mae  Threshold  Anomaly\n",
       "0       0.005443        0.1    False\n",
       "1       0.010047        0.1    False\n",
       "2       0.007088        0.1    False\n",
       "3       0.006769        0.1    False\n",
       "4       0.002242        0.1    False\n",
       "...          ...        ...      ...\n",
       "193843  0.020445        0.1    False\n",
       "193844  0.109384        0.1     True\n",
       "193845  0.089303        0.1    False\n",
       "193846  0.003115        0.1    False\n",
       "193847  0.011554        0.1    False\n",
       "\n",
       "[193848 rows x 3 columns]"
      ]
     },
     "execution_count": 14,
     "metadata": {},
     "output_type": "execute_result"
    }
   ],
   "source": [
    "TH = 0.1\n",
    "\n",
    "scored_train = pd.DataFrame()\n",
    "scored_train['Loss_mae'] = np.mean(np.abs(pred_train-train), axis = 1)\n",
    "scored_train['Threshold'] = TH\n",
    "scored_train['Anomaly'] = scored_train['Loss_mae'] > scored_train['Threshold']\n",
    "\n",
    "scored_train"
   ]
  },
  {
   "cell_type": "code",
   "execution_count": 15,
   "metadata": {},
   "outputs": [
    {
     "data": {
      "text/plain": [
       "0.01743927420744386"
      ]
     },
     "execution_count": 15,
     "metadata": {},
     "output_type": "execute_result"
    }
   ],
   "source": [
    "scored_train['Loss_mae'].mean()"
   ]
  },
  {
   "cell_type": "code",
   "execution_count": 16,
   "metadata": {},
   "outputs": [
    {
     "data": {
      "text/plain": [
       "<matplotlib.axes._subplots.AxesSubplot at 0x1fad473ae88>"
      ]
     },
     "execution_count": 16,
     "metadata": {},
     "output_type": "execute_result"
    },
    {
     "data": {
      "image/png": "[encoded data removed]",
      "text/plain": [
       "<Figure size 1152x288 with 1 Axes>"
      ]
     },
     "metadata": {
      "needs_background": "light"
     },
     "output_type": "display_data"
    }
   ],
   "source": [
    "scored_train.plot(logy=True,  figsize = (16,4), xlim =[0,len(scored_train)])"
   ]
  },
  {
   "cell_type": "code",
   "execution_count": 17,
   "metadata": {},
   "outputs": [
    {
     "data": {
      "text/html": [
       "<div>\n",
       "<style scoped>\n",
       "    .dataframe tbody tr th:only-of-type {\n",
       "        vertical-align: middle;\n",
       "    }\n",
       "\n",
       "    .dataframe tbody tr th {\n",
       "        vertical-align: top;\n",
       "    }\n",
       "\n",
       "    .dataframe thead th {\n",
       "        text-align: right;\n",
       "    }\n",
       "</style>\n",
       "<table border=\"1\" class=\"dataframe\">\n",
       "  <thead>\n",
       "    <tr style=\"text-align: right;\">\n",
       "      <th></th>\n",
       "      <th>Loss_mae</th>\n",
       "      <th>Threshold</th>\n",
       "      <th>Anomaly</th>\n",
       "    </tr>\n",
       "  </thead>\n",
       "  <tbody>\n",
       "    <tr>\n",
       "      <th>0</th>\n",
       "      <td>0.005443</td>\n",
       "      <td>0.1</td>\n",
       "      <td>False</td>\n",
       "    </tr>\n",
       "    <tr>\n",
       "      <th>1</th>\n",
       "      <td>0.010047</td>\n",
       "      <td>0.1</td>\n",
       "      <td>False</td>\n",
       "    </tr>\n",
       "    <tr>\n",
       "      <th>2</th>\n",
       "      <td>0.007088</td>\n",
       "      <td>0.1</td>\n",
       "      <td>False</td>\n",
       "    </tr>\n",
       "    <tr>\n",
       "      <th>3</th>\n",
       "      <td>0.006769</td>\n",
       "      <td>0.1</td>\n",
       "      <td>False</td>\n",
       "    </tr>\n",
       "    <tr>\n",
       "      <th>4</th>\n",
       "      <td>0.002242</td>\n",
       "      <td>0.1</td>\n",
       "      <td>False</td>\n",
       "    </tr>\n",
       "    <tr>\n",
       "      <th>...</th>\n",
       "      <td>...</td>\n",
       "      <td>...</td>\n",
       "      <td>...</td>\n",
       "    </tr>\n",
       "    <tr>\n",
       "      <th>193843</th>\n",
       "      <td>0.020445</td>\n",
       "      <td>0.1</td>\n",
       "      <td>False</td>\n",
       "    </tr>\n",
       "    <tr>\n",
       "      <th>193844</th>\n",
       "      <td>0.109384</td>\n",
       "      <td>0.1</td>\n",
       "      <td>True</td>\n",
       "    </tr>\n",
       "    <tr>\n",
       "      <th>193845</th>\n",
       "      <td>0.089303</td>\n",
       "      <td>0.1</td>\n",
       "      <td>False</td>\n",
       "    </tr>\n",
       "    <tr>\n",
       "      <th>193846</th>\n",
       "      <td>0.003115</td>\n",
       "      <td>0.1</td>\n",
       "      <td>False</td>\n",
       "    </tr>\n",
       "    <tr>\n",
       "      <th>193847</th>\n",
       "      <td>0.011554</td>\n",
       "      <td>0.1</td>\n",
       "      <td>False</td>\n",
       "    </tr>\n",
       "  </tbody>\n",
       "</table>\n",
       "<p>193848 rows × 3 columns</p>\n",
       "</div>"
      ],
      "text/plain": [
       "        Loss_mae  Threshold  Anomaly\n",
       "0       0.005443        0.1    False\n",
       "1       0.010047        0.1    False\n",
       "2       0.007088        0.1    False\n",
       "3       0.006769        0.1    False\n",
       "4       0.002242        0.1    False\n",
       "...          ...        ...      ...\n",
       "193843  0.020445        0.1    False\n",
       "193844  0.109384        0.1     True\n",
       "193845  0.089303        0.1    False\n",
       "193846  0.003115        0.1    False\n",
       "193847  0.011554        0.1    False\n",
       "\n",
       "[193848 rows x 3 columns]"
      ]
     },
     "execution_count": 17,
     "metadata": {},
     "output_type": "execute_result"
    }
   ],
   "source": [
    "scored_train"
   ]
  },
  {
   "cell_type": "code",
   "execution_count": 18,
   "metadata": {},
   "outputs": [
    {
     "name": "stdout",
     "output_type": "stream",
     "text": [
      "        Loss_mae  Threshold  Anomaly\n",
      "96926   0.109776        0.1     True\n",
      "96942   0.137759        0.1     True\n",
      "96992   0.165781        0.1     True\n",
      "97034   0.118379        0.1     True\n",
      "97040   0.107201        0.1     True\n",
      "...          ...        ...      ...\n",
      "193698  0.142118        0.1     True\n",
      "193779  0.103800        0.1     True\n",
      "193780  0.118535        0.1     True\n",
      "193820  0.134223        0.1     True\n",
      "193844  0.109384        0.1     True\n",
      "\n",
      "[2528 rows x 3 columns]\n",
      "(2528, 3)\n"
     ]
    }
   ],
   "source": [
    "anomalies = scored_train[scored_train['Anomaly'] == True]\n",
    "print(anomalies)\n",
    "print(anomalies.shape)"
   ]
  },
  {
   "cell_type": "code",
   "execution_count": 19,
   "metadata": {},
   "outputs": [
    {
     "data": {
      "image/png": "[encoded data removed]",
      "text/plain": [
       "<Figure size 1152x288 with 1 Axes>"
      ]
     },
     "metadata": {
      "needs_background": "light"
     },
     "output_type": "display_data"
    }
   ],
   "source": [
    "f, (ax1) = plt.subplots(figsize=(16, 4))\n",
    "ax1.plot(scored_train.index, scored_train.Loss_mae, label='Loss(MAE)');\n",
    "ax1.plot(scored_train.index, scored_train.Threshold, label='Threshold')\n",
    "g = sns.scatterplot(x=anomalies.index , y=anomalies.Loss_mae, label='anomaly', color='red')\n",
    "g.set(xlim = (0, len(scored_train.index)))\n",
    "plt.title('Anomalies')\n",
    "plt.legend();"
   ]
  },
  {
   "cell_type": "code",
   "execution_count": 20,
   "metadata": {},
   "outputs": [],
   "source": [
    "pred_test = autoencoder.predict(test)"
   ]
  },
  {
   "cell_type": "code",
   "execution_count": 21,
   "metadata": {},
   "outputs": [
    {
     "name": "stdout",
     "output_type": "stream",
     "text": [
      "48462/48462 [==============================] - 1s 13us/step\n"
     ]
    },
    {
     "data": {
      "text/plain": [
       "[0.001632949833633338, 0.9120547771453857]"
      ]
     },
     "execution_count": 21,
     "metadata": {},
     "output_type": "execute_result"
    }
   ],
   "source": [
    "score = autoencoder.evaluate(test,test)\n",
    "score"
   ]
  },
  {
   "cell_type": "code",
   "execution_count": 22,
   "metadata": {},
   "outputs": [
    {
     "data": {
      "image/png": "[encoded data removed]",
      "text/plain": [
       "<Figure size 432x288 with 1 Axes>"
      ]
     },
     "metadata": {
      "needs_background": "light"
     },
     "output_type": "display_data"
    }
   ],
   "source": [
    "import seaborn as sns\n",
    "\n",
    "scored_test = np.mean(np.abs(pred_test-test), axis = 1)\n",
    "plt.figure()\n",
    "g = sns.distplot(scored_test, bins = 10, kde= True);\n",
    "#g.set(xlim=(1,1.5), ylim=(0, 0.5))\n",
    "plt.show()"
   ]
  },
  {
   "cell_type": "code",
   "execution_count": 23,
   "metadata": {},
   "outputs": [
    {
     "data": {
      "text/html": [
       "<div>\n",
       "<style scoped>\n",
       "    .dataframe tbody tr th:only-of-type {\n",
       "        vertical-align: middle;\n",
       "    }\n",
       "\n",
       "    .dataframe tbody tr th {\n",
       "        vertical-align: top;\n",
       "    }\n",
       "\n",
       "    .dataframe thead th {\n",
       "        text-align: right;\n",
       "    }\n",
       "</style>\n",
       "<table border=\"1\" class=\"dataframe\">\n",
       "  <thead>\n",
       "    <tr style=\"text-align: right;\">\n",
       "      <th></th>\n",
       "      <th>Loss_mae</th>\n",
       "      <th>Threshold</th>\n",
       "      <th>Anomaly</th>\n",
       "    </tr>\n",
       "  </thead>\n",
       "  <tbody>\n",
       "    <tr>\n",
       "      <th>0</th>\n",
       "      <td>0.003003</td>\n",
       "      <td>0.1</td>\n",
       "      <td>False</td>\n",
       "    </tr>\n",
       "    <tr>\n",
       "      <th>1</th>\n",
       "      <td>0.005765</td>\n",
       "      <td>0.1</td>\n",
       "      <td>False</td>\n",
       "    </tr>\n",
       "    <tr>\n",
       "      <th>2</th>\n",
       "      <td>0.015087</td>\n",
       "      <td>0.1</td>\n",
       "      <td>False</td>\n",
       "    </tr>\n",
       "    <tr>\n",
       "      <th>3</th>\n",
       "      <td>0.018239</td>\n",
       "      <td>0.1</td>\n",
       "      <td>False</td>\n",
       "    </tr>\n",
       "    <tr>\n",
       "      <th>4</th>\n",
       "      <td>0.001491</td>\n",
       "      <td>0.1</td>\n",
       "      <td>False</td>\n",
       "    </tr>\n",
       "    <tr>\n",
       "      <th>...</th>\n",
       "      <td>...</td>\n",
       "      <td>...</td>\n",
       "      <td>...</td>\n",
       "    </tr>\n",
       "    <tr>\n",
       "      <th>48457</th>\n",
       "      <td>0.001811</td>\n",
       "      <td>0.1</td>\n",
       "      <td>False</td>\n",
       "    </tr>\n",
       "    <tr>\n",
       "      <th>48458</th>\n",
       "      <td>0.014439</td>\n",
       "      <td>0.1</td>\n",
       "      <td>False</td>\n",
       "    </tr>\n",
       "    <tr>\n",
       "      <th>48459</th>\n",
       "      <td>0.038276</td>\n",
       "      <td>0.1</td>\n",
       "      <td>False</td>\n",
       "    </tr>\n",
       "    <tr>\n",
       "      <th>48460</th>\n",
       "      <td>0.003265</td>\n",
       "      <td>0.1</td>\n",
       "      <td>False</td>\n",
       "    </tr>\n",
       "    <tr>\n",
       "      <th>48461</th>\n",
       "      <td>0.006074</td>\n",
       "      <td>0.1</td>\n",
       "      <td>False</td>\n",
       "    </tr>\n",
       "  </tbody>\n",
       "</table>\n",
       "<p>48462 rows × 3 columns</p>\n",
       "</div>"
      ],
      "text/plain": [
       "       Loss_mae  Threshold  Anomaly\n",
       "0      0.003003        0.1    False\n",
       "1      0.005765        0.1    False\n",
       "2      0.015087        0.1    False\n",
       "3      0.018239        0.1    False\n",
       "4      0.001491        0.1    False\n",
       "...         ...        ...      ...\n",
       "48457  0.001811        0.1    False\n",
       "48458  0.014439        0.1    False\n",
       "48459  0.038276        0.1    False\n",
       "48460  0.003265        0.1    False\n",
       "48461  0.006074        0.1    False\n",
       "\n",
       "[48462 rows x 3 columns]"
      ]
     },
     "execution_count": 23,
     "metadata": {},
     "output_type": "execute_result"
    }
   ],
   "source": [
    "scored_test = pd.DataFrame()\n",
    "scored_test['Loss_mae'] = np.mean(np.abs(pred_test-test), axis = 1)\n",
    "scored_test['Threshold'] = TH\n",
    "scored_test['Anomaly'] = scored_test['Loss_mae'] > scored_test['Threshold']\n",
    "\n",
    "scored_test"
   ]
  },
  {
   "cell_type": "code",
   "execution_count": 24,
   "metadata": {},
   "outputs": [
    {
     "data": {
      "text/plain": [
       "0.01747204981317849"
      ]
     },
     "execution_count": 24,
     "metadata": {},
     "output_type": "execute_result"
    }
   ],
   "source": [
    "scored_test['Loss_mae'].mean()"
   ]
  },
  {
   "cell_type": "code",
   "execution_count": 25,
   "metadata": {},
   "outputs": [
    {
     "data": {
      "text/plain": [
       "<matplotlib.axes._subplots.AxesSubplot at 0x1fad4f0bb88>"
      ]
     },
     "execution_count": 25,
     "metadata": {},
     "output_type": "execute_result"
    },
    {
     "data": {
      "image/png": "[encoded data removed]",
      "text/plain": [
       "<Figure size 1152x288 with 1 Axes>"
      ]
     },
     "metadata": {
      "needs_background": "light"
     },
     "output_type": "display_data"
    }
   ],
   "source": [
    "scored_test.plot(logy=True,  figsize = (16,4), xlim =[0,len(scored_test)])"
   ]
  },
  {
   "cell_type": "code",
   "execution_count": 26,
   "metadata": {},
   "outputs": [
    {
     "name": "stdout",
     "output_type": "stream",
     "text": [
      "       Loss_mae  Threshold  Anomaly\n",
      "24236  0.160352        0.1     True\n",
      "24254  0.103756        0.1     True\n",
      "24288  0.115649        0.1     True\n",
      "24302  0.101757        0.1     True\n",
      "24312  0.134819        0.1     True\n",
      "...         ...        ...      ...\n",
      "48300  0.115310        0.1     True\n",
      "48339  0.105372        0.1     True\n",
      "48389  0.135180        0.1     True\n",
      "48398  0.129878        0.1     True\n",
      "48416  0.100259        0.1     True\n",
      "\n",
      "[643 rows x 3 columns]\n",
      "(643, 3)\n"
     ]
    }
   ],
   "source": [
    "IR_anomalies = scored_test[scored_test['Anomaly'] == True]\n",
    "print(IR_anomalies)\n",
    "print(IR_anomalies.shape)"
   ]
  },
  {
   "cell_type": "code",
   "execution_count": 27,
   "metadata": {},
   "outputs": [
    {
     "data": {
      "image/png": "[encoded data removed]",
      "text/plain": [
       "<Figure size 1152x288 with 1 Axes>"
      ]
     },
     "metadata": {
      "needs_background": "light"
     },
     "output_type": "display_data"
    }
   ],
   "source": [
    "f, (ax2) = plt.subplots(figsize=(16, 4))\n",
    "ax2.plot(scored_test.index, scored_test.Loss_mae, label='Loss(MAE)');\n",
    "ax2.plot(scored_test.index, scored_test.Threshold, label='Threshold')\n",
    "g = sns.scatterplot(x=IR_anomalies.index , y=IR_anomalies.Loss_mae, label='anomaly', color='red')\n",
    "g.set(xlim = (0, len(scored_test.index)))\n",
    "plt.title('Anomalies')\n",
    "plt.legend();"
   ]
  },
  {
   "cell_type": "code",
   "execution_count": 28,
   "metadata": {},
   "outputs": [
    {
     "name": "stdout",
     "output_type": "stream",
     "text": [
      "0.9120547771453857\n"
     ]
    }
   ],
   "source": [
    "print(score[1])"
   ]
  },
  {
   "cell_type": "code",
   "execution_count": 29,
   "metadata": {},
   "outputs": [
    {
     "name": "stdout",
     "output_type": "stream",
     "text": [
      "Accuracy: 91.21%\n"
     ]
    }
   ],
   "source": [
    "print(\"Accuracy: {:.2f}%\".format(score[1]*100))"
   ]
  },
  {
   "cell_type": "code",
   "execution_count": 32,
   "metadata": {},
   "outputs": [
    {
     "name": "stdout",
     "output_type": "stream",
     "text": [
      "Anomalies: 643\n"
     ]
    }
   ],
   "source": [
    "print(\"Anomalies: {}\".format(IR_anomalies['Anomaly'].count()))"
   ]
  },
  {
   "cell_type": "code",
   "execution_count": null,
   "metadata": {},
   "outputs": [],
   "source": []
  }
 ],
 "metadata": {
  "kernelspec": {
   "display_name": "Python 3",
   "language": "python",
   "name": "python3"
  },
  "language_info": {
   "codemirror_mode": {
    "name": "ipython",
    "version": 3
   },
   "file_extension": ".py",
   "mimetype": "text/x-python",
   "name": "python",
   "nbconvert_exporter": "python",
   "pygments_lexer": "ipython3",
   "version": "3.7.4"
  }
 },
 "nbformat": 4,
 "nbformat_minor": 4
}
