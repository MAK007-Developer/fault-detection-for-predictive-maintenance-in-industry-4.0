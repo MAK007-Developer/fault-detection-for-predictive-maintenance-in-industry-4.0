{
 "cells": [
  {
   "cell_type": "code",
   "execution_count": 1,
   "metadata": {},
   "outputs": [],
   "source": [
    "#importing packages\n",
    "import pandas as pd\n",
    "import numpy as np"
   ]
  },
  {
   "cell_type": "code",
   "execution_count": 2,
   "metadata": {},
   "outputs": [],
   "source": [
    "Dtrain = pd.read_csv(\"../CWRU Dataset-2-train.csv\")\n",
    "Dtest = pd.read_csv(\"../CWRU Dataset-2-test.csv\")"
   ]
  },
  {
   "cell_type": "code",
   "execution_count": 3,
   "metadata": {},
   "outputs": [
    {
     "name": "stdout",
     "output_type": "stream",
     "text": [
      "(290688, 4)\n",
      "(72672, 4)\n"
     ]
    }
   ],
   "source": [
    "print(Dtrain.shape)\n",
    "print(Dtest.shape)"
   ]
  },
  {
   "cell_type": "code",
   "execution_count": 4,
   "metadata": {},
   "outputs": [
    {
     "data": {
      "text/plain": [
       "Normal                 96896\n",
       "Outer Race (0.021\")    96896\n",
       "Inner Race (0.021\")    96896\n",
       "Name: Bearing, dtype: int64"
      ]
     },
     "execution_count": 4,
     "metadata": {},
     "output_type": "execute_result"
    }
   ],
   "source": [
    "Dtrain[\"Bearing\"].value_counts()"
   ]
  },
  {
   "cell_type": "code",
   "execution_count": 5,
   "metadata": {},
   "outputs": [
    {
     "data": {
      "text/plain": [
       "Normal                 33.333333\n",
       "Outer Race (0.021\")    33.333333\n",
       "Inner Race (0.021\")    33.333333\n",
       "Name: Bearing, dtype: float64"
      ]
     },
     "execution_count": 5,
     "metadata": {},
     "output_type": "execute_result"
    }
   ],
   "source": [
    "Dtrain[\"Bearing\"].value_counts(normalize=True)*100"
   ]
  },
  {
   "cell_type": "code",
   "execution_count": 6,
   "metadata": {},
   "outputs": [
    {
     "data": {
      "text/plain": [
       "Index(['Bearing', 'Fault Diameter', 'DE', 'FE'], dtype='object')"
      ]
     },
     "execution_count": 6,
     "metadata": {},
     "output_type": "execute_result"
    }
   ],
   "source": [
    "Dtest.columns"
   ]
  },
  {
   "cell_type": "code",
   "execution_count": 7,
   "metadata": {},
   "outputs": [],
   "source": [
    "from sklearn.preprocessing import LabelEncoder, OneHotEncoder\n",
    "from sklearn.compose import ColumnTransformer\n",
    "labelencoder_train = LabelEncoder()\n",
    "Dtrain[\"Bearing\"] = labelencoder_train.fit_transform(Dtrain[\"Bearing\"])\n",
    "ct = ColumnTransformer([(\"Bearing\", OneHotEncoder(), [0])],    remainder = 'passthrough')\n",
    "Dtrain = ct.fit_transform(Dtrain)"
   ]
  },
  {
   "cell_type": "code",
   "execution_count": 8,
   "metadata": {},
   "outputs": [
    {
     "name": "stdout",
     "output_type": "stream",
     "text": [
      "[[ 0.          1.          0.          0.         -0.04965046 -0.09635818]\n",
      " [ 0.          1.          0.          0.         -0.00438092 -0.11957455]\n",
      " [ 0.          1.          0.          0.         -0.00333785 -0.11258909]\n",
      " ...\n",
      " [ 0.          0.          1.          0.021      -0.2399979   0.29523818]\n",
      " [ 0.          0.          1.          0.021      -0.27410928  0.10067273]\n",
      " [ 0.          0.          1.          0.021       0.14578553  0.25353091]]\n"
     ]
    }
   ],
   "source": [
    "from sklearn.preprocessing import LabelEncoder, OneHotEncoder\n",
    "from sklearn.compose import ColumnTransformer\n",
    "labelencoder_train = LabelEncoder()\n",
    "Dtest[\"Bearing\"] = labelencoder_train.fit_transform(Dtest[\"Bearing\"])\n",
    "ct = ColumnTransformer([(\"Bearing\", OneHotEncoder(), [0])],    remainder = 'passthrough')\n",
    "Dtest = ct.fit_transform(Dtest)\n",
    "\n",
    "print(Dtest)"
   ]
  },
  {
   "cell_type": "code",
   "execution_count": 9,
   "metadata": {},
   "outputs": [],
   "source": [
    "from sklearn.preprocessing import MinMaxScaler\n",
    "scaler = MinMaxScaler()\n",
    "X_train = pd.DataFrame(scaler.fit_transform(Dtrain))\n",
    "# Random shuffle training data\n",
    "X_train.sample(frac=1)\n",
    "\n",
    "X_test = pd.DataFrame(scaler.transform(Dtest))"
   ]
  },
  {
   "cell_type": "code",
   "execution_count": 10,
   "metadata": {},
   "outputs": [
    {
     "name": "stderr",
     "output_type": "stream",
     "text": [
      "Using TensorFlow backend.\n"
     ]
    }
   ],
   "source": [
    "from keras.layers import Input, Dropout\n",
    "from keras.layers.core import Dense \n",
    "from keras.models import Model, Sequential, load_model\n",
    "from keras import regularizers"
   ]
  },
  {
   "cell_type": "code",
   "execution_count": 11,
   "metadata": {},
   "outputs": [],
   "source": [
    "import tensorflow as tf\n",
    "from numpy.random import seed\n",
    "seed(10)\n",
    "tf.random.set_seed(10)\n",
    "act_func = 'elu'"
   ]
  },
  {
   "cell_type": "code",
   "execution_count": 12,
   "metadata": {},
   "outputs": [
    {
     "name": "stdout",
     "output_type": "stream",
     "text": [
      "Model: \"sequential_1\"\n",
      "_________________________________________________________________\n",
      "Layer (type)                 Output Shape              Param #   \n",
      "=================================================================\n",
      "dense_1 (Dense)              (None, 32)                224       \n",
      "_________________________________________________________________\n",
      "dense_2 (Dense)              (None, 2)                 66        \n",
      "_________________________________________________________________\n",
      "dense_3 (Dense)              (None, 32)                96        \n",
      "_________________________________________________________________\n",
      "dense_4 (Dense)              (None, 6)                 198       \n",
      "=================================================================\n",
      "Total params: 584\n",
      "Trainable params: 584\n",
      "Non-trainable params: 0\n",
      "_________________________________________________________________\n"
     ]
    }
   ],
   "source": [
    "# Input layer:\n",
    "model=Sequential()\n",
    "# First hidden layer, connected to input vector X. \n",
    "model.add(Dense(32, activation=act_func,\n",
    "                kernel_initializer='glorot_uniform',\n",
    "                kernel_regularizer=regularizers.l2(0.0),\n",
    "                input_shape=(X_train.shape[1],)\n",
    "               )\n",
    "         )\n",
    "\n",
    "model.add(Dense(2, activation=act_func, kernel_initializer='glorot_uniform'))\n",
    "\n",
    "model.add(Dense(32, activation=act_func, kernel_initializer='glorot_uniform'))\n",
    "\n",
    "model.add(Dense(X_train.shape[1], kernel_initializer='glorot_uniform'))\n",
    "\n",
    "model.compile(loss='mse',optimizer='adam')\n",
    "\n",
    "# Train model for 100 epochs, batch size of 10: \n",
    "model.summary()"
   ]
  },
  {
   "cell_type": "code",
   "execution_count": 13,
   "metadata": {},
   "outputs": [
    {
     "name": "stdout",
     "output_type": "stream",
     "text": [
      "Train on 261619 samples, validate on 29069 samples\n",
      "Epoch 1/100\n",
      "261619/261619 [==============================] - 1s 3us/step - loss: 0.0570 - val_loss: 9.5306e-04\n",
      "Epoch 2/100\n",
      "261619/261619 [==============================] - 1s 2us/step - loss: 0.0508 - val_loss: 0.0013\n",
      "Epoch 3/100\n",
      "261619/261619 [==============================] - 1s 2us/step - loss: 0.0539 - val_loss: 8.0947e-04\n",
      "Epoch 4/100\n",
      "261619/261619 [==============================] - 1s 2us/step - loss: 0.0321 - val_loss: 9.2067e-04\n",
      "Epoch 5/100\n",
      "261619/261619 [==============================] - 1s 2us/step - loss: 0.0050 - val_loss: 8.1039e-04\n",
      "Epoch 6/100\n",
      "261619/261619 [==============================] - 1s 2us/step - loss: 9.5099e-04 - val_loss: 8.0948e-04\n",
      "Epoch 7/100\n",
      "261619/261619 [==============================] - 1s 2us/step - loss: 4.5313e-04 - val_loss: 7.9985e-04\n",
      "Epoch 8/100\n",
      "261619/261619 [==============================] - 1s 2us/step - loss: 4.2405e-04 - val_loss: 7.9477e-04\n",
      "Epoch 9/100\n",
      "261619/261619 [==============================] - 1s 2us/step - loss: 4.2072e-04 - val_loss: 7.8897e-04\n",
      "Epoch 10/100\n",
      "261619/261619 [==============================] - 1s 2us/step - loss: 4.1864e-04 - val_loss: 7.8290e-04\n",
      "Epoch 11/100\n",
      "261619/261619 [==============================] - 1s 2us/step - loss: 4.1671e-04 - val_loss: 7.7671e-04\n",
      "Epoch 12/100\n",
      "261619/261619 [==============================] - 1s 3us/step - loss: 4.1481e-04 - val_loss: 7.7051e-04\n",
      "Epoch 13/100\n",
      "261619/261619 [==============================] - 1s 2us/step - loss: 4.1282e-04 - val_loss: 7.6419e-04\n",
      "Epoch 14/100\n",
      "261619/261619 [==============================] - 1s 2us/step - loss: 4.1064e-04 - val_loss: 7.5788e-04\n",
      "Epoch 15/100\n",
      "261619/261619 [==============================] - 1s 2us/step - loss: 4.0859e-04 - val_loss: 7.5206e-04\n",
      "Epoch 16/100\n",
      "261619/261619 [==============================] - 1s 2us/step - loss: 4.0691e-04 - val_loss: 7.4655e-04\n",
      "Epoch 17/100\n",
      "261619/261619 [==============================] - 1s 2us/step - loss: 4.0547e-04 - val_loss: 7.4147e-04\n",
      "Epoch 18/100\n",
      "261619/261619 [==============================] - 1s 2us/step - loss: 4.0371e-04 - val_loss: 7.3668e-04\n",
      "Epoch 19/100\n",
      "261619/261619 [==============================] - 1s 2us/step - loss: 4.0194e-04 - val_loss: 7.3248e-04\n",
      "Epoch 20/100\n",
      "261619/261619 [==============================] - 1s 2us/step - loss: 4.0088e-04 - val_loss: 7.2874e-04\n",
      "Epoch 21/100\n",
      "261619/261619 [==============================] - 1s 2us/step - loss: 4.0036e-04 - val_loss: 7.2562e-04\n",
      "Epoch 22/100\n",
      "261619/261619 [==============================] - 1s 2us/step - loss: 3.9908e-04 - val_loss: 7.2268e-04\n",
      "Epoch 23/100\n",
      "261619/261619 [==============================] - 1s 2us/step - loss: 3.9807e-04 - val_loss: 7.2023e-04\n",
      "Epoch 24/100\n",
      "261619/261619 [==============================] - 1s 2us/step - loss: 3.9787e-04 - val_loss: 7.1815e-04\n",
      "Epoch 25/100\n",
      "261619/261619 [==============================] - 1s 2us/step - loss: 3.9807e-04 - val_loss: 7.1631e-04\n",
      "Epoch 26/100\n",
      "261619/261619 [==============================] - 1s 2us/step - loss: 3.9874e-04 - val_loss: 7.1479e-04\n",
      "Epoch 27/100\n",
      "261619/261619 [==============================] - 1s 3us/step - loss: 3.9937e-04 - val_loss: 7.1348e-04\n",
      "Epoch 28/100\n",
      "261619/261619 [==============================] - 1s 2us/step - loss: 4.0044e-04 - val_loss: 7.1234e-04\n",
      "Epoch 29/100\n",
      "261619/261619 [==============================] - 1s 2us/step - loss: 4.0176e-04 - val_loss: 7.1139e-04\n",
      "Epoch 30/100\n",
      "261619/261619 [==============================] - 1s 2us/step - loss: 4.0258e-04 - val_loss: 7.1061e-04\n",
      "Epoch 31/100\n",
      "261619/261619 [==============================] - 1s 2us/step - loss: 4.0373e-04 - val_loss: 7.0985e-04\n",
      "Epoch 32/100\n",
      "261619/261619 [==============================] - 1s 2us/step - loss: 4.0484e-04 - val_loss: 7.0919e-04\n",
      "Epoch 33/100\n",
      "261619/261619 [==============================] - 1s 2us/step - loss: 4.0653e-04 - val_loss: 7.0862e-04\n",
      "Epoch 34/100\n",
      "261619/261619 [==============================] - 1s 2us/step - loss: 4.0654e-04 - val_loss: 7.0807e-04\n",
      "Epoch 35/100\n",
      "261619/261619 [==============================] - 1s 2us/step - loss: 4.0634e-04 - val_loss: 7.0761e-04\n",
      "Epoch 36/100\n",
      "261619/261619 [==============================] - 1s 2us/step - loss: 4.0646e-04 - val_loss: 7.0717e-04\n",
      "Epoch 37/100\n",
      "261619/261619 [==============================] - 1s 2us/step - loss: 4.0585e-04 - val_loss: 7.0666e-04\n",
      "Epoch 38/100\n",
      "261619/261619 [==============================] - 1s 2us/step - loss: 4.0585e-04 - val_loss: 7.0616e-04\n",
      "Epoch 39/100\n",
      "261619/261619 [==============================] - 1s 2us/step - loss: 4.0635e-04 - val_loss: 7.0568e-04\n",
      "Epoch 40/100\n",
      "261619/261619 [==============================] - 1s 2us/step - loss: 4.0642e-04 - val_loss: 7.0514e-04\n",
      "Epoch 41/100\n",
      "261619/261619 [==============================] - 1s 2us/step - loss: 4.0618e-04 - val_loss: 7.0455e-04\n",
      "Epoch 42/100\n",
      "261619/261619 [==============================] - 1s 2us/step - loss: 4.0607e-04 - val_loss: 7.0393e-04\n",
      "Epoch 43/100\n",
      "261619/261619 [==============================] - 1s 2us/step - loss: 4.0606e-04 - val_loss: 7.0327e-04\n",
      "Epoch 44/100\n",
      "261619/261619 [==============================] - 1s 2us/step - loss: 4.0608e-04 - val_loss: 7.0256e-04\n",
      "Epoch 45/100\n",
      "261619/261619 [==============================] - 1s 2us/step - loss: 4.0613e-04 - val_loss: 7.0180e-04\n",
      "Epoch 46/100\n",
      "261619/261619 [==============================] - 1s 2us/step - loss: 4.0612e-04 - val_loss: 7.0097e-04\n",
      "Epoch 47/100\n",
      "261619/261619 [==============================] - 1s 2us/step - loss: 4.0615e-04 - val_loss: 7.0007e-04\n",
      "Epoch 48/100\n",
      "261619/261619 [==============================] - 1s 2us/step - loss: 4.0635e-04 - val_loss: 6.9911e-04\n",
      "Epoch 49/100\n",
      "261619/261619 [==============================] - 1s 2us/step - loss: 4.0672e-04 - val_loss: 6.9806e-04\n",
      "Epoch 50/100\n",
      "261619/261619 [==============================] - 1s 2us/step - loss: 4.0738e-04 - val_loss: 6.9691e-04\n",
      "Epoch 51/100\n",
      "261619/261619 [==============================] - 1s 2us/step - loss: 4.0781e-04 - val_loss: 6.9570e-04\n",
      "Epoch 52/100\n",
      "261619/261619 [==============================] - 1s 2us/step - loss: 4.0708e-04 - val_loss: 6.9444e-04\n",
      "Epoch 53/100\n",
      "261619/261619 [==============================] - 1s 2us/step - loss: 4.0709e-04 - val_loss: 6.9308e-04\n",
      "Epoch 54/100\n",
      "261619/261619 [==============================] - 1s 3us/step - loss: 4.0717e-04 - val_loss: 6.9158e-04\n",
      "Epoch 55/100\n",
      "261619/261619 [==============================] - 1s 3us/step - loss: 4.0737e-04 - val_loss: 6.8993e-04\n",
      "Epoch 56/100\n",
      "261619/261619 [==============================] - 1s 2us/step - loss: 4.0778e-04 - val_loss: 6.8814e-04\n",
      "Epoch 57/100\n",
      "261619/261619 [==============================] - 1s 3us/step - loss: 4.0780e-04 - val_loss: 6.8618e-04\n",
      "Epoch 58/100\n",
      "261619/261619 [==============================] - 1s 3us/step - loss: 4.0711e-04 - val_loss: 6.8402e-04\n",
      "Epoch 59/100\n",
      "261619/261619 [==============================] - 1s 3us/step - loss: 4.0652e-04 - val_loss: 6.8159e-04\n",
      "Epoch 60/100\n",
      "261619/261619 [==============================] - 1s 3us/step - loss: 4.0648e-04 - val_loss: 6.7883e-04\n",
      "Epoch 61/100\n",
      "261619/261619 [==============================] - 1s 3us/step - loss: 4.0664e-04 - val_loss: 6.7573e-04\n",
      "Epoch 62/100\n",
      "261619/261619 [==============================] - 1s 2us/step - loss: 4.0722e-04 - val_loss: 6.7230e-04\n",
      "Epoch 63/100\n",
      "261619/261619 [==============================] - 1s 2us/step - loss: 4.0742e-04 - val_loss: 6.6850e-04\n",
      "Epoch 64/100\n",
      "261619/261619 [==============================] - 1s 2us/step - loss: 4.0669e-04 - val_loss: 6.6423e-04\n",
      "Epoch 65/100\n",
      "261619/261619 [==============================] - 1s 2us/step - loss: 4.0609e-04 - val_loss: 6.5941e-04\n",
      "Epoch 66/100\n",
      "261619/261619 [==============================] - 1s 2us/step - loss: 4.0634e-04 - val_loss: 6.5405e-04\n",
      "Epoch 67/100\n",
      "261619/261619 [==============================] - 1s 2us/step - loss: 4.0645e-04 - val_loss: 6.4818e-04\n",
      "Epoch 68/100\n",
      "261619/261619 [==============================] - 1s 2us/step - loss: 4.0597e-04 - val_loss: 6.4169e-04\n",
      "Epoch 69/100\n",
      "261619/261619 [==============================] - 1s 2us/step - loss: 4.0506e-04 - val_loss: 6.3439e-04\n",
      "Epoch 70/100\n",
      "261619/261619 [==============================] - 1s 2us/step - loss: 4.0470e-04 - val_loss: 6.2633e-04\n",
      "Epoch 71/100\n"
     ]
    },
    {
     "name": "stdout",
     "output_type": "stream",
     "text": [
      "261619/261619 [==============================] - 1s 2us/step - loss: 4.0418e-04 - val_loss: 6.1747e-04\n",
      "Epoch 72/100\n",
      "261619/261619 [==============================] - 1s 2us/step - loss: 4.0342e-04 - val_loss: 6.0783e-04\n",
      "Epoch 73/100\n",
      "261619/261619 [==============================] - 1s 2us/step - loss: 4.0107e-04 - val_loss: 5.9711e-04\n",
      "Epoch 74/100\n",
      "261619/261619 [==============================] - 1s 2us/step - loss: 3.9888e-04 - val_loss: 5.8529e-04\n",
      "Epoch 75/100\n",
      "261619/261619 [==============================] - 1s 2us/step - loss: 3.9787e-04 - val_loss: 5.7255e-04\n",
      "Epoch 76/100\n",
      "261619/261619 [==============================] - 1s 2us/step - loss: 3.9764e-04 - val_loss: 5.5921e-04\n",
      "Epoch 77/100\n",
      "261619/261619 [==============================] - 1s 2us/step - loss: 3.9553e-04 - val_loss: 5.4544e-04\n",
      "Epoch 78/100\n",
      "261619/261619 [==============================] - 1s 2us/step - loss: 3.8947e-04 - val_loss: 5.3086e-04\n",
      "Epoch 79/100\n",
      "261619/261619 [==============================] - 1s 2us/step - loss: 3.8447e-04 - val_loss: 5.1543e-04\n",
      "Epoch 80/100\n",
      "261619/261619 [==============================] - 1s 2us/step - loss: 3.7974e-04 - val_loss: 4.9941e-04\n",
      "Epoch 81/100\n",
      "261619/261619 [==============================] - 1s 2us/step - loss: 3.7460e-04 - val_loss: 4.8320e-04\n",
      "Epoch 82/100\n",
      "261619/261619 [==============================] - 1s 2us/step - loss: 3.6862e-04 - val_loss: 4.6714e-04\n",
      "Epoch 83/100\n",
      "261619/261619 [==============================] - 1s 2us/step - loss: 3.6214e-04 - val_loss: 4.5156e-04\n",
      "Epoch 84/100\n",
      "261619/261619 [==============================] - 1s 2us/step - loss: 3.5485e-04 - val_loss: 4.3695e-04\n",
      "Epoch 85/100\n",
      "261619/261619 [==============================] - 1s 2us/step - loss: 3.4612e-04 - val_loss: 4.2343e-04\n",
      "Epoch 86/100\n",
      "261619/261619 [==============================] - 1s 2us/step - loss: 3.3805e-04 - val_loss: 4.1117e-04\n",
      "Epoch 87/100\n",
      "261619/261619 [==============================] - 1s 2us/step - loss: 3.3002e-04 - val_loss: 4.0024e-04\n",
      "Epoch 88/100\n",
      "261619/261619 [==============================] - 1s 2us/step - loss: 3.2208e-04 - val_loss: 3.9071e-04\n",
      "Epoch 89/100\n",
      "261619/261619 [==============================] - 1s 2us/step - loss: 3.1425e-04 - val_loss: 3.8254e-04\n",
      "Epoch 90/100\n",
      "261619/261619 [==============================] - 1s 2us/step - loss: 3.0633e-04 - val_loss: 3.7536e-04\n",
      "Epoch 91/100\n",
      "261619/261619 [==============================] - 1s 2us/step - loss: 2.9844e-04 - val_loss: 3.6908e-04\n",
      "Epoch 92/100\n",
      "261619/261619 [==============================] - 1s 2us/step - loss: 2.9248e-04 - val_loss: 3.6392e-04\n",
      "Epoch 93/100\n",
      "261619/261619 [==============================] - 1s 2us/step - loss: 2.8963e-04 - val_loss: 3.5974e-04\n",
      "Epoch 94/100\n",
      "261619/261619 [==============================] - 1s 2us/step - loss: 2.8506e-04 - val_loss: 3.5598e-04\n",
      "Epoch 95/100\n",
      "261619/261619 [==============================] - 1s 2us/step - loss: 2.7908e-04 - val_loss: 3.5281e-04\n",
      "Epoch 96/100\n",
      "261619/261619 [==============================] - 1s 2us/step - loss: 2.7297e-04 - val_loss: 3.4993e-04\n",
      "Epoch 97/100\n",
      "261619/261619 [==============================] - 1s 2us/step - loss: 2.6811e-04 - val_loss: 3.4713e-04\n",
      "Epoch 98/100\n",
      "261619/261619 [==============================] - 1s 2us/step - loss: 2.6603e-04 - val_loss: 3.4464e-04\n",
      "Epoch 99/100\n",
      "261619/261619 [==============================] - 1s 2us/step - loss: 2.6358e-04 - val_loss: 3.4237e-04\n",
      "Epoch 100/100\n",
      "261619/261619 [==============================] - 1s 2us/step - loss: 2.5970e-04 - val_loss: 3.4035e-04\n"
     ]
    }
   ],
   "source": [
    "NUM_EPOCHS=100\n",
    "BATCH_SIZE=1000\n",
    "history=model.fit(X_train,X_train, \n",
    "                  batch_size=BATCH_SIZE, \n",
    "                  epochs=NUM_EPOCHS,\n",
    "                  validation_split=0.1,\n",
    "                  verbose = 1,\n",
    "                  shuffle = False)"
   ]
  },
  {
   "cell_type": "code",
   "execution_count": 14,
   "metadata": {},
   "outputs": [
    {
     "data": {
      "image/png": "[encoded data removed]",
      "text/plain": [
       "<Figure size 432x288 with 1 Axes>"
      ]
     },
     "metadata": {
      "needs_background": "light"
     },
     "output_type": "display_data"
    }
   ],
   "source": [
    "import matplotlib.pyplot as plt\n",
    "\n",
    "plt.plot(history.history['loss'], 'b', label='Training loss')\n",
    "plt.plot(history.history['val_loss'], 'r', label='Validation loss')\n",
    "plt.legend(loc='upper right')\n",
    "plt.xlabel('Epochs')\n",
    "plt.ylabel('Loss, [mse]')\n",
    "plt.ylim([0,.05])\n",
    "plt.show()"
   ]
  },
  {
   "cell_type": "code",
   "execution_count": 15,
   "metadata": {},
   "outputs": [],
   "source": [
    "X_pred = model.predict(X_train)"
   ]
  },
  {
   "cell_type": "code",
   "execution_count": 16,
   "metadata": {},
   "outputs": [
    {
     "data": {
      "image/png": "[encoded data removed]",
      "text/plain": [
       "<Figure size 432x288 with 1 Axes>"
      ]
     },
     "metadata": {
      "needs_background": "light"
     },
     "output_type": "display_data"
    }
   ],
   "source": [
    "import seaborn as sns\n",
    "\n",
    "scored = np.mean(np.abs(X_pred-X_train), axis = 1)\n",
    "plt.figure()\n",
    "g = sns.distplot(scored, bins = 10, kde= True);\n",
    "#g.set(xlim=(0.05,0.10), ylim=(0, 1))\n",
    "plt.show()"
   ]
  },
  {
   "cell_type": "code",
   "execution_count": 17,
   "metadata": {},
   "outputs": [
    {
     "name": "stdout",
     "output_type": "stream",
     "text": [
      "72672/72672 [==============================] - 1s 13us/step\n"
     ]
    },
    {
     "data": {
      "text/plain": [
       "0.0005614973516065249"
      ]
     },
     "execution_count": 17,
     "metadata": {},
     "output_type": "execute_result"
    }
   ],
   "source": [
    "model.evaluate(X_test,X_test)"
   ]
  },
  {
   "cell_type": "code",
   "execution_count": 27,
   "metadata": {},
   "outputs": [
    {
     "data": {
      "text/html": [
       "<div>\n",
       "<style scoped>\n",
       "    .dataframe tbody tr th:only-of-type {\n",
       "        vertical-align: middle;\n",
       "    }\n",
       "\n",
       "    .dataframe tbody tr th {\n",
       "        vertical-align: top;\n",
       "    }\n",
       "\n",
       "    .dataframe thead th {\n",
       "        text-align: right;\n",
       "    }\n",
       "</style>\n",
       "<table border=\"1\" class=\"dataframe\">\n",
       "  <thead>\n",
       "    <tr style=\"text-align: right;\">\n",
       "      <th></th>\n",
       "      <th>Loss_mae</th>\n",
       "      <th>Threshold</th>\n",
       "      <th>Anomaly</th>\n",
       "    </tr>\n",
       "  </thead>\n",
       "  <tbody>\n",
       "    <tr>\n",
       "      <th>229699</th>\n",
       "      <td>0.000498</td>\n",
       "      <td>0.05</td>\n",
       "      <td>False</td>\n",
       "    </tr>\n",
       "    <tr>\n",
       "      <th>216927</th>\n",
       "      <td>0.016010</td>\n",
       "      <td>0.05</td>\n",
       "      <td>False</td>\n",
       "    </tr>\n",
       "    <tr>\n",
       "      <th>87741</th>\n",
       "      <td>0.020416</td>\n",
       "      <td>0.05</td>\n",
       "      <td>False</td>\n",
       "    </tr>\n",
       "    <tr>\n",
       "      <th>131468</th>\n",
       "      <td>0.012007</td>\n",
       "      <td>0.05</td>\n",
       "      <td>False</td>\n",
       "    </tr>\n",
       "    <tr>\n",
       "      <th>117462</th>\n",
       "      <td>0.011108</td>\n",
       "      <td>0.05</td>\n",
       "      <td>False</td>\n",
       "    </tr>\n",
       "    <tr>\n",
       "      <th>...</th>\n",
       "      <td>...</td>\n",
       "      <td>...</td>\n",
       "      <td>...</td>\n",
       "    </tr>\n",
       "    <tr>\n",
       "      <th>196281</th>\n",
       "      <td>0.021113</td>\n",
       "      <td>0.05</td>\n",
       "      <td>False</td>\n",
       "    </tr>\n",
       "    <tr>\n",
       "      <th>138549</th>\n",
       "      <td>0.019011</td>\n",
       "      <td>0.05</td>\n",
       "      <td>False</td>\n",
       "    </tr>\n",
       "    <tr>\n",
       "      <th>259408</th>\n",
       "      <td>0.005574</td>\n",
       "      <td>0.05</td>\n",
       "      <td>False</td>\n",
       "    </tr>\n",
       "    <tr>\n",
       "      <th>189005</th>\n",
       "      <td>0.017582</td>\n",
       "      <td>0.05</td>\n",
       "      <td>False</td>\n",
       "    </tr>\n",
       "    <tr>\n",
       "      <th>130900</th>\n",
       "      <td>0.012770</td>\n",
       "      <td>0.05</td>\n",
       "      <td>False</td>\n",
       "    </tr>\n",
       "  </tbody>\n",
       "</table>\n",
       "<p>100 rows × 3 columns</p>\n",
       "</div>"
      ],
      "text/plain": [
       "        Loss_mae  Threshold  Anomaly\n",
       "229699  0.000498       0.05    False\n",
       "216927  0.016010       0.05    False\n",
       "87741   0.020416       0.05    False\n",
       "131468  0.012007       0.05    False\n",
       "117462  0.011108       0.05    False\n",
       "...          ...        ...      ...\n",
       "196281  0.021113       0.05    False\n",
       "138549  0.019011       0.05    False\n",
       "259408  0.005574       0.05    False\n",
       "189005  0.017582       0.05    False\n",
       "130900  0.012770       0.05    False\n",
       "\n",
       "[100 rows x 3 columns]"
      ]
     },
     "execution_count": 27,
     "metadata": {},
     "output_type": "execute_result"
    }
   ],
   "source": [
    "TH = 0.05\n",
    "scored = pd.DataFrame()\n",
    "scored['Loss_mae'] = np.mean(np.abs(X_pred-X_train), axis = 1)\n",
    "scored['Threshold'] = TH\n",
    "scored['Anomaly'] = scored['Loss_mae'] > scored['Threshold']\n",
    "scored.sample(100)"
   ]
  },
  {
   "cell_type": "code",
   "execution_count": 28,
   "metadata": {},
   "outputs": [],
   "source": [
    "X_pred_train = model.predict(np.array(X_train))\n",
    "X_pred_train = pd.DataFrame(X_pred_train)\n",
    "\n",
    "scored_train = pd.DataFrame()\n",
    "scored_train['Loss_mae'] = np.mean(np.abs(X_pred_train-X_train), axis = 1)\n",
    "scored_train['Threshold'] = TH\n",
    "scored_train['Anomaly'] = scored_train['Loss_mae'] > scored_train['Threshold']\n",
    "scored = pd.concat([scored_train, scored])"
   ]
  },
  {
   "cell_type": "code",
   "execution_count": 29,
   "metadata": {},
   "outputs": [
    {
     "data": {
      "text/plain": [
       "0.014484186337563766"
      ]
     },
     "execution_count": 29,
     "metadata": {},
     "output_type": "execute_result"
    }
   ],
   "source": [
    "scored_train['Loss_mae'].mean()"
   ]
  },
  {
   "cell_type": "code",
   "execution_count": 30,
   "metadata": {},
   "outputs": [
    {
     "data": {
      "text/plain": [
       "<matplotlib.axes._subplots.AxesSubplot at 0x1fb1f139f08>"
      ]
     },
     "execution_count": 30,
     "metadata": {},
     "output_type": "execute_result"
    },
    {
     "data": {
      "image/png": "[encoded data removed]",
      "text/plain": [
       "<Figure size 720x432 with 1 Axes>"
      ]
     },
     "metadata": {
      "needs_background": "light"
     },
     "output_type": "display_data"
    }
   ],
   "source": [
    "scored.plot(logy=True,  figsize = (10,6), xlim =[0,5000])"
   ]
  },
  {
   "cell_type": "code",
   "execution_count": 31,
   "metadata": {},
   "outputs": [
    {
     "data": {
      "text/html": [
       "<div>\n",
       "<style scoped>\n",
       "    .dataframe tbody tr th:only-of-type {\n",
       "        vertical-align: middle;\n",
       "    }\n",
       "\n",
       "    .dataframe tbody tr th {\n",
       "        vertical-align: top;\n",
       "    }\n",
       "\n",
       "    .dataframe thead th {\n",
       "        text-align: right;\n",
       "    }\n",
       "</style>\n",
       "<table border=\"1\" class=\"dataframe\">\n",
       "  <thead>\n",
       "    <tr style=\"text-align: right;\">\n",
       "      <th></th>\n",
       "      <th>Loss_mae</th>\n",
       "      <th>Threshold</th>\n",
       "      <th>Anomaly</th>\n",
       "    </tr>\n",
       "  </thead>\n",
       "  <tbody>\n",
       "    <tr>\n",
       "      <th>0</th>\n",
       "      <td>0.021644</td>\n",
       "      <td>0.05</td>\n",
       "      <td>False</td>\n",
       "    </tr>\n",
       "    <tr>\n",
       "      <th>1</th>\n",
       "      <td>0.017465</td>\n",
       "      <td>0.05</td>\n",
       "      <td>False</td>\n",
       "    </tr>\n",
       "    <tr>\n",
       "      <th>2</th>\n",
       "      <td>0.015327</td>\n",
       "      <td>0.05</td>\n",
       "      <td>False</td>\n",
       "    </tr>\n",
       "    <tr>\n",
       "      <th>3</th>\n",
       "      <td>0.014188</td>\n",
       "      <td>0.05</td>\n",
       "      <td>False</td>\n",
       "    </tr>\n",
       "    <tr>\n",
       "      <th>4</th>\n",
       "      <td>0.018257</td>\n",
       "      <td>0.05</td>\n",
       "      <td>False</td>\n",
       "    </tr>\n",
       "    <tr>\n",
       "      <th>...</th>\n",
       "      <td>...</td>\n",
       "      <td>...</td>\n",
       "      <td>...</td>\n",
       "    </tr>\n",
       "    <tr>\n",
       "      <th>290683</th>\n",
       "      <td>0.000971</td>\n",
       "      <td>0.05</td>\n",
       "      <td>False</td>\n",
       "    </tr>\n",
       "    <tr>\n",
       "      <th>290684</th>\n",
       "      <td>0.000765</td>\n",
       "      <td>0.05</td>\n",
       "      <td>False</td>\n",
       "    </tr>\n",
       "    <tr>\n",
       "      <th>290685</th>\n",
       "      <td>0.004585</td>\n",
       "      <td>0.05</td>\n",
       "      <td>False</td>\n",
       "    </tr>\n",
       "    <tr>\n",
       "      <th>290686</th>\n",
       "      <td>0.007744</td>\n",
       "      <td>0.05</td>\n",
       "      <td>False</td>\n",
       "    </tr>\n",
       "    <tr>\n",
       "      <th>290687</th>\n",
       "      <td>0.006361</td>\n",
       "      <td>0.05</td>\n",
       "      <td>False</td>\n",
       "    </tr>\n",
       "  </tbody>\n",
       "</table>\n",
       "<p>290688 rows × 3 columns</p>\n",
       "</div>"
      ],
      "text/plain": [
       "        Loss_mae  Threshold  Anomaly\n",
       "0       0.021644       0.05    False\n",
       "1       0.017465       0.05    False\n",
       "2       0.015327       0.05    False\n",
       "3       0.014188       0.05    False\n",
       "4       0.018257       0.05    False\n",
       "...          ...        ...      ...\n",
       "290683  0.000971       0.05    False\n",
       "290684  0.000765       0.05    False\n",
       "290685  0.004585       0.05    False\n",
       "290686  0.007744       0.05    False\n",
       "290687  0.006361       0.05    False\n",
       "\n",
       "[290688 rows x 3 columns]"
      ]
     },
     "execution_count": 31,
     "metadata": {},
     "output_type": "execute_result"
    }
   ],
   "source": [
    "scored_train"
   ]
  },
  {
   "cell_type": "code",
   "execution_count": 32,
   "metadata": {},
   "outputs": [
    {
     "name": "stdout",
     "output_type": "stream",
     "text": [
      "        Loss_mae  Threshold  Anomaly\n",
      "96976   0.054978       0.05     True\n",
      "96978   0.053927       0.05     True\n",
      "97130   0.052231       0.05     True\n",
      "97358   0.052571       0.05     True\n",
      "97813   0.052853       0.05     True\n",
      "...          ...        ...      ...\n",
      "288802  0.051369       0.05     True\n",
      "289610  0.069372       0.05     True\n",
      "289628  0.050310       0.05     True\n",
      "290096  0.059419       0.05     True\n",
      "290445  0.050573       0.05     True\n",
      "\n",
      "[820 rows x 3 columns]\n",
      "(820, 3)\n"
     ]
    }
   ],
   "source": [
    "anomalies = scored_train[scored_train['Anomaly'] == True]\n",
    "print(anomalies)\n",
    "print(anomalies.shape)"
   ]
  },
  {
   "cell_type": "code",
   "execution_count": 33,
   "metadata": {},
   "outputs": [
    {
     "name": "stdout",
     "output_type": "stream",
     "text": [
      "Empty DataFrame\n",
      "Columns: [Loss_mae, Threshold, Anomaly]\n",
      "Index: []\n",
      "(0, 3)\n"
     ]
    }
   ],
   "source": [
    "NB_anomalies = anomalies[anomalies.index <= 96896]\n",
    "print(NB_anomalies)\n",
    "print(NB_anomalies.shape)"
   ]
  },
  {
   "cell_type": "code",
   "execution_count": 34,
   "metadata": {},
   "outputs": [
    {
     "name": "stdout",
     "output_type": "stream",
     "text": [
      "        Loss_mae  Threshold  Anomaly\n",
      "96976   0.054978       0.05     True\n",
      "96978   0.053927       0.05     True\n",
      "97130   0.052231       0.05     True\n",
      "97358   0.052571       0.05     True\n",
      "97813   0.052853       0.05     True\n",
      "...          ...        ...      ...\n",
      "288802  0.051369       0.05     True\n",
      "289610  0.069372       0.05     True\n",
      "289628  0.050310       0.05     True\n",
      "290096  0.059419       0.05     True\n",
      "290445  0.050573       0.05     True\n",
      "\n",
      "[820 rows x 3 columns]\n",
      "(820, 3)\n"
     ]
    }
   ],
   "source": [
    "IROR21_anomalies = anomalies[anomalies.index > 96896]\n",
    "print(IROR21_anomalies)\n",
    "print(IROR21_anomalies.shape)"
   ]
  },
  {
   "cell_type": "code",
   "execution_count": 35,
   "metadata": {},
   "outputs": [
    {
     "data": {
      "image/png": "[encoded data removed]",
      "text/plain": [
       "<Figure size 432x288 with 1 Axes>"
      ]
     },
     "metadata": {
      "needs_background": "light"
     },
     "output_type": "display_data"
    }
   ],
   "source": [
    "plt.plot(scored_train.index, scored_train.Loss_mae, label='Loss(MAE)');\n",
    "plt.plot(scored_train.index, scored_train.Threshold, label='Threshold')\n",
    "g = sns.scatterplot(x=anomalies.index , y=anomalies.Loss_mae, label='anomaly', color='red')\n",
    "g.set(xlim = (len(scored_train.index)-10000, len(scored_train.index)), ylim = (0, 0.2))\n",
    "plt.title('Anomalies in 0.021\"')\n",
    "plt.legend();"
   ]
  },
  {
   "cell_type": "code",
   "execution_count": null,
   "metadata": {},
   "outputs": [],
   "source": []
  }
 ],
 "metadata": {
  "kernelspec": {
   "display_name": "Python 3",
   "language": "python",
   "name": "python3"
  },
  "language_info": {
   "codemirror_mode": {
    "name": "ipython",
    "version": 3
   },
   "file_extension": ".py",
   "mimetype": "text/x-python",
   "name": "python",
   "nbconvert_exporter": "python",
   "pygments_lexer": "ipython3",
   "version": "3.7.4"
  }
 },
 "nbformat": 4,
 "nbformat_minor": 4
}
