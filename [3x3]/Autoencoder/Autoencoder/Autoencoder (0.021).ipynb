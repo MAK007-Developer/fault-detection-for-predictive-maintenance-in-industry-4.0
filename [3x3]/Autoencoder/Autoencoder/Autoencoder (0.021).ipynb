{
 "cells": [
  {
   "cell_type": "code",
   "execution_count": 1,
   "metadata": {},
   "outputs": [],
   "source": [
    "#importing packages\n",
    "import pandas as pd\n",
    "import numpy as np"
   ]
  },
  {
   "cell_type": "code",
   "execution_count": 2,
   "metadata": {},
   "outputs": [],
   "source": [
    "Dtrain = pd.read_csv(\"../CWRU Dataset-2-train.csv\")\n",
    "Dtest = pd.read_csv(\"../CWRU Dataset-2-test.csv\")"
   ]
  },
  {
   "cell_type": "code",
   "execution_count": 3,
   "metadata": {},
   "outputs": [
    {
     "name": "stdout",
     "output_type": "stream",
     "text": [
      "(290688, 4)\n",
      "(72672, 4)\n"
     ]
    }
   ],
   "source": [
    "print(Dtrain.shape)\n",
    "print(Dtest.shape)"
   ]
  },
  {
   "cell_type": "code",
   "execution_count": 4,
   "metadata": {},
   "outputs": [
    {
     "data": {
      "text/plain": [
       "Inner Race (0.021\")    96896\n",
       "Outer Race (0.021\")    96896\n",
       "Normal                 96896\n",
       "Name: Bearing, dtype: int64"
      ]
     },
     "execution_count": 4,
     "metadata": {},
     "output_type": "execute_result"
    }
   ],
   "source": [
    "Dtrain[\"Bearing\"].value_counts()"
   ]
  },
  {
   "cell_type": "code",
   "execution_count": 5,
   "metadata": {},
   "outputs": [
    {
     "data": {
      "text/plain": [
       "Inner Race (0.021\")    33.333333\n",
       "Outer Race (0.021\")    33.333333\n",
       "Normal                 33.333333\n",
       "Name: Bearing, dtype: float64"
      ]
     },
     "execution_count": 5,
     "metadata": {},
     "output_type": "execute_result"
    }
   ],
   "source": [
    "Dtrain[\"Bearing\"].value_counts(normalize=True)*100"
   ]
  },
  {
   "cell_type": "code",
   "execution_count": 6,
   "metadata": {},
   "outputs": [
    {
     "data": {
      "text/plain": [
       "Index(['Bearing', 'Fault Diameter', 'DE', 'FE'], dtype='object')"
      ]
     },
     "execution_count": 6,
     "metadata": {},
     "output_type": "execute_result"
    }
   ],
   "source": [
    "Dtest.columns"
   ]
  },
  {
   "cell_type": "code",
   "execution_count": 7,
   "metadata": {},
   "outputs": [],
   "source": [
    "from sklearn.preprocessing import LabelEncoder, OneHotEncoder\n",
    "from sklearn.compose import ColumnTransformer\n",
    "labelencoder_train = LabelEncoder()\n",
    "Dtrain[\"Bearing\"] = labelencoder_train.fit_transform(Dtrain[\"Bearing\"])\n",
    "ct = ColumnTransformer([(\"Bearing\", OneHotEncoder(), [0])],    remainder = 'passthrough')\n",
    "Dtrain = ct.fit_transform(Dtrain)"
   ]
  },
  {
   "cell_type": "code",
   "execution_count": 8,
   "metadata": {},
   "outputs": [
    {
     "name": "stdout",
     "output_type": "stream",
     "text": [
      "[[ 0.          1.          0.          0.         -0.04965046 -0.09635818]\n",
      " [ 0.          1.          0.          0.         -0.00438092 -0.11957455]\n",
      " [ 0.          1.          0.          0.         -0.00333785 -0.11258909]\n",
      " ...\n",
      " [ 0.          0.          1.          0.021      -0.2399979   0.29523818]\n",
      " [ 0.          0.          1.          0.021      -0.27410928  0.10067273]\n",
      " [ 0.          0.          1.          0.021       0.14578553  0.25353091]]\n"
     ]
    }
   ],
   "source": [
    "from sklearn.preprocessing import LabelEncoder, OneHotEncoder\n",
    "from sklearn.compose import ColumnTransformer\n",
    "labelencoder_train = LabelEncoder()\n",
    "Dtest[\"Bearing\"] = labelencoder_train.fit_transform(Dtest[\"Bearing\"])\n",
    "ct = ColumnTransformer([(\"Bearing\", OneHotEncoder(), [0])],    remainder = 'passthrough')\n",
    "Dtest = ct.fit_transform(Dtest)\n",
    "\n",
    "print(Dtest)"
   ]
  },
  {
   "cell_type": "code",
   "execution_count": 9,
   "metadata": {},
   "outputs": [],
   "source": [
    "from sklearn.preprocessing import MinMaxScaler\n",
    "scaler = MinMaxScaler()\n",
    "X_train = pd.DataFrame(scaler.fit_transform(Dtrain))\n",
    "# Random shuffle training data\n",
    "X_train.sample(frac=1)\n",
    "\n",
    "X_test = pd.DataFrame(scaler.transform(Dtest))"
   ]
  },
  {
   "cell_type": "code",
   "execution_count": 10,
   "metadata": {},
   "outputs": [
    {
     "name": "stderr",
     "output_type": "stream",
     "text": [
      "Using TensorFlow backend.\n"
     ]
    }
   ],
   "source": [
    "from keras.layers import Input, Dropout\n",
    "from keras.layers.core import Dense \n",
    "from keras.models import Model, Sequential, load_model\n",
    "from keras import regularizers"
   ]
  },
  {
   "cell_type": "code",
   "execution_count": 11,
   "metadata": {},
   "outputs": [],
   "source": [
    "import tensorflow as tf\n",
    "from numpy.random import seed\n",
    "seed(10)\n",
    "tf.random.set_seed(10)\n",
    "act_func = 'elu'"
   ]
  },
  {
   "cell_type": "code",
   "execution_count": 12,
   "metadata": {},
   "outputs": [
    {
     "name": "stdout",
     "output_type": "stream",
     "text": [
      "Model: \"sequential_1\"\n",
      "_________________________________________________________________\n",
      "Layer (type)                 Output Shape              Param #   \n",
      "=================================================================\n",
      "dense_1 (Dense)              (None, 32)                224       \n",
      "_________________________________________________________________\n",
      "dense_2 (Dense)              (None, 2)                 66        \n",
      "_________________________________________________________________\n",
      "dense_3 (Dense)              (None, 32)                96        \n",
      "_________________________________________________________________\n",
      "dense_4 (Dense)              (None, 6)                 198       \n",
      "=================================================================\n",
      "Total params: 584\n",
      "Trainable params: 584\n",
      "Non-trainable params: 0\n",
      "_________________________________________________________________\n"
     ]
    }
   ],
   "source": [
    "# Input layer:\n",
    "model=Sequential()\n",
    "# First hidden layer, connected to input vector X. \n",
    "model.add(Dense(32, activation=act_func,\n",
    "                kernel_initializer='glorot_uniform',\n",
    "                kernel_regularizer=regularizers.l2(0.0),\n",
    "                input_shape=(X_train.shape[1],)\n",
    "               )\n",
    "         )\n",
    "\n",
    "model.add(Dense(2, activation=act_func, kernel_initializer='glorot_uniform'))\n",
    "\n",
    "model.add(Dense(32, activation=act_func, kernel_initializer='glorot_uniform'))\n",
    "\n",
    "model.add(Dense(X_train.shape[1], kernel_initializer='glorot_uniform'))\n",
    "\n",
    "model.compile(loss='mse',optimizer='adam')\n",
    "\n",
    "# Train model for 100 epochs, batch size of 10: \n",
    "model.summary()"
   ]
  },
  {
   "cell_type": "code",
   "execution_count": 13,
   "metadata": {},
   "outputs": [
    {
     "name": "stdout",
     "output_type": "stream",
     "text": [
      "Train on 261619 samples, validate on 29069 samples\n",
      "Epoch 1/100\n",
      "261619/261619 [==============================] - 1s 3us/step - loss: 0.0569 - val_loss: 9.5369e-04\n",
      "Epoch 2/100\n",
      "261619/261619 [==============================] - 1s 2us/step - loss: 0.0508 - val_loss: 0.0013\n",
      "Epoch 3/100\n",
      "261619/261619 [==============================] - 1s 3us/step - loss: 0.0539 - val_loss: 8.0935e-04\n",
      "Epoch 4/100\n",
      "261619/261619 [==============================] - 1s 3us/step - loss: 0.0321 - val_loss: 9.2132e-04\n",
      "Epoch 5/100\n",
      "261619/261619 [==============================] - 1s 3us/step - loss: 0.0050 - val_loss: 8.1028e-04\n",
      "Epoch 6/100\n",
      "261619/261619 [==============================] - 1s 2us/step - loss: 9.4856e-04 - val_loss: 8.0931e-04\n",
      "Epoch 7/100\n",
      "261619/261619 [==============================] - 1s 2us/step - loss: 4.5281e-04 - val_loss: 7.9972e-04\n",
      "Epoch 8/100\n",
      "261619/261619 [==============================] - 1s 3us/step - loss: 4.2399e-04 - val_loss: 7.9465e-04\n",
      "Epoch 9/100\n",
      "261619/261619 [==============================] - 1s 3us/step - loss: 4.2068e-04 - val_loss: 7.8886e-04\n",
      "Epoch 10/100\n",
      "261619/261619 [==============================] - 1s 3us/step - loss: 4.1859e-04 - val_loss: 7.8280e-04\n",
      "Epoch 11/100\n",
      "261619/261619 [==============================] - 1s 3us/step - loss: 4.1667e-04 - val_loss: 7.7662e-04\n",
      "Epoch 12/100\n",
      "261619/261619 [==============================] - 1s 3us/step - loss: 4.1477e-04 - val_loss: 7.7044e-04\n",
      "Epoch 13/100\n",
      "261619/261619 [==============================] - 1s 2us/step - loss: 4.1279e-04 - val_loss: 7.6412e-04\n",
      "Epoch 14/100\n",
      "261619/261619 [==============================] - 1s 3us/step - loss: 4.1061e-04 - val_loss: 7.5782e-04\n",
      "Epoch 15/100\n",
      "261619/261619 [==============================] - 1s 3us/step - loss: 4.0856e-04 - val_loss: 7.5201e-04\n",
      "Epoch 16/100\n",
      "261619/261619 [==============================] - 1s 3us/step - loss: 4.0689e-04 - val_loss: 7.4651e-04\n",
      "Epoch 17/100\n",
      "261619/261619 [==============================] - 1s 3us/step - loss: 4.0545e-04 - val_loss: 7.4144e-04\n",
      "Epoch 18/100\n",
      "261619/261619 [==============================] - 1s 3us/step - loss: 4.0369e-04 - val_loss: 7.3665e-04\n",
      "Epoch 19/100\n",
      "261619/261619 [==============================] - 1s 2us/step - loss: 4.0193e-04 - val_loss: 7.3245e-04\n",
      "Epoch 20/100\n",
      "261619/261619 [==============================] - 1s 3us/step - loss: 4.0088e-04 - val_loss: 7.2872e-04\n",
      "Epoch 21/100\n",
      "261619/261619 [==============================] - 1s 3us/step - loss: 4.0035e-04 - val_loss: 7.2560e-04\n",
      "Epoch 22/100\n",
      "261619/261619 [==============================] - 1s 3us/step - loss: 3.9907e-04 - val_loss: 7.2266e-04\n",
      "Epoch 23/100\n",
      "261619/261619 [==============================] - 1s 3us/step - loss: 3.9807e-04 - val_loss: 7.2022e-04\n",
      "Epoch 24/100\n",
      "261619/261619 [==============================] - 1s 3us/step - loss: 3.9787e-04 - val_loss: 7.1814e-04\n",
      "Epoch 25/100\n",
      "261619/261619 [==============================] - 1s 3us/step - loss: 3.9807e-04 - val_loss: 7.1630e-04\n",
      "Epoch 26/100\n",
      "261619/261619 [==============================] - 1s 3us/step - loss: 3.9874e-04 - val_loss: 7.1478e-04\n",
      "Epoch 27/100\n",
      "261619/261619 [==============================] - 1s 3us/step - loss: 3.9936e-04 - val_loss: 7.1347e-04\n",
      "Epoch 28/100\n",
      "261619/261619 [==============================] - 1s 3us/step - loss: 4.0044e-04 - val_loss: 7.1233e-04\n",
      "Epoch 29/100\n",
      "261619/261619 [==============================] - 1s 3us/step - loss: 4.0176e-04 - val_loss: 7.1138e-04\n",
      "Epoch 30/100\n",
      "261619/261619 [==============================] - 1s 3us/step - loss: 4.0259e-04 - val_loss: 7.1060e-04\n",
      "Epoch 31/100\n",
      "261619/261619 [==============================] - 1s 3us/step - loss: 4.0373e-04 - val_loss: 7.0984e-04\n",
      "Epoch 32/100\n",
      "261619/261619 [==============================] - 1s 3us/step - loss: 4.0484e-04 - val_loss: 7.0918e-04\n",
      "Epoch 33/100\n",
      "261619/261619 [==============================] - 1s 3us/step - loss: 4.0653e-04 - val_loss: 7.0861e-04\n",
      "Epoch 34/100\n",
      "261619/261619 [==============================] - 1s 3us/step - loss: 4.0655e-04 - val_loss: 7.0806e-04\n",
      "Epoch 35/100\n",
      "261619/261619 [==============================] - 1s 3us/step - loss: 4.0634e-04 - val_loss: 7.0760e-04\n",
      "Epoch 36/100\n",
      "261619/261619 [==============================] - 1s 4us/step - loss: 4.0646e-04 - val_loss: 7.0716e-04\n",
      "Epoch 37/100\n",
      "261619/261619 [==============================] - 1s 3us/step - loss: 4.0585e-04 - val_loss: 7.0665e-04\n",
      "Epoch 38/100\n",
      "261619/261619 [==============================] - 1s 3us/step - loss: 4.0585e-04 - val_loss: 7.0614e-04\n",
      "Epoch 39/100\n",
      "261619/261619 [==============================] - 1s 4us/step - loss: 4.0635e-04 - val_loss: 7.0566e-04\n",
      "Epoch 40/100\n",
      "261619/261619 [==============================] - 1s 3us/step - loss: 4.0643e-04 - val_loss: 7.0513e-04\n",
      "Epoch 41/100\n",
      "261619/261619 [==============================] - 1s 3us/step - loss: 4.0618e-04 - val_loss: 7.0454e-04\n",
      "Epoch 42/100\n",
      "261619/261619 [==============================] - 1s 4us/step - loss: 4.0607e-04 - val_loss: 7.0392e-04\n",
      "Epoch 43/100\n",
      "261619/261619 [==============================] - 1s 3us/step - loss: 4.0607e-04 - val_loss: 7.0325e-04\n",
      "Epoch 44/100\n",
      "261619/261619 [==============================] - 1s 4us/step - loss: 4.0609e-04 - val_loss: 7.0255e-04\n",
      "Epoch 45/100\n",
      "261619/261619 [==============================] - 1s 3us/step - loss: 4.0613e-04 - val_loss: 7.0178e-04\n",
      "Epoch 46/100\n",
      "261619/261619 [==============================] - 1s 3us/step - loss: 4.0612e-04 - val_loss: 7.0095e-04\n",
      "Epoch 47/100\n",
      "261619/261619 [==============================] - 1s 3us/step - loss: 4.0615e-04 - val_loss: 7.0005e-04\n",
      "Epoch 48/100\n",
      "261619/261619 [==============================] - 1s 3us/step - loss: 4.0635e-04 - val_loss: 6.9909e-04\n",
      "Epoch 49/100\n",
      "261619/261619 [==============================] - 1s 3us/step - loss: 4.0674e-04 - val_loss: 6.9803e-04\n",
      "Epoch 50/100\n",
      "261619/261619 [==============================] - 1s 3us/step - loss: 4.0740e-04 - val_loss: 6.9688e-04\n",
      "Epoch 51/100\n",
      "261619/261619 [==============================] - 1s 3us/step - loss: 4.0781e-04 - val_loss: 6.9568e-04\n",
      "Epoch 52/100\n",
      "261619/261619 [==============================] - 1s 3us/step - loss: 4.0708e-04 - val_loss: 6.9441e-04\n",
      "Epoch 53/100\n",
      "261619/261619 [==============================] - 1s 3us/step - loss: 4.0710e-04 - val_loss: 6.9305e-04\n",
      "Epoch 54/100\n",
      "261619/261619 [==============================] - 1s 3us/step - loss: 4.0718e-04 - val_loss: 6.9155e-04\n",
      "Epoch 55/100\n",
      "261619/261619 [==============================] - 1s 3us/step - loss: 4.0739e-04 - val_loss: 6.8990e-04\n",
      "Epoch 56/100\n",
      "261619/261619 [==============================] - 1s 3us/step - loss: 4.0781e-04 - val_loss: 6.8811e-04\n",
      "Epoch 57/100\n",
      "261619/261619 [==============================] - 1s 3us/step - loss: 4.0780e-04 - val_loss: 6.8615e-04\n",
      "Epoch 58/100\n",
      "261619/261619 [==============================] - 1s 3us/step - loss: 4.0710e-04 - val_loss: 6.8399e-04\n",
      "Epoch 59/100\n",
      "261619/261619 [==============================] - 1s 3us/step - loss: 4.0653e-04 - val_loss: 6.8155e-04\n",
      "Epoch 60/100\n",
      "261619/261619 [==============================] - 1s 3us/step - loss: 4.0650e-04 - val_loss: 6.7879e-04\n",
      "Epoch 61/100\n",
      "261619/261619 [==============================] - 1s 2us/step - loss: 4.0667e-04 - val_loss: 6.7568e-04\n",
      "Epoch 62/100\n",
      "261619/261619 [==============================] - 1s 3us/step - loss: 4.0727e-04 - val_loss: 6.7225e-04\n",
      "Epoch 63/100\n",
      "261619/261619 [==============================] - 1s 3us/step - loss: 4.0745e-04 - val_loss: 6.6845e-04\n",
      "Epoch 64/100\n",
      "261619/261619 [==============================] - 1s 3us/step - loss: 4.0667e-04 - val_loss: 6.6418e-04\n",
      "Epoch 65/100\n",
      "261619/261619 [==============================] - 1s 3us/step - loss: 4.0606e-04 - val_loss: 6.5935e-04\n",
      "Epoch 66/100\n",
      "261619/261619 [==============================] - 1s 3us/step - loss: 4.0633e-04 - val_loss: 6.5400e-04\n",
      "Epoch 67/100\n",
      "261619/261619 [==============================] - 1s 3us/step - loss: 4.0642e-04 - val_loss: 6.4811e-04\n",
      "Epoch 68/100\n",
      "261619/261619 [==============================] - 1s 3us/step - loss: 4.0601e-04 - val_loss: 6.4162e-04\n",
      "Epoch 69/100\n",
      "261619/261619 [==============================] - 1s 3us/step - loss: 4.0505e-04 - val_loss: 6.3432e-04\n",
      "Epoch 70/100\n",
      "261619/261619 [==============================] - 1s 3us/step - loss: 4.0477e-04 - val_loss: 6.2628e-04\n",
      "Epoch 71/100\n"
     ]
    },
    {
     "name": "stdout",
     "output_type": "stream",
     "text": [
      "261619/261619 [==============================] - 1s 3us/step - loss: 4.0390e-04 - val_loss: 6.1742e-04\n",
      "Epoch 72/100\n",
      "261619/261619 [==============================] - 1s 3us/step - loss: 4.0333e-04 - val_loss: 6.0769e-04\n",
      "Epoch 73/100\n",
      "261619/261619 [==============================] - 1s 3us/step - loss: 4.0081e-04 - val_loss: 5.9690e-04\n",
      "Epoch 74/100\n",
      "261619/261619 [==============================] - 1s 3us/step - loss: 3.9872e-04 - val_loss: 5.8493e-04\n",
      "Epoch 75/100\n",
      "261619/261619 [==============================] - 1s 3us/step - loss: 3.9844e-04 - val_loss: 5.7212e-04\n",
      "Epoch 76/100\n",
      "261619/261619 [==============================] - 1s 3us/step - loss: 3.9792e-04 - val_loss: 5.5892e-04\n",
      "Epoch 77/100\n",
      "261619/261619 [==============================] - 1s 2us/step - loss: 3.9552e-04 - val_loss: 5.4524e-04\n",
      "Epoch 78/100\n",
      "261619/261619 [==============================] - 1s 3us/step - loss: 3.8930e-04 - val_loss: 5.3070e-04\n",
      "Epoch 79/100\n",
      "261619/261619 [==============================] - 1s 3us/step - loss: 3.8414e-04 - val_loss: 5.1517e-04\n",
      "Epoch 80/100\n",
      "261619/261619 [==============================] - 1s 3us/step - loss: 3.7975e-04 - val_loss: 4.9923e-04\n",
      "Epoch 81/100\n",
      "261619/261619 [==============================] - 1s 3us/step - loss: 3.7473e-04 - val_loss: 4.8308e-04\n",
      "Epoch 82/100\n",
      "261619/261619 [==============================] - 1s 3us/step - loss: 3.6884e-04 - val_loss: 4.6706e-04\n",
      "Epoch 83/100\n",
      "261619/261619 [==============================] - 1s 3us/step - loss: 3.6244e-04 - val_loss: 4.5159e-04\n",
      "Epoch 84/100\n",
      "261619/261619 [==============================] - 1s 3us/step - loss: 3.5418e-04 - val_loss: 4.3696e-04\n",
      "Epoch 85/100\n",
      "261619/261619 [==============================] - 1s 3us/step - loss: 3.4632e-04 - val_loss: 4.2342e-04\n",
      "Epoch 86/100\n",
      "261619/261619 [==============================] - 1s 2us/step - loss: 3.3818e-04 - val_loss: 4.1112e-04\n",
      "Epoch 87/100\n",
      "261619/261619 [==============================] - 1s 3us/step - loss: 3.2997e-04 - val_loss: 4.0020e-04\n",
      "Epoch 88/100\n",
      "261619/261619 [==============================] - 1s 3us/step - loss: 3.2202e-04 - val_loss: 3.9070e-04\n",
      "Epoch 89/100\n",
      "261619/261619 [==============================] - 1s 3us/step - loss: 3.1420e-04 - val_loss: 3.8254e-04\n",
      "Epoch 90/100\n",
      "261619/261619 [==============================] - 1s 3us/step - loss: 3.0628e-04 - val_loss: 3.7535e-04\n",
      "Epoch 91/100\n",
      "261619/261619 [==============================] - 1s 3us/step - loss: 2.9837e-04 - val_loss: 3.6907e-04\n",
      "Epoch 92/100\n",
      "261619/261619 [==============================] - 1s 3us/step - loss: 2.9254e-04 - val_loss: 3.6392e-04\n",
      "Epoch 93/100\n",
      "261619/261619 [==============================] - 1s 3us/step - loss: 2.8961e-04 - val_loss: 3.5972e-04\n",
      "Epoch 94/100\n",
      "261619/261619 [==============================] - 1s 2us/step - loss: 2.8501e-04 - val_loss: 3.5596e-04\n",
      "Epoch 95/100\n",
      "261619/261619 [==============================] - 1s 3us/step - loss: 2.7902e-04 - val_loss: 3.5279e-04\n",
      "Epoch 96/100\n",
      "261619/261619 [==============================] - 1s 3us/step - loss: 2.7292e-04 - val_loss: 3.4991e-04\n",
      "Epoch 97/100\n",
      "261619/261619 [==============================] - 1s 3us/step - loss: 2.6805e-04 - val_loss: 3.4711e-04\n",
      "Epoch 98/100\n",
      "261619/261619 [==============================] - 1s 3us/step - loss: 2.6595e-04 - val_loss: 3.4461e-04\n",
      "Epoch 99/100\n",
      "261619/261619 [==============================] - 1s 2us/step - loss: 2.6352e-04 - val_loss: 3.4234e-04\n",
      "Epoch 100/100\n",
      "261619/261619 [==============================] - 1s 3us/step - loss: 2.5962e-04 - val_loss: 3.4032e-04\n"
     ]
    }
   ],
   "source": [
    "NUM_EPOCHS=100\n",
    "BATCH_SIZE=1000\n",
    "history=model.fit(X_train,X_train, \n",
    "                  batch_size=BATCH_SIZE, \n",
    "                  epochs=NUM_EPOCHS,\n",
    "                  validation_split=0.1,\n",
    "                  verbose = 1,\n",
    "                  shuffle = False)"
   ]
  },
  {
   "cell_type": "code",
   "execution_count": 14,
   "metadata": {},
   "outputs": [
    {
     "data": {
      "image/png": "[encoded data removed]",
      "text/plain": [
       "<Figure size 432x288 with 1 Axes>"
      ]
     },
     "metadata": {
      "needs_background": "light"
     },
     "output_type": "display_data"
    }
   ],
   "source": [
    "import matplotlib.pyplot as plt\n",
    "\n",
    "plt.plot(history.history['loss'], 'b', label='Training loss')\n",
    "plt.plot(history.history['val_loss'], 'r', label='Validation loss')\n",
    "plt.legend(loc='upper right')\n",
    "plt.xlabel('Epochs')\n",
    "plt.ylabel('Loss, [mse]')\n",
    "plt.ylim([0,.05])\n",
    "plt.show()"
   ]
  },
  {
   "cell_type": "code",
   "execution_count": 15,
   "metadata": {},
   "outputs": [],
   "source": [
    "X_pred = model.predict(X_train)"
   ]
  },
  {
   "cell_type": "code",
   "execution_count": 16,
   "metadata": {},
   "outputs": [
    {
     "data": {
      "image/png": "[encoded data removed]",
      "text/plain": [
       "<Figure size 432x288 with 1 Axes>"
      ]
     },
     "metadata": {
      "needs_background": "light"
     },
     "output_type": "display_data"
    }
   ],
   "source": [
    "import seaborn as sns\n",
    "\n",
    "scored = np.mean(np.abs(X_pred-X_train), axis = 1)\n",
    "plt.figure()\n",
    "g = sns.distplot(scored, bins = 10, kde= True);\n",
    "#g.set(xlim=(0.05,0.10), ylim=(0, 1))\n",
    "plt.show()"
   ]
  },
  {
   "cell_type": "code",
   "execution_count": 17,
   "metadata": {},
   "outputs": [
    {
     "name": "stdout",
     "output_type": "stream",
     "text": [
      "72672/72672 [==============================] - 1s 11us/step\n"
     ]
    },
    {
     "data": {
      "text/plain": [
       "0.0005609289730168377"
      ]
     },
     "execution_count": 17,
     "metadata": {},
     "output_type": "execute_result"
    }
   ],
   "source": [
    "model.evaluate(X_test,X_test)"
   ]
  },
  {
   "cell_type": "code",
   "execution_count": 18,
   "metadata": {},
   "outputs": [
    {
     "data": {
      "text/html": [
       "<div>\n",
       "<style scoped>\n",
       "    .dataframe tbody tr th:only-of-type {\n",
       "        vertical-align: middle;\n",
       "    }\n",
       "\n",
       "    .dataframe tbody tr th {\n",
       "        vertical-align: top;\n",
       "    }\n",
       "\n",
       "    .dataframe thead th {\n",
       "        text-align: right;\n",
       "    }\n",
       "</style>\n",
       "<table border=\"1\" class=\"dataframe\">\n",
       "  <thead>\n",
       "    <tr style=\"text-align: right;\">\n",
       "      <th></th>\n",
       "      <th>Loss_mae</th>\n",
       "      <th>Threshold</th>\n",
       "      <th>Anomaly</th>\n",
       "    </tr>\n",
       "  </thead>\n",
       "  <tbody>\n",
       "    <tr>\n",
       "      <th>65958</th>\n",
       "      <td>0.026070</td>\n",
       "      <td>0.06</td>\n",
       "      <td>False</td>\n",
       "    </tr>\n",
       "    <tr>\n",
       "      <th>83348</th>\n",
       "      <td>0.023678</td>\n",
       "      <td>0.06</td>\n",
       "      <td>False</td>\n",
       "    </tr>\n",
       "    <tr>\n",
       "      <th>279712</th>\n",
       "      <td>0.002223</td>\n",
       "      <td>0.06</td>\n",
       "      <td>False</td>\n",
       "    </tr>\n",
       "    <tr>\n",
       "      <th>91137</th>\n",
       "      <td>0.025955</td>\n",
       "      <td>0.06</td>\n",
       "      <td>False</td>\n",
       "    </tr>\n",
       "    <tr>\n",
       "      <th>197927</th>\n",
       "      <td>0.049145</td>\n",
       "      <td>0.06</td>\n",
       "      <td>False</td>\n",
       "    </tr>\n",
       "    <tr>\n",
       "      <th>...</th>\n",
       "      <td>...</td>\n",
       "      <td>...</td>\n",
       "      <td>...</td>\n",
       "    </tr>\n",
       "    <tr>\n",
       "      <th>44600</th>\n",
       "      <td>0.027751</td>\n",
       "      <td>0.06</td>\n",
       "      <td>False</td>\n",
       "    </tr>\n",
       "    <tr>\n",
       "      <th>107983</th>\n",
       "      <td>0.008458</td>\n",
       "      <td>0.06</td>\n",
       "      <td>False</td>\n",
       "    </tr>\n",
       "    <tr>\n",
       "      <th>20271</th>\n",
       "      <td>0.023635</td>\n",
       "      <td>0.06</td>\n",
       "      <td>False</td>\n",
       "    </tr>\n",
       "    <tr>\n",
       "      <th>98452</th>\n",
       "      <td>0.008847</td>\n",
       "      <td>0.06</td>\n",
       "      <td>False</td>\n",
       "    </tr>\n",
       "    <tr>\n",
       "      <th>38189</th>\n",
       "      <td>0.019792</td>\n",
       "      <td>0.06</td>\n",
       "      <td>False</td>\n",
       "    </tr>\n",
       "  </tbody>\n",
       "</table>\n",
       "<p>100 rows × 3 columns</p>\n",
       "</div>"
      ],
      "text/plain": [
       "        Loss_mae  Threshold  Anomaly\n",
       "65958   0.026070       0.06    False\n",
       "83348   0.023678       0.06    False\n",
       "279712  0.002223       0.06    False\n",
       "91137   0.025955       0.06    False\n",
       "197927  0.049145       0.06    False\n",
       "...          ...        ...      ...\n",
       "44600   0.027751       0.06    False\n",
       "107983  0.008458       0.06    False\n",
       "20271   0.023635       0.06    False\n",
       "98452   0.008847       0.06    False\n",
       "38189   0.019792       0.06    False\n",
       "\n",
       "[100 rows x 3 columns]"
      ]
     },
     "execution_count": 18,
     "metadata": {},
     "output_type": "execute_result"
    }
   ],
   "source": [
    "TH = 0.06\n",
    "scored = pd.DataFrame()\n",
    "scored['Loss_mae'] = np.mean(np.abs(X_pred-X_train), axis = 1)\n",
    "scored['Threshold'] = TH\n",
    "scored['Anomaly'] = scored['Loss_mae'] > scored['Threshold']\n",
    "scored.sample(100)"
   ]
  },
  {
   "cell_type": "code",
   "execution_count": 19,
   "metadata": {},
   "outputs": [],
   "source": [
    "X_pred_train = model.predict(np.array(X_train))\n",
    "X_pred_train = pd.DataFrame(X_pred_train)\n",
    "\n",
    "scored_train = pd.DataFrame()\n",
    "scored_train['Loss_mae'] = np.mean(np.abs(X_pred_train-X_train), axis = 1)\n",
    "scored_train['Threshold'] = TH\n",
    "scored_train['Anomaly'] = scored_train['Loss_mae'] > scored_train['Threshold']\n",
    "scored = pd.concat([scored_train, scored])"
   ]
  },
  {
   "cell_type": "code",
   "execution_count": 20,
   "metadata": {},
   "outputs": [
    {
     "data": {
      "text/plain": [
       "0.014469563785348444"
      ]
     },
     "execution_count": 20,
     "metadata": {},
     "output_type": "execute_result"
    }
   ],
   "source": [
    "scored_train['Loss_mae'].mean()"
   ]
  },
  {
   "cell_type": "code",
   "execution_count": 21,
   "metadata": {},
   "outputs": [
    {
     "data": {
      "text/plain": [
       "<matplotlib.axes._subplots.AxesSubplot at 0x1e937104648>"
      ]
     },
     "execution_count": 21,
     "metadata": {},
     "output_type": "execute_result"
    },
    {
     "data": {
      "image/png": "[encoded data removed]",
      "text/plain": [
       "<Figure size 720x432 with 1 Axes>"
      ]
     },
     "metadata": {
      "needs_background": "light"
     },
     "output_type": "display_data"
    }
   ],
   "source": [
    "scored.plot(logy=True,  figsize = (10,6), xlim =[0,5000])"
   ]
  },
  {
   "cell_type": "code",
   "execution_count": 22,
   "metadata": {},
   "outputs": [
    {
     "data": {
      "text/html": [
       "<div>\n",
       "<style scoped>\n",
       "    .dataframe tbody tr th:only-of-type {\n",
       "        vertical-align: middle;\n",
       "    }\n",
       "\n",
       "    .dataframe tbody tr th {\n",
       "        vertical-align: top;\n",
       "    }\n",
       "\n",
       "    .dataframe thead th {\n",
       "        text-align: right;\n",
       "    }\n",
       "</style>\n",
       "<table border=\"1\" class=\"dataframe\">\n",
       "  <thead>\n",
       "    <tr style=\"text-align: right;\">\n",
       "      <th></th>\n",
       "      <th>Loss_mae</th>\n",
       "      <th>Threshold</th>\n",
       "      <th>Anomaly</th>\n",
       "    </tr>\n",
       "  </thead>\n",
       "  <tbody>\n",
       "    <tr>\n",
       "      <th>0</th>\n",
       "      <td>0.021651</td>\n",
       "      <td>0.06</td>\n",
       "      <td>False</td>\n",
       "    </tr>\n",
       "    <tr>\n",
       "      <th>1</th>\n",
       "      <td>0.017471</td>\n",
       "      <td>0.06</td>\n",
       "      <td>False</td>\n",
       "    </tr>\n",
       "    <tr>\n",
       "      <th>2</th>\n",
       "      <td>0.015326</td>\n",
       "      <td>0.06</td>\n",
       "      <td>False</td>\n",
       "    </tr>\n",
       "    <tr>\n",
       "      <th>3</th>\n",
       "      <td>0.014174</td>\n",
       "      <td>0.06</td>\n",
       "      <td>False</td>\n",
       "    </tr>\n",
       "    <tr>\n",
       "      <th>4</th>\n",
       "      <td>0.018264</td>\n",
       "      <td>0.06</td>\n",
       "      <td>False</td>\n",
       "    </tr>\n",
       "    <tr>\n",
       "      <th>...</th>\n",
       "      <td>...</td>\n",
       "      <td>...</td>\n",
       "      <td>...</td>\n",
       "    </tr>\n",
       "    <tr>\n",
       "      <th>290683</th>\n",
       "      <td>0.000957</td>\n",
       "      <td>0.06</td>\n",
       "      <td>False</td>\n",
       "    </tr>\n",
       "    <tr>\n",
       "      <th>290684</th>\n",
       "      <td>0.000765</td>\n",
       "      <td>0.06</td>\n",
       "      <td>False</td>\n",
       "    </tr>\n",
       "    <tr>\n",
       "      <th>290685</th>\n",
       "      <td>0.004587</td>\n",
       "      <td>0.06</td>\n",
       "      <td>False</td>\n",
       "    </tr>\n",
       "    <tr>\n",
       "      <th>290686</th>\n",
       "      <td>0.007754</td>\n",
       "      <td>0.06</td>\n",
       "      <td>False</td>\n",
       "    </tr>\n",
       "    <tr>\n",
       "      <th>290687</th>\n",
       "      <td>0.006370</td>\n",
       "      <td>0.06</td>\n",
       "      <td>False</td>\n",
       "    </tr>\n",
       "  </tbody>\n",
       "</table>\n",
       "<p>290688 rows × 3 columns</p>\n",
       "</div>"
      ],
      "text/plain": [
       "        Loss_mae  Threshold  Anomaly\n",
       "0       0.021651       0.06    False\n",
       "1       0.017471       0.06    False\n",
       "2       0.015326       0.06    False\n",
       "3       0.014174       0.06    False\n",
       "4       0.018264       0.06    False\n",
       "...          ...        ...      ...\n",
       "290683  0.000957       0.06    False\n",
       "290684  0.000765       0.06    False\n",
       "290685  0.004587       0.06    False\n",
       "290686  0.007754       0.06    False\n",
       "290687  0.006370       0.06    False\n",
       "\n",
       "[290688 rows x 3 columns]"
      ]
     },
     "execution_count": 22,
     "metadata": {},
     "output_type": "execute_result"
    }
   ],
   "source": [
    "scored_train"
   ]
  },
  {
   "cell_type": "code",
   "execution_count": 23,
   "metadata": {},
   "outputs": [
    {
     "name": "stdout",
     "output_type": "stream",
     "text": [
      "        Loss_mae  Threshold  Anomaly\n",
      "103138  0.065689       0.06     True\n",
      "106027  0.060987       0.06     True\n",
      "108079  0.061434       0.06     True\n",
      "126556  0.061652       0.06     True\n",
      "132717  0.061900       0.06     True\n",
      "...          ...        ...      ...\n",
      "287981  0.071908       0.06     True\n",
      "288792  0.069270       0.06     True\n",
      "288796  0.091857       0.06     True\n",
      "288798  0.069023       0.06     True\n",
      "289610  0.069372       0.06     True\n",
      "\n",
      "[316 rows x 3 columns]\n",
      "(316, 3)\n"
     ]
    }
   ],
   "source": [
    "anomalies = scored_train[scored_train['Anomaly'] == True]\n",
    "print(anomalies)\n",
    "print(anomalies.shape)"
   ]
  },
  {
   "cell_type": "code",
   "execution_count": 24,
   "metadata": {},
   "outputs": [
    {
     "name": "stdout",
     "output_type": "stream",
     "text": [
      "Empty DataFrame\n",
      "Columns: [Loss_mae, Threshold, Anomaly]\n",
      "Index: []\n",
      "(0, 3)\n"
     ]
    }
   ],
   "source": [
    "NB_anomalies = anomalies[anomalies.index <= 96896]\n",
    "print(NB_anomalies)\n",
    "print(NB_anomalies.shape)"
   ]
  },
  {
   "cell_type": "code",
   "execution_count": 25,
   "metadata": {},
   "outputs": [
    {
     "name": "stdout",
     "output_type": "stream",
     "text": [
      "        Loss_mae  Threshold  Anomaly\n",
      "103138  0.065689       0.06     True\n",
      "106027  0.060987       0.06     True\n",
      "108079  0.061434       0.06     True\n",
      "126556  0.061652       0.06     True\n",
      "132717  0.061900       0.06     True\n",
      "...          ...        ...      ...\n",
      "287981  0.071908       0.06     True\n",
      "288792  0.069270       0.06     True\n",
      "288796  0.091857       0.06     True\n",
      "288798  0.069023       0.06     True\n",
      "289610  0.069372       0.06     True\n",
      "\n",
      "[316 rows x 3 columns]\n",
      "(316, 3)\n"
     ]
    }
   ],
   "source": [
    "IROR21_anomalies = anomalies[anomalies.index > 96896]\n",
    "print(IROR21_anomalies)\n",
    "print(IROR21_anomalies.shape)"
   ]
  },
  {
   "cell_type": "code",
   "execution_count": 26,
   "metadata": {},
   "outputs": [
    {
     "data": {
      "image/png": "[encoded data removed]",
      "text/plain": [
       "<Figure size 432x288 with 1 Axes>"
      ]
     },
     "metadata": {
      "needs_background": "light"
     },
     "output_type": "display_data"
    }
   ],
   "source": [
    "plt.plot(scored_train.index, scored_train.Loss_mae, label='Loss(MAE)');\n",
    "plt.plot(scored_train.index, scored_train.Threshold, label='Threshold')\n",
    "g = sns.scatterplot(x=anomalies.index , y=anomalies.Loss_mae, label='anomaly', color='red')\n",
    "g.set(xlim = (len(scored_train.index)-10000, len(scored_train.index)), ylim = (0, 0.2))\n",
    "plt.title('Anomalies in 0.021\"')\n",
    "plt.legend();"
   ]
  }
 ],
 "metadata": {
  "kernelspec": {
   "display_name": "Python 3",
   "language": "python",
   "name": "python3"
  },
  "language_info": {
   "codemirror_mode": {
    "name": "ipython",
    "version": 3
   },
   "file_extension": ".py",
   "mimetype": "text/x-python",
   "name": "python",
   "nbconvert_exporter": "python",
   "pygments_lexer": "ipython3",
   "version": "3.7.4"
  }
 },
 "nbformat": 4,
 "nbformat_minor": 4
}
