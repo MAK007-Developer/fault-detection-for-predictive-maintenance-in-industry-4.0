{
 "cells": [
  {
   "cell_type": "code",
   "execution_count": 1,
   "metadata": {},
   "outputs": [],
   "source": [
    "#importing packages\n",
    "import pandas as pd\n",
    "import numpy as np"
   ]
  },
  {
   "cell_type": "code",
   "execution_count": 2,
   "metadata": {},
   "outputs": [],
   "source": [
    "Dtrain = pd.read_csv(\"CWRU Dataset-2-train.csv\")\n",
    "#Dtrain = Dtrain.iloc[:,0:4].values\n",
    "Dtest = pd.read_csv(\"CWRU Dataset-2-test.csv\")"
   ]
  },
  {
   "cell_type": "code",
   "execution_count": 3,
   "metadata": {},
   "outputs": [
    {
     "data": {
      "text/plain": [
       "Inner Race (0.021\")    96896\n",
       "Outer Race (0.021\")    96896\n",
       "Normal                 96896\n",
       "Name: Bearing, dtype: int64"
      ]
     },
     "execution_count": 3,
     "metadata": {},
     "output_type": "execute_result"
    }
   ],
   "source": [
    "Dtrain[\"Bearing\"].value_counts()"
   ]
  },
  {
   "cell_type": "code",
   "execution_count": 4,
   "metadata": {},
   "outputs": [
    {
     "data": {
      "text/plain": [
       "Inner Race (0.021\")    33.333333\n",
       "Outer Race (0.021\")    33.333333\n",
       "Normal                 33.333333\n",
       "Name: Bearing, dtype: float64"
      ]
     },
     "execution_count": 4,
     "metadata": {},
     "output_type": "execute_result"
    }
   ],
   "source": [
    "Dtrain[\"Bearing\"].value_counts(normalize=True)*100"
   ]
  },
  {
   "cell_type": "code",
   "execution_count": 5,
   "metadata": {},
   "outputs": [
    {
     "data": {
      "text/plain": [
       "Index(['Bearing', 'Fault Diameter', 'DE', 'FE'], dtype='object')"
      ]
     },
     "execution_count": 5,
     "metadata": {},
     "output_type": "execute_result"
    }
   ],
   "source": [
    "Dtest.columns"
   ]
  },
  {
   "cell_type": "code",
   "execution_count": 6,
   "metadata": {},
   "outputs": [],
   "source": [
    "from sklearn.preprocessing import LabelEncoder, OneHotEncoder\n",
    "from sklearn.compose import ColumnTransformer\n",
    "labelencoder_train = LabelEncoder()\n",
    "Dtrain[\"Bearing\"] = labelencoder_train.fit_transform(Dtrain[\"Bearing\"])\n",
    "ct = ColumnTransformer([(\"Bearing\", OneHotEncoder(), [0])],    remainder = 'passthrough')\n",
    "Dtrain = ct.fit_transform(Dtrain)"
   ]
  },
  {
   "cell_type": "code",
   "execution_count": 7,
   "metadata": {},
   "outputs": [],
   "source": [
    "from sklearn.preprocessing import LabelEncoder, OneHotEncoder\n",
    "from sklearn.compose import ColumnTransformer\n",
    "labelencoder_train = LabelEncoder()\n",
    "Dtest[\"Bearing\"] = labelencoder_train.fit_transform(Dtest[\"Bearing\"])\n",
    "ct = ColumnTransformer([(\"Bearing\", OneHotEncoder(), [0])],    remainder = 'passthrough')\n",
    "Dtest = ct.fit_transform(Dtest)"
   ]
  },
  {
   "cell_type": "code",
   "execution_count": 8,
   "metadata": {},
   "outputs": [],
   "source": [
    "from sklearn.preprocessing import MinMaxScaler\n",
    "scaler = MinMaxScaler()\n",
    "X_train = pd.DataFrame(scaler.fit_transform(Dtrain))\n",
    "# Random shuffle training data\n",
    "X_train.sample(frac=1)\n",
    "\n",
    "X_test = pd.DataFrame(scaler.transform(Dtest))\n",
    "\n"
   ]
  },
  {
   "cell_type": "code",
   "execution_count": 9,
   "metadata": {},
   "outputs": [
    {
     "name": "stderr",
     "output_type": "stream",
     "text": [
      "Using TensorFlow backend.\n"
     ]
    }
   ],
   "source": [
    "from keras.layers import Input, Dropout\n",
    "from keras.layers.core import Dense \n",
    "from keras.models import Model, Sequential, load_model\n",
    "from keras import regularizers"
   ]
  },
  {
   "cell_type": "code",
   "execution_count": 10,
   "metadata": {},
   "outputs": [],
   "source": [
    "import tensorflow as tf\n",
    "from numpy.random import seed\n",
    "seed(10)\n",
    "tf.random.set_seed(10)\n",
    "act_func = 'elu'"
   ]
  },
  {
   "cell_type": "code",
   "execution_count": 11,
   "metadata": {},
   "outputs": [],
   "source": [
    "# Input layer:\n",
    "model=Sequential()\n",
    "# First hidden layer, connected to input vector X. \n",
    "model.add(Dense(6,activation=act_func,\n",
    "                kernel_initializer='glorot_uniform',\n",
    "                kernel_regularizer=regularizers.l2(0.0),\n",
    "                input_shape=(X_train.shape[1],)\n",
    "               )\n",
    "         )\n",
    "\n",
    "model.add(Dense(3,activation=act_func,\n",
    "                kernel_initializer='glorot_uniform'))\n",
    "\n",
    "model.add(Dense(6,activation=act_func,\n",
    "                kernel_initializer='glorot_uniform'))\n",
    "\n",
    "model.add(Dense(X_train.shape[1],\n",
    "                kernel_initializer='glorot_uniform'))\n",
    "\n",
    "model.compile(loss='mse',optimizer='adam', metrics=['accuracy'] )\n",
    "\n",
    "# Train model for 100 epochs, batch size of 10: \n",
    "NUM_EPOCHS=100\n",
    "BATCH_SIZE=100"
   ]
  },
  {
   "cell_type": "code",
   "execution_count": 12,
   "metadata": {},
   "outputs": [
    {
     "name": "stdout",
     "output_type": "stream",
     "text": [
      "Train on 276153 samples, validate on 14535 samples\n",
      "Epoch 1/100\n",
      "276153/276153 [==============================] - 11s 41us/step - loss: 0.0164 - accuracy: 0.6172 - val_loss: 6.9827e-04 - val_accuracy: 0.2429\n",
      "Epoch 2/100\n",
      "276153/276153 [==============================] - 10s 36us/step - loss: 4.5081e-04 - accuracy: 0.6450 - val_loss: 6.1118e-04 - val_accuracy: 0.8952\n",
      "Epoch 3/100\n",
      "276153/276153 [==============================] - 10s 37us/step - loss: 3.6839e-04 - accuracy: 0.6771 - val_loss: 5.1928e-04 - val_accuracy: 0.1727\n",
      "Epoch 4/100\n",
      "276153/276153 [==============================] - 10s 37us/step - loss: 2.8239e-04 - accuracy: 0.6684 - val_loss: 3.6221e-04 - val_accuracy: 0.1814\n",
      "Epoch 5/100\n",
      "276153/276153 [==============================] - 10s 36us/step - loss: 1.9077e-04 - accuracy: 0.6680 - val_loss: 2.0192e-04 - val_accuracy: 0.4237\n",
      "Epoch 6/100\n",
      "276153/276153 [==============================] - 10s 35us/step - loss: 9.3067e-05 - accuracy: 0.6713 - val_loss: 6.3612e-05 - val_accuracy: 0.4094\n",
      "Epoch 7/100\n",
      "276153/276153 [==============================] - 10s 36us/step - loss: 3.6646e-05 - accuracy: 0.6637 - val_loss: 2.6614e-05 - val_accuracy: 0.1002\n",
      "Epoch 8/100\n",
      "276153/276153 [==============================] - 10s 35us/step - loss: 2.0214e-05 - accuracy: 0.6645 - val_loss: 1.6381e-05 - val_accuracy: 0.3302\n",
      "Epoch 9/100\n",
      "276153/276153 [==============================] - 10s 35us/step - loss: 1.4819e-05 - accuracy: 0.6696 - val_loss: 1.2484e-05 - val_accuracy: 0.3246\n",
      "Epoch 10/100\n",
      "276153/276153 [==============================] - 9s 34us/step - loss: 1.2257e-05 - accuracy: 0.6717 - val_loss: 1.0523e-05 - val_accuracy: 0.6485\n",
      "Epoch 11/100\n",
      "276153/276153 [==============================] - 10s 35us/step - loss: 1.0692e-05 - accuracy: 0.6718 - val_loss: 1.0570e-05 - val_accuracy: 0.4286\n",
      "Epoch 12/100\n",
      "276153/276153 [==============================] - 10s 36us/step - loss: 9.5964e-06 - accuracy: 0.6723 - val_loss: 9.3981e-06 - val_accuracy: 0.5104\n",
      "Epoch 13/100\n",
      "276153/276153 [==============================] - 10s 37us/step - loss: 8.7165e-06 - accuracy: 0.6721 - val_loss: 7.9150e-06 - val_accuracy: 0.6330\n",
      "Epoch 14/100\n",
      "276153/276153 [==============================] - 10s 36us/step - loss: 8.0418e-06 - accuracy: 0.6729 - val_loss: 7.2365e-06 - val_accuracy: 0.5439\n",
      "Epoch 15/100\n",
      "276153/276153 [==============================] - 10s 35us/step - loss: 7.3817e-06 - accuracy: 0.6735 - val_loss: 7.6038e-06 - val_accuracy: 0.5408\n",
      "Epoch 16/100\n",
      "276153/276153 [==============================] - 10s 35us/step - loss: 6.9628e-06 - accuracy: 0.6737 - val_loss: 7.6601e-06 - val_accuracy: 0.7245\n",
      "Epoch 17/100\n",
      "276153/276153 [==============================] - 10s 36us/step - loss: 6.5137e-06 - accuracy: 0.6733 - val_loss: 5.8209e-06 - val_accuracy: 0.3767\n",
      "Epoch 18/100\n",
      "276153/276153 [==============================] - 10s 35us/step - loss: 6.1368e-06 - accuracy: 0.6736 - val_loss: 5.4680e-06 - val_accuracy: 0.3068\n",
      "Epoch 19/100\n",
      "276153/276153 [==============================] - 10s 35us/step - loss: 5.7778e-06 - accuracy: 0.6736 - val_loss: 4.9999e-06 - val_accuracy: 0.4682\n",
      "Epoch 20/100\n",
      "276153/276153 [==============================] - 10s 37us/step - loss: 5.4579e-06 - accuracy: 0.6735 - val_loss: 4.8852e-06 - val_accuracy: 0.2279\n",
      "Epoch 21/100\n",
      "276153/276153 [==============================] - 10s 37us/step - loss: 5.2176e-06 - accuracy: 0.6741 - val_loss: 4.6537e-06 - val_accuracy: 0.5918\n",
      "Epoch 22/100\n",
      "276153/276153 [==============================] - 10s 36us/step - loss: 4.9370e-06 - accuracy: 0.6740 - val_loss: 4.1899e-06 - val_accuracy: 0.4613\n",
      "Epoch 23/100\n",
      "276153/276153 [==============================] - 10s 36us/step - loss: 4.6675e-06 - accuracy: 0.6740 - val_loss: 4.1860e-06 - val_accuracy: 0.4990\n",
      "Epoch 24/100\n",
      "276153/276153 [==============================] - 10s 36us/step - loss: 4.5048e-06 - accuracy: 0.6741 - val_loss: 3.6958e-06 - val_accuracy: 0.5076\n",
      "Epoch 25/100\n",
      "276153/276153 [==============================] - 10s 36us/step - loss: 4.2872e-06 - accuracy: 0.6748 - val_loss: 3.8653e-06 - val_accuracy: 0.5773\n",
      "Epoch 26/100\n",
      "276153/276153 [==============================] - 10s 37us/step - loss: 4.1077e-06 - accuracy: 0.6743 - val_loss: 3.2762e-06 - val_accuracy: 0.6491\n",
      "Epoch 27/100\n",
      "276153/276153 [==============================] - 10s 36us/step - loss: 3.9578e-06 - accuracy: 0.6740 - val_loss: 3.4417e-06 - val_accuracy: 0.7538\n",
      "Epoch 28/100\n",
      "276153/276153 [==============================] - 10s 36us/step - loss: 3.7815e-06 - accuracy: 0.6730 - val_loss: 3.1568e-06 - val_accuracy: 0.7210\n",
      "Epoch 29/100\n",
      "276153/276153 [==============================] - 10s 36us/step - loss: 3.6227e-06 - accuracy: 0.6736 - val_loss: 2.7208e-06 - val_accuracy: 0.6118\n",
      "Epoch 30/100\n",
      "276153/276153 [==============================] - 10s 35us/step - loss: 3.4521e-06 - accuracy: 0.6723 - val_loss: 3.9095e-06 - val_accuracy: 0.3724\n",
      "Epoch 31/100\n",
      "276153/276153 [==============================] - 10s 37us/step - loss: 3.3643e-06 - accuracy: 0.6727 - val_loss: 4.1775e-06 - val_accuracy: 0.3500\n",
      "Epoch 32/100\n",
      "276153/276153 [==============================] - 10s 36us/step - loss: 3.2845e-06 - accuracy: 0.6725 - val_loss: 2.4093e-06 - val_accuracy: 0.6270\n",
      "Epoch 33/100\n",
      "276153/276153 [==============================] - 10s 36us/step - loss: 3.1659e-06 - accuracy: 0.6736 - val_loss: 2.5600e-06 - val_accuracy: 0.5765\n",
      "Epoch 34/100\n",
      "276153/276153 [==============================] - 10s 36us/step - loss: 3.0502e-06 - accuracy: 0.6725 - val_loss: 2.7475e-06 - val_accuracy: 0.6166\n",
      "Epoch 35/100\n",
      "276153/276153 [==============================] - 10s 37us/step - loss: 2.9988e-06 - accuracy: 0.6725 - val_loss: 3.2672e-06 - val_accuracy: 0.1853\n",
      "Epoch 36/100\n",
      "276153/276153 [==============================] - 10s 36us/step - loss: 2.8763e-06 - accuracy: 0.6721 - val_loss: 1.9513e-06 - val_accuracy: 0.2311\n",
      "Epoch 37/100\n",
      "276153/276153 [==============================] - 10s 35us/step - loss: 2.7599e-06 - accuracy: 0.6718 - val_loss: 2.1722e-06 - val_accuracy: 0.2955\n",
      "Epoch 38/100\n",
      "276153/276153 [==============================] - 10s 37us/step - loss: 2.7383e-06 - accuracy: 0.6718 - val_loss: 1.7787e-06 - val_accuracy: 0.8451\n",
      "Epoch 39/100\n",
      "276153/276153 [==============================] - 11s 39us/step - loss: 2.5338e-06 - accuracy: 0.6717 - val_loss: 2.4666e-06 - val_accuracy: 0.4690\n",
      "Epoch 40/100\n",
      "276153/276153 [==============================] - 10s 37us/step - loss: 2.5807e-06 - accuracy: 0.6715 - val_loss: 1.9130e-06 - val_accuracy: 0.8577\n",
      "Epoch 41/100\n",
      "276153/276153 [==============================] - 10s 37us/step - loss: 2.4893e-06 - accuracy: 0.6722 - val_loss: 3.1318e-06 - val_accuracy: 0.2120\n",
      "Epoch 42/100\n",
      "276153/276153 [==============================] - 10s 36us/step - loss: 2.4047e-06 - accuracy: 0.6705 - val_loss: 1.5103e-06 - val_accuracy: 0.8621\n",
      "Epoch 43/100\n",
      "276153/276153 [==============================] - 10s 35us/step - loss: 2.3280e-06 - accuracy: 0.6713 - val_loss: 1.5584e-06 - val_accuracy: 0.2193\n",
      "Epoch 44/100\n",
      "276153/276153 [==============================] - 10s 37us/step - loss: 2.3026e-06 - accuracy: 0.6713 - val_loss: 1.4524e-06 - val_accuracy: 0.6989\n",
      "Epoch 45/100\n",
      "276153/276153 [==============================] - 10s 36us/step - loss: 2.3297e-06 - accuracy: 0.6708 - val_loss: 1.3153e-06 - val_accuracy: 0.3862\n",
      "Epoch 46/100\n",
      "276153/276153 [==============================] - 10s 36us/step - loss: 2.1670e-06 - accuracy: 0.6713 - val_loss: 1.6079e-06 - val_accuracy: 0.6594\n",
      "Epoch 47/100\n",
      "276153/276153 [==============================] - 10s 38us/step - loss: 2.1913e-06 - accuracy: 0.6704 - val_loss: 2.3448e-06 - val_accuracy: 0.9307\n",
      "Epoch 48/100\n",
      "276153/276153 [==============================] - 10s 36us/step - loss: 2.0837e-06 - accuracy: 0.6698 - val_loss: 1.3606e-06 - val_accuracy: 0.8948\n",
      "Epoch 49/100\n",
      "276153/276153 [==============================] - 10s 36us/step - loss: 2.1323e-06 - accuracy: 0.6699 - val_loss: 1.8251e-06 - val_accuracy: 0.4030\n",
      "Epoch 50/100\n",
      "276153/276153 [==============================] - 10s 35us/step - loss: 2.0212e-06 - accuracy: 0.6705 - val_loss: 1.2854e-06 - val_accuracy: 0.2251\n",
      "Epoch 51/100\n",
      "276153/276153 [==============================] - 10s 36us/step - loss: 1.9738e-06 - accuracy: 0.6693 - val_loss: 1.2071e-06 - val_accuracy: 0.7631\n"
     ]
    },
    {
     "name": "stdout",
     "output_type": "stream",
     "text": [
      "Epoch 52/100\n",
      "276153/276153 [==============================] - 10s 35us/step - loss: 1.9968e-06 - accuracy: 0.6698 - val_loss: 1.4076e-06 - val_accuracy: 0.9079\n",
      "Epoch 53/100\n",
      "276153/276153 [==============================] - 10s 36us/step - loss: 1.8550e-06 - accuracy: 0.6696 - val_loss: 1.2120e-06 - val_accuracy: 0.0710\n",
      "Epoch 54/100\n",
      "276153/276153 [==============================] - 10s 36us/step - loss: 1.9076e-06 - accuracy: 0.6705 - val_loss: 1.0491e-06 - val_accuracy: 0.2894\n",
      "Epoch 55/100\n",
      "276153/276153 [==============================] - 10s 37us/step - loss: 1.8297e-06 - accuracy: 0.6697 - val_loss: 1.2061e-06 - val_accuracy: 0.8910\n",
      "Epoch 56/100\n",
      "276153/276153 [==============================] - 10s 36us/step - loss: 1.8491e-06 - accuracy: 0.6688 - val_loss: 1.0786e-06 - val_accuracy: 0.0965\n",
      "Epoch 57/100\n",
      "276153/276153 [==============================] - 11s 39us/step - loss: 1.7932e-06 - accuracy: 0.6688 - val_loss: 1.0695e-06 - val_accuracy: 0.9288\n",
      "Epoch 58/100\n",
      "276153/276153 [==============================] - 10s 37us/step - loss: 1.7708e-06 - accuracy: 0.6673 - val_loss: 9.8390e-07 - val_accuracy: 0.8083\n",
      "Epoch 59/100\n",
      "276153/276153 [==============================] - 10s 38us/step - loss: 1.8031e-06 - accuracy: 0.6688 - val_loss: 1.2095e-06 - val_accuracy: 0.9197\n",
      "Epoch 60/100\n",
      "276153/276153 [==============================] - 10s 36us/step - loss: 1.6555e-06 - accuracy: 0.6689 - val_loss: 1.4206e-06 - val_accuracy: 0.6241\n",
      "Epoch 61/100\n",
      "276153/276153 [==============================] - 10s 37us/step - loss: 1.6936e-06 - accuracy: 0.6700 - val_loss: 9.5631e-07 - val_accuracy: 0.1051\n",
      "Epoch 62/100\n",
      "276153/276153 [==============================] - 10s 36us/step - loss: 1.6943e-06 - accuracy: 0.6685 - val_loss: 1.3921e-06 - val_accuracy: 0.9033\n",
      "Epoch 63/100\n",
      "276153/276153 [==============================] - 10s 37us/step - loss: 1.7057e-06 - accuracy: 0.6683 - val_loss: 1.1401e-06 - val_accuracy: 0.0742\n",
      "Epoch 64/100\n",
      "276153/276153 [==============================] - 10s 35us/step - loss: 1.5573e-06 - accuracy: 0.6669 - val_loss: 8.1602e-07 - val_accuracy: 0.8611\n",
      "Epoch 65/100\n",
      "276153/276153 [==============================] - 10s 36us/step - loss: 1.6968e-06 - accuracy: 0.6697 - val_loss: 9.4581e-07 - val_accuracy: 0.0969\n",
      "Epoch 66/100\n",
      "276153/276153 [==============================] - 10s 36us/step - loss: 1.5827e-06 - accuracy: 0.6677 - val_loss: 8.1894e-07 - val_accuracy: 0.0878\n",
      "Epoch 67/100\n",
      "276153/276153 [==============================] - 9s 32us/step - loss: 1.6348e-06 - accuracy: 0.6682 - val_loss: 8.7797e-07 - val_accuracy: 0.5381\n",
      "Epoch 68/100\n",
      "276153/276153 [==============================] - 6s 23us/step - loss: 1.6666e-06 - accuracy: 0.6670 - val_loss: 8.9239e-07 - val_accuracy: 0.2082\n",
      "Epoch 69/100\n",
      "276153/276153 [==============================] - 7s 26us/step - loss: 1.6029e-06 - accuracy: 0.6664 - val_loss: 1.1625e-06 - val_accuracy: 0.1300\n",
      "Epoch 70/100\n",
      "276153/276153 [==============================] - 7s 26us/step - loss: 1.5513e-06 - accuracy: 0.6659 - val_loss: 7.9369e-07 - val_accuracy: 0.3608\n",
      "Epoch 71/100\n",
      "276153/276153 [==============================] - 8s 28us/step - loss: 1.5436e-06 - accuracy: 0.6662 - val_loss: 2.3123e-06 - val_accuracy: 0.1225\n",
      "Epoch 72/100\n",
      "276153/276153 [==============================] - 6s 23us/step - loss: 1.4756e-06 - accuracy: 0.6657 - val_loss: 8.8812e-07 - val_accuracy: 0.9783\n",
      "Epoch 73/100\n",
      "276153/276153 [==============================] - 5s 17us/step - loss: 1.4944e-06 - accuracy: 0.6662 - val_loss: 7.7462e-07 - val_accuracy: 0.7161\n",
      "Epoch 74/100\n",
      "276153/276153 [==============================] - 5s 17us/step - loss: 1.4488e-06 - accuracy: 0.6655 - val_loss: 7.6474e-07 - val_accuracy: 0.1117\n",
      "Epoch 75/100\n",
      "276153/276153 [==============================] - 5s 17us/step - loss: 1.5693e-06 - accuracy: 0.6654 - val_loss: 1.0516e-06 - val_accuracy: 0.1373\n",
      "Epoch 76/100\n",
      "276153/276153 [==============================] - 5s 16us/step - loss: 1.4099e-06 - accuracy: 0.6673 - val_loss: 1.6935e-06 - val_accuracy: 0.8805\n",
      "Epoch 77/100\n",
      "276153/276153 [==============================] - 5s 16us/step - loss: 1.4380e-06 - accuracy: 0.6664 - val_loss: 1.1083e-06 - val_accuracy: 0.9735\n",
      "Epoch 78/100\n",
      "276153/276153 [==============================] - 5s 17us/step - loss: 1.4017e-06 - accuracy: 0.6658 - val_loss: 8.8805e-07 - val_accuracy: 0.9726\n",
      "Epoch 79/100\n",
      "276153/276153 [==============================] - 5s 17us/step - loss: 1.3734e-06 - accuracy: 0.6654 - val_loss: 8.3799e-07 - val_accuracy: 0.9683\n",
      "Epoch 80/100\n",
      "276153/276153 [==============================] - 4s 16us/step - loss: 1.3911e-06 - accuracy: 0.6653 - val_loss: 8.6329e-07 - val_accuracy: 0.8939\n",
      "Epoch 81/100\n",
      "276153/276153 [==============================] - 4s 15us/step - loss: 1.3144e-06 - accuracy: 0.6668 - val_loss: 8.2714e-07 - val_accuracy: 0.9767\n",
      "Epoch 82/100\n",
      "276153/276153 [==============================] - 4s 16us/step - loss: 1.3586e-06 - accuracy: 0.6657 - val_loss: 1.2383e-06 - val_accuracy: 0.9573\n",
      "Epoch 83/100\n",
      "276153/276153 [==============================] - 4s 15us/step - loss: 1.3160e-06 - accuracy: 0.6673 - val_loss: 8.6376e-07 - val_accuracy: 0.1322\n",
      "Epoch 84/100\n",
      "276153/276153 [==============================] - 4s 16us/step - loss: 1.4117e-06 - accuracy: 0.6656 - val_loss: 1.2619e-06 - val_accuracy: 0.9849\n",
      "Epoch 85/100\n",
      "276153/276153 [==============================] - 4s 16us/step - loss: 1.2898e-06 - accuracy: 0.6668 - val_loss: 1.7953e-06 - val_accuracy: 0.9725\n",
      "Epoch 86/100\n",
      "276153/276153 [==============================] - 4s 16us/step - loss: 1.3311e-06 - accuracy: 0.6633 - val_loss: 6.7183e-07 - val_accuracy: 0.0839\n",
      "Epoch 87/100\n",
      "276153/276153 [==============================] - 4s 16us/step - loss: 1.2972e-06 - accuracy: 0.6641 - val_loss: 9.3995e-07 - val_accuracy: 0.2122\n",
      "Epoch 88/100\n",
      "276153/276153 [==============================] - 4s 16us/step - loss: 1.2625e-06 - accuracy: 0.6651 - val_loss: 7.2911e-07 - val_accuracy: 0.4425\n",
      "Epoch 89/100\n",
      "276153/276153 [==============================] - 4s 16us/step - loss: 1.3089e-06 - accuracy: 0.6615 - val_loss: 6.6589e-07 - val_accuracy: 0.0779\n",
      "Epoch 90/100\n",
      "276153/276153 [==============================] - 4s 16us/step - loss: 1.2212e-06 - accuracy: 0.6641 - val_loss: 7.6276e-07 - val_accuracy: 0.0319\n",
      "Epoch 91/100\n",
      "276153/276153 [==============================] - 4s 16us/step - loss: 1.2958e-06 - accuracy: 0.6643 - val_loss: 6.9047e-07 - val_accuracy: 0.0636\n",
      "Epoch 92/100\n",
      "276153/276153 [==============================] - 4s 16us/step - loss: 1.2984e-06 - accuracy: 0.6660 - val_loss: 7.7485e-07 - val_accuracy: 0.2073\n",
      "Epoch 93/100\n",
      "276153/276153 [==============================] - 4s 16us/step - loss: 1.1951e-06 - accuracy: 0.6647 - val_loss: 1.9597e-06 - val_accuracy: 0.4313\n",
      "Epoch 94/100\n",
      "276153/276153 [==============================] - 4s 16us/step - loss: 1.2422e-06 - accuracy: 0.6656 - val_loss: 9.5607e-07 - val_accuracy: 0.0705\n",
      "Epoch 95/100\n",
      "276153/276153 [==============================] - 4s 16us/step - loss: 1.2271e-06 - accuracy: 0.6636 - val_loss: 8.2682e-07 - val_accuracy: 0.0395\n",
      "Epoch 96/100\n",
      "276153/276153 [==============================] - 4s 16us/step - loss: 1.2760e-06 - accuracy: 0.6642 - val_loss: 6.7508e-07 - val_accuracy: 0.0454\n",
      "Epoch 97/100\n",
      "276153/276153 [==============================] - 4s 16us/step - loss: 1.1770e-06 - accuracy: 0.6652 - val_loss: 7.5274e-07 - val_accuracy: 0.0814\n",
      "Epoch 98/100\n",
      "276153/276153 [==============================] - 5s 16us/step - loss: 1.1933e-06 - accuracy: 0.6640 - val_loss: 6.3520e-07 - val_accuracy: 0.1088\n",
      "Epoch 99/100\n",
      "276153/276153 [==============================] - 5s 16us/step - loss: 1.2350e-06 - accuracy: 0.6632 - val_loss: 1.0443e-06 - val_accuracy: 0.9720\n",
      "Epoch 100/100\n",
      "276153/276153 [==============================] - 4s 16us/step - loss: 1.1718e-06 - accuracy: 0.6650 - val_loss: 6.9619e-07 - val_accuracy: 0.6691\n"
     ]
    }
   ],
   "source": [
    "history=model.fit(np.array(X_train),np.array(X_train),\n",
    "                  batch_size=BATCH_SIZE, \n",
    "                  epochs=NUM_EPOCHS,\n",
    "                  validation_split=0.05,\n",
    "                  verbose = 1)"
   ]
  },
  {
   "cell_type": "code",
   "execution_count": 13,
   "metadata": {},
   "outputs": [
    {
     "data": {
      "image/png": "[encoded data removed]",
      "text/plain": [
       "<Figure size 432x288 with 1 Axes>"
      ]
     },
     "metadata": {
      "needs_background": "light"
     },
     "output_type": "display_data"
    }
   ],
   "source": [
    "import matplotlib.pyplot as plt\n",
    "\n",
    "plt.plot(history.history['loss'], 'b', label='Training loss')\n",
    "plt.plot(history.history['val_loss'], 'r', label='Validation loss')\n",
    "plt.legend(loc='upper right')\n",
    "plt.xlabel('Epochs')\n",
    "plt.ylabel('Loss, [mse]')\n",
    "plt.ylim([0,.05])\n",
    "plt.show()"
   ]
  },
  {
   "cell_type": "code",
   "execution_count": 14,
   "metadata": {},
   "outputs": [
    {
     "data": {
      "image/png": "[encoded data removed]",
      "text/plain": [
       "<Figure size 432x288 with 1 Axes>"
      ]
     },
     "metadata": {
      "needs_background": "light"
     },
     "output_type": "display_data"
    }
   ],
   "source": [
    "X_pred = model.predict(np.array(X_train))\n",
    "\n",
    "import seaborn as sns\n",
    "\n",
    "scored = np.mean(np.abs(X_pred-X_train), axis = 1)\n",
    "plt.figure()\n",
    "sns.distplot(scored, bins = 10, kde= True, color = 'blue');\n",
    "plt.xlim([0.0,.02])\n",
    "plt.show()"
   ]
  },
  {
   "cell_type": "code",
   "execution_count": 15,
   "metadata": {},
   "outputs": [
    {
     "data": {
      "text/html": [
       "<div>\n",
       "<style scoped>\n",
       "    .dataframe tbody tr th:only-of-type {\n",
       "        vertical-align: middle;\n",
       "    }\n",
       "\n",
       "    .dataframe tbody tr th {\n",
       "        vertical-align: top;\n",
       "    }\n",
       "\n",
       "    .dataframe thead th {\n",
       "        text-align: right;\n",
       "    }\n",
       "</style>\n",
       "<table border=\"1\" class=\"dataframe\">\n",
       "  <thead>\n",
       "    <tr style=\"text-align: right;\">\n",
       "      <th></th>\n",
       "      <th>Loss_mae</th>\n",
       "      <th>Threshold</th>\n",
       "      <th>Anomaly</th>\n",
       "    </tr>\n",
       "  </thead>\n",
       "  <tbody>\n",
       "    <tr>\n",
       "      <th>69919</th>\n",
       "      <td>0.000196</td>\n",
       "      <td>0.003</td>\n",
       "      <td>False</td>\n",
       "    </tr>\n",
       "    <tr>\n",
       "      <th>32811</th>\n",
       "      <td>0.000432</td>\n",
       "      <td>0.003</td>\n",
       "      <td>False</td>\n",
       "    </tr>\n",
       "    <tr>\n",
       "      <th>18961</th>\n",
       "      <td>0.000514</td>\n",
       "      <td>0.003</td>\n",
       "      <td>False</td>\n",
       "    </tr>\n",
       "    <tr>\n",
       "      <th>30513</th>\n",
       "      <td>0.000586</td>\n",
       "      <td>0.003</td>\n",
       "      <td>False</td>\n",
       "    </tr>\n",
       "    <tr>\n",
       "      <th>65853</th>\n",
       "      <td>0.000207</td>\n",
       "      <td>0.003</td>\n",
       "      <td>False</td>\n",
       "    </tr>\n",
       "    <tr>\n",
       "      <th>...</th>\n",
       "      <td>...</td>\n",
       "      <td>...</td>\n",
       "      <td>...</td>\n",
       "    </tr>\n",
       "    <tr>\n",
       "      <th>14862</th>\n",
       "      <td>0.001458</td>\n",
       "      <td>0.003</td>\n",
       "      <td>False</td>\n",
       "    </tr>\n",
       "    <tr>\n",
       "      <th>72657</th>\n",
       "      <td>0.000385</td>\n",
       "      <td>0.003</td>\n",
       "      <td>False</td>\n",
       "    </tr>\n",
       "    <tr>\n",
       "      <th>40723</th>\n",
       "      <td>0.000631</td>\n",
       "      <td>0.003</td>\n",
       "      <td>False</td>\n",
       "    </tr>\n",
       "    <tr>\n",
       "      <th>2675</th>\n",
       "      <td>0.000901</td>\n",
       "      <td>0.003</td>\n",
       "      <td>False</td>\n",
       "    </tr>\n",
       "    <tr>\n",
       "      <th>17700</th>\n",
       "      <td>0.000719</td>\n",
       "      <td>0.003</td>\n",
       "      <td>False</td>\n",
       "    </tr>\n",
       "  </tbody>\n",
       "</table>\n",
       "<p>100 rows × 3 columns</p>\n",
       "</div>"
      ],
      "text/plain": [
       "       Loss_mae  Threshold  Anomaly\n",
       "69919  0.000196      0.003    False\n",
       "32811  0.000432      0.003    False\n",
       "18961  0.000514      0.003    False\n",
       "30513  0.000586      0.003    False\n",
       "65853  0.000207      0.003    False\n",
       "...         ...        ...      ...\n",
       "14862  0.001458      0.003    False\n",
       "72657  0.000385      0.003    False\n",
       "40723  0.000631      0.003    False\n",
       "2675   0.000901      0.003    False\n",
       "17700  0.000719      0.003    False\n",
       "\n",
       "[100 rows x 3 columns]"
      ]
     },
     "execution_count": 15,
     "metadata": {},
     "output_type": "execute_result"
    }
   ],
   "source": [
    "X_pred = model.predict(np.array(X_test))\n",
    "\n",
    "scored = pd.DataFrame()\n",
    "scored['Loss_mae'] = np.mean(np.abs(X_pred-X_test), axis = 1)\n",
    "scored['Threshold'] = 0.003\n",
    "scored['Anomaly'] = scored['Loss_mae'] > scored['Threshold']\n",
    "scored.sample(100)"
   ]
  },
  {
   "cell_type": "code",
   "execution_count": 16,
   "metadata": {},
   "outputs": [],
   "source": [
    "X_pred_train = model.predict(np.array(X_train))\n",
    "X_pred_train = pd.DataFrame(X_pred_train)\n",
    "\n",
    "scored_train = pd.DataFrame()\n",
    "scored_train['Loss_mae'] = np.mean(np.abs(X_pred_train-X_train), axis = 1)\n",
    "scored_train['Threshold'] = 0.003\n",
    "scored_train['Anomaly'] = scored_train['Loss_mae'] > scored_train['Threshold']\n",
    "scored = pd.concat([scored_train, scored])"
   ]
  },
  {
   "cell_type": "code",
   "execution_count": 17,
   "metadata": {},
   "outputs": [
    {
     "data": {
      "text/plain": [
       "<matplotlib.axes._subplots.AxesSubplot at 0x2005497f588>"
      ]
     },
     "execution_count": 17,
     "metadata": {},
     "output_type": "execute_result"
    },
    {
     "data": {
      "image/png": "[encoded data removed]",
      "text/plain": [
       "<Figure size 720x432 with 1 Axes>"
      ]
     },
     "metadata": {
      "needs_background": "light"
     },
     "output_type": "display_data"
    }
   ],
   "source": [
    "scored.plot(logy=True,  figsize = (10,6), xlim =[0,1000], ylim = [1e-4,1e-1], color = ['blue','red'])"
   ]
  },
  {
   "cell_type": "code",
   "execution_count": 18,
   "metadata": {},
   "outputs": [
    {
     "data": {
      "text/plain": [
       "0.0006257301342748262"
      ]
     },
     "execution_count": 18,
     "metadata": {},
     "output_type": "execute_result"
    }
   ],
   "source": [
    "scored_train['Loss_mae'].mean()"
   ]
  },
  {
   "cell_type": "code",
   "execution_count": 19,
   "metadata": {},
   "outputs": [
    {
     "data": {
      "text/html": [
       "<div>\n",
       "<style scoped>\n",
       "    .dataframe tbody tr th:only-of-type {\n",
       "        vertical-align: middle;\n",
       "    }\n",
       "\n",
       "    .dataframe tbody tr th {\n",
       "        vertical-align: top;\n",
       "    }\n",
       "\n",
       "    .dataframe thead th {\n",
       "        text-align: right;\n",
       "    }\n",
       "</style>\n",
       "<table border=\"1\" class=\"dataframe\">\n",
       "  <thead>\n",
       "    <tr style=\"text-align: right;\">\n",
       "      <th></th>\n",
       "      <th>Loss_mae</th>\n",
       "      <th>Threshold</th>\n",
       "      <th>Anomaly</th>\n",
       "    </tr>\n",
       "  </thead>\n",
       "  <tbody>\n",
       "    <tr>\n",
       "      <th>0</th>\n",
       "      <td>0.001331</td>\n",
       "      <td>0.003</td>\n",
       "      <td>False</td>\n",
       "    </tr>\n",
       "    <tr>\n",
       "      <th>1</th>\n",
       "      <td>0.001598</td>\n",
       "      <td>0.003</td>\n",
       "      <td>False</td>\n",
       "    </tr>\n",
       "    <tr>\n",
       "      <th>2</th>\n",
       "      <td>0.001045</td>\n",
       "      <td>0.003</td>\n",
       "      <td>False</td>\n",
       "    </tr>\n",
       "    <tr>\n",
       "      <th>3</th>\n",
       "      <td>0.000812</td>\n",
       "      <td>0.003</td>\n",
       "      <td>False</td>\n",
       "    </tr>\n",
       "    <tr>\n",
       "      <th>4</th>\n",
       "      <td>0.000600</td>\n",
       "      <td>0.003</td>\n",
       "      <td>False</td>\n",
       "    </tr>\n",
       "    <tr>\n",
       "      <th>...</th>\n",
       "      <td>...</td>\n",
       "      <td>...</td>\n",
       "      <td>...</td>\n",
       "    </tr>\n",
       "    <tr>\n",
       "      <th>290683</th>\n",
       "      <td>0.000192</td>\n",
       "      <td>0.003</td>\n",
       "      <td>False</td>\n",
       "    </tr>\n",
       "    <tr>\n",
       "      <th>290684</th>\n",
       "      <td>0.000168</td>\n",
       "      <td>0.003</td>\n",
       "      <td>False</td>\n",
       "    </tr>\n",
       "    <tr>\n",
       "      <th>290685</th>\n",
       "      <td>0.000188</td>\n",
       "      <td>0.003</td>\n",
       "      <td>False</td>\n",
       "    </tr>\n",
       "    <tr>\n",
       "      <th>290686</th>\n",
       "      <td>0.000229</td>\n",
       "      <td>0.003</td>\n",
       "      <td>False</td>\n",
       "    </tr>\n",
       "    <tr>\n",
       "      <th>290687</th>\n",
       "      <td>0.000210</td>\n",
       "      <td>0.003</td>\n",
       "      <td>False</td>\n",
       "    </tr>\n",
       "  </tbody>\n",
       "</table>\n",
       "<p>290688 rows × 3 columns</p>\n",
       "</div>"
      ],
      "text/plain": [
       "        Loss_mae  Threshold  Anomaly\n",
       "0       0.001331      0.003    False\n",
       "1       0.001598      0.003    False\n",
       "2       0.001045      0.003    False\n",
       "3       0.000812      0.003    False\n",
       "4       0.000600      0.003    False\n",
       "...          ...        ...      ...\n",
       "290683  0.000192      0.003    False\n",
       "290684  0.000168      0.003    False\n",
       "290685  0.000188      0.003    False\n",
       "290686  0.000229      0.003    False\n",
       "290687  0.000210      0.003    False\n",
       "\n",
       "[290688 rows x 3 columns]"
      ]
     },
     "execution_count": 19,
     "metadata": {},
     "output_type": "execute_result"
    }
   ],
   "source": [
    "scored_train"
   ]
  },
  {
   "cell_type": "code",
   "execution_count": 20,
   "metadata": {},
   "outputs": [
    {
     "data": {
      "text/html": [
       "<div>\n",
       "<style scoped>\n",
       "    .dataframe tbody tr th:only-of-type {\n",
       "        vertical-align: middle;\n",
       "    }\n",
       "\n",
       "    .dataframe tbody tr th {\n",
       "        vertical-align: top;\n",
       "    }\n",
       "\n",
       "    .dataframe thead th {\n",
       "        text-align: right;\n",
       "    }\n",
       "</style>\n",
       "<table border=\"1\" class=\"dataframe\">\n",
       "  <thead>\n",
       "    <tr style=\"text-align: right;\">\n",
       "      <th></th>\n",
       "      <th>Loss_mae</th>\n",
       "      <th>Threshold</th>\n",
       "      <th>Anomaly</th>\n",
       "    </tr>\n",
       "  </thead>\n",
       "  <tbody>\n",
       "    <tr>\n",
       "      <th>132</th>\n",
       "      <td>0.003049</td>\n",
       "      <td>0.003</td>\n",
       "      <td>True</td>\n",
       "    </tr>\n",
       "    <tr>\n",
       "      <th>133</th>\n",
       "      <td>0.003350</td>\n",
       "      <td>0.003</td>\n",
       "      <td>True</td>\n",
       "    </tr>\n",
       "    <tr>\n",
       "      <th>134</th>\n",
       "      <td>0.003210</td>\n",
       "      <td>0.003</td>\n",
       "      <td>True</td>\n",
       "    </tr>\n",
       "    <tr>\n",
       "      <th>3895</th>\n",
       "      <td>0.003097</td>\n",
       "      <td>0.003</td>\n",
       "      <td>True</td>\n",
       "    </tr>\n",
       "    <tr>\n",
       "      <th>6304</th>\n",
       "      <td>0.003135</td>\n",
       "      <td>0.003</td>\n",
       "      <td>True</td>\n",
       "    </tr>\n",
       "    <tr>\n",
       "      <th>...</th>\n",
       "      <td>...</td>\n",
       "      <td>...</td>\n",
       "      <td>...</td>\n",
       "    </tr>\n",
       "    <tr>\n",
       "      <th>290083</th>\n",
       "      <td>0.003739</td>\n",
       "      <td>0.003</td>\n",
       "      <td>True</td>\n",
       "    </tr>\n",
       "    <tr>\n",
       "      <th>290090</th>\n",
       "      <td>0.003224</td>\n",
       "      <td>0.003</td>\n",
       "      <td>True</td>\n",
       "    </tr>\n",
       "    <tr>\n",
       "      <th>290096</th>\n",
       "      <td>0.003837</td>\n",
       "      <td>0.003</td>\n",
       "      <td>True</td>\n",
       "    </tr>\n",
       "    <tr>\n",
       "      <th>290416</th>\n",
       "      <td>0.004990</td>\n",
       "      <td>0.003</td>\n",
       "      <td>True</td>\n",
       "    </tr>\n",
       "    <tr>\n",
       "      <th>290418</th>\n",
       "      <td>0.004421</td>\n",
       "      <td>0.003</td>\n",
       "      <td>True</td>\n",
       "    </tr>\n",
       "  </tbody>\n",
       "</table>\n",
       "<p>1063 rows × 3 columns</p>\n",
       "</div>"
      ],
      "text/plain": [
       "        Loss_mae  Threshold  Anomaly\n",
       "132     0.003049      0.003     True\n",
       "133     0.003350      0.003     True\n",
       "134     0.003210      0.003     True\n",
       "3895    0.003097      0.003     True\n",
       "6304    0.003135      0.003     True\n",
       "...          ...        ...      ...\n",
       "290083  0.003739      0.003     True\n",
       "290090  0.003224      0.003     True\n",
       "290096  0.003837      0.003     True\n",
       "290416  0.004990      0.003     True\n",
       "290418  0.004421      0.003     True\n",
       "\n",
       "[1063 rows x 3 columns]"
      ]
     },
     "execution_count": 20,
     "metadata": {},
     "output_type": "execute_result"
    }
   ],
   "source": [
    "scored_train[scored_train['Anomaly'] == True]"
   ]
  },
  {
   "cell_type": "code",
   "execution_count": null,
   "metadata": {},
   "outputs": [],
   "source": []
  }
 ],
 "metadata": {
  "kernelspec": {
   "display_name": "Python 3",
   "language": "python",
   "name": "python3"
  },
  "language_info": {
   "codemirror_mode": {
    "name": "ipython",
    "version": 3
   },
   "file_extension": ".py",
   "mimetype": "text/x-python",
   "name": "python",
   "nbconvert_exporter": "python",
   "pygments_lexer": "ipython3",
   "version": "3.7.4"
  }
 },
 "nbformat": 4,
 "nbformat_minor": 4
}
