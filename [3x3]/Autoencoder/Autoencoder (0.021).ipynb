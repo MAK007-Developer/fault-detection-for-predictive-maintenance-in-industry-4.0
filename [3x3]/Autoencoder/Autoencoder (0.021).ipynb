{
 "cells": [
  {
   "cell_type": "code",
   "execution_count": 1,
   "metadata": {},
   "outputs": [],
   "source": [
    "#importing packages\n",
    "import pandas as pd\n",
    "import numpy as np"
   ]
  },
  {
   "cell_type": "code",
   "execution_count": 2,
   "metadata": {},
   "outputs": [],
   "source": [
    "Dtrain = pd.read_csv(\"CWRU Dataset-2-train.csv\")\n",
    "#Dtrain = Dtrain.iloc[:,0:4].values\n",
    "Dtest = pd.read_csv(\"CWRU Dataset-2-test.csv\")"
   ]
  },
  {
   "cell_type": "code",
   "execution_count": 3,
   "metadata": {},
   "outputs": [
    {
     "data": {
      "text/plain": [
       "Inner Race (0.021\")    96896\n",
       "Outer Race (0.021\")    96896\n",
       "Normal                 96896\n",
       "Name: Bearing, dtype: int64"
      ]
     },
     "execution_count": 3,
     "metadata": {},
     "output_type": "execute_result"
    }
   ],
   "source": [
    "Dtrain[\"Bearing\"].value_counts()"
   ]
  },
  {
   "cell_type": "code",
   "execution_count": 4,
   "metadata": {},
   "outputs": [
    {
     "data": {
      "text/plain": [
       "Inner Race (0.021\")    33.333333\n",
       "Outer Race (0.021\")    33.333333\n",
       "Normal                 33.333333\n",
       "Name: Bearing, dtype: float64"
      ]
     },
     "execution_count": 4,
     "metadata": {},
     "output_type": "execute_result"
    }
   ],
   "source": [
    "Dtrain[\"Bearing\"].value_counts(normalize=True)*100"
   ]
  },
  {
   "cell_type": "code",
   "execution_count": 5,
   "metadata": {},
   "outputs": [
    {
     "data": {
      "text/plain": [
       "Index(['Bearing', 'Fault Diameter', 'DE', 'FE'], dtype='object')"
      ]
     },
     "execution_count": 5,
     "metadata": {},
     "output_type": "execute_result"
    }
   ],
   "source": [
    "Dtest.columns"
   ]
  },
  {
   "cell_type": "code",
   "execution_count": 6,
   "metadata": {},
   "outputs": [],
   "source": [
    "from sklearn.preprocessing import LabelEncoder, OneHotEncoder\n",
    "from sklearn.compose import ColumnTransformer\n",
    "labelencoder_train = LabelEncoder()\n",
    "Dtrain[\"Bearing\"] = labelencoder_train.fit_transform(Dtrain[\"Bearing\"])\n",
    "ct = ColumnTransformer([(\"Bearing\", OneHotEncoder(), [0])],    remainder = 'passthrough')\n",
    "Dtrain = ct.fit_transform(Dtrain)"
   ]
  },
  {
   "cell_type": "code",
   "execution_count": 7,
   "metadata": {},
   "outputs": [],
   "source": [
    "from sklearn.preprocessing import LabelEncoder, OneHotEncoder\n",
    "from sklearn.compose import ColumnTransformer\n",
    "labelencoder_train = LabelEncoder()\n",
    "Dtest[\"Bearing\"] = labelencoder_train.fit_transform(Dtest[\"Bearing\"])\n",
    "ct = ColumnTransformer([(\"Bearing\", OneHotEncoder(), [0])],    remainder = 'passthrough')\n",
    "Dtest = ct.fit_transform(Dtest)"
   ]
  },
  {
   "cell_type": "code",
   "execution_count": 8,
   "metadata": {},
   "outputs": [],
   "source": [
    "from sklearn.preprocessing import MinMaxScaler\n",
    "scaler = MinMaxScaler()\n",
    "X_train = pd.DataFrame(scaler.fit_transform(Dtrain))\n",
    "# Random shuffle training data\n",
    "X_train.sample(frac=1)\n",
    "\n",
    "X_test = pd.DataFrame(scaler.transform(Dtest))\n",
    "\n"
   ]
  },
  {
   "cell_type": "code",
   "execution_count": 9,
   "metadata": {},
   "outputs": [
    {
     "name": "stderr",
     "output_type": "stream",
     "text": [
      "Using TensorFlow backend.\n"
     ]
    }
   ],
   "source": [
    "from keras.layers import Input, Dropout\n",
    "from keras.layers.core import Dense \n",
    "from keras.models import Model, Sequential, load_model\n",
    "from keras import regularizers"
   ]
  },
  {
   "cell_type": "code",
   "execution_count": 10,
   "metadata": {},
   "outputs": [],
   "source": [
    "import tensorflow as tf\n",
    "from numpy.random import seed\n",
    "seed(10)\n",
    "tf.random.set_seed(10)\n",
    "act_func = 'elu'"
   ]
  },
  {
   "cell_type": "code",
   "execution_count": 11,
   "metadata": {},
   "outputs": [],
   "source": [
    "# Input layer:\n",
    "model=Sequential()\n",
    "# First hidden layer, connected to input vector X. \n",
    "model.add(Dense(6,activation=act_func,\n",
    "                kernel_initializer='glorot_uniform',\n",
    "                kernel_regularizer=regularizers.l2(0.0),\n",
    "                input_shape=(X_train.shape[1],)\n",
    "               )\n",
    "         )\n",
    "\n",
    "model.add(Dense(3,activation=act_func,\n",
    "                kernel_initializer='glorot_uniform'))\n",
    "\n",
    "model.add(Dense(6,activation=act_func,\n",
    "                kernel_initializer='glorot_uniform'))\n",
    "\n",
    "model.add(Dense(X_train.shape[1],\n",
    "                kernel_initializer='glorot_uniform'))\n",
    "\n",
    "model.compile(loss='mse',optimizer='adam', metrics=['accuracy'] )\n",
    "\n",
    "# Train model for 100 epochs, batch size of 10: \n",
    "NUM_EPOCHS=100\n",
    "BATCH_SIZE=100"
   ]
  },
  {
   "cell_type": "code",
   "execution_count": 12,
   "metadata": {},
   "outputs": [
    {
     "name": "stdout",
     "output_type": "stream",
     "text": [
      "Train on 276153 samples, validate on 14535 samples\n",
      "Epoch 1/100\n",
      "276153/276153 [==============================] - 3s 11us/step - loss: 0.0163 - accuracy: 0.6168 - val_loss: 6.9735e-04 - val_accuracy: 0.2442\n",
      "Epoch 2/100\n",
      "276153/276153 [==============================] - 3s 10us/step - loss: 4.5003e-04 - accuracy: 0.6456 - val_loss: 6.1145e-04 - val_accuracy: 0.8950\n",
      "Epoch 3/100\n",
      "276153/276153 [==============================] - 3s 11us/step - loss: 3.6788e-04 - accuracy: 0.6773 - val_loss: 5.1893e-04 - val_accuracy: 0.1738\n",
      "Epoch 4/100\n",
      "276153/276153 [==============================] - 3s 11us/step - loss: 2.8175e-04 - accuracy: 0.6683 - val_loss: 3.6099e-04 - val_accuracy: 0.1838\n",
      "Epoch 5/100\n",
      "276153/276153 [==============================] - 3s 10us/step - loss: 1.8965e-04 - accuracy: 0.6682 - val_loss: 1.9926e-04 - val_accuracy: 0.4290\n",
      "Epoch 6/100\n",
      "276153/276153 [==============================] - 3s 9us/step - loss: 9.1683e-05 - accuracy: 0.6713 - val_loss: 6.2490e-05 - val_accuracy: 0.4099\n",
      "Epoch 7/100\n",
      "276153/276153 [==============================] - 3s 9us/step - loss: 3.6159e-05 - accuracy: 0.6636 - val_loss: 2.6341e-05 - val_accuracy: 0.0987\n",
      "Epoch 8/100\n",
      "276153/276153 [==============================] - 3s 9us/step - loss: 2.0057e-05 - accuracy: 0.6646 - val_loss: 1.6252e-05 - val_accuracy: 0.3346\n",
      "Epoch 9/100\n",
      "276153/276153 [==============================] - 3s 9us/step - loss: 1.4745e-05 - accuracy: 0.6697 - val_loss: 1.2415e-05 - val_accuracy: 0.3257\n",
      "Epoch 10/100\n",
      "276153/276153 [==============================] - 3s 10us/step - loss: 1.2212e-05 - accuracy: 0.6718 - val_loss: 1.0495e-05 - val_accuracy: 0.6519\n",
      "Epoch 11/100\n",
      "276153/276153 [==============================] - 3s 10us/step - loss: 1.0656e-05 - accuracy: 0.6719 - val_loss: 1.0776e-05 - val_accuracy: 0.4370\n",
      "Epoch 12/100\n",
      "276153/276153 [==============================] - 3s 10us/step - loss: 9.5709e-06 - accuracy: 0.6724 - val_loss: 9.4010e-06 - val_accuracy: 0.5113\n",
      "Epoch 13/100\n",
      "276153/276153 [==============================] - 3s 10us/step - loss: 8.6919e-06 - accuracy: 0.6721 - val_loss: 7.8571e-06 - val_accuracy: 0.6317\n",
      "Epoch 14/100\n",
      "276153/276153 [==============================] - 3s 11us/step - loss: 8.0207e-06 - accuracy: 0.6729 - val_loss: 7.2037e-06 - val_accuracy: 0.5434\n",
      "Epoch 15/100\n",
      "276153/276153 [==============================] - 3s 10us/step - loss: 7.3599e-06 - accuracy: 0.6735 - val_loss: 7.5742e-06 - val_accuracy: 0.5404\n",
      "Epoch 16/100\n",
      "276153/276153 [==============================] - 3s 10us/step - loss: 6.9433e-06 - accuracy: 0.6737 - val_loss: 7.5090e-06 - val_accuracy: 0.7212\n",
      "Epoch 17/100\n",
      "276153/276153 [==============================] - 3s 11us/step - loss: 6.4960e-06 - accuracy: 0.6734 - val_loss: 5.7914e-06 - val_accuracy: 0.3797\n",
      "Epoch 18/100\n",
      "276153/276153 [==============================] - 3s 13us/step - loss: 6.1193e-06 - accuracy: 0.6736 - val_loss: 5.4390e-06 - val_accuracy: 0.3115\n",
      "Epoch 19/100\n",
      "276153/276153 [==============================] - 3s 12us/step - loss: 5.7599e-06 - accuracy: 0.6736 - val_loss: 4.9723e-06 - val_accuracy: 0.4675\n",
      "Epoch 20/100\n",
      "276153/276153 [==============================] - 4s 14us/step - loss: 5.4468e-06 - accuracy: 0.6736 - val_loss: 4.8555e-06 - val_accuracy: 0.2352\n",
      "Epoch 21/100\n",
      "276153/276153 [==============================] - 4s 13us/step - loss: 5.2147e-06 - accuracy: 0.6743 - val_loss: 4.6469e-06 - val_accuracy: 0.5905\n",
      "Epoch 22/100\n",
      "276153/276153 [==============================] - 4s 15us/step - loss: 4.9122e-06 - accuracy: 0.6739 - val_loss: 4.1662e-06 - val_accuracy: 0.4918\n",
      "Epoch 23/100\n",
      "276153/276153 [==============================] - 4s 14us/step - loss: 4.6588e-06 - accuracy: 0.6741 - val_loss: 4.1684e-06 - val_accuracy: 0.5013\n",
      "Epoch 24/100\n",
      "276153/276153 [==============================] - 4s 14us/step - loss: 4.4892e-06 - accuracy: 0.6741 - val_loss: 3.6642e-06 - val_accuracy: 0.5062\n",
      "Epoch 25/100\n",
      "276153/276153 [==============================] - 4s 14us/step - loss: 4.2742e-06 - accuracy: 0.6749 - val_loss: 3.8239e-06 - val_accuracy: 0.5684\n",
      "Epoch 26/100\n",
      "276153/276153 [==============================] - 4s 14us/step - loss: 4.0700e-06 - accuracy: 0.6745 - val_loss: 3.4573e-06 - val_accuracy: 0.6039\n",
      "Epoch 27/100\n",
      "276153/276153 [==============================] - 4s 14us/step - loss: 3.9538e-06 - accuracy: 0.6739 - val_loss: 3.4378e-06 - val_accuracy: 0.7551\n",
      "Epoch 28/100\n",
      "276153/276153 [==============================] - 4s 14us/step - loss: 3.7751e-06 - accuracy: 0.6731 - val_loss: 3.0786e-06 - val_accuracy: 0.7193\n",
      "Epoch 29/100\n",
      "276153/276153 [==============================] - 4s 14us/step - loss: 3.6093e-06 - accuracy: 0.6737 - val_loss: 2.7059e-06 - val_accuracy: 0.6065\n",
      "Epoch 30/100\n",
      "276153/276153 [==============================] - 4s 14us/step - loss: 3.4363e-06 - accuracy: 0.6725 - val_loss: 3.8829e-06 - val_accuracy: 0.3735\n",
      "Epoch 31/100\n",
      "276153/276153 [==============================] - 4s 14us/step - loss: 3.3704e-06 - accuracy: 0.6728 - val_loss: 3.9831e-06 - val_accuracy: 0.3352\n",
      "Epoch 32/100\n",
      "276153/276153 [==============================] - 4s 14us/step - loss: 3.2530e-06 - accuracy: 0.6724 - val_loss: 2.3948e-06 - val_accuracy: 0.6337\n",
      "Epoch 33/100\n",
      "276153/276153 [==============================] - 4s 14us/step - loss: 3.1411e-06 - accuracy: 0.6734 - val_loss: 2.5184e-06 - val_accuracy: 0.5907\n",
      "Epoch 34/100\n",
      "276153/276153 [==============================] - 4s 14us/step - loss: 3.0506e-06 - accuracy: 0.6725 - val_loss: 3.0334e-06 - val_accuracy: 0.5735\n",
      "Epoch 35/100\n",
      "276153/276153 [==============================] - 4s 14us/step - loss: 2.9460e-06 - accuracy: 0.6725 - val_loss: 2.8892e-06 - val_accuracy: 0.1977\n",
      "Epoch 36/100\n",
      "276153/276153 [==============================] - 4s 14us/step - loss: 2.8575e-06 - accuracy: 0.6723 - val_loss: 1.8843e-06 - val_accuracy: 0.2494\n",
      "Epoch 37/100\n",
      "276153/276153 [==============================] - 4s 14us/step - loss: 2.7452e-06 - accuracy: 0.6714 - val_loss: 2.1626e-06 - val_accuracy: 0.2982\n",
      "Epoch 38/100\n",
      "276153/276153 [==============================] - 4s 14us/step - loss: 2.7178e-06 - accuracy: 0.6718 - val_loss: 1.7537e-06 - val_accuracy: 0.8286\n",
      "Epoch 39/100\n",
      "276153/276153 [==============================] - 4s 14us/step - loss: 2.5368e-06 - accuracy: 0.6714 - val_loss: 2.4824e-06 - val_accuracy: 0.4607\n",
      "Epoch 40/100\n",
      "276153/276153 [==============================] - 4s 14us/step - loss: 2.4962e-06 - accuracy: 0.6718 - val_loss: 1.7790e-06 - val_accuracy: 0.8277\n",
      "Epoch 41/100\n",
      "276153/276153 [==============================] - 4s 14us/step - loss: 2.5219e-06 - accuracy: 0.6722 - val_loss: 3.1757e-06 - val_accuracy: 0.2136\n",
      "Epoch 42/100\n",
      "276153/276153 [==============================] - 4s 14us/step - loss: 2.3984e-06 - accuracy: 0.6708 - val_loss: 1.4821e-06 - val_accuracy: 0.8709\n",
      "Epoch 43/100\n",
      "276153/276153 [==============================] - 4s 14us/step - loss: 2.3081e-06 - accuracy: 0.6711 - val_loss: 1.5812e-06 - val_accuracy: 0.2118\n",
      "Epoch 44/100\n",
      "276153/276153 [==============================] - 4s 14us/step - loss: 2.2766e-06 - accuracy: 0.6717 - val_loss: 1.3315e-06 - val_accuracy: 0.8248\n",
      "Epoch 45/100\n",
      "276153/276153 [==============================] - 4s 14us/step - loss: 2.3147e-06 - accuracy: 0.6714 - val_loss: 1.3185e-06 - val_accuracy: 0.4063\n",
      "Epoch 46/100\n",
      "276153/276153 [==============================] - 4s 14us/step - loss: 2.1576e-06 - accuracy: 0.6714 - val_loss: 1.8195e-06 - val_accuracy: 0.6585\n",
      "Epoch 47/100\n",
      "276153/276153 [==============================] - 4s 14us/step - loss: 2.1496e-06 - accuracy: 0.6704 - val_loss: 2.3414e-06 - val_accuracy: 0.9320\n",
      "Epoch 48/100\n",
      "276153/276153 [==============================] - 4s 14us/step - loss: 2.0743e-06 - accuracy: 0.6698 - val_loss: 1.3551e-06 - val_accuracy: 0.8922\n",
      "Epoch 49/100\n",
      "276153/276153 [==============================] - 4s 14us/step - loss: 2.0879e-06 - accuracy: 0.6702 - val_loss: 1.9604e-06 - val_accuracy: 0.6711\n",
      "Epoch 50/100\n",
      "276153/276153 [==============================] - 4s 14us/step - loss: 2.0454e-06 - accuracy: 0.6706 - val_loss: 1.4420e-06 - val_accuracy: 0.2954\n",
      "Epoch 51/100\n",
      "276153/276153 [==============================] - 4s 16us/step - loss: 1.9760e-06 - accuracy: 0.6691 - val_loss: 1.1808e-06 - val_accuracy: 0.7489\n",
      "Epoch 52/100\n",
      "276153/276153 [==============================] - 5s 19us/step - loss: 1.9737e-06 - accuracy: 0.6694 - val_loss: 1.5066e-06 - val_accuracy: 0.9042\n",
      "Epoch 53/100\n",
      "276153/276153 [==============================] - 5s 17us/step - loss: 1.8365e-06 - accuracy: 0.6700 - val_loss: 1.2092e-06 - val_accuracy: 0.0713\n",
      "Epoch 54/100\n",
      "276153/276153 [==============================] - 5s 16us/step - loss: 1.8906e-06 - accuracy: 0.6694 - val_loss: 1.0802e-06 - val_accuracy: 0.2300\n",
      "Epoch 55/100\n",
      "276153/276153 [==============================] - 4s 16us/step - loss: 1.8027e-06 - accuracy: 0.6703 - val_loss: 2.4153e-06 - val_accuracy: 0.7204\n",
      "Epoch 56/100\n",
      "276153/276153 [==============================] - 5s 16us/step - loss: 1.8349e-06 - accuracy: 0.6698 - val_loss: 1.0482e-06 - val_accuracy: 0.1119\n",
      "Epoch 57/100\n",
      "276153/276153 [==============================] - 5s 17us/step - loss: 1.7860e-06 - accuracy: 0.6695 - val_loss: 9.2775e-07 - val_accuracy: 0.9115\n",
      "Epoch 58/100\n",
      "276153/276153 [==============================] - 5s 17us/step - loss: 1.7532e-06 - accuracy: 0.6674 - val_loss: 9.7469e-07 - val_accuracy: 0.7137\n",
      "Epoch 59/100\n",
      "276153/276153 [==============================] - 5s 18us/step - loss: 1.7544e-06 - accuracy: 0.6700 - val_loss: 1.2614e-06 - val_accuracy: 0.9203\n",
      "Epoch 60/100\n",
      "276153/276153 [==============================] - 5s 17us/step - loss: 1.6681e-06 - accuracy: 0.6685 - val_loss: 1.3249e-06 - val_accuracy: 0.6481\n",
      "Epoch 61/100\n",
      "276153/276153 [==============================] - 5s 19us/step - loss: 1.7217e-06 - accuracy: 0.6688 - val_loss: 9.6365e-07 - val_accuracy: 0.1064\n",
      "Epoch 62/100\n",
      "276153/276153 [==============================] - 5s 18us/step - loss: 1.6546e-06 - accuracy: 0.6691 - val_loss: 1.5931e-06 - val_accuracy: 0.9255\n",
      "Epoch 63/100\n",
      "276153/276153 [==============================] - 4s 16us/step - loss: 1.6505e-06 - accuracy: 0.6683 - val_loss: 9.5520e-07 - val_accuracy: 0.0973\n",
      "Epoch 64/100\n",
      "276153/276153 [==============================] - 4s 16us/step - loss: 1.6199e-06 - accuracy: 0.6672 - val_loss: 8.2531e-07 - val_accuracy: 0.8262\n",
      "Epoch 65/100\n",
      "276153/276153 [==============================] - 4s 16us/step - loss: 1.6335e-06 - accuracy: 0.6696 - val_loss: 8.3980e-07 - val_accuracy: 0.0751\n",
      "Epoch 66/100\n",
      "276153/276153 [==============================] - 4s 15us/step - loss: 1.6237e-06 - accuracy: 0.6680 - val_loss: 8.0225e-07 - val_accuracy: 0.0857\n",
      "Epoch 67/100\n",
      "276153/276153 [==============================] - 4s 16us/step - loss: 1.6681e-06 - accuracy: 0.6676 - val_loss: 8.3979e-07 - val_accuracy: 0.1948\n",
      "Epoch 68/100\n",
      "276153/276153 [==============================] - 4s 15us/step - loss: 1.4641e-06 - accuracy: 0.6663 - val_loss: 1.2681e-06 - val_accuracy: 0.0680\n",
      "Epoch 69/100\n",
      "276153/276153 [==============================] - 4s 15us/step - loss: 1.6938e-06 - accuracy: 0.6673 - val_loss: 1.3045e-06 - val_accuracy: 0.1466\n",
      "Epoch 70/100\n",
      "276153/276153 [==============================] - 4s 15us/step - loss: 1.5906e-06 - accuracy: 0.6667 - val_loss: 8.7388e-07 - val_accuracy: 0.0984\n",
      "Epoch 71/100\n",
      "276153/276153 [==============================] - 4s 15us/step - loss: 1.5416e-06 - accuracy: 0.6674 - val_loss: 1.2065e-06 - val_accuracy: 0.1298\n",
      "Epoch 72/100\n",
      "276153/276153 [==============================] - 4s 14us/step - loss: 1.4553e-06 - accuracy: 0.6650 - val_loss: 1.0076e-06 - val_accuracy: 0.9788\n",
      "Epoch 73/100\n",
      "276153/276153 [==============================] - 4s 14us/step - loss: 1.5551e-06 - accuracy: 0.6656 - val_loss: 8.7765e-07 - val_accuracy: 0.1579\n",
      "Epoch 74/100\n",
      "276153/276153 [==============================] - 4s 15us/step - loss: 1.5065e-06 - accuracy: 0.6668 - val_loss: 8.1142e-07 - val_accuracy: 0.1152\n",
      "Epoch 75/100\n",
      "276153/276153 [==============================] - 4s 15us/step - loss: 1.4245e-06 - accuracy: 0.6653 - val_loss: 3.9588e-06 - val_accuracy: 0.9252\n",
      "Epoch 76/100\n",
      "276153/276153 [==============================] - 4s 15us/step - loss: 1.4012e-06 - accuracy: 0.6663 - val_loss: 7.8615e-07 - val_accuracy: 0.1282\n",
      "Epoch 77/100\n",
      "276153/276153 [==============================] - 4s 16us/step - loss: 1.4415e-06 - accuracy: 0.6663 - val_loss: 1.0589e-06 - val_accuracy: 0.9681\n",
      "Epoch 78/100\n",
      "276153/276153 [==============================] - 5s 17us/step - loss: 1.3947e-06 - accuracy: 0.6669 - val_loss: 1.3323e-06 - val_accuracy: 0.9778\n",
      "Epoch 79/100\n",
      "276153/276153 [==============================] - 5s 17us/step - loss: 1.4191e-06 - accuracy: 0.6645 - val_loss: 7.2856e-07 - val_accuracy: 0.9695\n",
      "Epoch 80/100\n",
      "276153/276153 [==============================] - 5s 18us/step - loss: 1.3685e-06 - accuracy: 0.6653 - val_loss: 3.2273e-06 - val_accuracy: 0.3365\n",
      "Epoch 81/100\n",
      "276153/276153 [==============================] - 5s 18us/step - loss: 1.3213e-06 - accuracy: 0.6640 - val_loss: 7.2516e-07 - val_accuracy: 0.9762\n",
      "Epoch 82/100\n",
      "276153/276153 [==============================] - 5s 16us/step - loss: 1.2993e-06 - accuracy: 0.6650 - val_loss: 1.2766e-06 - val_accuracy: 0.9628\n",
      "Epoch 83/100\n",
      "276153/276153 [==============================] - 4s 16us/step - loss: 1.3232e-06 - accuracy: 0.6641 - val_loss: 1.9838e-06 - val_accuracy: 0.0869\n",
      "Epoch 84/100\n",
      "276153/276153 [==============================] - 4s 16us/step - loss: 1.5133e-06 - accuracy: 0.6663 - val_loss: 7.0140e-07 - val_accuracy: 0.9209\n",
      "Epoch 85/100\n",
      "276153/276153 [==============================] - 4s 16us/step - loss: 1.1391e-06 - accuracy: 0.6656 - val_loss: 1.9039e-06 - val_accuracy: 0.9378\n",
      "Epoch 86/100\n",
      "276153/276153 [==============================] - 5s 17us/step - loss: 1.3444e-06 - accuracy: 0.6649 - val_loss: 6.8229e-07 - val_accuracy: 0.0644\n",
      "Epoch 87/100\n",
      "276153/276153 [==============================] - 4s 16us/step - loss: 1.2898e-06 - accuracy: 0.6641 - val_loss: 1.0471e-06 - val_accuracy: 0.1650\n",
      "Epoch 88/100\n",
      "276153/276153 [==============================] - 4s 16us/step - loss: 1.2366e-06 - accuracy: 0.6651 - val_loss: 7.7207e-07 - val_accuracy: 0.4769\n",
      "Epoch 89/100\n",
      "276153/276153 [==============================] - 4s 15us/step - loss: 1.2948e-06 - accuracy: 0.6628 - val_loss: 7.1828e-07 - val_accuracy: 0.1871\n",
      "Epoch 90/100\n",
      "276153/276153 [==============================] - 4s 15us/step - loss: 1.2481e-06 - accuracy: 0.6661 - val_loss: 7.2483e-07 - val_accuracy: 0.0340\n",
      "Epoch 91/100\n",
      "276153/276153 [==============================] - 5s 16us/step - loss: 1.2101e-06 - accuracy: 0.6640 - val_loss: 7.3980e-07 - val_accuracy: 0.0627\n",
      "Epoch 92/100\n",
      "276153/276153 [==============================] - 5s 17us/step - loss: 1.3086e-06 - accuracy: 0.6661 - val_loss: 7.2984e-07 - val_accuracy: 0.1355\n",
      "Epoch 93/100\n",
      "276153/276153 [==============================] - 4s 15us/step - loss: 1.1746e-06 - accuracy: 0.6643 - val_loss: 2.4159e-06 - val_accuracy: 0.9748\n",
      "Epoch 94/100\n",
      "276153/276153 [==============================] - 4s 15us/step - loss: 1.2670e-06 - accuracy: 0.6645 - val_loss: 8.1073e-07 - val_accuracy: 0.0845\n",
      "Epoch 95/100\n",
      "276153/276153 [==============================] - 4s 15us/step - loss: 1.2487e-06 - accuracy: 0.6641 - val_loss: 7.7865e-07 - val_accuracy: 0.0297\n",
      "Epoch 96/100\n",
      "276153/276153 [==============================] - 4s 14us/step - loss: 1.1981e-06 - accuracy: 0.6655 - val_loss: 6.5668e-07 - val_accuracy: 0.0501\n",
      "Epoch 97/100\n",
      "276153/276153 [==============================] - 4s 14us/step - loss: 1.1443e-06 - accuracy: 0.6639 - val_loss: 6.2752e-07 - val_accuracy: 0.0676\n",
      "Epoch 98/100\n",
      "276153/276153 [==============================] - 4s 14us/step - loss: 1.1908e-06 - accuracy: 0.6635 - val_loss: 6.8546e-07 - val_accuracy: 0.0874\n",
      "Epoch 99/100\n",
      "276153/276153 [==============================] - 4s 14us/step - loss: 1.1780e-06 - accuracy: 0.6636 - val_loss: 9.4476e-07 - val_accuracy: 0.9751\n",
      "Epoch 100/100\n",
      "276153/276153 [==============================] - 4s 14us/step - loss: 1.2122e-06 - accuracy: 0.6623 - val_loss: 8.1549e-07 - val_accuracy: 0.9268\n"
     ]
    }
   ],
   "source": [
    "history=model.fit(np.array(X_train),np.array(X_train),\n",
    "                  batch_size=BATCH_SIZE, \n",
    "                  epochs=NUM_EPOCHS,\n",
    "                  validation_split=0.05,\n",
    "                  verbose = 1)"
   ]
  },
  {
   "cell_type": "code",
   "execution_count": 13,
   "metadata": {},
   "outputs": [
    {
     "data": {
      "image/png": "[encoded data removed]",
      "text/plain": [
       "<Figure size 432x288 with 1 Axes>"
      ]
     },
     "metadata": {
      "needs_background": "light"
     },
     "output_type": "display_data"
    }
   ],
   "source": [
    "import matplotlib.pyplot as plt\n",
    "\n",
    "plt.plot(history.history['loss'], 'b', label='Training loss')\n",
    "plt.plot(history.history['val_loss'], 'r', label='Validation loss')\n",
    "plt.legend(loc='upper right')\n",
    "plt.xlabel('Epochs')\n",
    "plt.ylabel('Loss, [mse]')\n",
    "plt.ylim([0,.05])\n",
    "plt.show()"
   ]
  },
  {
   "cell_type": "code",
   "execution_count": 14,
   "metadata": {},
   "outputs": [
    {
     "data": {
      "image/png": "[encoded data removed]",
      "text/plain": [
       "<Figure size 432x288 with 1 Axes>"
      ]
     },
     "metadata": {
      "needs_background": "light"
     },
     "output_type": "display_data"
    }
   ],
   "source": [
    "X_pred = model.predict(np.array(X_train))\n",
    "\n",
    "import seaborn as sns\n",
    "\n",
    "scored = np.mean(np.abs(X_pred-X_train), axis = 1)\n",
    "plt.figure()\n",
    "sns.distplot(scored, bins = 10, kde= True, color = 'blue');\n",
    "plt.xlim([0.0,.02])\n",
    "plt.show()"
   ]
  },
  {
   "cell_type": "code",
   "execution_count": 15,
   "metadata": {},
   "outputs": [
    {
     "data": {
      "text/html": [
       "<div>\n",
       "<style scoped>\n",
       "    .dataframe tbody tr th:only-of-type {\n",
       "        vertical-align: middle;\n",
       "    }\n",
       "\n",
       "    .dataframe tbody tr th {\n",
       "        vertical-align: top;\n",
       "    }\n",
       "\n",
       "    .dataframe thead th {\n",
       "        text-align: right;\n",
       "    }\n",
       "</style>\n",
       "<table border=\"1\" class=\"dataframe\">\n",
       "  <thead>\n",
       "    <tr style=\"text-align: right;\">\n",
       "      <th></th>\n",
       "      <th>Loss_mae</th>\n",
       "      <th>Threshold</th>\n",
       "      <th>Anomaly</th>\n",
       "    </tr>\n",
       "  </thead>\n",
       "  <tbody>\n",
       "    <tr>\n",
       "      <th>69919</th>\n",
       "      <td>0.000282</td>\n",
       "      <td>0.003</td>\n",
       "      <td>False</td>\n",
       "    </tr>\n",
       "    <tr>\n",
       "      <th>32811</th>\n",
       "      <td>0.000755</td>\n",
       "      <td>0.003</td>\n",
       "      <td>False</td>\n",
       "    </tr>\n",
       "    <tr>\n",
       "      <th>18961</th>\n",
       "      <td>0.000658</td>\n",
       "      <td>0.003</td>\n",
       "      <td>False</td>\n",
       "    </tr>\n",
       "    <tr>\n",
       "      <th>30513</th>\n",
       "      <td>0.000880</td>\n",
       "      <td>0.003</td>\n",
       "      <td>False</td>\n",
       "    </tr>\n",
       "    <tr>\n",
       "      <th>65853</th>\n",
       "      <td>0.000299</td>\n",
       "      <td>0.003</td>\n",
       "      <td>False</td>\n",
       "    </tr>\n",
       "    <tr>\n",
       "      <th>...</th>\n",
       "      <td>...</td>\n",
       "      <td>...</td>\n",
       "      <td>...</td>\n",
       "    </tr>\n",
       "    <tr>\n",
       "      <th>14862</th>\n",
       "      <td>0.001635</td>\n",
       "      <td>0.003</td>\n",
       "      <td>False</td>\n",
       "    </tr>\n",
       "    <tr>\n",
       "      <th>72657</th>\n",
       "      <td>0.000478</td>\n",
       "      <td>0.003</td>\n",
       "      <td>False</td>\n",
       "    </tr>\n",
       "    <tr>\n",
       "      <th>40723</th>\n",
       "      <td>0.000910</td>\n",
       "      <td>0.003</td>\n",
       "      <td>False</td>\n",
       "    </tr>\n",
       "    <tr>\n",
       "      <th>2675</th>\n",
       "      <td>0.001080</td>\n",
       "      <td>0.003</td>\n",
       "      <td>False</td>\n",
       "    </tr>\n",
       "    <tr>\n",
       "      <th>17700</th>\n",
       "      <td>0.000900</td>\n",
       "      <td>0.003</td>\n",
       "      <td>False</td>\n",
       "    </tr>\n",
       "  </tbody>\n",
       "</table>\n",
       "<p>100 rows × 3 columns</p>\n",
       "</div>"
      ],
      "text/plain": [
       "       Loss_mae  Threshold  Anomaly\n",
       "69919  0.000282      0.003    False\n",
       "32811  0.000755      0.003    False\n",
       "18961  0.000658      0.003    False\n",
       "30513  0.000880      0.003    False\n",
       "65853  0.000299      0.003    False\n",
       "...         ...        ...      ...\n",
       "14862  0.001635      0.003    False\n",
       "72657  0.000478      0.003    False\n",
       "40723  0.000910      0.003    False\n",
       "2675   0.001080      0.003    False\n",
       "17700  0.000900      0.003    False\n",
       "\n",
       "[100 rows x 3 columns]"
      ]
     },
     "execution_count": 15,
     "metadata": {},
     "output_type": "execute_result"
    }
   ],
   "source": [
    "X_pred = model.predict(np.array(X_test))\n",
    "\n",
    "scored = pd.DataFrame()\n",
    "scored['Loss_mae'] = np.mean(np.abs(X_pred-X_test), axis = 1)\n",
    "scored['Threshold'] = 0.003\n",
    "scored['Anomaly'] = scored['Loss_mae'] > scored['Threshold']\n",
    "scored.sample(100)"
   ]
  },
  {
   "cell_type": "code",
   "execution_count": 16,
   "metadata": {},
   "outputs": [],
   "source": [
    "X_pred_train = model.predict(np.array(X_train))\n",
    "X_pred_train = pd.DataFrame(X_pred_train)\n",
    "\n",
    "scored_train = pd.DataFrame()\n",
    "scored_train['Loss_mae'] = np.mean(np.abs(X_pred_train-X_train), axis = 1)\n",
    "scored_train['Threshold'] = 0.003\n",
    "scored_train['Anomaly'] = scored_train['Loss_mae'] > scored_train['Threshold']\n",
    "scored = pd.concat([scored_train, scored])"
   ]
  },
  {
   "cell_type": "code",
   "execution_count": 17,
   "metadata": {},
   "outputs": [
    {
     "data": {
      "text/plain": [
       "<matplotlib.axes._subplots.AxesSubplot at 0x1d26a34ca48>"
      ]
     },
     "execution_count": 17,
     "metadata": {},
     "output_type": "execute_result"
    },
    {
     "data": {
      "image/png": "[encoded data removed]",
      "text/plain": [
       "<Figure size 720x432 with 1 Axes>"
      ]
     },
     "metadata": {
      "needs_background": "light"
     },
     "output_type": "display_data"
    }
   ],
   "source": [
    "scored.plot(logy=True,  figsize = (10,6), xlim =[0,1000], ylim = [1e-4,1e-1], color = ['blue','red'])"
   ]
  },
  {
   "cell_type": "code",
   "execution_count": 18,
   "metadata": {},
   "outputs": [
    {
     "data": {
      "text/plain": [
       "0.0008016684738571064"
      ]
     },
     "execution_count": 18,
     "metadata": {},
     "output_type": "execute_result"
    }
   ],
   "source": [
    "scored_train['Loss_mae'].mean()"
   ]
  },
  {
   "cell_type": "code",
   "execution_count": null,
   "metadata": {},
   "outputs": [],
   "source": []
  }
 ],
 "metadata": {
  "kernelspec": {
   "display_name": "Python 3",
   "language": "python",
   "name": "python3"
  },
  "language_info": {
   "codemirror_mode": {
    "name": "ipython",
    "version": 3
   },
   "file_extension": ".py",
   "mimetype": "text/x-python",
   "name": "python",
   "nbconvert_exporter": "python",
   "pygments_lexer": "ipython3",
   "version": "3.7.4"
  }
 },
 "nbformat": 4,
 "nbformat_minor": 4
}
