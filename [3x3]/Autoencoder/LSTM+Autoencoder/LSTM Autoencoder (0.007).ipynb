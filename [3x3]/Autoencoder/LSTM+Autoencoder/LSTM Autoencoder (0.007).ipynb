{
 "cells": [
  {
   "cell_type": "code",
   "execution_count": 1,
   "metadata": {},
   "outputs": [],
   "source": [
    "#importing packages\n",
    "import pandas as pd\n",
    "import numpy as np"
   ]
  },
  {
   "cell_type": "code",
   "execution_count": 2,
   "metadata": {},
   "outputs": [],
   "source": [
    "Dtrain = pd.read_csv(\"../CWRU Dataset-1-train.csv\")\n",
    "Dtest = pd.read_csv(\"../CWRU Dataset-1-test.csv\")"
   ]
  },
  {
   "cell_type": "code",
   "execution_count": 3,
   "metadata": {},
   "outputs": [
    {
     "name": "stdout",
     "output_type": "stream",
     "text": [
      "(290688, 4)\n",
      "(72672, 4)\n"
     ]
    }
   ],
   "source": [
    "print(Dtrain.shape)\n",
    "print(Dtest.shape)"
   ]
  },
  {
   "cell_type": "code",
   "execution_count": 4,
   "metadata": {},
   "outputs": [
    {
     "data": {
      "text/plain": [
       "Inner Race (0.007\")    96896\n",
       "Outer Race (0.007\")    96896\n",
       "Normal                 96896\n",
       "Name: Bearing, dtype: int64"
      ]
     },
     "execution_count": 4,
     "metadata": {},
     "output_type": "execute_result"
    }
   ],
   "source": [
    "Dtrain[\"Bearing\"].value_counts()"
   ]
  },
  {
   "cell_type": "code",
   "execution_count": 5,
   "metadata": {},
   "outputs": [
    {
     "data": {
      "text/plain": [
       "Inner Race (0.007\")    33.333333\n",
       "Outer Race (0.007\")    33.333333\n",
       "Normal                 33.333333\n",
       "Name: Bearing, dtype: float64"
      ]
     },
     "execution_count": 5,
     "metadata": {},
     "output_type": "execute_result"
    }
   ],
   "source": [
    "Dtrain[\"Bearing\"].value_counts(normalize=True)*100"
   ]
  },
  {
   "cell_type": "code",
   "execution_count": 6,
   "metadata": {},
   "outputs": [
    {
     "data": {
      "text/plain": [
       "Index(['Bearing', 'Fault Diameter', 'DE', 'FE'], dtype='object')"
      ]
     },
     "execution_count": 6,
     "metadata": {},
     "output_type": "execute_result"
    }
   ],
   "source": [
    "Dtest.columns"
   ]
  },
  {
   "cell_type": "code",
   "execution_count": 7,
   "metadata": {},
   "outputs": [],
   "source": [
    "from sklearn.preprocessing import LabelEncoder, OneHotEncoder\n",
    "from sklearn.compose import ColumnTransformer\n",
    "labelencoder_train = LabelEncoder()\n",
    "Dtrain[\"Bearing\"] = labelencoder_train.fit_transform(Dtrain[\"Bearing\"])\n",
    "ct = ColumnTransformer([(\"Bearing\", OneHotEncoder(), [0])],    remainder = 'passthrough')\n",
    "Dtrain = ct.fit_transform(Dtrain)"
   ]
  },
  {
   "cell_type": "code",
   "execution_count": 8,
   "metadata": {},
   "outputs": [],
   "source": [
    "from sklearn.preprocessing import LabelEncoder, OneHotEncoder\n",
    "from sklearn.compose import ColumnTransformer\n",
    "labelencoder_train = LabelEncoder()\n",
    "Dtest[\"Bearing\"] = labelencoder_train.fit_transform(Dtest[\"Bearing\"])\n",
    "ct = ColumnTransformer([(\"Bearing\", OneHotEncoder(), [0])],    remainder = 'passthrough')\n",
    "Dtest = ct.fit_transform(Dtest)"
   ]
  },
  {
   "cell_type": "code",
   "execution_count": 9,
   "metadata": {},
   "outputs": [],
   "source": [
    "from sklearn.preprocessing import MinMaxScaler\n",
    "scaler = MinMaxScaler()\n",
    "X_train = pd.DataFrame(scaler.fit_transform(Dtrain))\n",
    "# Random shuffle training data\n",
    "X_train.sample(frac=1)\n",
    "\n",
    "X_test = pd.DataFrame(scaler.transform(Dtest))"
   ]
  },
  {
   "cell_type": "code",
   "execution_count": 10,
   "metadata": {},
   "outputs": [],
   "source": [
    "X_train = X_train.values.reshape(-1, 1, X_train.shape[1])\n",
    "\n",
    "X_test  = X_test.values.reshape(-1, 1, X_test.shape[1])"
   ]
  },
  {
   "cell_type": "code",
   "execution_count": 11,
   "metadata": {},
   "outputs": [
    {
     "name": "stderr",
     "output_type": "stream",
     "text": [
      "Using TensorFlow backend.\n"
     ]
    }
   ],
   "source": [
    "from keras.layers import Input, Dropout, Dense, LSTM, RepeatVector, TimeDistributed\n",
    "from keras.models import Model, Sequential, load_model\n",
    "from keras import regularizers"
   ]
  },
  {
   "cell_type": "code",
   "execution_count": 12,
   "metadata": {},
   "outputs": [
    {
     "name": "stdout",
     "output_type": "stream",
     "text": [
      "Model: \"sequential_1\"\n",
      "_________________________________________________________________\n",
      "Layer (type)                 Output Shape              Param #   \n",
      "=================================================================\n",
      "lstm_1 (LSTM)                (None, 32)                4992      \n",
      "_________________________________________________________________\n",
      "dropout_1 (Dropout)          (None, 32)                0         \n",
      "_________________________________________________________________\n",
      "repeat_vector_1 (RepeatVecto (None, 1, 32)             0         \n",
      "_________________________________________________________________\n",
      "lstm_2 (LSTM)                (None, 1, 32)             8320      \n",
      "_________________________________________________________________\n",
      "dropout_2 (Dropout)          (None, 1, 32)             0         \n",
      "_________________________________________________________________\n",
      "time_distributed_1 (TimeDist (None, 1, 6)              198       \n",
      "=================================================================\n",
      "Total params: 13,510\n",
      "Trainable params: 13,510\n",
      "Non-trainable params: 0\n",
      "_________________________________________________________________\n"
     ]
    }
   ],
   "source": [
    "# Input layer:\n",
    "model=Sequential([\n",
    "    LSTM(32, activation='relu', input_shape=(X_train.shape[1],X_train.shape[2])),\n",
    "    Dropout(0.2),\n",
    "    RepeatVector(X_train.shape[1]),\n",
    "    LSTM(32, activation='relu', return_sequences=True),\n",
    "    Dropout(0.2),\n",
    "    TimeDistributed(Dense(X_train.shape[2]))\n",
    "])\n",
    "\n",
    "model.compile(loss='mse',optimizer='adam' )\n",
    "model.summary()"
   ]
  },
  {
   "cell_type": "code",
   "execution_count": 13,
   "metadata": {
    "scrolled": true
   },
   "outputs": [
    {
     "name": "stdout",
     "output_type": "stream",
     "text": [
      "Train on 290688 samples, validate on 72672 samples\n",
      "Epoch 1/100\n",
      "290688/290688 [==============================] - 4s 13us/step - loss: 0.1344 - val_loss: 0.2390\n",
      "Epoch 2/100\n",
      "290688/290688 [==============================] - 3s 11us/step - loss: 0.0902 - val_loss: 0.0898\n",
      "Epoch 3/100\n",
      "290688/290688 [==============================] - 3s 10us/step - loss: 0.0398 - val_loss: 0.0366\n",
      "Epoch 4/100\n",
      "290688/290688 [==============================] - 3s 11us/step - loss: 0.0258 - val_loss: 0.0128\n",
      "Epoch 5/100\n",
      "290688/290688 [==============================] - 3s 10us/step - loss: 0.0190 - val_loss: 0.0088\n",
      "Epoch 6/100\n",
      "290688/290688 [==============================] - 3s 11us/step - loss: 0.0161 - val_loss: 0.0080\n",
      "Epoch 7/100\n",
      "290688/290688 [==============================] - 3s 12us/step - loss: 0.0142 - val_loss: 0.0063\n",
      "Epoch 8/100\n",
      "290688/290688 [==============================] - 4s 15us/step - loss: 0.0127 - val_loss: 0.0056\n",
      "Epoch 9/100\n",
      "290688/290688 [==============================] - 5s 16us/step - loss: 0.0113 - val_loss: 0.0056\n",
      "Epoch 10/100\n",
      "290688/290688 [==============================] - 5s 16us/step - loss: 0.0100 - val_loss: 0.0047\n",
      "Epoch 11/100\n",
      "290688/290688 [==============================] - 5s 16us/step - loss: 0.0090 - val_loss: 0.0041\n",
      "Epoch 12/100\n",
      "290688/290688 [==============================] - 4s 15us/step - loss: 0.0083 - val_loss: 0.0037\n",
      "Epoch 13/100\n",
      "290688/290688 [==============================] - 4s 15us/step - loss: 0.0078 - val_loss: 0.0036\n",
      "Epoch 14/100\n",
      "290688/290688 [==============================] - 5s 16us/step - loss: 0.0075 - val_loss: 0.0036\n",
      "Epoch 15/100\n",
      "290688/290688 [==============================] - 5s 16us/step - loss: 0.0073 - val_loss: 0.0034\n",
      "Epoch 16/100\n",
      "290688/290688 [==============================] - 5s 16us/step - loss: 0.0071 - val_loss: 0.0036\n",
      "Epoch 17/100\n",
      "290688/290688 [==============================] - 5s 16us/step - loss: 0.0069 - val_loss: 0.0037\n",
      "Epoch 18/100\n",
      "290688/290688 [==============================] - 5s 16us/step - loss: 0.0068 - val_loss: 0.0037\n",
      "Epoch 19/100\n",
      "290688/290688 [==============================] - 5s 16us/step - loss: 0.0067 - val_loss: 0.0038\n",
      "Epoch 20/100\n",
      "290688/290688 [==============================] - 5s 16us/step - loss: 0.0066 - val_loss: 0.0040\n",
      "Epoch 21/100\n",
      "290688/290688 [==============================] - 5s 17us/step - loss: 0.0065 - val_loss: 0.0042\n",
      "Epoch 22/100\n",
      "290688/290688 [==============================] - 5s 16us/step - loss: 0.0064 - val_loss: 0.0042\n",
      "Epoch 23/100\n",
      "290688/290688 [==============================] - 5s 16us/step - loss: 0.0063 - val_loss: 0.0042\n",
      "Epoch 24/100\n",
      "290688/290688 [==============================] - 5s 16us/step - loss: 0.0063 - val_loss: 0.0044\n",
      "Epoch 25/100\n",
      "290688/290688 [==============================] - 5s 16us/step - loss: 0.0062 - val_loss: 0.0043\n",
      "Epoch 26/100\n",
      "290688/290688 [==============================] - 5s 16us/step - loss: 0.0062 - val_loss: 0.0042\n",
      "Epoch 27/100\n",
      "290688/290688 [==============================] - 5s 17us/step - loss: 0.0061 - val_loss: 0.0042- loss: 0\n",
      "Epoch 28/100\n",
      "290688/290688 [==============================] - 5s 16us/step - loss: 0.0061 - val_loss: 0.0041\n",
      "Epoch 29/100\n",
      "290688/290688 [==============================] - 5s 16us/step - loss: 0.0059 - val_loss: 0.0039\n",
      "Epoch 30/100\n",
      "290688/290688 [==============================] - 5s 16us/step - loss: 0.0057 - val_loss: 0.0036\n",
      "Epoch 31/100\n",
      "290688/290688 [==============================] - 5s 16us/step - loss: 0.0055 - val_loss: 0.0035\n",
      "Epoch 32/100\n",
      "290688/290688 [==============================] - 5s 16us/step - loss: 0.0054 - val_loss: 0.0033\n",
      "Epoch 33/100\n",
      "290688/290688 [==============================] - 5s 16us/step - loss: 0.0053 - val_loss: 0.0033\n",
      "Epoch 34/100\n",
      "290688/290688 [==============================] - 5s 16us/step - loss: 0.0053 - val_loss: 0.0031\n",
      "Epoch 35/100\n",
      "290688/290688 [==============================] - 5s 16us/step - loss: 0.0053 - val_loss: 0.0032\n",
      "Epoch 36/100\n",
      "290688/290688 [==============================] - 4s 15us/step - loss: 0.0053 - val_loss: 0.0029\n",
      "Epoch 37/100\n",
      "290688/290688 [==============================] - 5s 16us/step - loss: 0.0053 - val_loss: 0.0031\n",
      "Epoch 38/100\n",
      "290688/290688 [==============================] - 5s 16us/step - loss: 0.0053 - val_loss: 0.0030\n",
      "Epoch 39/100\n",
      "290688/290688 [==============================] - 5s 16us/step - loss: 0.0052 - val_loss: 0.0031\n",
      "Epoch 40/100\n",
      "290688/290688 [==============================] - 5s 16us/step - loss: 0.0052 - val_loss: 0.0032\n",
      "Epoch 41/100\n",
      "290688/290688 [==============================] - 5s 16us/step - loss: 0.0052 - val_loss: 0.0031\n",
      "Epoch 42/100\n",
      "290688/290688 [==============================] - 5s 16us/step - loss: 0.0052 - val_loss: 0.0029\n",
      "Epoch 43/100\n",
      "290688/290688 [==============================] - 5s 16us/step - loss: 0.0052 - val_loss: 0.0031\n",
      "Epoch 44/100\n",
      "290688/290688 [==============================] - 5s 16us/step - loss: 0.0052 - val_loss: 0.0030\n",
      "Epoch 45/100\n",
      "290688/290688 [==============================] - 5s 16us/step - loss: 0.0052 - val_loss: 0.0031\n",
      "Epoch 46/100\n",
      "290688/290688 [==============================] - 5s 16us/step - loss: 0.0052 - val_loss: 0.0030\n",
      "Epoch 47/100\n",
      "290688/290688 [==============================] - 4s 15us/step - loss: 0.0052 - val_loss: 0.0030\n",
      "Epoch 48/100\n",
      "290688/290688 [==============================] - 5s 16us/step - loss: 0.0052 - val_loss: 0.0028\n",
      "Epoch 49/100\n",
      "290688/290688 [==============================] - 5s 17us/step - loss: 0.0051 - val_loss: 0.0029\n",
      "Epoch 50/100\n",
      "290688/290688 [==============================] - 5s 16us/step - loss: 0.0051 - val_loss: 0.0030\n",
      "Epoch 51/100\n",
      "290688/290688 [==============================] - 5s 16us/step - loss: 0.0051 - val_loss: 0.0030\n",
      "Epoch 52/100\n",
      "290688/290688 [==============================] - 5s 16us/step - loss: 0.0051 - val_loss: 0.0030\n",
      "Epoch 53/100\n",
      "290688/290688 [==============================] - 4s 15us/step - loss: 0.0051 - val_loss: 0.0030\n",
      "Epoch 54/100\n",
      "290688/290688 [==============================] - 5s 16us/step - loss: 0.0051 - val_loss: 0.0028\n",
      "Epoch 55/100\n",
      "290688/290688 [==============================] - 5s 16us/step - loss: 0.0051 - val_loss: 0.0028\n",
      "Epoch 56/100\n",
      "290688/290688 [==============================] - 5s 16us/step - loss: 0.0050 - val_loss: 0.0031\n",
      "Epoch 57/100\n",
      "290688/290688 [==============================] - 5s 16us/step - loss: 0.0051 - val_loss: 0.0028\n",
      "Epoch 58/100\n",
      "290688/290688 [==============================] - 5s 16us/step - loss: 0.0050 - val_loss: 0.0026\n",
      "Epoch 59/100\n",
      "290688/290688 [==============================] - 5s 16us/step - loss: 0.0050 - val_loss: 0.0028\n",
      "Epoch 60/100\n",
      "290688/290688 [==============================] - 5s 16us/step - loss: 0.0050 - val_loss: 0.0028\n",
      "Epoch 61/100\n",
      "290688/290688 [==============================] - 5s 16us/step - loss: 0.0050 - val_loss: 0.0028\n",
      "Epoch 62/100\n",
      "290688/290688 [==============================] - 5s 16us/step - loss: 0.0050 - val_loss: 0.0026\n",
      "Epoch 63/100\n",
      "290688/290688 [==============================] - 5s 16us/step - loss: 0.0050 - val_loss: 0.0026\n",
      "Epoch 64/100\n",
      "290688/290688 [==============================] - 5s 16us/step - loss: 0.0049 - val_loss: 0.0028\n",
      "Epoch 65/100\n",
      "290688/290688 [==============================] - 4s 15us/step - loss: 0.0050 - val_loss: 0.0028\n",
      "Epoch 66/100\n",
      "290688/290688 [==============================] - 5s 16us/step - loss: 0.0049 - val_loss: 0.0028\n",
      "Epoch 67/100\n",
      "290688/290688 [==============================] - 5s 16us/step - loss: 0.0050 - val_loss: 0.0026\n",
      "Epoch 68/100\n",
      "290688/290688 [==============================] - 5s 16us/step - loss: 0.0049 - val_loss: 0.0026\n",
      "Epoch 69/100\n",
      "290688/290688 [==============================] - 5s 16us/step - loss: 0.0049 - val_loss: 0.0027\n",
      "Epoch 70/100\n",
      "290688/290688 [==============================] - 5s 16us/step - loss: 0.0049 - val_loss: 0.0025\n",
      "Epoch 71/100\n",
      "290688/290688 [==============================] - 5s 16us/step - loss: 0.0049 - val_loss: 0.0026\n",
      "Epoch 72/100\n",
      "290688/290688 [==============================] - 5s 16us/step - loss: 0.0049 - val_loss: 0.0026\n",
      "Epoch 73/100\n",
      "290688/290688 [==============================] - 4s 15us/step - loss: 0.0049 - val_loss: 0.0026\n",
      "Epoch 74/100\n",
      "290688/290688 [==============================] - 5s 16us/step - loss: 0.0049 - val_loss: 0.0025\n",
      "Epoch 75/100\n"
     ]
    },
    {
     "name": "stdout",
     "output_type": "stream",
     "text": [
      "290688/290688 [==============================] - 5s 16us/step - loss: 0.0049 - val_loss: 0.0027\n",
      "Epoch 76/100\n",
      "290688/290688 [==============================] - 5s 16us/step - loss: 0.0049 - val_loss: 0.0025\n",
      "Epoch 77/100\n",
      "290688/290688 [==============================] - 5s 16us/step - loss: 0.0049 - val_loss: 0.0025\n",
      "Epoch 78/100\n",
      "290688/290688 [==============================] - 5s 16us/step - loss: 0.0049 - val_loss: 0.0026\n",
      "Epoch 79/100\n",
      "290688/290688 [==============================] - 5s 16us/step - loss: 0.0049 - val_loss: 0.0027\n",
      "Epoch 80/100\n",
      "290688/290688 [==============================] - 4s 15us/step - loss: 0.0049 - val_loss: 0.0027\n",
      "Epoch 81/100\n",
      "290688/290688 [==============================] - 4s 15us/step - loss: 0.0049 - val_loss: 0.0026\n",
      "Epoch 82/100\n",
      "290688/290688 [==============================] - 5s 16us/step - loss: 0.0049 - val_loss: 0.0025\n",
      "Epoch 83/100\n",
      "290688/290688 [==============================] - 5s 16us/step - loss: 0.0049 - val_loss: 0.0025\n",
      "Epoch 84/100\n",
      "290688/290688 [==============================] - 5s 16us/step - loss: 0.0049 - val_loss: 0.0026\n",
      "Epoch 85/100\n",
      "290688/290688 [==============================] - 5s 16us/step - loss: 0.0049 - val_loss: 0.0025\n",
      "Epoch 86/100\n",
      "290688/290688 [==============================] - 5s 16us/step - loss: 0.0049 - val_loss: 0.0025\n",
      "Epoch 87/100\n",
      "290688/290688 [==============================] - 5s 16us/step - loss: 0.0049 - val_loss: 0.0026\n",
      "Epoch 88/100\n",
      "290688/290688 [==============================] - 5s 16us/step - loss: 0.0049 - val_loss: 0.0026\n",
      "Epoch 89/100\n",
      "290688/290688 [==============================] - 5s 16us/step - loss: 0.0049 - val_loss: 0.0025\n",
      "Epoch 90/100\n",
      "290688/290688 [==============================] - 5s 16us/step - loss: 0.0048 - val_loss: 0.0027\n",
      "Epoch 91/100\n",
      "290688/290688 [==============================] - 5s 16us/step - loss: 0.0048 - val_loss: 0.0024\n",
      "Epoch 92/100\n",
      "290688/290688 [==============================] - 5s 16us/step - loss: 0.0048 - val_loss: 0.0026\n",
      "Epoch 93/100\n",
      "290688/290688 [==============================] - 5s 16us/step - loss: 0.0049 - val_loss: 0.0026\n",
      "Epoch 94/100\n",
      "290688/290688 [==============================] - 5s 16us/step - loss: 0.0049 - val_loss: 0.0027\n",
      "Epoch 95/100\n",
      "290688/290688 [==============================] - 5s 16us/step - loss: 0.0049 - val_loss: 0.0026\n",
      "Epoch 96/100\n",
      "290688/290688 [==============================] - 4s 15us/step - loss: 0.0049 - val_loss: 0.0025\n",
      "Epoch 97/100\n",
      "290688/290688 [==============================] - 5s 16us/step - loss: 0.0048 - val_loss: 0.0026\n",
      "Epoch 98/100\n",
      "290688/290688 [==============================] - 5s 16us/step - loss: 0.0048 - val_loss: 0.0026\n",
      "Epoch 99/100\n",
      "290688/290688 [==============================] - 5s 16us/step - loss: 0.0049 - val_loss: 0.0025\n",
      "Epoch 100/100\n",
      "290688/290688 [==============================] - 5s 16us/step - loss: 0.0048 - val_loss: 0.0026\n"
     ]
    }
   ],
   "source": [
    "# Train model for 100 epochs, batch size of 100: \n",
    "NUM_EPOCHS=100\n",
    "BATCH_SIZE=1000\n",
    "\n",
    "history=model.fit(X_train,X_train, \n",
    "                  batch_size=BATCH_SIZE, \n",
    "                  epochs=NUM_EPOCHS,\n",
    "                  validation_data=(X_test, X_test),\n",
    "                  shuffle=False)"
   ]
  },
  {
   "cell_type": "code",
   "execution_count": 14,
   "metadata": {},
   "outputs": [
    {
     "data": {
      "image/png": "[encoded data removed]",
      "text/plain": [
       "<Figure size 432x288 with 1 Axes>"
      ]
     },
     "metadata": {
      "needs_background": "light"
     },
     "output_type": "display_data"
    }
   ],
   "source": [
    "import matplotlib.pyplot as plt\n",
    "\n",
    "plt.plot(history.history['loss'], label='Training loss')\n",
    "plt.plot(history.history['val_loss'], label='Validation loss')\n",
    "plt.legend(loc='upper right')\n",
    "plt.xlabel('Epochs')\n",
    "plt.ylabel('Loss, [mse]')\n",
    "plt.show()"
   ]
  },
  {
   "cell_type": "code",
   "execution_count": 15,
   "metadata": {},
   "outputs": [],
   "source": [
    "X_pred = model.predict(X_train)"
   ]
  },
  {
   "cell_type": "code",
   "execution_count": 16,
   "metadata": {},
   "outputs": [
    {
     "data": {
      "image/png": "[encoded data removed]",
      "text/plain": [
       "<Figure size 432x288 with 1 Axes>"
      ]
     },
     "metadata": {
      "needs_background": "light"
     },
     "output_type": "display_data"
    }
   ],
   "source": [
    "import seaborn as sns\n",
    "\n",
    "scored = np.mean(np.abs(X_pred-X_train), axis = 1)\n",
    "plt.figure()\n",
    "g = sns.distplot(scored, bins = 50, kde= True, color = 'blue');\n",
    "#g.set(xlim=(0.10,0.1), ylim=(0, 1))\n",
    "plt.show()"
   ]
  },
  {
   "cell_type": "code",
   "execution_count": 17,
   "metadata": {},
   "outputs": [
    {
     "name": "stdout",
     "output_type": "stream",
     "text": [
      "72672/72672 [==============================] - 2s 23us/step\n"
     ]
    },
    {
     "data": {
      "text/plain": [
       "0.0026295238781417394"
      ]
     },
     "execution_count": 17,
     "metadata": {},
     "output_type": "execute_result"
    }
   ],
   "source": [
    "model.evaluate(X_test,X_test)"
   ]
  },
  {
   "cell_type": "code",
   "execution_count": 18,
   "metadata": {},
   "outputs": [],
   "source": [
    "X_test_pred = model.predict(X_test)"
   ]
  },
  {
   "cell_type": "code",
   "execution_count": 19,
   "metadata": {},
   "outputs": [],
   "source": [
    "X_test_pred = X_test_pred.reshape(X_test_pred.shape[0],X_test_pred.shape[2])\n",
    "X_test = X_test.reshape(X_test.shape[0],X_test.shape[2])"
   ]
  },
  {
   "cell_type": "code",
   "execution_count": 20,
   "metadata": {},
   "outputs": [
    {
     "data": {
      "text/html": [
       "<div>\n",
       "<style scoped>\n",
       "    .dataframe tbody tr th:only-of-type {\n",
       "        vertical-align: middle;\n",
       "    }\n",
       "\n",
       "    .dataframe tbody tr th {\n",
       "        vertical-align: top;\n",
       "    }\n",
       "\n",
       "    .dataframe thead th {\n",
       "        text-align: right;\n",
       "    }\n",
       "</style>\n",
       "<table border=\"1\" class=\"dataframe\">\n",
       "  <thead>\n",
       "    <tr style=\"text-align: right;\">\n",
       "      <th></th>\n",
       "      <th>Loss_mae</th>\n",
       "      <th>Threshold</th>\n",
       "      <th>Anomaly</th>\n",
       "    </tr>\n",
       "  </thead>\n",
       "  <tbody>\n",
       "    <tr>\n",
       "      <th>13759</th>\n",
       "      <td>0.055861</td>\n",
       "      <td>0.1</td>\n",
       "      <td>False</td>\n",
       "    </tr>\n",
       "    <tr>\n",
       "      <th>58058</th>\n",
       "      <td>0.007843</td>\n",
       "      <td>0.1</td>\n",
       "      <td>False</td>\n",
       "    </tr>\n",
       "    <tr>\n",
       "      <th>62691</th>\n",
       "      <td>0.018189</td>\n",
       "      <td>0.1</td>\n",
       "      <td>False</td>\n",
       "    </tr>\n",
       "    <tr>\n",
       "      <th>8744</th>\n",
       "      <td>0.056459</td>\n",
       "      <td>0.1</td>\n",
       "      <td>False</td>\n",
       "    </tr>\n",
       "    <tr>\n",
       "      <th>32829</th>\n",
       "      <td>0.037868</td>\n",
       "      <td>0.1</td>\n",
       "      <td>False</td>\n",
       "    </tr>\n",
       "    <tr>\n",
       "      <th>...</th>\n",
       "      <td>...</td>\n",
       "      <td>...</td>\n",
       "      <td>...</td>\n",
       "    </tr>\n",
       "    <tr>\n",
       "      <th>49347</th>\n",
       "      <td>0.006133</td>\n",
       "      <td>0.1</td>\n",
       "      <td>False</td>\n",
       "    </tr>\n",
       "    <tr>\n",
       "      <th>50867</th>\n",
       "      <td>0.006689</td>\n",
       "      <td>0.1</td>\n",
       "      <td>False</td>\n",
       "    </tr>\n",
       "    <tr>\n",
       "      <th>37526</th>\n",
       "      <td>0.036414</td>\n",
       "      <td>0.1</td>\n",
       "      <td>False</td>\n",
       "    </tr>\n",
       "    <tr>\n",
       "      <th>57131</th>\n",
       "      <td>0.005392</td>\n",
       "      <td>0.1</td>\n",
       "      <td>False</td>\n",
       "    </tr>\n",
       "    <tr>\n",
       "      <th>69465</th>\n",
       "      <td>0.006641</td>\n",
       "      <td>0.1</td>\n",
       "      <td>False</td>\n",
       "    </tr>\n",
       "  </tbody>\n",
       "</table>\n",
       "<p>100 rows × 3 columns</p>\n",
       "</div>"
      ],
      "text/plain": [
       "       Loss_mae  Threshold  Anomaly\n",
       "13759  0.055861        0.1    False\n",
       "58058  0.007843        0.1    False\n",
       "62691  0.018189        0.1    False\n",
       "8744   0.056459        0.1    False\n",
       "32829  0.037868        0.1    False\n",
       "...         ...        ...      ...\n",
       "49347  0.006133        0.1    False\n",
       "50867  0.006689        0.1    False\n",
       "37526  0.036414        0.1    False\n",
       "57131  0.005392        0.1    False\n",
       "69465  0.006641        0.1    False\n",
       "\n",
       "[100 rows x 3 columns]"
      ]
     },
     "execution_count": 20,
     "metadata": {},
     "output_type": "execute_result"
    }
   ],
   "source": [
    "TH = 0.1\n",
    "scored = pd.DataFrame()\n",
    "scored['Loss_mae'] = np.mean(np.abs(X_test_pred-X_test), axis = 1)\n",
    "scored['Threshold'] = TH\n",
    "scored['Anomaly'] = scored['Loss_mae'] > scored['Threshold']\n",
    "scored.sample(100)"
   ]
  },
  {
   "cell_type": "code",
   "execution_count": 21,
   "metadata": {},
   "outputs": [],
   "source": [
    "X_pred_train = model.predict(np.array(X_train))"
   ]
  },
  {
   "cell_type": "code",
   "execution_count": 22,
   "metadata": {},
   "outputs": [],
   "source": [
    "X_pred_train = X_pred_train.reshape(X_pred_train.shape[0],X_pred_train.shape[2])\n",
    "X_train = X_train.reshape(X_train.shape[0],X_train.shape[2])"
   ]
  },
  {
   "cell_type": "code",
   "execution_count": 23,
   "metadata": {},
   "outputs": [],
   "source": [
    "X_pred_train = pd.DataFrame(X_pred_train)\n",
    "scored_train = pd.DataFrame()\n",
    "scored_train['Loss_mae'] = np.mean(np.abs(X_pred_train-X_train), axis = 1)\n",
    "scored_train['Threshold'] = TH\n",
    "scored_train['Anomaly'] = scored_train['Loss_mae'] > scored_train['Threshold']\n",
    "scored = pd.concat([scored_train, scored])"
   ]
  },
  {
   "cell_type": "code",
   "execution_count": 24,
   "metadata": {},
   "outputs": [
    {
     "data": {
      "text/plain": [
       "0.03700937661300958"
      ]
     },
     "execution_count": 24,
     "metadata": {},
     "output_type": "execute_result"
    }
   ],
   "source": [
    "scored_train['Loss_mae'].mean()"
   ]
  },
  {
   "cell_type": "code",
   "execution_count": 25,
   "metadata": {},
   "outputs": [
    {
     "data": {
      "text/plain": [
       "<matplotlib.axes._subplots.AxesSubplot at 0x2e8708f7688>"
      ]
     },
     "execution_count": 25,
     "metadata": {},
     "output_type": "execute_result"
    },
    {
     "data": {
      "image/png": "[encoded data removed]",
      "text/plain": [
       "<Figure size 720x432 with 1 Axes>"
      ]
     },
     "metadata": {
      "needs_background": "light"
     },
     "output_type": "display_data"
    }
   ],
   "source": [
    "scored.plot(logy=True,  figsize = (10,6), xlim = [110000,110500], ylim = [1e-4,1e-0])"
   ]
  },
  {
   "cell_type": "code",
   "execution_count": 26,
   "metadata": {},
   "outputs": [
    {
     "data": {
      "text/html": [
       "<div>\n",
       "<style scoped>\n",
       "    .dataframe tbody tr th:only-of-type {\n",
       "        vertical-align: middle;\n",
       "    }\n",
       "\n",
       "    .dataframe tbody tr th {\n",
       "        vertical-align: top;\n",
       "    }\n",
       "\n",
       "    .dataframe thead th {\n",
       "        text-align: right;\n",
       "    }\n",
       "</style>\n",
       "<table border=\"1\" class=\"dataframe\">\n",
       "  <thead>\n",
       "    <tr style=\"text-align: right;\">\n",
       "      <th></th>\n",
       "      <th>Loss_mae</th>\n",
       "      <th>Threshold</th>\n",
       "      <th>Anomaly</th>\n",
       "    </tr>\n",
       "  </thead>\n",
       "  <tbody>\n",
       "    <tr>\n",
       "      <th>0</th>\n",
       "      <td>0.052704</td>\n",
       "      <td>0.1</td>\n",
       "      <td>False</td>\n",
       "    </tr>\n",
       "    <tr>\n",
       "      <th>1</th>\n",
       "      <td>0.053289</td>\n",
       "      <td>0.1</td>\n",
       "      <td>False</td>\n",
       "    </tr>\n",
       "    <tr>\n",
       "      <th>2</th>\n",
       "      <td>0.053227</td>\n",
       "      <td>0.1</td>\n",
       "      <td>False</td>\n",
       "    </tr>\n",
       "    <tr>\n",
       "      <th>3</th>\n",
       "      <td>0.054782</td>\n",
       "      <td>0.1</td>\n",
       "      <td>False</td>\n",
       "    </tr>\n",
       "    <tr>\n",
       "      <th>4</th>\n",
       "      <td>0.052109</td>\n",
       "      <td>0.1</td>\n",
       "      <td>False</td>\n",
       "    </tr>\n",
       "    <tr>\n",
       "      <th>...</th>\n",
       "      <td>...</td>\n",
       "      <td>...</td>\n",
       "      <td>...</td>\n",
       "    </tr>\n",
       "    <tr>\n",
       "      <th>290683</th>\n",
       "      <td>0.006582</td>\n",
       "      <td>0.1</td>\n",
       "      <td>False</td>\n",
       "    </tr>\n",
       "    <tr>\n",
       "      <th>290684</th>\n",
       "      <td>0.005665</td>\n",
       "      <td>0.1</td>\n",
       "      <td>False</td>\n",
       "    </tr>\n",
       "    <tr>\n",
       "      <th>290685</th>\n",
       "      <td>0.007447</td>\n",
       "      <td>0.1</td>\n",
       "      <td>False</td>\n",
       "    </tr>\n",
       "    <tr>\n",
       "      <th>290686</th>\n",
       "      <td>0.006811</td>\n",
       "      <td>0.1</td>\n",
       "      <td>False</td>\n",
       "    </tr>\n",
       "    <tr>\n",
       "      <th>290687</th>\n",
       "      <td>0.007275</td>\n",
       "      <td>0.1</td>\n",
       "      <td>False</td>\n",
       "    </tr>\n",
       "  </tbody>\n",
       "</table>\n",
       "<p>290688 rows × 3 columns</p>\n",
       "</div>"
      ],
      "text/plain": [
       "        Loss_mae  Threshold  Anomaly\n",
       "0       0.052704        0.1    False\n",
       "1       0.053289        0.1    False\n",
       "2       0.053227        0.1    False\n",
       "3       0.054782        0.1    False\n",
       "4       0.052109        0.1    False\n",
       "...          ...        ...      ...\n",
       "290683  0.006582        0.1    False\n",
       "290684  0.005665        0.1    False\n",
       "290685  0.007447        0.1    False\n",
       "290686  0.006811        0.1    False\n",
       "290687  0.007275        0.1    False\n",
       "\n",
       "[290688 rows x 3 columns]"
      ]
     },
     "execution_count": 26,
     "metadata": {},
     "output_type": "execute_result"
    }
   ],
   "source": [
    "scored_train"
   ]
  },
  {
   "cell_type": "code",
   "execution_count": 27,
   "metadata": {},
   "outputs": [
    {
     "name": "stdout",
     "output_type": "stream",
     "text": [
      "        Loss_mae  Threshold  Anomaly\n",
      "97406   0.101364        0.1     True\n",
      "98245   0.108451        0.1     True\n",
      "102362  0.100236        0.1     True\n",
      "104039  0.101480        0.1     True\n",
      "104802  0.100208        0.1     True\n",
      "107318  0.103605        0.1     True\n",
      "110597  0.104105        0.1     True\n",
      "111817  0.100870        0.1     True\n",
      "112656  0.100067        0.1     True\n",
      "117993  0.103974        0.1     True\n",
      "120509  0.100812        0.1     True\n",
      "122949  0.102304        0.1     True\n",
      "122954  0.100111        0.1     True\n",
      "123787  0.103869        0.1     True\n",
      "124626  0.102117        0.1     True\n",
      "125846  0.107074        0.1     True\n",
      "127066  0.106544        0.1     True\n",
      "130345  0.100469        0.1     True\n",
      "133853  0.101558        0.1     True\n",
      "134081  0.111602        0.1     True\n",
      "138199  0.101870        0.1     True\n",
      "139419  0.102756        0.1     True\n",
      "139877  0.107438        0.1     True\n",
      "141478  0.107513        0.1     True\n",
      "147658  0.100505        0.1     True\n",
      "151772  0.104336        0.1     True\n",
      "153221  0.101086        0.1     True\n",
      "153831  0.109687        0.1     True\n",
      "156348  0.105632        0.1     True\n",
      "157954  0.102079        0.1     True\n",
      "160618  0.101766        0.1     True\n",
      "161457  0.102291        0.1     True\n",
      "162066  0.100129        0.1     True\n",
      "162905  0.101543        0.1     True\n",
      "166184  0.106287        0.1     True\n",
      "168243  0.101231        0.1     True\n",
      "175258  0.104683        0.1     True\n",
      "176478  0.101161        0.1     True\n",
      "177317  0.102938        0.1     True\n",
      "178537  0.105977        0.1     True\n",
      "183493  0.103282        0.1     True\n",
      "184713  0.102949        0.1     True\n",
      "187611  0.100999        0.1     True\n",
      "187615  0.102870        0.1     True\n",
      "189670  0.100936        0.1     True\n",
      "191728  0.100463        0.1     True\n",
      "193787  0.101377        0.1     True\n",
      "(47, 3)\n"
     ]
    }
   ],
   "source": [
    "anomalies = scored_train[scored_train['Anomaly'] == True]\n",
    "print(anomalies)\n",
    "print(anomalies.shape)"
   ]
  },
  {
   "cell_type": "code",
   "execution_count": 28,
   "metadata": {},
   "outputs": [
    {
     "name": "stdout",
     "output_type": "stream",
     "text": [
      "Empty DataFrame\n",
      "Columns: [Loss_mae, Threshold, Anomaly]\n",
      "Index: []\n",
      "(0, 3)\n"
     ]
    }
   ],
   "source": [
    "NB_anomalies = anomalies[anomalies.index <= 96896]\n",
    "print(NB_anomalies)\n",
    "print(NB_anomalies.shape)"
   ]
  },
  {
   "cell_type": "code",
   "execution_count": 29,
   "metadata": {},
   "outputs": [
    {
     "name": "stdout",
     "output_type": "stream",
     "text": [
      "        Loss_mae  Threshold  Anomaly\n",
      "97406   0.101364        0.1     True\n",
      "98245   0.108451        0.1     True\n",
      "102362  0.100236        0.1     True\n",
      "104039  0.101480        0.1     True\n",
      "104802  0.100208        0.1     True\n",
      "107318  0.103605        0.1     True\n",
      "110597  0.104105        0.1     True\n",
      "111817  0.100870        0.1     True\n",
      "112656  0.100067        0.1     True\n",
      "117993  0.103974        0.1     True\n",
      "120509  0.100812        0.1     True\n",
      "122949  0.102304        0.1     True\n",
      "122954  0.100111        0.1     True\n",
      "123787  0.103869        0.1     True\n",
      "124626  0.102117        0.1     True\n",
      "125846  0.107074        0.1     True\n",
      "127066  0.106544        0.1     True\n",
      "130345  0.100469        0.1     True\n",
      "133853  0.101558        0.1     True\n",
      "134081  0.111602        0.1     True\n",
      "138199  0.101870        0.1     True\n",
      "139419  0.102756        0.1     True\n",
      "139877  0.107438        0.1     True\n",
      "141478  0.107513        0.1     True\n",
      "147658  0.100505        0.1     True\n",
      "151772  0.104336        0.1     True\n",
      "153221  0.101086        0.1     True\n",
      "153831  0.109687        0.1     True\n",
      "156348  0.105632        0.1     True\n",
      "157954  0.102079        0.1     True\n",
      "160618  0.101766        0.1     True\n",
      "161457  0.102291        0.1     True\n",
      "162066  0.100129        0.1     True\n",
      "162905  0.101543        0.1     True\n",
      "166184  0.106287        0.1     True\n",
      "168243  0.101231        0.1     True\n",
      "175258  0.104683        0.1     True\n",
      "176478  0.101161        0.1     True\n",
      "177317  0.102938        0.1     True\n",
      "178537  0.105977        0.1     True\n",
      "183493  0.103282        0.1     True\n",
      "184713  0.102949        0.1     True\n",
      "187611  0.100999        0.1     True\n",
      "187615  0.102870        0.1     True\n",
      "189670  0.100936        0.1     True\n",
      "191728  0.100463        0.1     True\n",
      "193787  0.101377        0.1     True\n",
      "(47, 3)\n"
     ]
    }
   ],
   "source": [
    "IROR7_anomalies = anomalies[anomalies.index > 96896]\n",
    "print(IROR7_anomalies)\n",
    "print(IROR7_anomalies.shape)"
   ]
  },
  {
   "cell_type": "code",
   "execution_count": 38,
   "metadata": {},
   "outputs": [
    {
     "data": {
      "image/png": "[encoded data removed]",
      "text/plain": [
       "<Figure size 432x288 with 1 Axes>"
      ]
     },
     "metadata": {
      "needs_background": "light"
     },
     "output_type": "display_data"
    }
   ],
   "source": [
    "#plt.plot(scored_train.index, scored_train.Loss_mae, label='Loss(MAE)');\n",
    "plt.plot(scored_train.index, scored_train.Threshold, label='Threshold')\n",
    "g = sns.scatterplot(x=anomalies.index , y=anomalies.Loss_mae, label='anomaly', color='red')\n",
    "g.set(xlim = (100000, 200000), ylim = (0, 0.15))\n",
    "plt.title('Anomalies in 0.007\"')\n",
    "plt.legend();"
   ]
  },
  {
   "cell_type": "code",
   "execution_count": null,
   "metadata": {},
   "outputs": [],
   "source": []
  }
 ],
 "metadata": {
  "kernelspec": {
   "display_name": "Python 3",
   "language": "python",
   "name": "python3"
  },
  "language_info": {
   "codemirror_mode": {
    "name": "ipython",
    "version": 3
   },
   "file_extension": ".py",
   "mimetype": "text/x-python",
   "name": "python",
   "nbconvert_exporter": "python",
   "pygments_lexer": "ipython3",
   "version": "3.7.4"
  }
 },
 "nbformat": 4,
 "nbformat_minor": 4
}
