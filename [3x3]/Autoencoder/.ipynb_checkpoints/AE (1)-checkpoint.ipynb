{
 "cells": [
  {
   "cell_type": "code",
   "execution_count": 1,
   "metadata": {},
   "outputs": [],
   "source": [
    "#importing packages\n",
    "import pandas as pd\n",
    "import numpy as np"
   ]
  },
  {
   "cell_type": "code",
   "execution_count": 2,
   "metadata": {},
   "outputs": [],
   "source": [
    "Dtrain = pd.read_csv(\"CWRU Dataset-1-train.csv\")\n",
    "#Dtrain = Dtrain.iloc[:,0:4].values\n",
    "Dtest = pd.read_csv(\"CWRU Dataset-1-test.csv\")"
   ]
  },
  {
   "cell_type": "code",
   "execution_count": 3,
   "metadata": {},
   "outputs": [
    {
     "name": "stdout",
     "output_type": "stream",
     "text": [
      "(290688, 4)\n",
      "(72672, 4)\n"
     ]
    }
   ],
   "source": [
    "print(Dtrain.shape)\n",
    "print(Dtest.shape)"
   ]
  },
  {
   "cell_type": "code",
   "execution_count": 4,
   "metadata": {},
   "outputs": [
    {
     "data": {
      "text/plain": [
       "Outer Race (0.007\")    96896\n",
       "Inner Race (0.007\")    96896\n",
       "Normal                 96896\n",
       "Name: Bearing, dtype: int64"
      ]
     },
     "execution_count": 4,
     "metadata": {},
     "output_type": "execute_result"
    }
   ],
   "source": [
    "Dtrain[\"Bearing\"].value_counts()"
   ]
  },
  {
   "cell_type": "code",
   "execution_count": 5,
   "metadata": {},
   "outputs": [
    {
     "data": {
      "text/plain": [
       "Outer Race (0.007\")    33.333333\n",
       "Inner Race (0.007\")    33.333333\n",
       "Normal                 33.333333\n",
       "Name: Bearing, dtype: float64"
      ]
     },
     "execution_count": 5,
     "metadata": {},
     "output_type": "execute_result"
    }
   ],
   "source": [
    "Dtrain[\"Bearing\"].value_counts(normalize=True)*100"
   ]
  },
  {
   "cell_type": "code",
   "execution_count": 6,
   "metadata": {},
   "outputs": [
    {
     "data": {
      "text/plain": [
       "Index(['Bearing', 'Fault Diameter', 'DE', 'FE'], dtype='object')"
      ]
     },
     "execution_count": 6,
     "metadata": {},
     "output_type": "execute_result"
    }
   ],
   "source": [
    "Dtest.columns"
   ]
  },
  {
   "cell_type": "code",
   "execution_count": 7,
   "metadata": {},
   "outputs": [],
   "source": [
    "from sklearn.preprocessing import LabelEncoder, OneHotEncoder\n",
    "from sklearn.compose import ColumnTransformer\n",
    "labelencoder_train = LabelEncoder()\n",
    "Dtrain[\"Bearing\"] = labelencoder_train.fit_transform(Dtrain[\"Bearing\"])\n",
    "ct = ColumnTransformer([(\"Bearing\", OneHotEncoder(), [0])],    remainder = 'passthrough')\n",
    "Dtrain = ct.fit_transform(Dtrain)"
   ]
  },
  {
   "cell_type": "code",
   "execution_count": 8,
   "metadata": {},
   "outputs": [
    {
     "name": "stdout",
     "output_type": "stream",
     "text": [
      "[[ 0.          1.          0.          0.         -0.04965046 -0.09635818]\n",
      " [ 0.          1.          0.          0.         -0.00438092 -0.11957455]\n",
      " [ 0.          1.          0.          0.         -0.00333785 -0.11258909]\n",
      " ...\n",
      " [ 0.          0.          1.          0.007       0.3768495   0.18223818]\n",
      " [ 0.          0.          1.          0.007       0.1502525   0.07540182]\n",
      " [ 0.          0.          1.          0.007      -0.26152056 -0.13765454]]\n"
     ]
    }
   ],
   "source": [
    "from sklearn.preprocessing import LabelEncoder, OneHotEncoder\n",
    "from sklearn.compose import ColumnTransformer\n",
    "labelencoder_train = LabelEncoder()\n",
    "Dtest[\"Bearing\"] = labelencoder_train.fit_transform(Dtest[\"Bearing\"])\n",
    "ct = ColumnTransformer([(\"Bearing\", OneHotEncoder(), [0])],    remainder = 'passthrough')\n",
    "Dtest = ct.fit_transform(Dtest)\n",
    "\n",
    "print(Dtest)"
   ]
  },
  {
   "cell_type": "code",
   "execution_count": 9,
   "metadata": {},
   "outputs": [],
   "source": [
    "from sklearn.preprocessing import MinMaxScaler\n",
    "scaler = MinMaxScaler()\n",
    "X_train = pd.DataFrame(scaler.fit_transform(Dtrain))\n",
    "# Random shuffle training data\n",
    "X_train.sample(frac=1)\n",
    "\n",
    "X_test = pd.DataFrame(scaler.transform(Dtest))"
   ]
  },
  {
   "cell_type": "code",
   "execution_count": 10,
   "metadata": {},
   "outputs": [
    {
     "name": "stderr",
     "output_type": "stream",
     "text": [
      "Using TensorFlow backend.\n"
     ]
    }
   ],
   "source": [
    "from keras.layers import Input, Dropout\n",
    "from keras.layers.core import Dense \n",
    "from keras.models import Model, Sequential, load_model\n",
    "from keras import regularizers"
   ]
  },
  {
   "cell_type": "code",
   "execution_count": 11,
   "metadata": {},
   "outputs": [],
   "source": [
    "import tensorflow as tf\n",
    "from numpy.random import seed\n",
    "seed(10)\n",
    "tf.random.set_seed(10)\n",
    "act_func = 'elu'"
   ]
  },
  {
   "cell_type": "code",
   "execution_count": 12,
   "metadata": {},
   "outputs": [
    {
     "name": "stdout",
     "output_type": "stream",
     "text": [
      "Model: \"sequential_1\"\n",
      "_________________________________________________________________\n",
      "Layer (type)                 Output Shape              Param #   \n",
      "=================================================================\n",
      "dense_1 (Dense)              (None, 32)                224       \n",
      "_________________________________________________________________\n",
      "dense_2 (Dense)              (None, 2)                 66        \n",
      "_________________________________________________________________\n",
      "dense_3 (Dense)              (None, 32)                96        \n",
      "_________________________________________________________________\n",
      "dense_4 (Dense)              (None, 6)                 198       \n",
      "=================================================================\n",
      "Total params: 584\n",
      "Trainable params: 584\n",
      "Non-trainable params: 0\n",
      "_________________________________________________________________\n"
     ]
    }
   ],
   "source": [
    "# Input layer:\n",
    "model=Sequential()\n",
    "# First hidden layer, connected to input vector X. \n",
    "model.add(Dense(32, activation=act_func,\n",
    "                kernel_initializer='glorot_uniform',\n",
    "                kernel_regularizer=regularizers.l2(0.0),\n",
    "                input_shape=(X_train.shape[1],)\n",
    "               )\n",
    "         )\n",
    "\n",
    "model.add(Dense(2, activation=act_func, kernel_initializer='glorot_uniform'))\n",
    "\n",
    "model.add(Dense(32, activation=act_func, kernel_initializer='glorot_uniform'))\n",
    "\n",
    "model.add(Dense(X_train.shape[1], kernel_initializer='glorot_uniform'))\n",
    "\n",
    "model.compile(loss='mse',optimizer='adam')\n",
    "\n",
    "# Train model for 100 epochs, batch size of 10: \n",
    "model.summary()"
   ]
  },
  {
   "cell_type": "code",
   "execution_count": 13,
   "metadata": {},
   "outputs": [
    {
     "name": "stdout",
     "output_type": "stream",
     "text": [
      "Train on 261619 samples, validate on 29069 samples\n",
      "Epoch 1/100\n",
      "261619/261619 [==============================] - 1s 3us/step - loss: 0.0579 - val_loss: 0.0036\n",
      "Epoch 2/100\n",
      "261619/261619 [==============================] - 1s 2us/step - loss: 0.0510 - val_loss: 0.0037\n",
      "Epoch 3/100\n",
      "261619/261619 [==============================] - 1s 2us/step - loss: 0.0542 - val_loss: 0.0036\n",
      "Epoch 4/100\n",
      "261619/261619 [==============================] - 1s 2us/step - loss: 0.0319 - val_loss: 0.0041\n",
      "Epoch 5/100\n",
      "261619/261619 [==============================] - 1s 2us/step - loss: 0.0063 - val_loss: 0.0041\n",
      "Epoch 6/100\n",
      "261619/261619 [==============================] - 1s 2us/step - loss: 0.0026 - val_loss: 0.0040\n",
      "Epoch 7/100\n",
      "261619/261619 [==============================] - 1s 2us/step - loss: 0.0022 - val_loss: 0.0039\n",
      "Epoch 8/100\n",
      "261619/261619 [==============================] - 1s 2us/step - loss: 0.0021 - val_loss: 0.0038\n",
      "Epoch 9/100\n",
      "261619/261619 [==============================] - 1s 2us/step - loss: 0.0021 - val_loss: 0.0038\n",
      "Epoch 10/100\n",
      "261619/261619 [==============================] - 1s 2us/step - loss: 0.0021 - val_loss: 0.0038\n",
      "Epoch 11/100\n",
      "261619/261619 [==============================] - 1s 2us/step - loss: 0.0021 - val_loss: 0.0037\n",
      "Epoch 12/100\n",
      "261619/261619 [==============================] - 1s 2us/step - loss: 0.0020 - val_loss: 0.0037\n",
      "Epoch 13/100\n",
      "261619/261619 [==============================] - 1s 2us/step - loss: 0.0020 - val_loss: 0.0037\n",
      "Epoch 14/100\n",
      "261619/261619 [==============================] - 1s 2us/step - loss: 0.0020 - val_loss: 0.0037\n",
      "Epoch 15/100\n",
      "261619/261619 [==============================] - 1s 2us/step - loss: 0.0020 - val_loss: 0.0037\n",
      "Epoch 16/100\n",
      "261619/261619 [==============================] - 1s 2us/step - loss: 0.0020 - val_loss: 0.0037\n",
      "Epoch 17/100\n",
      "261619/261619 [==============================] - 1s 2us/step - loss: 0.0020 - val_loss: 0.0036\n",
      "Epoch 18/100\n",
      "261619/261619 [==============================] - 1s 2us/step - loss: 0.0021 - val_loss: 0.0036\n",
      "Epoch 19/100\n",
      "261619/261619 [==============================] - 1s 2us/step - loss: 0.0021 - val_loss: 0.0036\n",
      "Epoch 20/100\n",
      "261619/261619 [==============================] - 1s 2us/step - loss: 0.0021 - val_loss: 0.0036\n",
      "Epoch 21/100\n",
      "261619/261619 [==============================] - 1s 2us/step - loss: 0.0021 - val_loss: 0.0036\n",
      "Epoch 22/100\n",
      "261619/261619 [==============================] - 1s 2us/step - loss: 0.0021 - val_loss: 0.0036\n",
      "Epoch 23/100\n",
      "261619/261619 [==============================] - 1s 3us/step - loss: 0.0021 - val_loss: 0.0036\n",
      "Epoch 24/100\n",
      "261619/261619 [==============================] - 1s 3us/step - loss: 0.0021 - val_loss: 0.0036\n",
      "Epoch 25/100\n",
      "261619/261619 [==============================] - 1s 2us/step - loss: 0.0021 - val_loss: 0.0035\n",
      "Epoch 26/100\n",
      "261619/261619 [==============================] - 1s 2us/step - loss: 0.0021 - val_loss: 0.0035\n",
      "Epoch 27/100\n",
      "261619/261619 [==============================] - 1s 2us/step - loss: 0.0021 - val_loss: 0.0035\n",
      "Epoch 28/100\n",
      "261619/261619 [==============================] - 1s 2us/step - loss: 0.0021 - val_loss: 0.0035\n",
      "Epoch 29/100\n",
      "261619/261619 [==============================] - 1s 2us/step - loss: 0.0021 - val_loss: 0.0035\n",
      "Epoch 30/100\n",
      "261619/261619 [==============================] - 1s 2us/step - loss: 0.0021 - val_loss: 0.0034\n",
      "Epoch 31/100\n",
      "261619/261619 [==============================] - 1s 2us/step - loss: 0.0021 - val_loss: 0.0034\n",
      "Epoch 32/100\n",
      "261619/261619 [==============================] - 1s 2us/step - loss: 0.0021 - val_loss: 0.0033\n",
      "Epoch 33/100\n",
      "261619/261619 [==============================] - 1s 2us/step - loss: 0.0021 - val_loss: 0.0033\n",
      "Epoch 34/100\n",
      "261619/261619 [==============================] - 1s 2us/step - loss: 0.0021 - val_loss: 0.0032\n",
      "Epoch 35/100\n",
      "261619/261619 [==============================] - 1s 2us/step - loss: 0.0021 - val_loss: 0.0031\n",
      "Epoch 36/100\n",
      "261619/261619 [==============================] - 1s 2us/step - loss: 0.0021 - val_loss: 0.0029\n",
      "Epoch 37/100\n",
      "261619/261619 [==============================] - 1s 2us/step - loss: 0.0021 - val_loss: 0.0028\n",
      "Epoch 38/100\n",
      "261619/261619 [==============================] - 1s 2us/step - loss: 0.0021 - val_loss: 0.0026\n",
      "Epoch 39/100\n",
      "261619/261619 [==============================] - 1s 2us/step - loss: 0.0020 - val_loss: 0.0024\n",
      "Epoch 40/100\n",
      "261619/261619 [==============================] - 1s 2us/step - loss: 0.0020 - val_loss: 0.0022\n",
      "Epoch 41/100\n",
      "261619/261619 [==============================] - 1s 2us/step - loss: 0.0019 - val_loss: 0.0020\n",
      "Epoch 42/100\n",
      "261619/261619 [==============================] - 1s 2us/step - loss: 0.0018 - val_loss: 0.0018\n",
      "Epoch 43/100\n",
      "261619/261619 [==============================] - 1s 2us/step - loss: 0.0017 - val_loss: 0.0017\n",
      "Epoch 44/100\n",
      "261619/261619 [==============================] - 1s 2us/step - loss: 0.0016 - val_loss: 0.0016\n",
      "Epoch 45/100\n",
      "261619/261619 [==============================] - 1s 2us/step - loss: 0.0015 - val_loss: 0.0015\n",
      "Epoch 46/100\n",
      "261619/261619 [==============================] - 1s 2us/step - loss: 0.0014 - val_loss: 0.0015\n",
      "Epoch 47/100\n",
      "261619/261619 [==============================] - 1s 2us/step - loss: 0.0013 - val_loss: 0.0014\n",
      "Epoch 48/100\n",
      "261619/261619 [==============================] - 1s 2us/step - loss: 0.0013 - val_loss: 0.0014\n",
      "Epoch 49/100\n",
      "261619/261619 [==============================] - 1s 2us/step - loss: 0.0012 - val_loss: 0.0014\n",
      "Epoch 50/100\n",
      "261619/261619 [==============================] - 1s 2us/step - loss: 0.0012 - val_loss: 0.0014\n",
      "Epoch 51/100\n",
      "261619/261619 [==============================] - 1s 2us/step - loss: 0.0011 - val_loss: 0.0014\n",
      "Epoch 52/100\n",
      "261619/261619 [==============================] - 1s 2us/step - loss: 0.0011 - val_loss: 0.0013\n",
      "Epoch 53/100\n",
      "261619/261619 [==============================] - 1s 2us/step - loss: 0.0010 - val_loss: 0.0013\n",
      "Epoch 54/100\n",
      "261619/261619 [==============================] - 1s 2us/step - loss: 9.9100e-04 - val_loss: 0.0013\n",
      "Epoch 55/100\n",
      "261619/261619 [==============================] - 1s 2us/step - loss: 9.5958e-04 - val_loss: 0.0013\n",
      "Epoch 56/100\n",
      "261619/261619 [==============================] - 1s 2us/step - loss: 9.2974e-04 - val_loss: 0.0013\n",
      "Epoch 57/100\n",
      "261619/261619 [==============================] - 1s 2us/step - loss: 9.0090e-04 - val_loss: 0.0013\n",
      "Epoch 58/100\n",
      "261619/261619 [==============================] - 1s 2us/step - loss: 8.7301e-04 - val_loss: 0.0013\n",
      "Epoch 59/100\n",
      "261619/261619 [==============================] - 1s 2us/step - loss: 8.4670e-04 - val_loss: 0.0013\n",
      "Epoch 60/100\n",
      "261619/261619 [==============================] - 1s 2us/step - loss: 8.2245e-04 - val_loss: 0.0013\n",
      "Epoch 61/100\n",
      "261619/261619 [==============================] - 1s 2us/step - loss: 8.0024e-04 - val_loss: 0.0013\n",
      "Epoch 62/100\n",
      "261619/261619 [==============================] - 1s 2us/step - loss: 7.7976e-04 - val_loss: 0.0013\n",
      "Epoch 63/100\n",
      "261619/261619 [==============================] - 1s 2us/step - loss: 7.6075e-04 - val_loss: 0.0013\n",
      "Epoch 64/100\n",
      "261619/261619 [==============================] - 1s 2us/step - loss: 7.4300e-04 - val_loss: 0.0013\n",
      "Epoch 65/100\n",
      "261619/261619 [==============================] - 1s 2us/step - loss: 7.2625e-04 - val_loss: 0.0013\n",
      "Epoch 66/100\n",
      "261619/261619 [==============================] - 1s 2us/step - loss: 7.1021e-04 - val_loss: 0.0013\n",
      "Epoch 67/100\n",
      "261619/261619 [==============================] - 1s 2us/step - loss: 6.9465e-04 - val_loss: 0.0013\n",
      "Epoch 68/100\n",
      "261619/261619 [==============================] - 1s 2us/step - loss: 6.7984e-04 - val_loss: 0.0013\n",
      "Epoch 69/100\n",
      "261619/261619 [==============================] - 1s 2us/step - loss: 6.6813e-04 - val_loss: 0.0013\n",
      "Epoch 70/100\n",
      "261619/261619 [==============================] - 1s 2us/step - loss: 6.5907e-04 - val_loss: 0.0013\n",
      "Epoch 71/100\n",
      "261619/261619 [==============================] - 1s 2us/step - loss: 6.5116e-04 - val_loss: 0.0013\n",
      "Epoch 72/100\n",
      "261619/261619 [==============================] - 1s 2us/step - loss: 6.4333e-04 - val_loss: 0.0013\n",
      "Epoch 73/100\n",
      "261619/261619 [==============================] - 1s 2us/step - loss: 6.3500e-04 - val_loss: 0.0013\n",
      "Epoch 74/100\n",
      "261619/261619 [==============================] - 1s 2us/step - loss: 6.2740e-04 - val_loss: 0.0013\n",
      "Epoch 75/100\n"
     ]
    },
    {
     "name": "stdout",
     "output_type": "stream",
     "text": [
      "261619/261619 [==============================] - 1s 2us/step - loss: 6.2187e-04 - val_loss: 0.0013\n",
      "Epoch 76/100\n",
      "261619/261619 [==============================] - 1s 2us/step - loss: 6.1681e-04 - val_loss: 0.0013\n",
      "Epoch 77/100\n",
      "261619/261619 [==============================] - 1s 2us/step - loss: 6.1215e-04 - val_loss: 0.0013\n",
      "Epoch 78/100\n",
      "261619/261619 [==============================] - 1s 2us/step - loss: 6.0953e-04 - val_loss: 0.0013\n",
      "Epoch 79/100\n",
      "261619/261619 [==============================] - 1s 2us/step - loss: 6.0661e-04 - val_loss: 0.0013\n",
      "Epoch 80/100\n",
      "261619/261619 [==============================] - 1s 2us/step - loss: 6.0283e-04 - val_loss: 0.0013\n",
      "Epoch 81/100\n",
      "261619/261619 [==============================] - 1s 2us/step - loss: 5.9894e-04 - val_loss: 0.0013\n",
      "Epoch 82/100\n",
      "261619/261619 [==============================] - 1s 2us/step - loss: 5.9613e-04 - val_loss: 0.0013\n",
      "Epoch 83/100\n",
      "261619/261619 [==============================] - 1s 2us/step - loss: 5.9468e-04 - val_loss: 0.0013\n",
      "Epoch 84/100\n",
      "261619/261619 [==============================] - 1s 2us/step - loss: 5.9329e-04 - val_loss: 0.0013\n",
      "Epoch 85/100\n",
      "261619/261619 [==============================] - 1s 2us/step - loss: 5.9085e-04 - val_loss: 0.0013\n",
      "Epoch 86/100\n",
      "261619/261619 [==============================] - 1s 2us/step - loss: 5.8857e-04 - val_loss: 0.0013\n",
      "Epoch 87/100\n",
      "261619/261619 [==============================] - 1s 2us/step - loss: 5.8726e-04 - val_loss: 0.0013\n",
      "Epoch 88/100\n",
      "261619/261619 [==============================] - 1s 2us/step - loss: 5.8660e-04 - val_loss: 0.0013\n",
      "Epoch 89/100\n",
      "261619/261619 [==============================] - 1s 2us/step - loss: 5.8570e-04 - val_loss: 0.0013\n",
      "Epoch 90/100\n",
      "261619/261619 [==============================] - 1s 2us/step - loss: 5.8444e-04 - val_loss: 0.0013\n",
      "Epoch 91/100\n",
      "261619/261619 [==============================] - 1s 2us/step - loss: 5.8333e-04 - val_loss: 0.0013\n",
      "Epoch 92/100\n",
      "261619/261619 [==============================] - 1s 2us/step - loss: 5.8236e-04 - val_loss: 0.0013\n",
      "Epoch 93/100\n",
      "261619/261619 [==============================] - 1s 2us/step - loss: 5.8140e-04 - val_loss: 0.0013\n",
      "Epoch 94/100\n",
      "261619/261619 [==============================] - 1s 2us/step - loss: 5.8053e-04 - val_loss: 0.0013\n",
      "Epoch 95/100\n",
      "261619/261619 [==============================] - 1s 2us/step - loss: 5.7971e-04 - val_loss: 0.0013\n",
      "Epoch 96/100\n",
      "261619/261619 [==============================] - 1s 2us/step - loss: 5.7878e-04 - val_loss: 0.0013\n",
      "Epoch 97/100\n",
      "261619/261619 [==============================] - 1s 2us/step - loss: 5.7775e-04 - val_loss: 0.0013\n",
      "Epoch 98/100\n",
      "261619/261619 [==============================] - 1s 2us/step - loss: 5.7672e-04 - val_loss: 0.0013\n",
      "Epoch 99/100\n",
      "261619/261619 [==============================] - 1s 2us/step - loss: 5.7582e-04 - val_loss: 0.0013\n",
      "Epoch 100/100\n",
      "261619/261619 [==============================] - 1s 2us/step - loss: 5.7499e-04 - val_loss: 0.0013\n"
     ]
    }
   ],
   "source": [
    "NUM_EPOCHS=100\n",
    "BATCH_SIZE=1000\n",
    "history=model.fit(X_train,X_train, \n",
    "                  batch_size=BATCH_SIZE, \n",
    "                  epochs=NUM_EPOCHS,\n",
    "                  validation_split=0.1,\n",
    "                  verbose = 1,\n",
    "                  shuffle = False)"
   ]
  },
  {
   "cell_type": "code",
   "execution_count": 14,
   "metadata": {},
   "outputs": [
    {
     "data": {
      "image/png": "[encoded data removed]",
      "text/plain": [
       "<Figure size 432x288 with 1 Axes>"
      ]
     },
     "metadata": {
      "needs_background": "light"
     },
     "output_type": "display_data"
    }
   ],
   "source": [
    "import matplotlib.pyplot as plt\n",
    "\n",
    "plt.plot(history.history['loss'], 'b', label='Training loss')\n",
    "plt.plot(history.history['val_loss'], 'r', label='Validation loss')\n",
    "plt.legend(loc='upper right')\n",
    "plt.xlabel('Epochs')\n",
    "plt.ylabel('Loss, [mse]')\n",
    "plt.ylim([0,.05])\n",
    "plt.show()"
   ]
  },
  {
   "cell_type": "code",
   "execution_count": 15,
   "metadata": {},
   "outputs": [],
   "source": [
    "X_pred = model.predict(X_train)"
   ]
  },
  {
   "cell_type": "code",
   "execution_count": 16,
   "metadata": {},
   "outputs": [
    {
     "data": {
      "image/png": "[encoded data removed]",
      "text/plain": [
       "<Figure size 432x288 with 1 Axes>"
      ]
     },
     "metadata": {
      "needs_background": "light"
     },
     "output_type": "display_data"
    }
   ],
   "source": [
    "import seaborn as sns\n",
    "\n",
    "scored = np.mean(np.abs(X_pred-X_train), axis = 1)\n",
    "plt.figure()\n",
    "g = sns.distplot(scored, bins = 10, kde= True);\n",
    "#g.set(xlim=(0.05,0.10), ylim=(0, 1))\n",
    "plt.show()"
   ]
  },
  {
   "cell_type": "code",
   "execution_count": 17,
   "metadata": {},
   "outputs": [
    {
     "name": "stdout",
     "output_type": "stream",
     "text": [
      "72672/72672 [==============================] - 1s 13us/step\n"
     ]
    },
    {
     "data": {
      "text/plain": [
       "0.0007941663589144549"
      ]
     },
     "execution_count": 17,
     "metadata": {},
     "output_type": "execute_result"
    }
   ],
   "source": [
    "model.evaluate(X_test,X_test)"
   ]
  },
  {
   "cell_type": "code",
   "execution_count": 18,
   "metadata": {},
   "outputs": [
    {
     "data": {
      "text/html": [
       "<div>\n",
       "<style scoped>\n",
       "    .dataframe tbody tr th:only-of-type {\n",
       "        vertical-align: middle;\n",
       "    }\n",
       "\n",
       "    .dataframe tbody tr th {\n",
       "        vertical-align: top;\n",
       "    }\n",
       "\n",
       "    .dataframe thead th {\n",
       "        text-align: right;\n",
       "    }\n",
       "</style>\n",
       "<table border=\"1\" class=\"dataframe\">\n",
       "  <thead>\n",
       "    <tr style=\"text-align: right;\">\n",
       "      <th></th>\n",
       "      <th>Loss_mae</th>\n",
       "      <th>Threshold</th>\n",
       "      <th>Anomaly</th>\n",
       "    </tr>\n",
       "  </thead>\n",
       "  <tbody>\n",
       "    <tr>\n",
       "      <th>188418</th>\n",
       "      <td>0.001954</td>\n",
       "      <td>0.07</td>\n",
       "      <td>False</td>\n",
       "    </tr>\n",
       "    <tr>\n",
       "      <th>101783</th>\n",
       "      <td>0.009817</td>\n",
       "      <td>0.07</td>\n",
       "      <td>False</td>\n",
       "    </tr>\n",
       "    <tr>\n",
       "      <th>6365</th>\n",
       "      <td>0.048580</td>\n",
       "      <td>0.07</td>\n",
       "      <td>False</td>\n",
       "    </tr>\n",
       "    <tr>\n",
       "      <th>125498</th>\n",
       "      <td>0.036889</td>\n",
       "      <td>0.07</td>\n",
       "      <td>False</td>\n",
       "    </tr>\n",
       "    <tr>\n",
       "      <th>151197</th>\n",
       "      <td>0.054696</td>\n",
       "      <td>0.07</td>\n",
       "      <td>False</td>\n",
       "    </tr>\n",
       "    <tr>\n",
       "      <th>...</th>\n",
       "      <td>...</td>\n",
       "      <td>...</td>\n",
       "      <td>...</td>\n",
       "    </tr>\n",
       "    <tr>\n",
       "      <th>165726</th>\n",
       "      <td>0.001742</td>\n",
       "      <td>0.07</td>\n",
       "      <td>False</td>\n",
       "    </tr>\n",
       "    <tr>\n",
       "      <th>23551</th>\n",
       "      <td>0.044246</td>\n",
       "      <td>0.07</td>\n",
       "      <td>False</td>\n",
       "    </tr>\n",
       "    <tr>\n",
       "      <th>36681</th>\n",
       "      <td>0.042019</td>\n",
       "      <td>0.07</td>\n",
       "      <td>False</td>\n",
       "    </tr>\n",
       "    <tr>\n",
       "      <th>124383</th>\n",
       "      <td>0.001941</td>\n",
       "      <td>0.07</td>\n",
       "      <td>False</td>\n",
       "    </tr>\n",
       "    <tr>\n",
       "      <th>31369</th>\n",
       "      <td>0.040714</td>\n",
       "      <td>0.07</td>\n",
       "      <td>False</td>\n",
       "    </tr>\n",
       "  </tbody>\n",
       "</table>\n",
       "<p>100 rows × 3 columns</p>\n",
       "</div>"
      ],
      "text/plain": [
       "        Loss_mae  Threshold  Anomaly\n",
       "188418  0.001954       0.07    False\n",
       "101783  0.009817       0.07    False\n",
       "6365    0.048580       0.07    False\n",
       "125498  0.036889       0.07    False\n",
       "151197  0.054696       0.07    False\n",
       "...          ...        ...      ...\n",
       "165726  0.001742       0.07    False\n",
       "23551   0.044246       0.07    False\n",
       "36681   0.042019       0.07    False\n",
       "124383  0.001941       0.07    False\n",
       "31369   0.040714       0.07    False\n",
       "\n",
       "[100 rows x 3 columns]"
      ]
     },
     "execution_count": 18,
     "metadata": {},
     "output_type": "execute_result"
    }
   ],
   "source": [
    "TH = 0.07\n",
    "scored = pd.DataFrame()\n",
    "scored['Loss_mae'] = np.mean(np.abs(X_pred-X_train), axis = 1)\n",
    "scored['Threshold'] = TH\n",
    "scored['Anomaly'] = scored['Loss_mae'] > scored['Threshold']\n",
    "scored.sample(100)"
   ]
  },
  {
   "cell_type": "code",
   "execution_count": 19,
   "metadata": {},
   "outputs": [],
   "source": [
    "X_pred_train = model.predict(np.array(X_train))\n",
    "X_pred_train = pd.DataFrame(X_pred_train)\n",
    "\n",
    "scored_train = pd.DataFrame()\n",
    "scored_train['Loss_mae'] = np.mean(np.abs(X_pred_train-X_train), axis = 1)\n",
    "scored_train['Threshold'] = TH\n",
    "scored_train['Anomaly'] = scored_train['Loss_mae'] > scored_train['Threshold']\n",
    "scored = pd.concat([scored_train, scored])"
   ]
  },
  {
   "cell_type": "code",
   "execution_count": 20,
   "metadata": {},
   "outputs": [
    {
     "data": {
      "text/plain": [
       "0.02687285281294006"
      ]
     },
     "execution_count": 20,
     "metadata": {},
     "output_type": "execute_result"
    }
   ],
   "source": [
    "scored_train['Loss_mae'].mean()"
   ]
  },
  {
   "cell_type": "code",
   "execution_count": 21,
   "metadata": {},
   "outputs": [
    {
     "data": {
      "text/plain": [
       "<matplotlib.axes._subplots.AxesSubplot at 0x286fc789348>"
      ]
     },
     "execution_count": 21,
     "metadata": {},
     "output_type": "execute_result"
    },
    {
     "data": {
      "image/png": "[encoded data removed]",
      "text/plain": [
       "<Figure size 720x432 with 1 Axes>"
      ]
     },
     "metadata": {
      "needs_background": "light"
     },
     "output_type": "display_data"
    }
   ],
   "source": [
    "scored.plot(logy=True,  figsize = (10,6), xlim =[0,5000])"
   ]
  },
  {
   "cell_type": "code",
   "execution_count": 22,
   "metadata": {},
   "outputs": [
    {
     "data": {
      "text/html": [
       "<div>\n",
       "<style scoped>\n",
       "    .dataframe tbody tr th:only-of-type {\n",
       "        vertical-align: middle;\n",
       "    }\n",
       "\n",
       "    .dataframe tbody tr th {\n",
       "        vertical-align: top;\n",
       "    }\n",
       "\n",
       "    .dataframe thead th {\n",
       "        text-align: right;\n",
       "    }\n",
       "</style>\n",
       "<table border=\"1\" class=\"dataframe\">\n",
       "  <thead>\n",
       "    <tr style=\"text-align: right;\">\n",
       "      <th></th>\n",
       "      <th>Loss_mae</th>\n",
       "      <th>Threshold</th>\n",
       "      <th>Anomaly</th>\n",
       "    </tr>\n",
       "  </thead>\n",
       "  <tbody>\n",
       "    <tr>\n",
       "      <th>0</th>\n",
       "      <td>0.039978</td>\n",
       "      <td>0.07</td>\n",
       "      <td>False</td>\n",
       "    </tr>\n",
       "    <tr>\n",
       "      <th>1</th>\n",
       "      <td>0.037739</td>\n",
       "      <td>0.07</td>\n",
       "      <td>False</td>\n",
       "    </tr>\n",
       "    <tr>\n",
       "      <th>2</th>\n",
       "      <td>0.040839</td>\n",
       "      <td>0.07</td>\n",
       "      <td>False</td>\n",
       "    </tr>\n",
       "    <tr>\n",
       "      <th>3</th>\n",
       "      <td>0.042227</td>\n",
       "      <td>0.07</td>\n",
       "      <td>False</td>\n",
       "    </tr>\n",
       "    <tr>\n",
       "      <th>4</th>\n",
       "      <td>0.043573</td>\n",
       "      <td>0.07</td>\n",
       "      <td>False</td>\n",
       "    </tr>\n",
       "    <tr>\n",
       "      <th>...</th>\n",
       "      <td>...</td>\n",
       "      <td>...</td>\n",
       "      <td>...</td>\n",
       "    </tr>\n",
       "    <tr>\n",
       "      <th>193787</th>\n",
       "      <td>0.003602</td>\n",
       "      <td>0.07</td>\n",
       "      <td>False</td>\n",
       "    </tr>\n",
       "    <tr>\n",
       "      <th>193788</th>\n",
       "      <td>0.000864</td>\n",
       "      <td>0.07</td>\n",
       "      <td>False</td>\n",
       "    </tr>\n",
       "    <tr>\n",
       "      <th>193789</th>\n",
       "      <td>0.002672</td>\n",
       "      <td>0.07</td>\n",
       "      <td>False</td>\n",
       "    </tr>\n",
       "    <tr>\n",
       "      <th>193790</th>\n",
       "      <td>0.001107</td>\n",
       "      <td>0.07</td>\n",
       "      <td>False</td>\n",
       "    </tr>\n",
       "    <tr>\n",
       "      <th>193791</th>\n",
       "      <td>0.002185</td>\n",
       "      <td>0.07</td>\n",
       "      <td>False</td>\n",
       "    </tr>\n",
       "  </tbody>\n",
       "</table>\n",
       "<p>193792 rows × 3 columns</p>\n",
       "</div>"
      ],
      "text/plain": [
       "        Loss_mae  Threshold  Anomaly\n",
       "0       0.039978       0.07    False\n",
       "1       0.037739       0.07    False\n",
       "2       0.040839       0.07    False\n",
       "3       0.042227       0.07    False\n",
       "4       0.043573       0.07    False\n",
       "...          ...        ...      ...\n",
       "193787  0.003602       0.07    False\n",
       "193788  0.000864       0.07    False\n",
       "193789  0.002672       0.07    False\n",
       "193790  0.001107       0.07    False\n",
       "193791  0.002185       0.07    False\n",
       "\n",
       "[193792 rows x 3 columns]"
      ]
     },
     "execution_count": 22,
     "metadata": {},
     "output_type": "execute_result"
    }
   ],
   "source": [
    "scored_train"
   ]
  },
  {
   "cell_type": "code",
   "execution_count": 23,
   "metadata": {},
   "outputs": [
    {
     "name": "stdout",
     "output_type": "stream",
     "text": [
      "        Loss_mae  Threshold  Anomaly\n",
      "96974   0.080578       0.07     True\n",
      "96978   0.074834       0.07     True\n",
      "97132   0.071494       0.07     True\n",
      "98190   0.072431       0.07     True\n",
      "98198   0.074440       0.07     True\n",
      "...          ...        ...      ...\n",
      "191953  0.070212       0.07     True\n",
      "192334  0.075670       0.07     True\n",
      "192338  0.077214       0.07     True\n",
      "193170  0.103953       0.07     True\n",
      "193174  0.091568       0.07     True\n",
      "\n",
      "[306 rows x 3 columns]\n",
      "(306, 3)\n"
     ]
    }
   ],
   "source": [
    "anomalies = scored_train[scored_train['Anomaly'] == True]\n",
    "print(anomalies)\n",
    "print(anomalies.shape)"
   ]
  },
  {
   "cell_type": "code",
   "execution_count": 24,
   "metadata": {},
   "outputs": [
    {
     "name": "stdout",
     "output_type": "stream",
     "text": [
      "Empty DataFrame\n",
      "Columns: [Loss_mae, Threshold, Anomaly]\n",
      "Index: []\n",
      "(0, 3)\n"
     ]
    }
   ],
   "source": [
    "NB_anomalies = anomalies[anomalies.index <= 96896]\n",
    "print(NB_anomalies)\n",
    "print(NB_anomalies.shape)"
   ]
  },
  {
   "cell_type": "code",
   "execution_count": 25,
   "metadata": {},
   "outputs": [
    {
     "name": "stdout",
     "output_type": "stream",
     "text": [
      "        Loss_mae  Threshold  Anomaly\n",
      "96974   0.080578       0.07     True\n",
      "96978   0.074834       0.07     True\n",
      "97132   0.071494       0.07     True\n",
      "98190   0.072431       0.07     True\n",
      "98198   0.074440       0.07     True\n",
      "...          ...        ...      ...\n",
      "191953  0.070212       0.07     True\n",
      "192334  0.075670       0.07     True\n",
      "192338  0.077214       0.07     True\n",
      "193170  0.103953       0.07     True\n",
      "193174  0.091568       0.07     True\n",
      "\n",
      "[306 rows x 3 columns]\n",
      "(306, 3)\n"
     ]
    }
   ],
   "source": [
    "IR21_anomalies = anomalies[anomalies.index > 96896]\n",
    "print(IR21_anomalies)\n",
    "print(IR21_anomalies.shape)"
   ]
  },
  {
   "cell_type": "code",
   "execution_count": 27,
   "metadata": {},
   "outputs": [
    {
     "data": {
      "image/png": "[encoded data removed]",
      "text/plain": [
       "<Figure size 432x288 with 1 Axes>"
      ]
     },
     "metadata": {
      "needs_background": "light"
     },
     "output_type": "display_data"
    }
   ],
   "source": [
    "plt.plot(scored_train.index, scored_train.Loss_mae, label='Loss(MAE)');\n",
    "plt.plot(scored_train.index, scored_train.Threshold, label='Threshold')\n",
    "g = sns.scatterplot(x=anomalies.index , y=anomalies.Loss_mae, label='anomaly', color='red')\n",
    "g.set(xlim = (len(scored_train.index)-10000, len(scored_train.index)), ylim = (0, 0.2))\n",
    "plt.title('Anomalies in Inner Race 0.021\"')\n",
    "plt.legend();"
   ]
  },
  {
   "cell_type": "code",
   "execution_count": null,
   "metadata": {},
   "outputs": [],
   "source": []
  }
 ],
 "metadata": {
  "kernelspec": {
   "display_name": "Python 3",
   "language": "python",
   "name": "python3"
  },
  "language_info": {
   "codemirror_mode": {
    "name": "ipython",
    "version": 3
   },
   "file_extension": ".py",
   "mimetype": "text/x-python",
   "name": "python",
   "nbconvert_exporter": "python",
   "pygments_lexer": "ipython3",
   "version": "3.7.4"
  }
 },
 "nbformat": 4,
 "nbformat_minor": 4
}
