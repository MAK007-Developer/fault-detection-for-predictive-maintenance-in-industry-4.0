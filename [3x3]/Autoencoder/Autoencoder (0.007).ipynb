{
 "cells": [
  {
   "cell_type": "code",
   "execution_count": 1,
   "metadata": {},
   "outputs": [],
   "source": [
    "#importing packages\n",
    "import pandas as pd\n",
    "import numpy as np"
   ]
  },
  {
   "cell_type": "code",
   "execution_count": 2,
   "metadata": {},
   "outputs": [],
   "source": [
    "Dtrain = pd.read_csv(\"CWRU Dataset-1-train.csv\")\n",
    "#Dtrain = Dtrain.iloc[:,0:4].values\n",
    "Dtest = pd.read_csv(\"CWRU Dataset-1-test.csv\")"
   ]
  },
  {
   "cell_type": "code",
   "execution_count": 3,
   "metadata": {},
   "outputs": [
    {
     "data": {
      "text/plain": [
       "Inner Race (0.007\")    96896\n",
       "Normal                 96896\n",
       "Outer Race (0.007\")    96896\n",
       "Name: Bearing, dtype: int64"
      ]
     },
     "execution_count": 3,
     "metadata": {},
     "output_type": "execute_result"
    }
   ],
   "source": [
    "Dtrain[\"Bearing\"].value_counts()"
   ]
  },
  {
   "cell_type": "code",
   "execution_count": 4,
   "metadata": {},
   "outputs": [
    {
     "data": {
      "text/plain": [
       "Inner Race (0.007\")    33.333333\n",
       "Normal                 33.333333\n",
       "Outer Race (0.007\")    33.333333\n",
       "Name: Bearing, dtype: float64"
      ]
     },
     "execution_count": 4,
     "metadata": {},
     "output_type": "execute_result"
    }
   ],
   "source": [
    "Dtrain[\"Bearing\"].value_counts(normalize=True)*100"
   ]
  },
  {
   "cell_type": "code",
   "execution_count": 5,
   "metadata": {},
   "outputs": [
    {
     "data": {
      "text/plain": [
       "Index(['Bearing', 'Fault Diameter', 'DE', 'FE'], dtype='object')"
      ]
     },
     "execution_count": 5,
     "metadata": {},
     "output_type": "execute_result"
    }
   ],
   "source": [
    "Dtest.columns"
   ]
  },
  {
   "cell_type": "code",
   "execution_count": 6,
   "metadata": {},
   "outputs": [],
   "source": [
    "from sklearn.preprocessing import LabelEncoder, OneHotEncoder\n",
    "from sklearn.compose import ColumnTransformer\n",
    "labelencoder_train = LabelEncoder()\n",
    "Dtrain[\"Bearing\"] = labelencoder_train.fit_transform(Dtrain[\"Bearing\"])\n",
    "ct = ColumnTransformer([(\"Bearing\", OneHotEncoder(), [0])],    remainder = 'passthrough')\n",
    "Dtrain = ct.fit_transform(Dtrain)"
   ]
  },
  {
   "cell_type": "code",
   "execution_count": 7,
   "metadata": {},
   "outputs": [],
   "source": [
    "from sklearn.preprocessing import LabelEncoder, OneHotEncoder\n",
    "from sklearn.compose import ColumnTransformer\n",
    "labelencoder_train = LabelEncoder()\n",
    "Dtest[\"Bearing\"] = labelencoder_train.fit_transform(Dtest[\"Bearing\"])\n",
    "ct = ColumnTransformer([(\"Bearing\", OneHotEncoder(), [0])],    remainder = 'passthrough')\n",
    "Dtest = ct.fit_transform(Dtest)"
   ]
  },
  {
   "cell_type": "code",
   "execution_count": 8,
   "metadata": {},
   "outputs": [],
   "source": [
    "from sklearn.preprocessing import MinMaxScaler\n",
    "scaler = MinMaxScaler()\n",
    "X_train = pd.DataFrame(scaler.fit_transform(Dtrain))\n",
    "# Random shuffle training data\n",
    "X_train.sample(frac=1)\n",
    "\n",
    "X_test = pd.DataFrame(scaler.transform(Dtest))\n",
    "\n"
   ]
  },
  {
   "cell_type": "code",
   "execution_count": 9,
   "metadata": {},
   "outputs": [
    {
     "name": "stderr",
     "output_type": "stream",
     "text": [
      "Using TensorFlow backend.\n"
     ]
    }
   ],
   "source": [
    "from keras.layers import Input, Dropout\n",
    "from keras.layers.core import Dense \n",
    "from keras.models import Model, Sequential, load_model\n",
    "from keras import regularizers"
   ]
  },
  {
   "cell_type": "code",
   "execution_count": 10,
   "metadata": {},
   "outputs": [],
   "source": [
    "import tensorflow as tf\n",
    "from numpy.random import seed\n",
    "seed(10)\n",
    "tf.random.set_seed(10)\n",
    "act_func = 'elu'"
   ]
  },
  {
   "cell_type": "code",
   "execution_count": 11,
   "metadata": {},
   "outputs": [],
   "source": [
    "# Input layer:\n",
    "model=Sequential()\n",
    "# First hidden layer, connected to input vector X. \n",
    "model.add(Dense(6,activation=act_func,\n",
    "                kernel_initializer='glorot_uniform',\n",
    "                kernel_regularizer=regularizers.l2(0.0),\n",
    "                input_shape=(X_train.shape[1],)\n",
    "               )\n",
    "         )\n",
    "\n",
    "model.add(Dense(3,activation=act_func,\n",
    "                kernel_initializer='glorot_uniform'))\n",
    "\n",
    "model.add(Dense(6,activation=act_func,\n",
    "                kernel_initializer='glorot_uniform'))\n",
    "\n",
    "model.add(Dense(X_train.shape[1],\n",
    "                kernel_initializer='glorot_uniform'))\n",
    "\n",
    "model.compile(loss='mse',optimizer='adam', metrics=['accuracy'] )\n",
    "\n",
    "# Train model for 100 epochs, batch size of 10: \n",
    "NUM_EPOCHS=100\n",
    "BATCH_SIZE=100"
   ]
  },
  {
   "cell_type": "code",
   "execution_count": 12,
   "metadata": {},
   "outputs": [
    {
     "name": "stdout",
     "output_type": "stream",
     "text": [
      "Train on 276153 samples, validate on 14535 samples\n",
      "Epoch 1/100\n",
      "276153/276153 [==============================] - 3s 11us/step - loss: 0.0184 - accuracy: 0.6063 - val_loss: 0.0033 - val_accuracy: 0.4350\n",
      "Epoch 2/100\n",
      "276153/276153 [==============================] - 4s 14us/step - loss: 0.0017 - accuracy: 0.6818 - val_loss: 0.0020 - val_accuracy: 0.5395\n",
      "Epoch 3/100\n",
      "276153/276153 [==============================] - 3s 12us/step - loss: 6.5187e-04 - accuracy: 0.6774 - val_loss: 5.9950e-04 - val_accuracy: 0.4440\n",
      "Epoch 4/100\n",
      "276153/276153 [==============================] - 4s 13us/step - loss: 1.5600e-04 - accuracy: 0.6781 - val_loss: 6.9300e-05 - val_accuracy: 0.6395\n",
      "Epoch 5/100\n",
      "276153/276153 [==============================] - 4s 13us/step - loss: 6.0147e-05 - accuracy: 0.6746 - val_loss: 3.3831e-05 - val_accuracy: 0.5615\n",
      "Epoch 6/100\n",
      "276153/276153 [==============================] - 4s 14us/step - loss: 3.9206e-05 - accuracy: 0.6699 - val_loss: 2.6332e-05 - val_accuracy: 0.6405\n",
      "Epoch 7/100\n",
      "276153/276153 [==============================] - 4s 14us/step - loss: 2.8310e-05 - accuracy: 0.6680 - val_loss: 2.0675e-05 - val_accuracy: 0.4118\n",
      "Epoch 8/100\n",
      "276153/276153 [==============================] - 4s 13us/step - loss: 2.1951e-05 - accuracy: 0.6664 - val_loss: 1.6979e-05 - val_accuracy: 0.4308\n",
      "Epoch 9/100\n",
      "276153/276153 [==============================] - 4s 14us/step - loss: 1.7927e-05 - accuracy: 0.6651 - val_loss: 1.3272e-05 - val_accuracy: 0.4219\n",
      "Epoch 10/100\n",
      "276153/276153 [==============================] - 4s 14us/step - loss: 1.5075e-05 - accuracy: 0.6649 - val_loss: 1.2469e-05 - val_accuracy: 0.3443\n",
      "Epoch 11/100\n",
      "276153/276153 [==============================] - 4s 14us/step - loss: 1.2922e-05 - accuracy: 0.6650 - val_loss: 1.3792e-05 - val_accuracy: 0.4429\n",
      "Epoch 12/100\n",
      "276153/276153 [==============================] - 4s 14us/step - loss: 1.1071e-05 - accuracy: 0.6631 - val_loss: 8.5548e-06 - val_accuracy: 0.5628\n",
      "Epoch 13/100\n",
      "276153/276153 [==============================] - 4s 14us/step - loss: 9.7349e-06 - accuracy: 0.6627 - val_loss: 8.6242e-06 - val_accuracy: 0.2836\n",
      "Epoch 14/100\n",
      "276153/276153 [==============================] - 4s 14us/step - loss: 8.4276e-06 - accuracy: 0.6615 - val_loss: 7.2008e-06 - val_accuracy: 0.6811\n",
      "Epoch 15/100\n",
      "276153/276153 [==============================] - 4s 14us/step - loss: 7.3438e-06 - accuracy: 0.6613 - val_loss: 6.8381e-06 - val_accuracy: 0.2830\n",
      "Epoch 16/100\n",
      "276153/276153 [==============================] - 4s 13us/step - loss: 6.3199e-06 - accuracy: 0.6594 - val_loss: 5.2669e-06 - val_accuracy: 0.3166\n",
      "Epoch 17/100\n",
      "276153/276153 [==============================] - 4s 14us/step - loss: 5.5339e-06 - accuracy: 0.6589 - val_loss: 4.3241e-06 - val_accuracy: 0.5033\n",
      "Epoch 18/100\n",
      "276153/276153 [==============================] - 4s 14us/step - loss: 4.6934e-06 - accuracy: 0.6565 - val_loss: 4.4086e-06 - val_accuracy: 0.7364\n",
      "Epoch 19/100\n",
      "276153/276153 [==============================] - 4s 14us/step - loss: 4.1054e-06 - accuracy: 0.6529 - val_loss: 4.5148e-06 - val_accuracy: 0.2542\n",
      "Epoch 20/100\n",
      "276153/276153 [==============================] - 4s 13us/step - loss: 3.6445e-06 - accuracy: 0.6497 - val_loss: 3.2544e-06 - val_accuracy: 0.3347\n",
      "Epoch 21/100\n",
      "276153/276153 [==============================] - 4s 14us/step - loss: 3.4095e-06 - accuracy: 0.6452 - val_loss: 3.2388e-06 - val_accuracy: 0.3016\n",
      "Epoch 22/100\n",
      "276153/276153 [==============================] - 4s 14us/step - loss: 3.0826e-06 - accuracy: 0.6398 - val_loss: 2.7443e-06 - val_accuracy: 0.1568\n",
      "Epoch 23/100\n",
      "276153/276153 [==============================] - 4s 14us/step - loss: 2.9069e-06 - accuracy: 0.6422 - val_loss: 2.9453e-06 - val_accuracy: 0.4331\n",
      "Epoch 24/100\n",
      "276153/276153 [==============================] - 4s 14us/step - loss: 2.8386e-06 - accuracy: 0.6413 - val_loss: 2.5601e-06 - val_accuracy: 0.1811\n",
      "Epoch 25/100\n",
      "276153/276153 [==============================] - 4s 14us/step - loss: 2.6080e-06 - accuracy: 0.6411 - val_loss: 2.1178e-06 - val_accuracy: 0.3583\n",
      "Epoch 26/100\n",
      "276153/276153 [==============================] - 4s 14us/step - loss: 2.5295e-06 - accuracy: 0.6407 - val_loss: 2.7896e-06 - val_accuracy: 0.5494\n",
      "Epoch 27/100\n",
      "276153/276153 [==============================] - 4s 14us/step - loss: 2.5365e-06 - accuracy: 0.6394 - val_loss: 2.1064e-06 - val_accuracy: 0.3873\n",
      "Epoch 28/100\n",
      "276153/276153 [==============================] - 4s 13us/step - loss: 2.3050e-06 - accuracy: 0.6375 - val_loss: 1.9303e-06 - val_accuracy: 0.3488\n",
      "Epoch 29/100\n",
      "276153/276153 [==============================] - 4s 14us/step - loss: 2.3534e-06 - accuracy: 0.6363 - val_loss: 1.8089e-06 - val_accuracy: 0.1656\n",
      "Epoch 30/100\n",
      "276153/276153 [==============================] - 4s 14us/step - loss: 2.4207e-06 - accuracy: 0.6377 - val_loss: 1.9079e-06 - val_accuracy: 0.2215\n",
      "Epoch 31/100\n",
      "276153/276153 [==============================] - 4s 15us/step - loss: 2.2440e-06 - accuracy: 0.6377 - val_loss: 2.3526e-06 - val_accuracy: 0.7078\n",
      "Epoch 32/100\n",
      "276153/276153 [==============================] - 4s 14us/step - loss: 2.2255e-06 - accuracy: 0.6398 - val_loss: 1.9933e-06 - val_accuracy: 0.3286\n",
      "Epoch 33/100\n",
      "276153/276153 [==============================] - 4s 14us/step - loss: 2.1139e-06 - accuracy: 0.6371 - val_loss: 1.6784e-06 - val_accuracy: 0.4422\n",
      "Epoch 34/100\n",
      "276153/276153 [==============================] - 4s 14us/step - loss: 2.0668e-06 - accuracy: 0.6379 - val_loss: 1.7793e-06 - val_accuracy: 0.2898\n",
      "Epoch 35/100\n",
      "276153/276153 [==============================] - 4s 14us/step - loss: 1.9821e-06 - accuracy: 0.6384 - val_loss: 1.7779e-06 - val_accuracy: 0.5897\n",
      "Epoch 36/100\n",
      "276153/276153 [==============================] - 4s 14us/step - loss: 2.0826e-06 - accuracy: 0.6341 - val_loss: 1.7125e-06 - val_accuracy: 0.3021\n",
      "Epoch 37/100\n",
      "276153/276153 [==============================] - 4s 14us/step - loss: 1.9607e-06 - accuracy: 0.6374 - val_loss: 1.7113e-06 - val_accuracy: 0.5016\n",
      "Epoch 38/100\n",
      "276153/276153 [==============================] - 4s 14us/step - loss: 1.9378e-06 - accuracy: 0.6375 - val_loss: 1.4772e-06 - val_accuracy: 0.5728\n",
      "Epoch 39/100\n",
      "276153/276153 [==============================] - 4s 14us/step - loss: 1.8951e-06 - accuracy: 0.6336 - val_loss: 3.0405e-06 - val_accuracy: 0.4464\n",
      "Epoch 40/100\n",
      "276153/276153 [==============================] - 4s 14us/step - loss: 1.8242e-06 - accuracy: 0.6384 - val_loss: 1.7901e-06 - val_accuracy: 0.2757\n",
      "Epoch 41/100\n",
      "276153/276153 [==============================] - 4s 14us/step - loss: 2.0099e-06 - accuracy: 0.6365 - val_loss: 1.4866e-06 - val_accuracy: 0.2332\n",
      "Epoch 42/100\n",
      "276153/276153 [==============================] - 4s 14us/step - loss: 1.8186e-06 - accuracy: 0.6369 - val_loss: 1.3484e-06 - val_accuracy: 0.1739\n",
      "Epoch 43/100\n",
      "276153/276153 [==============================] - 4s 14us/step - loss: 1.8506e-06 - accuracy: 0.6345 - val_loss: 1.2149e-06 - val_accuracy: 0.2859\n",
      "Epoch 44/100\n",
      "276153/276153 [==============================] - 4s 14us/step - loss: 1.7644e-06 - accuracy: 0.6341 - val_loss: 2.0147e-06 - val_accuracy: 0.1673\n",
      "Epoch 45/100\n",
      "276153/276153 [==============================] - 4s 14us/step - loss: 1.8601e-06 - accuracy: 0.6342 - val_loss: 1.3617e-06 - val_accuracy: 0.4404\n",
      "Epoch 46/100\n",
      "276153/276153 [==============================] - 4s 14us/step - loss: 1.6750e-06 - accuracy: 0.6355 - val_loss: 1.1323e-06 - val_accuracy: 0.5017\n",
      "Epoch 47/100\n",
      "276153/276153 [==============================] - 4s 14us/step - loss: 1.8028e-06 - accuracy: 0.6355 - val_loss: 1.4656e-06 - val_accuracy: 0.2761\n",
      "Epoch 48/100\n",
      "276153/276153 [==============================] - 4s 14us/step - loss: 1.7155e-06 - accuracy: 0.6384 - val_loss: 1.1282e-06 - val_accuracy: 0.2405\n",
      "Epoch 49/100\n",
      "276153/276153 [==============================] - 4s 14us/step - loss: 1.6900e-06 - accuracy: 0.6352 - val_loss: 1.1127e-06 - val_accuracy: 0.9686\n",
      "Epoch 50/100\n",
      "276153/276153 [==============================] - 4s 14us/step - loss: 1.8012e-06 - accuracy: 0.6379 - val_loss: 1.1092e-06 - val_accuracy: 0.2596\n",
      "Epoch 51/100\n",
      "276153/276153 [==============================] - 4s 14us/step - loss: 1.6749e-06 - accuracy: 0.6375 - val_loss: 1.0776e-06 - val_accuracy: 0.4346\n",
      "Epoch 52/100\n"
     ]
    },
    {
     "name": "stdout",
     "output_type": "stream",
     "text": [
      "276153/276153 [==============================] - 4s 14us/step - loss: 1.6126e-06 - accuracy: 0.6371 - val_loss: 9.9336e-07 - val_accuracy: 0.5723\n",
      "Epoch 53/100\n",
      "276153/276153 [==============================] - 4s 13us/step - loss: 1.6182e-06 - accuracy: 0.6409 - val_loss: 1.0193e-06 - val_accuracy: 0.4460\n",
      "Epoch 54/100\n",
      "276153/276153 [==============================] - 4s 13us/step - loss: 1.5973e-06 - accuracy: 0.6371 - val_loss: 1.1593e-06 - val_accuracy: 0.3638\n",
      "Epoch 55/100\n",
      "276153/276153 [==============================] - 4s 14us/step - loss: 1.6180e-06 - accuracy: 0.6382 - val_loss: 2.6336e-05 - val_accuracy: 0.3250\n",
      "Epoch 56/100\n",
      "276153/276153 [==============================] - 4s 14us/step - loss: 1.6417e-06 - accuracy: 0.6394 - val_loss: 2.0305e-06 - val_accuracy: 0.9525\n",
      "Epoch 57/100\n",
      "276153/276153 [==============================] - 4s 14us/step - loss: 1.6125e-06 - accuracy: 0.6391 - val_loss: 1.2142e-06 - val_accuracy: 0.3922\n",
      "Epoch 58/100\n",
      "276153/276153 [==============================] - 4s 13us/step - loss: 1.5604e-06 - accuracy: 0.6356 - val_loss: 1.0927e-06 - val_accuracy: 0.9495\n",
      "Epoch 59/100\n",
      "276153/276153 [==============================] - 4s 14us/step - loss: 1.6329e-06 - accuracy: 0.6396 - val_loss: 1.0475e-06 - val_accuracy: 0.8379\n",
      "Epoch 60/100\n",
      "276153/276153 [==============================] - 4s 14us/step - loss: 1.6173e-06 - accuracy: 0.6413 - val_loss: 1.0420e-06 - val_accuracy: 0.4751\n",
      "Epoch 61/100\n",
      "276153/276153 [==============================] - 4s 14us/step - loss: 1.4401e-06 - accuracy: 0.6395 - val_loss: 1.1072e-06 - val_accuracy: 0.1302\n",
      "Epoch 62/100\n",
      "276153/276153 [==============================] - 4s 14us/step - loss: 1.6003e-06 - accuracy: 0.6388 - val_loss: 1.2652e-06 - val_accuracy: 0.2700\n",
      "Epoch 63/100\n",
      "276153/276153 [==============================] - 4s 14us/step - loss: 1.4690e-06 - accuracy: 0.6385 - val_loss: 9.8420e-07 - val_accuracy: 0.9763\n",
      "Epoch 64/100\n",
      "276153/276153 [==============================] - 4s 14us/step - loss: 1.5002e-06 - accuracy: 0.6388 - val_loss: 1.0331e-06 - val_accuracy: 0.2735\n",
      "Epoch 65/100\n",
      "276153/276153 [==============================] - 4s 14us/step - loss: 1.4878e-06 - accuracy: 0.6413 - val_loss: 9.7589e-07 - val_accuracy: 0.6277\n",
      "Epoch 66/100\n",
      "276153/276153 [==============================] - 4s 14us/step - loss: 1.5239e-06 - accuracy: 0.6404 - val_loss: 1.6645e-06 - val_accuracy: 0.2418\n",
      "Epoch 67/100\n",
      "276153/276153 [==============================] - 4s 14us/step - loss: 1.6099e-06 - accuracy: 0.6382 - val_loss: 8.2676e-07 - val_accuracy: 0.2748\n",
      "Epoch 68/100\n",
      "276153/276153 [==============================] - 4s 13us/step - loss: 1.4269e-06 - accuracy: 0.6403 - val_loss: 1.1970e-06 - val_accuracy: 0.3272\n",
      "Epoch 69/100\n",
      "276153/276153 [==============================] - 4s 13us/step - loss: 1.5413e-06 - accuracy: 0.6422 - val_loss: 1.8554e-06 - val_accuracy: 0.2985\n",
      "Epoch 70/100\n",
      "276153/276153 [==============================] - 4s 14us/step - loss: 1.5191e-06 - accuracy: 0.6398 - val_loss: 9.9702e-07 - val_accuracy: 0.4360\n",
      "Epoch 71/100\n",
      "276153/276153 [==============================] - 4s 14us/step - loss: 1.4868e-06 - accuracy: 0.6386 - val_loss: 1.3456e-06 - val_accuracy: 0.2190\n",
      "Epoch 72/100\n",
      "276153/276153 [==============================] - 4s 13us/step - loss: 1.3345e-06 - accuracy: 0.6390 - val_loss: 7.4334e-07 - val_accuracy: 0.3960\n",
      "Epoch 73/100\n",
      "276153/276153 [==============================] - 4s 14us/step - loss: 1.5156e-06 - accuracy: 0.6434 - val_loss: 1.4350e-06 - val_accuracy: 0.3187\n",
      "Epoch 74/100\n",
      "276153/276153 [==============================] - 4s 14us/step - loss: 1.3884e-06 - accuracy: 0.6405 - val_loss: 7.2621e-07 - val_accuracy: 0.2819\n",
      "Epoch 75/100\n",
      "276153/276153 [==============================] - 4s 14us/step - loss: 1.4199e-06 - accuracy: 0.6401 - val_loss: 7.3756e-07 - val_accuracy: 0.1864\n",
      "Epoch 76/100\n",
      "276153/276153 [==============================] - 4s 14us/step - loss: 1.4300e-06 - accuracy: 0.6463 - val_loss: 8.0583e-07 - val_accuracy: 0.4107\n",
      "Epoch 77/100\n",
      "276153/276153 [==============================] - 4s 14us/step - loss: 1.4992e-06 - accuracy: 0.6436 - val_loss: 1.8143e-06 - val_accuracy: 0.9480\n",
      "Epoch 78/100\n",
      "276153/276153 [==============================] - 4s 14us/step - loss: 1.4062e-06 - accuracy: 0.6429 - val_loss: 9.3232e-07 - val_accuracy: 0.2641\n",
      "Epoch 79/100\n",
      "276153/276153 [==============================] - 4s 14us/step - loss: 1.5268e-06 - accuracy: 0.6428 - val_loss: 2.2027e-06 - val_accuracy: 0.5194\n",
      "Epoch 80/100\n",
      "276153/276153 [==============================] - 4s 14us/step - loss: 1.2700e-06 - accuracy: 0.6417 - val_loss: 2.8609e-06 - val_accuracy: 0.1141\n",
      "Epoch 81/100\n",
      "276153/276153 [==============================] - 4s 14us/step - loss: 1.4072e-06 - accuracy: 0.6439 - val_loss: 9.3008e-07 - val_accuracy: 0.1490\n",
      "Epoch 82/100\n",
      "276153/276153 [==============================] - 4s 14us/step - loss: 1.3366e-06 - accuracy: 0.6439 - val_loss: 1.7697e-06 - val_accuracy: 0.2849\n",
      "Epoch 83/100\n",
      "276153/276153 [==============================] - 4s 13us/step - loss: 1.3968e-06 - accuracy: 0.6453 - val_loss: 8.4194e-07 - val_accuracy: 0.3110\n",
      "Epoch 84/100\n",
      "276153/276153 [==============================] - 4s 13us/step - loss: 1.3241e-06 - accuracy: 0.6457 - val_loss: 9.5828e-07 - val_accuracy: 0.2180\n",
      "Epoch 85/100\n",
      "276153/276153 [==============================] - 4s 13us/step - loss: 1.3281e-06 - accuracy: 0.6443 - val_loss: 7.1173e-07 - val_accuracy: 0.1497\n",
      "Epoch 86/100\n",
      "276153/276153 [==============================] - 4s 13us/step - loss: 1.2996e-06 - accuracy: 0.6466 - val_loss: 7.0748e-07 - val_accuracy: 0.8665\n",
      "Epoch 87/100\n",
      "276153/276153 [==============================] - 4s 13us/step - loss: 1.4414e-06 - accuracy: 0.6458 - val_loss: 6.5649e-07 - val_accuracy: 0.2660\n",
      "Epoch 88/100\n",
      "276153/276153 [==============================] - 4s 13us/step - loss: 1.2647e-06 - accuracy: 0.6450 - val_loss: 6.5199e-07 - val_accuracy: 0.3383\n",
      "Epoch 89/100\n",
      "276153/276153 [==============================] - 4s 13us/step - loss: 1.3574e-06 - accuracy: 0.6488 - val_loss: 7.9835e-07 - val_accuracy: 0.1028\n",
      "Epoch 90/100\n",
      "276153/276153 [==============================] - 4s 13us/step - loss: 1.2940e-06 - accuracy: 0.6464 - val_loss: 6.7804e-07 - val_accuracy: 0.6164\n",
      "Epoch 91/100\n",
      "276153/276153 [==============================] - 4s 13us/step - loss: 1.5087e-06 - accuracy: 0.6443 - val_loss: 6.3811e-07 - val_accuracy: 0.3460\n",
      "Epoch 92/100\n",
      "276153/276153 [==============================] - 4s 13us/step - loss: 1.2388e-06 - accuracy: 0.6445 - val_loss: 8.9910e-07 - val_accuracy: 0.2257\n",
      "Epoch 93/100\n",
      "276153/276153 [==============================] - 4s 13us/step - loss: 1.3180e-06 - accuracy: 0.6477 - val_loss: 1.7947e-06 - val_accuracy: 0.1916\n",
      "Epoch 94/100\n",
      "276153/276153 [==============================] - 4s 13us/step - loss: 1.3093e-06 - accuracy: 0.6470 - val_loss: 6.8978e-07 - val_accuracy: 0.2249\n",
      "Epoch 95/100\n",
      "276153/276153 [==============================] - 4s 13us/step - loss: 1.2072e-06 - accuracy: 0.6468 - val_loss: 9.7135e-07 - val_accuracy: 0.9627\n",
      "Epoch 96/100\n",
      "276153/276153 [==============================] - 4s 13us/step - loss: 1.3239e-06 - accuracy: 0.6467 - val_loss: 1.2880e-06 - val_accuracy: 0.7127\n",
      "Epoch 97/100\n",
      "276153/276153 [==============================] - 4s 13us/step - loss: 1.2828e-06 - accuracy: 0.6425 - val_loss: 1.1175e-06 - val_accuracy: 0.1015\n",
      "Epoch 98/100\n",
      "276153/276153 [==============================] - 4s 13us/step - loss: 1.2855e-06 - accuracy: 0.6499 - val_loss: 7.2710e-07 - val_accuracy: 0.4270\n",
      "Epoch 99/100\n",
      "276153/276153 [==============================] - 4s 13us/step - loss: 1.4585e-06 - accuracy: 0.6504 - val_loss: 7.4705e-07 - val_accuracy: 0.9207\n",
      "Epoch 100/100\n",
      "276153/276153 [==============================] - 4s 13us/step - loss: 1.2420e-06 - accuracy: 0.6506 - val_loss: 8.3256e-07 - val_accuracy: 0.7097\n"
     ]
    }
   ],
   "source": [
    "history=model.fit(np.array(X_train),np.array(X_train),\n",
    "                  batch_size=BATCH_SIZE, \n",
    "                  epochs=NUM_EPOCHS,\n",
    "                  validation_split=0.05,\n",
    "                  verbose = 1)"
   ]
  },
  {
   "cell_type": "code",
   "execution_count": 13,
   "metadata": {},
   "outputs": [
    {
     "data": {
      "image/png": "[encoded data removed]",
      "text/plain": [
       "<Figure size 432x288 with 1 Axes>"
      ]
     },
     "metadata": {
      "needs_background": "light"
     },
     "output_type": "display_data"
    }
   ],
   "source": [
    "import matplotlib.pyplot as plt\n",
    "\n",
    "plt.plot(history.history['loss'], 'b', label='Training loss')\n",
    "plt.plot(history.history['val_loss'], 'r', label='Validation loss')\n",
    "plt.legend(loc='upper right')\n",
    "plt.xlabel('Epochs')\n",
    "plt.ylabel('Loss, [mse]')\n",
    "plt.ylim([0,.05])\n",
    "plt.show()"
   ]
  },
  {
   "cell_type": "code",
   "execution_count": 14,
   "metadata": {},
   "outputs": [
    {
     "data": {
      "image/png": "[encoded data removed]",
      "text/plain": [
       "<Figure size 432x288 with 1 Axes>"
      ]
     },
     "metadata": {
      "needs_background": "light"
     },
     "output_type": "display_data"
    }
   ],
   "source": [
    "X_pred = model.predict(np.array(X_train))\n",
    "\n",
    "import seaborn as sns\n",
    "\n",
    "scored = np.mean(np.abs(X_pred-X_train), axis = 1)\n",
    "plt.figure()\n",
    "sns.distplot(scored, bins = 10, kde= True, color = 'blue');\n",
    "plt.xlim([0.0,.02])\n",
    "plt.show()"
   ]
  },
  {
   "cell_type": "code",
   "execution_count": 15,
   "metadata": {},
   "outputs": [
    {
     "data": {
      "text/html": [
       "<div>\n",
       "<style scoped>\n",
       "    .dataframe tbody tr th:only-of-type {\n",
       "        vertical-align: middle;\n",
       "    }\n",
       "\n",
       "    .dataframe tbody tr th {\n",
       "        vertical-align: top;\n",
       "    }\n",
       "\n",
       "    .dataframe thead th {\n",
       "        text-align: right;\n",
       "    }\n",
       "</style>\n",
       "<table border=\"1\" class=\"dataframe\">\n",
       "  <thead>\n",
       "    <tr style=\"text-align: right;\">\n",
       "      <th></th>\n",
       "      <th>Loss_mae</th>\n",
       "      <th>Threshold</th>\n",
       "      <th>Anomaly</th>\n",
       "    </tr>\n",
       "  </thead>\n",
       "  <tbody>\n",
       "    <tr>\n",
       "      <th>69919</th>\n",
       "      <td>0.000472</td>\n",
       "      <td>0.0025</td>\n",
       "      <td>False</td>\n",
       "    </tr>\n",
       "    <tr>\n",
       "      <th>32811</th>\n",
       "      <td>0.000374</td>\n",
       "      <td>0.0025</td>\n",
       "      <td>False</td>\n",
       "    </tr>\n",
       "    <tr>\n",
       "      <th>18961</th>\n",
       "      <td>0.001082</td>\n",
       "      <td>0.0025</td>\n",
       "      <td>False</td>\n",
       "    </tr>\n",
       "    <tr>\n",
       "      <th>30513</th>\n",
       "      <td>0.000506</td>\n",
       "      <td>0.0025</td>\n",
       "      <td>False</td>\n",
       "    </tr>\n",
       "    <tr>\n",
       "      <th>65853</th>\n",
       "      <td>0.000514</td>\n",
       "      <td>0.0025</td>\n",
       "      <td>False</td>\n",
       "    </tr>\n",
       "    <tr>\n",
       "      <th>...</th>\n",
       "      <td>...</td>\n",
       "      <td>...</td>\n",
       "      <td>...</td>\n",
       "    </tr>\n",
       "    <tr>\n",
       "      <th>14862</th>\n",
       "      <td>0.000831</td>\n",
       "      <td>0.0025</td>\n",
       "      <td>False</td>\n",
       "    </tr>\n",
       "    <tr>\n",
       "      <th>72657</th>\n",
       "      <td>0.002332</td>\n",
       "      <td>0.0025</td>\n",
       "      <td>False</td>\n",
       "    </tr>\n",
       "    <tr>\n",
       "      <th>40723</th>\n",
       "      <td>0.000447</td>\n",
       "      <td>0.0025</td>\n",
       "      <td>False</td>\n",
       "    </tr>\n",
       "    <tr>\n",
       "      <th>2675</th>\n",
       "      <td>0.000797</td>\n",
       "      <td>0.0025</td>\n",
       "      <td>False</td>\n",
       "    </tr>\n",
       "    <tr>\n",
       "      <th>17700</th>\n",
       "      <td>0.000675</td>\n",
       "      <td>0.0025</td>\n",
       "      <td>False</td>\n",
       "    </tr>\n",
       "  </tbody>\n",
       "</table>\n",
       "<p>100 rows × 3 columns</p>\n",
       "</div>"
      ],
      "text/plain": [
       "       Loss_mae  Threshold  Anomaly\n",
       "69919  0.000472     0.0025    False\n",
       "32811  0.000374     0.0025    False\n",
       "18961  0.001082     0.0025    False\n",
       "30513  0.000506     0.0025    False\n",
       "65853  0.000514     0.0025    False\n",
       "...         ...        ...      ...\n",
       "14862  0.000831     0.0025    False\n",
       "72657  0.002332     0.0025    False\n",
       "40723  0.000447     0.0025    False\n",
       "2675   0.000797     0.0025    False\n",
       "17700  0.000675     0.0025    False\n",
       "\n",
       "[100 rows x 3 columns]"
      ]
     },
     "execution_count": 15,
     "metadata": {},
     "output_type": "execute_result"
    }
   ],
   "source": [
    "X_pred = model.predict(np.array(X_test))\n",
    "\n",
    "scored = pd.DataFrame()\n",
    "scored['Loss_mae'] = np.mean(np.abs(X_pred-X_test), axis = 1)\n",
    "scored['Threshold'] = 0.0025\n",
    "scored['Anomaly'] = scored['Loss_mae'] > scored['Threshold']\n",
    "scored.sample(100)"
   ]
  },
  {
   "cell_type": "code",
   "execution_count": 16,
   "metadata": {},
   "outputs": [],
   "source": [
    "X_pred_train = model.predict(np.array(X_train))\n",
    "X_pred_train = pd.DataFrame(X_pred_train)\n",
    "\n",
    "scored_train = pd.DataFrame()\n",
    "scored_train['Loss_mae'] = np.mean(np.abs(X_pred_train-X_train), axis = 1)\n",
    "scored_train['Threshold'] = 0.0025\n",
    "scored_train['Anomaly'] = scored_train['Loss_mae'] > scored_train['Threshold']\n",
    "scored = pd.concat([scored_train, scored])"
   ]
  },
  {
   "cell_type": "code",
   "execution_count": 17,
   "metadata": {},
   "outputs": [
    {
     "data": {
      "text/plain": [
       "<matplotlib.axes._subplots.AxesSubplot at 0x11200385088>"
      ]
     },
     "execution_count": 17,
     "metadata": {},
     "output_type": "execute_result"
    },
    {
     "data": {
      "image/png": "[encoded data removed]",
      "text/plain": [
       "<Figure size 720x432 with 1 Axes>"
      ]
     },
     "metadata": {
      "needs_background": "light"
     },
     "output_type": "display_data"
    }
   ],
   "source": [
    "scored.plot(logy=True,  figsize = (10,6), xlim =[0,1000], ylim = [1e-4,1e-1], color = ['blue','red'])"
   ]
  },
  {
   "cell_type": "code",
   "execution_count": 18,
   "metadata": {},
   "outputs": [
    {
     "data": {
      "text/plain": [
       "0.00069430694413529"
      ]
     },
     "execution_count": 18,
     "metadata": {},
     "output_type": "execute_result"
    }
   ],
   "source": [
    "scored_train['Loss_mae'].mean()"
   ]
  }
 ],
 "metadata": {
  "kernelspec": {
   "display_name": "Python 3",
   "language": "python",
   "name": "python3"
  },
  "language_info": {
   "codemirror_mode": {
    "name": "ipython",
    "version": 3
   },
   "file_extension": ".py",
   "mimetype": "text/x-python",
   "name": "python",
   "nbconvert_exporter": "python",
   "pygments_lexer": "ipython3",
   "version": "3.7.4"
  }
 },
 "nbformat": 4,
 "nbformat_minor": 4
}
