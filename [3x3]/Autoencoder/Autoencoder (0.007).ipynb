{
 "cells": [
  {
   "cell_type": "code",
   "execution_count": 1,
   "metadata": {},
   "outputs": [],
   "source": [
    "#importing packages\n",
    "import pandas as pd\n",
    "import numpy as np"
   ]
  },
  {
   "cell_type": "code",
   "execution_count": 2,
   "metadata": {},
   "outputs": [],
   "source": [
    "Dtrain = pd.read_csv(\"CWRU Dataset-1-train.csv\")\n",
    "#Dtrain = Dtrain.iloc[:,0:4].values\n",
    "Dtest = pd.read_csv(\"CWRU Dataset-1-test.csv\")"
   ]
  },
  {
   "cell_type": "code",
   "execution_count": 3,
   "metadata": {},
   "outputs": [
    {
     "data": {
      "text/plain": [
       "Normal                 96896\n",
       "Outer Race (0.007\")    96896\n",
       "Inner Race (0.007\")    96896\n",
       "Name: Bearing, dtype: int64"
      ]
     },
     "execution_count": 3,
     "metadata": {},
     "output_type": "execute_result"
    }
   ],
   "source": [
    "Dtrain[\"Bearing\"].value_counts()"
   ]
  },
  {
   "cell_type": "code",
   "execution_count": 4,
   "metadata": {},
   "outputs": [
    {
     "data": {
      "text/plain": [
       "Normal                 33.333333\n",
       "Outer Race (0.007\")    33.333333\n",
       "Inner Race (0.007\")    33.333333\n",
       "Name: Bearing, dtype: float64"
      ]
     },
     "execution_count": 4,
     "metadata": {},
     "output_type": "execute_result"
    }
   ],
   "source": [
    "Dtrain[\"Bearing\"].value_counts(normalize=True)*100"
   ]
  },
  {
   "cell_type": "code",
   "execution_count": 5,
   "metadata": {},
   "outputs": [
    {
     "data": {
      "text/plain": [
       "Index(['Bearing', 'Fault Diameter', 'DE', 'FE'], dtype='object')"
      ]
     },
     "execution_count": 5,
     "metadata": {},
     "output_type": "execute_result"
    }
   ],
   "source": [
    "Dtest.columns"
   ]
  },
  {
   "cell_type": "code",
   "execution_count": 6,
   "metadata": {},
   "outputs": [],
   "source": [
    "from sklearn.preprocessing import LabelEncoder, OneHotEncoder\n",
    "from sklearn.compose import ColumnTransformer\n",
    "labelencoder_train = LabelEncoder()\n",
    "Dtrain[\"Bearing\"] = labelencoder_train.fit_transform(Dtrain[\"Bearing\"])\n",
    "ct = ColumnTransformer([(\"Bearing\", OneHotEncoder(), [0])],    remainder = 'passthrough')\n",
    "Dtrain = ct.fit_transform(Dtrain)"
   ]
  },
  {
   "cell_type": "code",
   "execution_count": 7,
   "metadata": {},
   "outputs": [],
   "source": [
    "from sklearn.preprocessing import LabelEncoder, OneHotEncoder\n",
    "from sklearn.compose import ColumnTransformer\n",
    "labelencoder_train = LabelEncoder()\n",
    "Dtest[\"Bearing\"] = labelencoder_train.fit_transform(Dtest[\"Bearing\"])\n",
    "ct = ColumnTransformer([(\"Bearing\", OneHotEncoder(), [0])],    remainder = 'passthrough')\n",
    "Dtest = ct.fit_transform(Dtest)"
   ]
  },
  {
   "cell_type": "code",
   "execution_count": 8,
   "metadata": {},
   "outputs": [],
   "source": [
    "from sklearn.preprocessing import MinMaxScaler\n",
    "scaler = MinMaxScaler()\n",
    "X_train = pd.DataFrame(scaler.fit_transform(Dtrain))\n",
    "# Random shuffle training data\n",
    "X_train.sample(frac=1)\n",
    "\n",
    "X_test = pd.DataFrame(scaler.transform(Dtest))\n",
    "\n"
   ]
  },
  {
   "cell_type": "code",
   "execution_count": 9,
   "metadata": {},
   "outputs": [
    {
     "name": "stderr",
     "output_type": "stream",
     "text": [
      "Using TensorFlow backend.\n"
     ]
    }
   ],
   "source": [
    "from keras.layers import Input, Dropout\n",
    "from keras.layers.core import Dense \n",
    "from keras.models import Model, Sequential, load_model\n",
    "from keras import regularizers"
   ]
  },
  {
   "cell_type": "code",
   "execution_count": 10,
   "metadata": {},
   "outputs": [],
   "source": [
    "import tensorflow as tf\n",
    "from numpy.random import seed\n",
    "seed(10)\n",
    "tf.random.set_seed(10)\n",
    "act_func = 'elu'"
   ]
  },
  {
   "cell_type": "code",
   "execution_count": 11,
   "metadata": {},
   "outputs": [],
   "source": [
    "# Input layer:\n",
    "model=Sequential()\n",
    "# First hidden layer, connected to input vector X. \n",
    "model.add(Dense(6,activation=act_func,\n",
    "                kernel_initializer='glorot_uniform',\n",
    "                kernel_regularizer=regularizers.l2(0.0),\n",
    "                input_shape=(X_train.shape[1],)\n",
    "               )\n",
    "         )\n",
    "\n",
    "model.add(Dense(3,activation=act_func,\n",
    "                kernel_initializer='glorot_uniform'))\n",
    "\n",
    "model.add(Dense(6,activation=act_func,\n",
    "                kernel_initializer='glorot_uniform'))\n",
    "\n",
    "model.add(Dense(X_train.shape[1],\n",
    "                kernel_initializer='glorot_uniform'))\n",
    "\n",
    "model.compile(loss='mse',optimizer='adam', metrics=['accuracy'] )\n",
    "\n",
    "# Train model for 100 epochs, batch size of 10: \n",
    "NUM_EPOCHS=100\n",
    "BATCH_SIZE=100"
   ]
  },
  {
   "cell_type": "code",
   "execution_count": 12,
   "metadata": {},
   "outputs": [
    {
     "name": "stdout",
     "output_type": "stream",
     "text": [
      "Train on 276153 samples, validate on 14535 samples\n",
      "Epoch 1/100\n",
      "276153/276153 [==============================] - 12s 43us/step - loss: 0.0185 - accuracy: 0.6059 - val_loss: 0.0033 - val_accuracy: 0.4288\n",
      "Epoch 2/100\n",
      "276153/276153 [==============================] - 10s 37us/step - loss: 0.0017 - accuracy: 0.6816 - val_loss: 0.0020 - val_accuracy: 0.5404\n",
      "Epoch 3/100\n",
      "276153/276153 [==============================] - 10s 37us/step - loss: 6.5788e-04 - accuracy: 0.6773 - val_loss: 6.0821e-04 - val_accuracy: 0.4430\n",
      "Epoch 4/100\n",
      "276153/276153 [==============================] - 10s 36us/step - loss: 1.5762e-04 - accuracy: 0.6778 - val_loss: 7.0002e-05 - val_accuracy: 0.6405\n",
      "Epoch 5/100\n",
      "276153/276153 [==============================] - 10s 36us/step - loss: 6.0463e-05 - accuracy: 0.6747 - val_loss: 3.3925e-05 - val_accuracy: 0.5617\n",
      "Epoch 6/100\n",
      "276153/276153 [==============================] - 10s 36us/step - loss: 3.9366e-05 - accuracy: 0.6699 - val_loss: 2.6391e-05 - val_accuracy: 0.6398\n",
      "Epoch 7/100\n",
      "276153/276153 [==============================] - 10s 37us/step - loss: 2.8415e-05 - accuracy: 0.6680 - val_loss: 2.0652e-05 - val_accuracy: 0.4131\n",
      "Epoch 8/100\n",
      "276153/276153 [==============================] - 10s 35us/step - loss: 2.2030e-05 - accuracy: 0.6663 - val_loss: 1.6969e-05 - val_accuracy: 0.4316\n",
      "Epoch 9/100\n",
      "276153/276153 [==============================] - 10s 37us/step - loss: 1.7998e-05 - accuracy: 0.6651 - val_loss: 1.3292e-05 - val_accuracy: 0.4200\n",
      "Epoch 10/100\n",
      "276153/276153 [==============================] - 10s 36us/step - loss: 1.5128e-05 - accuracy: 0.6648 - val_loss: 1.2470e-05 - val_accuracy: 0.3450\n",
      "Epoch 11/100\n",
      "276153/276153 [==============================] - 10s 36us/step - loss: 1.2973e-05 - accuracy: 0.6650 - val_loss: 1.3749e-05 - val_accuracy: 0.4415\n",
      "Epoch 12/100\n",
      "276153/276153 [==============================] - 10s 35us/step - loss: 1.1119e-05 - accuracy: 0.6631 - val_loss: 8.5641e-06 - val_accuracy: 0.5583\n",
      "Epoch 13/100\n",
      "276153/276153 [==============================] - 10s 36us/step - loss: 9.7814e-06 - accuracy: 0.6626 - val_loss: 8.6317e-06 - val_accuracy: 0.2848s: 9.826\n",
      "Epoch 14/100\n",
      "276153/276153 [==============================] - 10s 36us/step - loss: 8.4699e-06 - accuracy: 0.6617 - val_loss: 7.1164e-06 - val_accuracy: 0.6870\n",
      "Epoch 15/100\n",
      "276153/276153 [==============================] - 10s 36us/step - loss: 7.3840e-06 - accuracy: 0.6613 - val_loss: 6.8786e-06 - val_accuracy: 0.2860\n",
      "Epoch 16/100\n",
      "276153/276153 [==============================] - 10s 36us/step - loss: 6.3575e-06 - accuracy: 0.6594 - val_loss: 5.2546e-06 - val_accuracy: 0.3157\n",
      "Epoch 17/100\n",
      "276153/276153 [==============================] - 10s 36us/step - loss: 5.5636e-06 - accuracy: 0.6590 - val_loss: 4.3415e-06 - val_accuracy: 0.4907\n",
      "Epoch 18/100\n",
      "276153/276153 [==============================] - 10s 36us/step - loss: 4.7242e-06 - accuracy: 0.6568 - val_loss: 4.4001e-06 - val_accuracy: 0.7447\n",
      "Epoch 19/100\n",
      "276153/276153 [==============================] - 10s 35us/step - loss: 4.1296e-06 - accuracy: 0.6533 - val_loss: 4.6187e-06 - val_accuracy: 0.2488\n",
      "Epoch 20/100\n",
      "276153/276153 [==============================] - 10s 36us/step - loss: 3.6857e-06 - accuracy: 0.6499 - val_loss: 3.1213e-06 - val_accuracy: 0.4208\n",
      "Epoch 21/100\n",
      "276153/276153 [==============================] - 10s 35us/step - loss: 3.4060e-06 - accuracy: 0.6459 - val_loss: 3.2644e-06 - val_accuracy: 0.2976\n",
      "Epoch 22/100\n",
      "276153/276153 [==============================] - 10s 36us/step - loss: 3.0939e-06 - accuracy: 0.6399 - val_loss: 2.7481e-06 - val_accuracy: 0.1570\n",
      "Epoch 23/100\n",
      "276153/276153 [==============================] - 10s 37us/step - loss: 2.9244e-06 - accuracy: 0.6422 - val_loss: 2.9684e-06 - val_accuracy: 0.4552\n",
      "Epoch 24/100\n",
      "276153/276153 [==============================] - 10s 37us/step - loss: 2.8182e-06 - accuracy: 0.6419 - val_loss: 2.4621e-06 - val_accuracy: 0.1913\n",
      "Epoch 25/100\n",
      "276153/276153 [==============================] - 10s 35us/step - loss: 2.6046e-06 - accuracy: 0.6421 - val_loss: 2.0877e-06 - val_accuracy: 0.3646\n",
      "Epoch 26/100\n",
      "276153/276153 [==============================] - 10s 37us/step - loss: 2.5296e-06 - accuracy: 0.6406 - val_loss: 2.7516e-06 - val_accuracy: 0.5379\n",
      "Epoch 27/100\n",
      "276153/276153 [==============================] - 10s 37us/step - loss: 2.5383e-06 - accuracy: 0.6391 - val_loss: 2.1129e-06 - val_accuracy: 0.3867\n",
      "Epoch 28/100\n",
      "276153/276153 [==============================] - 10s 37us/step - loss: 2.3071e-06 - accuracy: 0.6369 - val_loss: 1.8997e-06 - val_accuracy: 0.3423\n",
      "Epoch 29/100\n",
      "276153/276153 [==============================] - 10s 37us/step - loss: 2.3536e-06 - accuracy: 0.6365 - val_loss: 1.7906e-06 - val_accuracy: 0.1666\n",
      "Epoch 30/100\n",
      "276153/276153 [==============================] - 10s 36us/step - loss: 2.4358e-06 - accuracy: 0.6380 - val_loss: 1.8192e-06 - val_accuracy: 0.2010\n",
      "Epoch 31/100\n",
      "276153/276153 [==============================] - 10s 36us/step - loss: 2.2230e-06 - accuracy: 0.6376 - val_loss: 2.3475e-06 - val_accuracy: 0.6976\n",
      "Epoch 32/100\n",
      "276153/276153 [==============================] - 10s 37us/step - loss: 2.2405e-06 - accuracy: 0.6399 - val_loss: 2.0083e-06 - val_accuracy: 0.3271\n",
      "Epoch 33/100\n",
      "276153/276153 [==============================] - 10s 36us/step - loss: 2.0917e-06 - accuracy: 0.6362 - val_loss: 1.7679e-06 - val_accuracy: 0.4305\n",
      "Epoch 34/100\n",
      "276153/276153 [==============================] - 10s 37us/step - loss: 2.0666e-06 - accuracy: 0.6386 - val_loss: 1.7018e-06 - val_accuracy: 0.3004\n",
      "Epoch 35/100\n",
      "276153/276153 [==============================] - 10s 36us/step - loss: 2.0008e-06 - accuracy: 0.6378 - val_loss: 1.7959e-06 - val_accuracy: 0.5906\n",
      "Epoch 36/100\n",
      "276153/276153 [==============================] - 10s 37us/step - loss: 2.0975e-06 - accuracy: 0.6332 - val_loss: 1.6592e-06 - val_accuracy: 0.3390\n",
      "Epoch 37/100\n",
      "276153/276153 [==============================] - 10s 37us/step - loss: 1.9531e-06 - accuracy: 0.6349 - val_loss: 1.8888e-06 - val_accuracy: 0.4037\n",
      "Epoch 38/100\n",
      "276153/276153 [==============================] - 10s 37us/step - loss: 1.9859e-06 - accuracy: 0.6374 - val_loss: 1.5401e-06 - val_accuracy: 0.6516\n",
      "Epoch 39/100\n",
      "276153/276153 [==============================] - 11s 38us/step - loss: 1.9511e-06 - accuracy: 0.6336 - val_loss: 1.6727e-06 - val_accuracy: 0.5508\n",
      "Epoch 40/100\n",
      "276153/276153 [==============================] - 11s 38us/step - loss: 1.7671e-06 - accuracy: 0.6379 - val_loss: 1.5083e-06 - val_accuracy: 0.2787\n",
      "Epoch 41/100\n",
      "276153/276153 [==============================] - 10s 36us/step - loss: 1.8642e-06 - accuracy: 0.6371 - val_loss: 1.2461e-06 - val_accuracy: 0.2469\n",
      "Epoch 42/100\n",
      "276153/276153 [==============================] - 10s 37us/step - loss: 1.8379e-06 - accuracy: 0.6361 - val_loss: 1.2809e-06 - val_accuracy: 0.1410\n",
      "Epoch 43/100\n",
      "276153/276153 [==============================] - 10s 38us/step - loss: 1.8494e-06 - accuracy: 0.6355 - val_loss: 3.1554e-06 - val_accuracy: 0.2815\n",
      "Epoch 44/100\n",
      "276153/276153 [==============================] - 10s 37us/step - loss: 1.7727e-06 - accuracy: 0.6337 - val_loss: 1.9553e-06 - val_accuracy: 0.1689\n",
      "Epoch 45/100\n",
      "276153/276153 [==============================] - 10s 36us/step - loss: 1.8964e-06 - accuracy: 0.6373 - val_loss: 1.4115e-06 - val_accuracy: 0.4217\n",
      "Epoch 46/100\n",
      "276153/276153 [==============================] - 10s 36us/step - loss: 1.6749e-06 - accuracy: 0.6352 - val_loss: 1.1125e-06 - val_accuracy: 0.5540\n",
      "Epoch 47/100\n",
      "276153/276153 [==============================] - 10s 38us/step - loss: 1.8143e-06 - accuracy: 0.6367 - val_loss: 1.0687e-06 - val_accuracy: 0.2599\n",
      "Epoch 48/100\n",
      "276153/276153 [==============================] - 10s 36us/step - loss: 1.6336e-06 - accuracy: 0.6384 - val_loss: 1.1542e-06 - val_accuracy: 0.2586\n",
      "Epoch 49/100\n",
      "276153/276153 [==============================] - 10s 37us/step - loss: 1.7163e-06 - accuracy: 0.6379 - val_loss: 1.1448e-06 - val_accuracy: 0.9686\n",
      "Epoch 50/100\n",
      "276153/276153 [==============================] - 10s 36us/step - loss: 1.7187e-06 - accuracy: 0.6385 - val_loss: 1.6133e-06 - val_accuracy: 0.3163\n",
      "Epoch 51/100\n",
      "276153/276153 [==============================] - 10s 36us/step - loss: 1.8288e-06 - accuracy: 0.6387 - val_loss: 1.1356e-06 - val_accuracy: 0.4603\n"
     ]
    },
    {
     "name": "stdout",
     "output_type": "stream",
     "text": [
      "Epoch 52/100\n",
      "276153/276153 [==============================] - 10s 36us/step - loss: 1.4915e-06 - accuracy: 0.6374 - val_loss: 1.0042e-06 - val_accuracy: 0.5408\n",
      "Epoch 53/100\n",
      "276153/276153 [==============================] - 10s 36us/step - loss: 1.6252e-06 - accuracy: 0.6403 - val_loss: 1.0921e-06 - val_accuracy: 0.5003\n",
      "Epoch 54/100\n",
      "276153/276153 [==============================] - 10s 36us/step - loss: 1.6319e-06 - accuracy: 0.6371 - val_loss: 1.0378e-06 - val_accuracy: 0.3108\n",
      "Epoch 55/100\n",
      "276153/276153 [==============================] - 10s 36us/step - loss: 1.6288e-06 - accuracy: 0.6375 - val_loss: 2.5292e-05 - val_accuracy: 0.3261\n",
      "Epoch 56/100\n",
      "276153/276153 [==============================] - 11s 41us/step - loss: 1.6247e-06 - accuracy: 0.6403 - val_loss: 1.0783e-06 - val_accuracy: 0.9594\n",
      "Epoch 57/100\n",
      "276153/276153 [==============================] - 10s 38us/step - loss: 1.5834e-06 - accuracy: 0.6392 - val_loss: 1.5791e-06 - val_accuracy: 0.3984\n",
      "Epoch 58/100\n",
      "276153/276153 [==============================] - 10s 38us/step - loss: 1.6149e-06 - accuracy: 0.6360 - val_loss: 1.2098e-06 - val_accuracy: 0.9477\n",
      "Epoch 59/100\n",
      "276153/276153 [==============================] - 10s 37us/step - loss: 1.5548e-06 - accuracy: 0.6407 - val_loss: 1.5070e-06 - val_accuracy: 0.7690\n",
      "Epoch 60/100\n",
      "276153/276153 [==============================] - 10s 36us/step - loss: 1.5855e-06 - accuracy: 0.6416 - val_loss: 2.3198e-06 - val_accuracy: 0.6795\n",
      "Epoch 61/100\n",
      "276153/276153 [==============================] - 10s 36us/step - loss: 1.5208e-06 - accuracy: 0.6400 - val_loss: 1.0261e-06 - val_accuracy: 0.1551\n",
      "Epoch 62/100\n",
      "276153/276153 [==============================] - 10s 37us/step - loss: 1.5740e-06 - accuracy: 0.6370 - val_loss: 1.1649e-06 - val_accuracy: 0.2111\n",
      "Epoch 63/100\n",
      "276153/276153 [==============================] - 10s 35us/step - loss: 1.4700e-06 - accuracy: 0.6386 - val_loss: 9.6024e-07 - val_accuracy: 0.9759\n",
      "Epoch 64/100\n",
      "276153/276153 [==============================] - 10s 35us/step - loss: 1.5068e-06 - accuracy: 0.6389 - val_loss: 1.2032e-06 - val_accuracy: 0.2624\n",
      "Epoch 65/100\n",
      "276153/276153 [==============================] - 10s 35us/step - loss: 1.5361e-06 - accuracy: 0.6408 - val_loss: 1.3049e-06 - val_accuracy: 0.4453\n",
      "Epoch 66/100\n",
      "276153/276153 [==============================] - 9s 34us/step - loss: 1.4521e-06 - accuracy: 0.6413 - val_loss: 2.8729e-06 - val_accuracy: 0.2833\n",
      "Epoch 67/100\n",
      "276153/276153 [==============================] - 6s 23us/step - loss: 1.6036e-06 - accuracy: 0.6393 - val_loss: 7.9168e-07 - val_accuracy: 0.2400\n",
      "Epoch 68/100\n",
      "276153/276153 [==============================] - 8s 28us/step - loss: 1.4830e-06 - accuracy: 0.6400 - val_loss: 1.0315e-06 - val_accuracy: 0.2779\n",
      "Epoch 69/100\n",
      "276153/276153 [==============================] - 7s 25us/step - loss: 1.5970e-06 - accuracy: 0.6411 - val_loss: 7.6065e-07 - val_accuracy: 0.3009\n",
      "Epoch 70/100\n",
      "276153/276153 [==============================] - 8s 31us/step - loss: 1.4173e-06 - accuracy: 0.6398 - val_loss: 1.1732e-06 - val_accuracy: 0.4380\n",
      "Epoch 71/100\n",
      "276153/276153 [==============================] - 7s 24us/step - loss: 1.4961e-06 - accuracy: 0.6375 - val_loss: 8.7077e-07 - val_accuracy: 0.2241\n",
      "Epoch 72/100\n",
      "276153/276153 [==============================] - 5s 17us/step - loss: 1.3930e-06 - accuracy: 0.6405 - val_loss: 7.6424e-07 - val_accuracy: 0.4023\n",
      "Epoch 73/100\n",
      "276153/276153 [==============================] - 5s 17us/step - loss: 1.4059e-06 - accuracy: 0.6428 - val_loss: 7.9142e-07 - val_accuracy: 0.3441\n",
      "Epoch 74/100\n",
      "276153/276153 [==============================] - 5s 17us/step - loss: 1.4990e-06 - accuracy: 0.6399 - val_loss: 8.2380e-07 - val_accuracy: 0.2665\n",
      "Epoch 75/100\n",
      "276153/276153 [==============================] - 5s 17us/step - loss: 1.3075e-06 - accuracy: 0.6395 - val_loss: 7.3999e-07 - val_accuracy: 0.2193\n",
      "Epoch 76/100\n",
      "276153/276153 [==============================] - 5s 16us/step - loss: 1.5042e-06 - accuracy: 0.6449 - val_loss: 7.1856e-07 - val_accuracy: 0.3533\n",
      "Epoch 77/100\n",
      "276153/276153 [==============================] - 5s 17us/step - loss: 1.4375e-06 - accuracy: 0.6442 - val_loss: 9.1115e-07 - val_accuracy: 0.9333\n",
      "Epoch 78/100\n",
      "276153/276153 [==============================] - 5s 17us/step - loss: 1.3931e-06 - accuracy: 0.6429 - val_loss: 8.2726e-07 - val_accuracy: 0.2421\n",
      "Epoch 79/100\n",
      "276153/276153 [==============================] - 4s 16us/step - loss: 1.4421e-06 - accuracy: 0.6422 - val_loss: 7.7543e-07 - val_accuracy: 0.3324\n",
      "Epoch 80/100\n",
      "276153/276153 [==============================] - 4s 16us/step - loss: 1.3283e-06 - accuracy: 0.6426 - val_loss: 3.2999e-06 - val_accuracy: 0.1187\n",
      "Epoch 81/100\n",
      "276153/276153 [==============================] - 5s 16us/step - loss: 1.3256e-06 - accuracy: 0.6455 - val_loss: 8.9774e-07 - val_accuracy: 0.2190\n",
      "Epoch 85/100\n",
      "276153/276153 [==============================] - 4s 16us/step - loss: 1.3669e-06 - accuracy: 0.6435 - val_loss: 8.8863e-07 - val_accuracy: 0.1588\n",
      "Epoch 86/100\n",
      "276153/276153 [==============================] - 4s 16us/step - loss: 1.2798e-06 - accuracy: 0.6477 - val_loss: 6.8578e-07 - val_accuracy: 0.9095\n",
      "Epoch 87/100\n",
      "276153/276153 [==============================] - 4s 16us/step - loss: 1.4257e-06 - accuracy: 0.6454 - val_loss: 6.5230e-07 - val_accuracy: 0.3211\n",
      "Epoch 88/100\n",
      "276153/276153 [==============================] - 4s 16us/step - loss: 1.2886e-06 - accuracy: 0.6451 - val_loss: 6.8239e-07 - val_accuracy: 0.3351\n",
      "Epoch 89/100\n",
      "276153/276153 [==============================] - 4s 16us/step - loss: 1.4478e-06 - accuracy: 0.6475 - val_loss: 7.5755e-07 - val_accuracy: 0.1035\n",
      "Epoch 90/100\n",
      "276153/276153 [==============================] - 4s 16us/step - loss: 1.2363e-06 - accuracy: 0.6484 - val_loss: 6.7678e-07 - val_accuracy: 0.8817\n",
      "Epoch 91/100\n",
      "276153/276153 [==============================] - 4s 16us/step - loss: 1.3069e-06 - accuracy: 0.6448 - val_loss: 8.2255e-07 - val_accuracy: 0.5067\n",
      "Epoch 92/100\n",
      "276153/276153 [==============================] - 4s 16us/step - loss: 1.2559e-06 - accuracy: 0.6454 - val_loss: 7.2549e-07 - val_accuracy: 0.2449\n",
      "Epoch 93/100\n",
      "276153/276153 [==============================] - 4s 16us/step - loss: 1.3531e-06 - accuracy: 0.6480 - val_loss: 8.7671e-07 - val_accuracy: 0.2151\n",
      "Epoch 94/100\n",
      "276153/276153 [==============================] - 4s 16us/step - loss: 1.2520e-06 - accuracy: 0.6468 - val_loss: 6.0698e-07 - val_accuracy: 0.1572\n",
      "Epoch 95/100\n",
      "276153/276153 [==============================] - 4s 16us/step - loss: 1.2572e-06 - accuracy: 0.6465 - val_loss: 8.0099e-07 - val_accuracy: 0.9576\n",
      "Epoch 96/100\n",
      "276153/276153 [==============================] - 5s 17us/step - loss: 1.2709e-06 - accuracy: 0.6475 - val_loss: 1.8836e-06 - val_accuracy: 0.6058\n",
      "Epoch 97/100\n",
      "276153/276153 [==============================] - 5s 17us/step - loss: 1.3276e-06 - accuracy: 0.6449 - val_loss: 1.0861e-06 - val_accuracy: 0.0951\n",
      "Epoch 98/100\n",
      "276153/276153 [==============================] - 5s 17us/step - loss: 1.1977e-06 - accuracy: 0.6500 - val_loss: 7.5084e-07 - val_accuracy: 0.3904\n",
      "Epoch 99/100\n",
      "276153/276153 [==============================] - 4s 16us/step - loss: 1.2499e-06 - accuracy: 0.6513 - val_loss: 1.0518e-06 - val_accuracy: 0.8945\n",
      "Epoch 100/100\n",
      "276153/276153 [==============================] - 4s 15us/step - loss: 1.2810e-06 - accuracy: 0.6505 - val_loss: 1.4562e-06 - val_accuracy: 0.6718\n"
     ]
    }
   ],
   "source": [
    "history=model.fit(np.array(X_train),np.array(X_train),\n",
    "                  batch_size=BATCH_SIZE, \n",
    "                  epochs=NUM_EPOCHS,\n",
    "                  validation_split=0.05,\n",
    "                  verbose = 1)"
   ]
  },
  {
   "cell_type": "code",
   "execution_count": 13,
   "metadata": {},
   "outputs": [
    {
     "data": {
      "image/png": "[encoded data removed]",
      "text/plain": [
       "<Figure size 432x288 with 1 Axes>"
      ]
     },
     "metadata": {
      "needs_background": "light"
     },
     "output_type": "display_data"
    }
   ],
   "source": [
    "import matplotlib.pyplot as plt\n",
    "\n",
    "plt.plot(history.history['loss'], 'b', label='Training loss')\n",
    "plt.plot(history.history['val_loss'], 'r', label='Validation loss')\n",
    "plt.legend(loc='upper right')\n",
    "plt.xlabel('Epochs')\n",
    "plt.ylabel('Loss, [mse]')\n",
    "plt.ylim([0,.05])\n",
    "plt.show()"
   ]
  },
  {
   "cell_type": "code",
   "execution_count": 14,
   "metadata": {},
   "outputs": [
    {
     "data": {
      "image/png": "[encoded data removed]",
      "text/plain": [
       "<Figure size 432x288 with 1 Axes>"
      ]
     },
     "metadata": {
      "needs_background": "light"
     },
     "output_type": "display_data"
    }
   ],
   "source": [
    "X_pred = model.predict(np.array(X_train))\n",
    "\n",
    "import seaborn as sns\n",
    "\n",
    "scored = np.mean(np.abs(X_pred-X_train), axis = 1)\n",
    "plt.figure()\n",
    "sns.distplot(scored, bins = 10, kde= True, color = 'blue');\n",
    "plt.xlim([0.0,.02])\n",
    "plt.show()"
   ]
  },
  {
   "cell_type": "code",
   "execution_count": 15,
   "metadata": {},
   "outputs": [
    {
     "data": {
      "text/html": [
       "<div>\n",
       "<style scoped>\n",
       "    .dataframe tbody tr th:only-of-type {\n",
       "        vertical-align: middle;\n",
       "    }\n",
       "\n",
       "    .dataframe tbody tr th {\n",
       "        vertical-align: top;\n",
       "    }\n",
       "\n",
       "    .dataframe thead th {\n",
       "        text-align: right;\n",
       "    }\n",
       "</style>\n",
       "<table border=\"1\" class=\"dataframe\">\n",
       "  <thead>\n",
       "    <tr style=\"text-align: right;\">\n",
       "      <th></th>\n",
       "      <th>Loss_mae</th>\n",
       "      <th>Threshold</th>\n",
       "      <th>Anomaly</th>\n",
       "    </tr>\n",
       "  </thead>\n",
       "  <tbody>\n",
       "    <tr>\n",
       "      <th>69919</th>\n",
       "      <td>0.000747</td>\n",
       "      <td>0.0025</td>\n",
       "      <td>False</td>\n",
       "    </tr>\n",
       "    <tr>\n",
       "      <th>32811</th>\n",
       "      <td>0.000836</td>\n",
       "      <td>0.0025</td>\n",
       "      <td>False</td>\n",
       "    </tr>\n",
       "    <tr>\n",
       "      <th>18961</th>\n",
       "      <td>0.001642</td>\n",
       "      <td>0.0025</td>\n",
       "      <td>False</td>\n",
       "    </tr>\n",
       "    <tr>\n",
       "      <th>30513</th>\n",
       "      <td>0.000872</td>\n",
       "      <td>0.0025</td>\n",
       "      <td>False</td>\n",
       "    </tr>\n",
       "    <tr>\n",
       "      <th>65853</th>\n",
       "      <td>0.000795</td>\n",
       "      <td>0.0025</td>\n",
       "      <td>False</td>\n",
       "    </tr>\n",
       "    <tr>\n",
       "      <th>...</th>\n",
       "      <td>...</td>\n",
       "      <td>...</td>\n",
       "      <td>...</td>\n",
       "    </tr>\n",
       "    <tr>\n",
       "      <th>14862</th>\n",
       "      <td>0.000273</td>\n",
       "      <td>0.0025</td>\n",
       "      <td>False</td>\n",
       "    </tr>\n",
       "    <tr>\n",
       "      <th>72657</th>\n",
       "      <td>0.002576</td>\n",
       "      <td>0.0025</td>\n",
       "      <td>True</td>\n",
       "    </tr>\n",
       "    <tr>\n",
       "      <th>40723</th>\n",
       "      <td>0.001069</td>\n",
       "      <td>0.0025</td>\n",
       "      <td>False</td>\n",
       "    </tr>\n",
       "    <tr>\n",
       "      <th>2675</th>\n",
       "      <td>0.001112</td>\n",
       "      <td>0.0025</td>\n",
       "      <td>False</td>\n",
       "    </tr>\n",
       "    <tr>\n",
       "      <th>17700</th>\n",
       "      <td>0.001113</td>\n",
       "      <td>0.0025</td>\n",
       "      <td>False</td>\n",
       "    </tr>\n",
       "  </tbody>\n",
       "</table>\n",
       "<p>100 rows × 3 columns</p>\n",
       "</div>"
      ],
      "text/plain": [
       "       Loss_mae  Threshold  Anomaly\n",
       "69919  0.000747     0.0025    False\n",
       "32811  0.000836     0.0025    False\n",
       "18961  0.001642     0.0025    False\n",
       "30513  0.000872     0.0025    False\n",
       "65853  0.000795     0.0025    False\n",
       "...         ...        ...      ...\n",
       "14862  0.000273     0.0025    False\n",
       "72657  0.002576     0.0025     True\n",
       "40723  0.001069     0.0025    False\n",
       "2675   0.001112     0.0025    False\n",
       "17700  0.001113     0.0025    False\n",
       "\n",
       "[100 rows x 3 columns]"
      ]
     },
     "execution_count": 15,
     "metadata": {},
     "output_type": "execute_result"
    }
   ],
   "source": [
    "X_pred = model.predict(np.array(X_test))\n",
    "\n",
    "scored = pd.DataFrame()\n",
    "scored['Loss_mae'] = np.mean(np.abs(X_pred-X_test), axis = 1)\n",
    "scored['Threshold'] = 0.0025\n",
    "scored['Anomaly'] = scored['Loss_mae'] > scored['Threshold']\n",
    "scored.sample(100)"
   ]
  },
  {
   "cell_type": "code",
   "execution_count": 16,
   "metadata": {},
   "outputs": [],
   "source": [
    "X_pred_train = model.predict(np.array(X_train))\n",
    "X_pred_train = pd.DataFrame(X_pred_train)\n",
    "\n",
    "scored_train = pd.DataFrame()\n",
    "scored_train['Loss_mae'] = np.mean(np.abs(X_pred_train-X_train), axis = 1)\n",
    "scored_train['Threshold'] = 0.0025\n",
    "scored_train['Anomaly'] = scored_train['Loss_mae'] > scored_train['Threshold']\n",
    "scored = pd.concat([scored_train, scored])"
   ]
  },
  {
   "cell_type": "code",
   "execution_count": 17,
   "metadata": {},
   "outputs": [
    {
     "data": {
      "text/plain": [
       "<matplotlib.axes._subplots.AxesSubplot at 0x1fd823f3ec8>"
      ]
     },
     "execution_count": 17,
     "metadata": {},
     "output_type": "execute_result"
    },
    {
     "data": {
      "image/png": "[encoded data removed]",
      "text/plain": [
       "<Figure size 720x432 with 1 Axes>"
      ]
     },
     "metadata": {
      "needs_background": "light"
     },
     "output_type": "display_data"
    }
   ],
   "source": [
    "scored.plot(logy=True,  figsize = (10,6), xlim =[0,1000], ylim = [1e-4,1e-1], color = ['blue','red'])"
   ]
  },
  {
   "cell_type": "code",
   "execution_count": 18,
   "metadata": {},
   "outputs": [
    {
     "data": {
      "text/plain": [
       "0.00105949213999237"
      ]
     },
     "execution_count": 18,
     "metadata": {},
     "output_type": "execute_result"
    }
   ],
   "source": [
    "scored_train['Loss_mae'].mean()"
   ]
  },
  {
   "cell_type": "code",
   "execution_count": 19,
   "metadata": {},
   "outputs": [
    {
     "data": {
      "text/html": [
       "<div>\n",
       "<style scoped>\n",
       "    .dataframe tbody tr th:only-of-type {\n",
       "        vertical-align: middle;\n",
       "    }\n",
       "\n",
       "    .dataframe tbody tr th {\n",
       "        vertical-align: top;\n",
       "    }\n",
       "\n",
       "    .dataframe thead th {\n",
       "        text-align: right;\n",
       "    }\n",
       "</style>\n",
       "<table border=\"1\" class=\"dataframe\">\n",
       "  <thead>\n",
       "    <tr style=\"text-align: right;\">\n",
       "      <th></th>\n",
       "      <th>Loss_mae</th>\n",
       "      <th>Threshold</th>\n",
       "      <th>Anomaly</th>\n",
       "    </tr>\n",
       "  </thead>\n",
       "  <tbody>\n",
       "    <tr>\n",
       "      <th>0</th>\n",
       "      <td>0.001555</td>\n",
       "      <td>0.0025</td>\n",
       "      <td>False</td>\n",
       "    </tr>\n",
       "    <tr>\n",
       "      <th>1</th>\n",
       "      <td>0.001601</td>\n",
       "      <td>0.0025</td>\n",
       "      <td>False</td>\n",
       "    </tr>\n",
       "    <tr>\n",
       "      <th>2</th>\n",
       "      <td>0.000842</td>\n",
       "      <td>0.0025</td>\n",
       "      <td>False</td>\n",
       "    </tr>\n",
       "    <tr>\n",
       "      <th>3</th>\n",
       "      <td>0.000753</td>\n",
       "      <td>0.0025</td>\n",
       "      <td>False</td>\n",
       "    </tr>\n",
       "    <tr>\n",
       "      <th>4</th>\n",
       "      <td>0.001139</td>\n",
       "      <td>0.0025</td>\n",
       "      <td>False</td>\n",
       "    </tr>\n",
       "    <tr>\n",
       "      <th>...</th>\n",
       "      <td>...</td>\n",
       "      <td>...</td>\n",
       "      <td>...</td>\n",
       "    </tr>\n",
       "    <tr>\n",
       "      <th>290683</th>\n",
       "      <td>0.000764</td>\n",
       "      <td>0.0025</td>\n",
       "      <td>False</td>\n",
       "    </tr>\n",
       "    <tr>\n",
       "      <th>290684</th>\n",
       "      <td>0.000746</td>\n",
       "      <td>0.0025</td>\n",
       "      <td>False</td>\n",
       "    </tr>\n",
       "    <tr>\n",
       "      <th>290685</th>\n",
       "      <td>0.000752</td>\n",
       "      <td>0.0025</td>\n",
       "      <td>False</td>\n",
       "    </tr>\n",
       "    <tr>\n",
       "      <th>290686</th>\n",
       "      <td>0.000822</td>\n",
       "      <td>0.0025</td>\n",
       "      <td>False</td>\n",
       "    </tr>\n",
       "    <tr>\n",
       "      <th>290687</th>\n",
       "      <td>0.000697</td>\n",
       "      <td>0.0025</td>\n",
       "      <td>False</td>\n",
       "    </tr>\n",
       "  </tbody>\n",
       "</table>\n",
       "<p>290688 rows × 3 columns</p>\n",
       "</div>"
      ],
      "text/plain": [
       "        Loss_mae  Threshold  Anomaly\n",
       "0       0.001555     0.0025    False\n",
       "1       0.001601     0.0025    False\n",
       "2       0.000842     0.0025    False\n",
       "3       0.000753     0.0025    False\n",
       "4       0.001139     0.0025    False\n",
       "...          ...        ...      ...\n",
       "290683  0.000764     0.0025    False\n",
       "290684  0.000746     0.0025    False\n",
       "290685  0.000752     0.0025    False\n",
       "290686  0.000822     0.0025    False\n",
       "290687  0.000697     0.0025    False\n",
       "\n",
       "[290688 rows x 3 columns]"
      ]
     },
     "execution_count": 19,
     "metadata": {},
     "output_type": "execute_result"
    }
   ],
   "source": [
    "scored_train"
   ]
  },
  {
   "cell_type": "code",
   "execution_count": 20,
   "metadata": {},
   "outputs": [
    {
     "data": {
      "text/html": [
       "<div>\n",
       "<style scoped>\n",
       "    .dataframe tbody tr th:only-of-type {\n",
       "        vertical-align: middle;\n",
       "    }\n",
       "\n",
       "    .dataframe tbody tr th {\n",
       "        vertical-align: top;\n",
       "    }\n",
       "\n",
       "    .dataframe thead th {\n",
       "        text-align: right;\n",
       "    }\n",
       "</style>\n",
       "<table border=\"1\" class=\"dataframe\">\n",
       "  <thead>\n",
       "    <tr style=\"text-align: right;\">\n",
       "      <th></th>\n",
       "      <th>Loss_mae</th>\n",
       "      <th>Threshold</th>\n",
       "      <th>Anomaly</th>\n",
       "    </tr>\n",
       "  </thead>\n",
       "  <tbody>\n",
       "    <tr>\n",
       "      <th>29</th>\n",
       "      <td>0.002558</td>\n",
       "      <td>0.0025</td>\n",
       "      <td>True</td>\n",
       "    </tr>\n",
       "    <tr>\n",
       "      <th>132</th>\n",
       "      <td>0.002732</td>\n",
       "      <td>0.0025</td>\n",
       "      <td>True</td>\n",
       "    </tr>\n",
       "    <tr>\n",
       "      <th>702</th>\n",
       "      <td>0.002544</td>\n",
       "      <td>0.0025</td>\n",
       "      <td>True</td>\n",
       "    </tr>\n",
       "    <tr>\n",
       "      <th>1359</th>\n",
       "      <td>0.002679</td>\n",
       "      <td>0.0025</td>\n",
       "      <td>True</td>\n",
       "    </tr>\n",
       "    <tr>\n",
       "      <th>1360</th>\n",
       "      <td>0.002703</td>\n",
       "      <td>0.0025</td>\n",
       "      <td>True</td>\n",
       "    </tr>\n",
       "    <tr>\n",
       "      <th>...</th>\n",
       "      <td>...</td>\n",
       "      <td>...</td>\n",
       "      <td>...</td>\n",
       "    </tr>\n",
       "    <tr>\n",
       "      <th>290524</th>\n",
       "      <td>0.002855</td>\n",
       "      <td>0.0025</td>\n",
       "      <td>True</td>\n",
       "    </tr>\n",
       "    <tr>\n",
       "      <th>290535</th>\n",
       "      <td>0.003151</td>\n",
       "      <td>0.0025</td>\n",
       "      <td>True</td>\n",
       "    </tr>\n",
       "    <tr>\n",
       "      <th>290615</th>\n",
       "      <td>0.003205</td>\n",
       "      <td>0.0025</td>\n",
       "      <td>True</td>\n",
       "    </tr>\n",
       "    <tr>\n",
       "      <th>290620</th>\n",
       "      <td>0.003052</td>\n",
       "      <td>0.0025</td>\n",
       "      <td>True</td>\n",
       "    </tr>\n",
       "    <tr>\n",
       "      <th>290640</th>\n",
       "      <td>0.002555</td>\n",
       "      <td>0.0025</td>\n",
       "      <td>True</td>\n",
       "    </tr>\n",
       "  </tbody>\n",
       "</table>\n",
       "<p>2353 rows × 3 columns</p>\n",
       "</div>"
      ],
      "text/plain": [
       "        Loss_mae  Threshold  Anomaly\n",
       "29      0.002558     0.0025     True\n",
       "132     0.002732     0.0025     True\n",
       "702     0.002544     0.0025     True\n",
       "1359    0.002679     0.0025     True\n",
       "1360    0.002703     0.0025     True\n",
       "...          ...        ...      ...\n",
       "290524  0.002855     0.0025     True\n",
       "290535  0.003151     0.0025     True\n",
       "290615  0.003205     0.0025     True\n",
       "290620  0.003052     0.0025     True\n",
       "290640  0.002555     0.0025     True\n",
       "\n",
       "[2353 rows x 3 columns]"
      ]
     },
     "execution_count": 20,
     "metadata": {},
     "output_type": "execute_result"
    }
   ],
   "source": [
    "scored_train[scored_train['Anomaly'] == True]"
   ]
  }
 ],
 "metadata": {
  "kernelspec": {
   "display_name": "Python 3",
   "language": "python",
   "name": "python3"
  },
  "language_info": {
   "codemirror_mode": {
    "name": "ipython",
    "version": 3
   },
   "file_extension": ".py",
   "mimetype": "text/x-python",
   "name": "python",
   "nbconvert_exporter": "python",
   "pygments_lexer": "ipython3",
   "version": "3.7.4"
  }
 },
 "nbformat": 4,
 "nbformat_minor": 4
}
