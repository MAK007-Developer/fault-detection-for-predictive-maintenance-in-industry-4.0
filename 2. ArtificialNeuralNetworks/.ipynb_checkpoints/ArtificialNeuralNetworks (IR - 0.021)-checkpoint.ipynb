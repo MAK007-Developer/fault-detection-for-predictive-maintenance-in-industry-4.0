{
 "cells": [
  {
   "cell_type": "code",
   "execution_count": 1,
   "metadata": {},
   "outputs": [],
   "source": [
    "#importing packages\n",
    "import pandas as pd\n",
    "import numpy as np"
   ]
  },
  {
   "cell_type": "code",
   "execution_count": 2,
   "metadata": {},
   "outputs": [],
   "source": [
    "# Importing the dataset\n",
    "train = pd.read_csv('../Datasets/NB.csv')\n",
    "train['Fault'] = 0\n",
    "\n",
    "test = pd.read_csv('../Datasets/IR - 21.csv')\n",
    "test['Fault'] = 1"
   ]
  },
  {
   "cell_type": "code",
   "execution_count": 3,
   "metadata": {},
   "outputs": [
    {
     "data": {
      "text/html": [
       "<div>\n",
       "<style scoped>\n",
       "    .dataframe tbody tr th:only-of-type {\n",
       "        vertical-align: middle;\n",
       "    }\n",
       "\n",
       "    .dataframe tbody tr th {\n",
       "        vertical-align: top;\n",
       "    }\n",
       "\n",
       "    .dataframe thead th {\n",
       "        text-align: right;\n",
       "    }\n",
       "</style>\n",
       "<table border=\"1\" class=\"dataframe\">\n",
       "  <thead>\n",
       "    <tr style=\"text-align: right;\">\n",
       "      <th></th>\n",
       "      <th>DE</th>\n",
       "      <th>FE</th>\n",
       "      <th>Fault</th>\n",
       "    </tr>\n",
       "  </thead>\n",
       "  <tbody>\n",
       "    <tr>\n",
       "      <th>0</th>\n",
       "      <td>0.064254</td>\n",
       "      <td>0.038625</td>\n",
       "      <td>0</td>\n",
       "    </tr>\n",
       "    <tr>\n",
       "      <th>1</th>\n",
       "      <td>0.063002</td>\n",
       "      <td>0.096769</td>\n",
       "      <td>0</td>\n",
       "    </tr>\n",
       "    <tr>\n",
       "      <th>2</th>\n",
       "      <td>-0.004381</td>\n",
       "      <td>0.127382</td>\n",
       "      <td>0</td>\n",
       "    </tr>\n",
       "    <tr>\n",
       "      <th>3</th>\n",
       "      <td>-0.035882</td>\n",
       "      <td>0.144640</td>\n",
       "      <td>0</td>\n",
       "    </tr>\n",
       "    <tr>\n",
       "      <th>4</th>\n",
       "      <td>-0.023991</td>\n",
       "      <td>0.086702</td>\n",
       "      <td>0</td>\n",
       "    </tr>\n",
       "    <tr>\n",
       "      <th>...</th>\n",
       "      <td>...</td>\n",
       "      <td>...</td>\n",
       "      <td>...</td>\n",
       "    </tr>\n",
       "    <tr>\n",
       "      <th>121150</th>\n",
       "      <td>0.041421</td>\n",
       "      <td>-0.061431</td>\n",
       "      <td>1</td>\n",
       "    </tr>\n",
       "    <tr>\n",
       "      <th>121151</th>\n",
       "      <td>0.079187</td>\n",
       "      <td>0.121218</td>\n",
       "      <td>1</td>\n",
       "    </tr>\n",
       "    <tr>\n",
       "      <th>121152</th>\n",
       "      <td>-0.083654</td>\n",
       "      <td>0.120807</td>\n",
       "      <td>1</td>\n",
       "    </tr>\n",
       "    <tr>\n",
       "      <th>121153</th>\n",
       "      <td>-0.031269</td>\n",
       "      <td>-0.092865</td>\n",
       "      <td>1</td>\n",
       "    </tr>\n",
       "    <tr>\n",
       "      <th>121154</th>\n",
       "      <td>0.196140</td>\n",
       "      <td>0.030818</td>\n",
       "      <td>1</td>\n",
       "    </tr>\n",
       "  </tbody>\n",
       "</table>\n",
       "<p>242310 rows × 3 columns</p>\n",
       "</div>"
      ],
      "text/plain": [
       "              DE        FE  Fault\n",
       "0       0.064254  0.038625      0\n",
       "1       0.063002  0.096769      0\n",
       "2      -0.004381  0.127382      0\n",
       "3      -0.035882  0.144640      0\n",
       "4      -0.023991  0.086702      0\n",
       "...          ...       ...    ...\n",
       "121150  0.041421 -0.061431      1\n",
       "121151  0.079187  0.121218      1\n",
       "121152 -0.083654  0.120807      1\n",
       "121153 -0.031269 -0.092865      1\n",
       "121154  0.196140  0.030818      1\n",
       "\n",
       "[242310 rows x 3 columns]"
      ]
     },
     "execution_count": 3,
     "metadata": {},
     "output_type": "execute_result"
    }
   ],
   "source": [
    "dataset = train.append(test)\n",
    "dataset"
   ]
  },
  {
   "cell_type": "code",
   "execution_count": 4,
   "metadata": {},
   "outputs": [],
   "source": [
    "X = dataset.iloc[:, 0:2].values\n",
    "y = dataset.iloc[:, 2]"
   ]
  },
  {
   "cell_type": "code",
   "execution_count": 5,
   "metadata": {},
   "outputs": [],
   "source": [
    "from sklearn.model_selection import train_test_split\n",
    "X_train, X_test, y_train, y_test = train_test_split(X, y, test_size = 0.2, random_state = 0)"
   ]
  },
  {
   "cell_type": "code",
   "execution_count": 6,
   "metadata": {},
   "outputs": [],
   "source": [
    "from sklearn.preprocessing import StandardScaler\n",
    "sc = StandardScaler()\n",
    "X_train = sc.fit_transform(X_train)\n",
    "X_test = sc.transform(X_test)"
   ]
  },
  {
   "cell_type": "code",
   "execution_count": 7,
   "metadata": {},
   "outputs": [
    {
     "name": "stderr",
     "output_type": "stream",
     "text": [
      "Using TensorFlow backend.\n"
     ]
    }
   ],
   "source": [
    "import keras\n",
    "from keras.models import Sequential\n",
    "from keras.layers import Dense"
   ]
  },
  {
   "cell_type": "code",
   "execution_count": 8,
   "metadata": {},
   "outputs": [],
   "source": [
    "classifier = Sequential()"
   ]
  },
  {
   "cell_type": "code",
   "execution_count": 9,
   "metadata": {},
   "outputs": [
    {
     "name": "stderr",
     "output_type": "stream",
     "text": [
      "C:\\Users\\leste\\Anaconda3\\lib\\site-packages\\ipykernel_launcher.py:1: UserWarning: Update your `Dense` call to the Keras 2 API: `Dense(kernel_initializer=\"uniform\", activation=\"relu\", input_dim=2, units=2)`\n",
      "  \"\"\"Entry point for launching an IPython kernel.\n"
     ]
    }
   ],
   "source": [
    "classifier.add(Dense(output_dim = 2, kernel_initializer = 'uniform', activation = 'relu', input_dim = 2))"
   ]
  },
  {
   "cell_type": "code",
   "execution_count": 10,
   "metadata": {},
   "outputs": [
    {
     "name": "stderr",
     "output_type": "stream",
     "text": [
      "C:\\Users\\leste\\Anaconda3\\lib\\site-packages\\ipykernel_launcher.py:1: UserWarning: Update your `Dense` call to the Keras 2 API: `Dense(kernel_initializer=\"uniform\", activation=\"relu\", units=2)`\n",
      "  \"\"\"Entry point for launching an IPython kernel.\n"
     ]
    }
   ],
   "source": [
    "classifier.add(Dense(output_dim = 2, kernel_initializer = 'uniform', activation = 'relu'))"
   ]
  },
  {
   "cell_type": "code",
   "execution_count": 11,
   "metadata": {},
   "outputs": [
    {
     "name": "stderr",
     "output_type": "stream",
     "text": [
      "C:\\Users\\leste\\Anaconda3\\lib\\site-packages\\ipykernel_launcher.py:1: UserWarning: Update your `Dense` call to the Keras 2 API: `Dense(kernel_initializer=\"uniform\", activation=\"sigmoid\", units=1)`\n",
      "  \"\"\"Entry point for launching an IPython kernel.\n"
     ]
    }
   ],
   "source": [
    "classifier.add(Dense(output_dim = 1, kernel_initializer = 'uniform', activation = 'sigmoid'))"
   ]
  },
  {
   "cell_type": "code",
   "execution_count": 12,
   "metadata": {},
   "outputs": [
    {
     "name": "stdout",
     "output_type": "stream",
     "text": [
      "Model: \"sequential_1\"\n",
      "_________________________________________________________________\n",
      "Layer (type)                 Output Shape              Param #   \n",
      "=================================================================\n",
      "dense_1 (Dense)              (None, 2)                 6         \n",
      "_________________________________________________________________\n",
      "dense_2 (Dense)              (None, 2)                 6         \n",
      "_________________________________________________________________\n",
      "dense_3 (Dense)              (None, 1)                 3         \n",
      "=================================================================\n",
      "Total params: 15\n",
      "Trainable params: 15\n",
      "Non-trainable params: 0\n",
      "_________________________________________________________________\n"
     ]
    }
   ],
   "source": [
    "classifier.compile(optimizer = 'adam', loss = 'binary_crossentropy', metrics = ['accuracy'])\n",
    "classifier.summary()"
   ]
  },
  {
   "cell_type": "code",
   "execution_count": 13,
   "metadata": {},
   "outputs": [
    {
     "name": "stderr",
     "output_type": "stream",
     "text": [
      "C:\\Users\\leste\\Anaconda3\\lib\\site-packages\\ipykernel_launcher.py:1: UserWarning: The `nb_epoch` argument in `fit` has been renamed `epochs`.\n",
      "  \"\"\"Entry point for launching an IPython kernel.\n"
     ]
    },
    {
     "name": "stdout",
     "output_type": "stream",
     "text": [
      "Epoch 1/100\n",
      "193848/193848 [==============================] - 0s 2us/step - loss: 0.6924 - accuracy: 0.5516\n",
      "Epoch 2/100\n",
      "193848/193848 [==============================] - 0s 1us/step - loss: 0.6809 - accuracy: 0.6067\n",
      "Epoch 3/100\n",
      "193848/193848 [==============================] - 0s 1us/step - loss: 0.6494 - accuracy: 0.7013\n",
      "Epoch 4/100\n",
      "193848/193848 [==============================] - 0s 1us/step - loss: 0.6050 - accuracy: 0.7479\n",
      "Epoch 5/100\n",
      "193848/193848 [==============================] - 0s 1us/step - loss: 0.5603 - accuracy: 0.7745\n",
      "Epoch 6/100\n",
      "193848/193848 [==============================] - 0s 1us/step - loss: 0.5205 - accuracy: 0.7966\n",
      "Epoch 7/100\n",
      "193848/193848 [==============================] - 0s 1us/step - loss: 0.4913 - accuracy: 0.8069\n",
      "Epoch 8/100\n",
      "193848/193848 [==============================] - 0s 1us/step - loss: 0.4714 - accuracy: 0.8116\n",
      "Epoch 9/100\n",
      "193848/193848 [==============================] - 0s 1us/step - loss: 0.4581 - accuracy: 0.8133\n",
      "Epoch 10/100\n",
      "193848/193848 [==============================] - 0s 1us/step - loss: 0.4490 - accuracy: 0.8136\n",
      "Epoch 11/100\n",
      "193848/193848 [==============================] - 0s 1us/step - loss: 0.4427 - accuracy: 0.8132\n",
      "Epoch 12/100\n",
      "193848/193848 [==============================] - 0s 1us/step - loss: 0.4381 - accuracy: 0.8130\n",
      "Epoch 13/100\n",
      "193848/193848 [==============================] - 0s 1us/step - loss: 0.4347 - accuracy: 0.8126\n",
      "Epoch 14/100\n",
      "193848/193848 [==============================] - 0s 1us/step - loss: 0.4319 - accuracy: 0.8125\n",
      "Epoch 15/100\n",
      "193848/193848 [==============================] - 0s 1us/step - loss: 0.4296 - accuracy: 0.8124\n",
      "Epoch 16/100\n",
      "193848/193848 [==============================] - 0s 1us/step - loss: 0.4278 - accuracy: 0.8122\n",
      "Epoch 17/100\n",
      "193848/193848 [==============================] - 0s 1us/step - loss: 0.4262 - accuracy: 0.8119\n",
      "Epoch 18/100\n",
      "193848/193848 [==============================] - 0s 1us/step - loss: 0.4248 - accuracy: 0.8119\n",
      "Epoch 19/100\n",
      "193848/193848 [==============================] - 0s 1us/step - loss: 0.4236 - accuracy: 0.8119\n",
      "Epoch 20/100\n",
      "193848/193848 [==============================] - 0s 1us/step - loss: 0.4226 - accuracy: 0.8118\n",
      "Epoch 21/100\n",
      "193848/193848 [==============================] - 0s 1us/step - loss: 0.4217 - accuracy: 0.8117\n",
      "Epoch 22/100\n",
      "193848/193848 [==============================] - 0s 1us/step - loss: 0.4209 - accuracy: 0.8116\n",
      "Epoch 23/100\n",
      "193848/193848 [==============================] - 0s 1us/step - loss: 0.4202 - accuracy: 0.8115\n",
      "Epoch 24/100\n",
      "193848/193848 [==============================] - 0s 1us/step - loss: 0.4196 - accuracy: 0.8114\n",
      "Epoch 25/100\n",
      "193848/193848 [==============================] - 0s 1us/step - loss: 0.4191 - accuracy: 0.8114\n",
      "Epoch 26/100\n",
      "193848/193848 [==============================] - 0s 1us/step - loss: 0.4186 - accuracy: 0.8114\n",
      "Epoch 27/100\n",
      "193848/193848 [==============================] - 0s 1us/step - loss: 0.4182 - accuracy: 0.8113\n",
      "Epoch 28/100\n",
      "193848/193848 [==============================] - 0s 1us/step - loss: 0.4178 - accuracy: 0.8113\n",
      "Epoch 29/100\n",
      "193848/193848 [==============================] - 0s 1us/step - loss: 0.4175 - accuracy: 0.8113\n",
      "Epoch 30/100\n",
      "193848/193848 [==============================] - 0s 1us/step - loss: 0.4171 - accuracy: 0.8112\n",
      "Epoch 31/100\n",
      "193848/193848 [==============================] - 0s 1us/step - loss: 0.4169 - accuracy: 0.8112\n",
      "Epoch 32/100\n",
      "193848/193848 [==============================] - 0s 1us/step - loss: 0.4166 - accuracy: 0.8112\n",
      "Epoch 33/100\n",
      "193848/193848 [==============================] - 0s 1us/step - loss: 0.4164 - accuracy: 0.8112\n",
      "Epoch 34/100\n",
      "193848/193848 [==============================] - 0s 1us/step - loss: 0.4162 - accuracy: 0.8111\n",
      "Epoch 35/100\n",
      "193848/193848 [==============================] - 0s 1us/step - loss: 0.4160 - accuracy: 0.8111\n",
      "Epoch 36/100\n",
      "193848/193848 [==============================] - 0s 1us/step - loss: 0.4158 - accuracy: 0.8111\n",
      "Epoch 37/100\n",
      "193848/193848 [==============================] - 0s 1us/step - loss: 0.4157 - accuracy: 0.8111\n",
      "Epoch 38/100\n",
      "193848/193848 [==============================] - 0s 1us/step - loss: 0.4155 - accuracy: 0.8111\n",
      "Epoch 39/100\n",
      "193848/193848 [==============================] - 0s 1us/step - loss: 0.4154 - accuracy: 0.8111\n",
      "Epoch 40/100\n",
      "193848/193848 [==============================] - 0s 1us/step - loss: 0.4153 - accuracy: 0.8110\n",
      "Epoch 41/100\n",
      "193848/193848 [==============================] - 0s 1us/step - loss: 0.4151 - accuracy: 0.8110\n",
      "Epoch 42/100\n",
      "193848/193848 [==============================] - 0s 1us/step - loss: 0.4150 - accuracy: 0.8110\n",
      "Epoch 43/100\n",
      "193848/193848 [==============================] - 0s 1us/step - loss: 0.4150 - accuracy: 0.8110\n",
      "Epoch 44/100\n",
      "193848/193848 [==============================] - 0s 1us/step - loss: 0.4149 - accuracy: 0.8110\n",
      "Epoch 45/100\n",
      "193848/193848 [==============================] - 0s 1us/step - loss: 0.4148 - accuracy: 0.8110\n",
      "Epoch 46/100\n",
      "193848/193848 [==============================] - 0s 1us/step - loss: 0.4147 - accuracy: 0.8110\n",
      "Epoch 47/100\n",
      "193848/193848 [==============================] - 0s 1us/step - loss: 0.4146 - accuracy: 0.8110\n",
      "Epoch 48/100\n",
      "193848/193848 [==============================] - 0s 1us/step - loss: 0.4146 - accuracy: 0.8110\n",
      "Epoch 49/100\n",
      "193848/193848 [==============================] - 0s 1us/step - loss: 0.4145 - accuracy: 0.8110\n",
      "Epoch 50/100\n",
      "193848/193848 [==============================] - 0s 1us/step - loss: 0.4144 - accuracy: 0.8110\n",
      "Epoch 51/100\n",
      "193848/193848 [==============================] - 0s 1us/step - loss: 0.4144 - accuracy: 0.8110\n",
      "Epoch 52/100\n",
      "193848/193848 [==============================] - 0s 1us/step - loss: 0.4143 - accuracy: 0.8110\n",
      "Epoch 53/100\n",
      "193848/193848 [==============================] - 0s 1us/step - loss: 0.4143 - accuracy: 0.8109\n",
      "Epoch 54/100\n",
      "193848/193848 [==============================] - 0s 1us/step - loss: 0.4142 - accuracy: 0.8109\n",
      "Epoch 55/100\n",
      "193848/193848 [==============================] - 0s 1us/step - loss: 0.4142 - accuracy: 0.8109\n",
      "Epoch 56/100\n",
      "193848/193848 [==============================] - 0s 1us/step - loss: 0.4142 - accuracy: 0.8109\n",
      "Epoch 57/100\n",
      "193848/193848 [==============================] - 0s 1us/step - loss: 0.4141 - accuracy: 0.8109\n",
      "Epoch 58/100\n",
      "193848/193848 [==============================] - 0s 1us/step - loss: 0.4141 - accuracy: 0.8109\n",
      "Epoch 59/100\n",
      "193848/193848 [==============================] - 0s 1us/step - loss: 0.4141 - accuracy: 0.8109\n",
      "Epoch 60/100\n",
      "193848/193848 [==============================] - 0s 1us/step - loss: 0.4140 - accuracy: 0.8109\n",
      "Epoch 61/100\n",
      "193848/193848 [==============================] - 0s 1us/step - loss: 0.4140 - accuracy: 0.8109\n",
      "Epoch 62/100\n",
      "193848/193848 [==============================] - 0s 1us/step - loss: 0.4140 - accuracy: 0.8109\n",
      "Epoch 63/100\n",
      "193848/193848 [==============================] - 0s 1us/step - loss: 0.4139 - accuracy: 0.8109\n",
      "Epoch 64/100\n",
      "193848/193848 [==============================] - 0s 1us/step - loss: 0.4139 - accuracy: 0.8109\n",
      "Epoch 65/100\n",
      "193848/193848 [==============================] - 0s 1us/step - loss: 0.4139 - accuracy: 0.8109\n",
      "Epoch 66/100\n",
      "193848/193848 [==============================] - 0s 1us/step - loss: 0.4138 - accuracy: 0.8109\n",
      "Epoch 67/100\n",
      "193848/193848 [==============================] - 0s 1us/step - loss: 0.4138 - accuracy: 0.8109\n",
      "Epoch 68/100\n",
      "193848/193848 [==============================] - 0s 1us/step - loss: 0.4138 - accuracy: 0.8109\n",
      "Epoch 69/100\n",
      "193848/193848 [==============================] - 0s 1us/step - loss: 0.4138 - accuracy: 0.8109\n",
      "Epoch 70/100\n",
      "193848/193848 [==============================] - 0s 1us/step - loss: 0.4138 - accuracy: 0.8109\n",
      "Epoch 71/100\n",
      "193848/193848 [==============================] - 0s 1us/step - loss: 0.4137 - accuracy: 0.8109\n",
      "Epoch 72/100\n",
      "193848/193848 [==============================] - 0s 1us/step - loss: 0.4137 - accuracy: 0.8109\n",
      "Epoch 73/100\n",
      "193848/193848 [==============================] - 0s 1us/step - loss: 0.4137 - accuracy: 0.8109\n",
      "Epoch 74/100\n",
      "193848/193848 [==============================] - 0s 1us/step - loss: 0.4137 - accuracy: 0.8109\n",
      "Epoch 75/100\n",
      "193848/193848 [==============================] - 0s 1us/step - loss: 0.4137 - accuracy: 0.8109\n",
      "Epoch 76/100\n",
      "193848/193848 [==============================] - 0s 1us/step - loss: 0.4136 - accuracy: 0.8109\n",
      "Epoch 77/100\n",
      "193848/193848 [==============================] - 0s 1us/step - loss: 0.4136 - accuracy: 0.8109\n",
      "Epoch 78/100\n",
      "193848/193848 [==============================] - 0s 1us/step - loss: 0.4136 - accuracy: 0.8109\n",
      "Epoch 79/100\n",
      "193848/193848 [==============================] - 0s 1us/step - loss: 0.4136 - accuracy: 0.8109\n",
      "Epoch 80/100\n",
      "193848/193848 [==============================] - 0s 1us/step - loss: 0.4136 - accuracy: 0.8109\n",
      "Epoch 81/100\n",
      "193848/193848 [==============================] - 0s 1us/step - loss: 0.4136 - accuracy: 0.8109\n",
      "Epoch 82/100\n",
      "193848/193848 [==============================] - 0s 1us/step - loss: 0.4136 - accuracy: 0.8109\n",
      "Epoch 83/100\n",
      "193848/193848 [==============================] - 0s 1us/step - loss: 0.4135 - accuracy: 0.8109\n",
      "Epoch 84/100\n",
      "193848/193848 [==============================] - 0s 1us/step - loss: 0.4135 - accuracy: 0.8109\n",
      "Epoch 85/100\n",
      "193848/193848 [==============================] - 0s 1us/step - loss: 0.4135 - accuracy: 0.8109\n",
      "Epoch 86/100\n",
      "193848/193848 [==============================] - 0s 1us/step - loss: 0.4135 - accuracy: 0.8109\n",
      "Epoch 87/100\n",
      "193848/193848 [==============================] - 0s 1us/step - loss: 0.4135 - accuracy: 0.8109\n",
      "Epoch 88/100\n",
      "193848/193848 [==============================] - 0s 1us/step - loss: 0.4135 - accuracy: 0.8109\n",
      "Epoch 89/100\n",
      "193848/193848 [==============================] - 0s 1us/step - loss: 0.4135 - accuracy: 0.8109\n",
      "Epoch 90/100\n",
      "193848/193848 [==============================] - 0s 1us/step - loss: 0.4135 - accuracy: 0.8109\n",
      "Epoch 91/100\n",
      "193848/193848 [==============================] - 0s 1us/step - loss: 0.4134 - accuracy: 0.8109\n",
      "Epoch 92/100\n",
      "193848/193848 [==============================] - 0s 1us/step - loss: 0.4134 - accuracy: 0.8109\n",
      "Epoch 93/100\n",
      "193848/193848 [==============================] - 0s 1us/step - loss: 0.4134 - accuracy: 0.8109\n",
      "Epoch 94/100\n",
      "193848/193848 [==============================] - 0s 1us/step - loss: 0.4134 - accuracy: 0.8109\n",
      "Epoch 95/100\n",
      "193848/193848 [==============================] - 0s 1us/step - loss: 0.4134 - accuracy: 0.8108\n",
      "Epoch 96/100\n",
      "193848/193848 [==============================] - 0s 1us/step - loss: 0.4134 - accuracy: 0.8109\n",
      "Epoch 97/100\n",
      "193848/193848 [==============================] - 0s 1us/step - loss: 0.4134 - accuracy: 0.8109\n",
      "Epoch 98/100\n",
      "193848/193848 [==============================] - 0s 1us/step - loss: 0.4134 - accuracy: 0.8108\n",
      "Epoch 99/100\n",
      "193848/193848 [==============================] - 0s 1us/step - loss: 0.4134 - accuracy: 0.8108\n",
      "Epoch 100/100\n",
      "193848/193848 [==============================] - 0s 1us/step - loss: 0.4134 - accuracy: 0.8108\n"
     ]
    }
   ],
   "source": [
    "model = classifier.fit(X_train, y_train, batch_size = 1000, nb_epoch = 100, shuffle = False)\n"
   ]
  },
  {
   "cell_type": "code",
   "execution_count": 14,
   "metadata": {},
   "outputs": [],
   "source": [
    "y_pred = classifier.predict(X_test)\n",
    "y_pred = (y_pred > 0.5)"
   ]
  },
  {
   "cell_type": "code",
   "execution_count": 15,
   "metadata": {},
   "outputs": [
    {
     "data": {
      "image/png": "[encoded data removed]",
      "text/plain": [
       "<Figure size 720x288 with 2 Axes>"
      ]
     },
     "metadata": {
      "needs_background": "light"
     },
     "output_type": "display_data"
    }
   ],
   "source": [
    "from sklearn.metrics import confusion_matrix\n",
    "cm = confusion_matrix(y_test, y_pred)\n",
    "\n",
    "import seaborn as sn\n",
    "import pandas as pd\n",
    "import matplotlib.pyplot as plt\n",
    "\n",
    "index = ['Normal', 'Inner Race (0.021\")']  \n",
    "columns = ['Normal', 'Inner Race (0.021\")']  \n",
    "cm_df = pd.DataFrame(cm,columns,index)  \n",
    "\n",
    "\n",
    "plt.figure(figsize=(10,4))\n",
    "sn.set(font_scale=1.4) # for label size\n",
    "sn.heatmap(cm_df, annot=True, fmt='g') # font size\n",
    "plt.title('Confusion matrix')\n",
    "plt.xlabel('Predicted')\n",
    "plt.ylabel('True')\n",
    "plt.show()\n",
    "\n",
    "plt.show()"
   ]
  },
  {
   "cell_type": "code",
   "execution_count": 16,
   "metadata": {},
   "outputs": [
    {
     "name": "stdout",
     "output_type": "stream",
     "text": [
      "48462/48462 [==============================] - 1s 15us/step\n"
     ]
    },
    {
     "data": {
      "text/plain": [
       "[0.4157048230086388, 0.8100367188453674]"
      ]
     },
     "execution_count": 16,
     "metadata": {},
     "output_type": "execute_result"
    }
   ],
   "source": [
    "classifier.evaluate(X_test, y_test)"
   ]
  },
  {
   "cell_type": "code",
   "execution_count": 17,
   "metadata": {},
   "outputs": [
    {
     "name": "stdout",
     "output_type": "stream",
     "text": [
      "                     precision    recall  f1-score   support\n",
      "\n",
      "             Normal       0.76      0.90      0.83     24247\n",
      "Inner Race (0.021\")       0.88      0.72      0.79     24215\n",
      "\n",
      "           accuracy                           0.81     48462\n",
      "          macro avg       0.82      0.81      0.81     48462\n",
      "       weighted avg       0.82      0.81      0.81     48462\n",
      "\n"
     ]
    }
   ],
   "source": [
    "from sklearn.metrics import classification_report\n",
    "cr = classification_report(y_test, y_pred, target_names=['Normal', 'Inner Race (0.021\")'])\n",
    "print(cr)"
   ]
  },
  {
   "cell_type": "code",
   "execution_count": 18,
   "metadata": {},
   "outputs": [
    {
     "name": "stdout",
     "output_type": "stream",
     "text": [
      "Anomalies: 9206\n"
     ]
    }
   ],
   "source": [
    "normal, IR = cm\n",
    "anomalies = normal[1] + IR[0]\n",
    "print(\"Anomalies: {}\".format(anomalies))"
   ]
  },
  {
   "cell_type": "code",
   "execution_count": null,
   "metadata": {},
   "outputs": [],
   "source": []
  }
 ],
 "metadata": {
  "kernelspec": {
   "display_name": "Python 3",
   "language": "python",
   "name": "python3"
  },
  "language_info": {
   "codemirror_mode": {
    "name": "ipython",
    "version": 3
   },
   "file_extension": ".py",
   "mimetype": "text/x-python",
   "name": "python",
   "nbconvert_exporter": "python",
   "pygments_lexer": "ipython3",
   "version": "3.7.4"
  }
 },
 "nbformat": 4,
 "nbformat_minor": 4
}
