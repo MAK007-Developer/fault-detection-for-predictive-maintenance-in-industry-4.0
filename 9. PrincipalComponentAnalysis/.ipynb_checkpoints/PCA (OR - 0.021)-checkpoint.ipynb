{
 "cells": [
  {
   "cell_type": "code",
   "execution_count": 1,
   "metadata": {},
   "outputs": [],
   "source": [
    "#importing packages\n",
    "import pandas as pd\n",
    "import numpy as np"
   ]
  },
  {
   "cell_type": "code",
   "execution_count": 2,
   "metadata": {},
   "outputs": [],
   "source": [
    "# Importing the dataset\n",
    "X = pd.read_csv('../Datasets/NB.csv')\n",
    "X['Fault'] = 0\n",
    "\n",
    "y = pd.read_csv('../Datasets/OR - 21.csv')\n",
    "y['Fault'] = 1"
   ]
  },
  {
   "cell_type": "code",
   "execution_count": 3,
   "metadata": {},
   "outputs": [],
   "source": [
    "from sklearn.model_selection import train_test_split\n",
    "X_train, X_test = train_test_split(X, test_size = 0.2, random_state = 0)\n",
    "\n",
    "y_train, y_test = train_test_split(y, test_size = 0.2, random_state = 0)"
   ]
  },
  {
   "cell_type": "code",
   "execution_count": 4,
   "metadata": {},
   "outputs": [
    {
     "data": {
      "text/html": [
       "<div>\n",
       "<style scoped>\n",
       "    .dataframe tbody tr th:only-of-type {\n",
       "        vertical-align: middle;\n",
       "    }\n",
       "\n",
       "    .dataframe tbody tr th {\n",
       "        vertical-align: top;\n",
       "    }\n",
       "\n",
       "    .dataframe thead th {\n",
       "        text-align: right;\n",
       "    }\n",
       "</style>\n",
       "<table border=\"1\" class=\"dataframe\">\n",
       "  <thead>\n",
       "    <tr style=\"text-align: right;\">\n",
       "      <th></th>\n",
       "      <th>DE</th>\n",
       "      <th>FE</th>\n",
       "      <th>Fault</th>\n",
       "    </tr>\n",
       "  </thead>\n",
       "  <tbody>\n",
       "    <tr>\n",
       "      <th>103476</th>\n",
       "      <td>0.062585</td>\n",
       "      <td>0.041091</td>\n",
       "      <td>0</td>\n",
       "    </tr>\n",
       "    <tr>\n",
       "      <th>96984</th>\n",
       "      <td>-0.075102</td>\n",
       "      <td>-0.013765</td>\n",
       "      <td>0</td>\n",
       "    </tr>\n",
       "    <tr>\n",
       "      <th>114732</th>\n",
       "      <td>-0.048190</td>\n",
       "      <td>-0.001233</td>\n",
       "      <td>0</td>\n",
       "    </tr>\n",
       "    <tr>\n",
       "      <th>10916</th>\n",
       "      <td>0.069260</td>\n",
       "      <td>0.028558</td>\n",
       "      <td>0</td>\n",
       "    </tr>\n",
       "    <tr>\n",
       "      <th>37646</th>\n",
       "      <td>0.040054</td>\n",
       "      <td>0.065335</td>\n",
       "      <td>0</td>\n",
       "    </tr>\n",
       "    <tr>\n",
       "      <th>...</th>\n",
       "      <td>...</td>\n",
       "      <td>...</td>\n",
       "      <td>...</td>\n",
       "    </tr>\n",
       "    <tr>\n",
       "      <th>45891</th>\n",
       "      <td>0.074314</td>\n",
       "      <td>0.006164</td>\n",
       "      <td>1</td>\n",
       "    </tr>\n",
       "    <tr>\n",
       "      <th>117952</th>\n",
       "      <td>-0.165684</td>\n",
       "      <td>0.421182</td>\n",
       "      <td>1</td>\n",
       "    </tr>\n",
       "    <tr>\n",
       "      <th>42613</th>\n",
       "      <td>0.305378</td>\n",
       "      <td>0.031024</td>\n",
       "      <td>1</td>\n",
       "    </tr>\n",
       "    <tr>\n",
       "      <th>43567</th>\n",
       "      <td>0.313094</td>\n",
       "      <td>0.113205</td>\n",
       "      <td>1</td>\n",
       "    </tr>\n",
       "    <tr>\n",
       "      <th>68268</th>\n",
       "      <td>0.045482</td>\n",
       "      <td>0.024860</td>\n",
       "      <td>1</td>\n",
       "    </tr>\n",
       "  </tbody>\n",
       "</table>\n",
       "<p>193848 rows × 3 columns</p>\n",
       "</div>"
      ],
      "text/plain": [
       "              DE        FE  Fault\n",
       "103476  0.062585  0.041091      0\n",
       "96984  -0.075102 -0.013765      0\n",
       "114732 -0.048190 -0.001233      0\n",
       "10916   0.069260  0.028558      0\n",
       "37646   0.040054  0.065335      0\n",
       "...          ...       ...    ...\n",
       "45891   0.074314  0.006164      1\n",
       "117952 -0.165684  0.421182      1\n",
       "42613   0.305378  0.031024      1\n",
       "43567   0.313094  0.113205      1\n",
       "68268   0.045482  0.024860      1\n",
       "\n",
       "[193848 rows x 3 columns]"
      ]
     },
     "execution_count": 4,
     "metadata": {},
     "output_type": "execute_result"
    }
   ],
   "source": [
    "train = X_train.append(y_train)\n",
    "train"
   ]
  },
  {
   "cell_type": "code",
   "execution_count": 5,
   "metadata": {},
   "outputs": [
    {
     "data": {
      "text/html": [
       "<div>\n",
       "<style scoped>\n",
       "    .dataframe tbody tr th:only-of-type {\n",
       "        vertical-align: middle;\n",
       "    }\n",
       "\n",
       "    .dataframe tbody tr th {\n",
       "        vertical-align: top;\n",
       "    }\n",
       "\n",
       "    .dataframe thead th {\n",
       "        text-align: right;\n",
       "    }\n",
       "</style>\n",
       "<table border=\"1\" class=\"dataframe\">\n",
       "  <thead>\n",
       "    <tr style=\"text-align: right;\">\n",
       "      <th></th>\n",
       "      <th>DE</th>\n",
       "      <th>FE</th>\n",
       "      <th>Fault</th>\n",
       "    </tr>\n",
       "  </thead>\n",
       "  <tbody>\n",
       "    <tr>\n",
       "      <th>121079</th>\n",
       "      <td>0.046313</td>\n",
       "      <td>0.054651</td>\n",
       "      <td>0</td>\n",
       "    </tr>\n",
       "    <tr>\n",
       "      <th>107924</th>\n",
       "      <td>-0.015855</td>\n",
       "      <td>0.061636</td>\n",
       "      <td>0</td>\n",
       "    </tr>\n",
       "    <tr>\n",
       "      <th>22678</th>\n",
       "      <td>-0.065297</td>\n",
       "      <td>0.122862</td>\n",
       "      <td>0</td>\n",
       "    </tr>\n",
       "    <tr>\n",
       "      <th>55190</th>\n",
       "      <td>-0.112652</td>\n",
       "      <td>0.066978</td>\n",
       "      <td>0</td>\n",
       "    </tr>\n",
       "    <tr>\n",
       "      <th>92048</th>\n",
       "      <td>0.023991</td>\n",
       "      <td>0.034105</td>\n",
       "      <td>0</td>\n",
       "    </tr>\n",
       "    <tr>\n",
       "      <th>...</th>\n",
       "      <td>...</td>\n",
       "      <td>...</td>\n",
       "      <td>...</td>\n",
       "    </tr>\n",
       "    <tr>\n",
       "      <th>103358</th>\n",
       "      <td>-0.061725</td>\n",
       "      <td>0.001644</td>\n",
       "      <td>1</td>\n",
       "    </tr>\n",
       "    <tr>\n",
       "      <th>54412</th>\n",
       "      <td>-0.092588</td>\n",
       "      <td>0.109918</td>\n",
       "      <td>1</td>\n",
       "    </tr>\n",
       "    <tr>\n",
       "      <th>50632</th>\n",
       "      <td>-0.298475</td>\n",
       "      <td>-0.965636</td>\n",
       "      <td>1</td>\n",
       "    </tr>\n",
       "    <tr>\n",
       "      <th>89251</th>\n",
       "      <td>-0.242028</td>\n",
       "      <td>0.089989</td>\n",
       "      <td>1</td>\n",
       "    </tr>\n",
       "    <tr>\n",
       "      <th>65637</th>\n",
       "      <td>-2.109220</td>\n",
       "      <td>-0.530689</td>\n",
       "      <td>1</td>\n",
       "    </tr>\n",
       "  </tbody>\n",
       "</table>\n",
       "<p>48462 rows × 3 columns</p>\n",
       "</div>"
      ],
      "text/plain": [
       "              DE        FE  Fault\n",
       "121079  0.046313  0.054651      0\n",
       "107924 -0.015855  0.061636      0\n",
       "22678  -0.065297  0.122862      0\n",
       "55190  -0.112652  0.066978      0\n",
       "92048   0.023991  0.034105      0\n",
       "...          ...       ...    ...\n",
       "103358 -0.061725  0.001644      1\n",
       "54412  -0.092588  0.109918      1\n",
       "50632  -0.298475 -0.965636      1\n",
       "89251  -0.242028  0.089989      1\n",
       "65637  -2.109220 -0.530689      1\n",
       "\n",
       "[48462 rows x 3 columns]"
      ]
     },
     "execution_count": 5,
     "metadata": {},
     "output_type": "execute_result"
    }
   ],
   "source": [
    "test = X_test.append(y_test)\n",
    "test"
   ]
  },
  {
   "cell_type": "code",
   "execution_count": 6,
   "metadata": {},
   "outputs": [],
   "source": [
    "from sklearn.preprocessing import MinMaxScaler\n",
    "scaler = MinMaxScaler()\n",
    "train = pd.DataFrame(scaler.fit_transform(train))\n",
    "# Random shuffle training data\n",
    "train.sample(frac=1)\n",
    "\n",
    "test = pd.DataFrame(scaler.transform(test))"
   ]
  },
  {
   "cell_type": "code",
   "execution_count": 7,
   "metadata": {},
   "outputs": [],
   "source": [
    "from sklearn.decomposition import PCA\n",
    "pca = PCA(n_components=2, svd_solver= 'full')\n",
    "\n",
    "train_PCA = pca.fit_transform(train)\n",
    "train_PCA = pd.DataFrame(train_PCA)\n",
    "train_PCA.index = train.index\n",
    "\n",
    "test_PCA = pca.transform(test)\n",
    "test_PCA = pd.DataFrame(test_PCA)\n",
    "test_PCA.index = test.index"
   ]
  },
  {
   "cell_type": "code",
   "execution_count": 8,
   "metadata": {},
   "outputs": [],
   "source": [
    "def cov_matrix(data, verbose=False):\n",
    "    covariance_matrix = np.cov(data, rowvar=False)\n",
    "    if is_pos_def(covariance_matrix):\n",
    "        inv_covariance_matrix = np.linalg.inv(covariance_matrix)\n",
    "        if is_pos_def(inv_covariance_matrix):\n",
    "            return covariance_matrix, inv_covariance_matrix\n",
    "        else:\n",
    "            print(\"Error: Inverse of Covariance Matrix is not positive definite!\")\n",
    "    else:\n",
    "        print(\"Error: Covariance Matrix is not positive definite!\")"
   ]
  },
  {
   "cell_type": "code",
   "execution_count": 9,
   "metadata": {},
   "outputs": [],
   "source": [
    "def MahalanobisDist(inv_cov_matrix, mean_distr, data, verbose=False):\n",
    "    inv_covariance_matrix = inv_cov_matrix\n",
    "    vars_mean = mean_distr\n",
    "    diff = data - vars_mean\n",
    "    md = []\n",
    "    for i in range(len(diff)):\n",
    "        md.append(np.sqrt(diff[i].dot(inv_covariance_matrix).dot(diff[i])))\n",
    "    return md"
   ]
  },
  {
   "cell_type": "code",
   "execution_count": 10,
   "metadata": {},
   "outputs": [],
   "source": [
    "def MD_detectOutliers(dist, extreme=False, verbose=False):\n",
    "    k = 3. if extreme else 2.\n",
    "    threshold = np.mean(dist) * k\n",
    "    outliers = []\n",
    "    for i in range(len(dist)):\n",
    "        if dist[i] >= threshold:\n",
    "            outliers.append(i)  # index of the outlier\n",
    "    return np.array(outliers)"
   ]
  },
  {
   "cell_type": "code",
   "execution_count": 11,
   "metadata": {},
   "outputs": [],
   "source": [
    "def MD_threshold(dist, extreme=False, verbose=False):\n",
    "    k = 3. if extreme else 2.\n",
    "    threshold = np.mean(dist) * k\n",
    "    return threshold"
   ]
  },
  {
   "cell_type": "code",
   "execution_count": 12,
   "metadata": {},
   "outputs": [],
   "source": [
    "def is_pos_def(A):\n",
    "    if np.allclose(A, A.T):\n",
    "        try:\n",
    "            np.linalg.cholesky(A)\n",
    "            return True\n",
    "        except np.linalg.LinAlgError:\n",
    "            return False\n",
    "    else:\n",
    "        return False"
   ]
  },
  {
   "cell_type": "code",
   "execution_count": 13,
   "metadata": {},
   "outputs": [],
   "source": [
    "data_train = np.array(train_PCA.values)\n",
    "data_test = np.array(test_PCA.values)"
   ]
  },
  {
   "cell_type": "code",
   "execution_count": 14,
   "metadata": {},
   "outputs": [],
   "source": [
    "cov_matrix, inv_cov_matrix  = cov_matrix(data_train)"
   ]
  },
  {
   "cell_type": "code",
   "execution_count": 15,
   "metadata": {},
   "outputs": [],
   "source": [
    "mean_distr = data_train.mean(axis=0)"
   ]
  },
  {
   "cell_type": "code",
   "execution_count": 16,
   "metadata": {},
   "outputs": [],
   "source": [
    "dist_test = MahalanobisDist(inv_cov_matrix, mean_distr, data_test, verbose=False)\n",
    "dist_train = MahalanobisDist(inv_cov_matrix, mean_distr, data_train, verbose=False)\n",
    "threshold = MD_threshold(dist_train, extreme = True)"
   ]
  },
  {
   "cell_type": "code",
   "execution_count": 17,
   "metadata": {},
   "outputs": [
    {
     "data": {
      "text/plain": [
       "(0.0, 15.0)"
      ]
     },
     "execution_count": 17,
     "metadata": {},
     "output_type": "execute_result"
    },
    {
     "data": {
      "image/png": "[encoded data removed]",
      "text/plain": [
       "<Figure size 432x288 with 1 Axes>"
      ]
     },
     "metadata": {
      "needs_background": "light"
     },
     "output_type": "display_data"
    }
   ],
   "source": [
    "import matplotlib.pyplot as plt\n",
    "import seaborn as sns\n",
    "\n",
    "plt.figure()\n",
    "sns.distplot(np.square(dist_train),\n",
    "             bins = 50, \n",
    "             kde= False);\n",
    "plt.xlim([0.0,15])"
   ]
  },
  {
   "cell_type": "code",
   "execution_count": 18,
   "metadata": {},
   "outputs": [
    {
     "data": {
      "text/plain": [
       "Text(0.5, 0, 'Mahalanobis dist')"
      ]
     },
     "execution_count": 18,
     "metadata": {},
     "output_type": "execute_result"
    },
    {
     "data": {
      "image/png": "[encoded data removed]",
      "text/plain": [
       "<Figure size 432x288 with 1 Axes>"
      ]
     },
     "metadata": {
      "needs_background": "light"
     },
     "output_type": "display_data"
    }
   ],
   "source": [
    "plt.figure()\n",
    "sns.distplot(dist_train,\n",
    "             bins = 10, \n",
    "             kde= True, \n",
    "            color = 'green');\n",
    "plt.xlim([0.0,5])\n",
    "plt.xlabel('Mahalanobis dist')"
   ]
  },
  {
   "cell_type": "code",
   "execution_count": 19,
   "metadata": {},
   "outputs": [],
   "source": [
    "anomaly_train = pd.DataFrame()\n",
    "anomaly_train['Mob_dist']= dist_train\n",
    "anomaly_train['Thresh'] = threshold\n",
    "# If Mob dist above threshold: Flag as anomaly\n",
    "anomaly_train['Anomaly'] = anomaly_train['Mob_dist'] > anomaly_train['Thresh']\n",
    "anomaly_train.index = train_PCA.index"
   ]
  },
  {
   "cell_type": "code",
   "execution_count": 20,
   "metadata": {},
   "outputs": [
    {
     "name": "stdout",
     "output_type": "stream",
     "text": [
      "        Mob_dist    Thresh  Anomaly\n",
      "96951   5.322475  3.775882     True\n",
      "96992   4.327879  3.775882     True\n",
      "97006   7.068625  3.775882     True\n",
      "97058   5.199892  3.775882     True\n",
      "97077   6.080528  3.775882     True\n",
      "...          ...       ...      ...\n",
      "193748  4.667263  3.775882     True\n",
      "193779  4.039112  3.775882     True\n",
      "193801  4.337958  3.775882     True\n",
      "193810  3.872145  3.775882     True\n",
      "193828  8.451667  3.775882     True\n",
      "\n",
      "[2643 rows x 3 columns]\n",
      "(2643, 3)\n"
     ]
    }
   ],
   "source": [
    "anomalies = anomaly_train[anomaly_train['Anomaly'] == True]\n",
    "print(anomalies)\n",
    "print(anomalies.shape)"
   ]
  },
  {
   "cell_type": "code",
   "execution_count": 21,
   "metadata": {},
   "outputs": [
    {
     "data": {
      "image/png": "[encoded data removed]",
      "text/plain": [
       "<Figure size 1152x288 with 1 Axes>"
      ]
     },
     "metadata": {
      "needs_background": "light"
     },
     "output_type": "display_data"
    }
   ],
   "source": [
    "f, (ax1) = plt.subplots(figsize=(16, 4))\n",
    "ax1.plot(anomaly_train.index, anomaly_train.Mob_dist, label='Mob dist');\n",
    "ax1.plot(anomaly_train.index, anomaly_train.Thresh, label='Threshold')\n",
    "g = sns.scatterplot(x=anomalies.index , y=anomalies.Mob_dist, label='anomaly', color='red')\n",
    "g.set(xlim = (0, len(anomaly_train.index)))\n",
    "plt.title('Anomalies')\n",
    "plt.xlabel('Data points')\n",
    "plt.legend();"
   ]
  },
  {
   "cell_type": "code",
   "execution_count": 22,
   "metadata": {},
   "outputs": [
    {
     "data": {
      "text/html": [
       "<div>\n",
       "<style scoped>\n",
       "    .dataframe tbody tr th:only-of-type {\n",
       "        vertical-align: middle;\n",
       "    }\n",
       "\n",
       "    .dataframe tbody tr th {\n",
       "        vertical-align: top;\n",
       "    }\n",
       "\n",
       "    .dataframe thead th {\n",
       "        text-align: right;\n",
       "    }\n",
       "</style>\n",
       "<table border=\"1\" class=\"dataframe\">\n",
       "  <thead>\n",
       "    <tr style=\"text-align: right;\">\n",
       "      <th></th>\n",
       "      <th>Mob_dist</th>\n",
       "      <th>Thresh</th>\n",
       "      <th>Anomaly</th>\n",
       "    </tr>\n",
       "  </thead>\n",
       "  <tbody>\n",
       "    <tr>\n",
       "      <th>0</th>\n",
       "      <td>1.012940</td>\n",
       "      <td>3.775882</td>\n",
       "      <td>False</td>\n",
       "    </tr>\n",
       "    <tr>\n",
       "      <th>1</th>\n",
       "      <td>1.014718</td>\n",
       "      <td>3.775882</td>\n",
       "      <td>False</td>\n",
       "    </tr>\n",
       "    <tr>\n",
       "      <th>2</th>\n",
       "      <td>1.137620</td>\n",
       "      <td>3.775882</td>\n",
       "      <td>False</td>\n",
       "    </tr>\n",
       "    <tr>\n",
       "      <th>3</th>\n",
       "      <td>1.011647</td>\n",
       "      <td>3.775882</td>\n",
       "      <td>False</td>\n",
       "    </tr>\n",
       "    <tr>\n",
       "      <th>4</th>\n",
       "      <td>1.000119</td>\n",
       "      <td>3.775882</td>\n",
       "      <td>False</td>\n",
       "    </tr>\n",
       "  </tbody>\n",
       "</table>\n",
       "</div>"
      ],
      "text/plain": [
       "   Mob_dist    Thresh  Anomaly\n",
       "0  1.012940  3.775882    False\n",
       "1  1.014718  3.775882    False\n",
       "2  1.137620  3.775882    False\n",
       "3  1.011647  3.775882    False\n",
       "4  1.000119  3.775882    False"
      ]
     },
     "execution_count": 22,
     "metadata": {},
     "output_type": "execute_result"
    }
   ],
   "source": [
    "anomaly_test = pd.DataFrame()\n",
    "anomaly_test['Mob_dist']= dist_test\n",
    "anomaly_test['Thresh'] = threshold\n",
    "# If Mob dist above threshold: Flag as anomaly\n",
    "anomaly_test['Anomaly'] = anomaly_test['Mob_dist'] > anomaly_test['Thresh']\n",
    "anomaly_test.index = test_PCA.index\n",
    "anomaly_test.head()"
   ]
  },
  {
   "cell_type": "code",
   "execution_count": 23,
   "metadata": {},
   "outputs": [
    {
     "name": "stdout",
     "output_type": "stream",
     "text": [
      "       Mob_dist    Thresh  Anomaly\n",
      "24241  4.074657  3.775882     True\n",
      "24265  3.921837  3.775882     True\n",
      "24306  4.970740  3.775882     True\n",
      "24368  6.806733  3.775882     True\n",
      "24386  6.085306  3.775882     True\n",
      "...         ...       ...      ...\n",
      "48416  3.836027  3.775882     True\n",
      "48429  4.851952  3.775882     True\n",
      "48450  7.043951  3.775882     True\n",
      "48459  6.728307  3.775882     True\n",
      "48461  4.936965  3.775882     True\n",
      "\n",
      "[617 rows x 3 columns]\n",
      "(617, 3)\n"
     ]
    }
   ],
   "source": [
    "OR_anomalies = anomaly_test[anomaly_test['Anomaly'] == True]\n",
    "print(OR_anomalies)\n",
    "print(OR_anomalies.shape)"
   ]
  },
  {
   "cell_type": "code",
   "execution_count": 24,
   "metadata": {},
   "outputs": [
    {
     "data": {
      "image/png": "[encoded data removed]",
      "text/plain": [
       "<Figure size 1152x288 with 1 Axes>"
      ]
     },
     "metadata": {
      "needs_background": "light"
     },
     "output_type": "display_data"
    }
   ],
   "source": [
    "f, (ax2) = plt.subplots(figsize=(16, 4))\n",
    "ax2.plot(anomaly_test.index, anomaly_test.Mob_dist, label='Mob dist');\n",
    "ax2.plot(anomaly_test.index, anomaly_test.Thresh, label='Threshold')\n",
    "g = sns.scatterplot(x=OR_anomalies.index , y=OR_anomalies.Mob_dist, label='anomaly', color='red')\n",
    "g.set(xlim = (0, len(anomaly_test.index)))\n",
    "plt.title('Anomalies')\n",
    "plt.xlabel('Data points')\n",
    "plt.legend();"
   ]
  },
  {
   "cell_type": "code",
   "execution_count": 25,
   "metadata": {},
   "outputs": [
    {
     "name": "stdout",
     "output_type": "stream",
     "text": [
      "Anomalies: 617\n"
     ]
    }
   ],
   "source": [
    "print(\"Anomalies: {}\".format(OR_anomalies['Anomaly'].count()))"
   ]
  },
  {
   "cell_type": "code",
   "execution_count": null,
   "metadata": {},
   "outputs": [],
   "source": []
  }
 ],
 "metadata": {
  "kernelspec": {
   "display_name": "Python 3",
   "language": "python",
   "name": "python3"
  },
  "language_info": {
   "codemirror_mode": {
    "name": "ipython",
    "version": 3
   },
   "file_extension": ".py",
   "mimetype": "text/x-python",
   "name": "python",
   "nbconvert_exporter": "python",
   "pygments_lexer": "ipython3",
   "version": "3.7.4"
  }
 },
 "nbformat": 4,
 "nbformat_minor": 4
}
