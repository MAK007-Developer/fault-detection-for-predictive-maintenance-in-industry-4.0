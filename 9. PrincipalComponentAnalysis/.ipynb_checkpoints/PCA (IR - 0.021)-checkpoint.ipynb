{
 "cells": [
  {
   "cell_type": "code",
   "execution_count": 1,
   "metadata": {},
   "outputs": [],
   "source": [
    "#importing packages\n",
    "import pandas as pd\n",
    "import numpy as np"
   ]
  },
  {
   "cell_type": "code",
   "execution_count": 2,
   "metadata": {},
   "outputs": [],
   "source": [
    "# Importing the dataset\n",
    "X = pd.read_csv('../Datasets/NB.csv')\n",
    "X['Fault'] = 0\n",
    "\n",
    "y = pd.read_csv('../Datasets/IR - 7.csv')\n",
    "y['Fault'] = 1"
   ]
  },
  {
   "cell_type": "code",
   "execution_count": 3,
   "metadata": {},
   "outputs": [],
   "source": [
    "from sklearn.model_selection import train_test_split\n",
    "X_train, X_test = train_test_split(X, test_size = 0.2, random_state = 0)\n",
    "\n",
    "y_train, y_test = train_test_split(y, test_size = 0.2, random_state = 0)"
   ]
  },
  {
   "cell_type": "code",
   "execution_count": 4,
   "metadata": {},
   "outputs": [
    {
     "data": {
      "text/html": [
       "<div>\n",
       "<style scoped>\n",
       "    .dataframe tbody tr th:only-of-type {\n",
       "        vertical-align: middle;\n",
       "    }\n",
       "\n",
       "    .dataframe tbody tr th {\n",
       "        vertical-align: top;\n",
       "    }\n",
       "\n",
       "    .dataframe thead th {\n",
       "        text-align: right;\n",
       "    }\n",
       "</style>\n",
       "<table border=\"1\" class=\"dataframe\">\n",
       "  <thead>\n",
       "    <tr style=\"text-align: right;\">\n",
       "      <th></th>\n",
       "      <th>DE</th>\n",
       "      <th>FE</th>\n",
       "      <th>Fault</th>\n",
       "    </tr>\n",
       "  </thead>\n",
       "  <tbody>\n",
       "    <tr>\n",
       "      <th>103476</th>\n",
       "      <td>0.062585</td>\n",
       "      <td>0.041091</td>\n",
       "      <td>0</td>\n",
       "    </tr>\n",
       "    <tr>\n",
       "      <th>96984</th>\n",
       "      <td>-0.075102</td>\n",
       "      <td>-0.013765</td>\n",
       "      <td>0</td>\n",
       "    </tr>\n",
       "    <tr>\n",
       "      <th>114732</th>\n",
       "      <td>-0.048190</td>\n",
       "      <td>-0.001233</td>\n",
       "      <td>0</td>\n",
       "    </tr>\n",
       "    <tr>\n",
       "      <th>10916</th>\n",
       "      <td>0.069260</td>\n",
       "      <td>0.028558</td>\n",
       "      <td>0</td>\n",
       "    </tr>\n",
       "    <tr>\n",
       "      <th>37646</th>\n",
       "      <td>0.040054</td>\n",
       "      <td>0.065335</td>\n",
       "      <td>0</td>\n",
       "    </tr>\n",
       "    <tr>\n",
       "      <th>...</th>\n",
       "      <td>...</td>\n",
       "      <td>...</td>\n",
       "      <td>...</td>\n",
       "    </tr>\n",
       "    <tr>\n",
       "      <th>45891</th>\n",
       "      <td>0.110131</td>\n",
       "      <td>-0.312085</td>\n",
       "      <td>1</td>\n",
       "    </tr>\n",
       "    <tr>\n",
       "      <th>117952</th>\n",
       "      <td>-0.909962</td>\n",
       "      <td>-0.030202</td>\n",
       "      <td>1</td>\n",
       "    </tr>\n",
       "    <tr>\n",
       "      <th>42613</th>\n",
       "      <td>0.676380</td>\n",
       "      <td>0.007396</td>\n",
       "      <td>1</td>\n",
       "    </tr>\n",
       "    <tr>\n",
       "      <th>43567</th>\n",
       "      <td>0.011208</td>\n",
       "      <td>0.209975</td>\n",
       "      <td>1</td>\n",
       "    </tr>\n",
       "    <tr>\n",
       "      <th>68268</th>\n",
       "      <td>0.112405</td>\n",
       "      <td>0.265447</td>\n",
       "      <td>1</td>\n",
       "    </tr>\n",
       "  </tbody>\n",
       "</table>\n",
       "<p>193848 rows × 3 columns</p>\n",
       "</div>"
      ],
      "text/plain": [
       "              DE        FE  Fault\n",
       "103476  0.062585  0.041091      0\n",
       "96984  -0.075102 -0.013765      0\n",
       "114732 -0.048190 -0.001233      0\n",
       "10916   0.069260  0.028558      0\n",
       "37646   0.040054  0.065335      0\n",
       "...          ...       ...    ...\n",
       "45891   0.110131 -0.312085      1\n",
       "117952 -0.909962 -0.030202      1\n",
       "42613   0.676380  0.007396      1\n",
       "43567   0.011208  0.209975      1\n",
       "68268   0.112405  0.265447      1\n",
       "\n",
       "[193848 rows x 3 columns]"
      ]
     },
     "execution_count": 4,
     "metadata": {},
     "output_type": "execute_result"
    }
   ],
   "source": [
    "train = X_train.append(y_train)\n",
    "train"
   ]
  },
  {
   "cell_type": "code",
   "execution_count": 5,
   "metadata": {},
   "outputs": [
    {
     "data": {
      "text/html": [
       "<div>\n",
       "<style scoped>\n",
       "    .dataframe tbody tr th:only-of-type {\n",
       "        vertical-align: middle;\n",
       "    }\n",
       "\n",
       "    .dataframe tbody tr th {\n",
       "        vertical-align: top;\n",
       "    }\n",
       "\n",
       "    .dataframe thead th {\n",
       "        text-align: right;\n",
       "    }\n",
       "</style>\n",
       "<table border=\"1\" class=\"dataframe\">\n",
       "  <thead>\n",
       "    <tr style=\"text-align: right;\">\n",
       "      <th></th>\n",
       "      <th>DE</th>\n",
       "      <th>FE</th>\n",
       "      <th>Fault</th>\n",
       "    </tr>\n",
       "  </thead>\n",
       "  <tbody>\n",
       "    <tr>\n",
       "      <th>121079</th>\n",
       "      <td>0.046313</td>\n",
       "      <td>0.054651</td>\n",
       "      <td>0</td>\n",
       "    </tr>\n",
       "    <tr>\n",
       "      <th>107924</th>\n",
       "      <td>-0.015855</td>\n",
       "      <td>0.061636</td>\n",
       "      <td>0</td>\n",
       "    </tr>\n",
       "    <tr>\n",
       "      <th>22678</th>\n",
       "      <td>-0.065297</td>\n",
       "      <td>0.122862</td>\n",
       "      <td>0</td>\n",
       "    </tr>\n",
       "    <tr>\n",
       "      <th>55190</th>\n",
       "      <td>-0.112652</td>\n",
       "      <td>0.066978</td>\n",
       "      <td>0</td>\n",
       "    </tr>\n",
       "    <tr>\n",
       "      <th>92048</th>\n",
       "      <td>0.023991</td>\n",
       "      <td>0.034105</td>\n",
       "      <td>0</td>\n",
       "    </tr>\n",
       "    <tr>\n",
       "      <th>...</th>\n",
       "      <td>...</td>\n",
       "      <td>...</td>\n",
       "      <td>...</td>\n",
       "    </tr>\n",
       "    <tr>\n",
       "      <th>103358</th>\n",
       "      <td>0.019330</td>\n",
       "      <td>0.088962</td>\n",
       "      <td>1</td>\n",
       "    </tr>\n",
       "    <tr>\n",
       "      <th>54412</th>\n",
       "      <td>-0.072284</td>\n",
       "      <td>0.288664</td>\n",
       "      <td>1</td>\n",
       "    </tr>\n",
       "    <tr>\n",
       "      <th>50632</th>\n",
       "      <td>0.259571</td>\n",
       "      <td>-0.293184</td>\n",
       "      <td>1</td>\n",
       "    </tr>\n",
       "    <tr>\n",
       "      <th>89251</th>\n",
       "      <td>0.010883</td>\n",
       "      <td>-0.042324</td>\n",
       "      <td>1</td>\n",
       "    </tr>\n",
       "    <tr>\n",
       "      <th>65637</th>\n",
       "      <td>0.018030</td>\n",
       "      <td>-0.144845</td>\n",
       "      <td>1</td>\n",
       "    </tr>\n",
       "  </tbody>\n",
       "</table>\n",
       "<p>48462 rows × 3 columns</p>\n",
       "</div>"
      ],
      "text/plain": [
       "              DE        FE  Fault\n",
       "121079  0.046313  0.054651      0\n",
       "107924 -0.015855  0.061636      0\n",
       "22678  -0.065297  0.122862      0\n",
       "55190  -0.112652  0.066978      0\n",
       "92048   0.023991  0.034105      0\n",
       "...          ...       ...    ...\n",
       "103358  0.019330  0.088962      1\n",
       "54412  -0.072284  0.288664      1\n",
       "50632   0.259571 -0.293184      1\n",
       "89251   0.010883 -0.042324      1\n",
       "65637   0.018030 -0.144845      1\n",
       "\n",
       "[48462 rows x 3 columns]"
      ]
     },
     "execution_count": 5,
     "metadata": {},
     "output_type": "execute_result"
    }
   ],
   "source": [
    "test = X_test.append(y_test)\n",
    "test"
   ]
  },
  {
   "cell_type": "code",
   "execution_count": 6,
   "metadata": {},
   "outputs": [],
   "source": [
    "from sklearn.preprocessing import MinMaxScaler\n",
    "scaler = MinMaxScaler()\n",
    "train = pd.DataFrame(scaler.fit_transform(train))\n",
    "# Random shuffle training data\n",
    "train.sample(frac=1)\n",
    "\n",
    "test = pd.DataFrame(scaler.transform(test))"
   ]
  },
  {
   "cell_type": "code",
   "execution_count": 7,
   "metadata": {},
   "outputs": [],
   "source": [
    "from sklearn.decomposition import PCA\n",
    "pca = PCA(n_components=2, svd_solver= 'full')\n",
    "\n",
    "train_PCA = pca.fit_transform(train)\n",
    "train_PCA = pd.DataFrame(train_PCA)\n",
    "train_PCA.index = train.index\n",
    "\n",
    "test_PCA = pca.transform(test)\n",
    "test_PCA = pd.DataFrame(test_PCA)\n",
    "test_PCA.index = test.index"
   ]
  },
  {
   "cell_type": "code",
   "execution_count": 8,
   "metadata": {},
   "outputs": [],
   "source": [
    "def cov_matrix(data, verbose=False):\n",
    "    covariance_matrix = np.cov(data, rowvar=False)\n",
    "    if is_pos_def(covariance_matrix):\n",
    "        inv_covariance_matrix = np.linalg.inv(covariance_matrix)\n",
    "        if is_pos_def(inv_covariance_matrix):\n",
    "            return covariance_matrix, inv_covariance_matrix\n",
    "        else:\n",
    "            print(\"Error: Inverse of Covariance Matrix is not positive definite!\")\n",
    "    else:\n",
    "        print(\"Error: Covariance Matrix is not positive definite!\")"
   ]
  },
  {
   "cell_type": "code",
   "execution_count": 9,
   "metadata": {},
   "outputs": [],
   "source": [
    "def MahalanobisDist(inv_cov_matrix, mean_distr, data, verbose=False):\n",
    "    inv_covariance_matrix = inv_cov_matrix\n",
    "    vars_mean = mean_distr\n",
    "    diff = data - vars_mean\n",
    "    md = []\n",
    "    for i in range(len(diff)):\n",
    "        md.append(np.sqrt(diff[i].dot(inv_covariance_matrix).dot(diff[i])))\n",
    "    return md"
   ]
  },
  {
   "cell_type": "code",
   "execution_count": 10,
   "metadata": {},
   "outputs": [],
   "source": [
    "def MD_detectOutliers(dist, extreme=False, verbose=False):\n",
    "    k = 3. if extreme else 2.\n",
    "    threshold = np.mean(dist) * k\n",
    "    outliers = []\n",
    "    for i in range(len(dist)):\n",
    "        if dist[i] >= threshold:\n",
    "            outliers.append(i)  # index of the outlier\n",
    "    return np.array(outliers)"
   ]
  },
  {
   "cell_type": "code",
   "execution_count": 11,
   "metadata": {},
   "outputs": [],
   "source": [
    "def MD_threshold(dist, extreme=False, verbose=False):\n",
    "    k = 3. if extreme else 2.\n",
    "    threshold = np.mean(dist) * k\n",
    "    return threshold"
   ]
  },
  {
   "cell_type": "code",
   "execution_count": 12,
   "metadata": {},
   "outputs": [],
   "source": [
    "def is_pos_def(A):\n",
    "    if np.allclose(A, A.T):\n",
    "        try:\n",
    "            np.linalg.cholesky(A)\n",
    "            return True\n",
    "        except np.linalg.LinAlgError:\n",
    "            return False\n",
    "    else:\n",
    "        return False"
   ]
  },
  {
   "cell_type": "code",
   "execution_count": 13,
   "metadata": {},
   "outputs": [],
   "source": [
    "data_train = np.array(train_PCA.values)\n",
    "data_test = np.array(test_PCA.values)"
   ]
  },
  {
   "cell_type": "code",
   "execution_count": 14,
   "metadata": {},
   "outputs": [],
   "source": [
    "cov_matrix, inv_cov_matrix  = cov_matrix(data_train)"
   ]
  },
  {
   "cell_type": "code",
   "execution_count": 15,
   "metadata": {},
   "outputs": [],
   "source": [
    "mean_distr = data_train.mean(axis=0)"
   ]
  },
  {
   "cell_type": "code",
   "execution_count": 16,
   "metadata": {},
   "outputs": [],
   "source": [
    "dist_test = MahalanobisDist(inv_cov_matrix, mean_distr, data_test, verbose=False)\n",
    "dist_train = MahalanobisDist(inv_cov_matrix, mean_distr, data_train, verbose=False)\n",
    "threshold = MD_threshold(dist_train, extreme = True)"
   ]
  },
  {
   "cell_type": "code",
   "execution_count": 17,
   "metadata": {},
   "outputs": [
    {
     "data": {
      "text/plain": [
       "(0.0, 15.0)"
      ]
     },
     "execution_count": 17,
     "metadata": {},
     "output_type": "execute_result"
    },
    {
     "data": {
      "image/png": "[encoded data removed]",
      "text/plain": [
       "<Figure size 432x288 with 1 Axes>"
      ]
     },
     "metadata": {
      "needs_background": "light"
     },
     "output_type": "display_data"
    }
   ],
   "source": [
    "import matplotlib.pyplot as plt\n",
    "import seaborn as sns\n",
    "\n",
    "plt.figure()\n",
    "sns.distplot(np.square(dist_train),\n",
    "             bins = 50, \n",
    "             kde= False);\n",
    "plt.xlim([0.0,15])"
   ]
  },
  {
   "cell_type": "code",
   "execution_count": 18,
   "metadata": {},
   "outputs": [
    {
     "data": {
      "text/plain": [
       "Text(0.5, 0, 'Mahalanobis dist')"
      ]
     },
     "execution_count": 18,
     "metadata": {},
     "output_type": "execute_result"
    },
    {
     "data": {
      "image/png": "[encoded data removed]",
      "text/plain": [
       "<Figure size 432x288 with 1 Axes>"
      ]
     },
     "metadata": {
      "needs_background": "light"
     },
     "output_type": "display_data"
    }
   ],
   "source": [
    "plt.figure()\n",
    "sns.distplot(dist_train,\n",
    "             bins = 10, \n",
    "             kde= True, \n",
    "            color = 'green');\n",
    "plt.xlim([0.0,5])\n",
    "plt.xlabel('Mahalanobis dist')"
   ]
  },
  {
   "cell_type": "code",
   "execution_count": 19,
   "metadata": {},
   "outputs": [],
   "source": [
    "anomaly_train = pd.DataFrame()\n",
    "anomaly_train['Mob_dist']= dist_train\n",
    "anomaly_train['Thresh'] = threshold\n",
    "# If Mob dist above threshold: Flag as anomaly\n",
    "anomaly_train['Anomaly'] = anomaly_train['Mob_dist'] > anomaly_train['Thresh']\n",
    "anomaly_train.index = train_PCA.index"
   ]
  },
  {
   "cell_type": "code",
   "execution_count": 20,
   "metadata": {},
   "outputs": [
    {
     "name": "stdout",
     "output_type": "stream",
     "text": [
      "        Mob_dist    Thresh  Anomaly\n",
      "96957   5.215875  3.944094     True\n",
      "97034   3.991707  3.944094     True\n",
      "97047   4.279628  3.944094     True\n",
      "97141   3.964335  3.944094     True\n",
      "97193   4.381062  3.944094     True\n",
      "...          ...       ...      ...\n",
      "192982  4.845895  3.944094     True\n",
      "193077  5.327633  3.944094     True\n",
      "193311  4.164236  3.944094     True\n",
      "193550  3.957741  3.944094     True\n",
      "193674  3.944423  3.944094     True\n",
      "\n",
      "[831 rows x 3 columns]\n",
      "(831, 3)\n"
     ]
    }
   ],
   "source": [
    "anomalies = anomaly_train[anomaly_train['Anomaly'] == True]\n",
    "print(anomalies)\n",
    "print(anomalies.shape)"
   ]
  },
  {
   "cell_type": "code",
   "execution_count": 21,
   "metadata": {},
   "outputs": [
    {
     "data": {
      "image/png": "[encoded data removed]",
      "text/plain": [
       "<Figure size 1152x288 with 1 Axes>"
      ]
     },
     "metadata": {
      "needs_background": "light"
     },
     "output_type": "display_data"
    }
   ],
   "source": [
    "f, (ax1) = plt.subplots(figsize=(16, 4))\n",
    "ax1.plot(anomaly_train.index, anomaly_train.Mob_dist, label='Mob dist');\n",
    "ax1.plot(anomaly_train.index, anomaly_train.Thresh, label='Threshold')\n",
    "g = sns.scatterplot(x=anomalies.index , y=anomalies.Mob_dist, label='anomaly', color='red')\n",
    "g.set(xlim = (0, len(anomaly_train.index)))\n",
    "plt.title('Anomalies')\n",
    "plt.xlabel('Data points')\n",
    "plt.legend();"
   ]
  },
  {
   "cell_type": "code",
   "execution_count": 22,
   "metadata": {},
   "outputs": [
    {
     "data": {
      "text/html": [
       "<div>\n",
       "<style scoped>\n",
       "    .dataframe tbody tr th:only-of-type {\n",
       "        vertical-align: middle;\n",
       "    }\n",
       "\n",
       "    .dataframe tbody tr th {\n",
       "        vertical-align: top;\n",
       "    }\n",
       "\n",
       "    .dataframe thead th {\n",
       "        text-align: right;\n",
       "    }\n",
       "</style>\n",
       "<table border=\"1\" class=\"dataframe\">\n",
       "  <thead>\n",
       "    <tr style=\"text-align: right;\">\n",
       "      <th></th>\n",
       "      <th>Mob_dist</th>\n",
       "      <th>Thresh</th>\n",
       "      <th>Anomaly</th>\n",
       "    </tr>\n",
       "  </thead>\n",
       "  <tbody>\n",
       "    <tr>\n",
       "      <th>0</th>\n",
       "      <td>1.010620</td>\n",
       "      <td>3.944094</td>\n",
       "      <td>False</td>\n",
       "    </tr>\n",
       "    <tr>\n",
       "      <th>1</th>\n",
       "      <td>1.011146</td>\n",
       "      <td>3.944094</td>\n",
       "      <td>False</td>\n",
       "    </tr>\n",
       "    <tr>\n",
       "      <th>2</th>\n",
       "      <td>1.106349</td>\n",
       "      <td>3.944094</td>\n",
       "      <td>False</td>\n",
       "    </tr>\n",
       "    <tr>\n",
       "      <th>3</th>\n",
       "      <td>1.007561</td>\n",
       "      <td>3.944094</td>\n",
       "      <td>False</td>\n",
       "    </tr>\n",
       "    <tr>\n",
       "      <th>4</th>\n",
       "      <td>1.000128</td>\n",
       "      <td>3.944094</td>\n",
       "      <td>False</td>\n",
       "    </tr>\n",
       "  </tbody>\n",
       "</table>\n",
       "</div>"
      ],
      "text/plain": [
       "   Mob_dist    Thresh  Anomaly\n",
       "0  1.010620  3.944094    False\n",
       "1  1.011146  3.944094    False\n",
       "2  1.106349  3.944094    False\n",
       "3  1.007561  3.944094    False\n",
       "4  1.000128  3.944094    False"
      ]
     },
     "execution_count": 22,
     "metadata": {},
     "output_type": "execute_result"
    }
   ],
   "source": [
    "anomaly_test = pd.DataFrame()\n",
    "anomaly_test['Mob_dist']= dist_test\n",
    "anomaly_test['Thresh'] = threshold\n",
    "# If Mob dist above threshold: Flag as anomaly\n",
    "anomaly_test['Anomaly'] = anomaly_test['Mob_dist'] > anomaly_test['Thresh']\n",
    "anomaly_test.index = test_PCA.index\n",
    "anomaly_test.head()"
   ]
  },
  {
   "cell_type": "code",
   "execution_count": 23,
   "metadata": {},
   "outputs": [
    {
     "name": "stdout",
     "output_type": "stream",
     "text": [
      "       Mob_dist    Thresh  Anomaly\n",
      "24347  4.237695  3.944094     True\n",
      "24373  4.291474  3.944094     True\n",
      "24459  4.087248  3.944094     True\n",
      "24556  5.416504  3.944094     True\n",
      "24728  5.379107  3.944094     True\n",
      "...         ...       ...      ...\n",
      "47967  4.772308  3.944094     True\n",
      "47985  3.977437  3.944094     True\n",
      "48158  4.454767  3.944094     True\n",
      "48339  5.188019  3.944094     True\n",
      "48416  4.229309  3.944094     True\n",
      "\n",
      "[225 rows x 3 columns]\n",
      "(225, 3)\n"
     ]
    }
   ],
   "source": [
    "IR_anomalies = anomaly_test[anomaly_test['Anomaly'] == True]\n",
    "print(IR_anomalies)\n",
    "print(IR_anomalies.shape)"
   ]
  },
  {
   "cell_type": "code",
   "execution_count": 24,
   "metadata": {},
   "outputs": [
    {
     "data": {
      "image/png": "[encoded data removed]",
      "text/plain": [
       "<Figure size 1152x288 with 1 Axes>"
      ]
     },
     "metadata": {
      "needs_background": "light"
     },
     "output_type": "display_data"
    }
   ],
   "source": [
    "f, (ax2) = plt.subplots(figsize=(16, 4))\n",
    "ax2.plot(anomaly_test.index, anomaly_test.Mob_dist, label='Mob dist');\n",
    "ax2.plot(anomaly_test.index, anomaly_test.Thresh, label='Threshold')\n",
    "g = sns.scatterplot(x=IR_anomalies.index , y=IR_anomalies.Mob_dist, label='anomaly', color='red')\n",
    "g.set(xlim = (0, len(anomaly_test.index)))\n",
    "plt.title('Anomalies')\n",
    "plt.xlabel('Data points')\n",
    "plt.legend();"
   ]
  },
  {
   "cell_type": "code",
   "execution_count": 25,
   "metadata": {},
   "outputs": [
    {
     "name": "stdout",
     "output_type": "stream",
     "text": [
      "Anomalies: 225\n"
     ]
    }
   ],
   "source": [
    "print(\"Anomalies: {}\".format(IR_anomalies['Anomaly'].count()))"
   ]
  },
  {
   "cell_type": "code",
   "execution_count": null,
   "metadata": {},
   "outputs": [],
   "source": []
  }
 ],
 "metadata": {
  "kernelspec": {
   "display_name": "Python 3",
   "language": "python",
   "name": "python3"
  },
  "language_info": {
   "codemirror_mode": {
    "name": "ipython",
    "version": 3
   },
   "file_extension": ".py",
   "mimetype": "text/x-python",
   "name": "python",
   "nbconvert_exporter": "python",
   "pygments_lexer": "ipython3",
   "version": "3.7.4"
  }
 },
 "nbformat": 4,
 "nbformat_minor": 4
}
