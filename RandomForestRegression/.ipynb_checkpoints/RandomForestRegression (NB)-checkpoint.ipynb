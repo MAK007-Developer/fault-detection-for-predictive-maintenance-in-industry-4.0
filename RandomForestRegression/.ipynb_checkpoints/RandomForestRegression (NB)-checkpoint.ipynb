{
 "cells": [
  {
   "cell_type": "code",
   "execution_count": 1,
   "metadata": {},
   "outputs": [],
   "source": [
    "#importing packages\n",
    "import pandas as pd\n",
    "import numpy as np"
   ]
  },
  {
   "cell_type": "code",
   "execution_count": 2,
   "metadata": {},
   "outputs": [],
   "source": [
    "A = pd.read_csv('../NB.csv')"
   ]
  },
  {
   "cell_type": "code",
   "execution_count": 3,
   "metadata": {},
   "outputs": [
    {
     "data": {
      "text/html": [
       "<div>\n",
       "<style scoped>\n",
       "    .dataframe tbody tr th:only-of-type {\n",
       "        vertical-align: middle;\n",
       "    }\n",
       "\n",
       "    .dataframe tbody tr th {\n",
       "        vertical-align: top;\n",
       "    }\n",
       "\n",
       "    .dataframe thead th {\n",
       "        text-align: right;\n",
       "    }\n",
       "</style>\n",
       "<table border=\"1\" class=\"dataframe\">\n",
       "  <thead>\n",
       "    <tr style=\"text-align: right;\">\n",
       "      <th></th>\n",
       "      <th>DE</th>\n",
       "      <th>FE</th>\n",
       "    </tr>\n",
       "  </thead>\n",
       "  <tbody>\n",
       "    <tr>\n",
       "      <th>0</th>\n",
       "      <td>0.064254</td>\n",
       "      <td>0.038625</td>\n",
       "    </tr>\n",
       "    <tr>\n",
       "      <th>1</th>\n",
       "      <td>0.063002</td>\n",
       "      <td>0.096769</td>\n",
       "    </tr>\n",
       "    <tr>\n",
       "      <th>2</th>\n",
       "      <td>-0.004381</td>\n",
       "      <td>0.127382</td>\n",
       "    </tr>\n",
       "    <tr>\n",
       "      <th>3</th>\n",
       "      <td>-0.035882</td>\n",
       "      <td>0.144640</td>\n",
       "    </tr>\n",
       "    <tr>\n",
       "      <th>4</th>\n",
       "      <td>-0.023991</td>\n",
       "      <td>0.086702</td>\n",
       "    </tr>\n",
       "    <tr>\n",
       "      <th>...</th>\n",
       "      <td>...</td>\n",
       "      <td>...</td>\n",
       "    </tr>\n",
       "    <tr>\n",
       "      <th>485058</th>\n",
       "      <td>0.023991</td>\n",
       "      <td>-0.046022</td>\n",
       "    </tr>\n",
       "    <tr>\n",
       "      <th>485059</th>\n",
       "      <td>0.034004</td>\n",
       "      <td>-0.027736</td>\n",
       "    </tr>\n",
       "    <tr>\n",
       "      <th>485060</th>\n",
       "      <td>0.005215</td>\n",
       "      <td>0.031640</td>\n",
       "    </tr>\n",
       "    <tr>\n",
       "      <th>485061</th>\n",
       "      <td>-0.065714</td>\n",
       "      <td>0.113000</td>\n",
       "    </tr>\n",
       "    <tr>\n",
       "      <th>485062</th>\n",
       "      <td>-0.122666</td>\n",
       "      <td>0.162925</td>\n",
       "    </tr>\n",
       "  </tbody>\n",
       "</table>\n",
       "<p>485063 rows × 2 columns</p>\n",
       "</div>"
      ],
      "text/plain": [
       "              DE        FE\n",
       "0       0.064254  0.038625\n",
       "1       0.063002  0.096769\n",
       "2      -0.004381  0.127382\n",
       "3      -0.035882  0.144640\n",
       "4      -0.023991  0.086702\n",
       "...          ...       ...\n",
       "485058  0.023991 -0.046022\n",
       "485059  0.034004 -0.027736\n",
       "485060  0.005215  0.031640\n",
       "485061 -0.065714  0.113000\n",
       "485062 -0.122666  0.162925\n",
       "\n",
       "[485063 rows x 2 columns]"
      ]
     },
     "execution_count": 3,
     "metadata": {},
     "output_type": "execute_result"
    }
   ],
   "source": [
    "#Dataset\n",
    "A"
   ]
  },
  {
   "cell_type": "code",
   "execution_count": 4,
   "metadata": {},
   "outputs": [
    {
     "data": {
      "text/plain": [
       "array([[0.03862546],\n",
       "       [0.09676909],\n",
       "       [0.12738182],\n",
       "       ...,\n",
       "       [0.03164   ],\n",
       "       [0.113     ],\n",
       "       [0.16292545]])"
      ]
     },
     "execution_count": 4,
     "metadata": {},
     "output_type": "execute_result"
    }
   ],
   "source": [
    "A.iloc[:, 1:2].values"
   ]
  },
  {
   "cell_type": "code",
   "execution_count": 5,
   "metadata": {},
   "outputs": [],
   "source": [
    "X=A.iloc[:, 0:1].values\n",
    "y=A.iloc[:, 1:2].values\n",
    "from sklearn.model_selection import train_test_split\n",
    "\n",
    "X_train, X_test, y_train, y_test = train_test_split(X, y, test_size=0.2, random_state=0)"
   ]
  },
  {
   "cell_type": "code",
   "execution_count": 6,
   "metadata": {},
   "outputs": [],
   "source": [
    "from sklearn.preprocessing import StandardScaler\n",
    "\n",
    "sc = StandardScaler()\n",
    "X_train = sc.fit_transform(X_train)\n",
    "X_test = sc.transform(X_test)"
   ]
  },
  {
   "cell_type": "code",
   "execution_count": 7,
   "metadata": {
    "scrolled": true
   },
   "outputs": [
    {
     "name": "stderr",
     "output_type": "stream",
     "text": [
      "C:\\Users\\leste\\Anaconda3\\lib\\site-packages\\ipykernel_launcher.py:4: DataConversionWarning: A column-vector y was passed when a 1d array was expected. Please change the shape of y to (n_samples,), for example using ravel().\n",
      "  after removing the cwd from sys.path.\n"
     ]
    }
   ],
   "source": [
    "from sklearn.ensemble import RandomForestRegressor\n",
    "\n",
    "regressor = RandomForestRegressor(n_estimators=50, random_state=0)\n",
    "regressor.fit(X_train, y_train)\n",
    "y_pred = regressor.predict(X_test)"
   ]
  },
  {
   "cell_type": "code",
   "execution_count": 8,
   "metadata": {},
   "outputs": [
    {
     "name": "stdout",
     "output_type": "stream",
     "text": [
      "Mean Absolute Error: 0.05082424156116401\n",
      "Mean Squared Error: 0.00402765815526394\n",
      "Root Mean Squared Error: 0.06346383344286681\n",
      "Accuracy: 0.04929898562607149\n"
     ]
    }
   ],
   "source": [
    "from sklearn import metrics\n",
    "\n",
    "M1 = metrics.mean_absolute_error(y_test, y_pred);\n",
    "M2 = metrics.mean_squared_error(y_test, y_pred);\n",
    "M3 = np.sqrt(metrics.mean_squared_error(y_test, y_pred));\n",
    "M4 = regressor.score(X_test, y_test);\n",
    "\n",
    "print('Mean Absolute Error:', M1)\n",
    "print('Mean Squared Error:', M2)\n",
    "print('Root Mean Squared Error:', M3)\n",
    "print('Accuracy:', M4)"
   ]
  },
  {
   "cell_type": "code",
   "execution_count": 9,
   "metadata": {},
   "outputs": [
    {
     "data": {
      "image/png": "[encoded data removed]",
      "text/plain": [
       "<Figure size 432x288 with 1 Axes>"
      ]
     },
     "metadata": {
      "needs_background": "light"
     },
     "output_type": "display_data"
    }
   ],
   "source": [
    "%matplotlib inline\n",
    "import matplotlib.pyplot as plt\n",
    "\n",
    "metrics = ('Mean Absolute Error', 'Mean Squared Error', 'Root Mean Squared Error')\n",
    "values = (M1, M2, M3)\n",
    "\n",
    "plt.title('Normal Baseline')\n",
    "plt.axis([0, 2, 0, 0.5])\n",
    "plt.bar(metrics, values, align='center', width=0.5)\n",
    "plt.autoscale(enable=True, axis='x', tight=True)\n",
    "plt.show()"
   ]
  },
  {
   "cell_type": "code",
   "execution_count": 10,
   "metadata": {},
   "outputs": [
    {
     "data": {
      "image/png": "[encoded data removed]",
      "text/plain": [
       "<Figure size 432x288 with 1 Axes>"
      ]
     },
     "metadata": {
      "needs_background": "light"
     },
     "output_type": "display_data"
    }
   ],
   "source": [
    "from matplotlib import pyplot as plt\n",
    "from matplotlib import style\n",
    "from numpy import genfromtxt\n",
    "\n",
    "plt.title('Normal Baseline')\n",
    "plt.xlabel('Time')\n",
    "plt.ylabel('Amplitude')\n",
    "plt.axis([0, 10000, -5, 5])\n",
    "plt.plot(A, 'red')\n",
    "plt.show()"
   ]
  },
  {
   "cell_type": "code",
   "execution_count": 11,
   "metadata": {},
   "outputs": [
    {
     "data": {
      "image/png": "[encoded data removed]",
      "text/plain": [
       "<Figure size 432x288 with 1 Axes>"
      ]
     },
     "metadata": {
      "needs_background": "light"
     },
     "output_type": "display_data"
    }
   ],
   "source": [
    "%matplotlib inline\n",
    "import matplotlib.pyplot as plt\n",
    "\n",
    "plt.title('Normal Baseline')\n",
    "plt.scatter(y_test,y_pred)\n",
    "plt.plot([y_pred.min(),y_pred.max()],[y_pred.min(),y_pred.max()],\"k--\",lw=2,color=\"red\")\n",
    "plt.show()"
   ]
  },
  {
   "cell_type": "code",
   "execution_count": null,
   "metadata": {},
   "outputs": [
    {
     "name": "stderr",
     "output_type": "stream",
     "text": [
      "C:\\Users\\leste\\Anaconda3\\lib\\site-packages\\ipykernel_launcher.py:8: DataConversionWarning: A column-vector y was passed when a 1d array was expected. Please change the shape of y to (n_samples,), for example using ravel().\n",
      "  \n"
     ]
    }
   ],
   "source": [
    "%matplotlib inline\n",
    "import matplotlib.pyplot as plt\n",
    "\n",
    "estimators = np.arange(10, 200, 10)\n",
    "scores = []\n",
    "for n in estimators:\n",
    "    regressor.set_params(n_estimators=n)\n",
    "    regressor.fit(X_train, y_train)\n",
    "    scores.append(regressor.score(X_test, y_test))\n",
    "plt.title(\"Normal Baseline\")\n",
    "plt.xlabel(\"n_estimator\")\n",
    "plt.ylabel(\"score\")\n",
    "plt.plot(estimators, scores)"
   ]
  },
  {
   "cell_type": "code",
   "execution_count": null,
   "metadata": {},
   "outputs": [],
   "source": [
    "%matplotlib inline\n",
    "import matplotlib.pyplot as plt\n",
    "\n",
    "plt.title('Normal Baseline')\n",
    "plt.axis((0,200,-0.4,0.4))\n",
    "plt.plot(y_test)\n",
    "plt.plot(y_pred, 'red')\n"
   ]
  },
  {
   "cell_type": "code",
   "execution_count": null,
   "metadata": {},
   "outputs": [],
   "source": []
  }
 ],
 "metadata": {
  "kernelspec": {
   "display_name": "Python 3",
   "language": "python",
   "name": "python3"
  },
  "language_info": {
   "codemirror_mode": {
    "name": "ipython",
    "version": 3
   },
   "file_extension": ".py",
   "mimetype": "text/x-python",
   "name": "python",
   "nbconvert_exporter": "python",
   "pygments_lexer": "ipython3",
   "version": "3.7.4"
  }
 },
 "nbformat": 4,
 "nbformat_minor": 2
}
