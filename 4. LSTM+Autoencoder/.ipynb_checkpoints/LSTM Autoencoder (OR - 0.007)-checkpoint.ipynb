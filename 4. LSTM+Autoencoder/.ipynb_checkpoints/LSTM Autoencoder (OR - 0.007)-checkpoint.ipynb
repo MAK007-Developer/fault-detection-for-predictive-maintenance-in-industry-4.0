{
 "cells": [
  {
   "cell_type": "code",
   "execution_count": 1,
   "metadata": {},
   "outputs": [],
   "source": [
    "#importing packages\n",
    "import pandas as pd\n",
    "import numpy as np"
   ]
  },
  {
   "cell_type": "code",
   "execution_count": 2,
   "metadata": {},
   "outputs": [],
   "source": [
    "# Importing the dataset\n",
    "X = pd.read_csv('../Datasets/NB.csv')\n",
    "X['Fault'] = 0\n",
    "\n",
    "y = pd.read_csv('../Datasets/OR - 7.csv')\n",
    "y['Fault'] = 1"
   ]
  },
  {
   "cell_type": "code",
   "execution_count": 3,
   "metadata": {},
   "outputs": [],
   "source": [
    "from sklearn.model_selection import train_test_split\n",
    "X_train, X_test = train_test_split(X, test_size = 0.2, random_state = 0)\n",
    "\n",
    "y_train, y_test = train_test_split(y, test_size = 0.2, random_state = 0)"
   ]
  },
  {
   "cell_type": "code",
   "execution_count": 4,
   "metadata": {},
   "outputs": [
    {
     "data": {
      "text/html": [
       "<div>\n",
       "<style scoped>\n",
       "    .dataframe tbody tr th:only-of-type {\n",
       "        vertical-align: middle;\n",
       "    }\n",
       "\n",
       "    .dataframe tbody tr th {\n",
       "        vertical-align: top;\n",
       "    }\n",
       "\n",
       "    .dataframe thead th {\n",
       "        text-align: right;\n",
       "    }\n",
       "</style>\n",
       "<table border=\"1\" class=\"dataframe\">\n",
       "  <thead>\n",
       "    <tr style=\"text-align: right;\">\n",
       "      <th></th>\n",
       "      <th>DE</th>\n",
       "      <th>FE</th>\n",
       "      <th>Fault</th>\n",
       "    </tr>\n",
       "  </thead>\n",
       "  <tbody>\n",
       "    <tr>\n",
       "      <th>103476</th>\n",
       "      <td>0.062585</td>\n",
       "      <td>0.041091</td>\n",
       "      <td>0</td>\n",
       "    </tr>\n",
       "    <tr>\n",
       "      <th>96984</th>\n",
       "      <td>-0.075102</td>\n",
       "      <td>-0.013765</td>\n",
       "      <td>0</td>\n",
       "    </tr>\n",
       "    <tr>\n",
       "      <th>114732</th>\n",
       "      <td>-0.048190</td>\n",
       "      <td>-0.001233</td>\n",
       "      <td>0</td>\n",
       "    </tr>\n",
       "    <tr>\n",
       "      <th>10916</th>\n",
       "      <td>0.069260</td>\n",
       "      <td>0.028558</td>\n",
       "      <td>0</td>\n",
       "    </tr>\n",
       "    <tr>\n",
       "      <th>37646</th>\n",
       "      <td>0.040054</td>\n",
       "      <td>0.065335</td>\n",
       "      <td>0</td>\n",
       "    </tr>\n",
       "    <tr>\n",
       "      <th>...</th>\n",
       "      <td>...</td>\n",
       "      <td>...</td>\n",
       "      <td>...</td>\n",
       "    </tr>\n",
       "    <tr>\n",
       "      <th>45891</th>\n",
       "      <td>-0.289947</td>\n",
       "      <td>0.012122</td>\n",
       "      <td>1</td>\n",
       "    </tr>\n",
       "    <tr>\n",
       "      <th>117952</th>\n",
       "      <td>0.007716</td>\n",
       "      <td>-0.063485</td>\n",
       "      <td>1</td>\n",
       "    </tr>\n",
       "    <tr>\n",
       "      <th>42613</th>\n",
       "      <td>0.190049</td>\n",
       "      <td>0.368175</td>\n",
       "      <td>1</td>\n",
       "    </tr>\n",
       "    <tr>\n",
       "      <th>43567</th>\n",
       "      <td>0.285074</td>\n",
       "      <td>0.216755</td>\n",
       "      <td>1</td>\n",
       "    </tr>\n",
       "    <tr>\n",
       "      <th>68268</th>\n",
       "      <td>0.080405</td>\n",
       "      <td>0.324002</td>\n",
       "      <td>1</td>\n",
       "    </tr>\n",
       "  </tbody>\n",
       "</table>\n",
       "<p>193848 rows × 3 columns</p>\n",
       "</div>"
      ],
      "text/plain": [
       "              DE        FE  Fault\n",
       "103476  0.062585  0.041091      0\n",
       "96984  -0.075102 -0.013765      0\n",
       "114732 -0.048190 -0.001233      0\n",
       "10916   0.069260  0.028558      0\n",
       "37646   0.040054  0.065335      0\n",
       "...          ...       ...    ...\n",
       "45891  -0.289947  0.012122      1\n",
       "117952  0.007716 -0.063485      1\n",
       "42613   0.190049  0.368175      1\n",
       "43567   0.285074  0.216755      1\n",
       "68268   0.080405  0.324002      1\n",
       "\n",
       "[193848 rows x 3 columns]"
      ]
     },
     "execution_count": 4,
     "metadata": {},
     "output_type": "execute_result"
    }
   ],
   "source": [
    "train = X_train.append(y_train)\n",
    "train"
   ]
  },
  {
   "cell_type": "code",
   "execution_count": 5,
   "metadata": {},
   "outputs": [
    {
     "data": {
      "text/html": [
       "<div>\n",
       "<style scoped>\n",
       "    .dataframe tbody tr th:only-of-type {\n",
       "        vertical-align: middle;\n",
       "    }\n",
       "\n",
       "    .dataframe tbody tr th {\n",
       "        vertical-align: top;\n",
       "    }\n",
       "\n",
       "    .dataframe thead th {\n",
       "        text-align: right;\n",
       "    }\n",
       "</style>\n",
       "<table border=\"1\" class=\"dataframe\">\n",
       "  <thead>\n",
       "    <tr style=\"text-align: right;\">\n",
       "      <th></th>\n",
       "      <th>DE</th>\n",
       "      <th>FE</th>\n",
       "      <th>Fault</th>\n",
       "    </tr>\n",
       "  </thead>\n",
       "  <tbody>\n",
       "    <tr>\n",
       "      <th>121079</th>\n",
       "      <td>0.046313</td>\n",
       "      <td>0.054651</td>\n",
       "      <td>0</td>\n",
       "    </tr>\n",
       "    <tr>\n",
       "      <th>107924</th>\n",
       "      <td>-0.015855</td>\n",
       "      <td>0.061636</td>\n",
       "      <td>0</td>\n",
       "    </tr>\n",
       "    <tr>\n",
       "      <th>22678</th>\n",
       "      <td>-0.065297</td>\n",
       "      <td>0.122862</td>\n",
       "      <td>0</td>\n",
       "    </tr>\n",
       "    <tr>\n",
       "      <th>55190</th>\n",
       "      <td>-0.112652</td>\n",
       "      <td>0.066978</td>\n",
       "      <td>0</td>\n",
       "    </tr>\n",
       "    <tr>\n",
       "      <th>92048</th>\n",
       "      <td>0.023991</td>\n",
       "      <td>0.034105</td>\n",
       "      <td>0</td>\n",
       "    </tr>\n",
       "    <tr>\n",
       "      <th>...</th>\n",
       "      <td>...</td>\n",
       "      <td>...</td>\n",
       "      <td>...</td>\n",
       "    </tr>\n",
       "    <tr>\n",
       "      <th>103358</th>\n",
       "      <td>-0.544564</td>\n",
       "      <td>-0.450356</td>\n",
       "      <td>1</td>\n",
       "    </tr>\n",
       "    <tr>\n",
       "      <th>54412</th>\n",
       "      <td>1.083036</td>\n",
       "      <td>-0.001233</td>\n",
       "      <td>1</td>\n",
       "    </tr>\n",
       "    <tr>\n",
       "      <th>50632</th>\n",
       "      <td>-1.123239</td>\n",
       "      <td>-0.382145</td>\n",
       "      <td>1</td>\n",
       "    </tr>\n",
       "    <tr>\n",
       "      <th>89251</th>\n",
       "      <td>-0.068629</td>\n",
       "      <td>0.092660</td>\n",
       "      <td>1</td>\n",
       "    </tr>\n",
       "    <tr>\n",
       "      <th>65637</th>\n",
       "      <td>0.142943</td>\n",
       "      <td>-0.066362</td>\n",
       "      <td>1</td>\n",
       "    </tr>\n",
       "  </tbody>\n",
       "</table>\n",
       "<p>48462 rows × 3 columns</p>\n",
       "</div>"
      ],
      "text/plain": [
       "              DE        FE  Fault\n",
       "121079  0.046313  0.054651      0\n",
       "107924 -0.015855  0.061636      0\n",
       "22678  -0.065297  0.122862      0\n",
       "55190  -0.112652  0.066978      0\n",
       "92048   0.023991  0.034105      0\n",
       "...          ...       ...    ...\n",
       "103358 -0.544564 -0.450356      1\n",
       "54412   1.083036 -0.001233      1\n",
       "50632  -1.123239 -0.382145      1\n",
       "89251  -0.068629  0.092660      1\n",
       "65637   0.142943 -0.066362      1\n",
       "\n",
       "[48462 rows x 3 columns]"
      ]
     },
     "execution_count": 5,
     "metadata": {},
     "output_type": "execute_result"
    }
   ],
   "source": [
    "test = X_test.append(y_test)\n",
    "test"
   ]
  },
  {
   "cell_type": "code",
   "execution_count": 6,
   "metadata": {},
   "outputs": [],
   "source": [
    "from sklearn.preprocessing import MinMaxScaler\n",
    "scaler = MinMaxScaler()\n",
    "train = pd.DataFrame(scaler.fit_transform(train))\n",
    "train.sample(frac=1)\n",
    "\n",
    "test = pd.DataFrame(scaler.transform(test))"
   ]
  },
  {
   "cell_type": "code",
   "execution_count": 7,
   "metadata": {},
   "outputs": [],
   "source": [
    "train = train.values.reshape(-1, 1, 3)\n",
    "\n",
    "test  = test.values.reshape(-1, 1, 3)"
   ]
  },
  {
   "cell_type": "code",
   "execution_count": 8,
   "metadata": {},
   "outputs": [
    {
     "name": "stderr",
     "output_type": "stream",
     "text": [
      "Using TensorFlow backend.\n"
     ]
    }
   ],
   "source": [
    "from keras.layers import Input, Dropout, Dense, LSTM, RepeatVector, TimeDistributed\n",
    "from keras.models import Model, Sequential, load_model\n",
    "from keras import regularizers"
   ]
  },
  {
   "cell_type": "code",
   "execution_count": 9,
   "metadata": {},
   "outputs": [
    {
     "name": "stdout",
     "output_type": "stream",
     "text": [
      "Model: \"sequential_1\"\n",
      "_________________________________________________________________\n",
      "Layer (type)                 Output Shape              Param #   \n",
      "=================================================================\n",
      "lstm_1 (LSTM)                (None, 32)                4608      \n",
      "_________________________________________________________________\n",
      "dropout_1 (Dropout)          (None, 32)                0         \n",
      "_________________________________________________________________\n",
      "repeat_vector_1 (RepeatVecto (None, 1, 32)             0         \n",
      "_________________________________________________________________\n",
      "lstm_2 (LSTM)                (None, 1, 32)             8320      \n",
      "_________________________________________________________________\n",
      "dropout_2 (Dropout)          (None, 1, 32)             0         \n",
      "_________________________________________________________________\n",
      "time_distributed_1 (TimeDist (None, 1, 3)              99        \n",
      "=================================================================\n",
      "Total params: 13,027\n",
      "Trainable params: 13,027\n",
      "Non-trainable params: 0\n",
      "_________________________________________________________________\n"
     ]
    }
   ],
   "source": [
    "# Input layer:\n",
    "model=Sequential([\n",
    "    LSTM(32, activation='relu', input_shape=(train.shape[1],train.shape[2])),\n",
    "    Dropout(0.2),\n",
    "    RepeatVector(train.shape[1]),\n",
    "    LSTM(32, activation='relu', return_sequences=True),\n",
    "    Dropout(0.2),\n",
    "    TimeDistributed(Dense(train.shape[2]))\n",
    "])\n",
    "\n",
    "model.compile(loss='mse',optimizer='adam', metrics=['accuracy'])\n",
    "model.summary()"
   ]
  },
  {
   "cell_type": "code",
   "execution_count": 10,
   "metadata": {
    "scrolled": true
   },
   "outputs": [
    {
     "name": "stdout",
     "output_type": "stream",
     "text": [
      "Train on 174463 samples, validate on 19385 samples\n",
      "Epoch 1/100\n",
      "174463/174463 [==============================] - 6s 32us/step - loss: 0.1066 - accuracy: 0.6500 - val_loss: 0.0063 - val_accuracy: 1.0000\n",
      "Epoch 2/100\n",
      "174463/174463 [==============================] - 4s 21us/step - loss: 0.0126 - accuracy: 0.8174 - val_loss: 0.0061 - val_accuracy: 1.0000\n",
      "Epoch 3/100\n",
      "174463/174463 [==============================] - 4s 20us/step - loss: 0.0108 - accuracy: 0.8213 - val_loss: 0.0058 - val_accuracy: 1.0000\n",
      "Epoch 4/100\n",
      "174463/174463 [==============================] - 4s 21us/step - loss: 0.0098 - accuracy: 0.8385 - val_loss: 0.0058 - val_accuracy: 1.0000\n",
      "Epoch 5/100\n",
      "174463/174463 [==============================] - 4s 20us/step - loss: 0.0090 - accuracy: 0.8531 - val_loss: 0.0055 - val_accuracy: 1.0000\n",
      "Epoch 6/100\n",
      "174463/174463 [==============================] - 4s 22us/step - loss: 0.0082 - accuracy: 0.8645 - val_loss: 0.0053 - val_accuracy: 1.0000\n",
      "Epoch 7/100\n",
      "174463/174463 [==============================] - 4s 22us/step - loss: 0.0076 - accuracy: 0.8715 - val_loss: 0.0049 - val_accuracy: 1.0000\n",
      "Epoch 8/100\n",
      "174463/174463 [==============================] - 4s 22us/step - loss: 0.0069 - accuracy: 0.8758 - val_loss: 0.0044 - val_accuracy: 1.0000\n",
      "Epoch 9/100\n",
      "174463/174463 [==============================] - 4s 21us/step - loss: 0.0062 - accuracy: 0.8780 - val_loss: 0.0034 - val_accuracy: 1.0000\n",
      "Epoch 10/100\n",
      "174463/174463 [==============================] - 4s 21us/step - loss: 0.0055 - accuracy: 0.8790 - val_loss: 0.0028 - val_accuracy: 1.0000\n",
      "Epoch 11/100\n",
      "174463/174463 [==============================] - 4s 21us/step - loss: 0.0050 - accuracy: 0.8800 - val_loss: 0.0027 - val_accuracy: 1.0000\n",
      "Epoch 12/100\n",
      "174463/174463 [==============================] - 4s 20us/step - loss: 0.0047 - accuracy: 0.8802 - val_loss: 0.0025 - val_accuracy: 1.0000\n",
      "Epoch 13/100\n",
      "174463/174463 [==============================] - 4s 21us/step - loss: 0.0045 - accuracy: 0.8810 - val_loss: 0.0024 - val_accuracy: 1.0000\n",
      "Epoch 14/100\n",
      "174463/174463 [==============================] - 4s 23us/step - loss: 0.0043 - accuracy: 0.8815 - val_loss: 0.0022 - val_accuracy: 1.0000\n",
      "Epoch 15/100\n",
      "174463/174463 [==============================] - 4s 22us/step - loss: 0.0040 - accuracy: 0.8822 - val_loss: 0.0020 - val_accuracy: 1.0000\n",
      "Epoch 16/100\n",
      "174463/174463 [==============================] - 5s 26us/step - loss: 0.0038 - accuracy: 0.8831 - val_loss: 0.0017 - val_accuracy: 1.0000\n",
      "Epoch 17/100\n",
      "174463/174463 [==============================] - 4s 23us/step - loss: 0.0036 - accuracy: 0.8834 - val_loss: 0.0014 - val_accuracy: 1.0000\n",
      "Epoch 18/100\n",
      "174463/174463 [==============================] - 5s 27us/step - loss: 0.0034 - accuracy: 0.8840 - val_loss: 0.0013 - val_accuracy: 1.0000\n",
      "Epoch 19/100\n",
      "174463/174463 [==============================] - 5s 27us/step - loss: 0.0032 - accuracy: 0.8847 - val_loss: 0.0010 - val_accuracy: 1.0000\n",
      "Epoch 20/100\n",
      "174463/174463 [==============================] - 4s 24us/step - loss: 0.0031 - accuracy: 0.8858 - val_loss: 9.1649e-04 - val_accuracy: 1.0000\n",
      "Epoch 21/100\n",
      "174463/174463 [==============================] - 4s 26us/step - loss: 0.0030 - accuracy: 0.8855 - val_loss: 8.2090e-04 - val_accuracy: 1.0000\n",
      "Epoch 22/100\n",
      "174463/174463 [==============================] - 5s 29us/step - loss: 0.0029 - accuracy: 0.8858 - val_loss: 7.3976e-04 - val_accuracy: 1.0000\n",
      "Epoch 23/100\n",
      "174463/174463 [==============================] - 5s 27us/step - loss: 0.0028 - accuracy: 0.8862 - val_loss: 7.1221e-04 - val_accuracy: 1.0000\n",
      "Epoch 24/100\n",
      "174463/174463 [==============================] - 5s 26us/step - loss: 0.0028 - accuracy: 0.8877 - val_loss: 6.6619e-04 - val_accuracy: 1.0000\n",
      "Epoch 25/100\n",
      "174463/174463 [==============================] - 4s 25us/step - loss: 0.0027 - accuracy: 0.8899 - val_loss: 5.6399e-04 - val_accuracy: 1.0000\n",
      "Epoch 26/100\n",
      "174463/174463 [==============================] - 5s 27us/step - loss: 0.0027 - accuracy: 0.8926 - val_loss: 5.7004e-04 - val_accuracy: 1.0000\n",
      "Epoch 27/100\n",
      "174463/174463 [==============================] - 5s 27us/step - loss: 0.0026 - accuracy: 0.8958 - val_loss: 4.8981e-04 - val_accuracy: 1.0000\n",
      "Epoch 28/100\n",
      "174463/174463 [==============================] - 4s 24us/step - loss: 0.0026 - accuracy: 0.8999 - val_loss: 4.8691e-04 - val_accuracy: 1.0000\n",
      "Epoch 29/100\n",
      "174463/174463 [==============================] - 5s 29us/step - loss: 0.0026 - accuracy: 0.9037 - val_loss: 4.8657e-04 - val_accuracy: 1.0000\n",
      "Epoch 30/100\n",
      "174463/174463 [==============================] - 5s 27us/step - loss: 0.0026 - accuracy: 0.9079 - val_loss: 4.1605e-04 - val_accuracy: 1.0000\n",
      "Epoch 31/100\n",
      "174463/174463 [==============================] - 4s 25us/step - loss: 0.0025 - accuracy: 0.9132 - val_loss: 4.1785e-04 - val_accuracy: 1.0000\n",
      "Epoch 32/100\n",
      "174463/174463 [==============================] - 5s 29us/step - loss: 0.0025 - accuracy: 0.9155 - val_loss: 4.1899e-04 - val_accuracy: 1.0000\n",
      "Epoch 33/100\n",
      "  5000/174463 [..............................] - ETA: 10s - loss: 0.0026 - accuracy: 0.9238"
     ]
    },
    {
     "name": "stderr",
     "output_type": "stream",
     "text": [
      "C:\\Users\\leste\\Anaconda3\\lib\\site-packages\\keras\\callbacks\\callbacks.py:95: RuntimeWarning: Method (on_train_batch_end) is slow compared to the batch update (0.114693). Check your callbacks.\n",
      "  % (hook_name, delta_t_median), RuntimeWarning)\n"
     ]
    },
    {
     "name": "stdout",
     "output_type": "stream",
     "text": [
      "174463/174463 [==============================] - 5s 27us/step - loss: 0.0025 - accuracy: 0.9188 - val_loss: 3.9922e-04 - val_accuracy: 1.0000\n",
      "Epoch 34/100\n",
      "174463/174463 [==============================] - 5s 27us/step - loss: 0.0025 - accuracy: 0.9207 - val_loss: 4.6539e-04 - val_accuracy: 1.0000\n",
      "Epoch 35/100\n",
      "174463/174463 [==============================] - 5s 28us/step - loss: 0.0024 - accuracy: 0.9223 - val_loss: 3.9490e-04 - val_accuracy: 1.0000\n",
      "Epoch 36/100\n",
      "174463/174463 [==============================] - 5s 26us/step - loss: 0.0024 - accuracy: 0.9244 - val_loss: 4.1241e-04 - val_accuracy: 1.0000\n",
      "Epoch 37/100\n",
      "174463/174463 [==============================] - 4s 25us/step - loss: 0.0024 - accuracy: 0.9245 - val_loss: 3.8327e-04 - val_accuracy: 1.0000\n",
      "Epoch 38/100\n",
      "174463/174463 [==============================] - 4s 26us/step - loss: 0.0024 - accuracy: 0.9267 - val_loss: 3.9629e-04 - val_accuracy: 1.0000\n",
      "Epoch 39/100\n",
      "174463/174463 [==============================] - 5s 27us/step - loss: 0.0024 - accuracy: 0.9274 - val_loss: 3.6070e-04 - val_accuracy: 1.0000\n",
      "Epoch 40/100\n",
      "174463/174463 [==============================] - 4s 24us/step - loss: 0.0024 - accuracy: 0.9281 - val_loss: 3.4910e-04 - val_accuracy: 1.0000\n",
      "Epoch 41/100\n",
      "174463/174463 [==============================] - 5s 26us/step - loss: 0.0024 - accuracy: 0.9282 - val_loss: 3.6281e-04 - val_accuracy: 1.0000\n",
      "Epoch 42/100\n",
      "174463/174463 [==============================] - 5s 28us/step - loss: 0.0024 - accuracy: 0.9288 - val_loss: 4.1216e-04 - val_accuracy: 1.0000\n",
      "Epoch 43/100\n",
      "174463/174463 [==============================] - 5s 26us/step - loss: 0.0024 - accuracy: 0.9281 - val_loss: 3.5136e-04 - val_accuracy: 1.0000\n",
      "Epoch 44/100\n",
      "174463/174463 [==============================] - 4s 26us/step - loss: 0.0024 - accuracy: 0.9295 - val_loss: 3.9840e-04 - val_accuracy: 1.0000\n",
      "Epoch 45/100\n",
      "174463/174463 [==============================] - 5s 26us/step - loss: 0.0024 - accuracy: 0.9289 - val_loss: 3.6076e-04 - val_accuracy: 1.0000\n",
      "Epoch 46/100\n",
      "174463/174463 [==============================] - 5s 26us/step - loss: 0.0024 - accuracy: 0.9268 - val_loss: 3.3687e-04 - val_accuracy: 1.0000\n",
      "Epoch 47/100\n",
      "174463/174463 [==============================] - 5s 27us/step - loss: 0.0023 - accuracy: 0.9273 - val_loss: 3.6441e-04 - val_accuracy: 1.0000\n",
      "Epoch 48/100\n",
      "174463/174463 [==============================] - 4s 26us/step - loss: 0.0024 - accuracy: 0.9274 - val_loss: 3.2648e-04 - val_accuracy: 1.0000\n",
      "Epoch 49/100\n",
      "174463/174463 [==============================] - 4s 26us/step - loss: 0.0024 - accuracy: 0.9289 - val_loss: 3.3460e-04 - val_accuracy: 1.0000\n",
      "Epoch 50/100\n",
      "174463/174463 [==============================] - 4s 26us/step - loss: 0.0024 - accuracy: 0.9290 - val_loss: 3.4225e-04 - val_accuracy: 1.0000\n",
      "Epoch 51/100\n",
      "174463/174463 [==============================] - 5s 27us/step - loss: 0.0023 - accuracy: 0.9285 - val_loss: 3.1994e-04 - val_accuracy: 1.0000\n",
      "Epoch 52/100\n",
      "174463/174463 [==============================] - 5s 27us/step - loss: 0.0024 - accuracy: 0.9291 - val_loss: 3.9561e-04 - val_accuracy: 1.0000\n",
      "Epoch 53/100\n",
      "174463/174463 [==============================] - 5s 28us/step - loss: 0.0023 - accuracy: 0.9303 - val_loss: 3.3490e-04 - val_accuracy: 1.0000\n",
      "Epoch 54/100\n",
      "174463/174463 [==============================] - 5s 28us/step - loss: 0.0023 - accuracy: 0.9303 - val_loss: 3.6989e-04 - val_accuracy: 1.0000\n",
      "Epoch 55/100\n",
      "174463/174463 [==============================] - 5s 26us/step - loss: 0.0023 - accuracy: 0.9303 - val_loss: 3.2772e-04 - val_accuracy: 1.0000\n",
      "Epoch 56/100\n",
      "174463/174463 [==============================] - 5s 26us/step - loss: 0.0023 - accuracy: 0.9309 - val_loss: 2.9430e-04 - val_accuracy: 1.0000\n",
      "Epoch 57/100\n",
      "174463/174463 [==============================] - 5s 26us/step - loss: 0.0023 - accuracy: 0.9308 - val_loss: 3.1294e-04 - val_accuracy: 1.0000\n",
      "Epoch 58/100\n",
      "174463/174463 [==============================] - 4s 25us/step - loss: 0.0023 - accuracy: 0.9314 - val_loss: 2.8032e-04 - val_accuracy: 1.0000\n",
      "Epoch 59/100\n",
      "174463/174463 [==============================] - 4s 24us/step - loss: 0.0023 - accuracy: 0.9318 - val_loss: 3.5859e-04 - val_accuracy: 1.0000\n",
      "Epoch 60/100\n",
      "174463/174463 [==============================] - 4s 26us/step - loss: 0.0023 - accuracy: 0.9317 - val_loss: 2.8605e-04 - val_accuracy: 1.0000\n",
      "Epoch 61/100\n",
      "174463/174463 [==============================] - 5s 28us/step - loss: 0.0023 - accuracy: 0.9316 - val_loss: 3.0878e-04 - val_accuracy: 1.0000\n",
      "Epoch 62/100\n",
      "174463/174463 [==============================] - 4s 26us/step - loss: 0.0023 - accuracy: 0.9321 - val_loss: 3.6182e-04 - val_accuracy: 1.0000\n",
      "Epoch 63/100\n",
      "174463/174463 [==============================] - 5s 26us/step - loss: 0.0023 - accuracy: 0.9342 - val_loss: 2.6383e-04 - val_accuracy: 1.0000\n",
      "Epoch 64/100\n",
      "174463/174463 [==============================] - 5s 28us/step - loss: 0.0023 - accuracy: 0.9343 - val_loss: 2.5968e-04 - val_accuracy: 1.0000\n",
      "Epoch 65/100\n",
      "174463/174463 [==============================] - 5s 26us/step - loss: 0.0023 - accuracy: 0.9355 - val_loss: 3.5750e-04 - val_accuracy: 1.0000\n",
      "Epoch 66/100\n",
      "174463/174463 [==============================] - 5s 28us/step - loss: 0.0023 - accuracy: 0.9358 - val_loss: 2.7255e-04 - val_accuracy: 1.0000\n",
      "Epoch 67/100\n",
      "174463/174463 [==============================] - 4s 26us/step - loss: 0.0022 - accuracy: 0.9355 - val_loss: 3.3266e-04 - val_accuracy: 1.0000\n",
      "Epoch 68/100\n",
      "174463/174463 [==============================] - 5s 27us/step - loss: 0.0022 - accuracy: 0.9363 - val_loss: 3.0035e-04 - val_accuracy: 1.0000\n",
      "Epoch 69/100\n",
      "174463/174463 [==============================] - 5s 27us/step - loss: 0.0023 - accuracy: 0.9365 - val_loss: 2.8335e-04 - val_accuracy: 1.0000\n",
      "Epoch 70/100\n",
      "174463/174463 [==============================] - 5s 28us/step - loss: 0.0023 - accuracy: 0.9355 - val_loss: 2.4414e-04 - val_accuracy: 1.0000\n",
      "Epoch 71/100\n",
      "174463/174463 [==============================] - 5s 26us/step - loss: 0.0023 - accuracy: 0.9358 - val_loss: 2.5909e-04 - val_accuracy: 1.0000\n",
      "Epoch 72/100\n",
      "174463/174463 [==============================] - 4s 23us/step - loss: 0.0022 - accuracy: 0.9355 - val_loss: 2.5644e-04 - val_accuracy: 1.0000\n",
      "Epoch 73/100\n",
      "174463/174463 [==============================] - 4s 25us/step - loss: 0.0022 - accuracy: 0.9359 - val_loss: 2.8905e-04 - val_accuracy: 1.0000\n",
      "Epoch 74/100\n",
      "174463/174463 [==============================] - 4s 25us/step - loss: 0.0022 - accuracy: 0.9358 - val_loss: 3.4819e-04 - val_accuracy: 1.0000\n",
      "Epoch 75/100\n",
      "174463/174463 [==============================] - 4s 24us/step - loss: 0.0022 - accuracy: 0.9352 - val_loss: 2.4966e-04 - val_accuracy: 1.0000\n",
      "Epoch 76/100\n",
      "174463/174463 [==============================] - 5s 26us/step - loss: 0.0022 - accuracy: 0.9361 - val_loss: 2.6649e-04 - val_accuracy: 1.0000\n",
      "Epoch 77/100\n",
      "174463/174463 [==============================] - 5s 26us/step - loss: 0.0022 - accuracy: 0.9352 - val_loss: 2.5978e-04 - val_accuracy: 1.0000\n",
      "Epoch 78/100\n",
      "174463/174463 [==============================] - 5s 26us/step - loss: 0.0022 - accuracy: 0.9358 - val_loss: 2.5219e-04 - val_accuracy: 1.0000\n",
      "Epoch 79/100\n",
      "174463/174463 [==============================] - 4s 25us/step - loss: 0.0022 - accuracy: 0.9357 - val_loss: 2.5185e-04 - val_accuracy: 1.0000\n",
      "Epoch 80/100\n",
      "174463/174463 [==============================] - 4s 25us/step - loss: 0.0022 - accuracy: 0.9355 - val_loss: 2.6030e-04 - val_accuracy: 1.0000\n",
      "Epoch 81/100\n",
      "174463/174463 [==============================] - 5s 27us/step - loss: 0.0022 - accuracy: 0.9350 - val_loss: 2.5924e-04 - val_accuracy: 1.0000\n",
      "Epoch 82/100\n",
      "174463/174463 [==============================] - 5s 26us/step - loss: 0.0022 - accuracy: 0.9356 - val_loss: 2.6608e-04 - val_accuracy: 1.0000\n",
      "Epoch 83/100\n",
      "174463/174463 [==============================] - 5s 27us/step - loss: 0.0022 - accuracy: 0.9347 - val_loss: 2.5238e-04 - val_accuracy: 1.0000\n",
      "Epoch 84/100\n",
      "174463/174463 [==============================] - 4s 26us/step - loss: 0.0022 - accuracy: 0.9349 - val_loss: 3.1137e-04 - val_accuracy: 1.0000\n",
      "Epoch 85/100\n",
      "174463/174463 [==============================] - 5s 27us/step - loss: 0.0022 - accuracy: 0.9348 - val_loss: 2.5411e-04 - val_accuracy: 1.0000\n"
     ]
    },
    {
     "name": "stdout",
     "output_type": "stream",
     "text": [
      "Epoch 86/100\n",
      "174463/174463 [==============================] - 4s 25us/step - loss: 0.0022 - accuracy: 0.9344 - val_loss: 2.4141e-04 - val_accuracy: 1.0000\n",
      "Epoch 87/100\n",
      "174463/174463 [==============================] - 5s 28us/step - loss: 0.0022 - accuracy: 0.9340 - val_loss: 2.2994e-04 - val_accuracy: 1.0000\n",
      "Epoch 88/100\n",
      "174463/174463 [==============================] - 4s 25us/step - loss: 0.0022 - accuracy: 0.9345 - val_loss: 2.4845e-04 - val_accuracy: 1.0000\n",
      "Epoch 89/100\n",
      "174463/174463 [==============================] - 5s 28us/step - loss: 0.0022 - accuracy: 0.9345 - val_loss: 2.2751e-04 - val_accuracy: 1.0000\n",
      "Epoch 90/100\n",
      "174463/174463 [==============================] - 4s 26us/step - loss: 0.0022 - accuracy: 0.9354 - val_loss: 2.9469e-04 - val_accuracy: 1.0000\n",
      "Epoch 91/100\n",
      "174463/174463 [==============================] - 4s 25us/step - loss: 0.0022 - accuracy: 0.9349 - val_loss: 2.7113e-04 - val_accuracy: 1.0000\n",
      "Epoch 92/100\n",
      "174463/174463 [==============================] - 5s 27us/step - loss: 0.0022 - accuracy: 0.9351 - val_loss: 2.8551e-04 - val_accuracy: 1.0000\n",
      "Epoch 93/100\n",
      "174463/174463 [==============================] - 4s 26us/step - loss: 0.0022 - accuracy: 0.9345 - val_loss: 2.2840e-04 - val_accuracy: 1.0000\n",
      "Epoch 94/100\n",
      "174463/174463 [==============================] - 5s 27us/step - loss: 0.0022 - accuracy: 0.9351 - val_loss: 2.5923e-04 - val_accuracy: 1.0000\n",
      "Epoch 95/100\n",
      "174463/174463 [==============================] - 4s 25us/step - loss: 0.0022 - accuracy: 0.9348 - val_loss: 2.2564e-04 - val_accuracy: 1.0000\n",
      "Epoch 96/100\n",
      "174463/174463 [==============================] - 4s 26us/step - loss: 0.0022 - accuracy: 0.9352 - val_loss: 2.3616e-04 - val_accuracy: 1.0000\n",
      "Epoch 97/100\n",
      "174463/174463 [==============================] - 5s 27us/step - loss: 0.0022 - accuracy: 0.9347 - val_loss: 2.3218e-04 - val_accuracy: 1.0000\n",
      "Epoch 98/100\n",
      "174463/174463 [==============================] - 4s 25us/step - loss: 0.0022 - accuracy: 0.9345 - val_loss: 2.6023e-04 - val_accuracy: 1.0000\n",
      "Epoch 99/100\n",
      "174463/174463 [==============================] - 4s 25us/step - loss: 0.0022 - accuracy: 0.9340 - val_loss: 2.1398e-04 - val_accuracy: 1.0000\n",
      "Epoch 100/100\n",
      "174463/174463 [==============================] - 4s 21us/step - loss: 0.0022 - accuracy: 0.9336 - val_loss: 2.7067e-04 - val_accuracy: 1.0000\n"
     ]
    }
   ],
   "source": [
    "# Train model for 100 epochs, batch size of 1000: \n",
    "NUM_EPOCHS=100\n",
    "BATCH_SIZE=1000\n",
    "\n",
    "history=model.fit(train,train, \n",
    "                  batch_size=BATCH_SIZE, \n",
    "                  epochs=NUM_EPOCHS,\n",
    "                  validation_split=0.1,\n",
    "                  shuffle=True)"
   ]
  },
  {
   "cell_type": "code",
   "execution_count": 11,
   "metadata": {},
   "outputs": [
    {
     "data": {
      "image/png": "[encoded data removed]",
      "text/plain": [
       "<Figure size 432x288 with 1 Axes>"
      ]
     },
     "metadata": {
      "needs_background": "light"
     },
     "output_type": "display_data"
    }
   ],
   "source": [
    "import matplotlib.pyplot as plt\n",
    "\n",
    "plt.plot(history.history['loss'], label='Training loss')\n",
    "plt.plot(history.history['val_loss'], label='Validation loss')\n",
    "plt.legend(loc='upper right')\n",
    "plt.xlabel('Epochs')\n",
    "plt.ylabel('Loss, [mse]')\n",
    "plt.show()"
   ]
  },
  {
   "cell_type": "code",
   "execution_count": 12,
   "metadata": {},
   "outputs": [],
   "source": [
    "pred_train = model.predict(train)"
   ]
  },
  {
   "cell_type": "code",
   "execution_count": 13,
   "metadata": {},
   "outputs": [],
   "source": [
    "pred_train = pred_train.reshape(pred_train.shape[0],pred_train.shape[2])\n",
    "train = train.reshape(train.shape[0],train.shape[2])"
   ]
  },
  {
   "cell_type": "code",
   "execution_count": 14,
   "metadata": {},
   "outputs": [
    {
     "data": {
      "image/png": "[encoded data removed]",
      "text/plain": [
       "<Figure size 432x288 with 1 Axes>"
      ]
     },
     "metadata": {
      "needs_background": "light"
     },
     "output_type": "display_data"
    }
   ],
   "source": [
    "import seaborn as sns\n",
    "\n",
    "scored = np.mean(np.abs(pred_train-train), axis = 1)\n",
    "plt.figure()\n",
    "g = sns.distplot(scored, bins = 50, kde= True, color = 'blue');\n",
    "plt.title('Loss Distribution')\n",
    "plt.xlabel('Loss (MAE)')\n",
    "plt.show()"
   ]
  },
  {
   "cell_type": "code",
   "execution_count": 15,
   "metadata": {},
   "outputs": [],
   "source": [
    "TH = 0.04\n",
    "pred_train = pd.DataFrame(pred_train)\n",
    "scored_train = pd.DataFrame()\n",
    "scored_train['Loss_mae'] = np.mean(np.abs(pred_train-train), axis = 1)\n",
    "scored_train['Threshold'] = TH\n",
    "scored_train['Anomaly'] = scored_train['Loss_mae'] > scored_train['Threshold']"
   ]
  },
  {
   "cell_type": "code",
   "execution_count": 16,
   "metadata": {},
   "outputs": [
    {
     "data": {
      "text/plain": [
       "0.009406401868828868"
      ]
     },
     "execution_count": 16,
     "metadata": {},
     "output_type": "execute_result"
    }
   ],
   "source": [
    "scored_train['Loss_mae'].mean()"
   ]
  },
  {
   "cell_type": "code",
   "execution_count": 17,
   "metadata": {},
   "outputs": [
    {
     "data": {
      "text/plain": [
       "Text(0, 0.5, 'Loss (MAE)')"
      ]
     },
     "execution_count": 17,
     "metadata": {},
     "output_type": "execute_result"
    },
    {
     "data": {
      "image/png": "[encoded data removed]",
      "text/plain": [
       "<Figure size 1152x288 with 1 Axes>"
      ]
     },
     "metadata": {
      "needs_background": "light"
     },
     "output_type": "display_data"
    }
   ],
   "source": [
    "scored_train.plot(logy=True,  figsize = (16,4), xlim =[0,len(scored_train)])\n",
    "plt.xlabel('Data points')\n",
    "plt.ylabel('Loss (MAE)')"
   ]
  },
  {
   "cell_type": "code",
   "execution_count": 18,
   "metadata": {},
   "outputs": [
    {
     "data": {
      "text/html": [
       "<div>\n",
       "<style scoped>\n",
       "    .dataframe tbody tr th:only-of-type {\n",
       "        vertical-align: middle;\n",
       "    }\n",
       "\n",
       "    .dataframe tbody tr th {\n",
       "        vertical-align: top;\n",
       "    }\n",
       "\n",
       "    .dataframe thead th {\n",
       "        text-align: right;\n",
       "    }\n",
       "</style>\n",
       "<table border=\"1\" class=\"dataframe\">\n",
       "  <thead>\n",
       "    <tr style=\"text-align: right;\">\n",
       "      <th></th>\n",
       "      <th>Loss_mae</th>\n",
       "      <th>Threshold</th>\n",
       "      <th>Anomaly</th>\n",
       "    </tr>\n",
       "  </thead>\n",
       "  <tbody>\n",
       "    <tr>\n",
       "      <th>0</th>\n",
       "      <td>0.005581</td>\n",
       "      <td>0.04</td>\n",
       "      <td>False</td>\n",
       "    </tr>\n",
       "    <tr>\n",
       "      <th>1</th>\n",
       "      <td>0.007354</td>\n",
       "      <td>0.04</td>\n",
       "      <td>False</td>\n",
       "    </tr>\n",
       "    <tr>\n",
       "      <th>2</th>\n",
       "      <td>0.006208</td>\n",
       "      <td>0.04</td>\n",
       "      <td>False</td>\n",
       "    </tr>\n",
       "    <tr>\n",
       "      <th>3</th>\n",
       "      <td>0.008350</td>\n",
       "      <td>0.04</td>\n",
       "      <td>False</td>\n",
       "    </tr>\n",
       "    <tr>\n",
       "      <th>4</th>\n",
       "      <td>0.004766</td>\n",
       "      <td>0.04</td>\n",
       "      <td>False</td>\n",
       "    </tr>\n",
       "    <tr>\n",
       "      <th>...</th>\n",
       "      <td>...</td>\n",
       "      <td>...</td>\n",
       "      <td>...</td>\n",
       "    </tr>\n",
       "    <tr>\n",
       "      <th>193843</th>\n",
       "      <td>0.003729</td>\n",
       "      <td>0.04</td>\n",
       "      <td>False</td>\n",
       "    </tr>\n",
       "    <tr>\n",
       "      <th>193844</th>\n",
       "      <td>0.004973</td>\n",
       "      <td>0.04</td>\n",
       "      <td>False</td>\n",
       "    </tr>\n",
       "    <tr>\n",
       "      <th>193845</th>\n",
       "      <td>0.006255</td>\n",
       "      <td>0.04</td>\n",
       "      <td>False</td>\n",
       "    </tr>\n",
       "    <tr>\n",
       "      <th>193846</th>\n",
       "      <td>0.007979</td>\n",
       "      <td>0.04</td>\n",
       "      <td>False</td>\n",
       "    </tr>\n",
       "    <tr>\n",
       "      <th>193847</th>\n",
       "      <td>0.004737</td>\n",
       "      <td>0.04</td>\n",
       "      <td>False</td>\n",
       "    </tr>\n",
       "  </tbody>\n",
       "</table>\n",
       "<p>193848 rows × 3 columns</p>\n",
       "</div>"
      ],
      "text/plain": [
       "        Loss_mae  Threshold  Anomaly\n",
       "0       0.005581       0.04    False\n",
       "1       0.007354       0.04    False\n",
       "2       0.006208       0.04    False\n",
       "3       0.008350       0.04    False\n",
       "4       0.004766       0.04    False\n",
       "...          ...        ...      ...\n",
       "193843  0.003729       0.04    False\n",
       "193844  0.004973       0.04    False\n",
       "193845  0.006255       0.04    False\n",
       "193846  0.007979       0.04    False\n",
       "193847  0.004737       0.04    False\n",
       "\n",
       "[193848 rows x 3 columns]"
      ]
     },
     "execution_count": 18,
     "metadata": {},
     "output_type": "execute_result"
    }
   ],
   "source": [
    "scored_train"
   ]
  },
  {
   "cell_type": "code",
   "execution_count": 19,
   "metadata": {},
   "outputs": [
    {
     "name": "stdout",
     "output_type": "stream",
     "text": [
      "        Loss_mae  Threshold  Anomaly\n",
      "97036   0.052822       0.04     True\n",
      "97093   0.041050       0.04     True\n",
      "97109   0.052194       0.04     True\n",
      "97230   0.049979       0.04     True\n",
      "97348   0.056016       0.04     True\n",
      "...          ...        ...      ...\n",
      "193611  0.067951       0.04     True\n",
      "193615  0.051079       0.04     True\n",
      "193624  0.042116       0.04     True\n",
      "193645  0.044351       0.04     True\n",
      "193676  0.042095       0.04     True\n",
      "\n",
      "[2091 rows x 3 columns]\n",
      "(2091, 3)\n"
     ]
    }
   ],
   "source": [
    "anomalies = scored_train[scored_train['Anomaly'] == True]\n",
    "print(anomalies)\n",
    "print(anomalies.shape)"
   ]
  },
  {
   "cell_type": "code",
   "execution_count": 20,
   "metadata": {},
   "outputs": [
    {
     "data": {
      "image/png": "[encoded data removed]",
      "text/plain": [
       "<Figure size 1152x288 with 1 Axes>"
      ]
     },
     "metadata": {
      "needs_background": "light"
     },
     "output_type": "display_data"
    }
   ],
   "source": [
    "f, (ax1) = plt.subplots(figsize=(16, 4))\n",
    "ax1.plot(scored_train.index, scored_train.Loss_mae, label='Loss(MAE)');\n",
    "ax1.plot(scored_train.index, scored_train.Threshold, label='Threshold')\n",
    "g = sns.scatterplot(x=anomalies.index , y=anomalies.Loss_mae, label='anomaly', color='red')\n",
    "g.set(xlim = (0, len(scored_train.index)))\n",
    "plt.title('Anomalies')\n",
    "plt.xlabel('Data points')\n",
    "plt.ylabel('Loss (MAE)')\n",
    "plt.legend();"
   ]
  },
  {
   "cell_type": "code",
   "execution_count": 21,
   "metadata": {},
   "outputs": [],
   "source": [
    "pred_test = model.predict(test)"
   ]
  },
  {
   "cell_type": "code",
   "execution_count": 22,
   "metadata": {},
   "outputs": [
    {
     "name": "stdout",
     "output_type": "stream",
     "text": [
      "48462/48462 [==============================] - 3s 69us/step\n"
     ]
    },
    {
     "data": {
      "text/plain": [
       "[0.00018783060165717243, 0.9411910176277161]"
      ]
     },
     "execution_count": 22,
     "metadata": {},
     "output_type": "execute_result"
    }
   ],
   "source": [
    "score = model.evaluate(test,test)\n",
    "score"
   ]
  },
  {
   "cell_type": "code",
   "execution_count": 23,
   "metadata": {},
   "outputs": [],
   "source": [
    "pred_test = pred_test.reshape(pred_test.shape[0],pred_test.shape[2])\n",
    "test = test.reshape(test.shape[0],test.shape[2])"
   ]
  },
  {
   "cell_type": "code",
   "execution_count": 24,
   "metadata": {},
   "outputs": [
    {
     "data": {
      "image/png": "[encoded data removed]",
      "text/plain": [
       "<Figure size 432x288 with 1 Axes>"
      ]
     },
     "metadata": {
      "needs_background": "light"
     },
     "output_type": "display_data"
    }
   ],
   "source": [
    "import seaborn as sns\n",
    "\n",
    "scored_test = np.mean(np.abs(pred_test-test), axis = 1)\n",
    "plt.figure()\n",
    "g = sns.distplot(scored_test, bins = 10, kde= True);\n",
    "plt.title('Loss Distribution')\n",
    "plt.xlabel('Loss (MAE)')\n",
    "plt.show()"
   ]
  },
  {
   "cell_type": "code",
   "execution_count": 25,
   "metadata": {},
   "outputs": [
    {
     "data": {
      "text/html": [
       "<div>\n",
       "<style scoped>\n",
       "    .dataframe tbody tr th:only-of-type {\n",
       "        vertical-align: middle;\n",
       "    }\n",
       "\n",
       "    .dataframe tbody tr th {\n",
       "        vertical-align: top;\n",
       "    }\n",
       "\n",
       "    .dataframe thead th {\n",
       "        text-align: right;\n",
       "    }\n",
       "</style>\n",
       "<table border=\"1\" class=\"dataframe\">\n",
       "  <thead>\n",
       "    <tr style=\"text-align: right;\">\n",
       "      <th></th>\n",
       "      <th>Loss_mae</th>\n",
       "      <th>Threshold</th>\n",
       "      <th>Anomaly</th>\n",
       "    </tr>\n",
       "  </thead>\n",
       "  <tbody>\n",
       "    <tr>\n",
       "      <th>0</th>\n",
       "      <td>0.003780</td>\n",
       "      <td>0.04</td>\n",
       "      <td>False</td>\n",
       "    </tr>\n",
       "    <tr>\n",
       "      <th>1</th>\n",
       "      <td>0.005455</td>\n",
       "      <td>0.04</td>\n",
       "      <td>False</td>\n",
       "    </tr>\n",
       "    <tr>\n",
       "      <th>2</th>\n",
       "      <td>0.011636</td>\n",
       "      <td>0.04</td>\n",
       "      <td>False</td>\n",
       "    </tr>\n",
       "    <tr>\n",
       "      <th>3</th>\n",
       "      <td>0.011518</td>\n",
       "      <td>0.04</td>\n",
       "      <td>False</td>\n",
       "    </tr>\n",
       "    <tr>\n",
       "      <th>4</th>\n",
       "      <td>0.005705</td>\n",
       "      <td>0.04</td>\n",
       "      <td>False</td>\n",
       "    </tr>\n",
       "    <tr>\n",
       "      <th>...</th>\n",
       "      <td>...</td>\n",
       "      <td>...</td>\n",
       "      <td>...</td>\n",
       "    </tr>\n",
       "    <tr>\n",
       "      <th>48457</th>\n",
       "      <td>0.023998</td>\n",
       "      <td>0.04</td>\n",
       "      <td>False</td>\n",
       "    </tr>\n",
       "    <tr>\n",
       "      <th>48458</th>\n",
       "      <td>0.017362</td>\n",
       "      <td>0.04</td>\n",
       "      <td>False</td>\n",
       "    </tr>\n",
       "    <tr>\n",
       "      <th>48459</th>\n",
       "      <td>0.022373</td>\n",
       "      <td>0.04</td>\n",
       "      <td>False</td>\n",
       "    </tr>\n",
       "    <tr>\n",
       "      <th>48460</th>\n",
       "      <td>0.003116</td>\n",
       "      <td>0.04</td>\n",
       "      <td>False</td>\n",
       "    </tr>\n",
       "    <tr>\n",
       "      <th>48461</th>\n",
       "      <td>0.005426</td>\n",
       "      <td>0.04</td>\n",
       "      <td>False</td>\n",
       "    </tr>\n",
       "  </tbody>\n",
       "</table>\n",
       "<p>48462 rows × 3 columns</p>\n",
       "</div>"
      ],
      "text/plain": [
       "       Loss_mae  Threshold  Anomaly\n",
       "0      0.003780       0.04    False\n",
       "1      0.005455       0.04    False\n",
       "2      0.011636       0.04    False\n",
       "3      0.011518       0.04    False\n",
       "4      0.005705       0.04    False\n",
       "...         ...        ...      ...\n",
       "48457  0.023998       0.04    False\n",
       "48458  0.017362       0.04    False\n",
       "48459  0.022373       0.04    False\n",
       "48460  0.003116       0.04    False\n",
       "48461  0.005426       0.04    False\n",
       "\n",
       "[48462 rows x 3 columns]"
      ]
     },
     "execution_count": 25,
     "metadata": {},
     "output_type": "execute_result"
    }
   ],
   "source": [
    "scored_test = pd.DataFrame()\n",
    "scored_test['Loss_mae'] = np.mean(np.abs(pred_test-test), axis = 1)\n",
    "scored_test['Threshold'] = TH\n",
    "scored_test['Anomaly'] = scored_test['Loss_mae'] > scored_test['Threshold']\n",
    "\n",
    "scored_test"
   ]
  },
  {
   "cell_type": "code",
   "execution_count": 26,
   "metadata": {},
   "outputs": [
    {
     "data": {
      "text/plain": [
       "0.009393604905919875"
      ]
     },
     "execution_count": 26,
     "metadata": {},
     "output_type": "execute_result"
    }
   ],
   "source": [
    "scored_test['Loss_mae'].mean()"
   ]
  },
  {
   "cell_type": "code",
   "execution_count": 27,
   "metadata": {},
   "outputs": [
    {
     "data": {
      "text/plain": [
       "Text(0, 0.5, 'Loss (MAE)')"
      ]
     },
     "execution_count": 27,
     "metadata": {},
     "output_type": "execute_result"
    },
    {
     "data": {
      "image/png": "[encoded data removed]",
      "text/plain": [
       "<Figure size 1152x288 with 1 Axes>"
      ]
     },
     "metadata": {
      "needs_background": "light"
     },
     "output_type": "display_data"
    }
   ],
   "source": [
    "scored_test.plot(logy=True,  figsize = (16,4), xlim =[0,len(scored_test)])\n",
    "plt.xlabel('Data points')\n",
    "plt.ylabel('Loss (MAE)')"
   ]
  },
  {
   "cell_type": "code",
   "execution_count": 28,
   "metadata": {},
   "outputs": [
    {
     "name": "stdout",
     "output_type": "stream",
     "text": [
      "       Loss_mae  Threshold  Anomaly\n",
      "24292  0.042094       0.04     True\n",
      "24296  0.049653       0.04     True\n",
      "24310  0.041485       0.04     True\n",
      "24331  0.046487       0.04     True\n",
      "24364  0.050722       0.04     True\n",
      "...         ...        ...      ...\n",
      "47989  0.050085       0.04     True\n",
      "48112  0.049311       0.04     True\n",
      "48142  0.051140       0.04     True\n",
      "48217  0.045043       0.04     True\n",
      "48256  0.045273       0.04     True\n",
      "\n",
      "[521 rows x 3 columns]\n",
      "(521, 3)\n"
     ]
    }
   ],
   "source": [
    "OR_anomalies = scored_test[scored_test['Anomaly'] == True]\n",
    "print(OR_anomalies)\n",
    "print(OR_anomalies.shape)"
   ]
  },
  {
   "cell_type": "code",
   "execution_count": 29,
   "metadata": {},
   "outputs": [
    {
     "data": {
      "image/png": "[encoded data removed]",
      "text/plain": [
       "<Figure size 1296x432 with 1 Axes>"
      ]
     },
     "metadata": {
      "needs_background": "light"
     },
     "output_type": "display_data"
    }
   ],
   "source": [
    "f, (ax2) = plt.subplots(figsize=(18, 6))\n",
    "ax2.plot(scored_test.index, scored_test.Loss_mae, label='Loss(MAE)');\n",
    "ax2.plot(scored_test.index, scored_test.Threshold, label='Threshold')\n",
    "g = sns.scatterplot(x=OR_anomalies.index , y=OR_anomalies.Loss_mae, label='anomaly', color='red')\n",
    "g.set(xlim = (0, len(scored_test.index)))\n",
    "plt.title('Anomalies')\n",
    "plt.xlabel('Data points')\n",
    "plt.ylabel('Loss (MAE)')\n",
    "plt.legend();"
   ]
  },
  {
   "cell_type": "code",
   "execution_count": 30,
   "metadata": {},
   "outputs": [
    {
     "name": "stdout",
     "output_type": "stream",
     "text": [
      "0.9411910176277161\n"
     ]
    }
   ],
   "source": [
    "print(score[1])"
   ]
  },
  {
   "cell_type": "code",
   "execution_count": 31,
   "metadata": {},
   "outputs": [
    {
     "name": "stdout",
     "output_type": "stream",
     "text": [
      "Accuracy: 94.12%\n"
     ]
    }
   ],
   "source": [
    "print(\"Accuracy: {:.2f}%\".format(score[1]*100))"
   ]
  },
  {
   "cell_type": "code",
   "execution_count": 32,
   "metadata": {},
   "outputs": [
    {
     "name": "stdout",
     "output_type": "stream",
     "text": [
      "Anomalies: 521\n"
     ]
    }
   ],
   "source": [
    "print(\"Anomalies: {}\".format(OR_anomalies['Anomaly'].count()))"
   ]
  },
  {
   "cell_type": "code",
   "execution_count": 33,
   "metadata": {},
   "outputs": [],
   "source": [
    "# Seperating Normal and Faulty dataset\n",
    "x = scored_test['Anomaly'].count() / 2"
   ]
  },
  {
   "cell_type": "code",
   "execution_count": 34,
   "metadata": {},
   "outputs": [
    {
     "data": {
      "text/html": [
       "<div>\n",
       "<style scoped>\n",
       "    .dataframe tbody tr th:only-of-type {\n",
       "        vertical-align: middle;\n",
       "    }\n",
       "\n",
       "    .dataframe tbody tr th {\n",
       "        vertical-align: top;\n",
       "    }\n",
       "\n",
       "    .dataframe thead th {\n",
       "        text-align: right;\n",
       "    }\n",
       "</style>\n",
       "<table border=\"1\" class=\"dataframe\">\n",
       "  <thead>\n",
       "    <tr style=\"text-align: right;\">\n",
       "      <th></th>\n",
       "      <th>Loss_mae</th>\n",
       "      <th>Threshold</th>\n",
       "      <th>Anomaly</th>\n",
       "    </tr>\n",
       "  </thead>\n",
       "  <tbody>\n",
       "    <tr>\n",
       "      <th>0</th>\n",
       "      <td>0.003780</td>\n",
       "      <td>0.04</td>\n",
       "      <td>False</td>\n",
       "    </tr>\n",
       "    <tr>\n",
       "      <th>1</th>\n",
       "      <td>0.005455</td>\n",
       "      <td>0.04</td>\n",
       "      <td>False</td>\n",
       "    </tr>\n",
       "    <tr>\n",
       "      <th>2</th>\n",
       "      <td>0.011636</td>\n",
       "      <td>0.04</td>\n",
       "      <td>False</td>\n",
       "    </tr>\n",
       "    <tr>\n",
       "      <th>3</th>\n",
       "      <td>0.011518</td>\n",
       "      <td>0.04</td>\n",
       "      <td>False</td>\n",
       "    </tr>\n",
       "    <tr>\n",
       "      <th>4</th>\n",
       "      <td>0.005705</td>\n",
       "      <td>0.04</td>\n",
       "      <td>False</td>\n",
       "    </tr>\n",
       "    <tr>\n",
       "      <th>...</th>\n",
       "      <td>...</td>\n",
       "      <td>...</td>\n",
       "      <td>...</td>\n",
       "    </tr>\n",
       "    <tr>\n",
       "      <th>24226</th>\n",
       "      <td>0.011666</td>\n",
       "      <td>0.04</td>\n",
       "      <td>False</td>\n",
       "    </tr>\n",
       "    <tr>\n",
       "      <th>24227</th>\n",
       "      <td>0.009440</td>\n",
       "      <td>0.04</td>\n",
       "      <td>False</td>\n",
       "    </tr>\n",
       "    <tr>\n",
       "      <th>24228</th>\n",
       "      <td>0.005007</td>\n",
       "      <td>0.04</td>\n",
       "      <td>False</td>\n",
       "    </tr>\n",
       "    <tr>\n",
       "      <th>24229</th>\n",
       "      <td>0.010400</td>\n",
       "      <td>0.04</td>\n",
       "      <td>False</td>\n",
       "    </tr>\n",
       "    <tr>\n",
       "      <th>24230</th>\n",
       "      <td>0.006648</td>\n",
       "      <td>0.04</td>\n",
       "      <td>False</td>\n",
       "    </tr>\n",
       "  </tbody>\n",
       "</table>\n",
       "<p>24231 rows × 3 columns</p>\n",
       "</div>"
      ],
      "text/plain": [
       "       Loss_mae  Threshold  Anomaly\n",
       "0      0.003780       0.04    False\n",
       "1      0.005455       0.04    False\n",
       "2      0.011636       0.04    False\n",
       "3      0.011518       0.04    False\n",
       "4      0.005705       0.04    False\n",
       "...         ...        ...      ...\n",
       "24226  0.011666       0.04    False\n",
       "24227  0.009440       0.04    False\n",
       "24228  0.005007       0.04    False\n",
       "24229  0.010400       0.04    False\n",
       "24230  0.006648       0.04    False\n",
       "\n",
       "[24231 rows x 3 columns]"
      ]
     },
     "execution_count": 34,
     "metadata": {},
     "output_type": "execute_result"
    }
   ],
   "source": [
    "normal_test = scored_test[scored_test.index < x]\n",
    "normal_test"
   ]
  },
  {
   "cell_type": "code",
   "execution_count": 35,
   "metadata": {},
   "outputs": [
    {
     "data": {
      "text/html": [
       "<div>\n",
       "<style scoped>\n",
       "    .dataframe tbody tr th:only-of-type {\n",
       "        vertical-align: middle;\n",
       "    }\n",
       "\n",
       "    .dataframe tbody tr th {\n",
       "        vertical-align: top;\n",
       "    }\n",
       "\n",
       "    .dataframe thead th {\n",
       "        text-align: right;\n",
       "    }\n",
       "</style>\n",
       "<table border=\"1\" class=\"dataframe\">\n",
       "  <thead>\n",
       "    <tr style=\"text-align: right;\">\n",
       "      <th></th>\n",
       "      <th>Loss_mae</th>\n",
       "      <th>Threshold</th>\n",
       "      <th>Anomaly</th>\n",
       "    </tr>\n",
       "  </thead>\n",
       "  <tbody>\n",
       "    <tr>\n",
       "      <th>24231</th>\n",
       "      <td>0.016627</td>\n",
       "      <td>0.04</td>\n",
       "      <td>False</td>\n",
       "    </tr>\n",
       "    <tr>\n",
       "      <th>24232</th>\n",
       "      <td>0.013883</td>\n",
       "      <td>0.04</td>\n",
       "      <td>False</td>\n",
       "    </tr>\n",
       "    <tr>\n",
       "      <th>24233</th>\n",
       "      <td>0.004839</td>\n",
       "      <td>0.04</td>\n",
       "      <td>False</td>\n",
       "    </tr>\n",
       "    <tr>\n",
       "      <th>24234</th>\n",
       "      <td>0.026677</td>\n",
       "      <td>0.04</td>\n",
       "      <td>False</td>\n",
       "    </tr>\n",
       "    <tr>\n",
       "      <th>24235</th>\n",
       "      <td>0.010379</td>\n",
       "      <td>0.04</td>\n",
       "      <td>False</td>\n",
       "    </tr>\n",
       "    <tr>\n",
       "      <th>...</th>\n",
       "      <td>...</td>\n",
       "      <td>...</td>\n",
       "      <td>...</td>\n",
       "    </tr>\n",
       "    <tr>\n",
       "      <th>48457</th>\n",
       "      <td>0.023998</td>\n",
       "      <td>0.04</td>\n",
       "      <td>False</td>\n",
       "    </tr>\n",
       "    <tr>\n",
       "      <th>48458</th>\n",
       "      <td>0.017362</td>\n",
       "      <td>0.04</td>\n",
       "      <td>False</td>\n",
       "    </tr>\n",
       "    <tr>\n",
       "      <th>48459</th>\n",
       "      <td>0.022373</td>\n",
       "      <td>0.04</td>\n",
       "      <td>False</td>\n",
       "    </tr>\n",
       "    <tr>\n",
       "      <th>48460</th>\n",
       "      <td>0.003116</td>\n",
       "      <td>0.04</td>\n",
       "      <td>False</td>\n",
       "    </tr>\n",
       "    <tr>\n",
       "      <th>48461</th>\n",
       "      <td>0.005426</td>\n",
       "      <td>0.04</td>\n",
       "      <td>False</td>\n",
       "    </tr>\n",
       "  </tbody>\n",
       "</table>\n",
       "<p>24231 rows × 3 columns</p>\n",
       "</div>"
      ],
      "text/plain": [
       "       Loss_mae  Threshold  Anomaly\n",
       "24231  0.016627       0.04    False\n",
       "24232  0.013883       0.04    False\n",
       "24233  0.004839       0.04    False\n",
       "24234  0.026677       0.04    False\n",
       "24235  0.010379       0.04    False\n",
       "...         ...        ...      ...\n",
       "48457  0.023998       0.04    False\n",
       "48458  0.017362       0.04    False\n",
       "48459  0.022373       0.04    False\n",
       "48460  0.003116       0.04    False\n",
       "48461  0.005426       0.04    False\n",
       "\n",
       "[24231 rows x 3 columns]"
      ]
     },
     "execution_count": 35,
     "metadata": {},
     "output_type": "execute_result"
    }
   ],
   "source": [
    "OR_test = scored_test[scored_test.index >= x]\n",
    "OR_test"
   ]
  },
  {
   "cell_type": "code",
   "execution_count": 36,
   "metadata": {},
   "outputs": [
    {
     "name": "stdout",
     "output_type": "stream",
     "text": [
      "True Positives: 24231\n",
      "True Negatives: 23710\n",
      "False Negatives: 0\n",
      "False Positives: 521\n"
     ]
    }
   ],
   "source": [
    "TP = normal_test[normal_test['Anomaly'] == False]\n",
    "TP = TP['Anomaly'].count()\n",
    "print(\"True Positives: {}\".format(TP))\n",
    "\n",
    "TN = OR_test[OR_test['Anomaly'] == False]\n",
    "TN = TN['Anomaly'].count()\n",
    "print(\"True Negatives: {}\".format(TN))\n",
    "\n",
    "FN = normal_test[normal_test['Anomaly'] == True]\n",
    "FN = FN['Anomaly'].count()\n",
    "print(\"False Negatives: {}\".format(FN))\n",
    "\n",
    "FP = OR_test[OR_test['Anomaly'] == True]\n",
    "FP = FP['Anomaly'].count()\n",
    "print(\"False Positives: {}\".format(FP))"
   ]
  },
  {
   "cell_type": "code",
   "execution_count": 37,
   "metadata": {},
   "outputs": [
    {
     "name": "stdout",
     "output_type": "stream",
     "text": [
      "Precision: 97.90%\n",
      "Recall: 100.000%\n",
      "F1 Score: 98.94%\n"
     ]
    }
   ],
   "source": [
    "Precision = TP / (TP + FP)\n",
    "print(\"Precision: {:.2f}%\".format(Precision*100))\n",
    "\n",
    "Recall = TP / (TP + FN)\n",
    "print(\"Recall: {:.3f}%\".format(Recall*100))\n",
    "\n",
    "F1Score = (2*Precision*Recall)/(Precision+Recall)\n",
    "print(\"F1 Score: {:.2f}%\".format(F1Score*100))"
   ]
  }
 ],
 "metadata": {
  "kernelspec": {
   "display_name": "Python 3",
   "language": "python",
   "name": "python3"
  },
  "language_info": {
   "codemirror_mode": {
    "name": "ipython",
    "version": 3
   },
   "file_extension": ".py",
   "mimetype": "text/x-python",
   "name": "python",
   "nbconvert_exporter": "python",
   "pygments_lexer": "ipython3",
   "version": "3.7.4"
  }
 },
 "nbformat": 4,
 "nbformat_minor": 4
}
