{
 "cells": [
  {
   "cell_type": "code",
   "execution_count": 1,
   "metadata": {},
   "outputs": [],
   "source": [
    "#importing packages\n",
    "import pandas as pd\n",
    "import numpy as np"
   ]
  },
  {
   "cell_type": "code",
   "execution_count": 2,
   "metadata": {},
   "outputs": [],
   "source": [
    "# Importing the dataset\n",
    "X = pd.read_csv('../Datasets/NB.csv')\n",
    "X['Fault'] = 0\n",
    "\n",
    "y = pd.read_csv('../Datasets/IR - 7.csv')\n",
    "y['Fault'] = 1"
   ]
  },
  {
   "cell_type": "code",
   "execution_count": 3,
   "metadata": {},
   "outputs": [],
   "source": [
    "from sklearn.model_selection import train_test_split\n",
    "X_train, X_test = train_test_split(X, test_size = 0.2, random_state = 0)\n",
    "\n",
    "y_train, y_test = train_test_split(y, test_size = 0.2, random_state = 0)"
   ]
  },
  {
   "cell_type": "code",
   "execution_count": 4,
   "metadata": {},
   "outputs": [
    {
     "data": {
      "text/html": [
       "<div>\n",
       "<style scoped>\n",
       "    .dataframe tbody tr th:only-of-type {\n",
       "        vertical-align: middle;\n",
       "    }\n",
       "\n",
       "    .dataframe tbody tr th {\n",
       "        vertical-align: top;\n",
       "    }\n",
       "\n",
       "    .dataframe thead th {\n",
       "        text-align: right;\n",
       "    }\n",
       "</style>\n",
       "<table border=\"1\" class=\"dataframe\">\n",
       "  <thead>\n",
       "    <tr style=\"text-align: right;\">\n",
       "      <th></th>\n",
       "      <th>DE</th>\n",
       "      <th>FE</th>\n",
       "      <th>Fault</th>\n",
       "    </tr>\n",
       "  </thead>\n",
       "  <tbody>\n",
       "    <tr>\n",
       "      <th>103476</th>\n",
       "      <td>0.062585</td>\n",
       "      <td>0.041091</td>\n",
       "      <td>0</td>\n",
       "    </tr>\n",
       "    <tr>\n",
       "      <th>96984</th>\n",
       "      <td>-0.075102</td>\n",
       "      <td>-0.013765</td>\n",
       "      <td>0</td>\n",
       "    </tr>\n",
       "    <tr>\n",
       "      <th>114732</th>\n",
       "      <td>-0.048190</td>\n",
       "      <td>-0.001233</td>\n",
       "      <td>0</td>\n",
       "    </tr>\n",
       "    <tr>\n",
       "      <th>10916</th>\n",
       "      <td>0.069260</td>\n",
       "      <td>0.028558</td>\n",
       "      <td>0</td>\n",
       "    </tr>\n",
       "    <tr>\n",
       "      <th>37646</th>\n",
       "      <td>0.040054</td>\n",
       "      <td>0.065335</td>\n",
       "      <td>0</td>\n",
       "    </tr>\n",
       "    <tr>\n",
       "      <th>...</th>\n",
       "      <td>...</td>\n",
       "      <td>...</td>\n",
       "      <td>...</td>\n",
       "    </tr>\n",
       "    <tr>\n",
       "      <th>45891</th>\n",
       "      <td>0.110131</td>\n",
       "      <td>-0.312085</td>\n",
       "      <td>1</td>\n",
       "    </tr>\n",
       "    <tr>\n",
       "      <th>117952</th>\n",
       "      <td>-0.909962</td>\n",
       "      <td>-0.030202</td>\n",
       "      <td>1</td>\n",
       "    </tr>\n",
       "    <tr>\n",
       "      <th>42613</th>\n",
       "      <td>0.676380</td>\n",
       "      <td>0.007396</td>\n",
       "      <td>1</td>\n",
       "    </tr>\n",
       "    <tr>\n",
       "      <th>43567</th>\n",
       "      <td>0.011208</td>\n",
       "      <td>0.209975</td>\n",
       "      <td>1</td>\n",
       "    </tr>\n",
       "    <tr>\n",
       "      <th>68268</th>\n",
       "      <td>0.112405</td>\n",
       "      <td>0.265447</td>\n",
       "      <td>1</td>\n",
       "    </tr>\n",
       "  </tbody>\n",
       "</table>\n",
       "<p>193848 rows × 3 columns</p>\n",
       "</div>"
      ],
      "text/plain": [
       "              DE        FE  Fault\n",
       "103476  0.062585  0.041091      0\n",
       "96984  -0.075102 -0.013765      0\n",
       "114732 -0.048190 -0.001233      0\n",
       "10916   0.069260  0.028558      0\n",
       "37646   0.040054  0.065335      0\n",
       "...          ...       ...    ...\n",
       "45891   0.110131 -0.312085      1\n",
       "117952 -0.909962 -0.030202      1\n",
       "42613   0.676380  0.007396      1\n",
       "43567   0.011208  0.209975      1\n",
       "68268   0.112405  0.265447      1\n",
       "\n",
       "[193848 rows x 3 columns]"
      ]
     },
     "execution_count": 4,
     "metadata": {},
     "output_type": "execute_result"
    }
   ],
   "source": [
    "train = X_train.append(y_train)\n",
    "train"
   ]
  },
  {
   "cell_type": "code",
   "execution_count": 5,
   "metadata": {},
   "outputs": [
    {
     "data": {
      "text/html": [
       "<div>\n",
       "<style scoped>\n",
       "    .dataframe tbody tr th:only-of-type {\n",
       "        vertical-align: middle;\n",
       "    }\n",
       "\n",
       "    .dataframe tbody tr th {\n",
       "        vertical-align: top;\n",
       "    }\n",
       "\n",
       "    .dataframe thead th {\n",
       "        text-align: right;\n",
       "    }\n",
       "</style>\n",
       "<table border=\"1\" class=\"dataframe\">\n",
       "  <thead>\n",
       "    <tr style=\"text-align: right;\">\n",
       "      <th></th>\n",
       "      <th>DE</th>\n",
       "      <th>FE</th>\n",
       "      <th>Fault</th>\n",
       "    </tr>\n",
       "  </thead>\n",
       "  <tbody>\n",
       "    <tr>\n",
       "      <th>121079</th>\n",
       "      <td>0.046313</td>\n",
       "      <td>0.054651</td>\n",
       "      <td>0</td>\n",
       "    </tr>\n",
       "    <tr>\n",
       "      <th>107924</th>\n",
       "      <td>-0.015855</td>\n",
       "      <td>0.061636</td>\n",
       "      <td>0</td>\n",
       "    </tr>\n",
       "    <tr>\n",
       "      <th>22678</th>\n",
       "      <td>-0.065297</td>\n",
       "      <td>0.122862</td>\n",
       "      <td>0</td>\n",
       "    </tr>\n",
       "    <tr>\n",
       "      <th>55190</th>\n",
       "      <td>-0.112652</td>\n",
       "      <td>0.066978</td>\n",
       "      <td>0</td>\n",
       "    </tr>\n",
       "    <tr>\n",
       "      <th>92048</th>\n",
       "      <td>0.023991</td>\n",
       "      <td>0.034105</td>\n",
       "      <td>0</td>\n",
       "    </tr>\n",
       "    <tr>\n",
       "      <th>...</th>\n",
       "      <td>...</td>\n",
       "      <td>...</td>\n",
       "      <td>...</td>\n",
       "    </tr>\n",
       "    <tr>\n",
       "      <th>103358</th>\n",
       "      <td>0.019330</td>\n",
       "      <td>0.088962</td>\n",
       "      <td>1</td>\n",
       "    </tr>\n",
       "    <tr>\n",
       "      <th>54412</th>\n",
       "      <td>-0.072284</td>\n",
       "      <td>0.288664</td>\n",
       "      <td>1</td>\n",
       "    </tr>\n",
       "    <tr>\n",
       "      <th>50632</th>\n",
       "      <td>0.259571</td>\n",
       "      <td>-0.293184</td>\n",
       "      <td>1</td>\n",
       "    </tr>\n",
       "    <tr>\n",
       "      <th>89251</th>\n",
       "      <td>0.010883</td>\n",
       "      <td>-0.042324</td>\n",
       "      <td>1</td>\n",
       "    </tr>\n",
       "    <tr>\n",
       "      <th>65637</th>\n",
       "      <td>0.018030</td>\n",
       "      <td>-0.144845</td>\n",
       "      <td>1</td>\n",
       "    </tr>\n",
       "  </tbody>\n",
       "</table>\n",
       "<p>48462 rows × 3 columns</p>\n",
       "</div>"
      ],
      "text/plain": [
       "              DE        FE  Fault\n",
       "121079  0.046313  0.054651      0\n",
       "107924 -0.015855  0.061636      0\n",
       "22678  -0.065297  0.122862      0\n",
       "55190  -0.112652  0.066978      0\n",
       "92048   0.023991  0.034105      0\n",
       "...          ...       ...    ...\n",
       "103358  0.019330  0.088962      1\n",
       "54412  -0.072284  0.288664      1\n",
       "50632   0.259571 -0.293184      1\n",
       "89251   0.010883 -0.042324      1\n",
       "65637   0.018030 -0.144845      1\n",
       "\n",
       "[48462 rows x 3 columns]"
      ]
     },
     "execution_count": 5,
     "metadata": {},
     "output_type": "execute_result"
    }
   ],
   "source": [
    "test = X_test.append(y_test)\n",
    "test"
   ]
  },
  {
   "cell_type": "code",
   "execution_count": 6,
   "metadata": {},
   "outputs": [],
   "source": [
    "from sklearn.preprocessing import MinMaxScaler\n",
    "scaler = MinMaxScaler()\n",
    "train = pd.DataFrame(scaler.fit_transform(train))\n",
    "train.sample(frac=1)\n",
    "\n",
    "test = pd.DataFrame(scaler.transform(test))"
   ]
  },
  {
   "cell_type": "code",
   "execution_count": 7,
   "metadata": {},
   "outputs": [],
   "source": [
    "train = train.values.reshape(-1, 1, 3)\n",
    "\n",
    "test  = test.values.reshape(-1, 1, 3)"
   ]
  },
  {
   "cell_type": "code",
   "execution_count": 8,
   "metadata": {},
   "outputs": [
    {
     "name": "stderr",
     "output_type": "stream",
     "text": [
      "Using TensorFlow backend.\n"
     ]
    }
   ],
   "source": [
    "from keras.layers import Input, Dropout, Dense, LSTM, RepeatVector, TimeDistributed\n",
    "from keras.models import Model, Sequential, load_model\n",
    "from keras import regularizers"
   ]
  },
  {
   "cell_type": "code",
   "execution_count": 9,
   "metadata": {},
   "outputs": [
    {
     "name": "stdout",
     "output_type": "stream",
     "text": [
      "Model: \"sequential_1\"\n",
      "_________________________________________________________________\n",
      "Layer (type)                 Output Shape              Param #   \n",
      "=================================================================\n",
      "lstm_1 (LSTM)                (None, 32)                4608      \n",
      "_________________________________________________________________\n",
      "dropout_1 (Dropout)          (None, 32)                0         \n",
      "_________________________________________________________________\n",
      "repeat_vector_1 (RepeatVecto (None, 1, 32)             0         \n",
      "_________________________________________________________________\n",
      "lstm_2 (LSTM)                (None, 1, 32)             8320      \n",
      "_________________________________________________________________\n",
      "dropout_2 (Dropout)          (None, 1, 32)             0         \n",
      "_________________________________________________________________\n",
      "time_distributed_1 (TimeDist (None, 1, 3)              99        \n",
      "=================================================================\n",
      "Total params: 13,027\n",
      "Trainable params: 13,027\n",
      "Non-trainable params: 0\n",
      "_________________________________________________________________\n"
     ]
    }
   ],
   "source": [
    "# Input layer:\n",
    "model=Sequential([\n",
    "    LSTM(32, activation='relu', input_shape=(train.shape[1],train.shape[2])),\n",
    "    Dropout(0.2),\n",
    "    RepeatVector(train.shape[1]),\n",
    "    LSTM(32, activation='relu', return_sequences=True),\n",
    "    Dropout(0.2),\n",
    "    TimeDistributed(Dense(train.shape[2]))\n",
    "])\n",
    "\n",
    "model.compile(loss='mse',optimizer='adam', metrics=['accuracy'])\n",
    "model.summary()"
   ]
  },
  {
   "cell_type": "code",
   "execution_count": 10,
   "metadata": {
    "scrolled": true
   },
   "outputs": [
    {
     "name": "stdout",
     "output_type": "stream",
     "text": [
      "Train on 174463 samples, validate on 19385 samples\n",
      "Epoch 1/100\n",
      "174463/174463 [==============================] - 7s 38us/step - loss: 0.1247 - accuracy: 0.4565 - val_loss: 0.0094 - val_accuracy: 1.0000\n",
      "Epoch 2/100\n",
      "174463/174463 [==============================] - 3s 16us/step - loss: 0.0153 - accuracy: 0.7470 - val_loss: 0.0066 - val_accuracy: 1.0000\n",
      "Epoch 3/100\n",
      "174463/174463 [==============================] - 3s 15us/step - loss: 0.0127 - accuracy: 0.7682 - val_loss: 0.0067 - val_accuracy: 1.0000\n",
      "Epoch 4/100\n",
      "174463/174463 [==============================] - 3s 15us/step - loss: 0.0111 - accuracy: 0.7827 - val_loss: 0.0060 - val_accuracy: 1.0000\n",
      "Epoch 5/100\n",
      "174463/174463 [==============================] - 3s 15us/step - loss: 0.0099 - accuracy: 0.7841 - val_loss: 0.0056 - val_accuracy: 1.0000\n",
      "Epoch 6/100\n",
      "174463/174463 [==============================] - 3s 14us/step - loss: 0.0089 - accuracy: 0.7907 - val_loss: 0.0049 - val_accuracy: 0.9999\n",
      "Epoch 7/100\n",
      "174463/174463 [==============================] - 2s 14us/step - loss: 0.0080 - accuracy: 0.7898 - val_loss: 0.0044 - val_accuracy: 0.9992\n",
      "Epoch 8/100\n",
      "174463/174463 [==============================] - 3s 18us/step - loss: 0.0074 - accuracy: 0.7917 - val_loss: 0.0041 - val_accuracy: 0.9992\n",
      "Epoch 9/100\n",
      "174463/174463 [==============================] - 3s 17us/step - loss: 0.0069 - accuracy: 0.7973 - val_loss: 0.0040 - val_accuracy: 0.9998\n",
      "Epoch 10/100\n",
      "174463/174463 [==============================] - 4s 21us/step - loss: 0.0063 - accuracy: 0.8036 - val_loss: 0.0039 - val_accuracy: 1.0000\n",
      "Epoch 11/100\n",
      "174463/174463 [==============================] - 3s 20us/step - loss: 0.0059 - accuracy: 0.8048 - val_loss: 0.0029 - val_accuracy: 1.0000\n",
      "Epoch 12/100\n",
      "174463/174463 [==============================] - 4s 21us/step - loss: 0.0052 - accuracy: 0.8083 - val_loss: 0.0021 - val_accuracy: 1.0000\n",
      "Epoch 13/100\n",
      "174463/174463 [==============================] - 4s 22us/step - loss: 0.0049 - accuracy: 0.8151 - val_loss: 0.0019 - val_accuracy: 1.0000\n",
      "Epoch 14/100\n",
      "174463/174463 [==============================] - 4s 20us/step - loss: 0.0046 - accuracy: 0.8181 - val_loss: 0.0015 - val_accuracy: 1.0000\n",
      "Epoch 15/100\n",
      "174463/174463 [==============================] - 4s 20us/step - loss: 0.0042 - accuracy: 0.8222 - val_loss: 0.0013 - val_accuracy: 1.0000\n",
      "Epoch 16/100\n",
      "174463/174463 [==============================] - 4s 21us/step - loss: 0.0040 - accuracy: 0.8240 - val_loss: 0.0014 - val_accuracy: 1.0000\n",
      "Epoch 17/100\n",
      "174463/174463 [==============================] - 5s 27us/step - loss: 0.0039 - accuracy: 0.8245 - val_loss: 0.0012 - val_accuracy: 1.0000\n",
      "Epoch 18/100\n",
      "174463/174463 [==============================] - 4s 21us/step - loss: 0.0037 - accuracy: 0.8248 - val_loss: 0.0012 - val_accuracy: 1.0000\n",
      "Epoch 19/100\n",
      "174463/174463 [==============================] - 5s 28us/step - loss: 0.0035 - accuracy: 0.8249 - val_loss: 0.0012 - val_accuracy: 1.0000\n",
      "Epoch 20/100\n",
      "174463/174463 [==============================] - 5s 28us/step - loss: 0.0033 - accuracy: 0.8252 - val_loss: 0.0010 - val_accuracy: 1.0000\n",
      "Epoch 21/100\n",
      "174463/174463 [==============================] - 5s 30us/step - loss: 0.0032 - accuracy: 0.8253 - val_loss: 8.5851e-04 - val_accuracy: 1.0000\n",
      "Epoch 22/100\n",
      "174463/174463 [==============================] - 6s 32us/step - loss: 0.0031 - accuracy: 0.8255 - val_loss: 8.4782e-04 - val_accuracy: 1.0000\n",
      "Epoch 23/100\n",
      "174463/174463 [==============================] - 5s 28us/step - loss: 0.0031 - accuracy: 0.8266 - val_loss: 8.7195e-04 - val_accuracy: 1.0000\n",
      "Epoch 24/100\n",
      "174463/174463 [==============================] - 5s 31us/step - loss: 0.0030 - accuracy: 0.8309 - val_loss: 7.2284e-04 - val_accuracy: 1.0000\n",
      "Epoch 25/100\n",
      "174463/174463 [==============================] - 6s 33us/step - loss: 0.0030 - accuracy: 0.8356 - val_loss: 6.8516e-04 - val_accuracy: 1.0000\n",
      "Epoch 26/100\n",
      "174463/174463 [==============================] - 5s 30us/step - loss: 0.0029 - accuracy: 0.8397 - val_loss: 7.8252e-04 - val_accuracy: 1.0000\n",
      "Epoch 27/100\n",
      "174463/174463 [==============================] - 5s 28us/step - loss: 0.0029 - accuracy: 0.8466 - val_loss: 6.1049e-04 - val_accuracy: 1.0000\n",
      "Epoch 28/100\n",
      "174463/174463 [==============================] - 5s 29us/step - loss: 0.0029 - accuracy: 0.8564 - val_loss: 5.9598e-04 - val_accuracy: 1.0000\n",
      "Epoch 29/100\n",
      "174463/174463 [==============================] - 5s 30us/step - loss: 0.0028 - accuracy: 0.8631 - val_loss: 6.1148e-04 - val_accuracy: 1.0000\n",
      "Epoch 30/100\n",
      "174463/174463 [==============================] - 5s 29us/step - loss: 0.0028 - accuracy: 0.8705 - val_loss: 5.2946e-04 - val_accuracy: 1.0000\n",
      "Epoch 31/100\n",
      "174463/174463 [==============================] - 5s 29us/step - loss: 0.0028 - accuracy: 0.8729 - val_loss: 4.9949e-04 - val_accuracy: 1.0000\n",
      "Epoch 32/100\n",
      "174463/174463 [==============================] - 5s 28us/step - loss: 0.0027 - accuracy: 0.8741 - val_loss: 4.4445e-04 - val_accuracy: 1.0000\n",
      "Epoch 33/100\n",
      "174463/174463 [==============================] - 5s 29us/step - loss: 0.0027 - accuracy: 0.8745 - val_loss: 4.5587e-04 - val_accuracy: 1.0000\n",
      "Epoch 34/100\n",
      "174463/174463 [==============================] - 5s 27us/step - loss: 0.0027 - accuracy: 0.8791 - val_loss: 5.3748e-04 - val_accuracy: 1.0000\n",
      "Epoch 35/100\n",
      "174463/174463 [==============================] - 5s 28us/step - loss: 0.0026 - accuracy: 0.8806 - val_loss: 3.9588e-04 - val_accuracy: 1.0000\n",
      "Epoch 36/100\n",
      "174463/174463 [==============================] - 5s 30us/step - loss: 0.0026 - accuracy: 0.8840 - val_loss: 4.6694e-04 - val_accuracy: 1.0000\n",
      "Epoch 37/100\n",
      "174463/174463 [==============================] - 5s 29us/step - loss: 0.0026 - accuracy: 0.8850 - val_loss: 4.2200e-04 - val_accuracy: 1.0000\n",
      "Epoch 38/100\n",
      "174463/174463 [==============================] - 5s 27us/step - loss: 0.0026 - accuracy: 0.8873 - val_loss: 4.1061e-04 - val_accuracy: 1.0000\n",
      "Epoch 39/100\n",
      "174463/174463 [==============================] - 6s 32us/step - loss: 0.0026 - accuracy: 0.8865 - val_loss: 3.9606e-04 - val_accuracy: 1.0000\n",
      "Epoch 40/100\n",
      "174463/174463 [==============================] - 6s 34us/step - loss: 0.0026 - accuracy: 0.8885 - val_loss: 4.8773e-04 - val_accuracy: 1.0000\n",
      "Epoch 41/100\n",
      "174463/174463 [==============================] - 6s 36us/step - loss: 0.0025 - accuracy: 0.8899 - val_loss: 3.9350e-04 - val_accuracy: 1.0000\n",
      "Epoch 42/100\n",
      "174463/174463 [==============================] - 6s 35us/step - loss: 0.0025 - accuracy: 0.8923 - val_loss: 4.3378e-04 - val_accuracy: 1.0000\n",
      "Epoch 43/100\n",
      "174463/174463 [==============================] - 5s 29us/step - loss: 0.0025 - accuracy: 0.8960 - val_loss: 3.5023e-04 - val_accuracy: 1.0000\n",
      "Epoch 44/100\n",
      "174463/174463 [==============================] - 5s 26us/step - loss: 0.0025 - accuracy: 0.8965 - val_loss: 3.2830e-04 - val_accuracy: 1.0000\n",
      "Epoch 45/100\n",
      "174463/174463 [==============================] - 5s 28us/step - loss: 0.0025 - accuracy: 0.9014 - val_loss: 4.2912e-04 - val_accuracy: 1.0000\n",
      "Epoch 46/100\n",
      "  6000/174463 [>.............................] - ETA: 5s - loss: 0.0025 - accuracy: 0.9008 "
     ]
    },
    {
     "name": "stderr",
     "output_type": "stream",
     "text": [
      "C:\\Users\\leste\\Anaconda3\\lib\\site-packages\\keras\\callbacks\\callbacks.py:95: RuntimeWarning: Method (on_train_batch_end) is slow compared to the batch update (0.119680). Check your callbacks.\n",
      "  % (hook_name, delta_t_median), RuntimeWarning)\n"
     ]
    },
    {
     "name": "stdout",
     "output_type": "stream",
     "text": [
      "174463/174463 [==============================] - 5s 28us/step - loss: 0.0025 - accuracy: 0.9025 - val_loss: 3.3321e-04 - val_accuracy: 1.0000\n",
      "Epoch 47/100\n",
      "174463/174463 [==============================] - 5s 28us/step - loss: 0.0025 - accuracy: 0.9078 - val_loss: 3.2943e-04 - val_accuracy: 1.0000\n",
      "Epoch 48/100\n",
      "174463/174463 [==============================] - 5s 26us/step - loss: 0.0025 - accuracy: 0.9093 - val_loss: 3.5414e-04 - val_accuracy: 1.0000\n",
      "Epoch 49/100\n",
      "174463/174463 [==============================] - 4s 25us/step - loss: 0.0025 - accuracy: 0.9104 - val_loss: 3.3337e-04 - val_accuracy: 1.0000\n",
      "Epoch 50/100\n",
      "174463/174463 [==============================] - 5s 28us/step - loss: 0.0024 - accuracy: 0.9121 - val_loss: 3.6567e-04 - val_accuracy: 1.0000\n",
      "Epoch 51/100\n",
      "174463/174463 [==============================] - 4s 25us/step - loss: 0.0024 - accuracy: 0.9137 - val_loss: 3.5228e-04 - val_accuracy: 1.0000\n",
      "Epoch 52/100\n",
      "174463/174463 [==============================] - 5s 27us/step - loss: 0.0024 - accuracy: 0.9124 - val_loss: 3.1478e-04 - val_accuracy: 1.0000\n",
      "Epoch 53/100\n",
      "174463/174463 [==============================] - 5s 28us/step - loss: 0.0024 - accuracy: 0.9136 - val_loss: 3.7692e-04 - val_accuracy: 1.0000\n",
      "Epoch 54/100\n",
      "174463/174463 [==============================] - 4s 24us/step - loss: 0.0024 - accuracy: 0.9122 - val_loss: 3.3459e-04 - val_accuracy: 1.0000\n",
      "Epoch 55/100\n",
      "174463/174463 [==============================] - 4s 26us/step - loss: 0.0024 - accuracy: 0.9152 - val_loss: 3.6116e-04 - val_accuracy: 1.0000\n",
      "Epoch 56/100\n",
      "174463/174463 [==============================] - 4s 25us/step - loss: 0.0024 - accuracy: 0.9153 - val_loss: 3.3124e-04 - val_accuracy: 1.0000\n",
      "Epoch 57/100\n",
      "174463/174463 [==============================] - 5s 28us/step - loss: 0.0024 - accuracy: 0.9143 - val_loss: 3.2114e-04 - val_accuracy: 1.0000\n",
      "Epoch 58/100\n",
      "174463/174463 [==============================] - 5s 27us/step - loss: 0.0024 - accuracy: 0.9148 - val_loss: 2.8259e-04 - val_accuracy: 1.0000\n",
      "Epoch 59/100\n",
      "174463/174463 [==============================] - 5s 28us/step - loss: 0.0024 - accuracy: 0.9137 - val_loss: 2.9626e-04 - val_accuracy: 1.0000\n",
      "Epoch 60/100\n",
      "174463/174463 [==============================] - 5s 27us/step - loss: 0.0024 - accuracy: 0.9147 - val_loss: 2.9979e-04 - val_accuracy: 1.0000\n",
      "Epoch 61/100\n",
      "174463/174463 [==============================] - 4s 26us/step - loss: 0.0024 - accuracy: 0.9156 - val_loss: 2.9013e-04 - val_accuracy: 1.0000\n",
      "Epoch 62/100\n",
      "174463/174463 [==============================] - 4s 26us/step - loss: 0.0024 - accuracy: 0.9138 - val_loss: 3.0843e-04 - val_accuracy: 1.0000\n",
      "Epoch 63/100\n",
      "174463/174463 [==============================] - 5s 28us/step - loss: 0.0024 - accuracy: 0.9126 - val_loss: 2.8704e-04 - val_accuracy: 1.0000\n",
      "Epoch 64/100\n",
      "174463/174463 [==============================] - 4s 25us/step - loss: 0.0023 - accuracy: 0.9149 - val_loss: 3.1424e-04 - val_accuracy: 1.0000\n",
      "Epoch 65/100\n",
      "174463/174463 [==============================] - 5s 27us/step - loss: 0.0024 - accuracy: 0.9151 - val_loss: 3.1197e-04 - val_accuracy: 1.0000\n",
      "Epoch 66/100\n",
      "174463/174463 [==============================] - 5s 26us/step - loss: 0.0023 - accuracy: 0.9138 - val_loss: 2.8288e-04 - val_accuracy: 1.0000\n",
      "Epoch 67/100\n",
      "174463/174463 [==============================] - 4s 25us/step - loss: 0.0023 - accuracy: 0.9145 - val_loss: 2.7218e-04 - val_accuracy: 1.0000\n",
      "Epoch 68/100\n",
      "174463/174463 [==============================] - 5s 28us/step - loss: 0.0023 - accuracy: 0.9142 - val_loss: 2.9423e-04 - val_accuracy: 1.0000\n",
      "Epoch 69/100\n",
      "174463/174463 [==============================] - 5s 27us/step - loss: 0.0023 - accuracy: 0.9140 - val_loss: 2.5732e-04 - val_accuracy: 1.0000\n",
      "Epoch 70/100\n",
      "174463/174463 [==============================] - 5s 26us/step - loss: 0.0024 - accuracy: 0.9132 - val_loss: 3.5532e-04 - val_accuracy: 1.0000\n",
      "Epoch 71/100\n",
      "174463/174463 [==============================] - 5s 27us/step - loss: 0.0023 - accuracy: 0.9124 - val_loss: 2.6214e-04 - val_accuracy: 1.0000\n",
      "Epoch 72/100\n",
      "174463/174463 [==============================] - 5s 28us/step - loss: 0.0023 - accuracy: 0.9134 - val_loss: 2.5622e-04 - val_accuracy: 1.0000\n",
      "Epoch 73/100\n",
      "174463/174463 [==============================] - 4s 25us/step - loss: 0.0023 - accuracy: 0.9119 - val_loss: 2.6062e-04 - val_accuracy: 1.0000\n",
      "Epoch 74/100\n",
      "174463/174463 [==============================] - 5s 29us/step - loss: 0.0023 - accuracy: 0.9133 - val_loss: 2.2736e-04 - val_accuracy: 1.0000\n",
      "Epoch 75/100\n",
      "174463/174463 [==============================] - 5s 27us/step - loss: 0.0023 - accuracy: 0.9136 - val_loss: 2.6964e-04 - val_accuracy: 1.0000\n",
      "Epoch 76/100\n",
      "174463/174463 [==============================] - 5s 27us/step - loss: 0.0023 - accuracy: 0.9129 - val_loss: 2.9347e-04 - val_accuracy: 1.0000\n",
      "Epoch 77/100\n",
      "174463/174463 [==============================] - 4s 24us/step - loss: 0.0022 - accuracy: 0.9146 - val_loss: 2.6270e-04 - val_accuracy: 1.0000\n",
      "Epoch 78/100\n",
      "174463/174463 [==============================] - 5s 27us/step - loss: 0.0022 - accuracy: 0.9137 - val_loss: 2.8381e-04 - val_accuracy: 1.0000\n",
      "Epoch 79/100\n",
      " 10000/174463 [>.............................] - ETA: 4s - loss: 0.0023 - accuracy: 0.9171"
     ]
    },
    {
     "name": "stderr",
     "output_type": "stream",
     "text": [
      "C:\\Users\\leste\\Anaconda3\\lib\\site-packages\\keras\\callbacks\\callbacks.py:95: RuntimeWarning: Method (on_train_batch_end) is slow compared to the batch update (0.140624). Check your callbacks.\n",
      "  % (hook_name, delta_t_median), RuntimeWarning)\n"
     ]
    },
    {
     "name": "stdout",
     "output_type": "stream",
     "text": [
      "174463/174463 [==============================] - 5s 26us/step - loss: 0.0023 - accuracy: 0.9157 - val_loss: 2.2429e-04 - val_accuracy: 1.0000\n",
      "Epoch 80/100\n",
      "174463/174463 [==============================] - 5s 26us/step - loss: 0.0022 - accuracy: 0.9143 - val_loss: 2.4320e-04 - val_accuracy: 1.0000\n",
      "Epoch 81/100\n",
      "174463/174463 [==============================] - 5s 26us/step - loss: 0.0022 - accuracy: 0.9144 - val_loss: 2.6561e-04 - val_accuracy: 1.0000\n",
      "Epoch 82/100\n",
      "174463/174463 [==============================] - 5s 26us/step - loss: 0.0022 - accuracy: 0.9149 - val_loss: 2.3860e-04 - val_accuracy: 1.0000\n",
      "Epoch 83/100\n",
      "174463/174463 [==============================] - 5s 26us/step - loss: 0.0023 - accuracy: 0.9150 - val_loss: 2.2636e-04 - val_accuracy: 1.0000\n",
      "Epoch 84/100\n",
      "174463/174463 [==============================] - 5s 26us/step - loss: 0.0023 - accuracy: 0.9163 - val_loss: 2.7107e-04 - val_accuracy: 1.0000\n",
      "Epoch 85/100\n",
      "174463/174463 [==============================] - 5s 27us/step - loss: 0.0023 - accuracy: 0.9158 - val_loss: 2.2275e-04 - val_accuracy: 1.0000\n",
      "Epoch 86/100\n",
      "174463/174463 [==============================] - 5s 26us/step - loss: 0.0022 - accuracy: 0.9156 - val_loss: 2.1076e-04 - val_accuracy: 1.0000: 0.0022 - accuracy: \n",
      "Epoch 87/100\n",
      "174463/174463 [==============================] - 4s 24us/step - loss: 0.0022 - accuracy: 0.9159 - val_loss: 2.3229e-04 - val_accuracy: 1.0000\n",
      "Epoch 88/100\n",
      "174463/174463 [==============================] - 4s 21us/step - loss: 0.0022 - accuracy: 0.9170 - val_loss: 2.2597e-04 - val_accuracy: 1.0000\n",
      "Epoch 89/100\n",
      "174463/174463 [==============================] - 4s 22us/step - loss: 0.0022 - accuracy: 0.9154 - val_loss: 2.6051e-04 - val_accuracy: 1.0000\n",
      "Epoch 90/100\n",
      "174463/174463 [==============================] - 4s 25us/step - loss: 0.0022 - accuracy: 0.9167 - val_loss: 2.3065e-04 - val_accuracy: 1.0000\n",
      "Epoch 91/100\n",
      "174463/174463 [==============================] - 4s 24us/step - loss: 0.0022 - accuracy: 0.9175 - val_loss: 2.0566e-04 - val_accuracy: 1.0000\n",
      "Epoch 92/100\n",
      "174463/174463 [==============================] - 4s 25us/step - loss: 0.0022 - accuracy: 0.9188 - val_loss: 2.4134e-04 - val_accuracy: 1.0000\n",
      "Epoch 93/100\n",
      "174463/174463 [==============================] - 4s 23us/step - loss: 0.0022 - accuracy: 0.9180 - val_loss: 2.3922e-04 - val_accuracy: 1.0000\n",
      "Epoch 94/100\n",
      "174463/174463 [==============================] - 4s 22us/step - loss: 0.0022 - accuracy: 0.9195 - val_loss: 2.3772e-04 - val_accuracy: 1.0000\n",
      "Epoch 95/100\n",
      "174463/174463 [==============================] - 4s 24us/step - loss: 0.0022 - accuracy: 0.9185 - val_loss: 2.0607e-04 - val_accuracy: 1.0000\n",
      "Epoch 96/100\n",
      "174463/174463 [==============================] - 4s 21us/step - loss: 0.0022 - accuracy: 0.9192 - val_loss: 2.2929e-04 - val_accuracy: 1.0000\n",
      "Epoch 97/100\n",
      "174463/174463 [==============================] - 4s 22us/step - loss: 0.0022 - accuracy: 0.9188 - val_loss: 2.6105e-04 - val_accuracy: 1.0000\n",
      "Epoch 98/100\n",
      "174463/174463 [==============================] - 4s 21us/step - loss: 0.0022 - accuracy: 0.9198 - val_loss: 2.3518e-04 - val_accuracy: 1.0000\n",
      "Epoch 99/100\n",
      "174463/174463 [==============================] - 4s 21us/step - loss: 0.0022 - accuracy: 0.9190 - val_loss: 2.2969e-04 - val_accuracy: 1.0000\n",
      "Epoch 100/100\n",
      "174463/174463 [==============================] - 4s 21us/step - loss: 0.0022 - accuracy: 0.9186 - val_loss: 2.3042e-04 - val_accuracy: 1.0000\n"
     ]
    }
   ],
   "source": [
    "# Train model for 100 epochs, batch size of 1000: \n",
    "NUM_EPOCHS=100\n",
    "BATCH_SIZE=1000\n",
    "\n",
    "history=model.fit(train,train, \n",
    "                  batch_size=BATCH_SIZE, \n",
    "                  epochs=NUM_EPOCHS,\n",
    "                  validation_split=0.1,\n",
    "                  shuffle=True)"
   ]
  },
  {
   "cell_type": "code",
   "execution_count": 11,
   "metadata": {},
   "outputs": [
    {
     "data": {
      "image/png": "[encoded data removed]",
      "text/plain": [
       "<Figure size 432x288 with 1 Axes>"
      ]
     },
     "metadata": {
      "needs_background": "light"
     },
     "output_type": "display_data"
    }
   ],
   "source": [
    "import matplotlib.pyplot as plt\n",
    "\n",
    "plt.plot(history.history['loss'], label='Training loss')\n",
    "plt.plot(history.history['val_loss'], label='Validation loss')\n",
    "plt.legend(loc='upper right')\n",
    "plt.xlabel('Epochs')\n",
    "plt.ylabel('Loss [mse]')\n",
    "plt.show()"
   ]
  },
  {
   "cell_type": "code",
   "execution_count": 12,
   "metadata": {},
   "outputs": [],
   "source": [
    "pred_train = model.predict(train)"
   ]
  },
  {
   "cell_type": "code",
   "execution_count": 13,
   "metadata": {},
   "outputs": [],
   "source": [
    "pred_train = pred_train.reshape(pred_train.shape[0],pred_train.shape[2])\n",
    "train = train.reshape(train.shape[0],train.shape[2])"
   ]
  },
  {
   "cell_type": "code",
   "execution_count": 14,
   "metadata": {},
   "outputs": [
    {
     "data": {
      "image/png": "[encoded data removed]",
      "text/plain": [
       "<Figure size 432x288 with 1 Axes>"
      ]
     },
     "metadata": {
      "needs_background": "light"
     },
     "output_type": "display_data"
    }
   ],
   "source": [
    "import seaborn as sns\n",
    "\n",
    "scored = np.mean(np.abs(pred_train-train), axis = 1)\n",
    "plt.figure()\n",
    "g = sns.distplot(scored, bins = 50, kde= True, color = 'blue');\n",
    "plt.title('Loss Distribution')\n",
    "plt.xlabel('Loss (MAE)')\n",
    "plt.show()"
   ]
  },
  {
   "cell_type": "code",
   "execution_count": 15,
   "metadata": {},
   "outputs": [],
   "source": [
    "TH = 0.04\n",
    "pred_train = pd.DataFrame(pred_train)\n",
    "scored_train = pd.DataFrame()\n",
    "scored_train['Loss_mae'] = np.mean(np.abs(pred_train-train), axis = 1)\n",
    "scored_train['Threshold'] = TH\n",
    "scored_train['Anomaly'] = scored_train['Loss_mae'] > scored_train['Threshold']"
   ]
  },
  {
   "cell_type": "code",
   "execution_count": 16,
   "metadata": {},
   "outputs": [
    {
     "data": {
      "text/plain": [
       "0.008895124278198743"
      ]
     },
     "execution_count": 16,
     "metadata": {},
     "output_type": "execute_result"
    }
   ],
   "source": [
    "scored_train['Loss_mae'].mean()"
   ]
  },
  {
   "cell_type": "code",
   "execution_count": 17,
   "metadata": {},
   "outputs": [
    {
     "data": {
      "text/plain": [
       "Text(0, 0.5, 'Loss (MAE)')"
      ]
     },
     "execution_count": 17,
     "metadata": {},
     "output_type": "execute_result"
    },
    {
     "data": {
      "image/png": "[encoded data removed]",
      "text/plain": [
       "<Figure size 1152x288 with 1 Axes>"
      ]
     },
     "metadata": {
      "needs_background": "light"
     },
     "output_type": "display_data"
    }
   ],
   "source": [
    "scored_train.plot(logy=True,  figsize = (16,4), xlim =[0,len(scored_train)])\n",
    "plt.xlabel('Data points')\n",
    "plt.ylabel('Loss (MAE)')"
   ]
  },
  {
   "cell_type": "code",
   "execution_count": 18,
   "metadata": {},
   "outputs": [
    {
     "data": {
      "text/html": [
       "<div>\n",
       "<style scoped>\n",
       "    .dataframe tbody tr th:only-of-type {\n",
       "        vertical-align: middle;\n",
       "    }\n",
       "\n",
       "    .dataframe tbody tr th {\n",
       "        vertical-align: top;\n",
       "    }\n",
       "\n",
       "    .dataframe thead th {\n",
       "        text-align: right;\n",
       "    }\n",
       "</style>\n",
       "<table border=\"1\" class=\"dataframe\">\n",
       "  <thead>\n",
       "    <tr style=\"text-align: right;\">\n",
       "      <th></th>\n",
       "      <th>Loss_mae</th>\n",
       "      <th>Threshold</th>\n",
       "      <th>Anomaly</th>\n",
       "    </tr>\n",
       "  </thead>\n",
       "  <tbody>\n",
       "    <tr>\n",
       "      <th>0</th>\n",
       "      <td>0.004295</td>\n",
       "      <td>0.04</td>\n",
       "      <td>False</td>\n",
       "    </tr>\n",
       "    <tr>\n",
       "      <th>1</th>\n",
       "      <td>0.009432</td>\n",
       "      <td>0.04</td>\n",
       "      <td>False</td>\n",
       "    </tr>\n",
       "    <tr>\n",
       "      <th>2</th>\n",
       "      <td>0.006575</td>\n",
       "      <td>0.04</td>\n",
       "      <td>False</td>\n",
       "    </tr>\n",
       "    <tr>\n",
       "      <th>3</th>\n",
       "      <td>0.003956</td>\n",
       "      <td>0.04</td>\n",
       "      <td>False</td>\n",
       "    </tr>\n",
       "    <tr>\n",
       "      <th>4</th>\n",
       "      <td>0.004896</td>\n",
       "      <td>0.04</td>\n",
       "      <td>False</td>\n",
       "    </tr>\n",
       "    <tr>\n",
       "      <th>...</th>\n",
       "      <td>...</td>\n",
       "      <td>...</td>\n",
       "      <td>...</td>\n",
       "    </tr>\n",
       "    <tr>\n",
       "      <th>193843</th>\n",
       "      <td>0.009220</td>\n",
       "      <td>0.04</td>\n",
       "      <td>False</td>\n",
       "    </tr>\n",
       "    <tr>\n",
       "      <th>193844</th>\n",
       "      <td>0.028058</td>\n",
       "      <td>0.04</td>\n",
       "      <td>False</td>\n",
       "    </tr>\n",
       "    <tr>\n",
       "      <th>193845</th>\n",
       "      <td>0.017317</td>\n",
       "      <td>0.04</td>\n",
       "      <td>False</td>\n",
       "    </tr>\n",
       "    <tr>\n",
       "      <th>193846</th>\n",
       "      <td>0.008115</td>\n",
       "      <td>0.04</td>\n",
       "      <td>False</td>\n",
       "    </tr>\n",
       "    <tr>\n",
       "      <th>193847</th>\n",
       "      <td>0.006438</td>\n",
       "      <td>0.04</td>\n",
       "      <td>False</td>\n",
       "    </tr>\n",
       "  </tbody>\n",
       "</table>\n",
       "<p>193848 rows × 3 columns</p>\n",
       "</div>"
      ],
      "text/plain": [
       "        Loss_mae  Threshold  Anomaly\n",
       "0       0.004295       0.04    False\n",
       "1       0.009432       0.04    False\n",
       "2       0.006575       0.04    False\n",
       "3       0.003956       0.04    False\n",
       "4       0.004896       0.04    False\n",
       "...          ...        ...      ...\n",
       "193843  0.009220       0.04    False\n",
       "193844  0.028058       0.04    False\n",
       "193845  0.017317       0.04    False\n",
       "193846  0.008115       0.04    False\n",
       "193847  0.006438       0.04    False\n",
       "\n",
       "[193848 rows x 3 columns]"
      ]
     },
     "execution_count": 18,
     "metadata": {},
     "output_type": "execute_result"
    }
   ],
   "source": [
    "scored_train"
   ]
  },
  {
   "cell_type": "code",
   "execution_count": 19,
   "metadata": {},
   "outputs": [
    {
     "name": "stdout",
     "output_type": "stream",
     "text": [
      "        Loss_mae  Threshold  Anomaly\n",
      "96942   0.048011       0.04     True\n",
      "96957   0.084770       0.04     True\n",
      "96992   0.046025       0.04     True\n",
      "97034   0.073953       0.04     True\n",
      "97141   0.042432       0.04     True\n",
      "...          ...        ...      ...\n",
      "193149  0.048319       0.04     True\n",
      "193184  0.048453       0.04     True\n",
      "193452  0.057634       0.04     True\n",
      "193550  0.046190       0.04     True\n",
      "193698  0.041741       0.04     True\n",
      "\n",
      "[1239 rows x 3 columns]\n",
      "(1239, 3)\n"
     ]
    }
   ],
   "source": [
    "anomalies = scored_train[scored_train['Anomaly'] == True]\n",
    "print(anomalies)\n",
    "print(anomalies.shape)"
   ]
  },
  {
   "cell_type": "code",
   "execution_count": 20,
   "metadata": {},
   "outputs": [
    {
     "data": {
      "image/png": "[encoded data removed]",
      "text/plain": [
       "<Figure size 1152x288 with 1 Axes>"
      ]
     },
     "metadata": {
      "needs_background": "light"
     },
     "output_type": "display_data"
    }
   ],
   "source": [
    "f, (ax1) = plt.subplots(figsize=(16, 4))\n",
    "ax1.plot(scored_train.index, scored_train.Loss_mae, label='Loss(MAE)');\n",
    "ax1.plot(scored_train.index, scored_train.Threshold, label='Threshold')\n",
    "g = sns.scatterplot(x=anomalies.index , y=anomalies.Loss_mae, label='anomaly', color='red')\n",
    "g.set(xlim = (0, len(scored_train.index)))\n",
    "plt.title('Anomalies')\n",
    "plt.xlabel('Data points')\n",
    "plt.ylabel('Loss (MAE)')\n",
    "plt.legend();"
   ]
  },
  {
   "cell_type": "code",
   "execution_count": 21,
   "metadata": {},
   "outputs": [],
   "source": [
    "pred_test = model.predict(test)"
   ]
  },
  {
   "cell_type": "code",
   "execution_count": 22,
   "metadata": {},
   "outputs": [
    {
     "name": "stdout",
     "output_type": "stream",
     "text": [
      "48462/48462 [==============================] - 2s 46us/step\n"
     ]
    },
    {
     "data": {
      "text/plain": [
       "[0.00016768147337455866, 0.9632701873779297]"
      ]
     },
     "execution_count": 22,
     "metadata": {},
     "output_type": "execute_result"
    }
   ],
   "source": [
    "score = model.evaluate(test,test)\n",
    "score"
   ]
  },
  {
   "cell_type": "code",
   "execution_count": 23,
   "metadata": {},
   "outputs": [],
   "source": [
    "pred_test = pred_test.reshape(pred_test.shape[0],pred_test.shape[2])\n",
    "test = test.reshape(test.shape[0],test.shape[2])"
   ]
  },
  {
   "cell_type": "code",
   "execution_count": 24,
   "metadata": {},
   "outputs": [
    {
     "data": {
      "image/png": "[encoded data removed]",
      "text/plain": [
       "<Figure size 432x288 with 1 Axes>"
      ]
     },
     "metadata": {
      "needs_background": "light"
     },
     "output_type": "display_data"
    }
   ],
   "source": [
    "import seaborn as sns\n",
    "\n",
    "scored_test = np.mean(np.abs(pred_test-test), axis = 1)\n",
    "plt.figure()\n",
    "g = sns.distplot(scored_test, bins = 10, kde= True);\n",
    "plt.title('Loss Distribution')\n",
    "plt.xlabel('Loss (MAE)')\n",
    "plt.show()"
   ]
  },
  {
   "cell_type": "code",
   "execution_count": 25,
   "metadata": {},
   "outputs": [
    {
     "data": {
      "text/html": [
       "<div>\n",
       "<style scoped>\n",
       "    .dataframe tbody tr th:only-of-type {\n",
       "        vertical-align: middle;\n",
       "    }\n",
       "\n",
       "    .dataframe tbody tr th {\n",
       "        vertical-align: top;\n",
       "    }\n",
       "\n",
       "    .dataframe thead th {\n",
       "        text-align: right;\n",
       "    }\n",
       "</style>\n",
       "<table border=\"1\" class=\"dataframe\">\n",
       "  <thead>\n",
       "    <tr style=\"text-align: right;\">\n",
       "      <th></th>\n",
       "      <th>Loss_mae</th>\n",
       "      <th>Threshold</th>\n",
       "      <th>Anomaly</th>\n",
       "    </tr>\n",
       "  </thead>\n",
       "  <tbody>\n",
       "    <tr>\n",
       "      <th>0</th>\n",
       "      <td>0.004469</td>\n",
       "      <td>0.04</td>\n",
       "      <td>False</td>\n",
       "    </tr>\n",
       "    <tr>\n",
       "      <th>1</th>\n",
       "      <td>0.006157</td>\n",
       "      <td>0.04</td>\n",
       "      <td>False</td>\n",
       "    </tr>\n",
       "    <tr>\n",
       "      <th>2</th>\n",
       "      <td>0.010950</td>\n",
       "      <td>0.04</td>\n",
       "      <td>False</td>\n",
       "    </tr>\n",
       "    <tr>\n",
       "      <th>3</th>\n",
       "      <td>0.012621</td>\n",
       "      <td>0.04</td>\n",
       "      <td>False</td>\n",
       "    </tr>\n",
       "    <tr>\n",
       "      <th>4</th>\n",
       "      <td>0.001381</td>\n",
       "      <td>0.04</td>\n",
       "      <td>False</td>\n",
       "    </tr>\n",
       "    <tr>\n",
       "      <th>...</th>\n",
       "      <td>...</td>\n",
       "      <td>...</td>\n",
       "      <td>...</td>\n",
       "    </tr>\n",
       "    <tr>\n",
       "      <th>48457</th>\n",
       "      <td>0.006165</td>\n",
       "      <td>0.04</td>\n",
       "      <td>False</td>\n",
       "    </tr>\n",
       "    <tr>\n",
       "      <th>48458</th>\n",
       "      <td>0.005912</td>\n",
       "      <td>0.04</td>\n",
       "      <td>False</td>\n",
       "    </tr>\n",
       "    <tr>\n",
       "      <th>48459</th>\n",
       "      <td>0.009731</td>\n",
       "      <td>0.04</td>\n",
       "      <td>False</td>\n",
       "    </tr>\n",
       "    <tr>\n",
       "      <th>48460</th>\n",
       "      <td>0.006534</td>\n",
       "      <td>0.04</td>\n",
       "      <td>False</td>\n",
       "    </tr>\n",
       "    <tr>\n",
       "      <th>48461</th>\n",
       "      <td>0.006336</td>\n",
       "      <td>0.04</td>\n",
       "      <td>False</td>\n",
       "    </tr>\n",
       "  </tbody>\n",
       "</table>\n",
       "<p>48462 rows × 3 columns</p>\n",
       "</div>"
      ],
      "text/plain": [
       "       Loss_mae  Threshold  Anomaly\n",
       "0      0.004469       0.04    False\n",
       "1      0.006157       0.04    False\n",
       "2      0.010950       0.04    False\n",
       "3      0.012621       0.04    False\n",
       "4      0.001381       0.04    False\n",
       "...         ...        ...      ...\n",
       "48457  0.006165       0.04    False\n",
       "48458  0.005912       0.04    False\n",
       "48459  0.009731       0.04    False\n",
       "48460  0.006534       0.04    False\n",
       "48461  0.006336       0.04    False\n",
       "\n",
       "[48462 rows x 3 columns]"
      ]
     },
     "execution_count": 25,
     "metadata": {},
     "output_type": "execute_result"
    }
   ],
   "source": [
    "scored_test = pd.DataFrame()\n",
    "scored_test['Loss_mae'] = np.mean(np.abs(pred_test-test), axis = 1)\n",
    "scored_test['Threshold'] = TH\n",
    "scored_test['Anomaly'] = scored_test['Loss_mae'] > scored_test['Threshold']\n",
    "\n",
    "scored_test"
   ]
  },
  {
   "cell_type": "code",
   "execution_count": 26,
   "metadata": {},
   "outputs": [
    {
     "data": {
      "text/plain": [
       "0.008934638598789938"
      ]
     },
     "execution_count": 26,
     "metadata": {},
     "output_type": "execute_result"
    }
   ],
   "source": [
    "scored_test['Loss_mae'].mean()"
   ]
  },
  {
   "cell_type": "code",
   "execution_count": 27,
   "metadata": {},
   "outputs": [
    {
     "data": {
      "text/plain": [
       "Text(0, 0.5, 'Loss (MAE)')"
      ]
     },
     "execution_count": 27,
     "metadata": {},
     "output_type": "execute_result"
    },
    {
     "data": {
      "image/png": "[encoded data removed]",
      "text/plain": [
       "<Figure size 1152x288 with 1 Axes>"
      ]
     },
     "metadata": {
      "needs_background": "light"
     },
     "output_type": "display_data"
    }
   ],
   "source": [
    "scored_test.plot(logy=True,  figsize = (16,4), xlim =[0,len(scored_test)])\n",
    "plt.xlabel('Data points')\n",
    "plt.ylabel('Loss (MAE)')"
   ]
  },
  {
   "cell_type": "code",
   "execution_count": 28,
   "metadata": {},
   "outputs": [
    {
     "name": "stdout",
     "output_type": "stream",
     "text": [
      "       Loss_mae  Threshold  Anomaly\n",
      "24236  0.045971       0.04     True\n",
      "24347  0.047062       0.04     True\n",
      "24446  0.059300       0.04     True\n",
      "24459  0.047777       0.04     True\n",
      "24504  0.046869       0.04     True\n",
      "...         ...        ...      ...\n",
      "48259  0.043463       0.04     True\n",
      "48298  0.043772       0.04     True\n",
      "48339  0.086465       0.04     True\n",
      "48389  0.053578       0.04     True\n",
      "48416  0.057603       0.04     True\n",
      "\n",
      "[350 rows x 3 columns]\n",
      "(350, 3)\n"
     ]
    }
   ],
   "source": [
    "IR_anomalies = scored_test[scored_test['Anomaly'] == True]\n",
    "print(IR_anomalies)\n",
    "print(IR_anomalies.shape)"
   ]
  },
  {
   "cell_type": "code",
   "execution_count": 29,
   "metadata": {},
   "outputs": [
    {
     "data": {
      "image/png": "[encoded data removed]",
      "text/plain": [
       "<Figure size 1296x432 with 1 Axes>"
      ]
     },
     "metadata": {
      "needs_background": "light"
     },
     "output_type": "display_data"
    }
   ],
   "source": [
    "f, (ax2) = plt.subplots(figsize=(18, 6))\n",
    "ax2.plot(scored_test.index, scored_test.Loss_mae, label='Loss(MAE)');\n",
    "ax2.plot(scored_test.index, scored_test.Threshold, label='Threshold')\n",
    "g = sns.scatterplot(x=IR_anomalies.index , y=IR_anomalies.Loss_mae, label='anomaly', color='red')\n",
    "g.set(xlim = (0, len(scored_test.index)))\n",
    "plt.title('Anomalies')\n",
    "plt.xlabel('Data points')\n",
    "plt.ylabel('Loss (MAE)')\n",
    "plt.legend();"
   ]
  },
  {
   "cell_type": "code",
   "execution_count": 30,
   "metadata": {},
   "outputs": [
    {
     "name": "stdout",
     "output_type": "stream",
     "text": [
      "0.9632701873779297\n"
     ]
    }
   ],
   "source": [
    "print(score[1])"
   ]
  },
  {
   "cell_type": "code",
   "execution_count": 31,
   "metadata": {},
   "outputs": [
    {
     "name": "stdout",
     "output_type": "stream",
     "text": [
      "Accuracy: 96.33%\n"
     ]
    }
   ],
   "source": [
    "print(\"Accuracy: {:.2f}%\".format(score[1]*100))"
   ]
  },
  {
   "cell_type": "code",
   "execution_count": 32,
   "metadata": {},
   "outputs": [
    {
     "name": "stdout",
     "output_type": "stream",
     "text": [
      "Anomalies: 350\n"
     ]
    }
   ],
   "source": [
    "print(\"Anomalies: {}\".format(IR_anomalies['Anomaly'].count()))"
   ]
  },
  {
   "cell_type": "code",
   "execution_count": 33,
   "metadata": {},
   "outputs": [],
   "source": [
    "# Seperating Normal and Faulty dataset\n",
    "x = scored_test['Anomaly'].count() / 2"
   ]
  },
  {
   "cell_type": "code",
   "execution_count": 34,
   "metadata": {},
   "outputs": [
    {
     "data": {
      "text/html": [
       "<div>\n",
       "<style scoped>\n",
       "    .dataframe tbody tr th:only-of-type {\n",
       "        vertical-align: middle;\n",
       "    }\n",
       "\n",
       "    .dataframe tbody tr th {\n",
       "        vertical-align: top;\n",
       "    }\n",
       "\n",
       "    .dataframe thead th {\n",
       "        text-align: right;\n",
       "    }\n",
       "</style>\n",
       "<table border=\"1\" class=\"dataframe\">\n",
       "  <thead>\n",
       "    <tr style=\"text-align: right;\">\n",
       "      <th></th>\n",
       "      <th>Loss_mae</th>\n",
       "      <th>Threshold</th>\n",
       "      <th>Anomaly</th>\n",
       "    </tr>\n",
       "  </thead>\n",
       "  <tbody>\n",
       "    <tr>\n",
       "      <th>0</th>\n",
       "      <td>0.004469</td>\n",
       "      <td>0.04</td>\n",
       "      <td>False</td>\n",
       "    </tr>\n",
       "    <tr>\n",
       "      <th>1</th>\n",
       "      <td>0.006157</td>\n",
       "      <td>0.04</td>\n",
       "      <td>False</td>\n",
       "    </tr>\n",
       "    <tr>\n",
       "      <th>2</th>\n",
       "      <td>0.010950</td>\n",
       "      <td>0.04</td>\n",
       "      <td>False</td>\n",
       "    </tr>\n",
       "    <tr>\n",
       "      <th>3</th>\n",
       "      <td>0.012621</td>\n",
       "      <td>0.04</td>\n",
       "      <td>False</td>\n",
       "    </tr>\n",
       "    <tr>\n",
       "      <th>4</th>\n",
       "      <td>0.001381</td>\n",
       "      <td>0.04</td>\n",
       "      <td>False</td>\n",
       "    </tr>\n",
       "    <tr>\n",
       "      <th>...</th>\n",
       "      <td>...</td>\n",
       "      <td>...</td>\n",
       "      <td>...</td>\n",
       "    </tr>\n",
       "    <tr>\n",
       "      <th>24226</th>\n",
       "      <td>0.011776</td>\n",
       "      <td>0.04</td>\n",
       "      <td>False</td>\n",
       "    </tr>\n",
       "    <tr>\n",
       "      <th>24227</th>\n",
       "      <td>0.007734</td>\n",
       "      <td>0.04</td>\n",
       "      <td>False</td>\n",
       "    </tr>\n",
       "    <tr>\n",
       "      <th>24228</th>\n",
       "      <td>0.005965</td>\n",
       "      <td>0.04</td>\n",
       "      <td>False</td>\n",
       "    </tr>\n",
       "    <tr>\n",
       "      <th>24229</th>\n",
       "      <td>0.009470</td>\n",
       "      <td>0.04</td>\n",
       "      <td>False</td>\n",
       "    </tr>\n",
       "    <tr>\n",
       "      <th>24230</th>\n",
       "      <td>0.006910</td>\n",
       "      <td>0.04</td>\n",
       "      <td>False</td>\n",
       "    </tr>\n",
       "  </tbody>\n",
       "</table>\n",
       "<p>24231 rows × 3 columns</p>\n",
       "</div>"
      ],
      "text/plain": [
       "       Loss_mae  Threshold  Anomaly\n",
       "0      0.004469       0.04    False\n",
       "1      0.006157       0.04    False\n",
       "2      0.010950       0.04    False\n",
       "3      0.012621       0.04    False\n",
       "4      0.001381       0.04    False\n",
       "...         ...        ...      ...\n",
       "24226  0.011776       0.04    False\n",
       "24227  0.007734       0.04    False\n",
       "24228  0.005965       0.04    False\n",
       "24229  0.009470       0.04    False\n",
       "24230  0.006910       0.04    False\n",
       "\n",
       "[24231 rows x 3 columns]"
      ]
     },
     "execution_count": 34,
     "metadata": {},
     "output_type": "execute_result"
    }
   ],
   "source": [
    "normal_test = scored_test[scored_test.index < x]\n",
    "normal_test"
   ]
  },
  {
   "cell_type": "code",
   "execution_count": 35,
   "metadata": {},
   "outputs": [
    {
     "data": {
      "text/html": [
       "<div>\n",
       "<style scoped>\n",
       "    .dataframe tbody tr th:only-of-type {\n",
       "        vertical-align: middle;\n",
       "    }\n",
       "\n",
       "    .dataframe tbody tr th {\n",
       "        vertical-align: top;\n",
       "    }\n",
       "\n",
       "    .dataframe thead th {\n",
       "        text-align: right;\n",
       "    }\n",
       "</style>\n",
       "<table border=\"1\" class=\"dataframe\">\n",
       "  <thead>\n",
       "    <tr style=\"text-align: right;\">\n",
       "      <th></th>\n",
       "      <th>Loss_mae</th>\n",
       "      <th>Threshold</th>\n",
       "      <th>Anomaly</th>\n",
       "    </tr>\n",
       "  </thead>\n",
       "  <tbody>\n",
       "    <tr>\n",
       "      <th>24231</th>\n",
       "      <td>0.004791</td>\n",
       "      <td>0.04</td>\n",
       "      <td>False</td>\n",
       "    </tr>\n",
       "    <tr>\n",
       "      <th>24232</th>\n",
       "      <td>0.010997</td>\n",
       "      <td>0.04</td>\n",
       "      <td>False</td>\n",
       "    </tr>\n",
       "    <tr>\n",
       "      <th>24233</th>\n",
       "      <td>0.004732</td>\n",
       "      <td>0.04</td>\n",
       "      <td>False</td>\n",
       "    </tr>\n",
       "    <tr>\n",
       "      <th>24234</th>\n",
       "      <td>0.006876</td>\n",
       "      <td>0.04</td>\n",
       "      <td>False</td>\n",
       "    </tr>\n",
       "    <tr>\n",
       "      <th>24235</th>\n",
       "      <td>0.006204</td>\n",
       "      <td>0.04</td>\n",
       "      <td>False</td>\n",
       "    </tr>\n",
       "    <tr>\n",
       "      <th>...</th>\n",
       "      <td>...</td>\n",
       "      <td>...</td>\n",
       "      <td>...</td>\n",
       "    </tr>\n",
       "    <tr>\n",
       "      <th>48457</th>\n",
       "      <td>0.006165</td>\n",
       "      <td>0.04</td>\n",
       "      <td>False</td>\n",
       "    </tr>\n",
       "    <tr>\n",
       "      <th>48458</th>\n",
       "      <td>0.005912</td>\n",
       "      <td>0.04</td>\n",
       "      <td>False</td>\n",
       "    </tr>\n",
       "    <tr>\n",
       "      <th>48459</th>\n",
       "      <td>0.009731</td>\n",
       "      <td>0.04</td>\n",
       "      <td>False</td>\n",
       "    </tr>\n",
       "    <tr>\n",
       "      <th>48460</th>\n",
       "      <td>0.006534</td>\n",
       "      <td>0.04</td>\n",
       "      <td>False</td>\n",
       "    </tr>\n",
       "    <tr>\n",
       "      <th>48461</th>\n",
       "      <td>0.006336</td>\n",
       "      <td>0.04</td>\n",
       "      <td>False</td>\n",
       "    </tr>\n",
       "  </tbody>\n",
       "</table>\n",
       "<p>24231 rows × 3 columns</p>\n",
       "</div>"
      ],
      "text/plain": [
       "       Loss_mae  Threshold  Anomaly\n",
       "24231  0.004791       0.04    False\n",
       "24232  0.010997       0.04    False\n",
       "24233  0.004732       0.04    False\n",
       "24234  0.006876       0.04    False\n",
       "24235  0.006204       0.04    False\n",
       "...         ...        ...      ...\n",
       "48457  0.006165       0.04    False\n",
       "48458  0.005912       0.04    False\n",
       "48459  0.009731       0.04    False\n",
       "48460  0.006534       0.04    False\n",
       "48461  0.006336       0.04    False\n",
       "\n",
       "[24231 rows x 3 columns]"
      ]
     },
     "execution_count": 35,
     "metadata": {},
     "output_type": "execute_result"
    }
   ],
   "source": [
    "IR_test = scored_test[scored_test.index >= x]\n",
    "IR_test"
   ]
  },
  {
   "cell_type": "code",
   "execution_count": 36,
   "metadata": {},
   "outputs": [
    {
     "name": "stdout",
     "output_type": "stream",
     "text": [
      "True Positives: 24231\n",
      "False Positives: 0\n",
      "True Negatives: 350\n",
      "False Negatives: 23881\n"
     ]
    }
   ],
   "source": [
    "TP = normal_test[normal_test['Anomaly'] == False]\n",
    "TP = TP['Anomaly'].count()\n",
    "print(\"True Positives: {}\".format(TP))\n",
    "\n",
    "FP = normal_test[normal_test['Anomaly'] == True]\n",
    "FP = FP['Anomaly'].count()\n",
    "print(\"False Positives: {}\".format(FP))\n",
    "\n",
    "TN = IR_test[IR_test['Anomaly'] == True]\n",
    "TN = TN['Anomaly'].count()\n",
    "print(\"True Negatives: {}\".format(TN))\n",
    "\n",
    "FN = IR_test[IR_test['Anomaly'] == False]\n",
    "FN = FN['Anomaly'].count()\n",
    "print(\"False Negatives: {}\".format(FN))"
   ]
  },
  {
   "cell_type": "code",
   "execution_count": 37,
   "metadata": {},
   "outputs": [
    {
     "name": "stdout",
     "output_type": "stream",
     "text": [
      "Precision: 100.00%\n",
      "Recall: 50.364%\n",
      "F1 Score: 66.99%\n",
      "Accuracy: 50.72%\n"
     ]
    }
   ],
   "source": [
    "Precision = TP / (TP + FP)\n",
    "print(\"Precision: {:.2f}%\".format(Precision*100))\n",
    "\n",
    "Recall = TP / (TP + FN)\n",
    "print(\"Recall: {:.3f}%\".format(Recall*100))\n",
    "\n",
    "F1Score = (2*Precision*Recall)/(Precision+Recall)\n",
    "print(\"F1 Score: {:.2f}%\".format(F1Score*100))\n",
    "\n",
    "Accuracy = ( TP + TN ) / ( TP + TN + FN + FP )\n",
    "print(\"Accuracy: {:.2f}%\".format(Accuracy*100))"
   ]
  },
  {
   "cell_type": "code",
   "execution_count": null,
   "metadata": {},
   "outputs": [],
   "source": []
  }
 ],
 "metadata": {
  "kernelspec": {
   "display_name": "Python 3",
   "language": "python",
   "name": "python3"
  },
  "language_info": {
   "codemirror_mode": {
    "name": "ipython",
    "version": 3
   },
   "file_extension": ".py",
   "mimetype": "text/x-python",
   "name": "python",
   "nbconvert_exporter": "python",
   "pygments_lexer": "ipython3",
   "version": "3.7.4"
  }
 },
 "nbformat": 4,
 "nbformat_minor": 4
}
