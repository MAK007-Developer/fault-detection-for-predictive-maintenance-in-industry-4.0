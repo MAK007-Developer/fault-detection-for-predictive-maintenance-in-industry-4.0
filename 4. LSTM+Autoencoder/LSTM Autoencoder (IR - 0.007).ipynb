{
 "cells": [
  {
   "cell_type": "code",
   "execution_count": 1,
   "metadata": {},
   "outputs": [],
   "source": [
    "#importing packages\n",
    "import pandas as pd\n",
    "import numpy as np"
   ]
  },
  {
   "cell_type": "code",
   "execution_count": 2,
   "metadata": {},
   "outputs": [],
   "source": [
    "# Importing the dataset\n",
    "X = pd.read_csv('../Datasets/NB.csv')\n",
    "X['Fault'] = 0\n",
    "\n",
    "y = pd.read_csv('../Datasets/IR - 7.csv')\n",
    "y['Fault'] = 1"
   ]
  },
  {
   "cell_type": "code",
   "execution_count": 3,
   "metadata": {},
   "outputs": [],
   "source": [
    "from sklearn.model_selection import train_test_split\n",
    "X_train, X_test = train_test_split(X, test_size = 0.2, random_state = 0)\n",
    "\n",
    "y_train, y_test = train_test_split(y, test_size = 0.2, random_state = 0)"
   ]
  },
  {
   "cell_type": "code",
   "execution_count": 4,
   "metadata": {},
   "outputs": [
    {
     "data": {
      "text/html": [
       "<div>\n",
       "<style scoped>\n",
       "    .dataframe tbody tr th:only-of-type {\n",
       "        vertical-align: middle;\n",
       "    }\n",
       "\n",
       "    .dataframe tbody tr th {\n",
       "        vertical-align: top;\n",
       "    }\n",
       "\n",
       "    .dataframe thead th {\n",
       "        text-align: right;\n",
       "    }\n",
       "</style>\n",
       "<table border=\"1\" class=\"dataframe\">\n",
       "  <thead>\n",
       "    <tr style=\"text-align: right;\">\n",
       "      <th></th>\n",
       "      <th>DE</th>\n",
       "      <th>FE</th>\n",
       "      <th>Fault</th>\n",
       "    </tr>\n",
       "  </thead>\n",
       "  <tbody>\n",
       "    <tr>\n",
       "      <th>103476</th>\n",
       "      <td>0.062585</td>\n",
       "      <td>0.041091</td>\n",
       "      <td>0</td>\n",
       "    </tr>\n",
       "    <tr>\n",
       "      <th>96984</th>\n",
       "      <td>-0.075102</td>\n",
       "      <td>-0.013765</td>\n",
       "      <td>0</td>\n",
       "    </tr>\n",
       "    <tr>\n",
       "      <th>114732</th>\n",
       "      <td>-0.048190</td>\n",
       "      <td>-0.001233</td>\n",
       "      <td>0</td>\n",
       "    </tr>\n",
       "    <tr>\n",
       "      <th>10916</th>\n",
       "      <td>0.069260</td>\n",
       "      <td>0.028558</td>\n",
       "      <td>0</td>\n",
       "    </tr>\n",
       "    <tr>\n",
       "      <th>37646</th>\n",
       "      <td>0.040054</td>\n",
       "      <td>0.065335</td>\n",
       "      <td>0</td>\n",
       "    </tr>\n",
       "    <tr>\n",
       "      <th>...</th>\n",
       "      <td>...</td>\n",
       "      <td>...</td>\n",
       "      <td>...</td>\n",
       "    </tr>\n",
       "    <tr>\n",
       "      <th>45891</th>\n",
       "      <td>0.110131</td>\n",
       "      <td>-0.312085</td>\n",
       "      <td>1</td>\n",
       "    </tr>\n",
       "    <tr>\n",
       "      <th>117952</th>\n",
       "      <td>-0.909962</td>\n",
       "      <td>-0.030202</td>\n",
       "      <td>1</td>\n",
       "    </tr>\n",
       "    <tr>\n",
       "      <th>42613</th>\n",
       "      <td>0.676380</td>\n",
       "      <td>0.007396</td>\n",
       "      <td>1</td>\n",
       "    </tr>\n",
       "    <tr>\n",
       "      <th>43567</th>\n",
       "      <td>0.011208</td>\n",
       "      <td>0.209975</td>\n",
       "      <td>1</td>\n",
       "    </tr>\n",
       "    <tr>\n",
       "      <th>68268</th>\n",
       "      <td>0.112405</td>\n",
       "      <td>0.265447</td>\n",
       "      <td>1</td>\n",
       "    </tr>\n",
       "  </tbody>\n",
       "</table>\n",
       "<p>193848 rows × 3 columns</p>\n",
       "</div>"
      ],
      "text/plain": [
       "              DE        FE  Fault\n",
       "103476  0.062585  0.041091      0\n",
       "96984  -0.075102 -0.013765      0\n",
       "114732 -0.048190 -0.001233      0\n",
       "10916   0.069260  0.028558      0\n",
       "37646   0.040054  0.065335      0\n",
       "...          ...       ...    ...\n",
       "45891   0.110131 -0.312085      1\n",
       "117952 -0.909962 -0.030202      1\n",
       "42613   0.676380  0.007396      1\n",
       "43567   0.011208  0.209975      1\n",
       "68268   0.112405  0.265447      1\n",
       "\n",
       "[193848 rows x 3 columns]"
      ]
     },
     "execution_count": 4,
     "metadata": {},
     "output_type": "execute_result"
    }
   ],
   "source": [
    "train = X_train.append(y_train)\n",
    "train"
   ]
  },
  {
   "cell_type": "code",
   "execution_count": 5,
   "metadata": {},
   "outputs": [
    {
     "data": {
      "text/html": [
       "<div>\n",
       "<style scoped>\n",
       "    .dataframe tbody tr th:only-of-type {\n",
       "        vertical-align: middle;\n",
       "    }\n",
       "\n",
       "    .dataframe tbody tr th {\n",
       "        vertical-align: top;\n",
       "    }\n",
       "\n",
       "    .dataframe thead th {\n",
       "        text-align: right;\n",
       "    }\n",
       "</style>\n",
       "<table border=\"1\" class=\"dataframe\">\n",
       "  <thead>\n",
       "    <tr style=\"text-align: right;\">\n",
       "      <th></th>\n",
       "      <th>DE</th>\n",
       "      <th>FE</th>\n",
       "      <th>Fault</th>\n",
       "    </tr>\n",
       "  </thead>\n",
       "  <tbody>\n",
       "    <tr>\n",
       "      <th>121079</th>\n",
       "      <td>0.046313</td>\n",
       "      <td>0.054651</td>\n",
       "      <td>0</td>\n",
       "    </tr>\n",
       "    <tr>\n",
       "      <th>107924</th>\n",
       "      <td>-0.015855</td>\n",
       "      <td>0.061636</td>\n",
       "      <td>0</td>\n",
       "    </tr>\n",
       "    <tr>\n",
       "      <th>22678</th>\n",
       "      <td>-0.065297</td>\n",
       "      <td>0.122862</td>\n",
       "      <td>0</td>\n",
       "    </tr>\n",
       "    <tr>\n",
       "      <th>55190</th>\n",
       "      <td>-0.112652</td>\n",
       "      <td>0.066978</td>\n",
       "      <td>0</td>\n",
       "    </tr>\n",
       "    <tr>\n",
       "      <th>92048</th>\n",
       "      <td>0.023991</td>\n",
       "      <td>0.034105</td>\n",
       "      <td>0</td>\n",
       "    </tr>\n",
       "    <tr>\n",
       "      <th>...</th>\n",
       "      <td>...</td>\n",
       "      <td>...</td>\n",
       "      <td>...</td>\n",
       "    </tr>\n",
       "    <tr>\n",
       "      <th>103358</th>\n",
       "      <td>0.019330</td>\n",
       "      <td>0.088962</td>\n",
       "      <td>1</td>\n",
       "    </tr>\n",
       "    <tr>\n",
       "      <th>54412</th>\n",
       "      <td>-0.072284</td>\n",
       "      <td>0.288664</td>\n",
       "      <td>1</td>\n",
       "    </tr>\n",
       "    <tr>\n",
       "      <th>50632</th>\n",
       "      <td>0.259571</td>\n",
       "      <td>-0.293184</td>\n",
       "      <td>1</td>\n",
       "    </tr>\n",
       "    <tr>\n",
       "      <th>89251</th>\n",
       "      <td>0.010883</td>\n",
       "      <td>-0.042324</td>\n",
       "      <td>1</td>\n",
       "    </tr>\n",
       "    <tr>\n",
       "      <th>65637</th>\n",
       "      <td>0.018030</td>\n",
       "      <td>-0.144845</td>\n",
       "      <td>1</td>\n",
       "    </tr>\n",
       "  </tbody>\n",
       "</table>\n",
       "<p>48462 rows × 3 columns</p>\n",
       "</div>"
      ],
      "text/plain": [
       "              DE        FE  Fault\n",
       "121079  0.046313  0.054651      0\n",
       "107924 -0.015855  0.061636      0\n",
       "22678  -0.065297  0.122862      0\n",
       "55190  -0.112652  0.066978      0\n",
       "92048   0.023991  0.034105      0\n",
       "...          ...       ...    ...\n",
       "103358  0.019330  0.088962      1\n",
       "54412  -0.072284  0.288664      1\n",
       "50632   0.259571 -0.293184      1\n",
       "89251   0.010883 -0.042324      1\n",
       "65637   0.018030 -0.144845      1\n",
       "\n",
       "[48462 rows x 3 columns]"
      ]
     },
     "execution_count": 5,
     "metadata": {},
     "output_type": "execute_result"
    }
   ],
   "source": [
    "test = X_test.append(y_test)\n",
    "test"
   ]
  },
  {
   "cell_type": "code",
   "execution_count": 6,
   "metadata": {},
   "outputs": [],
   "source": [
    "from sklearn.preprocessing import MinMaxScaler\n",
    "scaler = MinMaxScaler()\n",
    "train = pd.DataFrame(scaler.fit_transform(train))\n",
    "train.sample(frac=1)\n",
    "\n",
    "test = pd.DataFrame(scaler.transform(test))"
   ]
  },
  {
   "cell_type": "code",
   "execution_count": 7,
   "metadata": {},
   "outputs": [],
   "source": [
    "train = train.values.reshape(-1, 1, 3)\n",
    "\n",
    "test  = test.values.reshape(-1, 1, 3)"
   ]
  },
  {
   "cell_type": "code",
   "execution_count": 8,
   "metadata": {},
   "outputs": [
    {
     "name": "stderr",
     "output_type": "stream",
     "text": [
      "Using TensorFlow backend.\n"
     ]
    }
   ],
   "source": [
    "from keras.layers import Input, Dropout, Dense, LSTM, RepeatVector, TimeDistributed\n",
    "from keras.models import Model, Sequential, load_model\n",
    "from keras import regularizers"
   ]
  },
  {
   "cell_type": "code",
   "execution_count": 9,
   "metadata": {},
   "outputs": [
    {
     "name": "stdout",
     "output_type": "stream",
     "text": [
      "Model: \"sequential_1\"\n",
      "_________________________________________________________________\n",
      "Layer (type)                 Output Shape              Param #   \n",
      "=================================================================\n",
      "lstm_1 (LSTM)                (None, 32)                4608      \n",
      "_________________________________________________________________\n",
      "dropout_1 (Dropout)          (None, 32)                0         \n",
      "_________________________________________________________________\n",
      "repeat_vector_1 (RepeatVecto (None, 1, 32)             0         \n",
      "_________________________________________________________________\n",
      "lstm_2 (LSTM)                (None, 1, 32)             8320      \n",
      "_________________________________________________________________\n",
      "dropout_2 (Dropout)          (None, 1, 32)             0         \n",
      "_________________________________________________________________\n",
      "time_distributed_1 (TimeDist (None, 1, 3)              99        \n",
      "=================================================================\n",
      "Total params: 13,027\n",
      "Trainable params: 13,027\n",
      "Non-trainable params: 0\n",
      "_________________________________________________________________\n"
     ]
    }
   ],
   "source": [
    "# Input layer:\n",
    "model=Sequential([\n",
    "    LSTM(32, activation='relu', input_shape=(train.shape[1],train.shape[2])),\n",
    "    Dropout(0.2),\n",
    "    RepeatVector(train.shape[1]),\n",
    "    LSTM(32, activation='relu', return_sequences=True),\n",
    "    Dropout(0.2),\n",
    "    TimeDistributed(Dense(train.shape[2]))\n",
    "])\n",
    "\n",
    "model.compile(loss='mse',optimizer='adam', metrics=['accuracy'])\n",
    "model.summary()"
   ]
  },
  {
   "cell_type": "code",
   "execution_count": 10,
   "metadata": {
    "scrolled": true
   },
   "outputs": [
    {
     "name": "stdout",
     "output_type": "stream",
     "text": [
      "Train on 174463 samples, validate on 19385 samples\n",
      "Epoch 1/100\n",
      "174463/174463 [==============================] - 3s 19us/step - loss: 0.1213 - accuracy: 0.4597 - val_loss: 0.0097 - val_accuracy: 1.0000\n",
      "Epoch 2/100\n",
      "174463/174463 [==============================] - 3s 15us/step - loss: 0.0147 - accuracy: 0.7372 - val_loss: 0.0063 - val_accuracy: 1.0000\n",
      "Epoch 3/100\n",
      "174463/174463 [==============================] - 3s 18us/step - loss: 0.0114 - accuracy: 0.7842 - val_loss: 0.0061 - val_accuracy: 1.0000\n",
      "Epoch 4/100\n",
      "174463/174463 [==============================] - 3s 19us/step - loss: 0.0100 - accuracy: 0.7915 - val_loss: 0.0051 - val_accuracy: 1.0000\n",
      "Epoch 5/100\n",
      "174463/174463 [==============================] - 4s 22us/step - loss: 0.0088 - accuracy: 0.7964 - val_loss: 0.0045 - val_accuracy: 1.0000\n",
      "Epoch 6/100\n",
      "174463/174463 [==============================] - 4s 22us/step - loss: 0.0080 - accuracy: 0.8019 - val_loss: 0.0039 - val_accuracy: 1.0000\n",
      "Epoch 7/100\n",
      "174463/174463 [==============================] - 4s 22us/step - loss: 0.0073 - accuracy: 0.8058 - val_loss: 0.0036 - val_accuracy: 1.0000\n",
      "Epoch 8/100\n",
      "174463/174463 [==============================] - 4s 21us/step - loss: 0.0067 - accuracy: 0.8105 - val_loss: 0.0033 - val_accuracy: 1.0000\n",
      "Epoch 9/100\n",
      "174463/174463 [==============================] - ETA: 0s - loss: 0.0062 - accuracy: 0.81 - 4s 20us/step - loss: 0.0062 - accuracy: 0.8145 - val_loss: 0.0030 - val_accuracy: 1.0000\n",
      "Epoch 10/100\n",
      "174463/174463 [==============================] - 4s 21us/step - loss: 0.0058 - accuracy: 0.8159 - val_loss: 0.0025 - val_accuracy: 1.0000\n",
      "Epoch 11/100\n",
      "174463/174463 [==============================] - 4s 21us/step - loss: 0.0053 - accuracy: 0.8176 - val_loss: 0.0020 - val_accuracy: 1.0000\n",
      "Epoch 12/100\n",
      "174463/174463 [==============================] - 4s 23us/step - loss: 0.0048 - accuracy: 0.8194 - val_loss: 0.0017 - val_accuracy: 1.0000\n",
      "Epoch 13/100\n",
      "174463/174463 [==============================] - 4s 21us/step - loss: 0.0045 - accuracy: 0.8201 - val_loss: 0.0014 - val_accuracy: 0.9999\n",
      "Epoch 14/100\n",
      "174463/174463 [==============================] - 4s 20us/step - loss: 0.0043 - accuracy: 0.8199 - val_loss: 0.0013 - val_accuracy: 0.9998\n",
      "Epoch 15/100\n",
      "174463/174463 [==============================] - 4s 22us/step - loss: 0.0040 - accuracy: 0.8205 - val_loss: 0.0012 - val_accuracy: 0.9996\n",
      "Epoch 16/100\n",
      "174463/174463 [==============================] - 4s 21us/step - loss: 0.0039 - accuracy: 0.8207 - val_loss: 0.0011 - val_accuracy: 0.9998\n",
      "Epoch 17/100\n",
      "174463/174463 [==============================] - 4s 25us/step - loss: 0.0037 - accuracy: 0.8215 - val_loss: 0.0010 - val_accuracy: 0.9998\n",
      "Epoch 18/100\n",
      "174463/174463 [==============================] - 4s 25us/step - loss: 0.0036 - accuracy: 0.8217 - val_loss: 9.6766e-04 - val_accuracy: 0.9999\n",
      "Epoch 19/100\n",
      "174463/174463 [==============================] - 5s 28us/step - loss: 0.0035 - accuracy: 0.8227 - val_loss: 8.8616e-04 - val_accuracy: 0.9999\n",
      "Epoch 20/100\n",
      "174463/174463 [==============================] - 5s 30us/step - loss: 0.0034 - accuracy: 0.8246 - val_loss: 7.6213e-04 - val_accuracy: 0.9999\n",
      "Epoch 21/100\n",
      "174463/174463 [==============================] - 5s 27us/step - loss: 0.0032 - accuracy: 0.8281 - val_loss: 6.5488e-04 - val_accuracy: 1.0000\n",
      "Epoch 22/100\n",
      "174463/174463 [==============================] - 5s 26us/step - loss: 0.0030 - accuracy: 0.8316 - val_loss: 4.8004e-04 - val_accuracy: 1.0000\n",
      "Epoch 23/100\n",
      "174463/174463 [==============================] - 5s 29us/step - loss: 0.0029 - accuracy: 0.8327 - val_loss: 4.9937e-04 - val_accuracy: 1.0000\n",
      "Epoch 24/100\n",
      "174463/174463 [==============================] - 4s 25us/step - loss: 0.0029 - accuracy: 0.8356 - val_loss: 4.8742e-04 - val_accuracy: 1.0000\n",
      "Epoch 25/100\n",
      " 10000/174463 [>.............................] - ETA: 9s - loss: 0.0028 - accuracy: 0.8296 "
     ]
    },
    {
     "name": "stderr",
     "output_type": "stream",
     "text": [
      "C:\\Users\\leste\\Anaconda3\\lib\\site-packages\\keras\\callbacks\\callbacks.py:95: RuntimeWarning: Method (on_train_batch_end) is slow compared to the batch update (0.103723). Check your callbacks.\n",
      "  % (hook_name, delta_t_median), RuntimeWarning)\n"
     ]
    },
    {
     "name": "stdout",
     "output_type": "stream",
     "text": [
      "174463/174463 [==============================] - 5s 28us/step - loss: 0.0028 - accuracy: 0.8366 - val_loss: 5.0797e-04 - val_accuracy: 0.9999\n",
      "Epoch 26/100\n",
      "174463/174463 [==============================] - 5s 26us/step - loss: 0.0028 - accuracy: 0.8392 - val_loss: 4.4436e-04 - val_accuracy: 1.0000\n",
      "Epoch 27/100\n",
      "174463/174463 [==============================] - 5s 26us/step - loss: 0.0028 - accuracy: 0.8410 - val_loss: 4.9663e-04 - val_accuracy: 0.9999\n",
      "Epoch 28/100\n",
      "174463/174463 [==============================] - 5s 27us/step - loss: 0.0028 - accuracy: 0.8422 - val_loss: 4.3132e-04 - val_accuracy: 0.9999\n",
      "Epoch 29/100\n",
      "174463/174463 [==============================] - 4s 26us/step - loss: 0.0027 - accuracy: 0.8435 - val_loss: 4.5194e-04 - val_accuracy: 0.9999\n",
      "Epoch 30/100\n",
      "174463/174463 [==============================] - 5s 26us/step - loss: 0.0027 - accuracy: 0.8439 - val_loss: 4.1946e-04 - val_accuracy: 1.0000\n",
      "Epoch 31/100\n",
      "174463/174463 [==============================] - 4s 25us/step - loss: 0.0027 - accuracy: 0.8437 - val_loss: 4.4679e-04 - val_accuracy: 1.0000\n",
      "Epoch 32/100\n",
      "174463/174463 [==============================] - 4s 25us/step - loss: 0.0027 - accuracy: 0.8438 - val_loss: 4.5753e-04 - val_accuracy: 1.0000\n",
      "Epoch 33/100\n",
      "174463/174463 [==============================] - 4s 26us/step - loss: 0.0027 - accuracy: 0.8422 - val_loss: 3.7732e-04 - val_accuracy: 1.0000\n",
      "Epoch 34/100\n",
      "174463/174463 [==============================] - 5s 26us/step - loss: 0.0026 - accuracy: 0.8396 - val_loss: 3.9448e-04 - val_accuracy: 1.0000\n",
      "Epoch 35/100\n",
      "174463/174463 [==============================] - 5s 26us/step - loss: 0.0026 - accuracy: 0.8375 - val_loss: 3.6639e-04 - val_accuracy: 1.0000\n",
      "Epoch 36/100\n",
      "174463/174463 [==============================] - 5s 27us/step - loss: 0.0026 - accuracy: 0.8368 - val_loss: 3.2814e-04 - val_accuracy: 1.0000\n",
      "Epoch 37/100\n",
      "174463/174463 [==============================] - 5s 27us/step - loss: 0.0026 - accuracy: 0.8368 - val_loss: 4.2295e-04 - val_accuracy: 1.0000\n",
      "Epoch 38/100\n",
      "174463/174463 [==============================] - 5s 26us/step - loss: 0.0026 - accuracy: 0.8361 - val_loss: 3.5621e-04 - val_accuracy: 1.0000\n",
      "Epoch 39/100\n",
      "174463/174463 [==============================] - 5s 28us/step - loss: 0.0026 - accuracy: 0.8367 - val_loss: 3.5838e-04 - val_accuracy: 1.0000\n",
      "Epoch 40/100\n",
      "174463/174463 [==============================] - 5s 27us/step - loss: 0.0026 - accuracy: 0.8367 - val_loss: 3.4290e-04 - val_accuracy: 1.0000\n",
      "Epoch 41/100\n",
      "174463/174463 [==============================] - 5s 26us/step - loss: 0.0026 - accuracy: 0.8379 - val_loss: 3.5956e-04 - val_accuracy: 1.0000\n",
      "Epoch 42/100\n",
      "174463/174463 [==============================] - 5s 28us/step - loss: 0.0026 - accuracy: 0.8387 - val_loss: 3.5822e-04 - val_accuracy: 1.0000\n",
      "Epoch 43/100\n",
      "174463/174463 [==============================] - 5s 26us/step - loss: 0.0026 - accuracy: 0.8388 - val_loss: 3.3245e-04 - val_accuracy: 1.0000\n",
      "Epoch 44/100\n",
      "174463/174463 [==============================] - 5s 26us/step - loss: 0.0026 - accuracy: 0.8393 - val_loss: 3.3467e-04 - val_accuracy: 1.0000\n",
      "Epoch 45/100\n",
      "174463/174463 [==============================] - 4s 23us/step - loss: 0.0026 - accuracy: 0.8408 - val_loss: 3.1118e-04 - val_accuracy: 1.0000\n",
      "Epoch 46/100\n",
      "174463/174463 [==============================] - 5s 27us/step - loss: 0.0025 - accuracy: 0.8417 - val_loss: 3.7538e-04 - val_accuracy: 1.0000\n",
      "Epoch 47/100\n",
      "174463/174463 [==============================] - 5s 26us/step - loss: 0.0025 - accuracy: 0.8427 - val_loss: 3.2758e-04 - val_accuracy: 1.0000\n",
      "Epoch 48/100\n",
      "174463/174463 [==============================] - 4s 25us/step - loss: 0.0025 - accuracy: 0.8388 - val_loss: 3.9528e-04 - val_accuracy: 1.0000\n",
      "Epoch 49/100\n",
      "174463/174463 [==============================] - 5s 27us/step - loss: 0.0025 - accuracy: 0.8413 - val_loss: 3.0904e-04 - val_accuracy: 1.0000\n",
      "Epoch 50/100\n",
      "174463/174463 [==============================] - 5s 27us/step - loss: 0.0025 - accuracy: 0.8426 - val_loss: 2.8031e-04 - val_accuracy: 1.0000\n",
      "Epoch 51/100\n",
      "174463/174463 [==============================] - 5s 30us/step - loss: 0.0025 - accuracy: 0.8421 - val_loss: 3.3283e-04 - val_accuracy: 1.0000\n",
      "Epoch 52/100\n",
      "174463/174463 [==============================] - 5s 27us/step - loss: 0.0025 - accuracy: 0.8429 - val_loss: 3.7885e-04 - val_accuracy: 1.0000\n",
      "Epoch 53/100\n",
      "174463/174463 [==============================] - 4s 25us/step - loss: 0.0025 - accuracy: 0.8433 - val_loss: 3.0608e-04 - val_accuracy: 1.0000\n",
      "Epoch 54/100\n",
      "  8000/174463 [>.............................] - ETA: 7s - loss: 0.0025 - accuracy: 0.8405"
     ]
    },
    {
     "name": "stderr",
     "output_type": "stream",
     "text": [
      "C:\\Users\\leste\\Anaconda3\\lib\\site-packages\\keras\\callbacks\\callbacks.py:95: RuntimeWarning: Method (on_train_batch_end) is slow compared to the batch update (0.132645). Check your callbacks.\n",
      "  % (hook_name, delta_t_median), RuntimeWarning)\n"
     ]
    },
    {
     "name": "stdout",
     "output_type": "stream",
     "text": [
      "174463/174463 [==============================] - 5s 28us/step - loss: 0.0025 - accuracy: 0.8447 - val_loss: 2.7429e-04 - val_accuracy: 1.0000\n",
      "Epoch 55/100\n",
      "174463/174463 [==============================] - 4s 25us/step - loss: 0.0025 - accuracy: 0.8434 - val_loss: 2.7724e-04 - val_accuracy: 1.0000\n",
      "Epoch 56/100\n",
      "174463/174463 [==============================] - 4s 25us/step - loss: 0.0025 - accuracy: 0.8456 - val_loss: 2.9775e-04 - val_accuracy: 1.0000\n",
      "Epoch 57/100\n",
      "174463/174463 [==============================] - 4s 24us/step - loss: 0.0025 - accuracy: 0.8443 - val_loss: 3.1007e-04 - val_accuracy: 1.0000\n",
      "Epoch 58/100\n",
      "174463/174463 [==============================] - 5s 28us/step - loss: 0.0025 - accuracy: 0.8453 - val_loss: 2.8041e-04 - val_accuracy: 1.0000\n",
      "Epoch 59/100\n",
      "174463/174463 [==============================] - 4s 26us/step - loss: 0.0025 - accuracy: 0.8455 - val_loss: 3.4689e-04 - val_accuracy: 1.0000\n",
      "Epoch 60/100\n",
      "174463/174463 [==============================] - 5s 27us/step - loss: 0.0025 - accuracy: 0.8449 - val_loss: 2.9131e-04 - val_accuracy: 1.0000\n",
      "Epoch 61/100\n",
      "174463/174463 [==============================] - 5s 26us/step - loss: 0.0025 - accuracy: 0.8447 - val_loss: 2.8474e-04 - val_accuracy: 1.0000\n",
      "Epoch 62/100\n",
      "174463/174463 [==============================] - 5s 26us/step - loss: 0.0025 - accuracy: 0.8451 - val_loss: 2.8074e-04 - val_accuracy: 1.0000\n",
      "Epoch 63/100\n",
      "174463/174463 [==============================] - 5s 28us/step - loss: 0.0025 - accuracy: 0.8471 - val_loss: 2.8699e-04 - val_accuracy: 1.0000\n",
      "Epoch 64/100\n",
      "174463/174463 [==============================] - 5s 27us/step - loss: 0.0025 - accuracy: 0.8465 - val_loss: 2.6583e-04 - val_accuracy: 1.0000\n",
      "Epoch 65/100\n",
      "174463/174463 [==============================] - 5s 26us/step - loss: 0.0025 - accuracy: 0.8461 - val_loss: 2.7913e-04 - val_accuracy: 1.0000\n",
      "Epoch 66/100\n",
      "174463/174463 [==============================] - 4s 26us/step - loss: 0.0025 - accuracy: 0.8478 - val_loss: 2.6661e-04 - val_accuracy: 1.0000\n",
      "Epoch 67/100\n",
      "174463/174463 [==============================] - 5s 26us/step - loss: 0.0025 - accuracy: 0.8470 - val_loss: 3.3641e-04 - val_accuracy: 1.0000\n",
      "Epoch 68/100\n",
      "174463/174463 [==============================] - 4s 25us/step - loss: 0.0025 - accuracy: 0.8468 - val_loss: 3.0993e-04 - val_accuracy: 1.0000\n",
      "Epoch 69/100\n",
      "174463/174463 [==============================] - 5s 27us/step - loss: 0.0025 - accuracy: 0.8462 - val_loss: 2.5021e-04 - val_accuracy: 1.0000\n",
      "Epoch 70/100\n",
      "174463/174463 [==============================] - 5s 27us/step - loss: 0.0025 - accuracy: 0.8491 - val_loss: 2.6314e-04 - val_accuracy: 1.0000\n",
      "Epoch 71/100\n",
      "174463/174463 [==============================] - 5s 28us/step - loss: 0.0025 - accuracy: 0.8483 - val_loss: 3.1116e-04 - val_accuracy: 1.0000\n",
      "Epoch 72/100\n",
      "174463/174463 [==============================] - 5s 26us/step - loss: 0.0025 - accuracy: 0.8486 - val_loss: 2.9060e-04 - val_accuracy: 1.0000\n",
      "Epoch 73/100\n",
      "174463/174463 [==============================] - 5s 28us/step - loss: 0.0025 - accuracy: 0.8487 - val_loss: 2.8625e-04 - val_accuracy: 1.0000\n",
      "Epoch 74/100\n",
      "174463/174463 [==============================] - 5s 26us/step - loss: 0.0025 - accuracy: 0.8497 - val_loss: 2.6337e-04 - val_accuracy: 1.0000\n",
      "Epoch 75/100\n",
      "174463/174463 [==============================] - 5s 26us/step - loss: 0.0025 - accuracy: 0.8488 - val_loss: 2.6843e-04 - val_accuracy: 1.0000\n",
      "Epoch 76/100\n",
      "174463/174463 [==============================] - 5s 28us/step - loss: 0.0025 - accuracy: 0.8501 - val_loss: 2.6028e-04 - val_accuracy: 1.0000\n",
      "Epoch 77/100\n",
      "174463/174463 [==============================] - 5s 28us/step - loss: 0.0025 - accuracy: 0.8506 - val_loss: 2.6047e-04 - val_accuracy: 1.0000\n",
      "Epoch 78/100\n",
      "174463/174463 [==============================] - 5s 26us/step - loss: 0.0025 - accuracy: 0.8513 - val_loss: 2.4800e-04 - val_accuracy: 1.0000\n",
      "Epoch 79/100\n",
      "174463/174463 [==============================] - 5s 28us/step - loss: 0.0025 - accuracy: 0.8518 - val_loss: 2.4454e-04 - val_accuracy: 1.0000\n",
      "Epoch 80/100\n",
      "174463/174463 [==============================] - 5s 27us/step - loss: 0.0025 - accuracy: 0.8527 - val_loss: 2.9110e-04 - val_accuracy: 1.0000\n",
      "Epoch 81/100\n",
      "174463/174463 [==============================] - 5s 28us/step - loss: 0.0025 - accuracy: 0.8529 - val_loss: 2.4057e-04 - val_accuracy: 1.0000\n",
      "Epoch 82/100\n",
      "174463/174463 [==============================] - 5s 27us/step - loss: 0.0025 - accuracy: 0.8540 - val_loss: 2.2619e-04 - val_accuracy: 1.0000\n",
      "Epoch 83/100\n",
      "174463/174463 [==============================] - 4s 24us/step - loss: 0.0025 - accuracy: 0.8541 - val_loss: 2.8733e-04 - val_accuracy: 1.0000\n",
      "Epoch 84/100\n",
      "174463/174463 [==============================] - 5s 27us/step - loss: 0.0025 - accuracy: 0.8546 - val_loss: 3.0018e-04 - val_accuracy: 1.0000\n",
      "Epoch 85/100\n",
      "174463/174463 [==============================] - 5s 26us/step - loss: 0.0025 - accuracy: 0.8548 - val_loss: 2.1869e-04 - val_accuracy: 1.0000\n",
      "Epoch 86/100\n",
      "174463/174463 [==============================] - 5s 27us/step - loss: 0.0025 - accuracy: 0.8564 - val_loss: 2.2552e-04 - val_accuracy: 1.0000\n",
      "Epoch 87/100\n",
      "174463/174463 [==============================] - 5s 28us/step - loss: 0.0025 - accuracy: 0.8562 - val_loss: 2.3566e-04 - val_accuracy: 1.0000\n",
      "Epoch 88/100\n",
      "174463/174463 [==============================] - 5s 26us/step - loss: 0.0025 - accuracy: 0.8566 - val_loss: 2.3359e-04 - val_accuracy: 1.0000\n",
      "Epoch 89/100\n",
      "174463/174463 [==============================] - 5s 27us/step - loss: 0.0025 - accuracy: 0.8564 - val_loss: 2.6516e-04 - val_accuracy: 1.0000\n",
      "Epoch 90/100\n",
      "174463/174463 [==============================] - 4s 25us/step - loss: 0.0025 - accuracy: 0.8565 - val_loss: 2.3929e-04 - val_accuracy: 1.0000\n",
      "Epoch 91/100\n",
      "174463/174463 [==============================] - 5s 26us/step - loss: 0.0025 - accuracy: 0.8582 - val_loss: 3.0745e-04 - val_accuracy: 1.0000\n",
      "Epoch 92/100\n",
      "174463/174463 [==============================] - 5s 27us/step - loss: 0.0024 - accuracy: 0.8608 - val_loss: 2.4696e-04 - val_accuracy: 1.0000\n",
      "Epoch 93/100\n",
      "174463/174463 [==============================] - ETA: 0s - loss: 0.0024 - accuracy: 0.86 - 4s 25us/step - loss: 0.0024 - accuracy: 0.8640 - val_loss: 2.2336e-04 - val_accuracy: 1.0000\n",
      "Epoch 94/100\n",
      "174463/174463 [==============================] - 5s 26us/step - loss: 0.0024 - accuracy: 0.8651 - val_loss: 2.1231e-04 - val_accuracy: 1.0000\n",
      "Epoch 95/100\n",
      "174463/174463 [==============================] - 4s 25us/step - loss: 0.0024 - accuracy: 0.8652 - val_loss: 2.0595e-04 - val_accuracy: 1.0000\n",
      "Epoch 96/100\n",
      "174463/174463 [==============================] - 5s 26us/step - loss: 0.0024 - accuracy: 0.8684 - val_loss: 2.1392e-04 - val_accuracy: 1.0000\n",
      "Epoch 97/100\n",
      "174463/174463 [==============================] - 4s 25us/step - loss: 0.0024 - accuracy: 0.8681 - val_loss: 2.5175e-04 - val_accuracy: 1.0000\n",
      "Epoch 98/100\n",
      "174463/174463 [==============================] - 5s 26us/step - loss: 0.0024 - accuracy: 0.8711 - val_loss: 2.5037e-04 - val_accuracy: 1.0000\n",
      "Epoch 99/100\n",
      "174463/174463 [==============================] - 5s 26us/step - loss: 0.0024 - accuracy: 0.8711 - val_loss: 2.0500e-04 - val_accuracy: 1.0000\n",
      "Epoch 100/100\n",
      "174463/174463 [==============================] - 5s 28us/step - loss: 0.0024 - accuracy: 0.8745 - val_loss: 1.9934e-04 - val_accuracy: 1.0000\n"
     ]
    }
   ],
   "source": [
    "# Train model for 100 epochs, batch size of 1000: \n",
    "NUM_EPOCHS=100\n",
    "BATCH_SIZE=1000\n",
    "\n",
    "history=model.fit(train,train, \n",
    "                  batch_size=BATCH_SIZE, \n",
    "                  epochs=NUM_EPOCHS,\n",
    "                  validation_split=0.1,\n",
    "                  shuffle=True)"
   ]
  },
  {
   "cell_type": "code",
   "execution_count": 11,
   "metadata": {},
   "outputs": [
    {
     "data": {
      "image/png": "[encoded data removed]",
      "text/plain": [
       "<Figure size 432x288 with 1 Axes>"
      ]
     },
     "metadata": {
      "needs_background": "light"
     },
     "output_type": "display_data"
    }
   ],
   "source": [
    "import matplotlib.pyplot as plt\n",
    "\n",
    "plt.plot(history.history['loss'], label='Training loss')\n",
    "plt.plot(history.history['val_loss'], label='Validation loss')\n",
    "plt.legend(loc='upper right')\n",
    "plt.xlabel('Epochs')\n",
    "plt.ylabel('Loss [mse]')\n",
    "plt.show()"
   ]
  },
  {
   "cell_type": "code",
   "execution_count": 12,
   "metadata": {},
   "outputs": [],
   "source": [
    "pred_train = model.predict(train)"
   ]
  },
  {
   "cell_type": "code",
   "execution_count": 13,
   "metadata": {},
   "outputs": [],
   "source": [
    "pred_train = pred_train.reshape(pred_train.shape[0],pred_train.shape[2])\n",
    "train = train.reshape(train.shape[0],train.shape[2])"
   ]
  },
  {
   "cell_type": "code",
   "execution_count": 14,
   "metadata": {},
   "outputs": [
    {
     "data": {
      "image/png": "[encoded data removed]",
      "text/plain": [
       "<Figure size 432x288 with 1 Axes>"
      ]
     },
     "metadata": {
      "needs_background": "light"
     },
     "output_type": "display_data"
    }
   ],
   "source": [
    "import seaborn as sns\n",
    "\n",
    "scored = np.mean(np.abs(pred_train-train), axis = 1)\n",
    "plt.figure()\n",
    "g = sns.distplot(scored, bins = 50, kde= True, color = 'blue');\n",
    "plt.title('Loss Distribution')\n",
    "plt.xlabel('Loss (MAE)')\n",
    "plt.show()"
   ]
  },
  {
   "cell_type": "code",
   "execution_count": 15,
   "metadata": {},
   "outputs": [],
   "source": [
    "TH = 0.04\n",
    "pred_train = pd.DataFrame(pred_train)\n",
    "scored_train = pd.DataFrame()\n",
    "scored_train['Loss_mae'] = np.mean(np.abs(pred_train-train), axis = 1)\n",
    "scored_train['Threshold'] = TH\n",
    "scored_train['Anomaly'] = scored_train['Loss_mae'] > scored_train['Threshold']"
   ]
  },
  {
   "cell_type": "code",
   "execution_count": 16,
   "metadata": {},
   "outputs": [
    {
     "data": {
      "text/plain": [
       "0.00985125269670351"
      ]
     },
     "execution_count": 16,
     "metadata": {},
     "output_type": "execute_result"
    }
   ],
   "source": [
    "scored_train['Loss_mae'].mean()"
   ]
  },
  {
   "cell_type": "code",
   "execution_count": 17,
   "metadata": {},
   "outputs": [
    {
     "data": {
      "text/plain": [
       "Text(0, 0.5, 'Loss (MAE)')"
      ]
     },
     "execution_count": 17,
     "metadata": {},
     "output_type": "execute_result"
    },
    {
     "data": {
      "image/png": "[encoded data removed]",
      "text/plain": [
       "<Figure size 1152x288 with 1 Axes>"
      ]
     },
     "metadata": {
      "needs_background": "light"
     },
     "output_type": "display_data"
    }
   ],
   "source": [
    "scored_train.plot(logy=True,  figsize = (16,4), xlim =[0,len(scored_train)])\n",
    "plt.xlabel('Data points')\n",
    "plt.ylabel('Loss (MAE)')"
   ]
  },
  {
   "cell_type": "code",
   "execution_count": 18,
   "metadata": {},
   "outputs": [
    {
     "data": {
      "text/html": [
       "<div>\n",
       "<style scoped>\n",
       "    .dataframe tbody tr th:only-of-type {\n",
       "        vertical-align: middle;\n",
       "    }\n",
       "\n",
       "    .dataframe tbody tr th {\n",
       "        vertical-align: top;\n",
       "    }\n",
       "\n",
       "    .dataframe thead th {\n",
       "        text-align: right;\n",
       "    }\n",
       "</style>\n",
       "<table border=\"1\" class=\"dataframe\">\n",
       "  <thead>\n",
       "    <tr style=\"text-align: right;\">\n",
       "      <th></th>\n",
       "      <th>Loss_mae</th>\n",
       "      <th>Threshold</th>\n",
       "      <th>Anomaly</th>\n",
       "    </tr>\n",
       "  </thead>\n",
       "  <tbody>\n",
       "    <tr>\n",
       "      <th>0</th>\n",
       "      <td>0.008525</td>\n",
       "      <td>0.04</td>\n",
       "      <td>False</td>\n",
       "    </tr>\n",
       "    <tr>\n",
       "      <th>1</th>\n",
       "      <td>0.015897</td>\n",
       "      <td>0.04</td>\n",
       "      <td>False</td>\n",
       "    </tr>\n",
       "    <tr>\n",
       "      <th>2</th>\n",
       "      <td>0.010696</td>\n",
       "      <td>0.04</td>\n",
       "      <td>False</td>\n",
       "    </tr>\n",
       "    <tr>\n",
       "      <th>3</th>\n",
       "      <td>0.008092</td>\n",
       "      <td>0.04</td>\n",
       "      <td>False</td>\n",
       "    </tr>\n",
       "    <tr>\n",
       "      <th>4</th>\n",
       "      <td>0.008575</td>\n",
       "      <td>0.04</td>\n",
       "      <td>False</td>\n",
       "    </tr>\n",
       "    <tr>\n",
       "      <th>...</th>\n",
       "      <td>...</td>\n",
       "      <td>...</td>\n",
       "      <td>...</td>\n",
       "    </tr>\n",
       "    <tr>\n",
       "      <th>193843</th>\n",
       "      <td>0.010694</td>\n",
       "      <td>0.04</td>\n",
       "      <td>False</td>\n",
       "    </tr>\n",
       "    <tr>\n",
       "      <th>193844</th>\n",
       "      <td>0.025897</td>\n",
       "      <td>0.04</td>\n",
       "      <td>False</td>\n",
       "    </tr>\n",
       "    <tr>\n",
       "      <th>193845</th>\n",
       "      <td>0.021029</td>\n",
       "      <td>0.04</td>\n",
       "      <td>False</td>\n",
       "    </tr>\n",
       "    <tr>\n",
       "      <th>193846</th>\n",
       "      <td>0.006040</td>\n",
       "      <td>0.04</td>\n",
       "      <td>False</td>\n",
       "    </tr>\n",
       "    <tr>\n",
       "      <th>193847</th>\n",
       "      <td>0.004016</td>\n",
       "      <td>0.04</td>\n",
       "      <td>False</td>\n",
       "    </tr>\n",
       "  </tbody>\n",
       "</table>\n",
       "<p>193848 rows × 3 columns</p>\n",
       "</div>"
      ],
      "text/plain": [
       "        Loss_mae  Threshold  Anomaly\n",
       "0       0.008525       0.04    False\n",
       "1       0.015897       0.04    False\n",
       "2       0.010696       0.04    False\n",
       "3       0.008092       0.04    False\n",
       "4       0.008575       0.04    False\n",
       "...          ...        ...      ...\n",
       "193843  0.010694       0.04    False\n",
       "193844  0.025897       0.04    False\n",
       "193845  0.021029       0.04    False\n",
       "193846  0.006040       0.04    False\n",
       "193847  0.004016       0.04    False\n",
       "\n",
       "[193848 rows x 3 columns]"
      ]
     },
     "execution_count": 18,
     "metadata": {},
     "output_type": "execute_result"
    }
   ],
   "source": [
    "scored_train"
   ]
  },
  {
   "cell_type": "code",
   "execution_count": 19,
   "metadata": {},
   "outputs": [
    {
     "name": "stdout",
     "output_type": "stream",
     "text": [
      "        Loss_mae  Threshold  Anomaly\n",
      "5352    0.042326       0.04     True\n",
      "23740   0.040535       0.04     True\n",
      "47447   0.044496       0.04     True\n",
      "57215   0.041266       0.04     True\n",
      "96942   0.059166       0.04     True\n",
      "...          ...        ...      ...\n",
      "193452  0.066693       0.04     True\n",
      "193503  0.042894       0.04     True\n",
      "193511  0.042603       0.04     True\n",
      "193550  0.041959       0.04     True\n",
      "193780  0.044344       0.04     True\n",
      "\n",
      "[1193 rows x 3 columns]\n",
      "(1193, 3)\n"
     ]
    }
   ],
   "source": [
    "anomalies = scored_train[scored_train['Anomaly'] == True]\n",
    "print(anomalies)\n",
    "print(anomalies.shape)"
   ]
  },
  {
   "cell_type": "code",
   "execution_count": 20,
   "metadata": {},
   "outputs": [
    {
     "data": {
      "image/png": "[encoded data removed]",
      "text/plain": [
       "<Figure size 1152x288 with 1 Axes>"
      ]
     },
     "metadata": {
      "needs_background": "light"
     },
     "output_type": "display_data"
    }
   ],
   "source": [
    "f, (ax1) = plt.subplots(figsize=(16, 4))\n",
    "ax1.plot(scored_train.index, scored_train.Loss_mae, label='Loss(MAE)');\n",
    "ax1.plot(scored_train.index, scored_train.Threshold, label='Threshold')\n",
    "g = sns.scatterplot(x=anomalies.index , y=anomalies.Loss_mae, label='anomaly', color='red')\n",
    "g.set(xlim = (0, len(scored_train.index)))\n",
    "plt.title('Anomalies')\n",
    "plt.xlabel('Data points')\n",
    "plt.ylabel('Loss (MAE)')\n",
    "plt.legend();"
   ]
  },
  {
   "cell_type": "code",
   "execution_count": 21,
   "metadata": {},
   "outputs": [],
   "source": [
    "pred_test = model.predict(test)"
   ]
  },
  {
   "cell_type": "code",
   "execution_count": 22,
   "metadata": {},
   "outputs": [
    {
     "name": "stdout",
     "output_type": "stream",
     "text": [
      "48462/48462 [==============================] - 3s 71us/step\n"
     ]
    },
    {
     "data": {
      "text/plain": [
       "[0.00019521801377405626, 0.8810820579528809]"
      ]
     },
     "execution_count": 22,
     "metadata": {},
     "output_type": "execute_result"
    }
   ],
   "source": [
    "score = model.evaluate(test,test)\n",
    "score"
   ]
  },
  {
   "cell_type": "code",
   "execution_count": 23,
   "metadata": {},
   "outputs": [],
   "source": [
    "pred_test = pred_test.reshape(pred_test.shape[0],pred_test.shape[2])\n",
    "test = test.reshape(test.shape[0],test.shape[2])"
   ]
  },
  {
   "cell_type": "code",
   "execution_count": 24,
   "metadata": {},
   "outputs": [
    {
     "data": {
      "image/png": "[encoded data removed]",
      "text/plain": [
       "<Figure size 432x288 with 1 Axes>"
      ]
     },
     "metadata": {
      "needs_background": "light"
     },
     "output_type": "display_data"
    }
   ],
   "source": [
    "import seaborn as sns\n",
    "\n",
    "scored_test = np.mean(np.abs(pred_test-test), axis = 1)\n",
    "plt.figure()\n",
    "g = sns.distplot(scored_test, bins = 10, kde= True);\n",
    "plt.title('Loss Distribution')\n",
    "plt.xlabel('Loss (MAE)')\n",
    "plt.show()"
   ]
  },
  {
   "cell_type": "code",
   "execution_count": 25,
   "metadata": {},
   "outputs": [
    {
     "data": {
      "text/html": [
       "<div>\n",
       "<style scoped>\n",
       "    .dataframe tbody tr th:only-of-type {\n",
       "        vertical-align: middle;\n",
       "    }\n",
       "\n",
       "    .dataframe tbody tr th {\n",
       "        vertical-align: top;\n",
       "    }\n",
       "\n",
       "    .dataframe thead th {\n",
       "        text-align: right;\n",
       "    }\n",
       "</style>\n",
       "<table border=\"1\" class=\"dataframe\">\n",
       "  <thead>\n",
       "    <tr style=\"text-align: right;\">\n",
       "      <th></th>\n",
       "      <th>Loss_mae</th>\n",
       "      <th>Threshold</th>\n",
       "      <th>Anomaly</th>\n",
       "    </tr>\n",
       "  </thead>\n",
       "  <tbody>\n",
       "    <tr>\n",
       "      <th>0</th>\n",
       "      <td>0.008411</td>\n",
       "      <td>0.04</td>\n",
       "      <td>False</td>\n",
       "    </tr>\n",
       "    <tr>\n",
       "      <th>1</th>\n",
       "      <td>0.006976</td>\n",
       "      <td>0.04</td>\n",
       "      <td>False</td>\n",
       "    </tr>\n",
       "    <tr>\n",
       "      <th>2</th>\n",
       "      <td>0.012809</td>\n",
       "      <td>0.04</td>\n",
       "      <td>False</td>\n",
       "    </tr>\n",
       "    <tr>\n",
       "      <th>3</th>\n",
       "      <td>0.015291</td>\n",
       "      <td>0.04</td>\n",
       "      <td>False</td>\n",
       "    </tr>\n",
       "    <tr>\n",
       "      <th>4</th>\n",
       "      <td>0.006587</td>\n",
       "      <td>0.04</td>\n",
       "      <td>False</td>\n",
       "    </tr>\n",
       "    <tr>\n",
       "      <th>...</th>\n",
       "      <td>...</td>\n",
       "      <td>...</td>\n",
       "      <td>...</td>\n",
       "    </tr>\n",
       "    <tr>\n",
       "      <th>48457</th>\n",
       "      <td>0.002941</td>\n",
       "      <td>0.04</td>\n",
       "      <td>False</td>\n",
       "    </tr>\n",
       "    <tr>\n",
       "      <th>48458</th>\n",
       "      <td>0.006404</td>\n",
       "      <td>0.04</td>\n",
       "      <td>False</td>\n",
       "    </tr>\n",
       "    <tr>\n",
       "      <th>48459</th>\n",
       "      <td>0.010840</td>\n",
       "      <td>0.04</td>\n",
       "      <td>False</td>\n",
       "    </tr>\n",
       "    <tr>\n",
       "      <th>48460</th>\n",
       "      <td>0.005397</td>\n",
       "      <td>0.04</td>\n",
       "      <td>False</td>\n",
       "    </tr>\n",
       "    <tr>\n",
       "      <th>48461</th>\n",
       "      <td>0.007069</td>\n",
       "      <td>0.04</td>\n",
       "      <td>False</td>\n",
       "    </tr>\n",
       "  </tbody>\n",
       "</table>\n",
       "<p>48462 rows × 3 columns</p>\n",
       "</div>"
      ],
      "text/plain": [
       "       Loss_mae  Threshold  Anomaly\n",
       "0      0.008411       0.04    False\n",
       "1      0.006976       0.04    False\n",
       "2      0.012809       0.04    False\n",
       "3      0.015291       0.04    False\n",
       "4      0.006587       0.04    False\n",
       "...         ...        ...      ...\n",
       "48457  0.002941       0.04    False\n",
       "48458  0.006404       0.04    False\n",
       "48459  0.010840       0.04    False\n",
       "48460  0.005397       0.04    False\n",
       "48461  0.007069       0.04    False\n",
       "\n",
       "[48462 rows x 3 columns]"
      ]
     },
     "execution_count": 25,
     "metadata": {},
     "output_type": "execute_result"
    }
   ],
   "source": [
    "scored_test = pd.DataFrame()\n",
    "scored_test['Loss_mae'] = np.mean(np.abs(pred_test-test), axis = 1)\n",
    "scored_test['Threshold'] = TH\n",
    "scored_test['Anomaly'] = scored_test['Loss_mae'] > scored_test['Threshold']\n",
    "\n",
    "scored_test"
   ]
  },
  {
   "cell_type": "code",
   "execution_count": 26,
   "metadata": {},
   "outputs": [
    {
     "data": {
      "text/plain": [
       "0.009881675696851538"
      ]
     },
     "execution_count": 26,
     "metadata": {},
     "output_type": "execute_result"
    }
   ],
   "source": [
    "scored_test['Loss_mae'].mean()"
   ]
  },
  {
   "cell_type": "code",
   "execution_count": 27,
   "metadata": {},
   "outputs": [
    {
     "data": {
      "text/plain": [
       "Text(0, 0.5, 'Loss (MAE)')"
      ]
     },
     "execution_count": 27,
     "metadata": {},
     "output_type": "execute_result"
    },
    {
     "data": {
      "image/png": "[encoded data removed]",
      "text/plain": [
       "<Figure size 1152x288 with 1 Axes>"
      ]
     },
     "metadata": {
      "needs_background": "light"
     },
     "output_type": "display_data"
    }
   ],
   "source": [
    "scored_test.plot(logy=True,  figsize = (16,4), xlim =[0,len(scored_test)])\n",
    "plt.xlabel('Data points')\n",
    "plt.ylabel('Loss (MAE)')"
   ]
  },
  {
   "cell_type": "code",
   "execution_count": 28,
   "metadata": {},
   "outputs": [
    {
     "name": "stdout",
     "output_type": "stream",
     "text": [
      "       Loss_mae  Threshold  Anomaly\n",
      "3330   0.042661       0.04     True\n",
      "13824  0.040721       0.04     True\n",
      "24236  0.047796       0.04     True\n",
      "24347  0.043306       0.04     True\n",
      "24446  0.057036       0.04     True\n",
      "...         ...        ...      ...\n",
      "48158  0.051300       0.04     True\n",
      "48259  0.060898       0.04     True\n",
      "48339  0.081073       0.04     True\n",
      "48389  0.058263       0.04     True\n",
      "48416  0.056897       0.04     True\n",
      "\n",
      "[317 rows x 3 columns]\n",
      "(317, 3)\n"
     ]
    }
   ],
   "source": [
    "IR_anomalies = scored_test[scored_test['Anomaly'] == True]\n",
    "print(IR_anomalies)\n",
    "print(IR_anomalies.shape)"
   ]
  },
  {
   "cell_type": "code",
   "execution_count": 29,
   "metadata": {},
   "outputs": [
    {
     "data": {
      "image/png": "[encoded data removed]",
      "text/plain": [
       "<Figure size 1296x432 with 1 Axes>"
      ]
     },
     "metadata": {
      "needs_background": "light"
     },
     "output_type": "display_data"
    }
   ],
   "source": [
    "f, (ax2) = plt.subplots(figsize=(18, 6))\n",
    "ax2.plot(scored_test.index, scored_test.Loss_mae, label='Loss(MAE)');\n",
    "ax2.plot(scored_test.index, scored_test.Threshold, label='Threshold')\n",
    "g = sns.scatterplot(x=IR_anomalies.index , y=IR_anomalies.Loss_mae, label='anomaly', color='red')\n",
    "g.set(xlim = (0, len(scored_test.index)))\n",
    "plt.title('Anomalies')\n",
    "plt.xlabel('Data points')\n",
    "plt.ylabel('Loss (MAE)')\n",
    "plt.legend();"
   ]
  },
  {
   "cell_type": "code",
   "execution_count": 30,
   "metadata": {},
   "outputs": [
    {
     "name": "stdout",
     "output_type": "stream",
     "text": [
      "0.8810820579528809\n"
     ]
    }
   ],
   "source": [
    "print(score[1])"
   ]
  },
  {
   "cell_type": "code",
   "execution_count": 31,
   "metadata": {},
   "outputs": [
    {
     "name": "stdout",
     "output_type": "stream",
     "text": [
      "Accuracy: 88.11%\n"
     ]
    }
   ],
   "source": [
    "print(\"Accuracy: {:.2f}%\".format(score[1]*100))"
   ]
  },
  {
   "cell_type": "code",
   "execution_count": 32,
   "metadata": {},
   "outputs": [
    {
     "name": "stdout",
     "output_type": "stream",
     "text": [
      "Anomalies: 317\n"
     ]
    }
   ],
   "source": [
    "print(\"Anomalies: {}\".format(IR_anomalies['Anomaly'].count()))"
   ]
  },
  {
   "cell_type": "code",
   "execution_count": 33,
   "metadata": {},
   "outputs": [],
   "source": [
    "# Seperating Normal and Faulty dataset\n",
    "x = scored_test['Anomaly'].count() / 2"
   ]
  },
  {
   "cell_type": "code",
   "execution_count": 34,
   "metadata": {},
   "outputs": [
    {
     "data": {
      "text/html": [
       "<div>\n",
       "<style scoped>\n",
       "    .dataframe tbody tr th:only-of-type {\n",
       "        vertical-align: middle;\n",
       "    }\n",
       "\n",
       "    .dataframe tbody tr th {\n",
       "        vertical-align: top;\n",
       "    }\n",
       "\n",
       "    .dataframe thead th {\n",
       "        text-align: right;\n",
       "    }\n",
       "</style>\n",
       "<table border=\"1\" class=\"dataframe\">\n",
       "  <thead>\n",
       "    <tr style=\"text-align: right;\">\n",
       "      <th></th>\n",
       "      <th>Loss_mae</th>\n",
       "      <th>Threshold</th>\n",
       "      <th>Anomaly</th>\n",
       "    </tr>\n",
       "  </thead>\n",
       "  <tbody>\n",
       "    <tr>\n",
       "      <th>0</th>\n",
       "      <td>0.008411</td>\n",
       "      <td>0.04</td>\n",
       "      <td>False</td>\n",
       "    </tr>\n",
       "    <tr>\n",
       "      <th>1</th>\n",
       "      <td>0.006976</td>\n",
       "      <td>0.04</td>\n",
       "      <td>False</td>\n",
       "    </tr>\n",
       "    <tr>\n",
       "      <th>2</th>\n",
       "      <td>0.012809</td>\n",
       "      <td>0.04</td>\n",
       "      <td>False</td>\n",
       "    </tr>\n",
       "    <tr>\n",
       "      <th>3</th>\n",
       "      <td>0.015291</td>\n",
       "      <td>0.04</td>\n",
       "      <td>False</td>\n",
       "    </tr>\n",
       "    <tr>\n",
       "      <th>4</th>\n",
       "      <td>0.006587</td>\n",
       "      <td>0.04</td>\n",
       "      <td>False</td>\n",
       "    </tr>\n",
       "    <tr>\n",
       "      <th>...</th>\n",
       "      <td>...</td>\n",
       "      <td>...</td>\n",
       "      <td>...</td>\n",
       "    </tr>\n",
       "    <tr>\n",
       "      <th>24226</th>\n",
       "      <td>0.019799</td>\n",
       "      <td>0.04</td>\n",
       "      <td>False</td>\n",
       "    </tr>\n",
       "    <tr>\n",
       "      <th>24227</th>\n",
       "      <td>0.010816</td>\n",
       "      <td>0.04</td>\n",
       "      <td>False</td>\n",
       "    </tr>\n",
       "    <tr>\n",
       "      <th>24228</th>\n",
       "      <td>0.009241</td>\n",
       "      <td>0.04</td>\n",
       "      <td>False</td>\n",
       "    </tr>\n",
       "    <tr>\n",
       "      <th>24229</th>\n",
       "      <td>0.013841</td>\n",
       "      <td>0.04</td>\n",
       "      <td>False</td>\n",
       "    </tr>\n",
       "    <tr>\n",
       "      <th>24230</th>\n",
       "      <td>0.009530</td>\n",
       "      <td>0.04</td>\n",
       "      <td>False</td>\n",
       "    </tr>\n",
       "  </tbody>\n",
       "</table>\n",
       "<p>24231 rows × 3 columns</p>\n",
       "</div>"
      ],
      "text/plain": [
       "       Loss_mae  Threshold  Anomaly\n",
       "0      0.008411       0.04    False\n",
       "1      0.006976       0.04    False\n",
       "2      0.012809       0.04    False\n",
       "3      0.015291       0.04    False\n",
       "4      0.006587       0.04    False\n",
       "...         ...        ...      ...\n",
       "24226  0.019799       0.04    False\n",
       "24227  0.010816       0.04    False\n",
       "24228  0.009241       0.04    False\n",
       "24229  0.013841       0.04    False\n",
       "24230  0.009530       0.04    False\n",
       "\n",
       "[24231 rows x 3 columns]"
      ]
     },
     "execution_count": 34,
     "metadata": {},
     "output_type": "execute_result"
    }
   ],
   "source": [
    "normal_test = scored_test[scored_test.index < x]\n",
    "normal_test"
   ]
  },
  {
   "cell_type": "code",
   "execution_count": 35,
   "metadata": {},
   "outputs": [
    {
     "data": {
      "text/html": [
       "<div>\n",
       "<style scoped>\n",
       "    .dataframe tbody tr th:only-of-type {\n",
       "        vertical-align: middle;\n",
       "    }\n",
       "\n",
       "    .dataframe tbody tr th {\n",
       "        vertical-align: top;\n",
       "    }\n",
       "\n",
       "    .dataframe thead th {\n",
       "        text-align: right;\n",
       "    }\n",
       "</style>\n",
       "<table border=\"1\" class=\"dataframe\">\n",
       "  <thead>\n",
       "    <tr style=\"text-align: right;\">\n",
       "      <th></th>\n",
       "      <th>Loss_mae</th>\n",
       "      <th>Threshold</th>\n",
       "      <th>Anomaly</th>\n",
       "    </tr>\n",
       "  </thead>\n",
       "  <tbody>\n",
       "    <tr>\n",
       "      <th>24231</th>\n",
       "      <td>0.005128</td>\n",
       "      <td>0.04</td>\n",
       "      <td>False</td>\n",
       "    </tr>\n",
       "    <tr>\n",
       "      <th>24232</th>\n",
       "      <td>0.005403</td>\n",
       "      <td>0.04</td>\n",
       "      <td>False</td>\n",
       "    </tr>\n",
       "    <tr>\n",
       "      <th>24233</th>\n",
       "      <td>0.005158</td>\n",
       "      <td>0.04</td>\n",
       "      <td>False</td>\n",
       "    </tr>\n",
       "    <tr>\n",
       "      <th>24234</th>\n",
       "      <td>0.001918</td>\n",
       "      <td>0.04</td>\n",
       "      <td>False</td>\n",
       "    </tr>\n",
       "    <tr>\n",
       "      <th>24235</th>\n",
       "      <td>0.004934</td>\n",
       "      <td>0.04</td>\n",
       "      <td>False</td>\n",
       "    </tr>\n",
       "    <tr>\n",
       "      <th>...</th>\n",
       "      <td>...</td>\n",
       "      <td>...</td>\n",
       "      <td>...</td>\n",
       "    </tr>\n",
       "    <tr>\n",
       "      <th>48457</th>\n",
       "      <td>0.002941</td>\n",
       "      <td>0.04</td>\n",
       "      <td>False</td>\n",
       "    </tr>\n",
       "    <tr>\n",
       "      <th>48458</th>\n",
       "      <td>0.006404</td>\n",
       "      <td>0.04</td>\n",
       "      <td>False</td>\n",
       "    </tr>\n",
       "    <tr>\n",
       "      <th>48459</th>\n",
       "      <td>0.010840</td>\n",
       "      <td>0.04</td>\n",
       "      <td>False</td>\n",
       "    </tr>\n",
       "    <tr>\n",
       "      <th>48460</th>\n",
       "      <td>0.005397</td>\n",
       "      <td>0.04</td>\n",
       "      <td>False</td>\n",
       "    </tr>\n",
       "    <tr>\n",
       "      <th>48461</th>\n",
       "      <td>0.007069</td>\n",
       "      <td>0.04</td>\n",
       "      <td>False</td>\n",
       "    </tr>\n",
       "  </tbody>\n",
       "</table>\n",
       "<p>24231 rows × 3 columns</p>\n",
       "</div>"
      ],
      "text/plain": [
       "       Loss_mae  Threshold  Anomaly\n",
       "24231  0.005128       0.04    False\n",
       "24232  0.005403       0.04    False\n",
       "24233  0.005158       0.04    False\n",
       "24234  0.001918       0.04    False\n",
       "24235  0.004934       0.04    False\n",
       "...         ...        ...      ...\n",
       "48457  0.002941       0.04    False\n",
       "48458  0.006404       0.04    False\n",
       "48459  0.010840       0.04    False\n",
       "48460  0.005397       0.04    False\n",
       "48461  0.007069       0.04    False\n",
       "\n",
       "[24231 rows x 3 columns]"
      ]
     },
     "execution_count": 35,
     "metadata": {},
     "output_type": "execute_result"
    }
   ],
   "source": [
    "IR_test = scored_test[scored_test.index >= x]\n",
    "IR_test"
   ]
  },
  {
   "cell_type": "code",
   "execution_count": 36,
   "metadata": {},
   "outputs": [
    {
     "name": "stdout",
     "output_type": "stream",
     "text": [
      "True Positives: 24229\n",
      "True Negatives: 23916\n",
      "False Negatives: 2\n",
      "False Positives: 315\n"
     ]
    }
   ],
   "source": [
    "TP = normal_test[normal_test['Anomaly'] == False]\n",
    "TP = TP['Anomaly'].count()\n",
    "print(\"True Positives: {}\".format(TP))\n",
    "\n",
    "TN = IR_test[IR_test['Anomaly'] == False]\n",
    "TN = TN['Anomaly'].count()\n",
    "print(\"True Negatives: {}\".format(TN))\n",
    "\n",
    "FN = normal_test[normal_test['Anomaly'] == True]\n",
    "FN = FN['Anomaly'].count()\n",
    "print(\"False Negatives: {}\".format(FN))\n",
    "\n",
    "FP = IR_test[IR_test['Anomaly'] == True]\n",
    "FP = FP['Anomaly'].count()\n",
    "print(\"False Positives: {}\".format(FP))"
   ]
  },
  {
   "cell_type": "code",
   "execution_count": 37,
   "metadata": {},
   "outputs": [
    {
     "name": "stdout",
     "output_type": "stream",
     "text": [
      "Precision: 98.72%\n",
      "Recall: 99.992%\n",
      "F1 Score: 99.35%\n"
     ]
    }
   ],
   "source": [
    "Precision = TP / (TP + FP)\n",
    "print(\"Precision: {:.2f}%\".format(Precision*100))\n",
    "\n",
    "Recall = TP / (TP + FN)\n",
    "print(\"Recall: {:.3f}%\".format(Recall*100))\n",
    "\n",
    "F1Score = (2*Precision*Recall)/(Precision+Recall)\n",
    "print(\"F1 Score: {:.2f}%\".format(F1Score*100))"
   ]
  },
  {
   "cell_type": "code",
   "execution_count": null,
   "metadata": {},
   "outputs": [],
   "source": []
  }
 ],
 "metadata": {
  "kernelspec": {
   "display_name": "Python 3",
   "language": "python",
   "name": "python3"
  },
  "language_info": {
   "codemirror_mode": {
    "name": "ipython",
    "version": 3
   },
   "file_extension": ".py",
   "mimetype": "text/x-python",
   "name": "python",
   "nbconvert_exporter": "python",
   "pygments_lexer": "ipython3",
   "version": "3.7.4"
  }
 },
 "nbformat": 4,
 "nbformat_minor": 4
}
