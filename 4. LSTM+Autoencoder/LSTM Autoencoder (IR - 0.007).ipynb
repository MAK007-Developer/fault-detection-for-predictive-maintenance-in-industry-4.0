{
 "cells": [
  {
   "cell_type": "code",
   "execution_count": 1,
   "metadata": {},
   "outputs": [],
   "source": [
    "#importing packages\n",
    "import pandas as pd\n",
    "import numpy as np"
   ]
  },
  {
   "cell_type": "code",
   "execution_count": 2,
   "metadata": {},
   "outputs": [],
   "source": [
    "# Importing the dataset\n",
    "X = pd.read_csv('../Datasets/NB.csv')\n",
    "X['Fault'] = 0\n",
    "\n",
    "y = pd.read_csv('../Datasets/IR - 7.csv')\n",
    "y['Fault'] = 1"
   ]
  },
  {
   "cell_type": "code",
   "execution_count": 3,
   "metadata": {},
   "outputs": [],
   "source": [
    "from sklearn.model_selection import train_test_split\n",
    "X_train, X_test = train_test_split(X, test_size = 0.2, random_state = 0)\n",
    "\n",
    "y_train, y_test = train_test_split(y, test_size = 0.2, random_state = 0)"
   ]
  },
  {
   "cell_type": "code",
   "execution_count": 4,
   "metadata": {},
   "outputs": [
    {
     "data": {
      "text/html": [
       "<div>\n",
       "<style scoped>\n",
       "    .dataframe tbody tr th:only-of-type {\n",
       "        vertical-align: middle;\n",
       "    }\n",
       "\n",
       "    .dataframe tbody tr th {\n",
       "        vertical-align: top;\n",
       "    }\n",
       "\n",
       "    .dataframe thead th {\n",
       "        text-align: right;\n",
       "    }\n",
       "</style>\n",
       "<table border=\"1\" class=\"dataframe\">\n",
       "  <thead>\n",
       "    <tr style=\"text-align: right;\">\n",
       "      <th></th>\n",
       "      <th>DE</th>\n",
       "      <th>FE</th>\n",
       "      <th>Fault</th>\n",
       "    </tr>\n",
       "  </thead>\n",
       "  <tbody>\n",
       "    <tr>\n",
       "      <th>103476</th>\n",
       "      <td>0.062585</td>\n",
       "      <td>0.041091</td>\n",
       "      <td>0</td>\n",
       "    </tr>\n",
       "    <tr>\n",
       "      <th>96984</th>\n",
       "      <td>-0.075102</td>\n",
       "      <td>-0.013765</td>\n",
       "      <td>0</td>\n",
       "    </tr>\n",
       "    <tr>\n",
       "      <th>114732</th>\n",
       "      <td>-0.048190</td>\n",
       "      <td>-0.001233</td>\n",
       "      <td>0</td>\n",
       "    </tr>\n",
       "    <tr>\n",
       "      <th>10916</th>\n",
       "      <td>0.069260</td>\n",
       "      <td>0.028558</td>\n",
       "      <td>0</td>\n",
       "    </tr>\n",
       "    <tr>\n",
       "      <th>37646</th>\n",
       "      <td>0.040054</td>\n",
       "      <td>0.065335</td>\n",
       "      <td>0</td>\n",
       "    </tr>\n",
       "    <tr>\n",
       "      <th>...</th>\n",
       "      <td>...</td>\n",
       "      <td>...</td>\n",
       "      <td>...</td>\n",
       "    </tr>\n",
       "    <tr>\n",
       "      <th>45891</th>\n",
       "      <td>0.110131</td>\n",
       "      <td>-0.312085</td>\n",
       "      <td>1</td>\n",
       "    </tr>\n",
       "    <tr>\n",
       "      <th>117952</th>\n",
       "      <td>-0.909962</td>\n",
       "      <td>-0.030202</td>\n",
       "      <td>1</td>\n",
       "    </tr>\n",
       "    <tr>\n",
       "      <th>42613</th>\n",
       "      <td>0.676380</td>\n",
       "      <td>0.007396</td>\n",
       "      <td>1</td>\n",
       "    </tr>\n",
       "    <tr>\n",
       "      <th>43567</th>\n",
       "      <td>0.011208</td>\n",
       "      <td>0.209975</td>\n",
       "      <td>1</td>\n",
       "    </tr>\n",
       "    <tr>\n",
       "      <th>68268</th>\n",
       "      <td>0.112405</td>\n",
       "      <td>0.265447</td>\n",
       "      <td>1</td>\n",
       "    </tr>\n",
       "  </tbody>\n",
       "</table>\n",
       "<p>193848 rows × 3 columns</p>\n",
       "</div>"
      ],
      "text/plain": [
       "              DE        FE  Fault\n",
       "103476  0.062585  0.041091      0\n",
       "96984  -0.075102 -0.013765      0\n",
       "114732 -0.048190 -0.001233      0\n",
       "10916   0.069260  0.028558      0\n",
       "37646   0.040054  0.065335      0\n",
       "...          ...       ...    ...\n",
       "45891   0.110131 -0.312085      1\n",
       "117952 -0.909962 -0.030202      1\n",
       "42613   0.676380  0.007396      1\n",
       "43567   0.011208  0.209975      1\n",
       "68268   0.112405  0.265447      1\n",
       "\n",
       "[193848 rows x 3 columns]"
      ]
     },
     "execution_count": 4,
     "metadata": {},
     "output_type": "execute_result"
    }
   ],
   "source": [
    "train = X_train.append(y_train)\n",
    "train"
   ]
  },
  {
   "cell_type": "code",
   "execution_count": 5,
   "metadata": {},
   "outputs": [
    {
     "data": {
      "text/html": [
       "<div>\n",
       "<style scoped>\n",
       "    .dataframe tbody tr th:only-of-type {\n",
       "        vertical-align: middle;\n",
       "    }\n",
       "\n",
       "    .dataframe tbody tr th {\n",
       "        vertical-align: top;\n",
       "    }\n",
       "\n",
       "    .dataframe thead th {\n",
       "        text-align: right;\n",
       "    }\n",
       "</style>\n",
       "<table border=\"1\" class=\"dataframe\">\n",
       "  <thead>\n",
       "    <tr style=\"text-align: right;\">\n",
       "      <th></th>\n",
       "      <th>DE</th>\n",
       "      <th>FE</th>\n",
       "      <th>Fault</th>\n",
       "    </tr>\n",
       "  </thead>\n",
       "  <tbody>\n",
       "    <tr>\n",
       "      <th>121079</th>\n",
       "      <td>0.046313</td>\n",
       "      <td>0.054651</td>\n",
       "      <td>0</td>\n",
       "    </tr>\n",
       "    <tr>\n",
       "      <th>107924</th>\n",
       "      <td>-0.015855</td>\n",
       "      <td>0.061636</td>\n",
       "      <td>0</td>\n",
       "    </tr>\n",
       "    <tr>\n",
       "      <th>22678</th>\n",
       "      <td>-0.065297</td>\n",
       "      <td>0.122862</td>\n",
       "      <td>0</td>\n",
       "    </tr>\n",
       "    <tr>\n",
       "      <th>55190</th>\n",
       "      <td>-0.112652</td>\n",
       "      <td>0.066978</td>\n",
       "      <td>0</td>\n",
       "    </tr>\n",
       "    <tr>\n",
       "      <th>92048</th>\n",
       "      <td>0.023991</td>\n",
       "      <td>0.034105</td>\n",
       "      <td>0</td>\n",
       "    </tr>\n",
       "    <tr>\n",
       "      <th>...</th>\n",
       "      <td>...</td>\n",
       "      <td>...</td>\n",
       "      <td>...</td>\n",
       "    </tr>\n",
       "    <tr>\n",
       "      <th>103358</th>\n",
       "      <td>0.019330</td>\n",
       "      <td>0.088962</td>\n",
       "      <td>1</td>\n",
       "    </tr>\n",
       "    <tr>\n",
       "      <th>54412</th>\n",
       "      <td>-0.072284</td>\n",
       "      <td>0.288664</td>\n",
       "      <td>1</td>\n",
       "    </tr>\n",
       "    <tr>\n",
       "      <th>50632</th>\n",
       "      <td>0.259571</td>\n",
       "      <td>-0.293184</td>\n",
       "      <td>1</td>\n",
       "    </tr>\n",
       "    <tr>\n",
       "      <th>89251</th>\n",
       "      <td>0.010883</td>\n",
       "      <td>-0.042324</td>\n",
       "      <td>1</td>\n",
       "    </tr>\n",
       "    <tr>\n",
       "      <th>65637</th>\n",
       "      <td>0.018030</td>\n",
       "      <td>-0.144845</td>\n",
       "      <td>1</td>\n",
       "    </tr>\n",
       "  </tbody>\n",
       "</table>\n",
       "<p>48462 rows × 3 columns</p>\n",
       "</div>"
      ],
      "text/plain": [
       "              DE        FE  Fault\n",
       "121079  0.046313  0.054651      0\n",
       "107924 -0.015855  0.061636      0\n",
       "22678  -0.065297  0.122862      0\n",
       "55190  -0.112652  0.066978      0\n",
       "92048   0.023991  0.034105      0\n",
       "...          ...       ...    ...\n",
       "103358  0.019330  0.088962      1\n",
       "54412  -0.072284  0.288664      1\n",
       "50632   0.259571 -0.293184      1\n",
       "89251   0.010883 -0.042324      1\n",
       "65637   0.018030 -0.144845      1\n",
       "\n",
       "[48462 rows x 3 columns]"
      ]
     },
     "execution_count": 5,
     "metadata": {},
     "output_type": "execute_result"
    }
   ],
   "source": [
    "test = X_test.append(y_test)\n",
    "test"
   ]
  },
  {
   "cell_type": "code",
   "execution_count": 6,
   "metadata": {},
   "outputs": [],
   "source": [
    "from sklearn.preprocessing import MinMaxScaler\n",
    "scaler = MinMaxScaler()\n",
    "train = pd.DataFrame(scaler.fit_transform(train))\n",
    "train.sample(frac=1)\n",
    "\n",
    "test = pd.DataFrame(scaler.transform(test))"
   ]
  },
  {
   "cell_type": "code",
   "execution_count": 7,
   "metadata": {},
   "outputs": [],
   "source": [
    "train = train.values.reshape(-1, 1, 3)\n",
    "\n",
    "test  = test.values.reshape(-1, 1, 3)"
   ]
  },
  {
   "cell_type": "code",
   "execution_count": 8,
   "metadata": {},
   "outputs": [
    {
     "name": "stderr",
     "output_type": "stream",
     "text": [
      "Using TensorFlow backend.\n"
     ]
    }
   ],
   "source": [
    "from keras.layers import Input, Dropout, Dense, LSTM, RepeatVector, TimeDistributed\n",
    "from keras.models import Model, Sequential, load_model\n",
    "from keras import regularizers"
   ]
  },
  {
   "cell_type": "code",
   "execution_count": 9,
   "metadata": {},
   "outputs": [
    {
     "name": "stdout",
     "output_type": "stream",
     "text": [
      "Model: \"sequential_1\"\n",
      "_________________________________________________________________\n",
      "Layer (type)                 Output Shape              Param #   \n",
      "=================================================================\n",
      "lstm_1 (LSTM)                (None, 32)                4608      \n",
      "_________________________________________________________________\n",
      "dropout_1 (Dropout)          (None, 32)                0         \n",
      "_________________________________________________________________\n",
      "repeat_vector_1 (RepeatVecto (None, 1, 32)             0         \n",
      "_________________________________________________________________\n",
      "lstm_2 (LSTM)                (None, 1, 32)             8320      \n",
      "_________________________________________________________________\n",
      "dropout_2 (Dropout)          (None, 1, 32)             0         \n",
      "_________________________________________________________________\n",
      "time_distributed_1 (TimeDist (None, 1, 3)              99        \n",
      "=================================================================\n",
      "Total params: 13,027\n",
      "Trainable params: 13,027\n",
      "Non-trainable params: 0\n",
      "_________________________________________________________________\n"
     ]
    }
   ],
   "source": [
    "# Input layer:\n",
    "model=Sequential([\n",
    "    LSTM(32, activation='relu', input_shape=(train.shape[1],train.shape[2])),\n",
    "    Dropout(0.2),\n",
    "    RepeatVector(train.shape[1]),\n",
    "    LSTM(32, activation='relu', return_sequences=True),\n",
    "    Dropout(0.2),\n",
    "    TimeDistributed(Dense(train.shape[2]))\n",
    "])\n",
    "\n",
    "model.compile(loss='mse',optimizer='adam', metrics=['accuracy'])\n",
    "model.summary()"
   ]
  },
  {
   "cell_type": "code",
   "execution_count": 10,
   "metadata": {
    "scrolled": true
   },
   "outputs": [
    {
     "name": "stdout",
     "output_type": "stream",
     "text": [
      "Train on 174463 samples, validate on 19385 samples\n",
      "Epoch 1/100\n",
      "174463/174463 [==============================] - 3s 17us/step - loss: 0.1168 - accuracy: 0.5797 - val_loss: 0.0069 - val_accuracy: 1.0000\n",
      "Epoch 2/100\n",
      "174463/174463 [==============================] - 2s 11us/step - loss: 0.0131 - accuracy: 0.7777 - val_loss: 0.0068 - val_accuracy: 1.0000\n",
      "Epoch 3/100\n",
      "174463/174463 [==============================] - 2s 10us/step - loss: 0.0108 - accuracy: 0.7797 - val_loss: 0.0059 - val_accuracy: 1.0000\n",
      "Epoch 4/100\n",
      "174463/174463 [==============================] - 2s 9us/step - loss: 0.0094 - accuracy: 0.7857 - val_loss: 0.0049 - val_accuracy: 1.0000\n",
      "Epoch 5/100\n",
      "174463/174463 [==============================] - 2s 9us/step - loss: 0.0083 - accuracy: 0.7946 - val_loss: 0.0038 - val_accuracy: 1.0000\n",
      "Epoch 6/100\n",
      "174463/174463 [==============================] - 2s 10us/step - loss: 0.0071 - accuracy: 0.8041 - val_loss: 0.0027 - val_accuracy: 1.0000\n",
      "Epoch 7/100\n",
      "174463/174463 [==============================] - 2s 11us/step - loss: 0.0063 - accuracy: 0.8135 - val_loss: 0.0022 - val_accuracy: 0.9999\n",
      "Epoch 8/100\n",
      "174463/174463 [==============================] - 2s 11us/step - loss: 0.0057 - accuracy: 0.8202 - val_loss: 0.0020 - val_accuracy: 0.9999\n",
      "Epoch 9/100\n",
      "174463/174463 [==============================] - 2s 12us/step - loss: 0.0053 - accuracy: 0.8256 - val_loss: 0.0019 - val_accuracy: 0.9999\n",
      "Epoch 10/100\n",
      "174463/174463 [==============================] - 2s 12us/step - loss: 0.0051 - accuracy: 0.8284 - val_loss: 0.0018 - val_accuracy: 0.9999\n",
      "Epoch 11/100\n",
      "174463/174463 [==============================] - 2s 9us/step - loss: 0.0048 - accuracy: 0.8299 - val_loss: 0.0018 - val_accuracy: 0.9999\n",
      "Epoch 12/100\n",
      "174463/174463 [==============================] - 2s 9us/step - loss: 0.0046 - accuracy: 0.8307 - val_loss: 0.0017 - val_accuracy: 0.9999\n",
      "Epoch 13/100\n",
      "174463/174463 [==============================] - 2s 9us/step - loss: 0.0044 - accuracy: 0.8319 - val_loss: 0.0016 - val_accuracy: 0.9999\n",
      "Epoch 14/100\n",
      "174463/174463 [==============================] - 2s 9us/step - loss: 0.0042 - accuracy: 0.8321 - val_loss: 0.0015 - val_accuracy: 1.0000\n",
      "Epoch 15/100\n",
      "174463/174463 [==============================] - 1s 9us/step - loss: 0.0039 - accuracy: 0.8318 - val_loss: 0.0014 - val_accuracy: 0.9999\n",
      "Epoch 16/100\n",
      "174463/174463 [==============================] - 2s 9us/step - loss: 0.0037 - accuracy: 0.8320 - val_loss: 0.0012 - val_accuracy: 0.9999\n",
      "Epoch 17/100\n",
      "174463/174463 [==============================] - 2s 10us/step - loss: 0.0035 - accuracy: 0.8313 - val_loss: 0.0011 - val_accuracy: 1.0000\n",
      "Epoch 18/100\n",
      "174463/174463 [==============================] - 2s 10us/step - loss: 0.0033 - accuracy: 0.8318 - val_loss: 0.0011 - val_accuracy: 1.0000\n",
      "Epoch 19/100\n",
      "174463/174463 [==============================] - 2s 10us/step - loss: 0.0032 - accuracy: 0.8331 - val_loss: 0.0010 - val_accuracy: 1.0000\n",
      "Epoch 20/100\n",
      "174463/174463 [==============================] - 2s 10us/step - loss: 0.0031 - accuracy: 0.8361 - val_loss: 0.0011 - val_accuracy: 1.0000\n",
      "Epoch 21/100\n",
      "174463/174463 [==============================] - 2s 11us/step - loss: 0.0030 - accuracy: 0.8386 - val_loss: 9.4584e-04 - val_accuracy: 1.0000\n",
      "Epoch 22/100\n",
      "174463/174463 [==============================] - 2s 10us/step - loss: 0.0029 - accuracy: 0.8432 - val_loss: 9.1583e-04 - val_accuracy: 1.0000\n",
      "Epoch 23/100\n",
      "174463/174463 [==============================] - 2s 10us/step - loss: 0.0028 - accuracy: 0.8482 - val_loss: 9.0796e-04 - val_accuracy: 1.0000\n",
      "Epoch 24/100\n",
      "174463/174463 [==============================] - 2s 9us/step - loss: 0.0027 - accuracy: 0.8521 - val_loss: 9.0641e-04 - val_accuracy: 1.0000\n",
      "Epoch 25/100\n",
      "174463/174463 [==============================] - 2s 9us/step - loss: 0.0027 - accuracy: 0.8573 - val_loss: 8.8249e-04 - val_accuracy: 1.0000\n",
      "Epoch 26/100\n",
      "174463/174463 [==============================] - 1s 9us/step - loss: 0.0026 - accuracy: 0.8620 - val_loss: 7.8388e-04 - val_accuracy: 1.0000\n",
      "Epoch 27/100\n",
      "174463/174463 [==============================] - 2s 9us/step - loss: 0.0025 - accuracy: 0.8663 - val_loss: 8.4599e-04 - val_accuracy: 1.0000\n",
      "Epoch 28/100\n",
      "174463/174463 [==============================] - 1s 9us/step - loss: 0.0025 - accuracy: 0.8690 - val_loss: 7.3801e-04 - val_accuracy: 1.0000\n",
      "Epoch 29/100\n",
      "174463/174463 [==============================] - 1s 9us/step - loss: 0.0025 - accuracy: 0.8745 - val_loss: 7.3234e-04 - val_accuracy: 1.0000\n",
      "Epoch 30/100\n",
      "174463/174463 [==============================] - 2s 9us/step - loss: 0.0025 - accuracy: 0.8756 - val_loss: 6.7208e-04 - val_accuracy: 1.0000\n",
      "Epoch 31/100\n",
      "174463/174463 [==============================] - 1s 9us/step - loss: 0.0024 - accuracy: 0.8805 - val_loss: 6.7251e-04 - val_accuracy: 1.0000\n",
      "Epoch 32/100\n",
      "174463/174463 [==============================] - 2s 9us/step - loss: 0.0024 - accuracy: 0.8820 - val_loss: 6.0790e-04 - val_accuracy: 1.0000\n",
      "Epoch 33/100\n",
      "174463/174463 [==============================] - 1s 9us/step - loss: 0.0024 - accuracy: 0.8862 - val_loss: 6.3579e-04 - val_accuracy: 1.0000\n",
      "Epoch 34/100\n",
      "174463/174463 [==============================] - 2s 9us/step - loss: 0.0024 - accuracy: 0.8847 - val_loss: 6.2154e-04 - val_accuracy: 1.0000\n",
      "Epoch 35/100\n",
      "174463/174463 [==============================] - 1s 9us/step - loss: 0.0024 - accuracy: 0.8876 - val_loss: 6.1472e-04 - val_accuracy: 1.0000\n",
      "Epoch 36/100\n",
      "174463/174463 [==============================] - 1s 9us/step - loss: 0.0024 - accuracy: 0.8885 - val_loss: 5.6741e-04 - val_accuracy: 1.0000\n",
      "Epoch 37/100\n",
      "174463/174463 [==============================] - 1s 9us/step - loss: 0.0024 - accuracy: 0.8888 - val_loss: 5.3232e-04 - val_accuracy: 1.0000\n",
      "Epoch 38/100\n",
      "174463/174463 [==============================] - 1s 8us/step - loss: 0.0024 - accuracy: 0.8895 - val_loss: 5.6660e-04 - val_accuracy: 1.0000\n",
      "Epoch 39/100\n",
      "174463/174463 [==============================] - 1s 9us/step - loss: 0.0023 - accuracy: 0.8903 - val_loss: 5.4846e-04 - val_accuracy: 1.0000\n",
      "Epoch 40/100\n",
      "174463/174463 [==============================] - 1s 9us/step - loss: 0.0023 - accuracy: 0.8903 - val_loss: 4.9968e-04 - val_accuracy: 1.0000\n",
      "Epoch 41/100\n",
      "174463/174463 [==============================] - 1s 9us/step - loss: 0.0023 - accuracy: 0.8890 - val_loss: 4.4880e-04 - val_accuracy: 1.0000\n",
      "Epoch 42/100\n",
      "174463/174463 [==============================] - 1s 9us/step - loss: 0.0023 - accuracy: 0.8897 - val_loss: 4.3877e-04 - val_accuracy: 1.0000\n",
      "Epoch 43/100\n",
      "174463/174463 [==============================] - 1s 9us/step - loss: 0.0023 - accuracy: 0.8906 - val_loss: 4.5475e-04 - val_accuracy: 1.0000\n",
      "Epoch 44/100\n",
      "174463/174463 [==============================] - 1s 9us/step - loss: 0.0023 - accuracy: 0.8897 - val_loss: 4.5165e-04 - val_accuracy: 1.0000\n",
      "Epoch 45/100\n",
      "174463/174463 [==============================] - 2s 9us/step - loss: 0.0023 - accuracy: 0.8920 - val_loss: 4.9933e-04 - val_accuracy: 1.0000\n",
      "Epoch 46/100\n",
      "174463/174463 [==============================] - 2s 9us/step - loss: 0.0023 - accuracy: 0.8927 - val_loss: 4.7379e-04 - val_accuracy: 1.0000\n",
      "Epoch 47/100\n",
      "174463/174463 [==============================] - 2s 11us/step - loss: 0.0023 - accuracy: 0.8924 - val_loss: 4.6136e-04 - val_accuracy: 1.0000\n",
      "Epoch 48/100\n",
      "174463/174463 [==============================] - 2s 11us/step - loss: 0.0023 - accuracy: 0.8920 - val_loss: 3.9729e-04 - val_accuracy: 1.0000\n",
      "Epoch 49/100\n",
      "174463/174463 [==============================] - 2s 10us/step - loss: 0.0023 - accuracy: 0.8941 - val_loss: 4.4466e-04 - val_accuracy: 1.0000\n",
      "Epoch 50/100\n",
      "174463/174463 [==============================] - 2s 9us/step - loss: 0.0023 - accuracy: 0.8915 - val_loss: 4.4479e-04 - val_accuracy: 1.0000\n",
      "Epoch 51/100\n",
      "174463/174463 [==============================] - 2s 10us/step - loss: 0.0023 - accuracy: 0.8910 - val_loss: 4.2911e-04 - val_accuracy: 1.0000\n",
      "Epoch 52/100\n",
      "174463/174463 [==============================] - 2s 11us/step - loss: 0.0023 - accuracy: 0.8909 - val_loss: 4.4612e-04 - val_accuracy: 1.0000\n",
      "Epoch 53/100\n",
      "174463/174463 [==============================] - 2s 10us/step - loss: 0.0023 - accuracy: 0.8928 - val_loss: 4.3715e-04 - val_accuracy: 1.0000\n",
      "Epoch 54/100\n"
     ]
    },
    {
     "name": "stdout",
     "output_type": "stream",
     "text": [
      "174463/174463 [==============================] - 2s 10us/step - loss: 0.0023 - accuracy: 0.8928 - val_loss: 4.4886e-04 - val_accuracy: 1.0000\n",
      "Epoch 55/100\n",
      "174463/174463 [==============================] - 2s 9us/step - loss: 0.0023 - accuracy: 0.8922 - val_loss: 4.1527e-04 - val_accuracy: 1.0000\n",
      "Epoch 56/100\n",
      "174463/174463 [==============================] - 2s 9us/step - loss: 0.0023 - accuracy: 0.8932 - val_loss: 3.8682e-04 - val_accuracy: 1.0000\n",
      "Epoch 57/100\n",
      "174463/174463 [==============================] - 2s 9us/step - loss: 0.0023 - accuracy: 0.8919 - val_loss: 4.3105e-04 - val_accuracy: 1.0000\n",
      "Epoch 58/100\n",
      "174463/174463 [==============================] - 2s 9us/step - loss: 0.0023 - accuracy: 0.8945 - val_loss: 4.4402e-04 - val_accuracy: 1.0000\n",
      "Epoch 59/100\n",
      "174463/174463 [==============================] - 2s 9us/step - loss: 0.0023 - accuracy: 0.8943 - val_loss: 4.4650e-04 - val_accuracy: 1.0000\n",
      "Epoch 60/100\n",
      "174463/174463 [==============================] - 2s 10us/step - loss: 0.0023 - accuracy: 0.8930 - val_loss: 4.2120e-04 - val_accuracy: 1.0000\n",
      "Epoch 61/100\n",
      "174463/174463 [==============================] - 2s 9us/step - loss: 0.0022 - accuracy: 0.8941 - val_loss: 3.7101e-04 - val_accuracy: 1.0000\n",
      "Epoch 62/100\n",
      "174463/174463 [==============================] - 2s 9us/step - loss: 0.0022 - accuracy: 0.8933 - val_loss: 3.6028e-04 - val_accuracy: 1.0000\n",
      "Epoch 63/100\n",
      "174463/174463 [==============================] - 2s 9us/step - loss: 0.0022 - accuracy: 0.8951 - val_loss: 3.9251e-04 - val_accuracy: 1.0000\n",
      "Epoch 64/100\n",
      "174463/174463 [==============================] - 2s 9us/step - loss: 0.0023 - accuracy: 0.8963 - val_loss: 3.9393e-04 - val_accuracy: 1.0000\n",
      "Epoch 65/100\n",
      "174463/174463 [==============================] - 2s 9us/step - loss: 0.0022 - accuracy: 0.8962 - val_loss: 4.7945e-04 - val_accuracy: 1.0000\n",
      "Epoch 66/100\n",
      "174463/174463 [==============================] - 2s 9us/step - loss: 0.0022 - accuracy: 0.8951 - val_loss: 4.4067e-04 - val_accuracy: 1.0000\n",
      "Epoch 67/100\n",
      "174463/174463 [==============================] - 2s 9us/step - loss: 0.0022 - accuracy: 0.8984 - val_loss: 3.8482e-04 - val_accuracy: 1.0000\n",
      "Epoch 68/100\n",
      "174463/174463 [==============================] - 2s 9us/step - loss: 0.0022 - accuracy: 0.8982 - val_loss: 3.3099e-04 - val_accuracy: 1.0000\n",
      "Epoch 69/100\n",
      "174463/174463 [==============================] - 2s 9us/step - loss: 0.0022 - accuracy: 0.8979 - val_loss: 3.6308e-04 - val_accuracy: 1.0000\n",
      "Epoch 70/100\n",
      "174463/174463 [==============================] - 2s 9us/step - loss: 0.0022 - accuracy: 0.9006 - val_loss: 3.2691e-04 - val_accuracy: 1.0000\n",
      "Epoch 71/100\n",
      "174463/174463 [==============================] - 2s 9us/step - loss: 0.0022 - accuracy: 0.9013 - val_loss: 3.6919e-04 - val_accuracy: 1.0000\n",
      "Epoch 72/100\n",
      "174463/174463 [==============================] - 2s 9us/step - loss: 0.0022 - accuracy: 0.9021 - val_loss: 3.4295e-04 - val_accuracy: 1.0000\n",
      "Epoch 73/100\n",
      "174463/174463 [==============================] - 2s 9us/step - loss: 0.0022 - accuracy: 0.9025 - val_loss: 3.0920e-04 - val_accuracy: 1.0000\n",
      "Epoch 74/100\n",
      "174463/174463 [==============================] - 2s 9us/step - loss: 0.0022 - accuracy: 0.9032 - val_loss: 3.1611e-04 - val_accuracy: 1.0000\n",
      "Epoch 75/100\n",
      "174463/174463 [==============================] - 2s 9us/step - loss: 0.0022 - accuracy: 0.9044 - val_loss: 3.0476e-04 - val_accuracy: 1.0000\n",
      "Epoch 76/100\n",
      "174463/174463 [==============================] - 2s 9us/step - loss: 0.0022 - accuracy: 0.9044 - val_loss: 3.0688e-04 - val_accuracy: 1.0000\n",
      "Epoch 77/100\n",
      "174463/174463 [==============================] - 2s 10us/step - loss: 0.0022 - accuracy: 0.9079 - val_loss: 3.8641e-04 - val_accuracy: 1.0000\n",
      "Epoch 78/100\n",
      "174463/174463 [==============================] - 2s 10us/step - loss: 0.0022 - accuracy: 0.9065 - val_loss: 3.1415e-04 - val_accuracy: 1.0000\n",
      "Epoch 79/100\n",
      "174463/174463 [==============================] - 2s 11us/step - loss: 0.0022 - accuracy: 0.9083 - val_loss: 3.1698e-04 - val_accuracy: 1.0000\n",
      "Epoch 80/100\n",
      "174463/174463 [==============================] - 2s 11us/step - loss: 0.0022 - accuracy: 0.9087 - val_loss: 3.3404e-04 - val_accuracy: 1.0000\n",
      "Epoch 81/100\n",
      "174463/174463 [==============================] - 2s 10us/step - loss: 0.0022 - accuracy: 0.9076 - val_loss: 3.0496e-04 - val_accuracy: 1.0000\n",
      "Epoch 82/100\n",
      "174463/174463 [==============================] - 2s 10us/step - loss: 0.0022 - accuracy: 0.9082 - val_loss: 2.7338e-04 - val_accuracy: 1.0000\n",
      "Epoch 83/100\n",
      "174463/174463 [==============================] - 2s 9us/step - loss: 0.0022 - accuracy: 0.9076 - val_loss: 3.0654e-04 - val_accuracy: 1.0000\n",
      "Epoch 84/100\n",
      "174463/174463 [==============================] - 2s 9us/step - loss: 0.0022 - accuracy: 0.9075 - val_loss: 2.5560e-04 - val_accuracy: 1.0000\n",
      "Epoch 85/100\n",
      "174463/174463 [==============================] - 2s 10us/step - loss: 0.0022 - accuracy: 0.9079 - val_loss: 3.0277e-04 - val_accuracy: 1.0000\n",
      "Epoch 86/100\n",
      "174463/174463 [==============================] - 2s 10us/step - loss: 0.0022 - accuracy: 0.9100 - val_loss: 2.7286e-04 - val_accuracy: 1.0000\n",
      "Epoch 87/100\n",
      "174463/174463 [==============================] - 2s 9us/step - loss: 0.0022 - accuracy: 0.9099 - val_loss: 2.7861e-04 - val_accuracy: 1.0000\n",
      "Epoch 88/100\n",
      "174463/174463 [==============================] - 2s 9us/step - loss: 0.0022 - accuracy: 0.9115 - val_loss: 3.0626e-04 - val_accuracy: 1.0000\n",
      "Epoch 89/100\n",
      "174463/174463 [==============================] - 2s 10us/step - loss: 0.0022 - accuracy: 0.9091 - val_loss: 2.7342e-04 - val_accuracy: 1.0000\n",
      "Epoch 90/100\n",
      "174463/174463 [==============================] - 2s 10us/step - loss: 0.0022 - accuracy: 0.9119 - val_loss: 3.4597e-04 - val_accuracy: 1.0000\n",
      "Epoch 91/100\n",
      "174463/174463 [==============================] - 2s 10us/step - loss: 0.0022 - accuracy: 0.9116 - val_loss: 2.9041e-04 - val_accuracy: 1.0000\n",
      "Epoch 92/100\n",
      "174463/174463 [==============================] - 2s 10us/step - loss: 0.0022 - accuracy: 0.9118 - val_loss: 2.8294e-04 - val_accuracy: 1.0000\n",
      "Epoch 93/100\n",
      "174463/174463 [==============================] - 2s 10us/step - loss: 0.0022 - accuracy: 0.9108 - val_loss: 2.6540e-04 - val_accuracy: 1.0000\n",
      "Epoch 94/100\n",
      "174463/174463 [==============================] - 2s 10us/step - loss: 0.0022 - accuracy: 0.9125 - val_loss: 3.1924e-04 - val_accuracy: 1.0000\n",
      "Epoch 95/100\n",
      "174463/174463 [==============================] - 2s 10us/step - loss: 0.0022 - accuracy: 0.9126 - val_loss: 3.5147e-04 - val_accuracy: 1.0000\n",
      "Epoch 96/100\n",
      "174463/174463 [==============================] - 2s 10us/step - loss: 0.0022 - accuracy: 0.9130 - val_loss: 2.5494e-04 - val_accuracy: 1.0000\n",
      "Epoch 97/100\n",
      "174463/174463 [==============================] - 2s 11us/step - loss: 0.0022 - accuracy: 0.9128 - val_loss: 3.5300e-04 - val_accuracy: 1.0000\n",
      "Epoch 98/100\n",
      "174463/174463 [==============================] - 2s 11us/step - loss: 0.0022 - accuracy: 0.9134 - val_loss: 2.9931e-04 - val_accuracy: 1.0000\n",
      "Epoch 99/100\n",
      "174463/174463 [==============================] - 2s 10us/step - loss: 0.0022 - accuracy: 0.9143 - val_loss: 3.0817e-04 - val_accuracy: 1.0000\n",
      "Epoch 100/100\n",
      "174463/174463 [==============================] - 2s 9us/step - loss: 0.0022 - accuracy: 0.9134 - val_loss: 2.5353e-04 - val_accuracy: 1.0000\n"
     ]
    }
   ],
   "source": [
    "# Train model for 100 epochs, batch size of 1000: \n",
    "NUM_EPOCHS=100\n",
    "BATCH_SIZE=1000\n",
    "\n",
    "history=model.fit(train,train, \n",
    "                  batch_size=BATCH_SIZE, \n",
    "                  epochs=NUM_EPOCHS,\n",
    "                  validation_split=0.1,\n",
    "                  shuffle=True)"
   ]
  },
  {
   "cell_type": "code",
   "execution_count": 11,
   "metadata": {},
   "outputs": [
    {
     "data": {
      "image/png": "[encoded data removed]",
      "text/plain": [
       "<Figure size 432x288 with 1 Axes>"
      ]
     },
     "metadata": {
      "needs_background": "light"
     },
     "output_type": "display_data"
    }
   ],
   "source": [
    "import matplotlib.pyplot as plt\n",
    "\n",
    "plt.plot(history.history['loss'], label='Training loss')\n",
    "plt.plot(history.history['val_loss'], label='Validation loss')\n",
    "plt.legend(loc='upper right')\n",
    "plt.xlabel('Epochs')\n",
    "plt.ylabel('Loss [mse]')\n",
    "plt.show()"
   ]
  },
  {
   "cell_type": "code",
   "execution_count": 12,
   "metadata": {},
   "outputs": [],
   "source": [
    "pred_train = model.predict(train)"
   ]
  },
  {
   "cell_type": "code",
   "execution_count": 13,
   "metadata": {},
   "outputs": [],
   "source": [
    "pred_train = pred_train.reshape(pred_train.shape[0],pred_train.shape[2])\n",
    "train = train.reshape(train.shape[0],train.shape[2])"
   ]
  },
  {
   "cell_type": "code",
   "execution_count": 14,
   "metadata": {},
   "outputs": [
    {
     "data": {
      "image/png": "[encoded data removed]",
      "text/plain": [
       "<Figure size 432x288 with 1 Axes>"
      ]
     },
     "metadata": {
      "needs_background": "light"
     },
     "output_type": "display_data"
    }
   ],
   "source": [
    "import seaborn as sns\n",
    "\n",
    "scored = np.mean(np.abs(pred_train-train), axis = 1)\n",
    "plt.figure()\n",
    "g = sns.distplot(scored, bins = 50, kde= True, color = 'blue');\n",
    "plt.title('Loss Distribution')\n",
    "plt.xlabel('Loss (MAE)')\n",
    "plt.show()"
   ]
  },
  {
   "cell_type": "code",
   "execution_count": 15,
   "metadata": {},
   "outputs": [],
   "source": [
    "TH = 0.04\n",
    "pred_train = pd.DataFrame(pred_train)\n",
    "scored_train = pd.DataFrame()\n",
    "scored_train['Loss_mae'] = np.mean(np.abs(pred_train-train), axis = 1)\n",
    "scored_train['Threshold'] = TH\n",
    "scored_train['Anomaly'] = scored_train['Loss_mae'] > scored_train['Threshold']"
   ]
  },
  {
   "cell_type": "code",
   "execution_count": 16,
   "metadata": {},
   "outputs": [
    {
     "data": {
      "text/plain": [
       "0.009472835516744901"
      ]
     },
     "execution_count": 16,
     "metadata": {},
     "output_type": "execute_result"
    }
   ],
   "source": [
    "scored_train['Loss_mae'].mean()"
   ]
  },
  {
   "cell_type": "code",
   "execution_count": 17,
   "metadata": {},
   "outputs": [
    {
     "data": {
      "text/plain": [
       "Text(0, 0.5, 'Loss (MAE)')"
      ]
     },
     "execution_count": 17,
     "metadata": {},
     "output_type": "execute_result"
    },
    {
     "data": {
      "image/png": "[encoded data removed]",
      "text/plain": [
       "<Figure size 1152x288 with 1 Axes>"
      ]
     },
     "metadata": {
      "needs_background": "light"
     },
     "output_type": "display_data"
    }
   ],
   "source": [
    "scored_train.plot(logy=True,  figsize = (16,4), xlim =[0,len(scored_train)])\n",
    "plt.xlabel('Data points')\n",
    "plt.ylabel('Loss (MAE)')"
   ]
  },
  {
   "cell_type": "code",
   "execution_count": 18,
   "metadata": {},
   "outputs": [
    {
     "data": {
      "text/html": [
       "<div>\n",
       "<style scoped>\n",
       "    .dataframe tbody tr th:only-of-type {\n",
       "        vertical-align: middle;\n",
       "    }\n",
       "\n",
       "    .dataframe tbody tr th {\n",
       "        vertical-align: top;\n",
       "    }\n",
       "\n",
       "    .dataframe thead th {\n",
       "        text-align: right;\n",
       "    }\n",
       "</style>\n",
       "<table border=\"1\" class=\"dataframe\">\n",
       "  <thead>\n",
       "    <tr style=\"text-align: right;\">\n",
       "      <th></th>\n",
       "      <th>Loss_mae</th>\n",
       "      <th>Threshold</th>\n",
       "      <th>Anomaly</th>\n",
       "    </tr>\n",
       "  </thead>\n",
       "  <tbody>\n",
       "    <tr>\n",
       "      <th>0</th>\n",
       "      <td>0.007237</td>\n",
       "      <td>0.04</td>\n",
       "      <td>False</td>\n",
       "    </tr>\n",
       "    <tr>\n",
       "      <th>1</th>\n",
       "      <td>0.014035</td>\n",
       "      <td>0.04</td>\n",
       "      <td>False</td>\n",
       "    </tr>\n",
       "    <tr>\n",
       "      <th>2</th>\n",
       "      <td>0.008524</td>\n",
       "      <td>0.04</td>\n",
       "      <td>False</td>\n",
       "    </tr>\n",
       "    <tr>\n",
       "      <th>3</th>\n",
       "      <td>0.007753</td>\n",
       "      <td>0.04</td>\n",
       "      <td>False</td>\n",
       "    </tr>\n",
       "    <tr>\n",
       "      <th>4</th>\n",
       "      <td>0.006472</td>\n",
       "      <td>0.04</td>\n",
       "      <td>False</td>\n",
       "    </tr>\n",
       "    <tr>\n",
       "      <th>...</th>\n",
       "      <td>...</td>\n",
       "      <td>...</td>\n",
       "      <td>...</td>\n",
       "    </tr>\n",
       "    <tr>\n",
       "      <th>193843</th>\n",
       "      <td>0.012889</td>\n",
       "      <td>0.04</td>\n",
       "      <td>False</td>\n",
       "    </tr>\n",
       "    <tr>\n",
       "      <th>193844</th>\n",
       "      <td>0.024546</td>\n",
       "      <td>0.04</td>\n",
       "      <td>False</td>\n",
       "    </tr>\n",
       "    <tr>\n",
       "      <th>193845</th>\n",
       "      <td>0.014125</td>\n",
       "      <td>0.04</td>\n",
       "      <td>False</td>\n",
       "    </tr>\n",
       "    <tr>\n",
       "      <th>193846</th>\n",
       "      <td>0.004551</td>\n",
       "      <td>0.04</td>\n",
       "      <td>False</td>\n",
       "    </tr>\n",
       "    <tr>\n",
       "      <th>193847</th>\n",
       "      <td>0.005780</td>\n",
       "      <td>0.04</td>\n",
       "      <td>False</td>\n",
       "    </tr>\n",
       "  </tbody>\n",
       "</table>\n",
       "<p>193848 rows × 3 columns</p>\n",
       "</div>"
      ],
      "text/plain": [
       "        Loss_mae  Threshold  Anomaly\n",
       "0       0.007237       0.04    False\n",
       "1       0.014035       0.04    False\n",
       "2       0.008524       0.04    False\n",
       "3       0.007753       0.04    False\n",
       "4       0.006472       0.04    False\n",
       "...          ...        ...      ...\n",
       "193843  0.012889       0.04    False\n",
       "193844  0.024546       0.04    False\n",
       "193845  0.014125       0.04    False\n",
       "193846  0.004551       0.04    False\n",
       "193847  0.005780       0.04    False\n",
       "\n",
       "[193848 rows x 3 columns]"
      ]
     },
     "execution_count": 18,
     "metadata": {},
     "output_type": "execute_result"
    }
   ],
   "source": [
    "scored_train"
   ]
  },
  {
   "cell_type": "code",
   "execution_count": 19,
   "metadata": {},
   "outputs": [
    {
     "name": "stdout",
     "output_type": "stream",
     "text": [
      "        Loss_mae  Threshold  Anomaly\n",
      "96942   0.062043       0.04     True\n",
      "96957   0.074328       0.04     True\n",
      "97034   0.081647       0.04     True\n",
      "97081   0.041097       0.04     True\n",
      "97180   0.051726       0.04     True\n",
      "...          ...        ...      ...\n",
      "193452  0.070449       0.04     True\n",
      "193503  0.051544       0.04     True\n",
      "193550  0.054865       0.04     True\n",
      "193607  0.045948       0.04     True\n",
      "193780  0.045385       0.04     True\n",
      "\n",
      "[1603 rows x 3 columns]\n",
      "(1603, 3)\n"
     ]
    }
   ],
   "source": [
    "anomalies = scored_train[scored_train['Anomaly'] == True]\n",
    "print(anomalies)\n",
    "print(anomalies.shape)"
   ]
  },
  {
   "cell_type": "code",
   "execution_count": null,
   "metadata": {},
   "outputs": [],
   "source": [
    "f, (ax1) = plt.subplots(figsize=(16, 4))\n",
    "ax1.plot(scored_train.index, scored_train.Loss_mae, label='Loss(MAE)');\n",
    "ax1.plot(scored_train.index, scored_train.Threshold, label='Threshold')\n",
    "g = sns.scatterplot(x=anomalies.index , y=anomalies.Loss_mae, label='anomaly', color='red')\n",
    "g.set(xlim = (0, len(scored_train.index)))\n",
    "plt.title('Anomalies')\n",
    "plt.xlabel('Data points')\n",
    "plt.ylabel('Loss (MAE)')\n",
    "plt.legend();"
   ]
  },
  {
   "cell_type": "code",
   "execution_count": null,
   "metadata": {},
   "outputs": [],
   "source": [
    "pred_test = model.predict(test)"
   ]
  },
  {
   "cell_type": "code",
   "execution_count": null,
   "metadata": {},
   "outputs": [],
   "source": [
    "score = model.evaluate(test,test)\n",
    "score"
   ]
  },
  {
   "cell_type": "code",
   "execution_count": null,
   "metadata": {},
   "outputs": [],
   "source": [
    "pred_test = pred_test.reshape(pred_test.shape[0],pred_test.shape[2])\n",
    "test = test.reshape(test.shape[0],test.shape[2])"
   ]
  },
  {
   "cell_type": "code",
   "execution_count": null,
   "metadata": {},
   "outputs": [],
   "source": [
    "import seaborn as sns\n",
    "\n",
    "scored_test = np.mean(np.abs(pred_test-test), axis = 1)\n",
    "plt.figure()\n",
    "g = sns.distplot(scored_test, bins = 10, kde= True);\n",
    "plt.title('Loss Distribution')\n",
    "plt.xlabel('Loss (MAE)')\n",
    "plt.show()"
   ]
  },
  {
   "cell_type": "code",
   "execution_count": null,
   "metadata": {},
   "outputs": [],
   "source": [
    "scored_test = pd.DataFrame()\n",
    "scored_test['Loss_mae'] = np.mean(np.abs(pred_test-test), axis = 1)\n",
    "scored_test['Threshold'] = TH\n",
    "scored_test['Anomaly'] = scored_test['Loss_mae'] > scored_test['Threshold']\n",
    "\n",
    "scored_test"
   ]
  },
  {
   "cell_type": "code",
   "execution_count": null,
   "metadata": {},
   "outputs": [],
   "source": [
    "scored_test['Loss_mae'].mean()"
   ]
  },
  {
   "cell_type": "code",
   "execution_count": null,
   "metadata": {},
   "outputs": [],
   "source": [
    "scored_test.plot(logy=True,  figsize = (16,4), xlim =[0,len(scored_test)])\n",
    "plt.xlabel('Data points')\n",
    "plt.ylabel('Loss (MAE)')"
   ]
  },
  {
   "cell_type": "code",
   "execution_count": null,
   "metadata": {},
   "outputs": [],
   "source": [
    "IR_anomalies = scored_test[scored_test['Anomaly'] == True]\n",
    "print(IR_anomalies)\n",
    "print(IR_anomalies.shape)"
   ]
  },
  {
   "cell_type": "code",
   "execution_count": null,
   "metadata": {},
   "outputs": [],
   "source": [
    "f, (ax2) = plt.subplots(figsize=(18, 6))\n",
    "ax2.plot(scored_test.index, scored_test.Loss_mae, label='Loss(MAE)');\n",
    "ax2.plot(scored_test.index, scored_test.Threshold, label='Threshold')\n",
    "g = sns.scatterplot(x=IR_anomalies.index , y=IR_anomalies.Loss_mae, label='anomaly', color='red')\n",
    "g.set(xlim = (0, len(scored_test.index)))\n",
    "plt.title('Anomalies')\n",
    "plt.xlabel('Data points')\n",
    "plt.ylabel('Loss (MAE)')\n",
    "plt.legend();"
   ]
  },
  {
   "cell_type": "code",
   "execution_count": null,
   "metadata": {},
   "outputs": [],
   "source": [
    "print(score[1])"
   ]
  },
  {
   "cell_type": "code",
   "execution_count": null,
   "metadata": {},
   "outputs": [],
   "source": [
    "print(\"Accuracy: {:.2f}%\".format(score[1]*100))"
   ]
  },
  {
   "cell_type": "code",
   "execution_count": null,
   "metadata": {},
   "outputs": [],
   "source": [
    "print(\"Anomalies: {}\".format(IR_anomalies['Anomaly'].count()))"
   ]
  },
  {
   "cell_type": "code",
   "execution_count": null,
   "metadata": {},
   "outputs": [],
   "source": []
  }
 ],
 "metadata": {
  "kernelspec": {
   "display_name": "Python 3",
   "language": "python",
   "name": "python3"
  },
  "language_info": {
   "codemirror_mode": {
    "name": "ipython",
    "version": 3
   },
   "file_extension": ".py",
   "mimetype": "text/x-python",
   "name": "python",
   "nbconvert_exporter": "python",
   "pygments_lexer": "ipython3",
   "version": "3.7.4"
  }
 },
 "nbformat": 4,
 "nbformat_minor": 4
}
